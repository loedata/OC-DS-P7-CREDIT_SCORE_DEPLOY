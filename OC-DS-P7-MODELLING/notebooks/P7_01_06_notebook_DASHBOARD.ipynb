{
 "cells": [
  {
   "cell_type": "markdown",
   "id": "8918f187",
   "metadata": {},
   "source": [
    "# <span style='color:SteelBlue'>P7 - Implémentez un modèle de scoring</span>"
   ]
  },
  {
   "attachments": {
    "image.png": {
     "image/png": "[encoded data removed]"
    }
   },
   "cell_type": "markdown",
   "id": "7dc22cfe",
   "metadata": {},
   "source": [
    "![image.png](attachment:image.png)"
   ]
  },
  {
   "cell_type": "markdown",
   "id": "a3d2b43d",
   "metadata": {},
   "source": [
    " # <span class='bg-primary'>P7_01_06 - DASHBOARD</span>"
   ]
  },
  {
   "cell_type": "markdown",
   "id": "d7932ba7",
   "metadata": {},
   "source": [
    "Ce notebook traite de la préparation des différents champs et des graphiques du jeu de test pour affichage dans le dashboard.\n",
    "\n",
    "En particulier :\n",
    "- **jeu de test** : récupération des champs à afficher dans le dashboard sous une forme compréhensible (ex : âge en années plutôt qu'en nombre de jour, sexe en Féminin/Masculin plutôt que 0/1).\n",
    "- **interprétabilité/transparence** :\n",
    "    - récupération des 10 variables les plus importantes pour créer des graphiques pour chacune des ces variables en comparant les résultats des défaillants/non défaillant, de la moyenne global sur tous les clients pour situer la position du client à qui on accordera ou non le prêt.\n",
    "    - récupération des 10 voisins les plus proches sur ces 10 variables pour le situer parmi ces 10 voisins ceux qui ont été défaillants ou non.\n",
    "    - situer le patient parmi les défaillants ou non défaillants sur les variables âge, sexe, catégorie socio-professionnelle, revenus, montant du crédit, durée du crédit..."
   ]
  },
  {
   "cell_type": "markdown",
   "id": "238ee5c7",
   "metadata": {},
   "source": [
    "## <span style='background:Thistle'>Sommaire du notebook</span> "
   ]
  },
  {
   "cell_type": "code",
   "execution_count": 1,
   "id": "6a41c6b1",
   "metadata": {
    "run_control": {
     "marked": true
    },
    "scrolled": false
   },
   "outputs": [
    {
     "data": {
      "text/html": [
       "<div id=\"my_id_menu_nb\">run previous cell, wait for 2 seconds</div>\n",
       "<script>\n",
       "function repeat_indent_string(n){\n",
       "    var a = \"\" ;\n",
       "    for ( ; n > 0 ; --n)\n",
       "        a += \"    \";\n",
       "    return a;\n",
       "}\n",
       "// look up into all sections and builds an automated menu //\n",
       "var update_menu_string = function(begin, lfirst, llast, sformat, send, keep_item, begin_format, end_format) {\n",
       "    var anchors = document.getElementsByClassName(\"section\");\n",
       "    if (anchors.length == 0) {\n",
       "        anchors = document.getElementsByClassName(\"text_cell_render rendered_html\");\n",
       "    }\n",
       "    var i,t;\n",
       "    var text_menu = begin;\n",
       "    var text_memo = \"<pre>\\nlength:\" + anchors.length + \"\\n\";\n",
       "    var ind = \"\";\n",
       "    var memo_level = 1;\n",
       "    var href;\n",
       "    var tags = [];\n",
       "    var main_item = 0;\n",
       "    var format_open = 0;\n",
       "    for (i = 0; i <= llast; i++)\n",
       "        tags.push(\"h\" + i);\n",
       "\n",
       "    for (i = 0; i < anchors.length; i++) {\n",
       "        text_memo += \"**\" + anchors[i].id + \"--\\n\";\n",
       "\n",
       "        var child = null;\n",
       "        for(t = 0; t < tags.length; t++) {\n",
       "            var r = anchors[i].getElementsByTagName(tags[t]);\n",
       "            if (r.length > 0) {\n",
       "child = r[0];\n",
       "break;\n",
       "            }\n",
       "        }\n",
       "        if (child == null) {\n",
       "            text_memo += \"null\\n\";\n",
       "            continue;\n",
       "        }\n",
       "        if (anchors[i].hasAttribute(\"id\")) {\n",
       "            // when converted in RST\n",
       "            href = anchors[i].id;\n",
       "            text_memo += \"#1-\" + href;\n",
       "            // passer à child suivant (le chercher)\n",
       "        }\n",
       "        else if (child.hasAttribute(\"id\")) {\n",
       "            // in a notebook\n",
       "            href = child.id;\n",
       "            text_memo += \"#2-\" + href;\n",
       "        }\n",
       "        else {\n",
       "            text_memo += \"#3-\" + \"*\" + \"\\n\";\n",
       "            continue;\n",
       "        }\n",
       "        var title = child.textContent;\n",
       "        var level = parseInt(child.tagName.substring(1,2));\n",
       "\n",
       "        text_memo += \"--\" + level + \"?\" + lfirst + \"--\" + title + \"\\n\";\n",
       "\n",
       "        if ((level < lfirst) || (level > llast)) {\n",
       "            continue ;\n",
       "        }\n",
       "        if (title.endsWith('¶')) {\n",
       "            title = title.substring(0,title.length-1).replace(\"<\", \"&lt;\")\n",
       "         .replace(\">\", \"&gt;\").replace(\"&\", \"&amp;\");\n",
       "        }\n",
       "        if (title.length == 0) {\n",
       "            continue;\n",
       "        }\n",
       "\n",
       "        while (level < memo_level) {\n",
       "            text_menu += end_format + \"</ul>\\n\";\n",
       "            format_open -= 1;\n",
       "            memo_level -= 1;\n",
       "        }\n",
       "        if (level == lfirst) {\n",
       "            main_item += 1;\n",
       "        }\n",
       "        if (keep_item != -1 && main_item != keep_item + 1) {\n",
       "            // alert(main_item + \" - \" + level + \" - \" + keep_item);\n",
       "            continue;\n",
       "        }\n",
       "        while (level > memo_level) {\n",
       "            text_menu += \"<ul>\\n\";\n",
       "            memo_level += 1;\n",
       "        }\n",
       "        text_menu += repeat_indent_string(level-2);\n",
       "        text_menu += begin_format + sformat.replace(\"__HREF__\", href).replace(\"__TITLE__\", title);\n",
       "        format_open += 1;\n",
       "    }\n",
       "    while (1 < memo_level) {\n",
       "        text_menu += end_format + \"</ul>\\n\";\n",
       "        memo_level -= 1;\n",
       "        format_open -= 1;\n",
       "    }\n",
       "    text_menu += send;\n",
       "    //text_menu += \"\\n\" + text_memo;\n",
       "\n",
       "    while (format_open > 0) {\n",
       "        text_menu += end_format;\n",
       "        format_open -= 1;\n",
       "    }\n",
       "    return text_menu;\n",
       "};\n",
       "var update_menu = function() {\n",
       "    var sbegin = \"\";\n",
       "    var sformat = '<a href=\"#__HREF__\">__TITLE__</a>';\n",
       "    var send = \"\";\n",
       "    var begin_format = '<li>';\n",
       "    var end_format = '</li>';\n",
       "    var keep_item = -1;\n",
       "    var text_menu = update_menu_string(sbegin, 2, 4, sformat, send, keep_item,\n",
       "       begin_format, end_format);\n",
       "    var menu = document.getElementById(\"my_id_menu_nb\");\n",
       "    menu.innerHTML=text_menu;\n",
       "};\n",
       "window.setTimeout(update_menu,2000);\n",
       "            </script>"
      ],
      "text/plain": [
       "<IPython.core.display.HTML object>"
      ]
     },
     "execution_count": 1,
     "metadata": {},
     "output_type": "execute_result"
    }
   ],
   "source": [
    "from jyquickhelper import add_notebook_menu\n",
    "add_notebook_menu()"
   ]
  },
  {
   "cell_type": "markdown",
   "id": "5240bde1",
   "metadata": {},
   "source": [
    "## <span style='background:Thistle'>1. Introduction</span>\n",
    "\n",
    "*****\n",
    "**Mission**\n",
    "*****\n",
    "**Développer un modèle de scoring de la probabilité de défaut de paiement du client** pour étayer la décision d'accorder ou non un prêt à un client potentiel en s’appuyant sur des sources de données variées (données comportementales, données provenant d'autres institutions financières...).\n",
    "\n",
    "*****\n",
    "**Objectifs**\n",
    "*****\n",
    "- analyser le jeu de données,\n",
    "- Construire **un modèle de scoring** qui donnera une prédiction sur la probabilité de faillite d'un client de façon automatique,\n",
    "- réaliser un **dashboard interactif** permettant aux chargés de clientèles d'expliquer de manière transparente la décision d'octroi ou non de crédit\n",
    "\n",
    "*****\n",
    "**Sources**\n",
    "*****\n",
    "- [Jeu de données](https://www.kaggle.com/c/home-credit-default-risk/data)"
   ]
  },
  {
   "cell_type": "code",
   "execution_count": 2,
   "id": "b8980f02",
   "metadata": {
    "run_control": {
     "marked": true
    },
    "scrolled": true
   },
   "outputs": [
    {
     "name": "stderr",
     "output_type": "stream",
     "text": [
      "The sklearn.metrics.scorer module is  deprecated in version 0.22 and will be removed in version 0.24. The corresponding classes / functions should instead be imported from sklearn.metrics. Anything that cannot be imported from sklearn.metrics is now part of the private API.\n",
      "The sklearn.feature_selection.base module is  deprecated in version 0.22 and will be removed in version 0.24. The corresponding classes / functions should instead be imported from sklearn.feature_selection. Anything that cannot be imported from sklearn.feature_selection is now part of the private API.\n"
     ]
    },
    {
     "name": "stdout",
     "output_type": "stream",
     "text": [
      "Version des librairies utilisées :\n",
      "jyquickhelper         : 0.4.220\n",
      "Python                : 3.8.8 (default, Feb 24 2021, 15:54:32) [MSC v.1928 64 bit (AMD64)]\n",
      "NumPy                 : 1.19.5\n",
      "Pandas                : 1.2.4\n",
      "Matplotlib            : 3.3.4\n",
      "Seaborn               : 0.11.0\n",
      "Scikit-learn          : 0.23.2\n",
      "Outils dataframe      : 0.0.4\n",
      "Outils modélisation   : 0.0.1\n",
      "Outils préprocessing  : 0.0.0\n",
      "Lancé le           : 2021-08-16T08:33:08.363541\n"
     ]
    }
   ],
   "source": [
    "# Chargement des librairies\n",
    "import datetime\n",
    "import sys\n",
    "import time\n",
    "from datetime import datetime\n",
    "import warnings\n",
    "import jyquickhelper\n",
    "import numpy as np\n",
    "import pandas as pd\n",
    "import pickle\n",
    "from collections import Counter\n",
    "\n",
    "# Librairies personnelles\n",
    "import outils_data\n",
    "import outils_model\n",
    "import outils_preprocessing\n",
    "\n",
    "# Visualisation\n",
    "import matplotlib\n",
    "import matplotlib.pyplot as plt\n",
    "import seaborn as sns\n",
    "import plotly.graph_objects as go\n",
    "\n",
    "# Modèle\n",
    "import sklearn\n",
    "from sklearn.neighbors import KNeighborsClassifier\n",
    "\n",
    "# Standardisation\n",
    "from sklearn.preprocessing import StandardScaler\n",
    "\n",
    "# Warnings\n",
    "import warnings\n",
    "from warnings import simplefilter\n",
    "simplefilter(action='ignore', category=FutureWarning)\n",
    "\n",
    "%matplotlib inline\n",
    "# Chargement à chaud des librairies personnelles\n",
    "%load_ext autoreload\n",
    "%autoreload 2\n",
    "# Valide code pep8\n",
    "%load_ext pycodestyle_magic\n",
    "# %pycodestyle_on\n",
    "# %pycodestyle_off\n",
    "\n",
    "# Versions\n",
    "print('Version des librairies utilisées :')\n",
    "print('jyquickhelper         : ' + jyquickhelper.__version__)\n",
    "print('Python                : ' + sys.version)\n",
    "print('NumPy                 : ' + np.version.full_version)\n",
    "print('Pandas                : ' + pd.__version__)\n",
    "print('Matplotlib            : ' + matplotlib.__version__)\n",
    "print('Seaborn               : ' + sns.__version__)\n",
    "print('Scikit-learn          : ' + sklearn.__version__)\n",
    "print('Outils dataframe      : ' + outils_data.__version__)\n",
    "print('Outils modélisation   : ' + outils_model.__version__)\n",
    "print('Outils préprocessing  : ' + outils_preprocessing.__version__)\n",
    "now = datetime.now().isoformat()\n",
    "print('Lancé le           : ' + now)"
   ]
  },
  {
   "cell_type": "code",
   "execution_count": 3,
   "id": "48b0d62e",
   "metadata": {
    "run_control": {
     "marked": true
    },
    "scrolled": true
   },
   "outputs": [],
   "source": [
    "dico_pd_option = {\n",
    "    'display.max_rows': 500,\n",
    "    'display.max_column': 200,\n",
    "    'display.width': 300,\n",
    "    'display.precision': 4,\n",
    "    'display.max_colwidth': 1000,\n",
    "    'mode.chained_assignment': None\n",
    "}\n",
    "for cle, val in dico_pd_option.items():\n",
    "    pd.set_option(cle, val)"
   ]
  },
  {
   "cell_type": "markdown",
   "id": "09ce152c",
   "metadata": {},
   "source": [
    "## <span style='background:Thistle'>2. Initialisation (test/meilleur modèle)</span>"
   ]
  },
  {
   "cell_type": "markdown",
   "id": "726e69aa",
   "metadata": {},
   "source": [
    "<span style='background:Moccasin'>**Chargement du jeu de données du train set sans pré-processing**</span>"
   ]
  },
  {
   "cell_type": "code",
   "execution_count": 4,
   "id": "afb7f8e2",
   "metadata": {
    "run_control": {
     "marked": true
    },
    "scrolled": true
   },
   "outputs": [
    {
     "data": {
      "text/plain": [
       "(307511, 122)"
      ]
     },
     "execution_count": 4,
     "metadata": {},
     "output_type": "execute_result"
    }
   ],
   "source": [
    "application_train = pd.read_csv('../data/application_train.csv')\n",
    "application_train.shape"
   ]
  },
  {
   "cell_type": "code",
   "execution_count": 135,
   "id": "53e66dee",
   "metadata": {
    "run_control": {
     "marked": true
    }
   },
   "outputs": [],
   "source": [
    "# Correction valeurs aberrantes\n",
    "application_train['DAYS_EMPLOYED'][application_train['DAYS_EMPLOYED']\n",
    "                                   == 365243] = 0"
   ]
  },
  {
   "cell_type": "code",
   "execution_count": 136,
   "id": "a33e38e4",
   "metadata": {
    "run_control": {
     "marked": true
    }
   },
   "outputs": [
    {
     "data": {
      "text/plain": [
       "(307507, 122)"
      ]
     },
     "execution_count": 136,
     "metadata": {},
     "output_type": "execute_result"
    }
   ],
   "source": [
    "# Correction : difficile d'imputer le sexe par le mode de cette catégorie\n",
    "# Comme il n'y a que 4 clients avec un sexe non renseigné, on supprime ces\n",
    "# valeurs\n",
    "application_train = \\\n",
    "    application_train[application_train['CODE_GENDER'] != 'XNA']\n",
    "application_train.shape"
   ]
  },
  {
   "cell_type": "markdown",
   "id": "3d03dffc",
   "metadata": {},
   "source": [
    "<span style='background:Moccasin'>**Chargement du jeu de données du test set sans pré-processing**</span>"
   ]
  },
  {
   "cell_type": "code",
   "execution_count": 151,
   "id": "fc652b47",
   "metadata": {
    "run_control": {
     "marked": true
    }
   },
   "outputs": [
    {
     "data": {
      "text/plain": [
       "(48744, 121)"
      ]
     },
     "execution_count": 151,
     "metadata": {},
     "output_type": "execute_result"
    }
   ],
   "source": [
    "application_test = pd.read_csv('../data/application_test.csv')\n",
    "application_test.shape"
   ]
  },
  {
   "cell_type": "code",
   "execution_count": 152,
   "id": "0c006c6a",
   "metadata": {
    "run_control": {
     "marked": true
    }
   },
   "outputs": [],
   "source": [
    "# Correction valeurs aberrantes\n",
    "application_test['DAYS_EMPLOYED'][application_test['DAYS_EMPLOYED']\n",
    "                                  == 365243] = 0"
   ]
  },
  {
   "cell_type": "markdown",
   "id": "faf41f1e",
   "metadata": {},
   "source": [
    "<span style='background:Moccasin'>**Chargement du jeu de données du train set issu du pré-processing et de la feature sélection**</span>"
   ]
  },
  {
   "cell_type": "markdown",
   "id": "ef0a17d8",
   "metadata": {},
   "source": [
    "- **train_set** : jeu de données étiquetté (variable cible = TARGET) du train set, issu de la phase de pré-processing (nettoyage, gestion des valeurs manquantes, gestion des valeurs aberrantes, encodage, merge de tous les fichiers, feature engineering et feature sélection)."
   ]
  },
  {
   "cell_type": "code",
   "execution_count": 5,
   "id": "661101b8",
   "metadata": {
    "run_control": {
     "marked": true
    },
    "scrolled": true
   },
   "outputs": [
    {
     "data": {
      "text/plain": [
       "(307507, 108)"
      ]
     },
     "execution_count": 5,
     "metadata": {},
     "output_type": "execute_result"
    }
   ],
   "source": [
    "fic_sav_train_set_sans = \\\n",
    "    '../sauvegarde/features-selection/train_set_sans_var_magique.pickle'\n",
    "# Chargement de train_set\n",
    "with open(fic_sav_train_set_sans, 'rb') as df_appli_train_set_sans:\n",
    "    train_set = pickle.load(df_appli_train_set_sans)\n",
    "train_set.shape"
   ]
  },
  {
   "cell_type": "markdown",
   "id": "a070aca8",
   "metadata": {},
   "source": [
    "<span style='background:Moccasin'>**Chargement du jeu de données du test set issu du pré-processing et de la feature sélection**</span>"
   ]
  },
  {
   "cell_type": "markdown",
   "id": "901bf596",
   "metadata": {},
   "source": [
    "- **test_set** : jeu de données non étiquetté (sans la variable cible TARGET) du test set, issu de la phase de pré-processing (nettoyage, gestion des valeurs manquantes, gestion des valeurs aberrantes, encodage, merge de tous les fichiers, feature engineering et feature sélection)."
   ]
  },
  {
   "cell_type": "code",
   "execution_count": 6,
   "id": "d495da99",
   "metadata": {
    "run_control": {
     "marked": true
    }
   },
   "outputs": [
    {
     "data": {
      "text/plain": [
       "(48744, 107)"
      ]
     },
     "execution_count": 6,
     "metadata": {},
     "output_type": "execute_result"
    }
   ],
   "source": [
    "fic_sav_test_set_sans = \\\n",
    "    '../sauvegarde/features-selection/test_set_sans_var_magique.pickle'\n",
    "# Chargement de test_set\n",
    "with open(fic_sav_test_set_sans, 'rb') as df_appli_test_set_sans:\n",
    "    test_set = pickle.load(df_appli_test_set_sans)\n",
    "test_set.shape"
   ]
  },
  {
   "cell_type": "markdown",
   "id": "4ad34e3f",
   "metadata": {},
   "source": [
    "<span style='background:Moccasin'>**Chargement du meilleur modèle LightGBM**</span>"
   ]
  },
  {
   "cell_type": "code",
   "execution_count": 7,
   "id": "bc7b57c5",
   "metadata": {
    "run_control": {
     "marked": true
    }
   },
   "outputs": [
    {
     "data": {
      "text/plain": [
       "LGBMClassifier(class_weight='balanced', colsample_bytree=0.65731418761953,\n",
       "               force_col_wise=True, max_depth=9, min_child_samples=96,\n",
       "               min_child_weight=0.5685528790757488, num_leaves=13,\n",
       "               objective='binary', reg_alpha=1.7033609851586964e-06,\n",
       "               reg_lambda=0.012745771755334187, subsample=0.8190208924749053,\n",
       "               subsample_freq=1, verbosity=-1)"
      ]
     },
     "execution_count": 7,
     "metadata": {},
     "output_type": "execute_result"
    }
   ],
   "source": [
    "# Chargement du meilleur modèle\n",
    "fic_best_model = '../sauvegarde/modelisation/best_model.pickle'\n",
    "with open(fic_best_model, 'rb') as df_best_model:\n",
    "    best_model = pickle.load(df_best_model)\n",
    "best_model"
   ]
  },
  {
   "cell_type": "markdown",
   "id": "3844999f",
   "metadata": {},
   "source": [
    "## <span style='background:Thistle'>3. Scoring (prédictions/Probabilités)</span>"
   ]
  },
  {
   "cell_type": "markdown",
   "id": "848929cf",
   "metadata": {},
   "source": [
    "Le meilleur modèle entraîné sur le jeu d'entraînement est maintenant opérationnel pour effectuer des prédictions et calculer les probabiltés du score de chacun des clients du jeu de test fourni pour Home Crédit."
   ]
  },
  {
   "cell_type": "code",
   "execution_count": 8,
   "id": "accacd67",
   "metadata": {
    "run_control": {
     "marked": false
    }
   },
   "outputs": [],
   "source": [
    "# Copie du jeu de test\n",
    "test = test_set.copy(deep=True)\n",
    "# Sauvegarde des identifiants des clients inutiles aux prédictions\n",
    "id_client = test['SK_ID_CURR']\n",
    "# Préparation de la matrice à soumettre aux prédictions \n",
    "X_test = test.drop('SK_ID_CURR', axis=1)"
   ]
  },
  {
   "cell_type": "code",
   "execution_count": 9,
   "id": "6b0d4eff",
   "metadata": {
    "run_control": {
     "marked": false
    }
   },
   "outputs": [],
   "source": [
    "# Score des prédictions de probabiltés\n",
    "y_proba = best_model.predict_proba(X_test)[:, 1]"
   ]
  },
  {
   "cell_type": "code",
   "execution_count": 10,
   "id": "0d19f811",
   "metadata": {
    "run_control": {
     "marked": false
    }
   },
   "outputs": [],
   "source": [
    "# Prédictions pour le client :\n",
    "# classe 0 : non défaillant, classe 1 : défaillant\n",
    "y_pred = best_model.predict(X_test)"
   ]
  },
  {
   "cell_type": "code",
   "execution_count": 11,
   "id": "14bf9f57",
   "metadata": {
    "run_control": {
     "marked": false
    }
   },
   "outputs": [
    {
     "data": {
      "text/html": [
       "<div>\n",
       "<style scoped>\n",
       "    .dataframe tbody tr th:only-of-type {\n",
       "        vertical-align: middle;\n",
       "    }\n",
       "\n",
       "    .dataframe tbody tr th {\n",
       "        vertical-align: top;\n",
       "    }\n",
       "\n",
       "    .dataframe thead th {\n",
       "        text-align: right;\n",
       "    }\n",
       "</style>\n",
       "<table border=\"1\" class=\"dataframe\">\n",
       "  <thead>\n",
       "    <tr style=\"text-align: right;\">\n",
       "      <th></th>\n",
       "      <th>SK_ID_CURR</th>\n",
       "      <th>PRED_CLASSE_CLIENT</th>\n",
       "      <th>SCORE_CLIENT</th>\n",
       "      <th>SCORE_CLIENT_%</th>\n",
       "    </tr>\n",
       "  </thead>\n",
       "  <tbody>\n",
       "    <tr>\n",
       "      <th>0</th>\n",
       "      <td>100001</td>\n",
       "      <td>0</td>\n",
       "      <td>0.3229</td>\n",
       "      <td>32.3</td>\n",
       "    </tr>\n",
       "    <tr>\n",
       "      <th>1</th>\n",
       "      <td>100005</td>\n",
       "      <td>1</td>\n",
       "      <td>0.7506</td>\n",
       "      <td>75.1</td>\n",
       "    </tr>\n",
       "    <tr>\n",
       "      <th>2</th>\n",
       "      <td>100013</td>\n",
       "      <td>0</td>\n",
       "      <td>0.2673</td>\n",
       "      <td>26.7</td>\n",
       "    </tr>\n",
       "  </tbody>\n",
       "</table>\n",
       "</div>"
      ],
      "text/plain": [
       "   SK_ID_CURR  PRED_CLASSE_CLIENT  SCORE_CLIENT  SCORE_CLIENT_%\n",
       "0      100001                   0        0.3229            32.3\n",
       "1      100005                   1        0.7506            75.1\n",
       "2      100013                   0        0.2673            26.7"
      ]
     },
     "execution_count": 11,
     "metadata": {},
     "output_type": "execute_result"
    }
   ],
   "source": [
    "# Constitution du dataframe pour merge\n",
    "df_score = pd.DataFrame({'SK_ID_CURR' : id_client,\n",
    "                         'PRED_CLASSE_CLIENT' : y_pred,\n",
    "                         'SCORE_CLIENT' : y_proba,\n",
    "                         'SCORE_CLIENT_%' : np.round(y_proba * 100, 1)})\n",
    "df_score.head(3)"
   ]
  },
  {
   "cell_type": "code",
   "execution_count": 12,
   "id": "87425b5e",
   "metadata": {
    "run_control": {
     "marked": false
    }
   },
   "outputs": [
    {
     "data": {
      "text/html": [
       "<div>\n",
       "<style scoped>\n",
       "    .dataframe tbody tr th:only-of-type {\n",
       "        vertical-align: middle;\n",
       "    }\n",
       "\n",
       "    .dataframe tbody tr th {\n",
       "        vertical-align: top;\n",
       "    }\n",
       "\n",
       "    .dataframe thead th {\n",
       "        text-align: right;\n",
       "    }\n",
       "</style>\n",
       "<table border=\"1\" class=\"dataframe\">\n",
       "  <thead>\n",
       "    <tr style=\"text-align: right;\">\n",
       "      <th></th>\n",
       "      <th>SK_ID_CURR</th>\n",
       "      <th>PRED_CLASSE_CLIENT</th>\n",
       "      <th>SCORE_CLIENT</th>\n",
       "      <th>SCORE_CLIENT_%</th>\n",
       "      <th>CREDIT_ANNUITY_RATIO</th>\n",
       "      <th>PREV_APP_AMT_ANNUITY_MEAN</th>\n",
       "      <th>PREV_APP_DAYS_FIRST_DUE_SUM</th>\n",
       "      <th>PREV_APP_AMT_ANNUITY_MIN</th>\n",
       "      <th>PREV_APP_INTEREST_SHARE_MEAN</th>\n",
       "      <th>POS_CASH_NAME_CONTRACT_STATUS_ACTIVE_MEAN</th>\n",
       "      <th>BUREAU_AMT_CREDIT_SUM_SUM</th>\n",
       "      <th>REG_CITY_NOT_LIVE_CITY</th>\n",
       "      <th>FLAG_DOCUMENT_3</th>\n",
       "      <th>EXT_SOURCE_SUM</th>\n",
       "      <th>INST_PAY_DAYS_PAYMENT_DIFF_MIN</th>\n",
       "      <th>PREV_APP_NAME_CONTRACT_STATUS_MEAN</th>\n",
       "      <th>BUREAU_DAYS_CREDIT_MEAN</th>\n",
       "      <th>PREV_APP_AMT_CREDIT_GOODS_RATIO_MIN</th>\n",
       "      <th>INST_PAY_AMT_PAYMENT_RATIO_MEAN</th>\n",
       "      <th>PREV_APP_AMT_CREDIT_GOODS_RATIO_MEAN</th>\n",
       "      <th>FLAGS_DOCUMENTS_SUM</th>\n",
       "      <th>INST_PAY_AMT_INSTALMENT_MIN</th>\n",
       "      <th>ENQ_CREDIT_RATIO</th>\n",
       "      <th>NAME_INCOME_TYPE_WORKING</th>\n",
       "      <th>BUREAU_CREDIT_TYPE_MORTGAGE_MEAN</th>\n",
       "      <th>INST_PAY_DAYS_INSTALMENT_MAX</th>\n",
       "      <th>PREV_APP_AMT_DOWN_PAYMENT_MEAN</th>\n",
       "      <th>POS_CASH_SK_DPD_DEF_MEAN</th>\n",
       "      <th>NAME_FAMILY_STATUS_MARRIED</th>\n",
       "      <th>FLAG_OWN_CAR</th>\n",
       "      <th>PREV_APP_CNT_PAYMENT_MEAN</th>\n",
       "      <th>OWN_CAR_AGE</th>\n",
       "      <th>NAME_EDUCATION_TYPE_HIGHER_EDUCATION</th>\n",
       "      <th>INST_PAY_AMT_PAYMENT_DIFF_MEAN</th>\n",
       "      <th>REGION_RATING_CLIENT</th>\n",
       "      <th>NAME_INCOME_TYPE_STATE_SERVANT</th>\n",
       "      <th>YEARS_BEGINEXPLUATATION_AVG</th>\n",
       "      <th>DEF_30_CNT_SOCIAL_CIRCLE</th>\n",
       "      <th>CCB_BALANCE_LIMIT_RATIO_MEAN</th>\n",
       "      <th>PREV_APP_SELLERPLACE_AREA_MEAN</th>\n",
       "      <th>PREV_APP_ANNUITY_GOODS_MEAN</th>\n",
       "      <th>PREV_APP_AMT_CREDIT_GOODS_RATIO_MAX</th>\n",
       "      <th>BUREAU_AMT_CREDIT_SUM_DEBT_MEAN</th>\n",
       "      <th>OCCUPATION_TYPE_CORE_STAFF</th>\n",
       "      <th>EXT_SOURCE_VAR</th>\n",
       "      <th>INST_PAY_NUM_INSTALMENT_VERSION_SUM</th>\n",
       "      <th>INST_PAY_DAYS_PAYMENT_RATIO_MEAN</th>\n",
       "      <th>AMT_CREDIT</th>\n",
       "      <th>BUREAU_AMT_CREDIT_SUM_DEBT_SUM</th>\n",
       "      <th>ANNUITY_INCOME_RATIO</th>\n",
       "      <th>CAR_EMPLOYED_RATIO</th>\n",
       "      <th>BUREAU_AMT_CREDIT_SUM_MEAN</th>\n",
       "      <th>INST_PAY_AMT_INSTALMENT_SUM</th>\n",
       "      <th>EXT_SOURCE_3</th>\n",
       "      <th>BUREAU_CURRENT_CREDIT_DEBT_DIFF_MEAN</th>\n",
       "      <th>DAYS_ID_PUBLISH</th>\n",
       "      <th>BUREAU_CURRENT_CREDIT_DEBT_DIFF_MIN</th>\n",
       "      <th>EXT_SOURCE_2</th>\n",
       "      <th>CREDIT_GOODS_RATIO</th>\n",
       "      <th>EXT_SOURCE_1</th>\n",
       "      <th>PREV_APP_INTEREST_SHARE_MAX</th>\n",
       "      <th>AMT_ANNUITY</th>\n",
       "      <th>INST_PAY_DAYS_PAYMENT_RATIO_MAX</th>\n",
       "      <th>DAYS_BIRTH</th>\n",
       "      <th>PREV_APP_DAYS_LAST_DUE_MAX</th>\n",
       "      <th>DAYS_EMPLOYED</th>\n",
       "      <th>BUREAU_CURRENT_DEBT_TO_CREDIT_RATIO_MEAN</th>\n",
       "      <th>CODE_GENDER</th>\n",
       "      <th>PREV_APP_APPLICATION_AMT_TO_DECISION_RATIO_MEAN</th>\n",
       "      <th>BUREAU_AMT_CREDIT_MAX_OVERDUE_MAX</th>\n",
       "      <th>INST_PAY_DAYS_PAYMENT_RATIO_MIN</th>\n",
       "      <th>CCB_CNT_DRAWINGS_ATM_CURRENT_MEAN</th>\n",
       "      <th>REGION_POPULATION_RELATIVE</th>\n",
       "      <th>POS_CASH_NAME_CONTRACT_STATUS_ACTIVE_SUM</th>\n",
       "      <th>BUREAU_DAYS_CREDIT_MAX</th>\n",
       "      <th>DAYS_LAST_PHONE_CHANGE</th>\n",
       "      <th>PREV_APP_DAYS_FIRST_LAST_DUE_DIFF_MEAN</th>\n",
       "      <th>EXT_SOURCE_MAX</th>\n",
       "      <th>INST_PAY_AMT_INSTALMENT_MAX</th>\n",
       "      <th>DAYS_REGISTRATION</th>\n",
       "      <th>POS_CASH_CNT_INSTALMENT_MEAN</th>\n",
       "      <th>INST_PAY_DAYS_INSTALMENT_MIN</th>\n",
       "      <th>AMT_REQ_CREDIT_BUREAU_QRT</th>\n",
       "      <th>FLAG_WORK_PHONE</th>\n",
       "      <th>PREV_APP_INTEREST_SHARE_MIN</th>\n",
       "      <th>PREV_APP_AMT_DECLINED_SUM</th>\n",
       "      <th>CCB_CNT_DRAWINGS_CURRENT_SUM</th>\n",
       "      <th>PREV_APP_CODE_REJECT_REASON_XAP_MEAN</th>\n",
       "      <th>BUREAU_CREDIT_TYPE_MICROLOAN_MEAN</th>\n",
       "      <th>PREV_APP_NAME_TYPE_SUITE_UNACCOMPANIED_MEAN</th>\n",
       "      <th>FLOORSMAX_AVG</th>\n",
       "      <th>BUREAU_CREDIT_ACTIVE_ACTIVE_COUNT</th>\n",
       "      <th>INST_PAY_AMT_INSTALMENT_MEAN</th>\n",
       "      <th>APARTMENTS_AVG</th>\n",
       "      <th>PREV_APP_HOUR_APPR_PROCESS_START_MEAN</th>\n",
       "      <th>INCOME_GOODS_DIFF</th>\n",
       "      <th>PREV_APP_INTEREST_RATE_MAX</th>\n",
       "      <th>CREDIT_INCOME_RATIO</th>\n",
       "      <th>PREV_APP_DAYS_DECISION_MAX</th>\n",
       "      <th>PREV_APP_DAYS_DECISION_MEAN</th>\n",
       "      <th>PREV_APP_AMT_INTEREST_MEAN</th>\n",
       "      <th>PREV_APP_LOAN_RATE_MEAN</th>\n",
       "      <th>PREV_APP_AMT_ANNUITY_SUM</th>\n",
       "      <th>INST_PAY_NUM_INSTALMENT_NUMBER_MAX</th>\n",
       "      <th>INCOME_EXT_RATIO</th>\n",
       "      <th>INST_PAY_DAYS_PAYMENT_DIFF_MEAN</th>\n",
       "      <th>BUREAU_DAYS_CREDIT_LAST</th>\n",
       "      <th>INST_PAY_NUM_INSTALMENT_VERSION_MEAN</th>\n",
       "      <th>PREV_APP_AMT_APPLICATION_TO_SELLERPLACE_AREA_MEAN</th>\n",
       "      <th>INST_PAY_DAYS_PAYMENT_DIFF_MAX</th>\n",
       "    </tr>\n",
       "  </thead>\n",
       "  <tbody>\n",
       "    <tr>\n",
       "      <th>0</th>\n",
       "      <td>100001</td>\n",
       "      <td>0</td>\n",
       "      <td>0.3229</td>\n",
       "      <td>32.3</td>\n",
       "      <td>27.6719</td>\n",
       "      <td>3951.0000</td>\n",
       "      <td>-1709.0</td>\n",
       "      <td>3951.0000</td>\n",
       "      <td>0.3289</td>\n",
       "      <td>0.7778</td>\n",
       "      <td>1453365.0</td>\n",
       "      <td>0</td>\n",
       "      <td>1</td>\n",
       "      <td>1.7012</td>\n",
       "      <td>-10.0</td>\n",
       "      <td>0.0</td>\n",
       "      <td>-735.000</td>\n",
       "      <td>0.9578</td>\n",
       "      <td>1.0000</td>\n",
       "      <td>0.9578</td>\n",
       "      <td>1</td>\n",
       "      <td>3951.0000</td>\n",
       "      <td>0.0000e+00</td>\n",
       "      <td>1.0</td>\n",
       "      <td>0.0</td>\n",
       "      <td>-1619.0</td>\n",
       "      <td>2520.0</td>\n",
       "      <td>0.7778</td>\n",
       "      <td>1.0</td>\n",
       "      <td>1</td>\n",
       "      <td>8.0000</td>\n",
       "      <td>9.0</td>\n",
       "      <td>1.0</td>\n",
       "      <td>0.0000</td>\n",
       "      <td>2</td>\n",
       "      <td>0.0</td>\n",
       "      <td>0.9731</td>\n",
       "      <td>0.0</td>\n",
       "      <td>0.1145</td>\n",
       "      <td>23.0</td>\n",
       "      <td>3104.4375</td>\n",
       "      <td>0.9578</td>\n",
       "      <td>85240.9297</td>\n",
       "      <td>0.0</td>\n",
       "      <td>0.0833</td>\n",
       "      <td>8.0</td>\n",
       "      <td>0.9951</td>\n",
       "      <td>568800.0</td>\n",
       "      <td>596686.5</td>\n",
       "      <td>0.1523</td>\n",
       "      <td>-0.0039</td>\n",
       "      <td>207623.5781</td>\n",
       "      <td>4.1196e+04</td>\n",
       "      <td>0.1595</td>\n",
       "      <td>122382.6406</td>\n",
       "      <td>-812</td>\n",
       "      <td>4761.0000</td>\n",
       "      <td>0.7896</td>\n",
       "      <td>1.2637</td>\n",
       "      <td>0.7524</td>\n",
       "      <td>0.3289</td>\n",
       "      <td>20560.5</td>\n",
       "      <td>1.0039</td>\n",
       "      <td>-19241</td>\n",
       "      <td>-1619.0</td>\n",
       "      <td>-2328.0</td>\n",
       "      <td>0.2825</td>\n",
       "      <td>0</td>\n",
       "      <td>14.2733</td>\n",
       "      <td>0.0</td>\n",
       "      <td>0.9790</td>\n",
       "      <td>0.2106</td>\n",
       "      <td>0.0188</td>\n",
       "      <td>7.0</td>\n",
       "      <td>-49.0</td>\n",
       "      <td>-1740.0</td>\n",
       "      <td>90.0</td>\n",
       "      <td>0.7896</td>\n",
       "      <td>17397.9004</td>\n",
       "      <td>-5168.0</td>\n",
       "      <td>4.0000</td>\n",
       "      <td>-2916.0</td>\n",
       "      <td>0.0</td>\n",
       "      <td>0</td>\n",
       "      <td>0.3289</td>\n",
       "      <td>1048.5</td>\n",
       "      <td>6.0</td>\n",
       "      <td>1.0</td>\n",
       "      <td>0.0</td>\n",
       "      <td>0.0</td>\n",
       "      <td>0.1250</td>\n",
       "      <td>7.0</td>\n",
       "      <td>5885.1323</td>\n",
       "      <td>0.0660</td>\n",
       "      <td>13.0</td>\n",
       "      <td>0.3000</td>\n",
       "      <td>0.8770</td>\n",
       "      <td>4.2148</td>\n",
       "      <td>-1740.0</td>\n",
       "      <td>-1740.0</td>\n",
       "      <td>7821.0000</td>\n",
       "      <td>0.1661</td>\n",
       "      <td>3951.0000</td>\n",
       "      <td>4.0</td>\n",
       "      <td>846151.5000</td>\n",
       "      <td>7.4297</td>\n",
       "      <td>-320.0</td>\n",
       "      <td>1.1426</td>\n",
       "      <td>1079.8038</td>\n",
       "      <td>36.0</td>\n",
       "    </tr>\n",
       "    <tr>\n",
       "      <th>1</th>\n",
       "      <td>100005</td>\n",
       "      <td>1</td>\n",
       "      <td>0.7506</td>\n",
       "      <td>75.1</td>\n",
       "      <td>12.8281</td>\n",
       "      <td>4813.2002</td>\n",
       "      <td>-706.0</td>\n",
       "      <td>4813.2002</td>\n",
       "      <td>0.4385</td>\n",
       "      <td>0.8184</td>\n",
       "      <td>657126.0</td>\n",
       "      <td>0</td>\n",
       "      <td>1</td>\n",
       "      <td>1.2891</td>\n",
       "      <td>-1.0</td>\n",
       "      <td>1.0</td>\n",
       "      <td>-190.625</td>\n",
       "      <td>0.8999</td>\n",
       "      <td>1.0000</td>\n",
       "      <td>0.8999</td>\n",
       "      <td>1</td>\n",
       "      <td>4813.2002</td>\n",
       "      <td>1.3471e-05</td>\n",
       "      <td>1.0</td>\n",
       "      <td>0.0</td>\n",
       "      <td>-466.0</td>\n",
       "      <td>4464.0</td>\n",
       "      <td>0.0000</td>\n",
       "      <td>1.0</td>\n",
       "      <td>1</td>\n",
       "      <td>12.0000</td>\n",
       "      <td>9.0</td>\n",
       "      <td>0.0</td>\n",
       "      <td>0.0000</td>\n",
       "      <td>2</td>\n",
       "      <td>0.0</td>\n",
       "      <td>0.9814</td>\n",
       "      <td>0.0</td>\n",
       "      <td>0.1145</td>\n",
       "      <td>18.0</td>\n",
       "      <td>3718.1250</td>\n",
       "      <td>0.8999</td>\n",
       "      <td>189469.5000</td>\n",
       "      <td>0.0</td>\n",
       "      <td>0.0124</td>\n",
       "      <td>10.0</td>\n",
       "      <td>0.9629</td>\n",
       "      <td>222768.0</td>\n",
       "      <td>568408.5</td>\n",
       "      <td>0.1754</td>\n",
       "      <td>-0.0020</td>\n",
       "      <td>219042.0000</td>\n",
       "      <td>5.6162e+04</td>\n",
       "      <td>0.4329</td>\n",
       "      <td>29572.5000</td>\n",
       "      <td>-1623</td>\n",
       "      <td>4504.5000</td>\n",
       "      <td>0.2917</td>\n",
       "      <td>1.2373</td>\n",
       "      <td>0.5649</td>\n",
       "      <td>0.4385</td>\n",
       "      <td>17370.0</td>\n",
       "      <td>1.0020</td>\n",
       "      <td>-18064</td>\n",
       "      <td>-466.0</td>\n",
       "      <td>-4468.0</td>\n",
       "      <td>0.6013</td>\n",
       "      <td>1</td>\n",
       "      <td>29.4699</td>\n",
       "      <td>0.0</td>\n",
       "      <td>0.9458</td>\n",
       "      <td>0.2106</td>\n",
       "      <td>0.0358</td>\n",
       "      <td>9.0</td>\n",
       "      <td>-62.0</td>\n",
       "      <td>0.0</td>\n",
       "      <td>240.0</td>\n",
       "      <td>0.5649</td>\n",
       "      <td>17656.2441</td>\n",
       "      <td>-9120.0</td>\n",
       "      <td>11.7031</td>\n",
       "      <td>-706.0</td>\n",
       "      <td>0.0</td>\n",
       "      <td>0</td>\n",
       "      <td>0.4385</td>\n",
       "      <td>4464.0</td>\n",
       "      <td>6.0</td>\n",
       "      <td>1.0</td>\n",
       "      <td>0.0</td>\n",
       "      <td>0.0</td>\n",
       "      <td>0.1667</td>\n",
       "      <td>3.0</td>\n",
       "      <td>6240.2051</td>\n",
       "      <td>0.0928</td>\n",
       "      <td>10.5</td>\n",
       "      <td>0.5498</td>\n",
       "      <td>0.8096</td>\n",
       "      <td>2.2500</td>\n",
       "      <td>-315.0</td>\n",
       "      <td>-536.0</td>\n",
       "      <td>17604.9023</td>\n",
       "      <td>0.1199</td>\n",
       "      <td>4813.2002</td>\n",
       "      <td>9.0</td>\n",
       "      <td>228710.6562</td>\n",
       "      <td>23.5625</td>\n",
       "      <td>-62.0</td>\n",
       "      <td>1.1113</td>\n",
       "      <td>602.9390</td>\n",
       "      <td>37.0</td>\n",
       "    </tr>\n",
       "    <tr>\n",
       "      <th>2</th>\n",
       "      <td>100013</td>\n",
       "      <td>0</td>\n",
       "      <td>0.2673</td>\n",
       "      <td>26.7</td>\n",
       "      <td>9.5078</td>\n",
       "      <td>11478.1953</td>\n",
       "      <td>-3016.0</td>\n",
       "      <td>4742.4150</td>\n",
       "      <td>0.3884</td>\n",
       "      <td>0.8887</td>\n",
       "      <td>2072280.0</td>\n",
       "      <td>0</td>\n",
       "      <td>0</td>\n",
       "      <td>1.8184</td>\n",
       "      <td>-21.0</td>\n",
       "      <td>0.5</td>\n",
       "      <td>-1738.000</td>\n",
       "      <td>0.9393</td>\n",
       "      <td>0.9355</td>\n",
       "      <td>1.0524</td>\n",
       "      <td>1</td>\n",
       "      <td>67.5000</td>\n",
       "      <td>7.5102e-06</td>\n",
       "      <td>1.0</td>\n",
       "      <td>0.0</td>\n",
       "      <td>-14.0</td>\n",
       "      <td>3375.0</td>\n",
       "      <td>0.0000</td>\n",
       "      <td>1.0</td>\n",
       "      <td>0</td>\n",
       "      <td>17.3281</td>\n",
       "      <td>5.0</td>\n",
       "      <td>1.0</td>\n",
       "      <td>1157.6627</td>\n",
       "      <td>2</td>\n",
       "      <td>0.0</td>\n",
       "      <td>0.9814</td>\n",
       "      <td>0.0</td>\n",
       "      <td>0.1153</td>\n",
       "      <td>82.0</td>\n",
       "      <td>7115.1665</td>\n",
       "      <td>1.1386</td>\n",
       "      <td>0.0000</td>\n",
       "      <td>0.0</td>\n",
       "      <td>0.0062</td>\n",
       "      <td>43.0</td>\n",
       "      <td>0.9966</td>\n",
       "      <td>663264.0</td>\n",
       "      <td>0.0</td>\n",
       "      <td>0.3445</td>\n",
       "      <td>-0.0011</td>\n",
       "      <td>518070.0000</td>\n",
       "      <td>1.6892e+06</td>\n",
       "      <td>0.6108</td>\n",
       "      <td>26490.0605</td>\n",
       "      <td>-3503</td>\n",
       "      <td>26490.0605</td>\n",
       "      <td>0.6997</td>\n",
       "      <td>1.0527</td>\n",
       "      <td>0.5068</td>\n",
       "      <td>0.6270</td>\n",
       "      <td>69777.0</td>\n",
       "      <td>1.1846</td>\n",
       "      <td>-20038</td>\n",
       "      <td>-92.0</td>\n",
       "      <td>-4456.0</td>\n",
       "      <td>0.0000</td>\n",
       "      <td>1</td>\n",
       "      <td>158.3704</td>\n",
       "      <td>19305.0</td>\n",
       "      <td>0.8931</td>\n",
       "      <td>0.2556</td>\n",
       "      <td>0.0191</td>\n",
       "      <td>32.0</td>\n",
       "      <td>-1210.0</td>\n",
       "      <td>-856.0</td>\n",
       "      <td>290.0</td>\n",
       "      <td>0.6997</td>\n",
       "      <td>357347.7500</td>\n",
       "      <td>-2176.0</td>\n",
       "      <td>21.3906</td>\n",
       "      <td>-2704.0</td>\n",
       "      <td>1.0</td>\n",
       "      <td>0</td>\n",
       "      <td>0.1742</td>\n",
       "      <td>-61051.5</td>\n",
       "      <td>23.0</td>\n",
       "      <td>1.0</td>\n",
       "      <td>0.0</td>\n",
       "      <td>0.5</td>\n",
       "      <td>0.1667</td>\n",
       "      <td>4.0</td>\n",
       "      <td>10897.8984</td>\n",
       "      <td>0.0928</td>\n",
       "      <td>14.5</td>\n",
       "      <td>0.3215</td>\n",
       "      <td>0.7939</td>\n",
       "      <td>3.2754</td>\n",
       "      <td>-222.0</td>\n",
       "      <td>-837.5</td>\n",
       "      <td>114281.0938</td>\n",
       "      <td>0.1257</td>\n",
       "      <td>34434.5859</td>\n",
       "      <td>113.0</td>\n",
       "      <td>331510.7812</td>\n",
       "      <td>5.1992</td>\n",
       "      <td>-1665.0</td>\n",
       "      <td>0.2773</td>\n",
       "      <td>-112057.1641</td>\n",
       "      <td>38.0</td>\n",
       "    </tr>\n",
       "  </tbody>\n",
       "</table>\n",
       "</div>"
      ],
      "text/plain": [
       "   SK_ID_CURR  PRED_CLASSE_CLIENT  SCORE_CLIENT  SCORE_CLIENT_%  CREDIT_ANNUITY_RATIO  PREV_APP_AMT_ANNUITY_MEAN  PREV_APP_DAYS_FIRST_DUE_SUM  PREV_APP_AMT_ANNUITY_MIN  PREV_APP_INTEREST_SHARE_MEAN  POS_CASH_NAME_CONTRACT_STATUS_ACTIVE_MEAN  BUREAU_AMT_CREDIT_SUM_SUM  REG_CITY_NOT_LIVE_CITY  \\\n",
       "0      100001                   0        0.3229            32.3               27.6719                  3951.0000                      -1709.0                 3951.0000                        0.3289                                     0.7778                  1453365.0                       0   \n",
       "1      100005                   1        0.7506            75.1               12.8281                  4813.2002                       -706.0                 4813.2002                        0.4385                                     0.8184                   657126.0                       0   \n",
       "2      100013                   0        0.2673            26.7                9.5078                 11478.1953                      -3016.0                 4742.4150                        0.3884                                     0.8887                  2072280.0                       0   \n",
       "\n",
       "   FLAG_DOCUMENT_3  EXT_SOURCE_SUM  INST_PAY_DAYS_PAYMENT_DIFF_MIN  PREV_APP_NAME_CONTRACT_STATUS_MEAN  BUREAU_DAYS_CREDIT_MEAN  PREV_APP_AMT_CREDIT_GOODS_RATIO_MIN  INST_PAY_AMT_PAYMENT_RATIO_MEAN  PREV_APP_AMT_CREDIT_GOODS_RATIO_MEAN  FLAGS_DOCUMENTS_SUM  INST_PAY_AMT_INSTALMENT_MIN  \\\n",
       "0                1          1.7012                           -10.0                                 0.0                 -735.000                               0.9578                           1.0000                                0.9578                    1                    3951.0000   \n",
       "1                1          1.2891                            -1.0                                 1.0                 -190.625                               0.8999                           1.0000                                0.8999                    1                    4813.2002   \n",
       "2                0          1.8184                           -21.0                                 0.5                -1738.000                               0.9393                           0.9355                                1.0524                    1                      67.5000   \n",
       "\n",
       "   ENQ_CREDIT_RATIO  NAME_INCOME_TYPE_WORKING  BUREAU_CREDIT_TYPE_MORTGAGE_MEAN  INST_PAY_DAYS_INSTALMENT_MAX  PREV_APP_AMT_DOWN_PAYMENT_MEAN  POS_CASH_SK_DPD_DEF_MEAN  NAME_FAMILY_STATUS_MARRIED  FLAG_OWN_CAR  PREV_APP_CNT_PAYMENT_MEAN  OWN_CAR_AGE  NAME_EDUCATION_TYPE_HIGHER_EDUCATION  \\\n",
       "0        0.0000e+00                       1.0                               0.0                       -1619.0                          2520.0                    0.7778                         1.0             1                     8.0000          9.0                                   1.0   \n",
       "1        1.3471e-05                       1.0                               0.0                        -466.0                          4464.0                    0.0000                         1.0             1                    12.0000          9.0                                   0.0   \n",
       "2        7.5102e-06                       1.0                               0.0                         -14.0                          3375.0                    0.0000                         1.0             0                    17.3281          5.0                                   1.0   \n",
       "\n",
       "   INST_PAY_AMT_PAYMENT_DIFF_MEAN  REGION_RATING_CLIENT  NAME_INCOME_TYPE_STATE_SERVANT  YEARS_BEGINEXPLUATATION_AVG  DEF_30_CNT_SOCIAL_CIRCLE  CCB_BALANCE_LIMIT_RATIO_MEAN  PREV_APP_SELLERPLACE_AREA_MEAN  PREV_APP_ANNUITY_GOODS_MEAN  PREV_APP_AMT_CREDIT_GOODS_RATIO_MAX  \\\n",
       "0                          0.0000                     2                             0.0                       0.9731                       0.0                        0.1145                            23.0                    3104.4375                               0.9578   \n",
       "1                          0.0000                     2                             0.0                       0.9814                       0.0                        0.1145                            18.0                    3718.1250                               0.8999   \n",
       "2                       1157.6627                     2                             0.0                       0.9814                       0.0                        0.1153                            82.0                    7115.1665                               1.1386   \n",
       "\n",
       "   BUREAU_AMT_CREDIT_SUM_DEBT_MEAN  OCCUPATION_TYPE_CORE_STAFF  EXT_SOURCE_VAR  INST_PAY_NUM_INSTALMENT_VERSION_SUM  INST_PAY_DAYS_PAYMENT_RATIO_MEAN  AMT_CREDIT  BUREAU_AMT_CREDIT_SUM_DEBT_SUM  ANNUITY_INCOME_RATIO  CAR_EMPLOYED_RATIO  BUREAU_AMT_CREDIT_SUM_MEAN  INST_PAY_AMT_INSTALMENT_SUM  \\\n",
       "0                       85240.9297                         0.0          0.0833                                  8.0                            0.9951    568800.0                        596686.5                0.1523             -0.0039                 207623.5781                   4.1196e+04   \n",
       "1                      189469.5000                         0.0          0.0124                                 10.0                            0.9629    222768.0                        568408.5                0.1754             -0.0020                 219042.0000                   5.6162e+04   \n",
       "2                           0.0000                         0.0          0.0062                                 43.0                            0.9966    663264.0                             0.0                0.3445             -0.0011                 518070.0000                   1.6892e+06   \n",
       "\n",
       "   EXT_SOURCE_3  BUREAU_CURRENT_CREDIT_DEBT_DIFF_MEAN  DAYS_ID_PUBLISH  BUREAU_CURRENT_CREDIT_DEBT_DIFF_MIN  EXT_SOURCE_2  CREDIT_GOODS_RATIO  EXT_SOURCE_1  PREV_APP_INTEREST_SHARE_MAX  AMT_ANNUITY  INST_PAY_DAYS_PAYMENT_RATIO_MAX  DAYS_BIRTH  PREV_APP_DAYS_LAST_DUE_MAX  DAYS_EMPLOYED  \\\n",
       "0        0.1595                           122382.6406             -812                            4761.0000        0.7896              1.2637        0.7524                       0.3289      20560.5                           1.0039      -19241                     -1619.0        -2328.0   \n",
       "1        0.4329                            29572.5000            -1623                            4504.5000        0.2917              1.2373        0.5649                       0.4385      17370.0                           1.0020      -18064                      -466.0        -4468.0   \n",
       "2        0.6108                            26490.0605            -3503                           26490.0605        0.6997              1.0527        0.5068                       0.6270      69777.0                           1.1846      -20038                       -92.0        -4456.0   \n",
       "\n",
       "   BUREAU_CURRENT_DEBT_TO_CREDIT_RATIO_MEAN  CODE_GENDER  PREV_APP_APPLICATION_AMT_TO_DECISION_RATIO_MEAN  BUREAU_AMT_CREDIT_MAX_OVERDUE_MAX  INST_PAY_DAYS_PAYMENT_RATIO_MIN  CCB_CNT_DRAWINGS_ATM_CURRENT_MEAN  REGION_POPULATION_RELATIVE  POS_CASH_NAME_CONTRACT_STATUS_ACTIVE_SUM  \\\n",
       "0                                    0.2825            0                                          14.2733                                0.0                           0.9790                             0.2106                      0.0188                                       7.0   \n",
       "1                                    0.6013            1                                          29.4699                                0.0                           0.9458                             0.2106                      0.0358                                       9.0   \n",
       "2                                    0.0000            1                                         158.3704                            19305.0                           0.8931                             0.2556                      0.0191                                      32.0   \n",
       "\n",
       "   BUREAU_DAYS_CREDIT_MAX  DAYS_LAST_PHONE_CHANGE  PREV_APP_DAYS_FIRST_LAST_DUE_DIFF_MEAN  EXT_SOURCE_MAX  INST_PAY_AMT_INSTALMENT_MAX  DAYS_REGISTRATION  POS_CASH_CNT_INSTALMENT_MEAN  INST_PAY_DAYS_INSTALMENT_MIN  AMT_REQ_CREDIT_BUREAU_QRT  FLAG_WORK_PHONE  PREV_APP_INTEREST_SHARE_MIN  \\\n",
       "0                   -49.0                 -1740.0                                    90.0          0.7896                   17397.9004            -5168.0                        4.0000                       -2916.0                        0.0                0                       0.3289   \n",
       "1                   -62.0                     0.0                                   240.0          0.5649                   17656.2441            -9120.0                       11.7031                        -706.0                        0.0                0                       0.4385   \n",
       "2                 -1210.0                  -856.0                                   290.0          0.6997                  357347.7500            -2176.0                       21.3906                       -2704.0                        1.0                0                       0.1742   \n",
       "\n",
       "   PREV_APP_AMT_DECLINED_SUM  CCB_CNT_DRAWINGS_CURRENT_SUM  PREV_APP_CODE_REJECT_REASON_XAP_MEAN  BUREAU_CREDIT_TYPE_MICROLOAN_MEAN  PREV_APP_NAME_TYPE_SUITE_UNACCOMPANIED_MEAN  FLOORSMAX_AVG  BUREAU_CREDIT_ACTIVE_ACTIVE_COUNT  INST_PAY_AMT_INSTALMENT_MEAN  APARTMENTS_AVG  \\\n",
       "0                     1048.5                           6.0                                   1.0                                0.0                                          0.0         0.1250                                7.0                     5885.1323          0.0660   \n",
       "1                     4464.0                           6.0                                   1.0                                0.0                                          0.0         0.1667                                3.0                     6240.2051          0.0928   \n",
       "2                   -61051.5                          23.0                                   1.0                                0.0                                          0.5         0.1667                                4.0                    10897.8984          0.0928   \n",
       "\n",
       "   PREV_APP_HOUR_APPR_PROCESS_START_MEAN  INCOME_GOODS_DIFF  PREV_APP_INTEREST_RATE_MAX  CREDIT_INCOME_RATIO  PREV_APP_DAYS_DECISION_MAX  PREV_APP_DAYS_DECISION_MEAN  PREV_APP_AMT_INTEREST_MEAN  PREV_APP_LOAN_RATE_MEAN  PREV_APP_AMT_ANNUITY_SUM  INST_PAY_NUM_INSTALMENT_NUMBER_MAX  \\\n",
       "0                                   13.0             0.3000                      0.8770               4.2148                     -1740.0                      -1740.0                   7821.0000                   0.1661                 3951.0000                                 4.0   \n",
       "1                                   10.5             0.5498                      0.8096               2.2500                      -315.0                       -536.0                  17604.9023                   0.1199                 4813.2002                                 9.0   \n",
       "2                                   14.5             0.3215                      0.7939               3.2754                      -222.0                       -837.5                 114281.0938                   0.1257                34434.5859                               113.0   \n",
       "\n",
       "   INCOME_EXT_RATIO  INST_PAY_DAYS_PAYMENT_DIFF_MEAN  BUREAU_DAYS_CREDIT_LAST  INST_PAY_NUM_INSTALMENT_VERSION_MEAN  PREV_APP_AMT_APPLICATION_TO_SELLERPLACE_AREA_MEAN  INST_PAY_DAYS_PAYMENT_DIFF_MAX  \n",
       "0       846151.5000                           7.4297                   -320.0                                1.1426                                          1079.8038                            36.0  \n",
       "1       228710.6562                          23.5625                    -62.0                                1.1113                                           602.9390                            37.0  \n",
       "2       331510.7812                           5.1992                  -1665.0                                0.2773                                       -112057.1641                            38.0  "
      ]
     },
     "execution_count": 12,
     "metadata": {},
     "output_type": "execute_result"
    }
   ],
   "source": [
    "# Ajout des prédictions au dataframe du jeu de test\n",
    "df_dashboard = df_score.merge(test_set, on='SK_ID_CURR', how='left')\n",
    "df_dashboard.head(3)"
   ]
  },
  {
   "cell_type": "code",
   "execution_count": 17,
   "id": "c51deb71",
   "metadata": {},
   "outputs": [],
   "source": [
    "# Sauvegarde de df_dashboard\n",
    "fic_sav_df_dashboard ='../sauvegarde/dashboard/df_dashboard_1.pickle'\n",
    "with open(fic_sav_df_dashboard, 'wb') as f:\n",
    "    pickle.dump(df_dashboard, f, pickle.HIGHEST_PROTOCOL)"
   ]
  },
  {
   "cell_type": "markdown",
   "id": "d927b0be",
   "metadata": {},
   "source": [
    "## <span style='background:Thistle'>4. Préparation des données informatives</span>"
   ]
  },
  {
   "cell_type": "markdown",
   "id": "a111b8d1",
   "metadata": {},
   "source": [
    "### <span style='background:PowderBlue'>4.1. Informations sur le client</span>"
   ]
  },
  {
   "cell_type": "markdown",
   "id": "3c576bb7",
   "metadata": {},
   "source": [
    "Les données informatives sur le client à rendre disponible et lisible pour le chargé de clientèle :\n",
    "\n",
    "| Variable | Description | Dans test_set et non transformé? |\n",
    "| --- | --- | --- |\n",
    "| <p style='text-align: justify; color:red'>**AMT_INCOME_TOTAL**</p> | <p style='text-align: justify;'>Total des revenus</p> | Non => à  ajouter |\n",
    "| <p style='text-align: justify; color:green'>**AMT_CREDIT**</p> | <p style='text-align: justify;'>Montant du crédit</p> | Oui |\n",
    "| <p style='text-align: justify; color:red'>**NAME_FAMILY_STATUS**</p> | <p style='text-align: justify;'>Statut familial</p> | Non => à  ajouter |\n",
    "| <p style='text-align: justify; color:orange'>**DAYS_BIRTH**</p> | <p style='text-align: justify;'>Âge</p> | Oui mais passer de jours en années |\n",
    "| <p style='text-align: justify; color:orange'>**DAYS_EMPLOYED**</p> | <p style='text-align: justify;'>Ancienneté dans l'emploi</p> | Oui mais passer de jours en années |\n",
    "| <p style='text-align: justify; color:green'>**AMT_ANNUITY**</p> | <p style='text-align: justify;'>Annuités</p> | Oui |\n",
    "| <p style='text-align: justify; color:red'>**AMT_GOODS_PRICE**</p> | <p style='text-align: justify;'>Montant du bien pour le crédit</p> | Non => à  ajouter |\n",
    "| <p style='text-align: justify; color:red'>**CNT_CHILDREN**</p> | <p style='text-align: justify;'>Nombre d'enfants</p> | Non => à  ajouter |\n",
    "| <p style='text-align: justify; color:red'>**NAME_CONTRACT_TYPE**</p> | <p style='text-align: justify;'>Type de prêt</p> | Non (encodage) => à  ajouter |\n",
    "| <p style='text-align: justify; color:red'>**NAME_EDUCATION_TYPE**</p> | <p style='text-align: justify;'>Niveau d'éducation</p> | Non (encodage) => à  ajouter |\n",
    "| <p style='text-align: justify; color:red'>**NAME_HOUSING_TYPE**</p> | <p style='text-align: justify;'>Type de logement</p> | Non (encodage) => à  ajouter |\n",
    "| <p style='text-align: justify; color:red'>**NAME_INCOME_TYPE**</p> | <p style='text-align: justify;'>Type de revenu</p> | Non (encodage) => à  ajouter |\n",
    "| <p style='text-align: justify; color:orange'>**CODE_GENDER**</p> | <p style='text-align: justify;'>Sexe</p> | Oui mais transformer '0' en 'Féminin' et '1' en 'Masculin' |"
   ]
  },
  {
   "cell_type": "markdown",
   "id": "a42a68e8",
   "metadata": {},
   "source": [
    "**Récupération des variables manquantes**"
   ]
  },
  {
   "cell_type": "code",
   "execution_count": 15,
   "id": "9ac1e3b9",
   "metadata": {
    "run_control": {
     "marked": false
    }
   },
   "outputs": [
    {
     "data": {
      "text/html": [
       "<div>\n",
       "<style scoped>\n",
       "    .dataframe tbody tr th:only-of-type {\n",
       "        vertical-align: middle;\n",
       "    }\n",
       "\n",
       "    .dataframe tbody tr th {\n",
       "        vertical-align: top;\n",
       "    }\n",
       "\n",
       "    .dataframe thead th {\n",
       "        text-align: right;\n",
       "    }\n",
       "</style>\n",
       "<table border=\"1\" class=\"dataframe\">\n",
       "  <thead>\n",
       "    <tr style=\"text-align: right;\">\n",
       "      <th></th>\n",
       "      <th>SK_ID_CURR</th>\n",
       "      <th>AMT_INCOME_TOTAL</th>\n",
       "      <th>NAME_FAMILY_STATUS</th>\n",
       "      <th>AMT_GOODS_PRICE</th>\n",
       "      <th>CNT_CHILDREN</th>\n",
       "      <th>NAME_CONTRACT_TYPE</th>\n",
       "      <th>NAME_EDUCATION_TYPE</th>\n",
       "      <th>NAME_HOUSING_TYPE</th>\n",
       "      <th>NAME_INCOME_TYPE</th>\n",
       "    </tr>\n",
       "  </thead>\n",
       "  <tbody>\n",
       "    <tr>\n",
       "      <th>0</th>\n",
       "      <td>100001</td>\n",
       "      <td>135000.0</td>\n",
       "      <td>Married</td>\n",
       "      <td>450000.0</td>\n",
       "      <td>0</td>\n",
       "      <td>Cash loans</td>\n",
       "      <td>Higher education</td>\n",
       "      <td>House / apartment</td>\n",
       "      <td>Working</td>\n",
       "    </tr>\n",
       "    <tr>\n",
       "      <th>1</th>\n",
       "      <td>100005</td>\n",
       "      <td>99000.0</td>\n",
       "      <td>Married</td>\n",
       "      <td>180000.0</td>\n",
       "      <td>0</td>\n",
       "      <td>Cash loans</td>\n",
       "      <td>Secondary / secondary special</td>\n",
       "      <td>House / apartment</td>\n",
       "      <td>Working</td>\n",
       "    </tr>\n",
       "    <tr>\n",
       "      <th>2</th>\n",
       "      <td>100013</td>\n",
       "      <td>202500.0</td>\n",
       "      <td>Married</td>\n",
       "      <td>630000.0</td>\n",
       "      <td>0</td>\n",
       "      <td>Cash loans</td>\n",
       "      <td>Higher education</td>\n",
       "      <td>House / apartment</td>\n",
       "      <td>Working</td>\n",
       "    </tr>\n",
       "    <tr>\n",
       "      <th>3</th>\n",
       "      <td>100028</td>\n",
       "      <td>315000.0</td>\n",
       "      <td>Married</td>\n",
       "      <td>1575000.0</td>\n",
       "      <td>2</td>\n",
       "      <td>Cash loans</td>\n",
       "      <td>Secondary / secondary special</td>\n",
       "      <td>House / apartment</td>\n",
       "      <td>Working</td>\n",
       "    </tr>\n",
       "    <tr>\n",
       "      <th>4</th>\n",
       "      <td>100038</td>\n",
       "      <td>180000.0</td>\n",
       "      <td>Married</td>\n",
       "      <td>625500.0</td>\n",
       "      <td>1</td>\n",
       "      <td>Cash loans</td>\n",
       "      <td>Secondary / secondary special</td>\n",
       "      <td>House / apartment</td>\n",
       "      <td>Working</td>\n",
       "    </tr>\n",
       "  </tbody>\n",
       "</table>\n",
       "</div>"
      ],
      "text/plain": [
       "   SK_ID_CURR  AMT_INCOME_TOTAL NAME_FAMILY_STATUS  AMT_GOODS_PRICE  CNT_CHILDREN NAME_CONTRACT_TYPE            NAME_EDUCATION_TYPE  NAME_HOUSING_TYPE NAME_INCOME_TYPE\n",
       "0      100001          135000.0            Married         450000.0             0         Cash loans               Higher education  House / apartment          Working\n",
       "1      100005           99000.0            Married         180000.0             0         Cash loans  Secondary / secondary special  House / apartment          Working\n",
       "2      100013          202500.0            Married         630000.0             0         Cash loans               Higher education  House / apartment          Working\n",
       "3      100028          315000.0            Married        1575000.0             2         Cash loans  Secondary / secondary special  House / apartment          Working\n",
       "4      100038          180000.0            Married         625500.0             1         Cash loans  Secondary / secondary special  House / apartment          Working"
      ]
     },
     "execution_count": 15,
     "metadata": {},
     "output_type": "execute_result"
    }
   ],
   "source": [
    "df_infos =application_test[['SK_ID_CURR',\n",
    "                            'AMT_INCOME_TOTAL', 'NAME_FAMILY_STATUS',\n",
    "                            'AMT_GOODS_PRICE', 'CNT_CHILDREN',\n",
    "                            'NAME_CONTRACT_TYPE', 'NAME_EDUCATION_TYPE',\n",
    "                            'NAME_HOUSING_TYPE', 'NAME_INCOME_TYPE']]\n",
    "df_infos.head(3)"
   ]
  },
  {
   "cell_type": "code",
   "execution_count": 16,
   "id": "4e2b6d34",
   "metadata": {
    "run_control": {
     "marked": false
    }
   },
   "outputs": [
    {
     "data": {
      "text/html": [
       "<div>\n",
       "<style scoped>\n",
       "    .dataframe tbody tr th:only-of-type {\n",
       "        vertical-align: middle;\n",
       "    }\n",
       "\n",
       "    .dataframe tbody tr th {\n",
       "        vertical-align: top;\n",
       "    }\n",
       "\n",
       "    .dataframe thead th {\n",
       "        text-align: right;\n",
       "    }\n",
       "</style>\n",
       "<table border=\"1\" class=\"dataframe\">\n",
       "  <thead>\n",
       "    <tr style=\"text-align: right;\">\n",
       "      <th></th>\n",
       "      <th>SK_ID_CURR</th>\n",
       "      <th>PRED_CLASSE_CLIENT</th>\n",
       "      <th>SCORE_CLIENT</th>\n",
       "      <th>SCORE_CLIENT_%</th>\n",
       "      <th>CREDIT_ANNUITY_RATIO</th>\n",
       "      <th>PREV_APP_AMT_ANNUITY_MEAN</th>\n",
       "      <th>PREV_APP_DAYS_FIRST_DUE_SUM</th>\n",
       "      <th>PREV_APP_AMT_ANNUITY_MIN</th>\n",
       "      <th>PREV_APP_INTEREST_SHARE_MEAN</th>\n",
       "      <th>POS_CASH_NAME_CONTRACT_STATUS_ACTIVE_MEAN</th>\n",
       "      <th>BUREAU_AMT_CREDIT_SUM_SUM</th>\n",
       "      <th>REG_CITY_NOT_LIVE_CITY</th>\n",
       "      <th>FLAG_DOCUMENT_3</th>\n",
       "      <th>EXT_SOURCE_SUM</th>\n",
       "      <th>INST_PAY_DAYS_PAYMENT_DIFF_MIN</th>\n",
       "      <th>PREV_APP_NAME_CONTRACT_STATUS_MEAN</th>\n",
       "      <th>BUREAU_DAYS_CREDIT_MEAN</th>\n",
       "      <th>PREV_APP_AMT_CREDIT_GOODS_RATIO_MIN</th>\n",
       "      <th>INST_PAY_AMT_PAYMENT_RATIO_MEAN</th>\n",
       "      <th>PREV_APP_AMT_CREDIT_GOODS_RATIO_MEAN</th>\n",
       "      <th>FLAGS_DOCUMENTS_SUM</th>\n",
       "      <th>INST_PAY_AMT_INSTALMENT_MIN</th>\n",
       "      <th>ENQ_CREDIT_RATIO</th>\n",
       "      <th>NAME_INCOME_TYPE_WORKING</th>\n",
       "      <th>BUREAU_CREDIT_TYPE_MORTGAGE_MEAN</th>\n",
       "      <th>INST_PAY_DAYS_INSTALMENT_MAX</th>\n",
       "      <th>PREV_APP_AMT_DOWN_PAYMENT_MEAN</th>\n",
       "      <th>POS_CASH_SK_DPD_DEF_MEAN</th>\n",
       "      <th>NAME_FAMILY_STATUS_MARRIED</th>\n",
       "      <th>FLAG_OWN_CAR</th>\n",
       "      <th>PREV_APP_CNT_PAYMENT_MEAN</th>\n",
       "      <th>OWN_CAR_AGE</th>\n",
       "      <th>NAME_EDUCATION_TYPE_HIGHER_EDUCATION</th>\n",
       "      <th>INST_PAY_AMT_PAYMENT_DIFF_MEAN</th>\n",
       "      <th>REGION_RATING_CLIENT</th>\n",
       "      <th>NAME_INCOME_TYPE_STATE_SERVANT</th>\n",
       "      <th>YEARS_BEGINEXPLUATATION_AVG</th>\n",
       "      <th>DEF_30_CNT_SOCIAL_CIRCLE</th>\n",
       "      <th>CCB_BALANCE_LIMIT_RATIO_MEAN</th>\n",
       "      <th>PREV_APP_SELLERPLACE_AREA_MEAN</th>\n",
       "      <th>PREV_APP_ANNUITY_GOODS_MEAN</th>\n",
       "      <th>PREV_APP_AMT_CREDIT_GOODS_RATIO_MAX</th>\n",
       "      <th>BUREAU_AMT_CREDIT_SUM_DEBT_MEAN</th>\n",
       "      <th>OCCUPATION_TYPE_CORE_STAFF</th>\n",
       "      <th>EXT_SOURCE_VAR</th>\n",
       "      <th>INST_PAY_NUM_INSTALMENT_VERSION_SUM</th>\n",
       "      <th>INST_PAY_DAYS_PAYMENT_RATIO_MEAN</th>\n",
       "      <th>AMT_CREDIT</th>\n",
       "      <th>BUREAU_AMT_CREDIT_SUM_DEBT_SUM</th>\n",
       "      <th>ANNUITY_INCOME_RATIO</th>\n",
       "      <th>CAR_EMPLOYED_RATIO</th>\n",
       "      <th>BUREAU_AMT_CREDIT_SUM_MEAN</th>\n",
       "      <th>INST_PAY_AMT_INSTALMENT_SUM</th>\n",
       "      <th>EXT_SOURCE_3</th>\n",
       "      <th>BUREAU_CURRENT_CREDIT_DEBT_DIFF_MEAN</th>\n",
       "      <th>DAYS_ID_PUBLISH</th>\n",
       "      <th>BUREAU_CURRENT_CREDIT_DEBT_DIFF_MIN</th>\n",
       "      <th>EXT_SOURCE_2</th>\n",
       "      <th>CREDIT_GOODS_RATIO</th>\n",
       "      <th>EXT_SOURCE_1</th>\n",
       "      <th>PREV_APP_INTEREST_SHARE_MAX</th>\n",
       "      <th>AMT_ANNUITY</th>\n",
       "      <th>INST_PAY_DAYS_PAYMENT_RATIO_MAX</th>\n",
       "      <th>DAYS_BIRTH</th>\n",
       "      <th>PREV_APP_DAYS_LAST_DUE_MAX</th>\n",
       "      <th>DAYS_EMPLOYED</th>\n",
       "      <th>BUREAU_CURRENT_DEBT_TO_CREDIT_RATIO_MEAN</th>\n",
       "      <th>CODE_GENDER</th>\n",
       "      <th>PREV_APP_APPLICATION_AMT_TO_DECISION_RATIO_MEAN</th>\n",
       "      <th>BUREAU_AMT_CREDIT_MAX_OVERDUE_MAX</th>\n",
       "      <th>INST_PAY_DAYS_PAYMENT_RATIO_MIN</th>\n",
       "      <th>CCB_CNT_DRAWINGS_ATM_CURRENT_MEAN</th>\n",
       "      <th>REGION_POPULATION_RELATIVE</th>\n",
       "      <th>POS_CASH_NAME_CONTRACT_STATUS_ACTIVE_SUM</th>\n",
       "      <th>BUREAU_DAYS_CREDIT_MAX</th>\n",
       "      <th>DAYS_LAST_PHONE_CHANGE</th>\n",
       "      <th>PREV_APP_DAYS_FIRST_LAST_DUE_DIFF_MEAN</th>\n",
       "      <th>EXT_SOURCE_MAX</th>\n",
       "      <th>INST_PAY_AMT_INSTALMENT_MAX</th>\n",
       "      <th>DAYS_REGISTRATION</th>\n",
       "      <th>POS_CASH_CNT_INSTALMENT_MEAN</th>\n",
       "      <th>INST_PAY_DAYS_INSTALMENT_MIN</th>\n",
       "      <th>AMT_REQ_CREDIT_BUREAU_QRT</th>\n",
       "      <th>FLAG_WORK_PHONE</th>\n",
       "      <th>PREV_APP_INTEREST_SHARE_MIN</th>\n",
       "      <th>PREV_APP_AMT_DECLINED_SUM</th>\n",
       "      <th>CCB_CNT_DRAWINGS_CURRENT_SUM</th>\n",
       "      <th>PREV_APP_CODE_REJECT_REASON_XAP_MEAN</th>\n",
       "      <th>BUREAU_CREDIT_TYPE_MICROLOAN_MEAN</th>\n",
       "      <th>PREV_APP_NAME_TYPE_SUITE_UNACCOMPANIED_MEAN</th>\n",
       "      <th>FLOORSMAX_AVG</th>\n",
       "      <th>BUREAU_CREDIT_ACTIVE_ACTIVE_COUNT</th>\n",
       "      <th>INST_PAY_AMT_INSTALMENT_MEAN</th>\n",
       "      <th>APARTMENTS_AVG</th>\n",
       "      <th>PREV_APP_HOUR_APPR_PROCESS_START_MEAN</th>\n",
       "      <th>INCOME_GOODS_DIFF</th>\n",
       "      <th>PREV_APP_INTEREST_RATE_MAX</th>\n",
       "      <th>CREDIT_INCOME_RATIO</th>\n",
       "      <th>PREV_APP_DAYS_DECISION_MAX</th>\n",
       "      <th>PREV_APP_DAYS_DECISION_MEAN</th>\n",
       "      <th>PREV_APP_AMT_INTEREST_MEAN</th>\n",
       "      <th>PREV_APP_LOAN_RATE_MEAN</th>\n",
       "      <th>PREV_APP_AMT_ANNUITY_SUM</th>\n",
       "      <th>INST_PAY_NUM_INSTALMENT_NUMBER_MAX</th>\n",
       "      <th>INCOME_EXT_RATIO</th>\n",
       "      <th>INST_PAY_DAYS_PAYMENT_DIFF_MEAN</th>\n",
       "      <th>BUREAU_DAYS_CREDIT_LAST</th>\n",
       "      <th>INST_PAY_NUM_INSTALMENT_VERSION_MEAN</th>\n",
       "      <th>PREV_APP_AMT_APPLICATION_TO_SELLERPLACE_AREA_MEAN</th>\n",
       "      <th>INST_PAY_DAYS_PAYMENT_DIFF_MAX</th>\n",
       "      <th>AMT_INCOME_TOTAL</th>\n",
       "      <th>NAME_FAMILY_STATUS</th>\n",
       "      <th>AMT_GOODS_PRICE</th>\n",
       "      <th>CNT_CHILDREN</th>\n",
       "      <th>NAME_CONTRACT_TYPE</th>\n",
       "      <th>NAME_EDUCATION_TYPE</th>\n",
       "      <th>NAME_HOUSING_TYPE</th>\n",
       "      <th>NAME_INCOME_TYPE</th>\n",
       "    </tr>\n",
       "  </thead>\n",
       "  <tbody>\n",
       "    <tr>\n",
       "      <th>0</th>\n",
       "      <td>100001</td>\n",
       "      <td>0</td>\n",
       "      <td>0.3229</td>\n",
       "      <td>32.3</td>\n",
       "      <td>27.6719</td>\n",
       "      <td>3951.0000</td>\n",
       "      <td>-1709.0</td>\n",
       "      <td>3951.0000</td>\n",
       "      <td>0.3289</td>\n",
       "      <td>0.7778</td>\n",
       "      <td>1.4534e+06</td>\n",
       "      <td>0</td>\n",
       "      <td>1</td>\n",
       "      <td>1.7012</td>\n",
       "      <td>-10.0</td>\n",
       "      <td>0.0000</td>\n",
       "      <td>-735.000</td>\n",
       "      <td>0.9578</td>\n",
       "      <td>1.0000</td>\n",
       "      <td>0.9578</td>\n",
       "      <td>1</td>\n",
       "      <td>3951.0000</td>\n",
       "      <td>0.0000e+00</td>\n",
       "      <td>1.0</td>\n",
       "      <td>0.0</td>\n",
       "      <td>-1619.0</td>\n",
       "      <td>2520.0</td>\n",
       "      <td>0.7778</td>\n",
       "      <td>1.0</td>\n",
       "      <td>1</td>\n",
       "      <td>8.0000</td>\n",
       "      <td>9.0</td>\n",
       "      <td>1.0</td>\n",
       "      <td>0.0000</td>\n",
       "      <td>2</td>\n",
       "      <td>0.0</td>\n",
       "      <td>0.9731</td>\n",
       "      <td>0.0</td>\n",
       "      <td>0.1145</td>\n",
       "      <td>23.0</td>\n",
       "      <td>3104.4375</td>\n",
       "      <td>0.9578</td>\n",
       "      <td>85240.9297</td>\n",
       "      <td>0.0</td>\n",
       "      <td>0.0833</td>\n",
       "      <td>8.0</td>\n",
       "      <td>0.9951</td>\n",
       "      <td>568800.0</td>\n",
       "      <td>596686.5</td>\n",
       "      <td>0.1523</td>\n",
       "      <td>-0.0039</td>\n",
       "      <td>207623.5781</td>\n",
       "      <td>4.1196e+04</td>\n",
       "      <td>0.1595</td>\n",
       "      <td>122382.6406</td>\n",
       "      <td>-812</td>\n",
       "      <td>4761.0000</td>\n",
       "      <td>0.7896</td>\n",
       "      <td>1.2637</td>\n",
       "      <td>0.7524</td>\n",
       "      <td>0.3289</td>\n",
       "      <td>20560.5</td>\n",
       "      <td>1.0039</td>\n",
       "      <td>-19241</td>\n",
       "      <td>-1619.0</td>\n",
       "      <td>-2328.0</td>\n",
       "      <td>0.2825</td>\n",
       "      <td>0</td>\n",
       "      <td>14.2733</td>\n",
       "      <td>0.0</td>\n",
       "      <td>0.9790</td>\n",
       "      <td>0.2106</td>\n",
       "      <td>0.0188</td>\n",
       "      <td>7.0</td>\n",
       "      <td>-49.0</td>\n",
       "      <td>-1740.0</td>\n",
       "      <td>90.0</td>\n",
       "      <td>0.7896</td>\n",
       "      <td>17397.9004</td>\n",
       "      <td>-5168.0</td>\n",
       "      <td>4.0000</td>\n",
       "      <td>-2916.0</td>\n",
       "      <td>0.0</td>\n",
       "      <td>0</td>\n",
       "      <td>0.3289</td>\n",
       "      <td>1048.5</td>\n",
       "      <td>6.0</td>\n",
       "      <td>1.0000</td>\n",
       "      <td>0.0</td>\n",
       "      <td>0.0</td>\n",
       "      <td>0.1250</td>\n",
       "      <td>7.0</td>\n",
       "      <td>5885.1323</td>\n",
       "      <td>0.0660</td>\n",
       "      <td>13.0000</td>\n",
       "      <td>0.3000</td>\n",
       "      <td>0.8770</td>\n",
       "      <td>4.2148</td>\n",
       "      <td>-1740.0</td>\n",
       "      <td>-1740.0</td>\n",
       "      <td>7821.0000</td>\n",
       "      <td>0.1661</td>\n",
       "      <td>3951.0000</td>\n",
       "      <td>4.0</td>\n",
       "      <td>846151.5000</td>\n",
       "      <td>7.4297</td>\n",
       "      <td>-320.0</td>\n",
       "      <td>1.1426</td>\n",
       "      <td>1079.8038</td>\n",
       "      <td>36.0</td>\n",
       "      <td>135000.0</td>\n",
       "      <td>Married</td>\n",
       "      <td>450000.0</td>\n",
       "      <td>0</td>\n",
       "      <td>Cash loans</td>\n",
       "      <td>Higher education</td>\n",
       "      <td>House / apartment</td>\n",
       "      <td>Working</td>\n",
       "    </tr>\n",
       "    <tr>\n",
       "      <th>1</th>\n",
       "      <td>100005</td>\n",
       "      <td>1</td>\n",
       "      <td>0.7506</td>\n",
       "      <td>75.1</td>\n",
       "      <td>12.8281</td>\n",
       "      <td>4813.2002</td>\n",
       "      <td>-706.0</td>\n",
       "      <td>4813.2002</td>\n",
       "      <td>0.4385</td>\n",
       "      <td>0.8184</td>\n",
       "      <td>6.5713e+05</td>\n",
       "      <td>0</td>\n",
       "      <td>1</td>\n",
       "      <td>1.2891</td>\n",
       "      <td>-1.0</td>\n",
       "      <td>1.0000</td>\n",
       "      <td>-190.625</td>\n",
       "      <td>0.8999</td>\n",
       "      <td>1.0000</td>\n",
       "      <td>0.8999</td>\n",
       "      <td>1</td>\n",
       "      <td>4813.2002</td>\n",
       "      <td>1.3471e-05</td>\n",
       "      <td>1.0</td>\n",
       "      <td>0.0</td>\n",
       "      <td>-466.0</td>\n",
       "      <td>4464.0</td>\n",
       "      <td>0.0000</td>\n",
       "      <td>1.0</td>\n",
       "      <td>1</td>\n",
       "      <td>12.0000</td>\n",
       "      <td>9.0</td>\n",
       "      <td>0.0</td>\n",
       "      <td>0.0000</td>\n",
       "      <td>2</td>\n",
       "      <td>0.0</td>\n",
       "      <td>0.9814</td>\n",
       "      <td>0.0</td>\n",
       "      <td>0.1145</td>\n",
       "      <td>18.0</td>\n",
       "      <td>3718.1250</td>\n",
       "      <td>0.8999</td>\n",
       "      <td>189469.5000</td>\n",
       "      <td>0.0</td>\n",
       "      <td>0.0124</td>\n",
       "      <td>10.0</td>\n",
       "      <td>0.9629</td>\n",
       "      <td>222768.0</td>\n",
       "      <td>568408.5</td>\n",
       "      <td>0.1754</td>\n",
       "      <td>-0.0020</td>\n",
       "      <td>219042.0000</td>\n",
       "      <td>5.6162e+04</td>\n",
       "      <td>0.4329</td>\n",
       "      <td>29572.5000</td>\n",
       "      <td>-1623</td>\n",
       "      <td>4504.5000</td>\n",
       "      <td>0.2917</td>\n",
       "      <td>1.2373</td>\n",
       "      <td>0.5649</td>\n",
       "      <td>0.4385</td>\n",
       "      <td>17370.0</td>\n",
       "      <td>1.0020</td>\n",
       "      <td>-18064</td>\n",
       "      <td>-466.0</td>\n",
       "      <td>-4468.0</td>\n",
       "      <td>0.6013</td>\n",
       "      <td>1</td>\n",
       "      <td>29.4699</td>\n",
       "      <td>0.0</td>\n",
       "      <td>0.9458</td>\n",
       "      <td>0.2106</td>\n",
       "      <td>0.0358</td>\n",
       "      <td>9.0</td>\n",
       "      <td>-62.0</td>\n",
       "      <td>0.0</td>\n",
       "      <td>240.0</td>\n",
       "      <td>0.5649</td>\n",
       "      <td>17656.2441</td>\n",
       "      <td>-9120.0</td>\n",
       "      <td>11.7031</td>\n",
       "      <td>-706.0</td>\n",
       "      <td>0.0</td>\n",
       "      <td>0</td>\n",
       "      <td>0.4385</td>\n",
       "      <td>4464.0</td>\n",
       "      <td>6.0</td>\n",
       "      <td>1.0000</td>\n",
       "      <td>0.0</td>\n",
       "      <td>0.0</td>\n",
       "      <td>0.1667</td>\n",
       "      <td>3.0</td>\n",
       "      <td>6240.2051</td>\n",
       "      <td>0.0928</td>\n",
       "      <td>10.5000</td>\n",
       "      <td>0.5498</td>\n",
       "      <td>0.8096</td>\n",
       "      <td>2.2500</td>\n",
       "      <td>-315.0</td>\n",
       "      <td>-536.0</td>\n",
       "      <td>17604.9023</td>\n",
       "      <td>0.1199</td>\n",
       "      <td>4813.2002</td>\n",
       "      <td>9.0</td>\n",
       "      <td>228710.6562</td>\n",
       "      <td>23.5625</td>\n",
       "      <td>-62.0</td>\n",
       "      <td>1.1113</td>\n",
       "      <td>602.9390</td>\n",
       "      <td>37.0</td>\n",
       "      <td>99000.0</td>\n",
       "      <td>Married</td>\n",
       "      <td>180000.0</td>\n",
       "      <td>0</td>\n",
       "      <td>Cash loans</td>\n",
       "      <td>Secondary / secondary special</td>\n",
       "      <td>House / apartment</td>\n",
       "      <td>Working</td>\n",
       "    </tr>\n",
       "    <tr>\n",
       "      <th>2</th>\n",
       "      <td>100013</td>\n",
       "      <td>0</td>\n",
       "      <td>0.2673</td>\n",
       "      <td>26.7</td>\n",
       "      <td>9.5078</td>\n",
       "      <td>11478.1953</td>\n",
       "      <td>-3016.0</td>\n",
       "      <td>4742.4150</td>\n",
       "      <td>0.3884</td>\n",
       "      <td>0.8887</td>\n",
       "      <td>2.0723e+06</td>\n",
       "      <td>0</td>\n",
       "      <td>0</td>\n",
       "      <td>1.8184</td>\n",
       "      <td>-21.0</td>\n",
       "      <td>0.5000</td>\n",
       "      <td>-1738.000</td>\n",
       "      <td>0.9393</td>\n",
       "      <td>0.9355</td>\n",
       "      <td>1.0524</td>\n",
       "      <td>1</td>\n",
       "      <td>67.5000</td>\n",
       "      <td>7.5102e-06</td>\n",
       "      <td>1.0</td>\n",
       "      <td>0.0</td>\n",
       "      <td>-14.0</td>\n",
       "      <td>3375.0</td>\n",
       "      <td>0.0000</td>\n",
       "      <td>1.0</td>\n",
       "      <td>0</td>\n",
       "      <td>17.3281</td>\n",
       "      <td>5.0</td>\n",
       "      <td>1.0</td>\n",
       "      <td>1157.6627</td>\n",
       "      <td>2</td>\n",
       "      <td>0.0</td>\n",
       "      <td>0.9814</td>\n",
       "      <td>0.0</td>\n",
       "      <td>0.1153</td>\n",
       "      <td>82.0</td>\n",
       "      <td>7115.1665</td>\n",
       "      <td>1.1386</td>\n",
       "      <td>0.0000</td>\n",
       "      <td>0.0</td>\n",
       "      <td>0.0062</td>\n",
       "      <td>43.0</td>\n",
       "      <td>0.9966</td>\n",
       "      <td>663264.0</td>\n",
       "      <td>0.0</td>\n",
       "      <td>0.3445</td>\n",
       "      <td>-0.0011</td>\n",
       "      <td>518070.0000</td>\n",
       "      <td>1.6892e+06</td>\n",
       "      <td>0.6108</td>\n",
       "      <td>26490.0605</td>\n",
       "      <td>-3503</td>\n",
       "      <td>26490.0605</td>\n",
       "      <td>0.6997</td>\n",
       "      <td>1.0527</td>\n",
       "      <td>0.5068</td>\n",
       "      <td>0.6270</td>\n",
       "      <td>69777.0</td>\n",
       "      <td>1.1846</td>\n",
       "      <td>-20038</td>\n",
       "      <td>-92.0</td>\n",
       "      <td>-4456.0</td>\n",
       "      <td>0.0000</td>\n",
       "      <td>1</td>\n",
       "      <td>158.3704</td>\n",
       "      <td>19305.0</td>\n",
       "      <td>0.8931</td>\n",
       "      <td>0.2556</td>\n",
       "      <td>0.0191</td>\n",
       "      <td>32.0</td>\n",
       "      <td>-1210.0</td>\n",
       "      <td>-856.0</td>\n",
       "      <td>290.0</td>\n",
       "      <td>0.6997</td>\n",
       "      <td>357347.7500</td>\n",
       "      <td>-2176.0</td>\n",
       "      <td>21.3906</td>\n",
       "      <td>-2704.0</td>\n",
       "      <td>1.0</td>\n",
       "      <td>0</td>\n",
       "      <td>0.1742</td>\n",
       "      <td>-61051.5</td>\n",
       "      <td>23.0</td>\n",
       "      <td>1.0000</td>\n",
       "      <td>0.0</td>\n",
       "      <td>0.5</td>\n",
       "      <td>0.1667</td>\n",
       "      <td>4.0</td>\n",
       "      <td>10897.8984</td>\n",
       "      <td>0.0928</td>\n",
       "      <td>14.5000</td>\n",
       "      <td>0.3215</td>\n",
       "      <td>0.7939</td>\n",
       "      <td>3.2754</td>\n",
       "      <td>-222.0</td>\n",
       "      <td>-837.5</td>\n",
       "      <td>114281.0938</td>\n",
       "      <td>0.1257</td>\n",
       "      <td>34434.5859</td>\n",
       "      <td>113.0</td>\n",
       "      <td>331510.7812</td>\n",
       "      <td>5.1992</td>\n",
       "      <td>-1665.0</td>\n",
       "      <td>0.2773</td>\n",
       "      <td>-112057.1641</td>\n",
       "      <td>38.0</td>\n",
       "      <td>202500.0</td>\n",
       "      <td>Married</td>\n",
       "      <td>630000.0</td>\n",
       "      <td>0</td>\n",
       "      <td>Cash loans</td>\n",
       "      <td>Higher education</td>\n",
       "      <td>House / apartment</td>\n",
       "      <td>Working</td>\n",
       "    </tr>\n",
       "    <tr>\n",
       "      <th>3</th>\n",
       "      <td>100028</td>\n",
       "      <td>0</td>\n",
       "      <td>0.1873</td>\n",
       "      <td>18.7</td>\n",
       "      <td>32.1250</td>\n",
       "      <td>8091.5850</td>\n",
       "      <td>-3812.0</td>\n",
       "      <td>6028.0200</td>\n",
       "      <td>-0.2394</td>\n",
       "      <td>0.9355</td>\n",
       "      <td>1.5209e+06</td>\n",
       "      <td>0</td>\n",
       "      <td>1</td>\n",
       "      <td>1.6484</td>\n",
       "      <td>-7.0</td>\n",
       "      <td>0.6001</td>\n",
       "      <td>-1402.000</td>\n",
       "      <td>0.9024</td>\n",
       "      <td>0.9115</td>\n",
       "      <td>0.9675</td>\n",
       "      <td>1</td>\n",
       "      <td>1.1700</td>\n",
       "      <td>1.9073e-06</td>\n",
       "      <td>1.0</td>\n",
       "      <td>0.0</td>\n",
       "      <td>-27.0</td>\n",
       "      <td>3750.0</td>\n",
       "      <td>0.0000</td>\n",
       "      <td>1.0</td>\n",
       "      <td>1</td>\n",
       "      <td>11.3359</td>\n",
       "      <td>9.0</td>\n",
       "      <td>0.0</td>\n",
       "      <td>622.5507</td>\n",
       "      <td>2</td>\n",
       "      <td>0.0</td>\n",
       "      <td>0.9971</td>\n",
       "      <td>0.0</td>\n",
       "      <td>0.0359</td>\n",
       "      <td>1409.6</td>\n",
       "      <td>6022.1064</td>\n",
       "      <td>1.0000</td>\n",
       "      <td>18630.4492</td>\n",
       "      <td>0.0</td>\n",
       "      <td>0.0020</td>\n",
       "      <td>52.0</td>\n",
       "      <td>0.9961</td>\n",
       "      <td>1575000.0</td>\n",
       "      <td>186304.5</td>\n",
       "      <td>0.1556</td>\n",
       "      <td>-0.0048</td>\n",
       "      <td>126739.5938</td>\n",
       "      <td>5.6266e+05</td>\n",
       "      <td>0.6128</td>\n",
       "      <td>75722.0547</td>\n",
       "      <td>-4208</td>\n",
       "      <td>0.0000</td>\n",
       "      <td>0.5098</td>\n",
       "      <td>1.0000</td>\n",
       "      <td>0.5259</td>\n",
       "      <td>0.1755</td>\n",
       "      <td>49018.5</td>\n",
       "      <td>1.0088</td>\n",
       "      <td>-13976</td>\n",
       "      <td>-646.0</td>\n",
       "      <td>-1866.0</td>\n",
       "      <td>0.1100</td>\n",
       "      <td>0</td>\n",
       "      <td>40.9233</td>\n",
       "      <td>0.0</td>\n",
       "      <td>0.9312</td>\n",
       "      <td>0.0454</td>\n",
       "      <td>0.0264</td>\n",
       "      <td>29.0</td>\n",
       "      <td>-269.0</td>\n",
       "      <td>-1805.0</td>\n",
       "      <td>405.0</td>\n",
       "      <td>0.6128</td>\n",
       "      <td>38988.5391</td>\n",
       "      <td>-2000.0</td>\n",
       "      <td>20.3594</td>\n",
       "      <td>-1773.0</td>\n",
       "      <td>0.0</td>\n",
       "      <td>0</td>\n",
       "      <td>-1.0000</td>\n",
       "      <td>-218565.0</td>\n",
       "      <td>117.0</td>\n",
       "      <td>0.7998</td>\n",
       "      <td>0.0</td>\n",
       "      <td>0.0</td>\n",
       "      <td>0.3750</td>\n",
       "      <td>12.0</td>\n",
       "      <td>4979.2822</td>\n",
       "      <td>0.3052</td>\n",
       "      <td>10.7969</td>\n",
       "      <td>0.2000</td>\n",
       "      <td>0.3828</td>\n",
       "      <td>5.0000</td>\n",
       "      <td>-531.0</td>\n",
       "      <td>-1124.0</td>\n",
       "      <td>-66882.3906</td>\n",
       "      <td>0.0712</td>\n",
       "      <td>24274.7539</td>\n",
       "      <td>74.0</td>\n",
       "      <td>514039.8438</td>\n",
       "      <td>3.0000</td>\n",
       "      <td>-1102.0</td>\n",
       "      <td>0.4602</td>\n",
       "      <td>208.5032</td>\n",
       "      <td>19.0</td>\n",
       "      <td>315000.0</td>\n",
       "      <td>Married</td>\n",
       "      <td>1575000.0</td>\n",
       "      <td>2</td>\n",
       "      <td>Cash loans</td>\n",
       "      <td>Secondary / secondary special</td>\n",
       "      <td>House / apartment</td>\n",
       "      <td>Working</td>\n",
       "    </tr>\n",
       "    <tr>\n",
       "      <th>4</th>\n",
       "      <td>100038</td>\n",
       "      <td>1</td>\n",
       "      <td>0.6179</td>\n",
       "      <td>61.8</td>\n",
       "      <td>19.5000</td>\n",
       "      <td>17782.1562</td>\n",
       "      <td>-787.0</td>\n",
       "      <td>11100.5996</td>\n",
       "      <td>0.5850</td>\n",
       "      <td>0.9229</td>\n",
       "      <td>1.0906e+06</td>\n",
       "      <td>0</td>\n",
       "      <td>1</td>\n",
       "      <td>1.1465</td>\n",
       "      <td>9.0</td>\n",
       "      <td>1.0000</td>\n",
       "      <td>-1063.000</td>\n",
       "      <td>1.1188</td>\n",
       "      <td>1.0000</td>\n",
       "      <td>1.1314</td>\n",
       "      <td>1</td>\n",
       "      <td>11097.4502</td>\n",
       "      <td>3.2187e-06</td>\n",
       "      <td>1.0</td>\n",
       "      <td>0.0</td>\n",
       "      <td>-457.0</td>\n",
       "      <td>8095.5</td>\n",
       "      <td>0.0000</td>\n",
       "      <td>1.0</td>\n",
       "      <td>0</td>\n",
       "      <td>24.0000</td>\n",
       "      <td>16.0</td>\n",
       "      <td>0.0</td>\n",
       "      <td>0.0000</td>\n",
       "      <td>2</td>\n",
       "      <td>0.0</td>\n",
       "      <td>0.9814</td>\n",
       "      <td>0.0</td>\n",
       "      <td>0.1145</td>\n",
       "      <td>13.0</td>\n",
       "      <td>9685.6250</td>\n",
       "      <td>1.1439</td>\n",
       "      <td>48344.7500</td>\n",
       "      <td>0.0</td>\n",
       "      <td>0.0177</td>\n",
       "      <td>12.0</td>\n",
       "      <td>0.9805</td>\n",
       "      <td>625500.0</td>\n",
       "      <td>207099.0</td>\n",
       "      <td>0.1781</td>\n",
       "      <td>-0.0073</td>\n",
       "      <td>207954.9062</td>\n",
       "      <td>1.3320e+05</td>\n",
       "      <td>0.5190</td>\n",
       "      <td>118865.0234</td>\n",
       "      <td>-4262</td>\n",
       "      <td>20727.0000</td>\n",
       "      <td>0.4258</td>\n",
       "      <td>1.0000</td>\n",
       "      <td>0.2021</td>\n",
       "      <td>0.7319</td>\n",
       "      <td>32067.0</td>\n",
       "      <td>0.9858</td>\n",
       "      <td>-13040</td>\n",
       "      <td>-457.0</td>\n",
       "      <td>-2192.0</td>\n",
       "      <td>0.1780</td>\n",
       "      <td>1</td>\n",
       "      <td>2096.6001</td>\n",
       "      <td>0.0</td>\n",
       "      <td>0.9746</td>\n",
       "      <td>0.2106</td>\n",
       "      <td>0.0100</td>\n",
       "      <td>12.0</td>\n",
       "      <td>-327.0</td>\n",
       "      <td>-821.0</td>\n",
       "      <td>330.0</td>\n",
       "      <td>0.5190</td>\n",
       "      <td>11100.5996</td>\n",
       "      <td>-4000.0</td>\n",
       "      <td>12.0000</td>\n",
       "      <td>-787.0</td>\n",
       "      <td>0.0</td>\n",
       "      <td>1</td>\n",
       "      <td>0.4385</td>\n",
       "      <td>-65646.0</td>\n",
       "      <td>6.0</td>\n",
       "      <td>1.0000</td>\n",
       "      <td>0.0</td>\n",
       "      <td>0.5</td>\n",
       "      <td>0.1667</td>\n",
       "      <td>5.0</td>\n",
       "      <td>11100.3369</td>\n",
       "      <td>0.0928</td>\n",
       "      <td>5.5000</td>\n",
       "      <td>0.2878</td>\n",
       "      <td>0.8096</td>\n",
       "      <td>3.4746</td>\n",
       "      <td>-111.0</td>\n",
       "      <td>-466.0</td>\n",
       "      <td>206399.9062</td>\n",
       "      <td>0.0840</td>\n",
       "      <td>35564.3125</td>\n",
       "      <td>12.0</td>\n",
       "      <td>346792.0938</td>\n",
       "      <td>12.2500</td>\n",
       "      <td>-1087.0</td>\n",
       "      <td>1.0000</td>\n",
       "      <td>-225753.1094</td>\n",
       "      <td>18.0</td>\n",
       "      <td>180000.0</td>\n",
       "      <td>Married</td>\n",
       "      <td>625500.0</td>\n",
       "      <td>1</td>\n",
       "      <td>Cash loans</td>\n",
       "      <td>Secondary / secondary special</td>\n",
       "      <td>House / apartment</td>\n",
       "      <td>Working</td>\n",
       "    </tr>\n",
       "  </tbody>\n",
       "</table>\n",
       "</div>"
      ],
      "text/plain": [
       "   SK_ID_CURR  PRED_CLASSE_CLIENT  SCORE_CLIENT  SCORE_CLIENT_%  CREDIT_ANNUITY_RATIO  PREV_APP_AMT_ANNUITY_MEAN  PREV_APP_DAYS_FIRST_DUE_SUM  PREV_APP_AMT_ANNUITY_MIN  PREV_APP_INTEREST_SHARE_MEAN  POS_CASH_NAME_CONTRACT_STATUS_ACTIVE_MEAN  BUREAU_AMT_CREDIT_SUM_SUM  REG_CITY_NOT_LIVE_CITY  \\\n",
       "0      100001                   0        0.3229            32.3               27.6719                  3951.0000                      -1709.0                 3951.0000                        0.3289                                     0.7778                 1.4534e+06                       0   \n",
       "1      100005                   1        0.7506            75.1               12.8281                  4813.2002                       -706.0                 4813.2002                        0.4385                                     0.8184                 6.5713e+05                       0   \n",
       "2      100013                   0        0.2673            26.7                9.5078                 11478.1953                      -3016.0                 4742.4150                        0.3884                                     0.8887                 2.0723e+06                       0   \n",
       "3      100028                   0        0.1873            18.7               32.1250                  8091.5850                      -3812.0                 6028.0200                       -0.2394                                     0.9355                 1.5209e+06                       0   \n",
       "4      100038                   1        0.6179            61.8               19.5000                 17782.1562                       -787.0                11100.5996                        0.5850                                     0.9229                 1.0906e+06                       0   \n",
       "\n",
       "   FLAG_DOCUMENT_3  EXT_SOURCE_SUM  INST_PAY_DAYS_PAYMENT_DIFF_MIN  PREV_APP_NAME_CONTRACT_STATUS_MEAN  BUREAU_DAYS_CREDIT_MEAN  PREV_APP_AMT_CREDIT_GOODS_RATIO_MIN  INST_PAY_AMT_PAYMENT_RATIO_MEAN  PREV_APP_AMT_CREDIT_GOODS_RATIO_MEAN  FLAGS_DOCUMENTS_SUM  INST_PAY_AMT_INSTALMENT_MIN  \\\n",
       "0                1          1.7012                           -10.0                              0.0000                 -735.000                               0.9578                           1.0000                                0.9578                    1                    3951.0000   \n",
       "1                1          1.2891                            -1.0                              1.0000                 -190.625                               0.8999                           1.0000                                0.8999                    1                    4813.2002   \n",
       "2                0          1.8184                           -21.0                              0.5000                -1738.000                               0.9393                           0.9355                                1.0524                    1                      67.5000   \n",
       "3                1          1.6484                            -7.0                              0.6001                -1402.000                               0.9024                           0.9115                                0.9675                    1                       1.1700   \n",
       "4                1          1.1465                             9.0                              1.0000                -1063.000                               1.1188                           1.0000                                1.1314                    1                   11097.4502   \n",
       "\n",
       "   ENQ_CREDIT_RATIO  NAME_INCOME_TYPE_WORKING  BUREAU_CREDIT_TYPE_MORTGAGE_MEAN  INST_PAY_DAYS_INSTALMENT_MAX  PREV_APP_AMT_DOWN_PAYMENT_MEAN  POS_CASH_SK_DPD_DEF_MEAN  NAME_FAMILY_STATUS_MARRIED  FLAG_OWN_CAR  PREV_APP_CNT_PAYMENT_MEAN  OWN_CAR_AGE  NAME_EDUCATION_TYPE_HIGHER_EDUCATION  \\\n",
       "0        0.0000e+00                       1.0                               0.0                       -1619.0                          2520.0                    0.7778                         1.0             1                     8.0000          9.0                                   1.0   \n",
       "1        1.3471e-05                       1.0                               0.0                        -466.0                          4464.0                    0.0000                         1.0             1                    12.0000          9.0                                   0.0   \n",
       "2        7.5102e-06                       1.0                               0.0                         -14.0                          3375.0                    0.0000                         1.0             0                    17.3281          5.0                                   1.0   \n",
       "3        1.9073e-06                       1.0                               0.0                         -27.0                          3750.0                    0.0000                         1.0             1                    11.3359          9.0                                   0.0   \n",
       "4        3.2187e-06                       1.0                               0.0                        -457.0                          8095.5                    0.0000                         1.0             0                    24.0000         16.0                                   0.0   \n",
       "\n",
       "   INST_PAY_AMT_PAYMENT_DIFF_MEAN  REGION_RATING_CLIENT  NAME_INCOME_TYPE_STATE_SERVANT  YEARS_BEGINEXPLUATATION_AVG  DEF_30_CNT_SOCIAL_CIRCLE  CCB_BALANCE_LIMIT_RATIO_MEAN  PREV_APP_SELLERPLACE_AREA_MEAN  PREV_APP_ANNUITY_GOODS_MEAN  PREV_APP_AMT_CREDIT_GOODS_RATIO_MAX  \\\n",
       "0                          0.0000                     2                             0.0                       0.9731                       0.0                        0.1145                            23.0                    3104.4375                               0.9578   \n",
       "1                          0.0000                     2                             0.0                       0.9814                       0.0                        0.1145                            18.0                    3718.1250                               0.8999   \n",
       "2                       1157.6627                     2                             0.0                       0.9814                       0.0                        0.1153                            82.0                    7115.1665                               1.1386   \n",
       "3                        622.5507                     2                             0.0                       0.9971                       0.0                        0.0359                          1409.6                    6022.1064                               1.0000   \n",
       "4                          0.0000                     2                             0.0                       0.9814                       0.0                        0.1145                            13.0                    9685.6250                               1.1439   \n",
       "\n",
       "   BUREAU_AMT_CREDIT_SUM_DEBT_MEAN  OCCUPATION_TYPE_CORE_STAFF  EXT_SOURCE_VAR  INST_PAY_NUM_INSTALMENT_VERSION_SUM  INST_PAY_DAYS_PAYMENT_RATIO_MEAN  AMT_CREDIT  BUREAU_AMT_CREDIT_SUM_DEBT_SUM  ANNUITY_INCOME_RATIO  CAR_EMPLOYED_RATIO  BUREAU_AMT_CREDIT_SUM_MEAN  INST_PAY_AMT_INSTALMENT_SUM  \\\n",
       "0                       85240.9297                         0.0          0.0833                                  8.0                            0.9951    568800.0                        596686.5                0.1523             -0.0039                 207623.5781                   4.1196e+04   \n",
       "1                      189469.5000                         0.0          0.0124                                 10.0                            0.9629    222768.0                        568408.5                0.1754             -0.0020                 219042.0000                   5.6162e+04   \n",
       "2                           0.0000                         0.0          0.0062                                 43.0                            0.9966    663264.0                             0.0                0.3445             -0.0011                 518070.0000                   1.6892e+06   \n",
       "3                       18630.4492                         0.0          0.0020                                 52.0                            0.9961   1575000.0                        186304.5                0.1556             -0.0048                 126739.5938                   5.6266e+05   \n",
       "4                       48344.7500                         0.0          0.0177                                 12.0                            0.9805    625500.0                        207099.0                0.1781             -0.0073                 207954.9062                   1.3320e+05   \n",
       "\n",
       "   EXT_SOURCE_3  BUREAU_CURRENT_CREDIT_DEBT_DIFF_MEAN  DAYS_ID_PUBLISH  BUREAU_CURRENT_CREDIT_DEBT_DIFF_MIN  EXT_SOURCE_2  CREDIT_GOODS_RATIO  EXT_SOURCE_1  PREV_APP_INTEREST_SHARE_MAX  AMT_ANNUITY  INST_PAY_DAYS_PAYMENT_RATIO_MAX  DAYS_BIRTH  PREV_APP_DAYS_LAST_DUE_MAX  DAYS_EMPLOYED  \\\n",
       "0        0.1595                           122382.6406             -812                            4761.0000        0.7896              1.2637        0.7524                       0.3289      20560.5                           1.0039      -19241                     -1619.0        -2328.0   \n",
       "1        0.4329                            29572.5000            -1623                            4504.5000        0.2917              1.2373        0.5649                       0.4385      17370.0                           1.0020      -18064                      -466.0        -4468.0   \n",
       "2        0.6108                            26490.0605            -3503                           26490.0605        0.6997              1.0527        0.5068                       0.6270      69777.0                           1.1846      -20038                       -92.0        -4456.0   \n",
       "3        0.6128                            75722.0547            -4208                               0.0000        0.5098              1.0000        0.5259                       0.1755      49018.5                           1.0088      -13976                      -646.0        -1866.0   \n",
       "4        0.5190                           118865.0234            -4262                           20727.0000        0.4258              1.0000        0.2021                       0.7319      32067.0                           0.9858      -13040                      -457.0        -2192.0   \n",
       "\n",
       "   BUREAU_CURRENT_DEBT_TO_CREDIT_RATIO_MEAN  CODE_GENDER  PREV_APP_APPLICATION_AMT_TO_DECISION_RATIO_MEAN  BUREAU_AMT_CREDIT_MAX_OVERDUE_MAX  INST_PAY_DAYS_PAYMENT_RATIO_MIN  CCB_CNT_DRAWINGS_ATM_CURRENT_MEAN  REGION_POPULATION_RELATIVE  POS_CASH_NAME_CONTRACT_STATUS_ACTIVE_SUM  \\\n",
       "0                                    0.2825            0                                          14.2733                                0.0                           0.9790                             0.2106                      0.0188                                       7.0   \n",
       "1                                    0.6013            1                                          29.4699                                0.0                           0.9458                             0.2106                      0.0358                                       9.0   \n",
       "2                                    0.0000            1                                         158.3704                            19305.0                           0.8931                             0.2556                      0.0191                                      32.0   \n",
       "3                                    0.1100            0                                          40.9233                                0.0                           0.9312                             0.0454                      0.0264                                      29.0   \n",
       "4                                    0.1780            1                                        2096.6001                                0.0                           0.9746                             0.2106                      0.0100                                      12.0   \n",
       "\n",
       "   BUREAU_DAYS_CREDIT_MAX  DAYS_LAST_PHONE_CHANGE  PREV_APP_DAYS_FIRST_LAST_DUE_DIFF_MEAN  EXT_SOURCE_MAX  INST_PAY_AMT_INSTALMENT_MAX  DAYS_REGISTRATION  POS_CASH_CNT_INSTALMENT_MEAN  INST_PAY_DAYS_INSTALMENT_MIN  AMT_REQ_CREDIT_BUREAU_QRT  FLAG_WORK_PHONE  PREV_APP_INTEREST_SHARE_MIN  \\\n",
       "0                   -49.0                 -1740.0                                    90.0          0.7896                   17397.9004            -5168.0                        4.0000                       -2916.0                        0.0                0                       0.3289   \n",
       "1                   -62.0                     0.0                                   240.0          0.5649                   17656.2441            -9120.0                       11.7031                        -706.0                        0.0                0                       0.4385   \n",
       "2                 -1210.0                  -856.0                                   290.0          0.6997                  357347.7500            -2176.0                       21.3906                       -2704.0                        1.0                0                       0.1742   \n",
       "3                  -269.0                 -1805.0                                   405.0          0.6128                   38988.5391            -2000.0                       20.3594                       -1773.0                        0.0                0                      -1.0000   \n",
       "4                  -327.0                  -821.0                                   330.0          0.5190                   11100.5996            -4000.0                       12.0000                        -787.0                        0.0                1                       0.4385   \n",
       "\n",
       "   PREV_APP_AMT_DECLINED_SUM  CCB_CNT_DRAWINGS_CURRENT_SUM  PREV_APP_CODE_REJECT_REASON_XAP_MEAN  BUREAU_CREDIT_TYPE_MICROLOAN_MEAN  PREV_APP_NAME_TYPE_SUITE_UNACCOMPANIED_MEAN  FLOORSMAX_AVG  BUREAU_CREDIT_ACTIVE_ACTIVE_COUNT  INST_PAY_AMT_INSTALMENT_MEAN  APARTMENTS_AVG  \\\n",
       "0                     1048.5                           6.0                                1.0000                                0.0                                          0.0         0.1250                                7.0                     5885.1323          0.0660   \n",
       "1                     4464.0                           6.0                                1.0000                                0.0                                          0.0         0.1667                                3.0                     6240.2051          0.0928   \n",
       "2                   -61051.5                          23.0                                1.0000                                0.0                                          0.5         0.1667                                4.0                    10897.8984          0.0928   \n",
       "3                  -218565.0                         117.0                                0.7998                                0.0                                          0.0         0.3750                               12.0                     4979.2822          0.3052   \n",
       "4                   -65646.0                           6.0                                1.0000                                0.0                                          0.5         0.1667                                5.0                    11100.3369          0.0928   \n",
       "\n",
       "   PREV_APP_HOUR_APPR_PROCESS_START_MEAN  INCOME_GOODS_DIFF  PREV_APP_INTEREST_RATE_MAX  CREDIT_INCOME_RATIO  PREV_APP_DAYS_DECISION_MAX  PREV_APP_DAYS_DECISION_MEAN  PREV_APP_AMT_INTEREST_MEAN  PREV_APP_LOAN_RATE_MEAN  PREV_APP_AMT_ANNUITY_SUM  INST_PAY_NUM_INSTALMENT_NUMBER_MAX  \\\n",
       "0                                13.0000             0.3000                      0.8770               4.2148                     -1740.0                      -1740.0                   7821.0000                   0.1661                 3951.0000                                 4.0   \n",
       "1                                10.5000             0.5498                      0.8096               2.2500                      -315.0                       -536.0                  17604.9023                   0.1199                 4813.2002                                 9.0   \n",
       "2                                14.5000             0.3215                      0.7939               3.2754                      -222.0                       -837.5                 114281.0938                   0.1257                34434.5859                               113.0   \n",
       "3                                10.7969             0.2000                      0.3828               5.0000                      -531.0                      -1124.0                 -66882.3906                   0.0712                24274.7539                                74.0   \n",
       "4                                 5.5000             0.2878                      0.8096               3.4746                      -111.0                       -466.0                 206399.9062                   0.0840                35564.3125                                12.0   \n",
       "\n",
       "   INCOME_EXT_RATIO  INST_PAY_DAYS_PAYMENT_DIFF_MEAN  BUREAU_DAYS_CREDIT_LAST  INST_PAY_NUM_INSTALMENT_VERSION_MEAN  PREV_APP_AMT_APPLICATION_TO_SELLERPLACE_AREA_MEAN  INST_PAY_DAYS_PAYMENT_DIFF_MAX  AMT_INCOME_TOTAL NAME_FAMILY_STATUS  AMT_GOODS_PRICE  CNT_CHILDREN NAME_CONTRACT_TYPE  \\\n",
       "0       846151.5000                           7.4297                   -320.0                                1.1426                                          1079.8038                            36.0          135000.0            Married         450000.0             0         Cash loans   \n",
       "1       228710.6562                          23.5625                    -62.0                                1.1113                                           602.9390                            37.0           99000.0            Married         180000.0             0         Cash loans   \n",
       "2       331510.7812                           5.1992                  -1665.0                                0.2773                                       -112057.1641                            38.0          202500.0            Married         630000.0             0         Cash loans   \n",
       "3       514039.8438                           3.0000                  -1102.0                                0.4602                                           208.5032                            19.0          315000.0            Married        1575000.0             2         Cash loans   \n",
       "4       346792.0938                          12.2500                  -1087.0                                1.0000                                       -225753.1094                            18.0          180000.0            Married         625500.0             1         Cash loans   \n",
       "\n",
       "             NAME_EDUCATION_TYPE  NAME_HOUSING_TYPE NAME_INCOME_TYPE  \n",
       "0               Higher education  House / apartment          Working  \n",
       "1  Secondary / secondary special  House / apartment          Working  \n",
       "2               Higher education  House / apartment          Working  \n",
       "3  Secondary / secondary special  House / apartment          Working  \n",
       "4  Secondary / secondary special  House / apartment          Working  "
      ]
     },
     "execution_count": 16,
     "metadata": {},
     "output_type": "execute_result"
    }
   ],
   "source": [
    "# Ajout des varaibles manquantes au dataframe du dashboard\n",
    "df_dashboard = df_dashboard.merge(df_infos, on='SK_ID_CURR', how='right')\n",
    "df_dashboard.head(3)"
   ]
  },
  {
   "cell_type": "markdown",
   "id": "9c2509de",
   "metadata": {},
   "source": [
    "**Modification des dates en années au lieu de jours (positif)**"
   ]
  },
  {
   "cell_type": "code",
   "execution_count": 17,
   "id": "d913fcce",
   "metadata": {},
   "outputs": [],
   "source": [
    "# Transformer DAYS_BIRTH en années positives\n",
    "df_dashboard['YEAR_BIRTH'] = \\\n",
    "    np.trunc(np.abs(df_dashboard['DAYS_BIRTH'] / 365)).astype('int8')"
   ]
  },
  {
   "cell_type": "code",
   "execution_count": 18,
   "id": "ab1fd76e",
   "metadata": {},
   "outputs": [],
   "source": [
    "# Transformer DAYS_EMPLOYED en années positives\n",
    "df_dashboard['YEAR_EMPLOYED'] = \\\n",
    "    np.trunc(np.abs(df_dashboard['DAYS_EMPLOYED'] / 365)).astype('int8')"
   ]
  },
  {
   "cell_type": "code",
   "execution_count": 19,
   "id": "d2fa4ec9",
   "metadata": {},
   "outputs": [],
   "source": [
    "# Transformer sexe : 0 = Féminin et 1 = Masculin\n",
    "df_dashboard['SEXE'] = ['Féminin' if row == 0 else 'Masculin'\n",
    "                        for row in df_dashboard['CODE_GENDER']] "
   ]
  },
  {
   "cell_type": "code",
   "execution_count": 20,
   "id": "75441a74",
   "metadata": {},
   "outputs": [
    {
     "data": {
      "text/html": [
       "<div>\n",
       "<style scoped>\n",
       "    .dataframe tbody tr th:only-of-type {\n",
       "        vertical-align: middle;\n",
       "    }\n",
       "\n",
       "    .dataframe tbody tr th {\n",
       "        vertical-align: top;\n",
       "    }\n",
       "\n",
       "    .dataframe thead th {\n",
       "        text-align: right;\n",
       "    }\n",
       "</style>\n",
       "<table border=\"1\" class=\"dataframe\">\n",
       "  <thead>\n",
       "    <tr style=\"text-align: right;\">\n",
       "      <th></th>\n",
       "      <th>SK_ID_CURR</th>\n",
       "      <th>PRED_CLASSE_CLIENT</th>\n",
       "      <th>SCORE_CLIENT</th>\n",
       "      <th>SCORE_CLIENT_%</th>\n",
       "      <th>CREDIT_ANNUITY_RATIO</th>\n",
       "      <th>PREV_APP_AMT_ANNUITY_MEAN</th>\n",
       "      <th>PREV_APP_DAYS_FIRST_DUE_SUM</th>\n",
       "      <th>PREV_APP_AMT_ANNUITY_MIN</th>\n",
       "      <th>PREV_APP_INTEREST_SHARE_MEAN</th>\n",
       "      <th>POS_CASH_NAME_CONTRACT_STATUS_ACTIVE_MEAN</th>\n",
       "      <th>BUREAU_AMT_CREDIT_SUM_SUM</th>\n",
       "      <th>REG_CITY_NOT_LIVE_CITY</th>\n",
       "      <th>FLAG_DOCUMENT_3</th>\n",
       "      <th>EXT_SOURCE_SUM</th>\n",
       "      <th>INST_PAY_DAYS_PAYMENT_DIFF_MIN</th>\n",
       "      <th>PREV_APP_NAME_CONTRACT_STATUS_MEAN</th>\n",
       "      <th>BUREAU_DAYS_CREDIT_MEAN</th>\n",
       "      <th>PREV_APP_AMT_CREDIT_GOODS_RATIO_MIN</th>\n",
       "      <th>INST_PAY_AMT_PAYMENT_RATIO_MEAN</th>\n",
       "      <th>PREV_APP_AMT_CREDIT_GOODS_RATIO_MEAN</th>\n",
       "      <th>FLAGS_DOCUMENTS_SUM</th>\n",
       "      <th>INST_PAY_AMT_INSTALMENT_MIN</th>\n",
       "      <th>ENQ_CREDIT_RATIO</th>\n",
       "      <th>NAME_INCOME_TYPE_WORKING</th>\n",
       "      <th>BUREAU_CREDIT_TYPE_MORTGAGE_MEAN</th>\n",
       "      <th>INST_PAY_DAYS_INSTALMENT_MAX</th>\n",
       "      <th>PREV_APP_AMT_DOWN_PAYMENT_MEAN</th>\n",
       "      <th>POS_CASH_SK_DPD_DEF_MEAN</th>\n",
       "      <th>NAME_FAMILY_STATUS_MARRIED</th>\n",
       "      <th>FLAG_OWN_CAR</th>\n",
       "      <th>PREV_APP_CNT_PAYMENT_MEAN</th>\n",
       "      <th>OWN_CAR_AGE</th>\n",
       "      <th>NAME_EDUCATION_TYPE_HIGHER_EDUCATION</th>\n",
       "      <th>INST_PAY_AMT_PAYMENT_DIFF_MEAN</th>\n",
       "      <th>REGION_RATING_CLIENT</th>\n",
       "      <th>NAME_INCOME_TYPE_STATE_SERVANT</th>\n",
       "      <th>YEARS_BEGINEXPLUATATION_AVG</th>\n",
       "      <th>DEF_30_CNT_SOCIAL_CIRCLE</th>\n",
       "      <th>CCB_BALANCE_LIMIT_RATIO_MEAN</th>\n",
       "      <th>PREV_APP_SELLERPLACE_AREA_MEAN</th>\n",
       "      <th>PREV_APP_ANNUITY_GOODS_MEAN</th>\n",
       "      <th>PREV_APP_AMT_CREDIT_GOODS_RATIO_MAX</th>\n",
       "      <th>BUREAU_AMT_CREDIT_SUM_DEBT_MEAN</th>\n",
       "      <th>OCCUPATION_TYPE_CORE_STAFF</th>\n",
       "      <th>EXT_SOURCE_VAR</th>\n",
       "      <th>INST_PAY_NUM_INSTALMENT_VERSION_SUM</th>\n",
       "      <th>INST_PAY_DAYS_PAYMENT_RATIO_MEAN</th>\n",
       "      <th>AMT_CREDIT</th>\n",
       "      <th>BUREAU_AMT_CREDIT_SUM_DEBT_SUM</th>\n",
       "      <th>ANNUITY_INCOME_RATIO</th>\n",
       "      <th>CAR_EMPLOYED_RATIO</th>\n",
       "      <th>BUREAU_AMT_CREDIT_SUM_MEAN</th>\n",
       "      <th>INST_PAY_AMT_INSTALMENT_SUM</th>\n",
       "      <th>EXT_SOURCE_3</th>\n",
       "      <th>BUREAU_CURRENT_CREDIT_DEBT_DIFF_MEAN</th>\n",
       "      <th>DAYS_ID_PUBLISH</th>\n",
       "      <th>BUREAU_CURRENT_CREDIT_DEBT_DIFF_MIN</th>\n",
       "      <th>EXT_SOURCE_2</th>\n",
       "      <th>CREDIT_GOODS_RATIO</th>\n",
       "      <th>EXT_SOURCE_1</th>\n",
       "      <th>PREV_APP_INTEREST_SHARE_MAX</th>\n",
       "      <th>AMT_ANNUITY</th>\n",
       "      <th>INST_PAY_DAYS_PAYMENT_RATIO_MAX</th>\n",
       "      <th>DAYS_BIRTH</th>\n",
       "      <th>PREV_APP_DAYS_LAST_DUE_MAX</th>\n",
       "      <th>DAYS_EMPLOYED</th>\n",
       "      <th>BUREAU_CURRENT_DEBT_TO_CREDIT_RATIO_MEAN</th>\n",
       "      <th>CODE_GENDER</th>\n",
       "      <th>PREV_APP_APPLICATION_AMT_TO_DECISION_RATIO_MEAN</th>\n",
       "      <th>BUREAU_AMT_CREDIT_MAX_OVERDUE_MAX</th>\n",
       "      <th>INST_PAY_DAYS_PAYMENT_RATIO_MIN</th>\n",
       "      <th>CCB_CNT_DRAWINGS_ATM_CURRENT_MEAN</th>\n",
       "      <th>REGION_POPULATION_RELATIVE</th>\n",
       "      <th>POS_CASH_NAME_CONTRACT_STATUS_ACTIVE_SUM</th>\n",
       "      <th>BUREAU_DAYS_CREDIT_MAX</th>\n",
       "      <th>DAYS_LAST_PHONE_CHANGE</th>\n",
       "      <th>PREV_APP_DAYS_FIRST_LAST_DUE_DIFF_MEAN</th>\n",
       "      <th>EXT_SOURCE_MAX</th>\n",
       "      <th>INST_PAY_AMT_INSTALMENT_MAX</th>\n",
       "      <th>DAYS_REGISTRATION</th>\n",
       "      <th>POS_CASH_CNT_INSTALMENT_MEAN</th>\n",
       "      <th>INST_PAY_DAYS_INSTALMENT_MIN</th>\n",
       "      <th>AMT_REQ_CREDIT_BUREAU_QRT</th>\n",
       "      <th>FLAG_WORK_PHONE</th>\n",
       "      <th>PREV_APP_INTEREST_SHARE_MIN</th>\n",
       "      <th>PREV_APP_AMT_DECLINED_SUM</th>\n",
       "      <th>CCB_CNT_DRAWINGS_CURRENT_SUM</th>\n",
       "      <th>PREV_APP_CODE_REJECT_REASON_XAP_MEAN</th>\n",
       "      <th>BUREAU_CREDIT_TYPE_MICROLOAN_MEAN</th>\n",
       "      <th>PREV_APP_NAME_TYPE_SUITE_UNACCOMPANIED_MEAN</th>\n",
       "      <th>FLOORSMAX_AVG</th>\n",
       "      <th>BUREAU_CREDIT_ACTIVE_ACTIVE_COUNT</th>\n",
       "      <th>INST_PAY_AMT_INSTALMENT_MEAN</th>\n",
       "      <th>APARTMENTS_AVG</th>\n",
       "      <th>PREV_APP_HOUR_APPR_PROCESS_START_MEAN</th>\n",
       "      <th>INCOME_GOODS_DIFF</th>\n",
       "      <th>PREV_APP_INTEREST_RATE_MAX</th>\n",
       "      <th>CREDIT_INCOME_RATIO</th>\n",
       "      <th>PREV_APP_DAYS_DECISION_MAX</th>\n",
       "      <th>PREV_APP_DAYS_DECISION_MEAN</th>\n",
       "      <th>PREV_APP_AMT_INTEREST_MEAN</th>\n",
       "      <th>PREV_APP_LOAN_RATE_MEAN</th>\n",
       "      <th>PREV_APP_AMT_ANNUITY_SUM</th>\n",
       "      <th>INST_PAY_NUM_INSTALMENT_NUMBER_MAX</th>\n",
       "      <th>INCOME_EXT_RATIO</th>\n",
       "      <th>INST_PAY_DAYS_PAYMENT_DIFF_MEAN</th>\n",
       "      <th>BUREAU_DAYS_CREDIT_LAST</th>\n",
       "      <th>INST_PAY_NUM_INSTALMENT_VERSION_MEAN</th>\n",
       "      <th>PREV_APP_AMT_APPLICATION_TO_SELLERPLACE_AREA_MEAN</th>\n",
       "      <th>INST_PAY_DAYS_PAYMENT_DIFF_MAX</th>\n",
       "      <th>AMT_INCOME_TOTAL</th>\n",
       "      <th>NAME_FAMILY_STATUS</th>\n",
       "      <th>AMT_GOODS_PRICE</th>\n",
       "      <th>CNT_CHILDREN</th>\n",
       "      <th>NAME_CONTRACT_TYPE</th>\n",
       "      <th>NAME_EDUCATION_TYPE</th>\n",
       "      <th>NAME_HOUSING_TYPE</th>\n",
       "      <th>NAME_INCOME_TYPE</th>\n",
       "      <th>YEAR_BIRTH</th>\n",
       "      <th>YEAR_EMPLOYED</th>\n",
       "      <th>SEXE</th>\n",
       "    </tr>\n",
       "  </thead>\n",
       "  <tbody>\n",
       "    <tr>\n",
       "      <th>0</th>\n",
       "      <td>100001</td>\n",
       "      <td>0</td>\n",
       "      <td>0.3229</td>\n",
       "      <td>32.3</td>\n",
       "      <td>27.6719</td>\n",
       "      <td>3951.0000</td>\n",
       "      <td>-1709.0</td>\n",
       "      <td>3951.0000</td>\n",
       "      <td>0.3289</td>\n",
       "      <td>0.7778</td>\n",
       "      <td>1.4534e+06</td>\n",
       "      <td>0</td>\n",
       "      <td>1</td>\n",
       "      <td>1.7012</td>\n",
       "      <td>-10.0</td>\n",
       "      <td>0.0000</td>\n",
       "      <td>-735.000</td>\n",
       "      <td>0.9578</td>\n",
       "      <td>1.0000</td>\n",
       "      <td>0.9578</td>\n",
       "      <td>1</td>\n",
       "      <td>3951.0000</td>\n",
       "      <td>0.0000e+00</td>\n",
       "      <td>1.0</td>\n",
       "      <td>0.0</td>\n",
       "      <td>-1619.0</td>\n",
       "      <td>2520.0</td>\n",
       "      <td>0.7778</td>\n",
       "      <td>1.0</td>\n",
       "      <td>1</td>\n",
       "      <td>8.0000</td>\n",
       "      <td>9.0</td>\n",
       "      <td>1.0</td>\n",
       "      <td>0.0000</td>\n",
       "      <td>2</td>\n",
       "      <td>0.0</td>\n",
       "      <td>0.9731</td>\n",
       "      <td>0.0</td>\n",
       "      <td>0.1145</td>\n",
       "      <td>23.0</td>\n",
       "      <td>3104.4375</td>\n",
       "      <td>0.9578</td>\n",
       "      <td>85240.9297</td>\n",
       "      <td>0.0</td>\n",
       "      <td>0.0833</td>\n",
       "      <td>8.0</td>\n",
       "      <td>0.9951</td>\n",
       "      <td>568800.0</td>\n",
       "      <td>596686.5</td>\n",
       "      <td>0.1523</td>\n",
       "      <td>-0.0039</td>\n",
       "      <td>207623.5781</td>\n",
       "      <td>4.1196e+04</td>\n",
       "      <td>0.1595</td>\n",
       "      <td>122382.6406</td>\n",
       "      <td>-812</td>\n",
       "      <td>4761.0000</td>\n",
       "      <td>0.7896</td>\n",
       "      <td>1.2637</td>\n",
       "      <td>0.7524</td>\n",
       "      <td>0.3289</td>\n",
       "      <td>20560.5</td>\n",
       "      <td>1.0039</td>\n",
       "      <td>-19241</td>\n",
       "      <td>-1619.0</td>\n",
       "      <td>-2328.0</td>\n",
       "      <td>0.2825</td>\n",
       "      <td>0</td>\n",
       "      <td>14.2733</td>\n",
       "      <td>0.0</td>\n",
       "      <td>0.9790</td>\n",
       "      <td>0.2106</td>\n",
       "      <td>0.0188</td>\n",
       "      <td>7.0</td>\n",
       "      <td>-49.0</td>\n",
       "      <td>-1740.0</td>\n",
       "      <td>90.0</td>\n",
       "      <td>0.7896</td>\n",
       "      <td>17397.9004</td>\n",
       "      <td>-5168.0</td>\n",
       "      <td>4.0000</td>\n",
       "      <td>-2916.0</td>\n",
       "      <td>0.0</td>\n",
       "      <td>0</td>\n",
       "      <td>0.3289</td>\n",
       "      <td>1048.5</td>\n",
       "      <td>6.0</td>\n",
       "      <td>1.0000</td>\n",
       "      <td>0.0</td>\n",
       "      <td>0.0</td>\n",
       "      <td>0.1250</td>\n",
       "      <td>7.0</td>\n",
       "      <td>5885.1323</td>\n",
       "      <td>0.0660</td>\n",
       "      <td>13.0000</td>\n",
       "      <td>0.3000</td>\n",
       "      <td>0.8770</td>\n",
       "      <td>4.2148</td>\n",
       "      <td>-1740.0</td>\n",
       "      <td>-1740.0</td>\n",
       "      <td>7821.0000</td>\n",
       "      <td>0.1661</td>\n",
       "      <td>3951.0000</td>\n",
       "      <td>4.0</td>\n",
       "      <td>846151.5000</td>\n",
       "      <td>7.4297</td>\n",
       "      <td>-320.0</td>\n",
       "      <td>1.1426</td>\n",
       "      <td>1079.8038</td>\n",
       "      <td>36.0</td>\n",
       "      <td>135000.0</td>\n",
       "      <td>Married</td>\n",
       "      <td>450000.0</td>\n",
       "      <td>0</td>\n",
       "      <td>Cash loans</td>\n",
       "      <td>Higher education</td>\n",
       "      <td>House / apartment</td>\n",
       "      <td>Working</td>\n",
       "      <td>52</td>\n",
       "      <td>6</td>\n",
       "      <td>Féminin</td>\n",
       "    </tr>\n",
       "    <tr>\n",
       "      <th>1</th>\n",
       "      <td>100005</td>\n",
       "      <td>1</td>\n",
       "      <td>0.7506</td>\n",
       "      <td>75.1</td>\n",
       "      <td>12.8281</td>\n",
       "      <td>4813.2002</td>\n",
       "      <td>-706.0</td>\n",
       "      <td>4813.2002</td>\n",
       "      <td>0.4385</td>\n",
       "      <td>0.8184</td>\n",
       "      <td>6.5713e+05</td>\n",
       "      <td>0</td>\n",
       "      <td>1</td>\n",
       "      <td>1.2891</td>\n",
       "      <td>-1.0</td>\n",
       "      <td>1.0000</td>\n",
       "      <td>-190.625</td>\n",
       "      <td>0.8999</td>\n",
       "      <td>1.0000</td>\n",
       "      <td>0.8999</td>\n",
       "      <td>1</td>\n",
       "      <td>4813.2002</td>\n",
       "      <td>1.3471e-05</td>\n",
       "      <td>1.0</td>\n",
       "      <td>0.0</td>\n",
       "      <td>-466.0</td>\n",
       "      <td>4464.0</td>\n",
       "      <td>0.0000</td>\n",
       "      <td>1.0</td>\n",
       "      <td>1</td>\n",
       "      <td>12.0000</td>\n",
       "      <td>9.0</td>\n",
       "      <td>0.0</td>\n",
       "      <td>0.0000</td>\n",
       "      <td>2</td>\n",
       "      <td>0.0</td>\n",
       "      <td>0.9814</td>\n",
       "      <td>0.0</td>\n",
       "      <td>0.1145</td>\n",
       "      <td>18.0</td>\n",
       "      <td>3718.1250</td>\n",
       "      <td>0.8999</td>\n",
       "      <td>189469.5000</td>\n",
       "      <td>0.0</td>\n",
       "      <td>0.0124</td>\n",
       "      <td>10.0</td>\n",
       "      <td>0.9629</td>\n",
       "      <td>222768.0</td>\n",
       "      <td>568408.5</td>\n",
       "      <td>0.1754</td>\n",
       "      <td>-0.0020</td>\n",
       "      <td>219042.0000</td>\n",
       "      <td>5.6162e+04</td>\n",
       "      <td>0.4329</td>\n",
       "      <td>29572.5000</td>\n",
       "      <td>-1623</td>\n",
       "      <td>4504.5000</td>\n",
       "      <td>0.2917</td>\n",
       "      <td>1.2373</td>\n",
       "      <td>0.5649</td>\n",
       "      <td>0.4385</td>\n",
       "      <td>17370.0</td>\n",
       "      <td>1.0020</td>\n",
       "      <td>-18064</td>\n",
       "      <td>-466.0</td>\n",
       "      <td>-4468.0</td>\n",
       "      <td>0.6013</td>\n",
       "      <td>1</td>\n",
       "      <td>29.4699</td>\n",
       "      <td>0.0</td>\n",
       "      <td>0.9458</td>\n",
       "      <td>0.2106</td>\n",
       "      <td>0.0358</td>\n",
       "      <td>9.0</td>\n",
       "      <td>-62.0</td>\n",
       "      <td>0.0</td>\n",
       "      <td>240.0</td>\n",
       "      <td>0.5649</td>\n",
       "      <td>17656.2441</td>\n",
       "      <td>-9120.0</td>\n",
       "      <td>11.7031</td>\n",
       "      <td>-706.0</td>\n",
       "      <td>0.0</td>\n",
       "      <td>0</td>\n",
       "      <td>0.4385</td>\n",
       "      <td>4464.0</td>\n",
       "      <td>6.0</td>\n",
       "      <td>1.0000</td>\n",
       "      <td>0.0</td>\n",
       "      <td>0.0</td>\n",
       "      <td>0.1667</td>\n",
       "      <td>3.0</td>\n",
       "      <td>6240.2051</td>\n",
       "      <td>0.0928</td>\n",
       "      <td>10.5000</td>\n",
       "      <td>0.5498</td>\n",
       "      <td>0.8096</td>\n",
       "      <td>2.2500</td>\n",
       "      <td>-315.0</td>\n",
       "      <td>-536.0</td>\n",
       "      <td>17604.9023</td>\n",
       "      <td>0.1199</td>\n",
       "      <td>4813.2002</td>\n",
       "      <td>9.0</td>\n",
       "      <td>228710.6562</td>\n",
       "      <td>23.5625</td>\n",
       "      <td>-62.0</td>\n",
       "      <td>1.1113</td>\n",
       "      <td>602.9390</td>\n",
       "      <td>37.0</td>\n",
       "      <td>99000.0</td>\n",
       "      <td>Married</td>\n",
       "      <td>180000.0</td>\n",
       "      <td>0</td>\n",
       "      <td>Cash loans</td>\n",
       "      <td>Secondary / secondary special</td>\n",
       "      <td>House / apartment</td>\n",
       "      <td>Working</td>\n",
       "      <td>49</td>\n",
       "      <td>12</td>\n",
       "      <td>Masculin</td>\n",
       "    </tr>\n",
       "    <tr>\n",
       "      <th>2</th>\n",
       "      <td>100013</td>\n",
       "      <td>0</td>\n",
       "      <td>0.2673</td>\n",
       "      <td>26.7</td>\n",
       "      <td>9.5078</td>\n",
       "      <td>11478.1953</td>\n",
       "      <td>-3016.0</td>\n",
       "      <td>4742.4150</td>\n",
       "      <td>0.3884</td>\n",
       "      <td>0.8887</td>\n",
       "      <td>2.0723e+06</td>\n",
       "      <td>0</td>\n",
       "      <td>0</td>\n",
       "      <td>1.8184</td>\n",
       "      <td>-21.0</td>\n",
       "      <td>0.5000</td>\n",
       "      <td>-1738.000</td>\n",
       "      <td>0.9393</td>\n",
       "      <td>0.9355</td>\n",
       "      <td>1.0524</td>\n",
       "      <td>1</td>\n",
       "      <td>67.5000</td>\n",
       "      <td>7.5102e-06</td>\n",
       "      <td>1.0</td>\n",
       "      <td>0.0</td>\n",
       "      <td>-14.0</td>\n",
       "      <td>3375.0</td>\n",
       "      <td>0.0000</td>\n",
       "      <td>1.0</td>\n",
       "      <td>0</td>\n",
       "      <td>17.3281</td>\n",
       "      <td>5.0</td>\n",
       "      <td>1.0</td>\n",
       "      <td>1157.6627</td>\n",
       "      <td>2</td>\n",
       "      <td>0.0</td>\n",
       "      <td>0.9814</td>\n",
       "      <td>0.0</td>\n",
       "      <td>0.1153</td>\n",
       "      <td>82.0</td>\n",
       "      <td>7115.1665</td>\n",
       "      <td>1.1386</td>\n",
       "      <td>0.0000</td>\n",
       "      <td>0.0</td>\n",
       "      <td>0.0062</td>\n",
       "      <td>43.0</td>\n",
       "      <td>0.9966</td>\n",
       "      <td>663264.0</td>\n",
       "      <td>0.0</td>\n",
       "      <td>0.3445</td>\n",
       "      <td>-0.0011</td>\n",
       "      <td>518070.0000</td>\n",
       "      <td>1.6892e+06</td>\n",
       "      <td>0.6108</td>\n",
       "      <td>26490.0605</td>\n",
       "      <td>-3503</td>\n",
       "      <td>26490.0605</td>\n",
       "      <td>0.6997</td>\n",
       "      <td>1.0527</td>\n",
       "      <td>0.5068</td>\n",
       "      <td>0.6270</td>\n",
       "      <td>69777.0</td>\n",
       "      <td>1.1846</td>\n",
       "      <td>-20038</td>\n",
       "      <td>-92.0</td>\n",
       "      <td>-4456.0</td>\n",
       "      <td>0.0000</td>\n",
       "      <td>1</td>\n",
       "      <td>158.3704</td>\n",
       "      <td>19305.0</td>\n",
       "      <td>0.8931</td>\n",
       "      <td>0.2556</td>\n",
       "      <td>0.0191</td>\n",
       "      <td>32.0</td>\n",
       "      <td>-1210.0</td>\n",
       "      <td>-856.0</td>\n",
       "      <td>290.0</td>\n",
       "      <td>0.6997</td>\n",
       "      <td>357347.7500</td>\n",
       "      <td>-2176.0</td>\n",
       "      <td>21.3906</td>\n",
       "      <td>-2704.0</td>\n",
       "      <td>1.0</td>\n",
       "      <td>0</td>\n",
       "      <td>0.1742</td>\n",
       "      <td>-61051.5</td>\n",
       "      <td>23.0</td>\n",
       "      <td>1.0000</td>\n",
       "      <td>0.0</td>\n",
       "      <td>0.5</td>\n",
       "      <td>0.1667</td>\n",
       "      <td>4.0</td>\n",
       "      <td>10897.8984</td>\n",
       "      <td>0.0928</td>\n",
       "      <td>14.5000</td>\n",
       "      <td>0.3215</td>\n",
       "      <td>0.7939</td>\n",
       "      <td>3.2754</td>\n",
       "      <td>-222.0</td>\n",
       "      <td>-837.5</td>\n",
       "      <td>114281.0938</td>\n",
       "      <td>0.1257</td>\n",
       "      <td>34434.5859</td>\n",
       "      <td>113.0</td>\n",
       "      <td>331510.7812</td>\n",
       "      <td>5.1992</td>\n",
       "      <td>-1665.0</td>\n",
       "      <td>0.2773</td>\n",
       "      <td>-112057.1641</td>\n",
       "      <td>38.0</td>\n",
       "      <td>202500.0</td>\n",
       "      <td>Married</td>\n",
       "      <td>630000.0</td>\n",
       "      <td>0</td>\n",
       "      <td>Cash loans</td>\n",
       "      <td>Higher education</td>\n",
       "      <td>House / apartment</td>\n",
       "      <td>Working</td>\n",
       "      <td>54</td>\n",
       "      <td>12</td>\n",
       "      <td>Masculin</td>\n",
       "    </tr>\n",
       "    <tr>\n",
       "      <th>3</th>\n",
       "      <td>100028</td>\n",
       "      <td>0</td>\n",
       "      <td>0.1873</td>\n",
       "      <td>18.7</td>\n",
       "      <td>32.1250</td>\n",
       "      <td>8091.5850</td>\n",
       "      <td>-3812.0</td>\n",
       "      <td>6028.0200</td>\n",
       "      <td>-0.2394</td>\n",
       "      <td>0.9355</td>\n",
       "      <td>1.5209e+06</td>\n",
       "      <td>0</td>\n",
       "      <td>1</td>\n",
       "      <td>1.6484</td>\n",
       "      <td>-7.0</td>\n",
       "      <td>0.6001</td>\n",
       "      <td>-1402.000</td>\n",
       "      <td>0.9024</td>\n",
       "      <td>0.9115</td>\n",
       "      <td>0.9675</td>\n",
       "      <td>1</td>\n",
       "      <td>1.1700</td>\n",
       "      <td>1.9073e-06</td>\n",
       "      <td>1.0</td>\n",
       "      <td>0.0</td>\n",
       "      <td>-27.0</td>\n",
       "      <td>3750.0</td>\n",
       "      <td>0.0000</td>\n",
       "      <td>1.0</td>\n",
       "      <td>1</td>\n",
       "      <td>11.3359</td>\n",
       "      <td>9.0</td>\n",
       "      <td>0.0</td>\n",
       "      <td>622.5507</td>\n",
       "      <td>2</td>\n",
       "      <td>0.0</td>\n",
       "      <td>0.9971</td>\n",
       "      <td>0.0</td>\n",
       "      <td>0.0359</td>\n",
       "      <td>1409.6</td>\n",
       "      <td>6022.1064</td>\n",
       "      <td>1.0000</td>\n",
       "      <td>18630.4492</td>\n",
       "      <td>0.0</td>\n",
       "      <td>0.0020</td>\n",
       "      <td>52.0</td>\n",
       "      <td>0.9961</td>\n",
       "      <td>1575000.0</td>\n",
       "      <td>186304.5</td>\n",
       "      <td>0.1556</td>\n",
       "      <td>-0.0048</td>\n",
       "      <td>126739.5938</td>\n",
       "      <td>5.6266e+05</td>\n",
       "      <td>0.6128</td>\n",
       "      <td>75722.0547</td>\n",
       "      <td>-4208</td>\n",
       "      <td>0.0000</td>\n",
       "      <td>0.5098</td>\n",
       "      <td>1.0000</td>\n",
       "      <td>0.5259</td>\n",
       "      <td>0.1755</td>\n",
       "      <td>49018.5</td>\n",
       "      <td>1.0088</td>\n",
       "      <td>-13976</td>\n",
       "      <td>-646.0</td>\n",
       "      <td>-1866.0</td>\n",
       "      <td>0.1100</td>\n",
       "      <td>0</td>\n",
       "      <td>40.9233</td>\n",
       "      <td>0.0</td>\n",
       "      <td>0.9312</td>\n",
       "      <td>0.0454</td>\n",
       "      <td>0.0264</td>\n",
       "      <td>29.0</td>\n",
       "      <td>-269.0</td>\n",
       "      <td>-1805.0</td>\n",
       "      <td>405.0</td>\n",
       "      <td>0.6128</td>\n",
       "      <td>38988.5391</td>\n",
       "      <td>-2000.0</td>\n",
       "      <td>20.3594</td>\n",
       "      <td>-1773.0</td>\n",
       "      <td>0.0</td>\n",
       "      <td>0</td>\n",
       "      <td>-1.0000</td>\n",
       "      <td>-218565.0</td>\n",
       "      <td>117.0</td>\n",
       "      <td>0.7998</td>\n",
       "      <td>0.0</td>\n",
       "      <td>0.0</td>\n",
       "      <td>0.3750</td>\n",
       "      <td>12.0</td>\n",
       "      <td>4979.2822</td>\n",
       "      <td>0.3052</td>\n",
       "      <td>10.7969</td>\n",
       "      <td>0.2000</td>\n",
       "      <td>0.3828</td>\n",
       "      <td>5.0000</td>\n",
       "      <td>-531.0</td>\n",
       "      <td>-1124.0</td>\n",
       "      <td>-66882.3906</td>\n",
       "      <td>0.0712</td>\n",
       "      <td>24274.7539</td>\n",
       "      <td>74.0</td>\n",
       "      <td>514039.8438</td>\n",
       "      <td>3.0000</td>\n",
       "      <td>-1102.0</td>\n",
       "      <td>0.4602</td>\n",
       "      <td>208.5032</td>\n",
       "      <td>19.0</td>\n",
       "      <td>315000.0</td>\n",
       "      <td>Married</td>\n",
       "      <td>1575000.0</td>\n",
       "      <td>2</td>\n",
       "      <td>Cash loans</td>\n",
       "      <td>Secondary / secondary special</td>\n",
       "      <td>House / apartment</td>\n",
       "      <td>Working</td>\n",
       "      <td>38</td>\n",
       "      <td>5</td>\n",
       "      <td>Féminin</td>\n",
       "    </tr>\n",
       "    <tr>\n",
       "      <th>4</th>\n",
       "      <td>100038</td>\n",
       "      <td>1</td>\n",
       "      <td>0.6179</td>\n",
       "      <td>61.8</td>\n",
       "      <td>19.5000</td>\n",
       "      <td>17782.1562</td>\n",
       "      <td>-787.0</td>\n",
       "      <td>11100.5996</td>\n",
       "      <td>0.5850</td>\n",
       "      <td>0.9229</td>\n",
       "      <td>1.0906e+06</td>\n",
       "      <td>0</td>\n",
       "      <td>1</td>\n",
       "      <td>1.1465</td>\n",
       "      <td>9.0</td>\n",
       "      <td>1.0000</td>\n",
       "      <td>-1063.000</td>\n",
       "      <td>1.1188</td>\n",
       "      <td>1.0000</td>\n",
       "      <td>1.1314</td>\n",
       "      <td>1</td>\n",
       "      <td>11097.4502</td>\n",
       "      <td>3.2187e-06</td>\n",
       "      <td>1.0</td>\n",
       "      <td>0.0</td>\n",
       "      <td>-457.0</td>\n",
       "      <td>8095.5</td>\n",
       "      <td>0.0000</td>\n",
       "      <td>1.0</td>\n",
       "      <td>0</td>\n",
       "      <td>24.0000</td>\n",
       "      <td>16.0</td>\n",
       "      <td>0.0</td>\n",
       "      <td>0.0000</td>\n",
       "      <td>2</td>\n",
       "      <td>0.0</td>\n",
       "      <td>0.9814</td>\n",
       "      <td>0.0</td>\n",
       "      <td>0.1145</td>\n",
       "      <td>13.0</td>\n",
       "      <td>9685.6250</td>\n",
       "      <td>1.1439</td>\n",
       "      <td>48344.7500</td>\n",
       "      <td>0.0</td>\n",
       "      <td>0.0177</td>\n",
       "      <td>12.0</td>\n",
       "      <td>0.9805</td>\n",
       "      <td>625500.0</td>\n",
       "      <td>207099.0</td>\n",
       "      <td>0.1781</td>\n",
       "      <td>-0.0073</td>\n",
       "      <td>207954.9062</td>\n",
       "      <td>1.3320e+05</td>\n",
       "      <td>0.5190</td>\n",
       "      <td>118865.0234</td>\n",
       "      <td>-4262</td>\n",
       "      <td>20727.0000</td>\n",
       "      <td>0.4258</td>\n",
       "      <td>1.0000</td>\n",
       "      <td>0.2021</td>\n",
       "      <td>0.7319</td>\n",
       "      <td>32067.0</td>\n",
       "      <td>0.9858</td>\n",
       "      <td>-13040</td>\n",
       "      <td>-457.0</td>\n",
       "      <td>-2192.0</td>\n",
       "      <td>0.1780</td>\n",
       "      <td>1</td>\n",
       "      <td>2096.6001</td>\n",
       "      <td>0.0</td>\n",
       "      <td>0.9746</td>\n",
       "      <td>0.2106</td>\n",
       "      <td>0.0100</td>\n",
       "      <td>12.0</td>\n",
       "      <td>-327.0</td>\n",
       "      <td>-821.0</td>\n",
       "      <td>330.0</td>\n",
       "      <td>0.5190</td>\n",
       "      <td>11100.5996</td>\n",
       "      <td>-4000.0</td>\n",
       "      <td>12.0000</td>\n",
       "      <td>-787.0</td>\n",
       "      <td>0.0</td>\n",
       "      <td>1</td>\n",
       "      <td>0.4385</td>\n",
       "      <td>-65646.0</td>\n",
       "      <td>6.0</td>\n",
       "      <td>1.0000</td>\n",
       "      <td>0.0</td>\n",
       "      <td>0.5</td>\n",
       "      <td>0.1667</td>\n",
       "      <td>5.0</td>\n",
       "      <td>11100.3369</td>\n",
       "      <td>0.0928</td>\n",
       "      <td>5.5000</td>\n",
       "      <td>0.2878</td>\n",
       "      <td>0.8096</td>\n",
       "      <td>3.4746</td>\n",
       "      <td>-111.0</td>\n",
       "      <td>-466.0</td>\n",
       "      <td>206399.9062</td>\n",
       "      <td>0.0840</td>\n",
       "      <td>35564.3125</td>\n",
       "      <td>12.0</td>\n",
       "      <td>346792.0938</td>\n",
       "      <td>12.2500</td>\n",
       "      <td>-1087.0</td>\n",
       "      <td>1.0000</td>\n",
       "      <td>-225753.1094</td>\n",
       "      <td>18.0</td>\n",
       "      <td>180000.0</td>\n",
       "      <td>Married</td>\n",
       "      <td>625500.0</td>\n",
       "      <td>1</td>\n",
       "      <td>Cash loans</td>\n",
       "      <td>Secondary / secondary special</td>\n",
       "      <td>House / apartment</td>\n",
       "      <td>Working</td>\n",
       "      <td>35</td>\n",
       "      <td>6</td>\n",
       "      <td>Masculin</td>\n",
       "    </tr>\n",
       "  </tbody>\n",
       "</table>\n",
       "</div>"
      ],
      "text/plain": [
       "   SK_ID_CURR  PRED_CLASSE_CLIENT  SCORE_CLIENT  SCORE_CLIENT_%  CREDIT_ANNUITY_RATIO  PREV_APP_AMT_ANNUITY_MEAN  PREV_APP_DAYS_FIRST_DUE_SUM  PREV_APP_AMT_ANNUITY_MIN  PREV_APP_INTEREST_SHARE_MEAN  POS_CASH_NAME_CONTRACT_STATUS_ACTIVE_MEAN  BUREAU_AMT_CREDIT_SUM_SUM  REG_CITY_NOT_LIVE_CITY  \\\n",
       "0      100001                   0        0.3229            32.3               27.6719                  3951.0000                      -1709.0                 3951.0000                        0.3289                                     0.7778                 1.4534e+06                       0   \n",
       "1      100005                   1        0.7506            75.1               12.8281                  4813.2002                       -706.0                 4813.2002                        0.4385                                     0.8184                 6.5713e+05                       0   \n",
       "2      100013                   0        0.2673            26.7                9.5078                 11478.1953                      -3016.0                 4742.4150                        0.3884                                     0.8887                 2.0723e+06                       0   \n",
       "3      100028                   0        0.1873            18.7               32.1250                  8091.5850                      -3812.0                 6028.0200                       -0.2394                                     0.9355                 1.5209e+06                       0   \n",
       "4      100038                   1        0.6179            61.8               19.5000                 17782.1562                       -787.0                11100.5996                        0.5850                                     0.9229                 1.0906e+06                       0   \n",
       "\n",
       "   FLAG_DOCUMENT_3  EXT_SOURCE_SUM  INST_PAY_DAYS_PAYMENT_DIFF_MIN  PREV_APP_NAME_CONTRACT_STATUS_MEAN  BUREAU_DAYS_CREDIT_MEAN  PREV_APP_AMT_CREDIT_GOODS_RATIO_MIN  INST_PAY_AMT_PAYMENT_RATIO_MEAN  PREV_APP_AMT_CREDIT_GOODS_RATIO_MEAN  FLAGS_DOCUMENTS_SUM  INST_PAY_AMT_INSTALMENT_MIN  \\\n",
       "0                1          1.7012                           -10.0                              0.0000                 -735.000                               0.9578                           1.0000                                0.9578                    1                    3951.0000   \n",
       "1                1          1.2891                            -1.0                              1.0000                 -190.625                               0.8999                           1.0000                                0.8999                    1                    4813.2002   \n",
       "2                0          1.8184                           -21.0                              0.5000                -1738.000                               0.9393                           0.9355                                1.0524                    1                      67.5000   \n",
       "3                1          1.6484                            -7.0                              0.6001                -1402.000                               0.9024                           0.9115                                0.9675                    1                       1.1700   \n",
       "4                1          1.1465                             9.0                              1.0000                -1063.000                               1.1188                           1.0000                                1.1314                    1                   11097.4502   \n",
       "\n",
       "   ENQ_CREDIT_RATIO  NAME_INCOME_TYPE_WORKING  BUREAU_CREDIT_TYPE_MORTGAGE_MEAN  INST_PAY_DAYS_INSTALMENT_MAX  PREV_APP_AMT_DOWN_PAYMENT_MEAN  POS_CASH_SK_DPD_DEF_MEAN  NAME_FAMILY_STATUS_MARRIED  FLAG_OWN_CAR  PREV_APP_CNT_PAYMENT_MEAN  OWN_CAR_AGE  NAME_EDUCATION_TYPE_HIGHER_EDUCATION  \\\n",
       "0        0.0000e+00                       1.0                               0.0                       -1619.0                          2520.0                    0.7778                         1.0             1                     8.0000          9.0                                   1.0   \n",
       "1        1.3471e-05                       1.0                               0.0                        -466.0                          4464.0                    0.0000                         1.0             1                    12.0000          9.0                                   0.0   \n",
       "2        7.5102e-06                       1.0                               0.0                         -14.0                          3375.0                    0.0000                         1.0             0                    17.3281          5.0                                   1.0   \n",
       "3        1.9073e-06                       1.0                               0.0                         -27.0                          3750.0                    0.0000                         1.0             1                    11.3359          9.0                                   0.0   \n",
       "4        3.2187e-06                       1.0                               0.0                        -457.0                          8095.5                    0.0000                         1.0             0                    24.0000         16.0                                   0.0   \n",
       "\n",
       "   INST_PAY_AMT_PAYMENT_DIFF_MEAN  REGION_RATING_CLIENT  NAME_INCOME_TYPE_STATE_SERVANT  YEARS_BEGINEXPLUATATION_AVG  DEF_30_CNT_SOCIAL_CIRCLE  CCB_BALANCE_LIMIT_RATIO_MEAN  PREV_APP_SELLERPLACE_AREA_MEAN  PREV_APP_ANNUITY_GOODS_MEAN  PREV_APP_AMT_CREDIT_GOODS_RATIO_MAX  \\\n",
       "0                          0.0000                     2                             0.0                       0.9731                       0.0                        0.1145                            23.0                    3104.4375                               0.9578   \n",
       "1                          0.0000                     2                             0.0                       0.9814                       0.0                        0.1145                            18.0                    3718.1250                               0.8999   \n",
       "2                       1157.6627                     2                             0.0                       0.9814                       0.0                        0.1153                            82.0                    7115.1665                               1.1386   \n",
       "3                        622.5507                     2                             0.0                       0.9971                       0.0                        0.0359                          1409.6                    6022.1064                               1.0000   \n",
       "4                          0.0000                     2                             0.0                       0.9814                       0.0                        0.1145                            13.0                    9685.6250                               1.1439   \n",
       "\n",
       "   BUREAU_AMT_CREDIT_SUM_DEBT_MEAN  OCCUPATION_TYPE_CORE_STAFF  EXT_SOURCE_VAR  INST_PAY_NUM_INSTALMENT_VERSION_SUM  INST_PAY_DAYS_PAYMENT_RATIO_MEAN  AMT_CREDIT  BUREAU_AMT_CREDIT_SUM_DEBT_SUM  ANNUITY_INCOME_RATIO  CAR_EMPLOYED_RATIO  BUREAU_AMT_CREDIT_SUM_MEAN  INST_PAY_AMT_INSTALMENT_SUM  \\\n",
       "0                       85240.9297                         0.0          0.0833                                  8.0                            0.9951    568800.0                        596686.5                0.1523             -0.0039                 207623.5781                   4.1196e+04   \n",
       "1                      189469.5000                         0.0          0.0124                                 10.0                            0.9629    222768.0                        568408.5                0.1754             -0.0020                 219042.0000                   5.6162e+04   \n",
       "2                           0.0000                         0.0          0.0062                                 43.0                            0.9966    663264.0                             0.0                0.3445             -0.0011                 518070.0000                   1.6892e+06   \n",
       "3                       18630.4492                         0.0          0.0020                                 52.0                            0.9961   1575000.0                        186304.5                0.1556             -0.0048                 126739.5938                   5.6266e+05   \n",
       "4                       48344.7500                         0.0          0.0177                                 12.0                            0.9805    625500.0                        207099.0                0.1781             -0.0073                 207954.9062                   1.3320e+05   \n",
       "\n",
       "   EXT_SOURCE_3  BUREAU_CURRENT_CREDIT_DEBT_DIFF_MEAN  DAYS_ID_PUBLISH  BUREAU_CURRENT_CREDIT_DEBT_DIFF_MIN  EXT_SOURCE_2  CREDIT_GOODS_RATIO  EXT_SOURCE_1  PREV_APP_INTEREST_SHARE_MAX  AMT_ANNUITY  INST_PAY_DAYS_PAYMENT_RATIO_MAX  DAYS_BIRTH  PREV_APP_DAYS_LAST_DUE_MAX  DAYS_EMPLOYED  \\\n",
       "0        0.1595                           122382.6406             -812                            4761.0000        0.7896              1.2637        0.7524                       0.3289      20560.5                           1.0039      -19241                     -1619.0        -2328.0   \n",
       "1        0.4329                            29572.5000            -1623                            4504.5000        0.2917              1.2373        0.5649                       0.4385      17370.0                           1.0020      -18064                      -466.0        -4468.0   \n",
       "2        0.6108                            26490.0605            -3503                           26490.0605        0.6997              1.0527        0.5068                       0.6270      69777.0                           1.1846      -20038                       -92.0        -4456.0   \n",
       "3        0.6128                            75722.0547            -4208                               0.0000        0.5098              1.0000        0.5259                       0.1755      49018.5                           1.0088      -13976                      -646.0        -1866.0   \n",
       "4        0.5190                           118865.0234            -4262                           20727.0000        0.4258              1.0000        0.2021                       0.7319      32067.0                           0.9858      -13040                      -457.0        -2192.0   \n",
       "\n",
       "   BUREAU_CURRENT_DEBT_TO_CREDIT_RATIO_MEAN  CODE_GENDER  PREV_APP_APPLICATION_AMT_TO_DECISION_RATIO_MEAN  BUREAU_AMT_CREDIT_MAX_OVERDUE_MAX  INST_PAY_DAYS_PAYMENT_RATIO_MIN  CCB_CNT_DRAWINGS_ATM_CURRENT_MEAN  REGION_POPULATION_RELATIVE  POS_CASH_NAME_CONTRACT_STATUS_ACTIVE_SUM  \\\n",
       "0                                    0.2825            0                                          14.2733                                0.0                           0.9790                             0.2106                      0.0188                                       7.0   \n",
       "1                                    0.6013            1                                          29.4699                                0.0                           0.9458                             0.2106                      0.0358                                       9.0   \n",
       "2                                    0.0000            1                                         158.3704                            19305.0                           0.8931                             0.2556                      0.0191                                      32.0   \n",
       "3                                    0.1100            0                                          40.9233                                0.0                           0.9312                             0.0454                      0.0264                                      29.0   \n",
       "4                                    0.1780            1                                        2096.6001                                0.0                           0.9746                             0.2106                      0.0100                                      12.0   \n",
       "\n",
       "   BUREAU_DAYS_CREDIT_MAX  DAYS_LAST_PHONE_CHANGE  PREV_APP_DAYS_FIRST_LAST_DUE_DIFF_MEAN  EXT_SOURCE_MAX  INST_PAY_AMT_INSTALMENT_MAX  DAYS_REGISTRATION  POS_CASH_CNT_INSTALMENT_MEAN  INST_PAY_DAYS_INSTALMENT_MIN  AMT_REQ_CREDIT_BUREAU_QRT  FLAG_WORK_PHONE  PREV_APP_INTEREST_SHARE_MIN  \\\n",
       "0                   -49.0                 -1740.0                                    90.0          0.7896                   17397.9004            -5168.0                        4.0000                       -2916.0                        0.0                0                       0.3289   \n",
       "1                   -62.0                     0.0                                   240.0          0.5649                   17656.2441            -9120.0                       11.7031                        -706.0                        0.0                0                       0.4385   \n",
       "2                 -1210.0                  -856.0                                   290.0          0.6997                  357347.7500            -2176.0                       21.3906                       -2704.0                        1.0                0                       0.1742   \n",
       "3                  -269.0                 -1805.0                                   405.0          0.6128                   38988.5391            -2000.0                       20.3594                       -1773.0                        0.0                0                      -1.0000   \n",
       "4                  -327.0                  -821.0                                   330.0          0.5190                   11100.5996            -4000.0                       12.0000                        -787.0                        0.0                1                       0.4385   \n",
       "\n",
       "   PREV_APP_AMT_DECLINED_SUM  CCB_CNT_DRAWINGS_CURRENT_SUM  PREV_APP_CODE_REJECT_REASON_XAP_MEAN  BUREAU_CREDIT_TYPE_MICROLOAN_MEAN  PREV_APP_NAME_TYPE_SUITE_UNACCOMPANIED_MEAN  FLOORSMAX_AVG  BUREAU_CREDIT_ACTIVE_ACTIVE_COUNT  INST_PAY_AMT_INSTALMENT_MEAN  APARTMENTS_AVG  \\\n",
       "0                     1048.5                           6.0                                1.0000                                0.0                                          0.0         0.1250                                7.0                     5885.1323          0.0660   \n",
       "1                     4464.0                           6.0                                1.0000                                0.0                                          0.0         0.1667                                3.0                     6240.2051          0.0928   \n",
       "2                   -61051.5                          23.0                                1.0000                                0.0                                          0.5         0.1667                                4.0                    10897.8984          0.0928   \n",
       "3                  -218565.0                         117.0                                0.7998                                0.0                                          0.0         0.3750                               12.0                     4979.2822          0.3052   \n",
       "4                   -65646.0                           6.0                                1.0000                                0.0                                          0.5         0.1667                                5.0                    11100.3369          0.0928   \n",
       "\n",
       "   PREV_APP_HOUR_APPR_PROCESS_START_MEAN  INCOME_GOODS_DIFF  PREV_APP_INTEREST_RATE_MAX  CREDIT_INCOME_RATIO  PREV_APP_DAYS_DECISION_MAX  PREV_APP_DAYS_DECISION_MEAN  PREV_APP_AMT_INTEREST_MEAN  PREV_APP_LOAN_RATE_MEAN  PREV_APP_AMT_ANNUITY_SUM  INST_PAY_NUM_INSTALMENT_NUMBER_MAX  \\\n",
       "0                                13.0000             0.3000                      0.8770               4.2148                     -1740.0                      -1740.0                   7821.0000                   0.1661                 3951.0000                                 4.0   \n",
       "1                                10.5000             0.5498                      0.8096               2.2500                      -315.0                       -536.0                  17604.9023                   0.1199                 4813.2002                                 9.0   \n",
       "2                                14.5000             0.3215                      0.7939               3.2754                      -222.0                       -837.5                 114281.0938                   0.1257                34434.5859                               113.0   \n",
       "3                                10.7969             0.2000                      0.3828               5.0000                      -531.0                      -1124.0                 -66882.3906                   0.0712                24274.7539                                74.0   \n",
       "4                                 5.5000             0.2878                      0.8096               3.4746                      -111.0                       -466.0                 206399.9062                   0.0840                35564.3125                                12.0   \n",
       "\n",
       "   INCOME_EXT_RATIO  INST_PAY_DAYS_PAYMENT_DIFF_MEAN  BUREAU_DAYS_CREDIT_LAST  INST_PAY_NUM_INSTALMENT_VERSION_MEAN  PREV_APP_AMT_APPLICATION_TO_SELLERPLACE_AREA_MEAN  INST_PAY_DAYS_PAYMENT_DIFF_MAX  AMT_INCOME_TOTAL NAME_FAMILY_STATUS  AMT_GOODS_PRICE  CNT_CHILDREN NAME_CONTRACT_TYPE  \\\n",
       "0       846151.5000                           7.4297                   -320.0                                1.1426                                          1079.8038                            36.0          135000.0            Married         450000.0             0         Cash loans   \n",
       "1       228710.6562                          23.5625                    -62.0                                1.1113                                           602.9390                            37.0           99000.0            Married         180000.0             0         Cash loans   \n",
       "2       331510.7812                           5.1992                  -1665.0                                0.2773                                       -112057.1641                            38.0          202500.0            Married         630000.0             0         Cash loans   \n",
       "3       514039.8438                           3.0000                  -1102.0                                0.4602                                           208.5032                            19.0          315000.0            Married        1575000.0             2         Cash loans   \n",
       "4       346792.0938                          12.2500                  -1087.0                                1.0000                                       -225753.1094                            18.0          180000.0            Married         625500.0             1         Cash loans   \n",
       "\n",
       "             NAME_EDUCATION_TYPE  NAME_HOUSING_TYPE NAME_INCOME_TYPE  YEAR_BIRTH  YEAR_EMPLOYED      SEXE  \n",
       "0               Higher education  House / apartment          Working          52              6   Féminin  \n",
       "1  Secondary / secondary special  House / apartment          Working          49             12  Masculin  \n",
       "2               Higher education  House / apartment          Working          54             12  Masculin  \n",
       "3  Secondary / secondary special  House / apartment          Working          38              5   Féminin  \n",
       "4  Secondary / secondary special  House / apartment          Working          35              6  Masculin  "
      ]
     },
     "execution_count": 20,
     "metadata": {},
     "output_type": "execute_result"
    }
   ],
   "source": [
    "df_dashboard.head(3)"
   ]
  },
  {
   "cell_type": "markdown",
   "id": "4d1b9b85",
   "metadata": {},
   "source": [
    "### <span style='background:PowderBlue'>4.2. Variables ayant le plus d'importance sur le modèle</span>"
   ]
  },
  {
   "cell_type": "markdown",
   "id": "ac11f519",
   "metadata": {},
   "source": [
    "- Les variables ayant le plus d'importance sur le modèle constituent les variables à comparer pour situer notre client par rapport à la moyenne des valeurs de ces variables pour tous les clients et comparer ces valeurs avec celles des 10 plus proches voisins qui ont des valeurs similaires à notre client.\n",
    "- Le but est de tracer un lineplot pour chacune de ces variables déterminantes pour comparer les valeurs du client, les valeurs moyennes sur l'ensemble des clients et les valeurs des 10 plus proches voisins séparés en 2 groupes : défaillant et non-défaillant."
   ]
  },
  {
   "cell_type": "markdown",
   "id": "8204f0eb",
   "metadata": {},
   "source": [
    "<span style='background:Moccasin'>**Variables à comparer ?**</span>"
   ]
  },
  {
   "cell_type": "markdown",
   "id": "9ee5ffb7",
   "metadata": {},
   "source": [
    "<span style='background:Lightgreen'>**Features importances**</span>"
   ]
  },
  {
   "cell_type": "markdown",
   "id": "dffbff0b",
   "metadata": {},
   "source": [
    "D'après le notebook sur la modélisation, les 10 variables issus de l'analyse des features importances ayant le plus d'impact sur le meilleur modèle sont :\n",
    "\n",
    "- [X] CREDIT_ANNUITY RATIO\n",
    "- [x] EXT_SOURCE_SUM\n",
    "- [X] INST_PAY_DAYS_PAYMENT_RATIO_MAX\n",
    "- [X] PREV_APP_INTEREST_SHARE_MAX\n",
    "- [X] EXT_SOURCE_1\n",
    "- [X] CREDIT_GOODS_RATIO\n",
    "- [X] CODE GENDER\n",
    "- [X] INST_PAY_AMT_INSTALMENT_SUM\n",
    "- [X] EXT_SOURCE_2\n",
    "- [X] DAYS_BIRTH\n",
    "- [X] AMT_ANNUITY\n",
    "- [X] BUREAU_CURRENT_CREDIT_DEBT_DIFF_MIN"
   ]
  },
  {
   "cell_type": "markdown",
   "id": "1ed426bc",
   "metadata": {},
   "source": [
    "<span style='background:Lightgreen'>**Shapley values globales**</span>"
   ]
  },
  {
   "cell_type": "markdown",
   "id": "ac232c22",
   "metadata": {},
   "source": [
    "D'après le notebook sur la modélisation, les variables issus de l'analyse des shapley values ayant le plus d'impact (>0.05) sur la prédiction du meilleur modèle sont :\n",
    "- [X] EXT_SOURCE_SUM\n",
    "- [X] INST_PAY_DAYS_PAYMENT_RATIO_MAX\n",
    "- [X] CODE_GENDER\n",
    "- [X] CREDIT_GOODS_RATIO\n",
    "- [X] PREV_APP_INTEREST_SHARE_MAX\n",
    "- [X] EXT_SOURCE_MAX\n",
    "- [X] CREDIT_ANNUITY_RATIO\n",
    "- [X] EXT_SOURCE_2\n",
    "- [X] CAR_EMPLOYED_RATIO\n",
    "- [X] NAME_EDUCATION_TYPE_HIGHER_EDUCATION\n",
    "- [X] AMT_ANNUITY\n",
    "- [X] EXT_SOURCE_3\n",
    "- [X] BUREAU_CURRENT_CREDIT_DEBT_DIFF_MEAN\n",
    "- [X] BUREAU_CURRENT_CREDIT_DEBT_DIFF_MIN\n",
    "- [X] BUREAU_CURRENT_DEBT_TO_CREDIT_RATIO_MEAN\n",
    "- [X] POSH_CASH_NAME_CONTRACT_STATUS_ACTIVE_SUM\n",
    "- [X] INST_PAY_AMT_INSTALLMENT_SUM\n",
    "- [X] FLAG_OWN_CAR\n",
    "- [X] DAYS_ID_PUBLISH\n",
    "- [X] NAME_FAMILY_STATUS_MARRIED"
   ]
  },
  {
   "cell_type": "markdown",
   "id": "57072886",
   "metadata": {},
   "source": [
    "<span style='background:Lightgreen'>**Combinaison des 2 = variables à zone de risque**</span>"
   ]
  },
  {
   "cell_type": "markdown",
   "id": "a0e2e1f3",
   "metadata": {},
   "source": [
    "En combinant les variables issus des features importances et celles des shapley values, les variables à fort impact sur le modèle qui permet de comparer notre client et les autres clients sont :\n",
    "\n",
    "| Variable | Description |\n",
    "| --- | --- |\n",
    "| <p style='text-align: justify;'>**AMT_ANNUITY**</p> | <p style='text-align: justify;'>Annuité de prêt</p> |\n",
    "| <p style='text-align: justify;'>**BUREAU_CURRENT_CREDIT_DEBT_DIFF_MIN**</p> | <p style='text-align: justify;'>Valeur minimale de la différence entre la limite de crédit actuelle de la carte de crédit et la dette actuelle sur le crédit</p> |\n",
    "| <p style='text-align: justify;'>**BUREAU_CURRENT_CREDIT_DEBT_DIFF_MEAN**</p> | <p style='text-align: justify;'>Valeur moyenne de la différence entre la limite de crédit actuelle de la carte de crédit et la dette actuelle sur le crédit</p> |\n",
    "| <p style='text-align: justify;'>**BUREAU_CURRENT_DEBT_TO_CREDIT_RATIO_MEAN**</p> | <p style='text-align: justify;'>Moyenne de du ratio des prêts précédents sur d'autres institution de : la dette actuelle sur le crédit et la limite de crédit actuelle de la carte de crédit</p> |\n",
    "| <p style='text-align: justify;'>**CAR_EMPLOYED_RATIO**</p> | <p style='text-align: justify;'>Ratio : Âge de la voiture du demandeur / Ancienneté dans l'emploi à la date de la demande</p> |\n",
    "| <p style='text-align: justify;'>**CODE_GENDER**</p> | <p style='text-align: justify;'>Sexe</p> |\n",
    "| <p style='text-align: justify;'>**CREDIT_ANNUITY_RATIO**</p> | <p style='text-align: justify;'>Ratio : montant du crédit du prêt / Annuité de prêt</p> |\n",
    "| <p style='text-align: justify;'>**CREDIT_GOODS_RATIO**</p> | <p style='text-align: justify;'>Ratio : Montant du crédit du prêt / prix des biens pour lesquels le prêt est accordé / Crédit est supérieur au prix des biens ?</p> |\n",
    "| <p style='text-align: justify;'>**DAYS_BIRTH**</p> | <p style='text-align: justify;'>Âge</p> |\n",
    "| <p style='text-align: justify;'>**DAYS_ID_PUBLISH**</p> | <p style='text-align: justify;'>Combien de jours avant la demande le client a-t-il changé la pièce d'identité avec laquelle il a demandé le prêt ?</p> |\n",
    "| <p style='text-align: justify;'>**EXT_SOURCE_1**</p> | <p style='text-align: justify;'>Source externe normalisée </p> |\n",
    "| <p style='text-align: justify;'>**EXT_SOURCE_2**</p> | <p style='text-align: justify;'>Source externe normalisée </p> |\n",
    "| <p style='text-align: justify;'>**EXT_SOURCE_3**</p> | <p style='text-align: justify;'>Source externe normalisée </p> |\n",
    "| <p style='text-align: justify;'>**EXT_SOURCE_MAX**</p> | <p style='text-align: justify;'>Valeur maximale des 3 sources externes normalisées (EXT_SOURCE_1, EXT_SOURCE_2 et EXT_SOURCE_3)</p> |\n",
    "| <p style='text-align: justify;'>**EXT_SOURCE_SUM**</p> | <p style='text-align: justify;'>Somme des 3 sources externes normalisées (EXT_SOURCE_1, EXT_SOURCE_2 et EXT_SOURCE_3) </p> |\n",
    "| <p style='text-align: justify;'>**FLAG_OWN_CAR**</p> | <p style='text-align: justify;'>Indicateur si le client possède une voiture</p> |\n",
    "| <p style='text-align: justify;'>**INST_PAY_AMT_INSTALMENT_SUM**</p> | <p style='text-align: justify;'>Somme du montant de l'acompte prescrit des crédits précédents sur cet acompte</p> |\n",
    "| <p style='text-align: justify;'>**INST_PAY_DAYS_PAYMENT_RATIO_MAX**</p> | <p style='text-align: justify;'>Valeur maximal dans l'historique des précédents crédits remboursés dans Home Crédit du ratio : La date à laquelle le versement du crédit précédent était censé être payé (par rapport à la date de demande du prêt actuel) \\ Quand les échéances du crédit précédent ont-elles été effectivement payées (par rapport à la date de demande du prêt</p> |\n",
    "| <p style='text-align: justify;'>**NAME_EDUCATION_TYPE**</p> | <p style='text-align: justify;'>Niveau d'éducation le plus élévé</p> |\n",
    "| <p style='text-align: justify;'>**NAME_FAMILY_STATUS**</p> | <p style='text-align: justify;'>Situation de famille</p> |\n",
    "| <p style='text-align: justify;'>**POS_CASH_NAME_CONTRACT_STATUS_ACTIVE_SUM**</p> | <p style='text-align: justify;'>Somme des contrats actifs au cours du mois</p> |\n",
    "| <p style='text-align: justify;'>**PREV_APP_INTEREST_SHARE_MAX**</p> | <p style='text-align: justify;'>La valeur maximale de tous les précédents crédit dans d'autres institution : de la durée du crédit multiplié par l'annuité du prêt moins le montant final du crédit</p> |"
   ]
  },
  {
   "cell_type": "markdown",
   "id": "3991204b",
   "metadata": {},
   "source": [
    "<span style='background:Moccasin'>**10 plus proches voisins pour ces variables ?**</span>"
   ]
  },
  {
   "cell_type": "markdown",
   "id": "9acb4a60",
   "metadata": {},
   "source": [
    "On applique l'exemple de constitution de la variable magique du kernel kaggle pour récupérer les 10 plus proches voisins pour les variables les plus déterminantes sur la décision client défaillant/non-défaillant.\n",
    "\n",
    "[Source Kaggle](https://www.kaggle.com/c/home-credit-default-risk/discussion/64821) \n",
    "\n",
    "[Source KNeighborsClassifier](https://scikit-learn.org/stable/modules/generated/sklearn.neighbors.KNeighborsClassifier.html#sklearn.neighbors.KNeighborsClassifier.kneighbors)"
   ]
  },
  {
   "cell_type": "markdown",
   "id": "cf15bf86",
   "metadata": {},
   "source": [
    "**Préparation des données**"
   ]
  },
  {
   "cell_type": "code",
   "execution_count": 21,
   "id": "1dc89175",
   "metadata": {},
   "outputs": [],
   "source": [
    "# Liste des variables les plus déterminantes\n",
    "feat_imp = ['AMT_ANNUITY',\n",
    "            'BUREAU_CURRENT_CREDIT_DEBT_DIFF_MIN',\n",
    "            'BUREAU_CURRENT_CREDIT_DEBT_DIFF_MEAN',\n",
    "            'BUREAU_CURRENT_DEBT_TO_CREDIT_RATIO_MEAN',\n",
    "            'CAR_EMPLOYED_RATIO',\n",
    "            'CODE_GENDER',\n",
    "            'CREDIT_ANNUITY_RATIO',\n",
    "            'CREDIT_GOODS_RATIO',\n",
    "            'DAYS_BIRTH',\n",
    "            'DAYS_ID_PUBLISH',\n",
    "            'EXT_SOURCE_1',\n",
    "            'EXT_SOURCE_2',\n",
    "            'EXT_SOURCE_3',\n",
    "            'EXT_SOURCE_MAX',\n",
    "            'EXT_SOURCE_SUM',\n",
    "            'FLAG_OWN_CAR',\n",
    "            'INST_PAY_AMT_INSTALMENT_SUM',\n",
    "            'INST_PAY_DAYS_PAYMENT_RATIO_MAX',\n",
    "            'NAME_EDUCATION_TYPE_HIGHER_EDUCATION',\n",
    "            'NAME_FAMILY_STATUS_MARRIED',\n",
    "            'POS_CASH_NAME_CONTRACT_STATUS_ACTIVE_SUM',\n",
    "            'PREV_APP_INTEREST_SHARE_MAX']"
   ]
  },
  {
   "cell_type": "code",
   "execution_count": 22,
   "id": "1ef25f12",
   "metadata": {},
   "outputs": [],
   "source": [
    "# Matrice X - variables les plus déterminantes\n",
    "X = train_set[feat_imp]"
   ]
  },
  {
   "cell_type": "code",
   "execution_count": 23,
   "id": "827d773d",
   "metadata": {
    "run_control": {
     "marked": false
    }
   },
   "outputs": [
    {
     "data": {
      "text/plain": [
       "(307507, 22)"
      ]
     },
     "execution_count": 23,
     "metadata": {},
     "output_type": "execute_result"
    }
   ],
   "source": [
    "# Standardisation KNN utilise les distances - train set\n",
    "scaler_std = StandardScaler()\n",
    "X_std = scaler_std.fit_transform(X)\n",
    "X_std = pd.DataFrame(X_std, index=X.index, columns=X.columns.to_list())\n",
    "X_std.shape"
   ]
  },
  {
   "cell_type": "code",
   "execution_count": 24,
   "id": "4ebd476a",
   "metadata": {},
   "outputs": [
    {
     "data": {
      "text/plain": [
       "(307507,)"
      ]
     },
     "execution_count": 24,
     "metadata": {},
     "output_type": "execute_result"
    }
   ],
   "source": [
    "# Vecteur y\n",
    "# y = df_dashboard['SCORE_CLIENT'].astype('int64')\n",
    "y = train_set['TARGET']\n",
    "y.shape"
   ]
  },
  {
   "cell_type": "code",
   "execution_count": 25,
   "id": "db6e1b25",
   "metadata": {},
   "outputs": [],
   "source": [
    "# Matrice X_test - variables les plus déterminantes\n",
    "X_test = test_set[feat_imp]"
   ]
  },
  {
   "cell_type": "code",
   "execution_count": 26,
   "id": "6c8add39",
   "metadata": {},
   "outputs": [
    {
     "data": {
      "text/plain": [
       "(48744, 22)"
      ]
     },
     "execution_count": 26,
     "metadata": {},
     "output_type": "execute_result"
    }
   ],
   "source": [
    "# Standardisation KNN utilise les distances - test set\n",
    "scaler_std = StandardScaler()\n",
    "X_test_std = scaler_std.fit_transform(X_test)\n",
    "X_test_std = pd.DataFrame(X_test_std, index=X_test.index,\n",
    "                          columns=X_test.columns.to_list())\n",
    "X_test_std.shape"
   ]
  },
  {
   "cell_type": "code",
   "execution_count": 27,
   "id": "303c5be6",
   "metadata": {},
   "outputs": [
    {
     "data": {
      "text/plain": [
       "(48744,)"
      ]
     },
     "execution_count": 27,
     "metadata": {},
     "output_type": "execute_result"
    }
   ],
   "source": [
    "# Vecteur y\n",
    "y_test = df_dashboard['SCORE_CLIENT'].astype('int64')\n",
    "y_test.shape"
   ]
  },
  {
   "cell_type": "markdown",
   "id": "d2e3c8cf",
   "metadata": {},
   "source": [
    "<span style='background:Lightgreen'>**10 voisins les plus proches du train set**</span>"
   ]
  },
  {
   "cell_type": "code",
   "execution_count": 41,
   "id": "7a81fd91",
   "metadata": {},
   "outputs": [],
   "source": [
    "# Instanciation du modèle\n",
    "knn = KNeighborsClassifier(10, n_jobs = -1)"
   ]
  },
  {
   "cell_type": "code",
   "execution_count": 42,
   "id": "16d05007",
   "metadata": {},
   "outputs": [
    {
     "data": {
      "text/plain": [
       "KNeighborsClassifier(n_jobs=-1, n_neighbors=10)"
      ]
     },
     "execution_count": 42,
     "metadata": {},
     "output_type": "execute_result"
    }
   ],
   "source": [
    "# Entraînement du modèle\n",
    "knn.fit(X_std, y)"
   ]
  },
  {
   "cell_type": "code",
   "execution_count": 65,
   "id": "99be3b63",
   "metadata": {},
   "outputs": [],
   "source": [
    "# Sauvegarde du modèle entraîné\n",
    "fic_knn ='../sauvegarde/dashboard/knn_10_voisins_train.pickle'\n",
    "with open(fic_knn, 'wb') as f:\n",
    "    pickle.dump(knn, f, pickle.HIGHEST_PROTOCOL)"
   ]
  },
  {
   "cell_type": "code",
   "execution_count": 43,
   "id": "02c86cfd",
   "metadata": {},
   "outputs": [],
   "source": [
    "# Récupération des index des 10 voisins similaires\n",
    "liste_index_10_voisins = knn.kneighbors(X_test_std)[1]"
   ]
  },
  {
   "cell_type": "code",
   "execution_count": 44,
   "id": "e42ec03d",
   "metadata": {},
   "outputs": [],
   "source": [
    "# Index des 10 clients voisins dans le train set\n",
    "df_dashboard['INDEX_10_VOISINS_TRAIN'] = \\\n",
    "    [index for index in liste_index_10_voisins]"
   ]
  },
  {
   "cell_type": "code",
   "execution_count": 45,
   "id": "fd0b3755",
   "metadata": {},
   "outputs": [],
   "source": [
    "# Nombre de clients défaillants parmi les 10 voisins\n",
    "df_dashboard['NB_10_VOISINS_DEFAILLANT_TRAIN'] = \\\n",
    "    [Counter(train_set['TARGET'].iloc[index])[1]\n",
    "     for index in liste_index_10_voisins]"
   ]
  },
  {
   "cell_type": "code",
   "execution_count": 46,
   "id": "4ec108d3",
   "metadata": {},
   "outputs": [],
   "source": [
    "# Pourcentage de clients défaillants parmi les 10 voisins\n",
    "df_dashboard['%_NB_10_VOISINS_DEFAILLANT_TRAIN'] = \\\n",
    "    [(row / 10) * 100\n",
    "     for row in df_dashboard['NB_10_VOISINS_DEFAILLANT_TRAIN']]"
   ]
  },
  {
   "cell_type": "code",
   "execution_count": 47,
   "id": "aeda12ef",
   "metadata": {
    "run_control": {
     "marked": false
    }
   },
   "outputs": [
    {
     "data": {
      "text/html": [
       "<div>\n",
       "<style scoped>\n",
       "    .dataframe tbody tr th:only-of-type {\n",
       "        vertical-align: middle;\n",
       "    }\n",
       "\n",
       "    .dataframe tbody tr th {\n",
       "        vertical-align: top;\n",
       "    }\n",
       "\n",
       "    .dataframe thead th {\n",
       "        text-align: right;\n",
       "    }\n",
       "</style>\n",
       "<table border=\"1\" class=\"dataframe\">\n",
       "  <thead>\n",
       "    <tr style=\"text-align: right;\">\n",
       "      <th></th>\n",
       "      <th>SCORE_CLIENT</th>\n",
       "      <th>PRED_CLASSE_CLIENT</th>\n",
       "      <th>%_NB_10_VOISINS_DEFAILLANT_TRAIN</th>\n",
       "    </tr>\n",
       "  </thead>\n",
       "  <tbody>\n",
       "    <tr>\n",
       "      <th>0</th>\n",
       "      <td>0.3229</td>\n",
       "      <td>0</td>\n",
       "      <td>20.0</td>\n",
       "    </tr>\n",
       "    <tr>\n",
       "      <th>1</th>\n",
       "      <td>0.7506</td>\n",
       "      <td>1</td>\n",
       "      <td>20.0</td>\n",
       "    </tr>\n",
       "    <tr>\n",
       "      <th>2</th>\n",
       "      <td>0.2673</td>\n",
       "      <td>0</td>\n",
       "      <td>20.0</td>\n",
       "    </tr>\n",
       "    <tr>\n",
       "      <th>3</th>\n",
       "      <td>0.1873</td>\n",
       "      <td>0</td>\n",
       "      <td>0.0</td>\n",
       "    </tr>\n",
       "    <tr>\n",
       "      <th>4</th>\n",
       "      <td>0.6179</td>\n",
       "      <td>1</td>\n",
       "      <td>20.0</td>\n",
       "    </tr>\n",
       "    <tr>\n",
       "      <th>5</th>\n",
       "      <td>0.3146</td>\n",
       "      <td>0</td>\n",
       "      <td>0.0</td>\n",
       "    </tr>\n",
       "    <tr>\n",
       "      <th>6</th>\n",
       "      <td>0.0982</td>\n",
       "      <td>0</td>\n",
       "      <td>0.0</td>\n",
       "    </tr>\n",
       "    <tr>\n",
       "      <th>7</th>\n",
       "      <td>0.2937</td>\n",
       "      <td>0</td>\n",
       "      <td>10.0</td>\n",
       "    </tr>\n",
       "    <tr>\n",
       "      <th>8</th>\n",
       "      <td>0.1236</td>\n",
       "      <td>0</td>\n",
       "      <td>0.0</td>\n",
       "    </tr>\n",
       "    <tr>\n",
       "      <th>9</th>\n",
       "      <td>0.5236</td>\n",
       "      <td>1</td>\n",
       "      <td>0.0</td>\n",
       "    </tr>\n",
       "  </tbody>\n",
       "</table>\n",
       "</div>"
      ],
      "text/plain": [
       "   SCORE_CLIENT  PRED_CLASSE_CLIENT  %_NB_10_VOISINS_DEFAILLANT_TRAIN\n",
       "0        0.3229                   0                              20.0\n",
       "1        0.7506                   1                              20.0\n",
       "2        0.2673                   0                              20.0\n",
       "3        0.1873                   0                               0.0\n",
       "4        0.6179                   1                              20.0\n",
       "5        0.3146                   0                               0.0\n",
       "6        0.0982                   0                               0.0\n",
       "7        0.2937                   0                              10.0\n",
       "8        0.1236                   0                               0.0\n",
       "9        0.5236                   1                               0.0"
      ]
     },
     "execution_count": 47,
     "metadata": {},
     "output_type": "execute_result"
    }
   ],
   "source": [
    "df_dashboard[['SCORE_CLIENT', 'PRED_CLASSE_CLIENT', \n",
    "              '%_NB_10_VOISINS_DEFAILLANT_TRAIN']].head(10)"
   ]
  },
  {
   "cell_type": "markdown",
   "id": "6b2cc471",
   "metadata": {},
   "source": [
    "**Constitution du dataframe des voisins pour le dashboard**"
   ]
  },
  {
   "cell_type": "code",
   "execution_count": 206,
   "id": "ac361edd",
   "metadata": {},
   "outputs": [
    {
     "data": {
      "text/plain": [
       "(48744, 2)"
      ]
     },
     "execution_count": 206,
     "metadata": {},
     "output_type": "execute_result"
    }
   ],
   "source": [
    "df_index_voisins = \\\n",
    "    pd.DataFrame({'ID_CLIENT' : test_set['SK_ID_CURR'],\n",
    "                  'INDEX_10_VOISINS' : liste_index_10_voisins.tolist()})\n",
    "df_index_voisins.shape"
   ]
  },
  {
   "cell_type": "code",
   "execution_count": null,
   "id": "a35757fe",
   "metadata": {},
   "outputs": [],
   "source": [
    "df_voisin_train = pd.DataFrame({})"
   ]
  },
  {
   "cell_type": "code",
   "execution_count": 207,
   "id": "a3cbd344",
   "metadata": {},
   "outputs": [
    {
     "data": {
      "text/plain": [
       "(6804, 2)"
      ]
     },
     "execution_count": 207,
     "metadata": {},
     "output_type": "execute_result"
    }
   ],
   "source": [
    "# ID_CLIENT entre 100001 et 150000 : 6804 clients\n",
    "mask = df_index_voisins['ID_CLIENT'] >= 100001 \n",
    "mask2 = df_index_voisins['ID_CLIENT'] < 150000 \n",
    "df1 = df_index_voisins[mask & mask2]\n",
    "df1.shape"
   ]
  },
  {
   "cell_type": "code",
   "execution_count": 208,
   "id": "28f6a97a",
   "metadata": {},
   "outputs": [
    {
     "data": {
      "text/html": [
       "<div>\n",
       "<style scoped>\n",
       "    .dataframe tbody tr th:only-of-type {\n",
       "        vertical-align: middle;\n",
       "    }\n",
       "\n",
       "    .dataframe tbody tr th {\n",
       "        vertical-align: top;\n",
       "    }\n",
       "\n",
       "    .dataframe thead th {\n",
       "        text-align: right;\n",
       "    }\n",
       "</style>\n",
       "<table border=\"1\" class=\"dataframe\">\n",
       "  <thead>\n",
       "    <tr style=\"text-align: right;\">\n",
       "      <th></th>\n",
       "      <th>ID_CLIENT</th>\n",
       "      <th>INDEX_VOISIN</th>\n",
       "      <th>AMT_ANNUITY</th>\n",
       "      <th>BUREAU_CURRENT_CREDIT_DEBT_DIFF_MIN</th>\n",
       "      <th>BUREAU_CURRENT_CREDIT_DEBT_DIFF_MEAN</th>\n",
       "      <th>BUREAU_CURRENT_DEBT_TO_CREDIT_RATIO_MEAN</th>\n",
       "      <th>CAR_EMPLOYED_RATIO</th>\n",
       "      <th>CODE_GENDER</th>\n",
       "      <th>CREDIT_ANNUITY_RATIO</th>\n",
       "      <th>CREDIT_GOODS_RATIO</th>\n",
       "      <th>DAYS_BIRTH</th>\n",
       "      <th>DAYS_ID_PUBLISH</th>\n",
       "      <th>EXT_SOURCE_1</th>\n",
       "      <th>EXT_SOURCE_2</th>\n",
       "      <th>EXT_SOURCE_3</th>\n",
       "      <th>EXT_SOURCE_MAX</th>\n",
       "      <th>EXT_SOURCE_SUM</th>\n",
       "      <th>FLAG_OWN_CAR</th>\n",
       "      <th>INST_PAY_AMT_INSTALMENT_SUM</th>\n",
       "      <th>INST_PAY_DAYS_PAYMENT_RATIO_MAX</th>\n",
       "      <th>NAME_EDUCATION_TYPE_HIGHER_EDUCATION</th>\n",
       "      <th>NAME_FAMILY_STATUS_MARRIED</th>\n",
       "      <th>POS_CASH_NAME_CONTRACT_STATUS_ACTIVE_SUM</th>\n",
       "      <th>PREV_APP_INTEREST_SHARE_MAX</th>\n",
       "      <th>AMT_INCOME_TOTAL</th>\n",
       "      <th>AMT_CREDIT</th>\n",
       "      <th>NAME_FAMILY_STATUS</th>\n",
       "      <th>DAYS_EMPLOYED</th>\n",
       "      <th>AMT_GOODS_PRICE</th>\n",
       "      <th>CNT_CHILDREN</th>\n",
       "      <th>NAME_CONTRACT_TYPE</th>\n",
       "      <th>NAME_EDUCATION_TYPE</th>\n",
       "      <th>NAME_HOUSING_TYPE</th>\n",
       "      <th>NAME_INCOME_TYPE</th>\n",
       "    </tr>\n",
       "  </thead>\n",
       "  <tbody>\n",
       "    <tr>\n",
       "      <th>0</th>\n",
       "      <td>100001</td>\n",
       "      <td>77677</td>\n",
       "      <td>21609.0</td>\n",
       "      <td>31356.0</td>\n",
       "      <td>104587.8750</td>\n",
       "      <td>0.3222</td>\n",
       "      <td>-0.0018</td>\n",
       "      <td>0.0</td>\n",
       "      <td>30.8125</td>\n",
       "      <td>1.3965</td>\n",
       "      <td>-15678.0</td>\n",
       "      <td>-538.0</td>\n",
       "      <td>0.7534</td>\n",
       "      <td>0.6982</td>\n",
       "      <td>0.2957</td>\n",
       "      <td>0.7534</td>\n",
       "      <td>1.7471</td>\n",
       "      <td>1.0</td>\n",
       "      <td>88719.0312</td>\n",
       "      <td>1.0000</td>\n",
       "      <td>1.0</td>\n",
       "      <td>1.0</td>\n",
       "      <td>11.0</td>\n",
       "      <td>0.1538</td>\n",
       "      <td>135000.0</td>\n",
       "      <td>665892.0</td>\n",
       "      <td>Married</td>\n",
       "      <td>-5107</td>\n",
       "      <td>477000.0</td>\n",
       "      <td>0</td>\n",
       "      <td>Cash loans</td>\n",
       "      <td>Higher education</td>\n",
       "      <td>House / apartment</td>\n",
       "      <td>Working</td>\n",
       "    </tr>\n",
       "    <tr>\n",
       "      <th>1</th>\n",
       "      <td>100001</td>\n",
       "      <td>257447</td>\n",
       "      <td>29214.0</td>\n",
       "      <td>50287.5</td>\n",
       "      <td>254271.1562</td>\n",
       "      <td>0.2663</td>\n",
       "      <td>-0.0018</td>\n",
       "      <td>0.0</td>\n",
       "      <td>31.0000</td>\n",
       "      <td>1.1982</td>\n",
       "      <td>-17358.0</td>\n",
       "      <td>-778.0</td>\n",
       "      <td>0.8647</td>\n",
       "      <td>0.6846</td>\n",
       "      <td>0.1830</td>\n",
       "      <td>0.8647</td>\n",
       "      <td>1.7314</td>\n",
       "      <td>1.0</td>\n",
       "      <td>167623.5625</td>\n",
       "      <td>0.9644</td>\n",
       "      <td>1.0</td>\n",
       "      <td>1.0</td>\n",
       "      <td>13.0</td>\n",
       "      <td>0.0870</td>\n",
       "      <td>315000.0</td>\n",
       "      <td>905688.0</td>\n",
       "      <td>Married</td>\n",
       "      <td>-5093</td>\n",
       "      <td>756000.0</td>\n",
       "      <td>0</td>\n",
       "      <td>Cash loans</td>\n",
       "      <td>Higher education</td>\n",
       "      <td>House / apartment</td>\n",
       "      <td>State servant</td>\n",
       "    </tr>\n",
       "    <tr>\n",
       "      <th>2</th>\n",
       "      <td>100001</td>\n",
       "      <td>109458</td>\n",
       "      <td>19039.5</td>\n",
       "      <td>66123.0</td>\n",
       "      <td>96661.5000</td>\n",
       "      <td>0.1876</td>\n",
       "      <td>-0.0017</td>\n",
       "      <td>0.0</td>\n",
       "      <td>27.6562</td>\n",
       "      <td>1.1582</td>\n",
       "      <td>-17745.0</td>\n",
       "      <td>-358.0</td>\n",
       "      <td>0.8037</td>\n",
       "      <td>0.6958</td>\n",
       "      <td>0.3047</td>\n",
       "      <td>0.8037</td>\n",
       "      <td>1.8047</td>\n",
       "      <td>1.0</td>\n",
       "      <td>472126.9375</td>\n",
       "      <td>1.0107</td>\n",
       "      <td>1.0</td>\n",
       "      <td>1.0</td>\n",
       "      <td>24.0</td>\n",
       "      <td>0.4551</td>\n",
       "      <td>171000.0</td>\n",
       "      <td>526491.0</td>\n",
       "      <td>Married</td>\n",
       "      <td>-5453</td>\n",
       "      <td>454500.0</td>\n",
       "      <td>0</td>\n",
       "      <td>Cash loans</td>\n",
       "      <td>Higher education</td>\n",
       "      <td>House / apartment</td>\n",
       "      <td>Working</td>\n",
       "    </tr>\n",
       "    <tr>\n",
       "      <th>3</th>\n",
       "      <td>100001</td>\n",
       "      <td>212270</td>\n",
       "      <td>35860.5</td>\n",
       "      <td>13500.0</td>\n",
       "      <td>66274.5000</td>\n",
       "      <td>0.6045</td>\n",
       "      <td>-0.0123</td>\n",
       "      <td>0.0</td>\n",
       "      <td>34.1875</td>\n",
       "      <td>1.1455</td>\n",
       "      <td>-17599.0</td>\n",
       "      <td>-639.0</td>\n",
       "      <td>0.7939</td>\n",
       "      <td>0.7363</td>\n",
       "      <td>0.0839</td>\n",
       "      <td>0.7939</td>\n",
       "      <td>1.6143</td>\n",
       "      <td>1.0</td>\n",
       "      <td>888188.3125</td>\n",
       "      <td>1.0186</td>\n",
       "      <td>1.0</td>\n",
       "      <td>1.0</td>\n",
       "      <td>21.0</td>\n",
       "      <td>0.4824</td>\n",
       "      <td>202500.0</td>\n",
       "      <td>1226511.0</td>\n",
       "      <td>Married</td>\n",
       "      <td>-730</td>\n",
       "      <td>1071000.0</td>\n",
       "      <td>1</td>\n",
       "      <td>Cash loans</td>\n",
       "      <td>Higher education</td>\n",
       "      <td>House / apartment</td>\n",
       "      <td>Commercial associate</td>\n",
       "    </tr>\n",
       "    <tr>\n",
       "      <th>4</th>\n",
       "      <td>100001</td>\n",
       "      <td>139230</td>\n",
       "      <td>35842.5</td>\n",
       "      <td>12816.0</td>\n",
       "      <td>245472.0000</td>\n",
       "      <td>0.5658</td>\n",
       "      <td>-0.0077</td>\n",
       "      <td>0.0</td>\n",
       "      <td>36.2188</td>\n",
       "      <td>1.1455</td>\n",
       "      <td>-18962.0</td>\n",
       "      <td>-2482.0</td>\n",
       "      <td>0.8213</td>\n",
       "      <td>0.7285</td>\n",
       "      <td>0.1885</td>\n",
       "      <td>0.8213</td>\n",
       "      <td>1.7383</td>\n",
       "      <td>1.0</td>\n",
       "      <td>619353.3750</td>\n",
       "      <td>1.0000</td>\n",
       "      <td>1.0</td>\n",
       "      <td>1.0</td>\n",
       "      <td>15.0</td>\n",
       "      <td>0.2401</td>\n",
       "      <td>225000.0</td>\n",
       "      <td>1298655.0</td>\n",
       "      <td>Married</td>\n",
       "      <td>-1165</td>\n",
       "      <td>1134000.0</td>\n",
       "      <td>0</td>\n",
       "      <td>Cash loans</td>\n",
       "      <td>Higher education</td>\n",
       "      <td>House / apartment</td>\n",
       "      <td>Working</td>\n",
       "    </tr>\n",
       "  </tbody>\n",
       "</table>\n",
       "</div>"
      ],
      "text/plain": [
       "   ID_CLIENT  INDEX_VOISIN  AMT_ANNUITY  BUREAU_CURRENT_CREDIT_DEBT_DIFF_MIN  BUREAU_CURRENT_CREDIT_DEBT_DIFF_MEAN  BUREAU_CURRENT_DEBT_TO_CREDIT_RATIO_MEAN  CAR_EMPLOYED_RATIO  CODE_GENDER  CREDIT_ANNUITY_RATIO  CREDIT_GOODS_RATIO  DAYS_BIRTH  DAYS_ID_PUBLISH  EXT_SOURCE_1  EXT_SOURCE_2  \\\n",
       "0     100001         77677      21609.0                              31356.0                           104587.8750                                    0.3222             -0.0018          0.0               30.8125              1.3965    -15678.0           -538.0        0.7534        0.6982   \n",
       "1     100001        257447      29214.0                              50287.5                           254271.1562                                    0.2663             -0.0018          0.0               31.0000              1.1982    -17358.0           -778.0        0.8647        0.6846   \n",
       "2     100001        109458      19039.5                              66123.0                            96661.5000                                    0.1876             -0.0017          0.0               27.6562              1.1582    -17745.0           -358.0        0.8037        0.6958   \n",
       "3     100001        212270      35860.5                              13500.0                            66274.5000                                    0.6045             -0.0123          0.0               34.1875              1.1455    -17599.0           -639.0        0.7939        0.7363   \n",
       "4     100001        139230      35842.5                              12816.0                           245472.0000                                    0.5658             -0.0077          0.0               36.2188              1.1455    -18962.0          -2482.0        0.8213        0.7285   \n",
       "\n",
       "   EXT_SOURCE_3  EXT_SOURCE_MAX  EXT_SOURCE_SUM  FLAG_OWN_CAR  INST_PAY_AMT_INSTALMENT_SUM  INST_PAY_DAYS_PAYMENT_RATIO_MAX  NAME_EDUCATION_TYPE_HIGHER_EDUCATION  NAME_FAMILY_STATUS_MARRIED   POS_CASH_NAME_CONTRACT_STATUS_ACTIVE_SUM  PREV_APP_INTEREST_SHARE_MAX  AMT_INCOME_TOTAL  AMT_CREDIT  \\\n",
       "0        0.2957          0.7534          1.7471           1.0                   88719.0312                           1.0000                                   1.0                          1.0                                      11.0                       0.1538          135000.0    665892.0   \n",
       "1        0.1830          0.8647          1.7314           1.0                  167623.5625                           0.9644                                   1.0                          1.0                                      13.0                       0.0870          315000.0    905688.0   \n",
       "2        0.3047          0.8037          1.8047           1.0                  472126.9375                           1.0107                                   1.0                          1.0                                      24.0                       0.4551          171000.0    526491.0   \n",
       "3        0.0839          0.7939          1.6143           1.0                  888188.3125                           1.0186                                   1.0                          1.0                                      21.0                       0.4824          202500.0   1226511.0   \n",
       "4        0.1885          0.8213          1.7383           1.0                  619353.3750                           1.0000                                   1.0                          1.0                                      15.0                       0.2401          225000.0   1298655.0   \n",
       "\n",
       "  NAME_FAMILY_STATUS  DAYS_EMPLOYED  AMT_GOODS_PRICE  CNT_CHILDREN NAME_CONTRACT_TYPE NAME_EDUCATION_TYPE  NAME_HOUSING_TYPE      NAME_INCOME_TYPE  \n",
       "0            Married          -5107         477000.0             0         Cash loans    Higher education  House / apartment               Working  \n",
       "1            Married          -5093         756000.0             0         Cash loans    Higher education  House / apartment         State servant  \n",
       "2            Married          -5453         454500.0             0         Cash loans    Higher education  House / apartment               Working  \n",
       "3            Married           -730        1071000.0             1         Cash loans    Higher education  House / apartment  Commercial associate  \n",
       "4            Married          -1165        1134000.0             0         Cash loans    Higher education  House / apartment               Working  "
      ]
     },
     "execution_count": 208,
     "metadata": {},
     "output_type": "execute_result"
    }
   ],
   "source": [
    "for id_cli, row in zip(df1['ID_CLIENT'],\n",
    "                       df1['INDEX_10_VOISINS']):\n",
    "     for index in row:\n",
    "            var_imp = train_set.iloc[index]\n",
    "            info = application_train.iloc[index]\n",
    "            df_voisin_train = df_voisin_train.append(pd.DataFrame({\n",
    "                                           'ID_CLIENT': [id_cli],\n",
    "                                           'INDEX_VOISIN': [index],\n",
    "                                           'AMT_ANNUITY': [var_imp['AMT_ANNUITY']],\n",
    "                                           'BUREAU_CURRENT_CREDIT_DEBT_DIFF_MIN': [var_imp['BUREAU_CURRENT_CREDIT_DEBT_DIFF_MIN']],\n",
    "                                           'BUREAU_CURRENT_CREDIT_DEBT_DIFF_MEAN': [var_imp['BUREAU_CURRENT_CREDIT_DEBT_DIFF_MEAN']],\n",
    "                                           'BUREAU_CURRENT_DEBT_TO_CREDIT_RATIO_MEAN': [var_imp['BUREAU_CURRENT_DEBT_TO_CREDIT_RATIO_MEAN']],\n",
    "                                           'CAR_EMPLOYED_RATIO': [var_imp['CAR_EMPLOYED_RATIO']],\n",
    "                                           'CODE_GENDER': [var_imp['CODE_GENDER']],\n",
    "                                           'CREDIT_ANNUITY_RATIO': [var_imp['CREDIT_ANNUITY_RATIO']],\n",
    "                                           'CREDIT_GOODS_RATIO': [var_imp['CREDIT_GOODS_RATIO']],\n",
    "                                           'DAYS_BIRTH': [var_imp['DAYS_BIRTH']],\n",
    "                                           'DAYS_ID_PUBLISH': [var_imp['DAYS_ID_PUBLISH']],\n",
    "                                           'EXT_SOURCE_1': [var_imp['EXT_SOURCE_1']],\n",
    "                                           'EXT_SOURCE_2': [var_imp['EXT_SOURCE_2']],\n",
    "                                           'EXT_SOURCE_3': [var_imp['EXT_SOURCE_3']],\n",
    "                                           'EXT_SOURCE_MAX': [var_imp['EXT_SOURCE_MAX']],\n",
    "                                           'EXT_SOURCE_SUM': [var_imp['EXT_SOURCE_SUM']],\n",
    "                                           'FLAG_OWN_CAR': [var_imp['FLAG_OWN_CAR']],\n",
    "                                           'INST_PAY_AMT_INSTALMENT_SUM': [var_imp['INST_PAY_AMT_INSTALMENT_SUM']],\n",
    "                                           'INST_PAY_DAYS_PAYMENT_RATIO_MAX': [var_imp['INST_PAY_DAYS_PAYMENT_RATIO_MAX']],\n",
    "                                           'NAME_EDUCATION_TYPE_HIGHER_EDUCATION': [var_imp['NAME_EDUCATION_TYPE_HIGHER_EDUCATION']],\n",
    "                                           'NAME_FAMILY_STATUS_MARRIED ': [var_imp['NAME_FAMILY_STATUS_MARRIED']],\n",
    "                                           'POS_CASH_NAME_CONTRACT_STATUS_ACTIVE_SUM': [var_imp['POS_CASH_NAME_CONTRACT_STATUS_ACTIVE_SUM']],\n",
    "                                           'PREV_APP_INTEREST_SHARE_MAX': [var_imp['PREV_APP_INTEREST_SHARE_MAX']],\n",
    "                                           'AMT_INCOME_TOTAL': [info['AMT_INCOME_TOTAL']],\n",
    "                                           'AMT_CREDIT': [info['AMT_CREDIT']],\n",
    "                                           'NAME_FAMILY_STATUS': [info['NAME_FAMILY_STATUS']],\n",
    "                                           'DAYS_EMPLOYED': [info['DAYS_EMPLOYED']],\n",
    "                                           'AMT_GOODS_PRICE': [info['AMT_GOODS_PRICE']],\n",
    "                                           'CNT_CHILDREN': [info['CNT_CHILDREN']],\n",
    "                                           'NAME_CONTRACT_TYPE': [info['NAME_CONTRACT_TYPE']],\n",
    "                                           'NAME_EDUCATION_TYPE': [info['NAME_EDUCATION_TYPE']],\n",
    "                                           'NAME_HOUSING_TYPE': [info['NAME_HOUSING_TYPE']],\n",
    "                                           'NAME_INCOME_TYPE': [info['NAME_INCOME_TYPE']]\n",
    "                                           }), ignore_index=True)         \n",
    "df_voisin_train.head()"
   ]
  },
  {
   "cell_type": "code",
   "execution_count": 214,
   "id": "a54bf6b5",
   "metadata": {},
   "outputs": [],
   "source": [
    "# Sauvegarde de df_voisin_train\n",
    "with open(fic_sav_df_voisin_train, 'wb') as f:\n",
    "    pickle.dump(df_voisin_train, f, pickle.HIGHEST_PROTOCOL)"
   ]
  },
  {
   "cell_type": "code",
   "execution_count": 216,
   "id": "ffec11f8",
   "metadata": {},
   "outputs": [
    {
     "data": {
      "text/plain": [
       "(7023, 2)"
      ]
     },
     "execution_count": 216,
     "metadata": {},
     "output_type": "execute_result"
    }
   ],
   "source": [
    "# ID_CLIENT entre 150000 et 200000 :  clients\n",
    "mask = df_index_voisins['ID_CLIENT'] >= 150000\n",
    "mask2 = df_index_voisins['ID_CLIENT'] < 200000 \n",
    "df2 = df_index_voisins[mask & mask2]\n",
    "df2.shape"
   ]
  },
  {
   "cell_type": "code",
   "execution_count": null,
   "id": "890b5fdd",
   "metadata": {},
   "outputs": [],
   "source": [
    "for id_cli, row in zip(df2['ID_CLIENT'],\n",
    "                       df2['INDEX_10_VOISINS']):\n",
    "     for index in row:\n",
    "            var_imp = train_set.iloc[index]\n",
    "            info = application_train.iloc[index]\n",
    "            df_voisin_train = df_voisin_train.append(pd.DataFrame({\n",
    "                                           'ID_CLIENT': [id_cli],\n",
    "                                           'INDEX_VOISIN': [index],\n",
    "                                           'AMT_ANNUITY': [var_imp['AMT_ANNUITY']],\n",
    "                                           'BUREAU_CURRENT_CREDIT_DEBT_DIFF_MIN': [var_imp['BUREAU_CURRENT_CREDIT_DEBT_DIFF_MIN']],\n",
    "                                           'BUREAU_CURRENT_CREDIT_DEBT_DIFF_MEAN': [var_imp['BUREAU_CURRENT_CREDIT_DEBT_DIFF_MEAN']],\n",
    "                                           'BUREAU_CURRENT_DEBT_TO_CREDIT_RATIO_MEAN': [var_imp['BUREAU_CURRENT_DEBT_TO_CREDIT_RATIO_MEAN']],\n",
    "                                           'CAR_EMPLOYED_RATIO': [var_imp['CAR_EMPLOYED_RATIO']],\n",
    "                                           'CODE_GENDER': [var_imp['CODE_GENDER']],\n",
    "                                           'CREDIT_ANNUITY_RATIO': [var_imp['CREDIT_ANNUITY_RATIO']],\n",
    "                                           'CREDIT_GOODS_RATIO': [var_imp['CREDIT_GOODS_RATIO']],\n",
    "                                           'DAYS_BIRTH': [var_imp['DAYS_BIRTH']],\n",
    "                                           'DAYS_ID_PUBLISH': [var_imp['DAYS_ID_PUBLISH']],\n",
    "                                           'EXT_SOURCE_1': [var_imp['EXT_SOURCE_1']],\n",
    "                                           'EXT_SOURCE_2': [var_imp['EXT_SOURCE_2']],\n",
    "                                           'EXT_SOURCE_3': [var_imp['EXT_SOURCE_3']],\n",
    "                                           'EXT_SOURCE_MAX': [var_imp['EXT_SOURCE_MAX']],\n",
    "                                           'EXT_SOURCE_SUM': [var_imp['EXT_SOURCE_SUM']],\n",
    "                                           'FLAG_OWN_CAR': [var_imp['FLAG_OWN_CAR']],\n",
    "                                           'INST_PAY_AMT_INSTALMENT_SUM': [var_imp['INST_PAY_AMT_INSTALMENT_SUM']],\n",
    "                                           'INST_PAY_DAYS_PAYMENT_RATIO_MAX': [var_imp['INST_PAY_DAYS_PAYMENT_RATIO_MAX']],\n",
    "                                           'NAME_EDUCATION_TYPE_HIGHER_EDUCATION': [var_imp['NAME_EDUCATION_TYPE_HIGHER_EDUCATION']],\n",
    "                                           'NAME_FAMILY_STATUS_MARRIED ': [var_imp['NAME_FAMILY_STATUS_MARRIED']],\n",
    "                                           'POS_CASH_NAME_CONTRACT_STATUS_ACTIVE_SUM': [var_imp['POS_CASH_NAME_CONTRACT_STATUS_ACTIVE_SUM']],\n",
    "                                           'PREV_APP_INTEREST_SHARE_MAX': [var_imp['PREV_APP_INTEREST_SHARE_MAX']],\n",
    "                                           'AMT_INCOME_TOTAL': [info['AMT_INCOME_TOTAL']],\n",
    "                                           'AMT_CREDIT': [info['AMT_CREDIT']],\n",
    "                                           'NAME_FAMILY_STATUS': [info['NAME_FAMILY_STATUS']],\n",
    "                                           'DAYS_EMPLOYED': [info['DAYS_EMPLOYED']],\n",
    "                                           'AMT_GOODS_PRICE': [info['AMT_GOODS_PRICE']],\n",
    "                                           'CNT_CHILDREN': [info['CNT_CHILDREN']],\n",
    "                                           'NAME_CONTRACT_TYPE': [info['NAME_CONTRACT_TYPE']],\n",
    "                                           'NAME_EDUCATION_TYPE': [info['NAME_EDUCATION_TYPE']],\n",
    "                                           'NAME_HOUSING_TYPE': [info['NAME_HOUSING_TYPE']],\n",
    "                                           'NAME_INCOME_TYPE': [info['NAME_INCOME_TYPE']]\n",
    "                                           }), ignore_index=True)         \n",
    "df_voisin_train.head()"
   ]
  },
  {
   "cell_type": "code",
   "execution_count": null,
   "id": "98af5064",
   "metadata": {},
   "outputs": [],
   "source": [
    "# Sauvegarde de df_voisin_train\n",
    "with open(fic_sav_df_voisin_train, 'wb') as f:\n",
    "    pickle.dump(df_voisin_train, f, pickle.HIGHEST_PROTOCOL)"
   ]
  },
  {
   "cell_type": "code",
   "execution_count": null,
   "id": "0089490e",
   "metadata": {},
   "outputs": [],
   "source": [
    "# ID_CLIENT entre 150000 et 200000 :  clients\n",
    "mask = df_index_voisins['ID_CLIENT'] >= 200000\n",
    "mask2 = df_index_voisins['ID_CLIENT'] < 250000 \n",
    "df3 = df_index_voisins[mask & mask2]\n",
    "df3.shape"
   ]
  },
  {
   "cell_type": "code",
   "execution_count": null,
   "id": "fbc5bcc2",
   "metadata": {},
   "outputs": [],
   "source": [
    "for id_cli, row in zip(df3['ID_CLIENT'],\n",
    "                       df3['INDEX_10_VOISINS']):\n",
    "     for index in row:\n",
    "            var_imp = train_set.iloc[index]\n",
    "            info = application_train.iloc[index]\n",
    "            df_voisin_train = df_voisin_train.append(pd.DataFrame({\n",
    "                                           'ID_CLIENT': [id_cli],\n",
    "                                           'INDEX_VOISIN': [index],\n",
    "                                           'AMT_ANNUITY': [var_imp['AMT_ANNUITY']],\n",
    "                                           'BUREAU_CURRENT_CREDIT_DEBT_DIFF_MIN': [var_imp['BUREAU_CURRENT_CREDIT_DEBT_DIFF_MIN']],\n",
    "                                           'BUREAU_CURRENT_CREDIT_DEBT_DIFF_MEAN': [var_imp['BUREAU_CURRENT_CREDIT_DEBT_DIFF_MEAN']],\n",
    "                                           'BUREAU_CURRENT_DEBT_TO_CREDIT_RATIO_MEAN': [var_imp['BUREAU_CURRENT_DEBT_TO_CREDIT_RATIO_MEAN']],\n",
    "                                           'CAR_EMPLOYED_RATIO': [var_imp['CAR_EMPLOYED_RATIO']],\n",
    "                                           'CODE_GENDER': [var_imp['CODE_GENDER']],\n",
    "                                           'CREDIT_ANNUITY_RATIO': [var_imp['CREDIT_ANNUITY_RATIO']],\n",
    "                                           'CREDIT_GOODS_RATIO': [var_imp['CREDIT_GOODS_RATIO']],\n",
    "                                           'DAYS_BIRTH': [var_imp['DAYS_BIRTH']],\n",
    "                                           'DAYS_ID_PUBLISH': [var_imp['DAYS_ID_PUBLISH']],\n",
    "                                           'EXT_SOURCE_1': [var_imp['EXT_SOURCE_1']],\n",
    "                                           'EXT_SOURCE_2': [var_imp['EXT_SOURCE_2']],\n",
    "                                           'EXT_SOURCE_3': [var_imp['EXT_SOURCE_3']],\n",
    "                                           'EXT_SOURCE_MAX': [var_imp['EXT_SOURCE_MAX']],\n",
    "                                           'EXT_SOURCE_SUM': [var_imp['EXT_SOURCE_SUM']],\n",
    "                                           'FLAG_OWN_CAR': [var_imp['FLAG_OWN_CAR']],\n",
    "                                           'INST_PAY_AMT_INSTALMENT_SUM': [var_imp['INST_PAY_AMT_INSTALMENT_SUM']],\n",
    "                                           'INST_PAY_DAYS_PAYMENT_RATIO_MAX': [var_imp['INST_PAY_DAYS_PAYMENT_RATIO_MAX']],\n",
    "                                           'NAME_EDUCATION_TYPE_HIGHER_EDUCATION': [var_imp['NAME_EDUCATION_TYPE_HIGHER_EDUCATION']],\n",
    "                                           'NAME_FAMILY_STATUS_MARRIED ': [var_imp['NAME_FAMILY_STATUS_MARRIED']],\n",
    "                                           'POS_CASH_NAME_CONTRACT_STATUS_ACTIVE_SUM': [var_imp['POS_CASH_NAME_CONTRACT_STATUS_ACTIVE_SUM']],\n",
    "                                           'PREV_APP_INTEREST_SHARE_MAX': [var_imp['PREV_APP_INTEREST_SHARE_MAX']],\n",
    "                                           'AMT_INCOME_TOTAL': [info['AMT_INCOME_TOTAL']],\n",
    "                                           'AMT_CREDIT': [info['AMT_CREDIT']],\n",
    "                                           'NAME_FAMILY_STATUS': [info['NAME_FAMILY_STATUS']],\n",
    "                                           'DAYS_EMPLOYED': [info['DAYS_EMPLOYED']],\n",
    "                                           'AMT_GOODS_PRICE': [info['AMT_GOODS_PRICE']],\n",
    "                                           'CNT_CHILDREN': [info['CNT_CHILDREN']],\n",
    "                                           'NAME_CONTRACT_TYPE': [info['NAME_CONTRACT_TYPE']],\n",
    "                                           'NAME_EDUCATION_TYPE': [info['NAME_EDUCATION_TYPE']],\n",
    "                                           'NAME_HOUSING_TYPE': [info['NAME_HOUSING_TYPE']],\n",
    "                                           'NAME_INCOME_TYPE': [info['NAME_INCOME_TYPE']]\n",
    "                                           }), ignore_index=True)         \n",
    "df_voisin_train.head()"
   ]
  },
  {
   "cell_type": "code",
   "execution_count": null,
   "id": "13aa8a20",
   "metadata": {},
   "outputs": [],
   "source": [
    "# Sauvegarde de df_voisin_train\n",
    "with open(fic_sav_df_voisin_train, 'wb') as f:\n",
    "    pickle.dump(df_voisin_train, f, pickle.HIGHEST_PROTOCOL)"
   ]
  },
  {
   "cell_type": "code",
   "execution_count": null,
   "id": "12503ba7",
   "metadata": {},
   "outputs": [],
   "source": [
    "# ID_CLIENT entre 150000 et 200000 :  clients\n",
    "mask = df_index_voisins['ID_CLIENT'] >= 250000\n",
    "mask2 = df_index_voisins['ID_CLIENT'] < 300000 \n",
    "df4 = df_index_voisins[mask & mask2]\n",
    "df4.shape"
   ]
  },
  {
   "cell_type": "code",
   "execution_count": null,
   "id": "8c3016bf",
   "metadata": {},
   "outputs": [],
   "source": [
    "for id_cli, row in zip(df4['ID_CLIENT'],\n",
    "                       df4['INDEX_10_VOISINS']):\n",
    "     for index in row:\n",
    "            var_imp = train_set.iloc[index]\n",
    "            info = application_train.iloc[index]\n",
    "            df_voisin_train = df_voisin_train.append(pd.DataFrame({\n",
    "                                           'ID_CLIENT': [id_cli],\n",
    "                                           'INDEX_VOISIN': [index],\n",
    "                                           'AMT_ANNUITY': [var_imp['AMT_ANNUITY']],\n",
    "                                           'BUREAU_CURRENT_CREDIT_DEBT_DIFF_MIN': [var_imp['BUREAU_CURRENT_CREDIT_DEBT_DIFF_MIN']],\n",
    "                                           'BUREAU_CURRENT_CREDIT_DEBT_DIFF_MEAN': [var_imp['BUREAU_CURRENT_CREDIT_DEBT_DIFF_MEAN']],\n",
    "                                           'BUREAU_CURRENT_DEBT_TO_CREDIT_RATIO_MEAN': [var_imp['BUREAU_CURRENT_DEBT_TO_CREDIT_RATIO_MEAN']],\n",
    "                                           'CAR_EMPLOYED_RATIO': [var_imp['CAR_EMPLOYED_RATIO']],\n",
    "                                           'CODE_GENDER': [var_imp['CODE_GENDER']],\n",
    "                                           'CREDIT_ANNUITY_RATIO': [var_imp['CREDIT_ANNUITY_RATIO']],\n",
    "                                           'CREDIT_GOODS_RATIO': [var_imp['CREDIT_GOODS_RATIO']],\n",
    "                                           'DAYS_BIRTH': [var_imp['DAYS_BIRTH']],\n",
    "                                           'DAYS_ID_PUBLISH': [var_imp['DAYS_ID_PUBLISH']],\n",
    "                                           'EXT_SOURCE_1': [var_imp['EXT_SOURCE_1']],\n",
    "                                           'EXT_SOURCE_2': [var_imp['EXT_SOURCE_2']],\n",
    "                                           'EXT_SOURCE_3': [var_imp['EXT_SOURCE_3']],\n",
    "                                           'EXT_SOURCE_MAX': [var_imp['EXT_SOURCE_MAX']],\n",
    "                                           'EXT_SOURCE_SUM': [var_imp['EXT_SOURCE_SUM']],\n",
    "                                           'FLAG_OWN_CAR': [var_imp['FLAG_OWN_CAR']],\n",
    "                                           'INST_PAY_AMT_INSTALMENT_SUM': [var_imp['INST_PAY_AMT_INSTALMENT_SUM']],\n",
    "                                           'INST_PAY_DAYS_PAYMENT_RATIO_MAX': [var_imp['INST_PAY_DAYS_PAYMENT_RATIO_MAX']],\n",
    "                                           'NAME_EDUCATION_TYPE_HIGHER_EDUCATION': [var_imp['NAME_EDUCATION_TYPE_HIGHER_EDUCATION']],\n",
    "                                           'NAME_FAMILY_STATUS_MARRIED ': [var_imp['NAME_FAMILY_STATUS_MARRIED']],\n",
    "                                           'POS_CASH_NAME_CONTRACT_STATUS_ACTIVE_SUM': [var_imp['POS_CASH_NAME_CONTRACT_STATUS_ACTIVE_SUM']],\n",
    "                                           'PREV_APP_INTEREST_SHARE_MAX': [var_imp['PREV_APP_INTEREST_SHARE_MAX']],\n",
    "                                           'AMT_INCOME_TOTAL': [info['AMT_INCOME_TOTAL']],\n",
    "                                           'AMT_CREDIT': [info['AMT_CREDIT']],\n",
    "                                           'NAME_FAMILY_STATUS': [info['NAME_FAMILY_STATUS']],\n",
    "                                           'DAYS_EMPLOYED': [info['DAYS_EMPLOYED']],\n",
    "                                           'AMT_GOODS_PRICE': [info['AMT_GOODS_PRICE']],\n",
    "                                           'CNT_CHILDREN': [info['CNT_CHILDREN']],\n",
    "                                           'NAME_CONTRACT_TYPE': [info['NAME_CONTRACT_TYPE']],\n",
    "                                           'NAME_EDUCATION_TYPE': [info['NAME_EDUCATION_TYPE']],\n",
    "                                           'NAME_HOUSING_TYPE': [info['NAME_HOUSING_TYPE']],\n",
    "                                           'NAME_INCOME_TYPE': [info['NAME_INCOME_TYPE']]\n",
    "                                           }), ignore_index=True)         \n",
    "df_voisin_train.head()"
   ]
  },
  {
   "cell_type": "code",
   "execution_count": null,
   "id": "44e474c7",
   "metadata": {},
   "outputs": [],
   "source": [
    "# Sauvegarde de df_voisin_train\n",
    "with open(fic_sav_df_voisin_train, 'wb') as f:\n",
    "    pickle.dump(df_voisin_train, f, pickle.HIGHEST_PROTOCOL)"
   ]
  },
  {
   "cell_type": "code",
   "execution_count": null,
   "id": "26195bc7",
   "metadata": {},
   "outputs": [],
   "source": [
    "# ID_CLIENT entre 150000 et 200000 :  clients\n",
    "mask = df_index_voisins['ID_CLIENT'] >= 300000\n",
    "mask2 = df_index_voisins['ID_CLIENT'] < 350000 \n",
    "df5 = df_index_voisins[mask & mask2]\n",
    "df5.shape"
   ]
  },
  {
   "cell_type": "code",
   "execution_count": null,
   "id": "1f87ee4e",
   "metadata": {},
   "outputs": [],
   "source": [
    "for id_cli, row in zip(df5['ID_CLIENT'],\n",
    "                       df5['INDEX_10_VOISINS']):\n",
    "     for index in row:\n",
    "            var_imp = train_set.iloc[index]\n",
    "            info = application_train.iloc[index]\n",
    "            df_voisin_train = df_voisin_train.append(pd.DataFrame({\n",
    "                                           'ID_CLIENT': [id_cli],\n",
    "                                           'INDEX_VOISIN': [index],\n",
    "                                           'AMT_ANNUITY': [var_imp['AMT_ANNUITY']],\n",
    "                                           'BUREAU_CURRENT_CREDIT_DEBT_DIFF_MIN': [var_imp['BUREAU_CURRENT_CREDIT_DEBT_DIFF_MIN']],\n",
    "                                           'BUREAU_CURRENT_CREDIT_DEBT_DIFF_MEAN': [var_imp['BUREAU_CURRENT_CREDIT_DEBT_DIFF_MEAN']],\n",
    "                                           'BUREAU_CURRENT_DEBT_TO_CREDIT_RATIO_MEAN': [var_imp['BUREAU_CURRENT_DEBT_TO_CREDIT_RATIO_MEAN']],\n",
    "                                           'CAR_EMPLOYED_RATIO': [var_imp['CAR_EMPLOYED_RATIO']],\n",
    "                                           'CODE_GENDER': [var_imp['CODE_GENDER']],\n",
    "                                           'CREDIT_ANNUITY_RATIO': [var_imp['CREDIT_ANNUITY_RATIO']],\n",
    "                                           'CREDIT_GOODS_RATIO': [var_imp['CREDIT_GOODS_RATIO']],\n",
    "                                           'DAYS_BIRTH': [var_imp['DAYS_BIRTH']],\n",
    "                                           'DAYS_ID_PUBLISH': [var_imp['DAYS_ID_PUBLISH']],\n",
    "                                           'EXT_SOURCE_1': [var_imp['EXT_SOURCE_1']],\n",
    "                                           'EXT_SOURCE_2': [var_imp['EXT_SOURCE_2']],\n",
    "                                           'EXT_SOURCE_3': [var_imp['EXT_SOURCE_3']],\n",
    "                                           'EXT_SOURCE_MAX': [var_imp['EXT_SOURCE_MAX']],\n",
    "                                           'EXT_SOURCE_SUM': [var_imp['EXT_SOURCE_SUM']],\n",
    "                                           'FLAG_OWN_CAR': [var_imp['FLAG_OWN_CAR']],\n",
    "                                           'INST_PAY_AMT_INSTALMENT_SUM': [var_imp['INST_PAY_AMT_INSTALMENT_SUM']],\n",
    "                                           'INST_PAY_DAYS_PAYMENT_RATIO_MAX': [var_imp['INST_PAY_DAYS_PAYMENT_RATIO_MAX']],\n",
    "                                           'NAME_EDUCATION_TYPE_HIGHER_EDUCATION': [var_imp['NAME_EDUCATION_TYPE_HIGHER_EDUCATION']],\n",
    "                                           'NAME_FAMILY_STATUS_MARRIED ': [var_imp['NAME_FAMILY_STATUS_MARRIED']],\n",
    "                                           'POS_CASH_NAME_CONTRACT_STATUS_ACTIVE_SUM': [var_imp['POS_CASH_NAME_CONTRACT_STATUS_ACTIVE_SUM']],\n",
    "                                           'PREV_APP_INTEREST_SHARE_MAX': [var_imp['PREV_APP_INTEREST_SHARE_MAX']],\n",
    "                                           'AMT_INCOME_TOTAL': [info['AMT_INCOME_TOTAL']],\n",
    "                                           'AMT_CREDIT': [info['AMT_CREDIT']],\n",
    "                                           'NAME_FAMILY_STATUS': [info['NAME_FAMILY_STATUS']],\n",
    "                                           'DAYS_EMPLOYED': [info['DAYS_EMPLOYED']],\n",
    "                                           'AMT_GOODS_PRICE': [info['AMT_GOODS_PRICE']],\n",
    "                                           'CNT_CHILDREN': [info['CNT_CHILDREN']],\n",
    "                                           'NAME_CONTRACT_TYPE': [info['NAME_CONTRACT_TYPE']],\n",
    "                                           'NAME_EDUCATION_TYPE': [info['NAME_EDUCATION_TYPE']],\n",
    "                                           'NAME_HOUSING_TYPE': [info['NAME_HOUSING_TYPE']],\n",
    "                                           'NAME_INCOME_TYPE': [info['NAME_INCOME_TYPE']]\n",
    "                                           }), ignore_index=True)         \n",
    "df_voisin_train.head()"
   ]
  },
  {
   "cell_type": "code",
   "execution_count": null,
   "id": "346e0665",
   "metadata": {},
   "outputs": [],
   "source": [
    "# Sauvegarde de df_voisin_train\n",
    "with open(fic_sav_df_voisin_train, 'wb') as f:\n",
    "    pickle.dump(df_voisin_train, f, pickle.HIGHEST_PROTOCOL)"
   ]
  },
  {
   "cell_type": "code",
   "execution_count": null,
   "id": "2ee84040",
   "metadata": {},
   "outputs": [],
   "source": [
    "# ID_CLIENT entre 150000 et 200000 :  clients\n",
    "mask = df_index_voisins['ID_CLIENT'] >= 350000\n",
    "mask2 = df_index_voisins['ID_CLIENT'] < 400000 \n",
    "df6 = df_index_voisins[mask & mask2]\n",
    "df6.shape"
   ]
  },
  {
   "cell_type": "code",
   "execution_count": null,
   "id": "0140379a",
   "metadata": {},
   "outputs": [],
   "source": [
    "for id_cli, row in zip(df6['ID_CLIENT'],\n",
    "                       df6['INDEX_10_VOISINS']):\n",
    "     for index in row:\n",
    "            var_imp = train_set.iloc[index]\n",
    "            info = application_train.iloc[index]\n",
    "            df_voisin_train = df_voisin_train.append(pd.DataFrame({\n",
    "                                           'ID_CLIENT': [id_cli],\n",
    "                                           'INDEX_VOISIN': [index],\n",
    "                                           'AMT_ANNUITY': [var_imp['AMT_ANNUITY']],\n",
    "                                           'BUREAU_CURRENT_CREDIT_DEBT_DIFF_MIN': [var_imp['BUREAU_CURRENT_CREDIT_DEBT_DIFF_MIN']],\n",
    "                                           'BUREAU_CURRENT_CREDIT_DEBT_DIFF_MEAN': [var_imp['BUREAU_CURRENT_CREDIT_DEBT_DIFF_MEAN']],\n",
    "                                           'BUREAU_CURRENT_DEBT_TO_CREDIT_RATIO_MEAN': [var_imp['BUREAU_CURRENT_DEBT_TO_CREDIT_RATIO_MEAN']],\n",
    "                                           'CAR_EMPLOYED_RATIO': [var_imp['CAR_EMPLOYED_RATIO']],\n",
    "                                           'CODE_GENDER': [var_imp['CODE_GENDER']],\n",
    "                                           'CREDIT_ANNUITY_RATIO': [var_imp['CREDIT_ANNUITY_RATIO']],\n",
    "                                           'CREDIT_GOODS_RATIO': [var_imp['CREDIT_GOODS_RATIO']],\n",
    "                                           'DAYS_BIRTH': [var_imp['DAYS_BIRTH']],\n",
    "                                           'DAYS_ID_PUBLISH': [var_imp['DAYS_ID_PUBLISH']],\n",
    "                                           'EXT_SOURCE_1': [var_imp['EXT_SOURCE_1']],\n",
    "                                           'EXT_SOURCE_2': [var_imp['EXT_SOURCE_2']],\n",
    "                                           'EXT_SOURCE_3': [var_imp['EXT_SOURCE_3']],\n",
    "                                           'EXT_SOURCE_MAX': [var_imp['EXT_SOURCE_MAX']],\n",
    "                                           'EXT_SOURCE_SUM': [var_imp['EXT_SOURCE_SUM']],\n",
    "                                           'FLAG_OWN_CAR': [var_imp['FLAG_OWN_CAR']],\n",
    "                                           'INST_PAY_AMT_INSTALMENT_SUM': [var_imp['INST_PAY_AMT_INSTALMENT_SUM']],\n",
    "                                           'INST_PAY_DAYS_PAYMENT_RATIO_MAX': [var_imp['INST_PAY_DAYS_PAYMENT_RATIO_MAX']],\n",
    "                                           'NAME_EDUCATION_TYPE_HIGHER_EDUCATION': [var_imp['NAME_EDUCATION_TYPE_HIGHER_EDUCATION']],\n",
    "                                           'NAME_FAMILY_STATUS_MARRIED ': [var_imp['NAME_FAMILY_STATUS_MARRIED']],\n",
    "                                           'POS_CASH_NAME_CONTRACT_STATUS_ACTIVE_SUM': [var_imp['POS_CASH_NAME_CONTRACT_STATUS_ACTIVE_SUM']],\n",
    "                                           'PREV_APP_INTEREST_SHARE_MAX': [var_imp['PREV_APP_INTEREST_SHARE_MAX']],\n",
    "                                           'AMT_INCOME_TOTAL': [info['AMT_INCOME_TOTAL']],\n",
    "                                           'AMT_CREDIT': [info['AMT_CREDIT']],\n",
    "                                           'NAME_FAMILY_STATUS': [info['NAME_FAMILY_STATUS']],\n",
    "                                           'DAYS_EMPLOYED': [info['DAYS_EMPLOYED']],\n",
    "                                           'AMT_GOODS_PRICE': [info['AMT_GOODS_PRICE']],\n",
    "                                           'CNT_CHILDREN': [info['CNT_CHILDREN']],\n",
    "                                           'NAME_CONTRACT_TYPE': [info['NAME_CONTRACT_TYPE']],\n",
    "                                           'NAME_EDUCATION_TYPE': [info['NAME_EDUCATION_TYPE']],\n",
    "                                           'NAME_HOUSING_TYPE': [info['NAME_HOUSING_TYPE']],\n",
    "                                           'NAME_INCOME_TYPE': [info['NAME_INCOME_TYPE']]\n",
    "                                           }), ignore_index=True)         \n",
    "df_voisin_train.head()"
   ]
  },
  {
   "cell_type": "code",
   "execution_count": null,
   "id": "5f8d0de2",
   "metadata": {},
   "outputs": [],
   "source": [
    "# Sauvegarde de df_voisin_train\n",
    "with open(fic_sav_df_voisin_train, 'wb') as f:\n",
    "    pickle.dump(df_voisin_train, f, pickle.HIGHEST_PROTOCOL)"
   ]
  },
  {
   "cell_type": "code",
   "execution_count": null,
   "id": "add97916",
   "metadata": {},
   "outputs": [],
   "source": [
    "# ID_CLIENT entre 150000 et 200000 :  clients\n",
    "mask = df_index_voisins['ID_CLIENT'] >= 400000\n",
    "mask2 = df_index_voisins['ID_CLIENT'] < 450000 \n",
    "df7 = df_index_voisins[mask & mask2]\n",
    "df7.shape"
   ]
  },
  {
   "cell_type": "code",
   "execution_count": null,
   "id": "27df0e05",
   "metadata": {},
   "outputs": [],
   "source": [
    "for id_cli, row in zip(df7['ID_CLIENT'],\n",
    "                       df7['INDEX_10_VOISINS']):\n",
    "     for index in row:\n",
    "            var_imp = train_set.iloc[index]\n",
    "            info = application_train.iloc[index]\n",
    "            df_voisin_train = df_voisin_train.append(pd.DataFrame({\n",
    "                                           'ID_CLIENT': [id_cli],\n",
    "                                           'INDEX_VOISIN': [index],\n",
    "                                           'AMT_ANNUITY': [var_imp['AMT_ANNUITY']],\n",
    "                                           'BUREAU_CURRENT_CREDIT_DEBT_DIFF_MIN': [var_imp['BUREAU_CURRENT_CREDIT_DEBT_DIFF_MIN']],\n",
    "                                           'BUREAU_CURRENT_CREDIT_DEBT_DIFF_MEAN': [var_imp['BUREAU_CURRENT_CREDIT_DEBT_DIFF_MEAN']],\n",
    "                                           'BUREAU_CURRENT_DEBT_TO_CREDIT_RATIO_MEAN': [var_imp['BUREAU_CURRENT_DEBT_TO_CREDIT_RATIO_MEAN']],\n",
    "                                           'CAR_EMPLOYED_RATIO': [var_imp['CAR_EMPLOYED_RATIO']],\n",
    "                                           'CODE_GENDER': [var_imp['CODE_GENDER']],\n",
    "                                           'CREDIT_ANNUITY_RATIO': [var_imp['CREDIT_ANNUITY_RATIO']],\n",
    "                                           'CREDIT_GOODS_RATIO': [var_imp['CREDIT_GOODS_RATIO']],\n",
    "                                           'DAYS_BIRTH': [var_imp['DAYS_BIRTH']],\n",
    "                                           'DAYS_ID_PUBLISH': [var_imp['DAYS_ID_PUBLISH']],\n",
    "                                           'EXT_SOURCE_1': [var_imp['EXT_SOURCE_1']],\n",
    "                                           'EXT_SOURCE_2': [var_imp['EXT_SOURCE_2']],\n",
    "                                           'EXT_SOURCE_3': [var_imp['EXT_SOURCE_3']],\n",
    "                                           'EXT_SOURCE_MAX': [var_imp['EXT_SOURCE_MAX']],\n",
    "                                           'EXT_SOURCE_SUM': [var_imp['EXT_SOURCE_SUM']],\n",
    "                                           'FLAG_OWN_CAR': [var_imp['FLAG_OWN_CAR']],\n",
    "                                           'INST_PAY_AMT_INSTALMENT_SUM': [var_imp['INST_PAY_AMT_INSTALMENT_SUM']],\n",
    "                                           'INST_PAY_DAYS_PAYMENT_RATIO_MAX': [var_imp['INST_PAY_DAYS_PAYMENT_RATIO_MAX']],\n",
    "                                           'NAME_EDUCATION_TYPE_HIGHER_EDUCATION': [var_imp['NAME_EDUCATION_TYPE_HIGHER_EDUCATION']],\n",
    "                                           'NAME_FAMILY_STATUS_MARRIED ': [var_imp['NAME_FAMILY_STATUS_MARRIED']],\n",
    "                                           'POS_CASH_NAME_CONTRACT_STATUS_ACTIVE_SUM': [var_imp['POS_CASH_NAME_CONTRACT_STATUS_ACTIVE_SUM']],\n",
    "                                           'PREV_APP_INTEREST_SHARE_MAX': [var_imp['PREV_APP_INTEREST_SHARE_MAX']],\n",
    "                                           'AMT_INCOME_TOTAL': [info['AMT_INCOME_TOTAL']],\n",
    "                                           'AMT_CREDIT': [info['AMT_CREDIT']],\n",
    "                                           'NAME_FAMILY_STATUS': [info['NAME_FAMILY_STATUS']],\n",
    "                                           'DAYS_EMPLOYED': [info['DAYS_EMPLOYED']],\n",
    "                                           'AMT_GOODS_PRICE': [info['AMT_GOODS_PRICE']],\n",
    "                                           'CNT_CHILDREN': [info['CNT_CHILDREN']],\n",
    "                                           'NAME_CONTRACT_TYPE': [info['NAME_CONTRACT_TYPE']],\n",
    "                                           'NAME_EDUCATION_TYPE': [info['NAME_EDUCATION_TYPE']],\n",
    "                                           'NAME_HOUSING_TYPE': [info['NAME_HOUSING_TYPE']],\n",
    "                                           'NAME_INCOME_TYPE': [info['NAME_INCOME_TYPE']]\n",
    "                                           }), ignore_index=True)         \n",
    "df_voisin_train.head()"
   ]
  },
  {
   "cell_type": "code",
   "execution_count": null,
   "id": "6858b6af",
   "metadata": {},
   "outputs": [],
   "source": [
    "# Sauvegarde de df_voisin_train\n",
    "with open(fic_sav_df_voisin_train, 'wb') as f:\n",
    "    pickle.dump(df_voisin_train, f, pickle.HIGHEST_PROTOCOL)"
   ]
  },
  {
   "cell_type": "code",
   "execution_count": null,
   "id": "a7b9c2c7",
   "metadata": {},
   "outputs": [],
   "source": [
    "# ID_CLIENT entre 150000 et 200000 :  clients\n",
    "mask = df_index_voisins['ID_CLIENT'] >= 450000\n",
    "mask2 = df_index_voisins['ID_CLIENT'] < 500000 \n",
    "df8 = df_index_voisins[mask & mask2]\n",
    "df8.shape"
   ]
  },
  {
   "cell_type": "code",
   "execution_count": null,
   "id": "186e3d59",
   "metadata": {},
   "outputs": [],
   "source": [
    "for id_cli, row in zip(df8['ID_CLIENT'],\n",
    "                       df8['INDEX_10_VOISINS']):\n",
    "     for index in row:\n",
    "            var_imp = train_set.iloc[index]\n",
    "            info = application_train.iloc[index]\n",
    "            df_voisin_train = df_voisin_train.append(pd.DataFrame({\n",
    "                                           'ID_CLIENT': [id_cli],\n",
    "                                           'INDEX_VOISIN': [index],\n",
    "                                           'AMT_ANNUITY': [var_imp['AMT_ANNUITY']],\n",
    "                                           'BUREAU_CURRENT_CREDIT_DEBT_DIFF_MIN': [var_imp['BUREAU_CURRENT_CREDIT_DEBT_DIFF_MIN']],\n",
    "                                           'BUREAU_CURRENT_CREDIT_DEBT_DIFF_MEAN': [var_imp['BUREAU_CURRENT_CREDIT_DEBT_DIFF_MEAN']],\n",
    "                                           'BUREAU_CURRENT_DEBT_TO_CREDIT_RATIO_MEAN': [var_imp['BUREAU_CURRENT_DEBT_TO_CREDIT_RATIO_MEAN']],\n",
    "                                           'CAR_EMPLOYED_RATIO': [var_imp['CAR_EMPLOYED_RATIO']],\n",
    "                                           'CODE_GENDER': [var_imp['CODE_GENDER']],\n",
    "                                           'CREDIT_ANNUITY_RATIO': [var_imp['CREDIT_ANNUITY_RATIO']],\n",
    "                                           'CREDIT_GOODS_RATIO': [var_imp['CREDIT_GOODS_RATIO']],\n",
    "                                           'DAYS_BIRTH': [var_imp['DAYS_BIRTH']],\n",
    "                                           'DAYS_ID_PUBLISH': [var_imp['DAYS_ID_PUBLISH']],\n",
    "                                           'EXT_SOURCE_1': [var_imp['EXT_SOURCE_1']],\n",
    "                                           'EXT_SOURCE_2': [var_imp['EXT_SOURCE_2']],\n",
    "                                           'EXT_SOURCE_3': [var_imp['EXT_SOURCE_3']],\n",
    "                                           'EXT_SOURCE_MAX': [var_imp['EXT_SOURCE_MAX']],\n",
    "                                           'EXT_SOURCE_SUM': [var_imp['EXT_SOURCE_SUM']],\n",
    "                                           'FLAG_OWN_CAR': [var_imp['FLAG_OWN_CAR']],\n",
    "                                           'INST_PAY_AMT_INSTALMENT_SUM': [var_imp['INST_PAY_AMT_INSTALMENT_SUM']],\n",
    "                                           'INST_PAY_DAYS_PAYMENT_RATIO_MAX': [var_imp['INST_PAY_DAYS_PAYMENT_RATIO_MAX']],\n",
    "                                           'NAME_EDUCATION_TYPE_HIGHER_EDUCATION': [var_imp['NAME_EDUCATION_TYPE_HIGHER_EDUCATION']],\n",
    "                                           'NAME_FAMILY_STATUS_MARRIED ': [var_imp['NAME_FAMILY_STATUS_MARRIED']],\n",
    "                                           'POS_CASH_NAME_CONTRACT_STATUS_ACTIVE_SUM': [var_imp['POS_CASH_NAME_CONTRACT_STATUS_ACTIVE_SUM']],\n",
    "                                           'PREV_APP_INTEREST_SHARE_MAX': [var_imp['PREV_APP_INTEREST_SHARE_MAX']],\n",
    "                                           'AMT_INCOME_TOTAL': [info['AMT_INCOME_TOTAL']],\n",
    "                                           'AMT_CREDIT': [info['AMT_CREDIT']],\n",
    "                                           'NAME_FAMILY_STATUS': [info['NAME_FAMILY_STATUS']],\n",
    "                                           'DAYS_EMPLOYED': [info['DAYS_EMPLOYED']],\n",
    "                                           'AMT_GOODS_PRICE': [info['AMT_GOODS_PRICE']],\n",
    "                                           'CNT_CHILDREN': [info['CNT_CHILDREN']],\n",
    "                                           'NAME_CONTRACT_TYPE': [info['NAME_CONTRACT_TYPE']],\n",
    "                                           'NAME_EDUCATION_TYPE': [info['NAME_EDUCATION_TYPE']],\n",
    "                                           'NAME_HOUSING_TYPE': [info['NAME_HOUSING_TYPE']],\n",
    "                                           'NAME_INCOME_TYPE': [info['NAME_INCOME_TYPE']]\n",
    "                                           }), ignore_index=True)         \n",
    "df_voisin_train.head()"
   ]
  },
  {
   "cell_type": "code",
   "execution_count": null,
   "id": "bdccb1fd",
   "metadata": {},
   "outputs": [],
   "source": [
    "# Sauvegarde de df_voisin_train\n",
    "with open(fic_sav_df_voisin_train, 'wb') as f:\n",
    "    pickle.dump(df_voisin_train, f, pickle.HIGHEST_PROTOCOL)"
   ]
  },
  {
   "cell_type": "code",
   "execution_count": null,
   "id": "3dcb1283",
   "metadata": {},
   "outputs": [],
   "source": [
    "def bip1():\n",
    "    import winsound\n",
    "    frequency = 2500  # max 2500 Hertz\n",
    "    duration = 2000  # max 1000 ms\n",
    "    winsound.Beep(frequency, duration)"
   ]
  },
  {
   "cell_type": "code",
   "execution_count": 212,
   "id": "8739db31",
   "metadata": {},
   "outputs": [],
   "source": [
    "bip1()"
   ]
  },
  {
   "cell_type": "code",
   "execution_count": 154,
   "id": "7cefb640",
   "metadata": {},
   "outputs": [],
   "source": [
    "# Ajout YEAR_BIRTH : DAYS_BIRTH en années positives\n",
    "df_voisin_train['YEAR_BIRTH'] = \\\n",
    "    np.trunc(np.abs(df_voisin_train['DAYS_BIRTH'] / 365)).astype('int8')"
   ]
  },
  {
   "cell_type": "code",
   "execution_count": 155,
   "id": "b5e48a38",
   "metadata": {},
   "outputs": [],
   "source": [
    "# Ajout YEAR_EMPLOYED : DAYS_EMPLOYED en années positives\n",
    "df_voisin_train['YEAR_EMPLOYED'] = \\\n",
    "    np.trunc(np.abs(df_voisin_train['DAYS_EMPLOYED'] / 365)).astype('int8')"
   ]
  },
  {
   "cell_type": "code",
   "execution_count": 156,
   "id": "2f228deb",
   "metadata": {},
   "outputs": [],
   "source": [
    "# Ajout SEXE : de CODE_GENDER : 0 = Féminin et 1 = Masculin\n",
    "df_voisin_train['SEXE'] = ['Féminin' if row == 0 else 'Masculin'\n",
    "                           for row in df_voisin_train['CODE_GENDER']] "
   ]
  },
  {
   "cell_type": "markdown",
   "id": "408a0d82",
   "metadata": {},
   "source": [
    "**Réduction de la taille des variables pour optimisation mémoire**"
   ]
  },
  {
   "cell_type": "code",
   "execution_count": 157,
   "id": "68702585",
   "metadata": {
    "scrolled": true
   },
   "outputs": [
    {
     "name": "stdout",
     "output_type": "stream",
     "text": [
      "-------------------------------------------------------------------------------\n",
      "Memory usage du dataframe: 0.01 MB\n",
      "Memory usage après optimization: 0.00 MB\n",
      "Diminution de 54.8%\n",
      "-------------------------------------------------------------------------------\n"
     ]
    }
   ],
   "source": [
    "df_voisin_train =outils_preprocessing.reduce_mem_usage(df_voisin_train)"
   ]
  },
  {
   "cell_type": "markdown",
   "id": "fcc7b4a5",
   "metadata": {},
   "source": [
    "**Sauvegarde du dataframe des voisins dans le train set**"
   ]
  },
  {
   "cell_type": "code",
   "execution_count": 158,
   "id": "6794f4f4",
   "metadata": {},
   "outputs": [],
   "source": [
    "# Sauvegarde des scores des best models du train_set\n",
    "fic_sav_df_voisins_train = \\\n",
    "    '../sauvegarde/dashboard/df_voisin_train.pickle'\n",
    "with open(fic_sav_df_voisins_train, 'wb') as f:\n",
    "    pickle.dump(df_voins_train, f, pickle.HIGHEST_PROTOCOL)"
   ]
  },
  {
   "cell_type": "markdown",
   "id": "73831d3f",
   "metadata": {},
   "source": [
    "<span style='background:Lightgreen'>**10 voisins les plus proches du test_set**</span>"
   ]
  },
  {
   "cell_type": "markdown",
   "id": "6fccc405",
   "metadata": {},
   "source": [
    "- Récupération des 10 plus proches voisins de notre client pour calculer leur score moyen qui alimentera le delta de la jauge et permettra de comparer le score de notre client au score moyen prédits ainsi que le nombre de défaillants prédits pour ces 10 clients voisins."
   ]
  },
  {
   "cell_type": "code",
   "execution_count": 28,
   "id": "d2c13a5d",
   "metadata": {},
   "outputs": [],
   "source": [
    "# Instanciation du modèle\n",
    "knn_test = KNeighborsClassifier(10, n_jobs = -1)"
   ]
  },
  {
   "cell_type": "code",
   "execution_count": 29,
   "id": "7322c8c9",
   "metadata": {},
   "outputs": [
    {
     "data": {
      "text/plain": [
       "KNeighborsClassifier(n_jobs=-1, n_neighbors=10)"
      ]
     },
     "execution_count": 29,
     "metadata": {},
     "output_type": "execute_result"
    }
   ],
   "source": [
    "# Entraînement du modèle\n",
    "knn_test.fit(X_test_std, y_test)"
   ]
  },
  {
   "cell_type": "code",
   "execution_count": 60,
   "id": "2c0dba23",
   "metadata": {},
   "outputs": [],
   "source": [
    "# Sauvegarde du modèle entraîné\n",
    "fic_knn_test ='../sauvegarde/dashboard/knn_10_voisins_test.pickle'\n",
    "with open(fic_knn_test, 'wb') as f:\n",
    "    pickle.dump(knn_test, f, pickle.HIGHEST_PROTOCOL)"
   ]
  },
  {
   "cell_type": "code",
   "execution_count": 31,
   "id": "66e26df5",
   "metadata": {},
   "outputs": [],
   "source": [
    "# Récupération des index des 10 voisins similaire\n",
    "liste_index_10_voisins_test = knn_test.kneighbors(X_test_std)[1]"
   ]
  },
  {
   "cell_type": "code",
   "execution_count": 34,
   "id": "987a154d",
   "metadata": {},
   "outputs": [],
   "source": [
    "# Index des 10 clients voisins\n",
    "df_dashboard['INDEX_10_VOISINS_MEAN_TEST'] = \\\n",
    "    [index for index in liste_index_10_voisins_test]"
   ]
  },
  {
   "cell_type": "code",
   "execution_count": 35,
   "id": "2b7311c2",
   "metadata": {},
   "outputs": [],
   "source": [
    "# Index des 10 clients voisins\n",
    "df_dashboard['SCORE_10_VOISINS_MEAN_TEST'] = \\\n",
    "    [df_dashboard['SCORE_CLIENT'].iloc[index].mean()\n",
    "     for index in liste_index_10_voisins_test]"
   ]
  },
  {
   "cell_type": "code",
   "execution_count": 36,
   "id": "aa49c7c0",
   "metadata": {},
   "outputs": [],
   "source": [
    "# Nombre de clients défaillants parmi les 10 voisins\n",
    "df_dashboard['NB_10_VOISINS_DEFAILLANT_TEST'] = \\\n",
    "    [Counter(df_dashboard['PRED_CLASSE_CLIENT'].iloc[index])[1]\n",
    "     for index in liste_index_10_voisins_test]"
   ]
  },
  {
   "cell_type": "code",
   "execution_count": 37,
   "id": "9ed58894",
   "metadata": {},
   "outputs": [],
   "source": [
    "# Pourcentage de clients défaillants parmi les 10 voisins\n",
    "df_dashboard['%_NB_10_VOISINS_DEFAILLANT_TEST'] = \\\n",
    "    [(row / 10) * 100\n",
    "     for row in df_dashboard['NB_10_VOISINS_DEFAILLANT_TEST']]"
   ]
  },
  {
   "cell_type": "code",
   "execution_count": 38,
   "id": "5431b7b2",
   "metadata": {
    "run_control": {
     "marked": false
    }
   },
   "outputs": [
    {
     "data": {
      "text/html": [
       "<div>\n",
       "<style scoped>\n",
       "    .dataframe tbody tr th:only-of-type {\n",
       "        vertical-align: middle;\n",
       "    }\n",
       "\n",
       "    .dataframe tbody tr th {\n",
       "        vertical-align: top;\n",
       "    }\n",
       "\n",
       "    .dataframe thead th {\n",
       "        text-align: right;\n",
       "    }\n",
       "</style>\n",
       "<table border=\"1\" class=\"dataframe\">\n",
       "  <thead>\n",
       "    <tr style=\"text-align: right;\">\n",
       "      <th></th>\n",
       "      <th>SCORE_CLIENT</th>\n",
       "      <th>PRED_CLASSE_CLIENT</th>\n",
       "      <th>%_NB_10_VOISINS_DEFAILLANT_TEST</th>\n",
       "    </tr>\n",
       "  </thead>\n",
       "  <tbody>\n",
       "    <tr>\n",
       "      <th>0</th>\n",
       "      <td>0.3229</td>\n",
       "      <td>0</td>\n",
       "      <td>0.0</td>\n",
       "    </tr>\n",
       "    <tr>\n",
       "      <th>1</th>\n",
       "      <td>0.7506</td>\n",
       "      <td>1</td>\n",
       "      <td>90.0</td>\n",
       "    </tr>\n",
       "    <tr>\n",
       "      <th>2</th>\n",
       "      <td>0.2673</td>\n",
       "      <td>0</td>\n",
       "      <td>0.0</td>\n",
       "    </tr>\n",
       "    <tr>\n",
       "      <th>3</th>\n",
       "      <td>0.1873</td>\n",
       "      <td>0</td>\n",
       "      <td>0.0</td>\n",
       "    </tr>\n",
       "    <tr>\n",
       "      <th>4</th>\n",
       "      <td>0.6179</td>\n",
       "      <td>1</td>\n",
       "      <td>80.0</td>\n",
       "    </tr>\n",
       "    <tr>\n",
       "      <th>5</th>\n",
       "      <td>0.3146</td>\n",
       "      <td>0</td>\n",
       "      <td>0.0</td>\n",
       "    </tr>\n",
       "    <tr>\n",
       "      <th>6</th>\n",
       "      <td>0.0982</td>\n",
       "      <td>0</td>\n",
       "      <td>0.0</td>\n",
       "    </tr>\n",
       "    <tr>\n",
       "      <th>7</th>\n",
       "      <td>0.2937</td>\n",
       "      <td>0</td>\n",
       "      <td>30.0</td>\n",
       "    </tr>\n",
       "    <tr>\n",
       "      <th>8</th>\n",
       "      <td>0.1236</td>\n",
       "      <td>0</td>\n",
       "      <td>0.0</td>\n",
       "    </tr>\n",
       "    <tr>\n",
       "      <th>9</th>\n",
       "      <td>0.5236</td>\n",
       "      <td>1</td>\n",
       "      <td>60.0</td>\n",
       "    </tr>\n",
       "  </tbody>\n",
       "</table>\n",
       "</div>"
      ],
      "text/plain": [
       "   SCORE_CLIENT  PRED_CLASSE_CLIENT  %_NB_10_VOISINS_DEFAILLANT_TEST\n",
       "0        0.3229                   0                              0.0\n",
       "1        0.7506                   1                             90.0\n",
       "2        0.2673                   0                              0.0\n",
       "3        0.1873                   0                              0.0\n",
       "4        0.6179                   1                             80.0\n",
       "5        0.3146                   0                              0.0\n",
       "6        0.0982                   0                              0.0\n",
       "7        0.2937                   0                             30.0\n",
       "8        0.1236                   0                              0.0\n",
       "9        0.5236                   1                             60.0"
      ]
     },
     "execution_count": 38,
     "metadata": {},
     "output_type": "execute_result"
    }
   ],
   "source": [
    "df_dashboard[['SCORE_CLIENT', 'PRED_CLASSE_CLIENT', \n",
    "              '%_NB_10_VOISINS_DEFAILLANT_TEST']].head(10)"
   ]
  },
  {
   "cell_type": "markdown",
   "id": "fee0ba8a",
   "metadata": {},
   "source": [
    "## <span style='background:Thistle'>5. Préparation des graphiques</span>"
   ]
  },
  {
   "cell_type": "markdown",
   "id": "0edc5ece",
   "metadata": {},
   "source": [
    "### <span style='background:PowderBlue'>5.1. Informations générales</span>"
   ]
  },
  {
   "cell_type": "markdown",
   "id": "bd8abe35",
   "metadata": {},
   "source": [
    "<span style='background:Moccasin'>**Client courant**</span>"
   ]
  },
  {
   "cell_type": "markdown",
   "id": "1cbddf9d",
   "metadata": {},
   "source": [
    "Les données informatives à afficher une fois le client sélectionner :\n",
    "\n",
    "- sur les traits stricts du client :\n",
    "\n",
    "| Variable | Description |\n",
    "| --- | --- |\n",
    "| <p style='text-align: justify;'>**YEAR_BIRTH**</p> | <p style='text-align: justify;'>Âge</p> |\n",
    "| <p style='text-align: justify;'>**SEXE**</p> | <p style='text-align: justify;'>Sexe</p> |\n",
    "| <p style='text-align: justify;'>**NAME_FAMILY_STATUS**</p> | <p style='text-align: justify;'>Statut familial</p> |\n",
    "| <p style='text-align: justify;'>**CNT_CHILDREN**</p> | <p style='text-align: justify;'>Nombre d'enfants</p> |\n",
    "| <p style='text-align: justify;'>**NAME_EDUCATION_TYPE**</p> | <p style='text-align: justify;'>Niveau d'éducation</p> |\n",
    "| <p style='text-align: justify;'>**NAME_INCOME_TYPE**</p> | <p style='text-align: justify;'>Type de revenu</p> |\n",
    "| <p style='text-align: justify;'>**YEAR_EMPLOYED**</p> | <p style='text-align: justify;'>Ancienneté dans l'emploi</p> |\n",
    "| <p style='text-align: justify;'>**AMT_INCOME_TOTAL**</p> | <p style='text-align: justify;'>Total des revenus</p> |\n",
    "\n",
    "- sur le prêt :\n",
    "\n",
    "| Variable | Description |\n",
    "| --- | --- |\n",
    "| <p style='text-align: justify;'>**NAME_CONTRACT_TYPE**</p> | <p style='text-align: justify;'>Type de prêt</p> |\n",
    "| <p style='text-align: justify;'>**AMT_CREDIT**</p> | <p style='text-align: justify;'>Montant du crédit</p> |\n",
    "| <p style='text-align: justify;'>**AMT_ANNUITY**</p> | <p style='text-align: justify;'>Annuités</p> |\n",
    "| <p style='text-align: justify;'>**AMT_GOODS_PRICE**</p> | <p style='text-align: justify;'>Montant du bien pour le crédit</p> |\n",
    "| <p style='text-align: justify;'>**NAME_HOUSING_TYPE**</p> | <p style='text-align: justify;'>Type de logement</p> |"
   ]
  },
  {
   "cell_type": "markdown",
   "id": "cceb5bc3",
   "metadata": {},
   "source": [
    "**Traits stricts du client**"
   ]
  },
  {
   "cell_type": "code",
   "execution_count": 79,
   "id": "c566e80f",
   "metadata": {},
   "outputs": [],
   "source": [
    "# Traits stricts du client\n",
    "df_info_client = df_dashboard[['YEAR_BIRTH', 'SEXE', 'NAME_FAMILY_STATUS',\n",
    "                               'CNT_CHILDREN', 'NAME_EDUCATION_TYPE',\n",
    "                               'NAME_INCOME_TYPE', 'YEAR_EMPLOYED',\n",
    "                               'AMT_INCOME_TOTAL']]"
   ]
  },
  {
   "cell_type": "code",
   "execution_count": 91,
   "id": "d78d1412",
   "metadata": {},
   "outputs": [
    {
     "data": {
      "text/html": [
       "<div>\n",
       "<style scoped>\n",
       "    .dataframe tbody tr th:only-of-type {\n",
       "        vertical-align: middle;\n",
       "    }\n",
       "\n",
       "    .dataframe tbody tr th {\n",
       "        vertical-align: top;\n",
       "    }\n",
       "\n",
       "    .dataframe thead th {\n",
       "        text-align: right;\n",
       "    }\n",
       "</style>\n",
       "<table border=\"1\" class=\"dataframe\">\n",
       "  <thead>\n",
       "    <tr style=\"text-align: right;\">\n",
       "      <th></th>\n",
       "      <th>Âge (ans)</th>\n",
       "      <th>Sexe</th>\n",
       "      <th>Statut familial</th>\n",
       "      <th>Nbre enfants</th>\n",
       "      <th>Niveau éducation</th>\n",
       "      <th>Type revenu</th>\n",
       "      <th>Ancienneté emploi</th>\n",
       "      <th>Revenus ($)</th>\n",
       "    </tr>\n",
       "  </thead>\n",
       "  <tbody>\n",
       "    <tr>\n",
       "      <th>0</th>\n",
       "      <td>52</td>\n",
       "      <td>Féminin</td>\n",
       "      <td>Married</td>\n",
       "      <td>0</td>\n",
       "      <td>Higher education</td>\n",
       "      <td>Working</td>\n",
       "      <td>6</td>\n",
       "      <td>135000.0</td>\n",
       "    </tr>\n",
       "    <tr>\n",
       "      <th>1</th>\n",
       "      <td>49</td>\n",
       "      <td>Masculin</td>\n",
       "      <td>Married</td>\n",
       "      <td>0</td>\n",
       "      <td>Secondary / secondary special</td>\n",
       "      <td>Working</td>\n",
       "      <td>12</td>\n",
       "      <td>99000.0</td>\n",
       "    </tr>\n",
       "    <tr>\n",
       "      <th>2</th>\n",
       "      <td>54</td>\n",
       "      <td>Masculin</td>\n",
       "      <td>Married</td>\n",
       "      <td>0</td>\n",
       "      <td>Higher education</td>\n",
       "      <td>Working</td>\n",
       "      <td>12</td>\n",
       "      <td>202500.0</td>\n",
       "    </tr>\n",
       "  </tbody>\n",
       "</table>\n",
       "</div>"
      ],
      "text/plain": [
       "   Âge (ans)      Sexe Statut familial  Nbre enfants               Niveau éducation Type revenu  Ancienneté emploi  Revenus ($)\n",
       "0         52   Féminin         Married             0               Higher education     Working                  6     135000.0\n",
       "1         49  Masculin         Married             0  Secondary / secondary special     Working                 12      99000.0\n",
       "2         54  Masculin         Married             0               Higher education     Working                 12     202500.0"
      ]
     },
     "execution_count": 91,
     "metadata": {},
     "output_type": "execute_result"
    }
   ],
   "source": [
    "df_info_client = df_info_client.rename(columns = {\n",
    "     'YEAR_BIRTH' : 'Âge (ans)',\n",
    "     'SEXE' : 'Sexe',\n",
    "     'NAME_FAMILY_STATUS' : 'Statut familial',\n",
    "     'CNT_CHILDREN' : 'Nbre enfants',\n",
    "     'NAME_EDUCATION_TYPE' : 'Niveau éducation',\n",
    "     'NAME_INCOME_TYPE' : 'Type revenu',\n",
    "     'YEAR_EMPLOYED' : 'Ancienneté emploi',\n",
    "     'AMT_INCOME_TOTAL' : 'Revenus ($)'})\n",
    "df_info_client.head(3)"
   ]
  },
  {
   "cell_type": "markdown",
   "id": "31ba3ed9",
   "metadata": {},
   "source": [
    "**Informations sur la demande de prêt du client**"
   ]
  },
  {
   "cell_type": "code",
   "execution_count": 83,
   "id": "5a623f91",
   "metadata": {},
   "outputs": [],
   "source": [
    "# Informations sur la demande prêt\n",
    "df_pret_client = df_dashboard[['NAME_CONTRACT_TYPE', 'AMT_CREDIT',\n",
    "                               'AMT_ANNUITY', 'AMT_GOODS_PRICE',\n",
    "                               'NAME_HOUSING_TYPE']]"
   ]
  },
  {
   "cell_type": "code",
   "execution_count": 169,
   "id": "56524461",
   "metadata": {},
   "outputs": [
    {
     "data": {
      "text/html": [
       "<div>\n",
       "<style scoped>\n",
       "    .dataframe tbody tr th:only-of-type {\n",
       "        vertical-align: middle;\n",
       "    }\n",
       "\n",
       "    .dataframe tbody tr th {\n",
       "        vertical-align: top;\n",
       "    }\n",
       "\n",
       "    .dataframe thead th {\n",
       "        text-align: right;\n",
       "    }\n",
       "</style>\n",
       "<table border=\"1\" class=\"dataframe\">\n",
       "  <thead>\n",
       "    <tr style=\"text-align: right;\">\n",
       "      <th></th>\n",
       "      <th>Type de prêt</th>\n",
       "      <th>Montant du crédit ($)</th>\n",
       "      <th>Annuités ($)</th>\n",
       "      <th>Montant du bien ($)</th>\n",
       "      <th>Type de logement</th>\n",
       "    </tr>\n",
       "  </thead>\n",
       "  <tbody>\n",
       "    <tr>\n",
       "      <th>0</th>\n",
       "      <td>Cash loans</td>\n",
       "      <td>568800.0</td>\n",
       "      <td>20560.5</td>\n",
       "      <td>450000.0</td>\n",
       "      <td>House / apartment</td>\n",
       "    </tr>\n",
       "    <tr>\n",
       "      <th>1</th>\n",
       "      <td>Cash loans</td>\n",
       "      <td>222768.0</td>\n",
       "      <td>17370.0</td>\n",
       "      <td>180000.0</td>\n",
       "      <td>House / apartment</td>\n",
       "    </tr>\n",
       "    <tr>\n",
       "      <th>2</th>\n",
       "      <td>Cash loans</td>\n",
       "      <td>663264.0</td>\n",
       "      <td>69777.0</td>\n",
       "      <td>630000.0</td>\n",
       "      <td>House / apartment</td>\n",
       "    </tr>\n",
       "  </tbody>\n",
       "</table>\n",
       "</div>"
      ],
      "text/plain": [
       "  Type de prêt  Montant du crédit ($)  Annuités ($)  Montant du bien ($)   Type de logement\n",
       "0   Cash loans               568800.0       20560.5             450000.0  House / apartment\n",
       "1   Cash loans               222768.0       17370.0             180000.0  House / apartment\n",
       "2   Cash loans               663264.0       69777.0             630000.0  House / apartment"
      ]
     },
     "execution_count": 169,
     "metadata": {},
     "output_type": "execute_result"
    }
   ],
   "source": [
    "df_pret_client = df_pret_client.rename(columns = {\n",
    "     'NAME_CONTRACT_TYPE' : 'Type de prêt',\n",
    "     'AMT_CREDIT' : 'Montant du crédit ($)',\n",
    "     'AMT_ANNUITY' : 'Annuités ($)',\n",
    "     'AMT_GOODS_PRICE' : 'ontant du bien ($)',\n",
    "     'NAME_HOUSING_TYPE' : 'Type de logement'})\n",
    "df_pret_client.head(3)"
   ]
  },
  {
   "cell_type": "markdown",
   "id": "5053520f",
   "metadata": {},
   "source": [
    "**10 voisins les plus proches du test set**"
   ]
  },
  {
   "cell_type": "markdown",
   "id": "717540c6",
   "metadata": {},
   "source": [
    "- Ajout du score prévisionnel moyen des 10 voisins les plus proches pour les variables les plus importantes à afficher dans la jauge sous le score de notre client.\n",
    "- Ce score moyen permet de savoir comment se situe notre client parmi ses 10 voisins. Par exemple, si son score est de 0.54 donc défaillant (le seuil est fixé à 0.5) et que les voisins ont un score moyen de 0.42 donc non-défaillant, le dossier devra être revu par un humain pour la décision d'accourd ou non du prêt.\n",
    "- On a également un pourcentage du nombre des voisins classés défaillants parmi ces 10 voisins."
   ]
  },
  {
   "cell_type": "code",
   "execution_count": 20,
   "id": "1ca8373a",
   "metadata": {},
   "outputs": [],
   "source": [
    "# Instanciation du modèle\n",
    "knn = KNeighborsClassifier(10, n_jobs = -1)"
   ]
  },
  {
   "cell_type": "code",
   "execution_count": 21,
   "id": "053a867e",
   "metadata": {},
   "outputs": [
    {
     "data": {
      "text/plain": [
       "KNeighborsClassifier(n_jobs=-1, n_neighbors=10)"
      ]
     },
     "execution_count": 21,
     "metadata": {},
     "output_type": "execute_result"
    }
   ],
   "source": [
    "# Entraînement du modèle\n",
    "knn.fit(X_std, y)"
   ]
  },
  {
   "cell_type": "code",
   "execution_count": 22,
   "id": "2af519b0",
   "metadata": {},
   "outputs": [],
   "source": [
    "# Sauvegarde du modèle entraîné\n",
    "fic_knn ='../sauvegarde/modelisation/knn_10_voisins.pickle'\n",
    "with open(fic_knn, 'wb') as f:\n",
    "    pickle.dump(knn, f, pickle.HIGHEST_PROTOCOL)"
   ]
  },
  {
   "cell_type": "code",
   "execution_count": 23,
   "id": "8fcf65ab",
   "metadata": {},
   "outputs": [],
   "source": [
    "# Récupération des index des 10 voisins similaires\n",
    "liste_index_10_voisins = knn.kneighbors(X_test_std)[1]"
   ]
  },
  {
   "cell_type": "code",
   "execution_count": 24,
   "id": "70250243",
   "metadata": {},
   "outputs": [],
   "source": [
    "# Index des 10 clients voisins\n",
    "df_dashboard['INDEX_10_VOISINS_MEAN'] = \\\n",
    "    [index for index in liste_index_10_voisins]"
   ]
  },
  {
   "cell_type": "code",
   "execution_count": 25,
   "id": "4bb3e680",
   "metadata": {},
   "outputs": [],
   "source": [
    "# Nombre de clients défaillants parmi les 10 voisins\n",
    "df_dashboard['NB_10_VOISINS_DEFAILLANT'] = \\\n",
    "    [Counter(train_set['TARGET'].iloc[index])[1]\n",
    "     for index in liste_index_10_voisins]"
   ]
  },
  {
   "cell_type": "code",
   "execution_count": 26,
   "id": "68f883f9",
   "metadata": {},
   "outputs": [],
   "source": [
    "# Pourcentage de clients défaillants parmi les 10 voisins\n",
    "df_dashboard['%_NB_10_VOISINS_DEFAILLANT'] = \\\n",
    "    [(row / 10) * 100\n",
    "     for row in df_dashboard['NB_10_VOISINS_DEFAILLANT']]"
   ]
  },
  {
   "cell_type": "code",
   "execution_count": 27,
   "id": "dba724f9",
   "metadata": {
    "run_control": {
     "marked": false
    }
   },
   "outputs": [
    {
     "data": {
      "text/html": [
       "<div>\n",
       "<style scoped>\n",
       "    .dataframe tbody tr th:only-of-type {\n",
       "        vertical-align: middle;\n",
       "    }\n",
       "\n",
       "    .dataframe tbody tr th {\n",
       "        vertical-align: top;\n",
       "    }\n",
       "\n",
       "    .dataframe thead th {\n",
       "        text-align: right;\n",
       "    }\n",
       "</style>\n",
       "<table border=\"1\" class=\"dataframe\">\n",
       "  <thead>\n",
       "    <tr style=\"text-align: right;\">\n",
       "      <th></th>\n",
       "      <th>SCORE_CLIENT</th>\n",
       "      <th>PRED_CLASSE_CLIENT</th>\n",
       "      <th>%_NB_10_VOISINS_DEFAILLANT</th>\n",
       "    </tr>\n",
       "  </thead>\n",
       "  <tbody>\n",
       "    <tr>\n",
       "      <th>0</th>\n",
       "      <td>0.3229</td>\n",
       "      <td>0</td>\n",
       "      <td>20.0</td>\n",
       "    </tr>\n",
       "    <tr>\n",
       "      <th>1</th>\n",
       "      <td>0.7506</td>\n",
       "      <td>1</td>\n",
       "      <td>20.0</td>\n",
       "    </tr>\n",
       "    <tr>\n",
       "      <th>2</th>\n",
       "      <td>0.2673</td>\n",
       "      <td>0</td>\n",
       "      <td>20.0</td>\n",
       "    </tr>\n",
       "    <tr>\n",
       "      <th>3</th>\n",
       "      <td>0.1873</td>\n",
       "      <td>0</td>\n",
       "      <td>0.0</td>\n",
       "    </tr>\n",
       "    <tr>\n",
       "      <th>4</th>\n",
       "      <td>0.6179</td>\n",
       "      <td>1</td>\n",
       "      <td>20.0</td>\n",
       "    </tr>\n",
       "    <tr>\n",
       "      <th>5</th>\n",
       "      <td>0.3146</td>\n",
       "      <td>0</td>\n",
       "      <td>0.0</td>\n",
       "    </tr>\n",
       "    <tr>\n",
       "      <th>6</th>\n",
       "      <td>0.0982</td>\n",
       "      <td>0</td>\n",
       "      <td>0.0</td>\n",
       "    </tr>\n",
       "    <tr>\n",
       "      <th>7</th>\n",
       "      <td>0.2937</td>\n",
       "      <td>0</td>\n",
       "      <td>10.0</td>\n",
       "    </tr>\n",
       "    <tr>\n",
       "      <th>8</th>\n",
       "      <td>0.1236</td>\n",
       "      <td>0</td>\n",
       "      <td>0.0</td>\n",
       "    </tr>\n",
       "    <tr>\n",
       "      <th>9</th>\n",
       "      <td>0.5236</td>\n",
       "      <td>1</td>\n",
       "      <td>0.0</td>\n",
       "    </tr>\n",
       "  </tbody>\n",
       "</table>\n",
       "</div>"
      ],
      "text/plain": [
       "   SCORE_CLIENT  PRED_CLASSE_CLIENT  %_NB_10_VOISINS_DEFAILLANT\n",
       "0        0.3229                   0                        20.0\n",
       "1        0.7506                   1                        20.0\n",
       "2        0.2673                   0                        20.0\n",
       "3        0.1873                   0                         0.0\n",
       "4        0.6179                   1                        20.0\n",
       "5        0.3146                   0                         0.0\n",
       "6        0.0982                   0                         0.0\n",
       "7        0.2937                   0                        10.0\n",
       "8        0.1236                   0                         0.0\n",
       "9        0.5236                   1                         0.0"
      ]
     },
     "execution_count": 27,
     "metadata": {},
     "output_type": "execute_result"
    }
   ],
   "source": [
    "df_dashboard[['SCORE_CLIENT', 'PRED_CLASSE_CLIENT', \n",
    "              '%_NB_10_VOISINS_DEFAILLANT']].head(10)"
   ]
  },
  {
   "cell_type": "markdown",
   "id": "567437fc",
   "metadata": {},
   "source": [
    "<span style='background:Moccasin'>**10 clients voisins du train set**</span>"
   ]
  },
  {
   "cell_type": "code",
   "execution_count": 122,
   "id": "82c756cc",
   "metadata": {},
   "outputs": [
    {
     "data": {
      "text/plain": [
       "(30, 37)"
      ]
     },
     "execution_count": 122,
     "metadata": {},
     "output_type": "execute_result"
    }
   ],
   "source": [
    "# Chargement du dataframe des 10 voisins du train set\n",
    "fic_sav_df_voisin_train = \\\n",
    "    '../sauvegarde/dashboard/df_voisin_train.pickle'\n",
    "with open(fic_sav_df_voisin_train, 'rb') as df_voisin_train:\n",
    "    df_voisin_train = pickle.load(df_voisin_train)\n",
    "df_voisin_train.shape"
   ]
  },
  {
   "cell_type": "markdown",
   "id": "b3934fd1",
   "metadata": {},
   "source": [
    "**Traits stricts des 10 voisins du train set du client**"
   ]
  },
  {
   "cell_type": "code",
   "execution_count": 159,
   "id": "3f6ec55d",
   "metadata": {},
   "outputs": [],
   "source": [
    "# Traits stricts du client\n",
    "df_info_voisins = df_voisin_train[['ID_CLIENT', 'INDEX_VOISIN',\n",
    "                                   'YEAR_BIRTH', 'SEXE',\n",
    "                                   'NAME_FAMILY_STATUS',\n",
    "                                   'CNT_CHILDREN', 'NAME_EDUCATION_TYPE',\n",
    "                                   'NAME_INCOME_TYPE', 'YEAR_EMPLOYED',\n",
    "                                   'AMT_INCOME_TOTAL']]"
   ]
  },
  {
   "cell_type": "code",
   "execution_count": 160,
   "id": "e30db1a6",
   "metadata": {},
   "outputs": [
    {
     "data": {
      "text/html": [
       "<div>\n",
       "<style scoped>\n",
       "    .dataframe tbody tr th:only-of-type {\n",
       "        vertical-align: middle;\n",
       "    }\n",
       "\n",
       "    .dataframe tbody tr th {\n",
       "        vertical-align: top;\n",
       "    }\n",
       "\n",
       "    .dataframe thead th {\n",
       "        text-align: right;\n",
       "    }\n",
       "</style>\n",
       "<table border=\"1\" class=\"dataframe\">\n",
       "  <thead>\n",
       "    <tr style=\"text-align: right;\">\n",
       "      <th></th>\n",
       "      <th>Id Client</th>\n",
       "      <th>Id Voisin</th>\n",
       "      <th>Âge (ans)</th>\n",
       "      <th>Sexe</th>\n",
       "      <th>Statut familial</th>\n",
       "      <th>Nbre enfants</th>\n",
       "      <th>Niveau éducation</th>\n",
       "      <th>Type revenu</th>\n",
       "      <th>Ancienneté emploi</th>\n",
       "      <th>Revenus ($)</th>\n",
       "    </tr>\n",
       "  </thead>\n",
       "  <tbody>\n",
       "    <tr>\n",
       "      <th>0</th>\n",
       "      <td>100001</td>\n",
       "      <td>77677</td>\n",
       "      <td>42</td>\n",
       "      <td>Féminin</td>\n",
       "      <td>Married</td>\n",
       "      <td>0</td>\n",
       "      <td>Higher education</td>\n",
       "      <td>Working</td>\n",
       "      <td>13</td>\n",
       "      <td>135000.0</td>\n",
       "    </tr>\n",
       "    <tr>\n",
       "      <th>1</th>\n",
       "      <td>100001</td>\n",
       "      <td>257447</td>\n",
       "      <td>47</td>\n",
       "      <td>Féminin</td>\n",
       "      <td>Married</td>\n",
       "      <td>0</td>\n",
       "      <td>Higher education</td>\n",
       "      <td>State servant</td>\n",
       "      <td>13</td>\n",
       "      <td>315000.0</td>\n",
       "    </tr>\n",
       "    <tr>\n",
       "      <th>2</th>\n",
       "      <td>100001</td>\n",
       "      <td>109458</td>\n",
       "      <td>48</td>\n",
       "      <td>Féminin</td>\n",
       "      <td>Married</td>\n",
       "      <td>0</td>\n",
       "      <td>Higher education</td>\n",
       "      <td>Working</td>\n",
       "      <td>14</td>\n",
       "      <td>171000.0</td>\n",
       "    </tr>\n",
       "  </tbody>\n",
       "</table>\n",
       "</div>"
      ],
      "text/plain": [
       "   Id Client  Id Voisin  Âge (ans)     Sexe Statut familial  Nbre enfants  Niveau éducation    Type revenu  Ancienneté emploi  Revenus ($)\n",
       "0     100001      77677         42  Féminin         Married             0  Higher education        Working                 13     135000.0\n",
       "1     100001     257447         47  Féminin         Married             0  Higher education  State servant                 13     315000.0\n",
       "2     100001     109458         48  Féminin         Married             0  Higher education        Working                 14     171000.0"
      ]
     },
     "execution_count": 160,
     "metadata": {},
     "output_type": "execute_result"
    }
   ],
   "source": [
    "df_info_voisins = df_info_voisins.rename(columns = {\n",
    "    'ID_CLIENT' : 'Id Client',\n",
    "    'INDEX_VOISIN' : 'Id Voisin',\n",
    "    'YEAR_BIRTH' : 'Âge (ans)',\n",
    "    'SEXE' : 'Sexe',\n",
    "    'NAME_FAMILY_STATUS' : 'Statut familial',\n",
    "    'CNT_CHILDREN' : 'Nbre enfants',\n",
    "    'NAME_EDUCATION_TYPE' : 'Niveau éducation',\n",
    "    'NAME_INCOME_TYPE' : 'Type revenu',\n",
    "    'YEAR_EMPLOYED' : 'Ancienneté emploi',\n",
    "    'AMT_INCOME_TOTAL' : 'Revenus ($)'})\n",
    "df_info_voisins.head(3)"
   ]
  },
  {
   "cell_type": "code",
   "execution_count": 165,
   "id": "787e27e2",
   "metadata": {},
   "outputs": [
    {
     "data": {
      "text/html": [
       "<div>\n",
       "<style scoped>\n",
       "    .dataframe tbody tr th:only-of-type {\n",
       "        vertical-align: middle;\n",
       "    }\n",
       "\n",
       "    .dataframe tbody tr th {\n",
       "        vertical-align: top;\n",
       "    }\n",
       "\n",
       "    .dataframe thead th {\n",
       "        text-align: right;\n",
       "    }\n",
       "</style>\n",
       "<table border=\"1\" class=\"dataframe\">\n",
       "  <thead>\n",
       "    <tr style=\"text-align: right;\">\n",
       "      <th></th>\n",
       "      <th>Id Voisin</th>\n",
       "      <th>Âge (ans)</th>\n",
       "      <th>Sexe</th>\n",
       "      <th>Statut familial</th>\n",
       "      <th>Nbre enfants</th>\n",
       "      <th>Niveau éducation</th>\n",
       "      <th>Type revenu</th>\n",
       "      <th>Ancienneté emploi</th>\n",
       "      <th>Revenus ($)</th>\n",
       "    </tr>\n",
       "  </thead>\n",
       "  <tbody>\n",
       "    <tr>\n",
       "      <th>0</th>\n",
       "      <td>77677</td>\n",
       "      <td>42</td>\n",
       "      <td>Féminin</td>\n",
       "      <td>Married</td>\n",
       "      <td>0</td>\n",
       "      <td>Higher education</td>\n",
       "      <td>Working</td>\n",
       "      <td>13</td>\n",
       "      <td>135000.0</td>\n",
       "    </tr>\n",
       "    <tr>\n",
       "      <th>1</th>\n",
       "      <td>257447</td>\n",
       "      <td>47</td>\n",
       "      <td>Féminin</td>\n",
       "      <td>Married</td>\n",
       "      <td>0</td>\n",
       "      <td>Higher education</td>\n",
       "      <td>State servant</td>\n",
       "      <td>13</td>\n",
       "      <td>315000.0</td>\n",
       "    </tr>\n",
       "    <tr>\n",
       "      <th>2</th>\n",
       "      <td>109458</td>\n",
       "      <td>48</td>\n",
       "      <td>Féminin</td>\n",
       "      <td>Married</td>\n",
       "      <td>0</td>\n",
       "      <td>Higher education</td>\n",
       "      <td>Working</td>\n",
       "      <td>14</td>\n",
       "      <td>171000.0</td>\n",
       "    </tr>\n",
       "    <tr>\n",
       "      <th>3</th>\n",
       "      <td>212270</td>\n",
       "      <td>48</td>\n",
       "      <td>Féminin</td>\n",
       "      <td>Married</td>\n",
       "      <td>1</td>\n",
       "      <td>Higher education</td>\n",
       "      <td>Commercial associate</td>\n",
       "      <td>2</td>\n",
       "      <td>202500.0</td>\n",
       "    </tr>\n",
       "    <tr>\n",
       "      <th>4</th>\n",
       "      <td>139230</td>\n",
       "      <td>51</td>\n",
       "      <td>Féminin</td>\n",
       "      <td>Married</td>\n",
       "      <td>0</td>\n",
       "      <td>Higher education</td>\n",
       "      <td>Working</td>\n",
       "      <td>3</td>\n",
       "      <td>225000.0</td>\n",
       "    </tr>\n",
       "    <tr>\n",
       "      <th>5</th>\n",
       "      <td>97944</td>\n",
       "      <td>54</td>\n",
       "      <td>Féminin</td>\n",
       "      <td>Married</td>\n",
       "      <td>0</td>\n",
       "      <td>Higher education</td>\n",
       "      <td>Pensioner</td>\n",
       "      <td>0</td>\n",
       "      <td>90000.0</td>\n",
       "    </tr>\n",
       "    <tr>\n",
       "      <th>6</th>\n",
       "      <td>229248</td>\n",
       "      <td>53</td>\n",
       "      <td>Féminin</td>\n",
       "      <td>Married</td>\n",
       "      <td>0</td>\n",
       "      <td>Higher education</td>\n",
       "      <td>State servant</td>\n",
       "      <td>5</td>\n",
       "      <td>157500.0</td>\n",
       "    </tr>\n",
       "    <tr>\n",
       "      <th>7</th>\n",
       "      <td>213485</td>\n",
       "      <td>51</td>\n",
       "      <td>Féminin</td>\n",
       "      <td>Married</td>\n",
       "      <td>0</td>\n",
       "      <td>Higher education</td>\n",
       "      <td>Working</td>\n",
       "      <td>25</td>\n",
       "      <td>292500.0</td>\n",
       "    </tr>\n",
       "    <tr>\n",
       "      <th>8</th>\n",
       "      <td>293935</td>\n",
       "      <td>44</td>\n",
       "      <td>Féminin</td>\n",
       "      <td>Married</td>\n",
       "      <td>0</td>\n",
       "      <td>Higher education</td>\n",
       "      <td>Working</td>\n",
       "      <td>5</td>\n",
       "      <td>153000.0</td>\n",
       "    </tr>\n",
       "    <tr>\n",
       "      <th>9</th>\n",
       "      <td>181115</td>\n",
       "      <td>50</td>\n",
       "      <td>Féminin</td>\n",
       "      <td>Married</td>\n",
       "      <td>0</td>\n",
       "      <td>Higher education</td>\n",
       "      <td>Commercial associate</td>\n",
       "      <td>1</td>\n",
       "      <td>495000.0</td>\n",
       "    </tr>\n",
       "  </tbody>\n",
       "</table>\n",
       "</div>"
      ],
      "text/plain": [
       "   Id Voisin  Âge (ans)     Sexe Statut familial  Nbre enfants  Niveau éducation           Type revenu  Ancienneté emploi  Revenus ($)\n",
       "0      77677         42  Féminin         Married             0  Higher education               Working                 13     135000.0\n",
       "1     257447         47  Féminin         Married             0  Higher education         State servant                 13     315000.0\n",
       "2     109458         48  Féminin         Married             0  Higher education               Working                 14     171000.0\n",
       "3     212270         48  Féminin         Married             1  Higher education  Commercial associate                  2     202500.0\n",
       "4     139230         51  Féminin         Married             0  Higher education               Working                  3     225000.0\n",
       "5      97944         54  Féminin         Married             0  Higher education             Pensioner                  0      90000.0\n",
       "6     229248         53  Féminin         Married             0  Higher education         State servant                  5     157500.0\n",
       "7     213485         51  Féminin         Married             0  Higher education               Working                 25     292500.0\n",
       "8     293935         44  Féminin         Married             0  Higher education               Working                  5     153000.0\n",
       "9     181115         50  Féminin         Married             0  Higher education  Commercial associate                  1     495000.0"
      ]
     },
     "execution_count": 165,
     "metadata": {},
     "output_type": "execute_result"
    }
   ],
   "source": [
    "# Pour trouver les voisins d'un client\n",
    "client = df_info_voisins['Id Client'] == 100001  # Identifiant du client\n",
    "df_info_voisins[client].iloc[:, 1:]"
   ]
  },
  {
   "cell_type": "markdown",
   "id": "2cacab62",
   "metadata": {},
   "source": [
    "**Informations sur la demande de prêt des 10 voisins du client**"
   ]
  },
  {
   "cell_type": "code",
   "execution_count": 173,
   "id": "9531a22b",
   "metadata": {},
   "outputs": [
    {
     "data": {
      "text/html": [
       "<div>\n",
       "<style scoped>\n",
       "    .dataframe tbody tr th:only-of-type {\n",
       "        vertical-align: middle;\n",
       "    }\n",
       "\n",
       "    .dataframe tbody tr th {\n",
       "        vertical-align: top;\n",
       "    }\n",
       "\n",
       "    .dataframe thead th {\n",
       "        text-align: right;\n",
       "    }\n",
       "</style>\n",
       "<table border=\"1\" class=\"dataframe\">\n",
       "  <thead>\n",
       "    <tr style=\"text-align: right;\">\n",
       "      <th></th>\n",
       "      <th>ID_CLIENT</th>\n",
       "      <th>INDEX_VOISIN</th>\n",
       "      <th>NAME_CONTRACT_TYPE</th>\n",
       "      <th>AMT_CREDIT</th>\n",
       "      <th>AMT_ANNUITY</th>\n",
       "      <th>AMT_GOODS_PRICE</th>\n",
       "      <th>NAME_HOUSING_TYPE</th>\n",
       "    </tr>\n",
       "  </thead>\n",
       "  <tbody>\n",
       "    <tr>\n",
       "      <th>0</th>\n",
       "      <td>100001</td>\n",
       "      <td>77677</td>\n",
       "      <td>Cash loans</td>\n",
       "      <td>665892.0</td>\n",
       "      <td>21609.0</td>\n",
       "      <td>477000.0</td>\n",
       "      <td>House / apartment</td>\n",
       "    </tr>\n",
       "    <tr>\n",
       "      <th>1</th>\n",
       "      <td>100001</td>\n",
       "      <td>257447</td>\n",
       "      <td>Cash loans</td>\n",
       "      <td>905688.0</td>\n",
       "      <td>29214.0</td>\n",
       "      <td>756000.0</td>\n",
       "      <td>House / apartment</td>\n",
       "    </tr>\n",
       "    <tr>\n",
       "      <th>2</th>\n",
       "      <td>100001</td>\n",
       "      <td>109458</td>\n",
       "      <td>Cash loans</td>\n",
       "      <td>526491.0</td>\n",
       "      <td>19039.5</td>\n",
       "      <td>454500.0</td>\n",
       "      <td>House / apartment</td>\n",
       "    </tr>\n",
       "  </tbody>\n",
       "</table>\n",
       "</div>"
      ],
      "text/plain": [
       "   ID_CLIENT  INDEX_VOISIN NAME_CONTRACT_TYPE  AMT_CREDIT  AMT_ANNUITY  AMT_GOODS_PRICE  NAME_HOUSING_TYPE\n",
       "0     100001         77677         Cash loans    665892.0      21609.0         477000.0  House / apartment\n",
       "1     100001        257447         Cash loans    905688.0      29214.0         756000.0  House / apartment\n",
       "2     100001        109458         Cash loans    526491.0      19039.5         454500.0  House / apartment"
      ]
     },
     "execution_count": 173,
     "metadata": {},
     "output_type": "execute_result"
    }
   ],
   "source": [
    "# Informations sur la demande prêt\n",
    "df_pret_voisins = df_voisin_train[['ID_CLIENT', 'INDEX_VOISIN',\n",
    "                                   'NAME_CONTRACT_TYPE', 'AMT_CREDIT',\n",
    "                                   'AMT_ANNUITY', 'AMT_GOODS_PRICE',\n",
    "                                   'NAME_HOUSING_TYPE']]\n",
    "df_pret_voisins.head(3)"
   ]
  },
  {
   "cell_type": "code",
   "execution_count": 175,
   "id": "edf27edc",
   "metadata": {},
   "outputs": [
    {
     "data": {
      "text/html": [
       "<div>\n",
       "<style scoped>\n",
       "    .dataframe tbody tr th:only-of-type {\n",
       "        vertical-align: middle;\n",
       "    }\n",
       "\n",
       "    .dataframe tbody tr th {\n",
       "        vertical-align: top;\n",
       "    }\n",
       "\n",
       "    .dataframe thead th {\n",
       "        text-align: right;\n",
       "    }\n",
       "</style>\n",
       "<table border=\"1\" class=\"dataframe\">\n",
       "  <thead>\n",
       "    <tr style=\"text-align: right;\">\n",
       "      <th></th>\n",
       "      <th>Id Client</th>\n",
       "      <th>Id Voisin</th>\n",
       "      <th>Type de prêt</th>\n",
       "      <th>Montant du crédit ($)</th>\n",
       "      <th>Annuités ($)</th>\n",
       "      <th>Montant du bien ($)</th>\n",
       "      <th>Type de logement</th>\n",
       "    </tr>\n",
       "  </thead>\n",
       "  <tbody>\n",
       "    <tr>\n",
       "      <th>0</th>\n",
       "      <td>100001</td>\n",
       "      <td>77677</td>\n",
       "      <td>Cash loans</td>\n",
       "      <td>665892.0</td>\n",
       "      <td>21609.0</td>\n",
       "      <td>477000.0</td>\n",
       "      <td>House / apartment</td>\n",
       "    </tr>\n",
       "    <tr>\n",
       "      <th>1</th>\n",
       "      <td>100001</td>\n",
       "      <td>257447</td>\n",
       "      <td>Cash loans</td>\n",
       "      <td>905688.0</td>\n",
       "      <td>29214.0</td>\n",
       "      <td>756000.0</td>\n",
       "      <td>House / apartment</td>\n",
       "    </tr>\n",
       "    <tr>\n",
       "      <th>2</th>\n",
       "      <td>100001</td>\n",
       "      <td>109458</td>\n",
       "      <td>Cash loans</td>\n",
       "      <td>526491.0</td>\n",
       "      <td>19039.5</td>\n",
       "      <td>454500.0</td>\n",
       "      <td>House / apartment</td>\n",
       "    </tr>\n",
       "  </tbody>\n",
       "</table>\n",
       "</div>"
      ],
      "text/plain": [
       "   Id Client  Id Voisin Type de prêt  Montant du crédit ($)  Annuités ($)  Montant du bien ($)   Type de logement\n",
       "0     100001      77677   Cash loans               665892.0       21609.0             477000.0  House / apartment\n",
       "1     100001     257447   Cash loans               905688.0       29214.0             756000.0  House / apartment\n",
       "2     100001     109458   Cash loans               526491.0       19039.5             454500.0  House / apartment"
      ]
     },
     "execution_count": 175,
     "metadata": {},
     "output_type": "execute_result"
    }
   ],
   "source": [
    "df_pret_voisins = df_pret_voisins.rename(columns = {\n",
    "     'ID_CLIENT' : 'Id Client',\n",
    "     'INDEX_VOISIN' : 'Id Voisin',    \n",
    "     'NAME_CONTRACT_TYPE' : 'Type de prêt',\n",
    "     'AMT_CREDIT' : 'Montant du crédit ($)',\n",
    "     'AMT_ANNUITY' : 'Annuités ($)',\n",
    "     'AMT_GOODS_PRICE' : 'Montant du bien ($)',\n",
    "     'NAME_HOUSING_TYPE' : 'Type de logement'})\n",
    "df_pret_voisins.head(3)"
   ]
  },
  {
   "cell_type": "code",
   "execution_count": 176,
   "id": "6f9f4c9c",
   "metadata": {},
   "outputs": [
    {
     "data": {
      "text/html": [
       "<div>\n",
       "<style scoped>\n",
       "    .dataframe tbody tr th:only-of-type {\n",
       "        vertical-align: middle;\n",
       "    }\n",
       "\n",
       "    .dataframe tbody tr th {\n",
       "        vertical-align: top;\n",
       "    }\n",
       "\n",
       "    .dataframe thead th {\n",
       "        text-align: right;\n",
       "    }\n",
       "</style>\n",
       "<table border=\"1\" class=\"dataframe\">\n",
       "  <thead>\n",
       "    <tr style=\"text-align: right;\">\n",
       "      <th></th>\n",
       "      <th>Id Voisin</th>\n",
       "      <th>Type de prêt</th>\n",
       "      <th>Montant du crédit ($)</th>\n",
       "      <th>Annuités ($)</th>\n",
       "      <th>Montant du bien ($)</th>\n",
       "      <th>Type de logement</th>\n",
       "    </tr>\n",
       "  </thead>\n",
       "  <tbody>\n",
       "    <tr>\n",
       "      <th>0</th>\n",
       "      <td>77677</td>\n",
       "      <td>Cash loans</td>\n",
       "      <td>665892.0</td>\n",
       "      <td>21609.0</td>\n",
       "      <td>477000.0</td>\n",
       "      <td>House / apartment</td>\n",
       "    </tr>\n",
       "    <tr>\n",
       "      <th>1</th>\n",
       "      <td>257447</td>\n",
       "      <td>Cash loans</td>\n",
       "      <td>905688.0</td>\n",
       "      <td>29214.0</td>\n",
       "      <td>756000.0</td>\n",
       "      <td>House / apartment</td>\n",
       "    </tr>\n",
       "    <tr>\n",
       "      <th>2</th>\n",
       "      <td>109458</td>\n",
       "      <td>Cash loans</td>\n",
       "      <td>526491.0</td>\n",
       "      <td>19039.5</td>\n",
       "      <td>454500.0</td>\n",
       "      <td>House / apartment</td>\n",
       "    </tr>\n",
       "    <tr>\n",
       "      <th>3</th>\n",
       "      <td>212270</td>\n",
       "      <td>Cash loans</td>\n",
       "      <td>1226511.0</td>\n",
       "      <td>35860.5</td>\n",
       "      <td>1071000.0</td>\n",
       "      <td>House / apartment</td>\n",
       "    </tr>\n",
       "    <tr>\n",
       "      <th>4</th>\n",
       "      <td>139230</td>\n",
       "      <td>Cash loans</td>\n",
       "      <td>1298655.0</td>\n",
       "      <td>35842.5</td>\n",
       "      <td>1134000.0</td>\n",
       "      <td>House / apartment</td>\n",
       "    </tr>\n",
       "    <tr>\n",
       "      <th>5</th>\n",
       "      <td>97944</td>\n",
       "      <td>Cash loans</td>\n",
       "      <td>781920.0</td>\n",
       "      <td>23706.0</td>\n",
       "      <td>675000.0</td>\n",
       "      <td>House / apartment</td>\n",
       "    </tr>\n",
       "    <tr>\n",
       "      <th>6</th>\n",
       "      <td>229248</td>\n",
       "      <td>Cash loans</td>\n",
       "      <td>545040.0</td>\n",
       "      <td>20677.5</td>\n",
       "      <td>450000.0</td>\n",
       "      <td>House / apartment</td>\n",
       "    </tr>\n",
       "    <tr>\n",
       "      <th>7</th>\n",
       "      <td>213485</td>\n",
       "      <td>Cash loans</td>\n",
       "      <td>840951.0</td>\n",
       "      <td>33480.0</td>\n",
       "      <td>679500.0</td>\n",
       "      <td>House / apartment</td>\n",
       "    </tr>\n",
       "    <tr>\n",
       "      <th>8</th>\n",
       "      <td>293935</td>\n",
       "      <td>Cash loans</td>\n",
       "      <td>545040.0</td>\n",
       "      <td>17712.0</td>\n",
       "      <td>450000.0</td>\n",
       "      <td>House / apartment</td>\n",
       "    </tr>\n",
       "    <tr>\n",
       "      <th>9</th>\n",
       "      <td>181115</td>\n",
       "      <td>Cash loans</td>\n",
       "      <td>1206954.0</td>\n",
       "      <td>34717.5</td>\n",
       "      <td>945000.0</td>\n",
       "      <td>House / apartment</td>\n",
       "    </tr>\n",
       "  </tbody>\n",
       "</table>\n",
       "</div>"
      ],
      "text/plain": [
       "   Id Voisin Type de prêt  Montant du crédit ($)  Annuités ($)  Montant du bien ($)   Type de logement\n",
       "0      77677   Cash loans               665892.0       21609.0             477000.0  House / apartment\n",
       "1     257447   Cash loans               905688.0       29214.0             756000.0  House / apartment\n",
       "2     109458   Cash loans               526491.0       19039.5             454500.0  House / apartment\n",
       "3     212270   Cash loans              1226511.0       35860.5            1071000.0  House / apartment\n",
       "4     139230   Cash loans              1298655.0       35842.5            1134000.0  House / apartment\n",
       "5      97944   Cash loans               781920.0       23706.0             675000.0  House / apartment\n",
       "6     229248   Cash loans               545040.0       20677.5             450000.0  House / apartment\n",
       "7     213485   Cash loans               840951.0       33480.0             679500.0  House / apartment\n",
       "8     293935   Cash loans               545040.0       17712.0             450000.0  House / apartment\n",
       "9     181115   Cash loans              1206954.0       34717.5             945000.0  House / apartment"
      ]
     },
     "execution_count": 176,
     "metadata": {},
     "output_type": "execute_result"
    }
   ],
   "source": [
    "# Pour trouver les voisins d'un client\n",
    "client = df_info_voisins['Id Client'] == 100001  # Identifiant du client\n",
    "df_pret_voisins[client].iloc[:, 1:]"
   ]
  },
  {
   "cell_type": "markdown",
   "id": "31db4a65",
   "metadata": {},
   "source": [
    "### <span style='background:PowderBlue'>5.2. Variables les plus impactantes</span>"
   ]
  },
  {
   "cell_type": "markdown",
   "id": "325c4cad",
   "metadata": {},
   "source": [
    "**Essai de graphique pour situer le client entre les défaillants/non défaillants**"
   ]
  },
  {
   "cell_type": "code",
   "execution_count": 131,
   "id": "ebdf5af3",
   "metadata": {
    "run_control": {
     "marked": false
    }
   },
   "outputs": [
    {
     "data": {
      "image/png": "[encoded data removed]",
      "text/plain": [
       "<Figure size 432x288 with 1 Axes>"
      ]
     },
     "metadata": {
      "needs_background": "light"
     },
     "output_type": "display_data"
    }
   ],
   "source": [
    "sns.distplot(df_dashboard['YEAR_BIRTH'][df_dashboard[\n",
    "    'PRED_CLASSE_CLIENT'] == 0],\n",
    "             label='Non-Défaillants', hist=False, color='SteelBlue')\n",
    "sns.distplot(df_dashboard['YEAR_BIRTH'][df_dashboard[\n",
    "    'PRED_CLASSE_CLIENT'] == 1],\n",
    "             label='Défaillants', hist=False, color='Crimson')\n",
    "sns.distplot(df_dashboard['YEAR_BIRTH'][df_dashboard[\n",
    "    'PRED_CLASSE_CLIENT'] == 1],\n",
    "             label='Défaillants', hist=False, color='Crimson')\n",
    "plt.xlabel('Age', fontsize=16)\n",
    "plt.ylabel('Probability Density', fontsize=16)\n",
    "plt.xticks(fontsize=16)\n",
    "plt.yticks(fontsize=16)\n",
    "plt.legend(bbox_to_anchor=(1.05, 1), loc=2, borderaxespad=0., fontsize=18)\n",
    "plt.title(\"Dist-Plot de âge\", fontsize=18)\n",
    "plt.axvline(x=40,color='orange')\n",
    "plt.show()"
   ]
  },
  {
   "cell_type": "code",
   "execution_count": 177,
   "id": "ed550f6b",
   "metadata": {},
   "outputs": [
    {
     "data": {
      "image/png": "[encoded data removed]",
      "text/plain": [
       "<Figure size 432x288 with 1 Axes>"
      ]
     },
     "metadata": {
      "needs_background": "light"
     },
     "output_type": "display_data"
    }
   ],
   "source": [
    "sns.boxplot(x='PRED_CLASSE_CLIENT',\n",
    "            y='YEAR_BIRTH',\n",
    "            data=df_dashboard,\n",
    "            palette=['SteelBlue', 'Crimson'])\n",
    "plt.title(\"Box-Plot de âge\", fontsize=18)\n",
    "plt.xlabel('TARGET', fontsize=16)\n",
    "plt.ylabel('Âge', fontsize=16)\n",
    "plt.xticks(fontsize=16)\n",
    "plt.yticks(fontsize=16)\n",
    "\n",
    "df_client = df_dashboard.iloc[1]\n",
    "plt.plot(df_client['PRED_CLASSE_CLIENT'],\n",
    "         df_client['YEAR_BIRTH'],\n",
    "         color=\"orange\",\n",
    "         marker=\"$\\\\bigotimes$\", markersize=28)\n",
    "import matplotlib.lines as mlines\n",
    "client = mlines.Line2D([], [], color='orange', marker='$\\\\bigotimes$',\n",
    "                       linestyle='None',\n",
    "                       markersize=16, label='Position du client')\n",
    "plt.legend(handles=[client],\n",
    "               bbox_to_anchor=(1.05, 1), loc=2, borderaxespad=0.)\n",
    "plt.show()"
   ]
  },
  {
   "cell_type": "code",
   "execution_count": 130,
   "id": "fd0c604c",
   "metadata": {},
   "outputs": [
    {
     "data": {
      "image/png": "[encoded data removed]",
      "text/plain": [
       "<Figure size 432x288 with 1 Axes>"
      ]
     },
     "metadata": {
      "needs_background": "light"
     },
     "output_type": "display_data"
    }
   ],
   "source": [
    "sns.violinplot(x='PRED_CLASSE_CLIENT', y='YEAR_BIRTH',\n",
    "               data=df_dashboard,\n",
    "               palette=['SteelBlue', 'Crimson'])\n",
    "plt.title(\"Violin-Plot de  Âge\", fontsize=18)\n",
    "df_client = df_dashboard.iloc[1]\n",
    "plt.plot(df_client['PRED_CLASSE_CLIENT'],\n",
    "         df_client['YEAR_BIRTH'],\n",
    "         color=\"orange\",\n",
    "         marker=\"$\\\\bigotimes$\", markersize=28)\n",
    "client = mlines.Line2D([], [], color='orange', marker='$\\\\bigotimes$',\n",
    "                       linestyle='None',\n",
    "                       markersize=16, label='Position du client')\n",
    "plt.legend(handles=[client], bbox_to_anchor=(1.05, 1), loc=2, borderaxespad=0.)\n",
    "# plt.plot(df_data_applicant.loc[this_client, f], y_plot, color=\"blue\", marker=\"*\", markersize=20)   \n",
    "plt.show()"
   ]
  },
  {
   "cell_type": "code",
   "execution_count": null,
   "id": "f4f9d506",
   "metadata": {},
   "outputs": [],
   "source": []
  },
  {
   "cell_type": "code",
   "execution_count": null,
   "id": "cf808ef1",
   "metadata": {},
   "outputs": [],
   "source": []
  },
  {
   "cell_type": "code",
   "execution_count": null,
   "id": "393097fe",
   "metadata": {},
   "outputs": [],
   "source": []
  },
  {
   "cell_type": "markdown",
   "id": "51adfc26",
   "metadata": {},
   "source": [
    "### <span style='background:PowderBlue'>5.3. Score du client</span>"
   ]
  },
  {
   "cell_type": "markdown",
   "id": "47e6436d",
   "metadata": {},
   "source": [
    "**Jauge pour le score du client**"
   ]
  },
  {
   "cell_type": "markdown",
   "id": "06ed8179",
   "metadata": {},
   "source": [
    "[Source_plotly_jauge](https://plotly.com/python/gauge-charts/)"
   ]
  },
  {
   "cell_type": "code",
   "execution_count": 136,
   "id": "ec2822ec",
   "metadata": {},
   "outputs": [
    {
     "data": {
      "text/plain": [
       "['SK_ID_CURR',\n",
       " 'PRED_CLASSE_CLIENT',\n",
       " 'SCORE_CLIENT',\n",
       " 'SCORE_CLIENT_%',\n",
       " 'CREDIT_ANNUITY_RATIO',\n",
       " 'PREV_APP_AMT_ANNUITY_MEAN',\n",
       " 'PREV_APP_DAYS_FIRST_DUE_SUM',\n",
       " 'PREV_APP_AMT_ANNUITY_MIN',\n",
       " 'PREV_APP_INTEREST_SHARE_MEAN',\n",
       " 'POS_CASH_NAME_CONTRACT_STATUS_ACTIVE_MEAN',\n",
       " 'BUREAU_AMT_CREDIT_SUM_SUM',\n",
       " 'REG_CITY_NOT_LIVE_CITY',\n",
       " 'FLAG_DOCUMENT_3',\n",
       " 'EXT_SOURCE_SUM',\n",
       " 'INST_PAY_DAYS_PAYMENT_DIFF_MIN',\n",
       " 'PREV_APP_NAME_CONTRACT_STATUS_MEAN',\n",
       " 'BUREAU_DAYS_CREDIT_MEAN',\n",
       " 'PREV_APP_AMT_CREDIT_GOODS_RATIO_MIN',\n",
       " 'INST_PAY_AMT_PAYMENT_RATIO_MEAN',\n",
       " 'PREV_APP_AMT_CREDIT_GOODS_RATIO_MEAN',\n",
       " 'FLAGS_DOCUMENTS_SUM',\n",
       " 'INST_PAY_AMT_INSTALMENT_MIN',\n",
       " 'ENQ_CREDIT_RATIO',\n",
       " 'NAME_INCOME_TYPE_WORKING',\n",
       " 'BUREAU_CREDIT_TYPE_MORTGAGE_MEAN',\n",
       " 'INST_PAY_DAYS_INSTALMENT_MAX',\n",
       " 'PREV_APP_AMT_DOWN_PAYMENT_MEAN',\n",
       " 'POS_CASH_SK_DPD_DEF_MEAN',\n",
       " 'NAME_FAMILY_STATUS_MARRIED',\n",
       " 'FLAG_OWN_CAR',\n",
       " 'PREV_APP_CNT_PAYMENT_MEAN',\n",
       " 'OWN_CAR_AGE',\n",
       " 'NAME_EDUCATION_TYPE_HIGHER_EDUCATION',\n",
       " 'INST_PAY_AMT_PAYMENT_DIFF_MEAN',\n",
       " 'REGION_RATING_CLIENT',\n",
       " 'NAME_INCOME_TYPE_STATE_SERVANT',\n",
       " 'YEARS_BEGINEXPLUATATION_AVG',\n",
       " 'DEF_30_CNT_SOCIAL_CIRCLE',\n",
       " 'CCB_BALANCE_LIMIT_RATIO_MEAN',\n",
       " 'PREV_APP_SELLERPLACE_AREA_MEAN',\n",
       " 'PREV_APP_ANNUITY_GOODS_MEAN',\n",
       " 'PREV_APP_AMT_CREDIT_GOODS_RATIO_MAX',\n",
       " 'BUREAU_AMT_CREDIT_SUM_DEBT_MEAN',\n",
       " 'OCCUPATION_TYPE_CORE_STAFF',\n",
       " 'EXT_SOURCE_VAR',\n",
       " 'INST_PAY_NUM_INSTALMENT_VERSION_SUM',\n",
       " 'INST_PAY_DAYS_PAYMENT_RATIO_MEAN',\n",
       " 'AMT_CREDIT',\n",
       " 'BUREAU_AMT_CREDIT_SUM_DEBT_SUM',\n",
       " 'ANNUITY_INCOME_RATIO',\n",
       " 'CAR_EMPLOYED_RATIO',\n",
       " 'BUREAU_AMT_CREDIT_SUM_MEAN',\n",
       " 'INST_PAY_AMT_INSTALMENT_SUM',\n",
       " 'EXT_SOURCE_3',\n",
       " 'BUREAU_CURRENT_CREDIT_DEBT_DIFF_MEAN',\n",
       " 'DAYS_ID_PUBLISH',\n",
       " 'BUREAU_CURRENT_CREDIT_DEBT_DIFF_MIN',\n",
       " 'EXT_SOURCE_2',\n",
       " 'CREDIT_GOODS_RATIO',\n",
       " 'EXT_SOURCE_1',\n",
       " 'PREV_APP_INTEREST_SHARE_MAX',\n",
       " 'AMT_ANNUITY',\n",
       " 'INST_PAY_DAYS_PAYMENT_RATIO_MAX',\n",
       " 'DAYS_BIRTH',\n",
       " 'PREV_APP_DAYS_LAST_DUE_MAX',\n",
       " 'DAYS_EMPLOYED',\n",
       " 'BUREAU_CURRENT_DEBT_TO_CREDIT_RATIO_MEAN',\n",
       " 'CODE_GENDER',\n",
       " 'PREV_APP_APPLICATION_AMT_TO_DECISION_RATIO_MEAN',\n",
       " 'BUREAU_AMT_CREDIT_MAX_OVERDUE_MAX',\n",
       " 'INST_PAY_DAYS_PAYMENT_RATIO_MIN',\n",
       " 'CCB_CNT_DRAWINGS_ATM_CURRENT_MEAN',\n",
       " 'REGION_POPULATION_RELATIVE',\n",
       " 'POS_CASH_NAME_CONTRACT_STATUS_ACTIVE_SUM',\n",
       " 'BUREAU_DAYS_CREDIT_MAX',\n",
       " 'DAYS_LAST_PHONE_CHANGE',\n",
       " 'PREV_APP_DAYS_FIRST_LAST_DUE_DIFF_MEAN',\n",
       " 'EXT_SOURCE_MAX',\n",
       " 'INST_PAY_AMT_INSTALMENT_MAX',\n",
       " 'DAYS_REGISTRATION',\n",
       " 'POS_CASH_CNT_INSTALMENT_MEAN',\n",
       " 'INST_PAY_DAYS_INSTALMENT_MIN',\n",
       " 'AMT_REQ_CREDIT_BUREAU_QRT',\n",
       " 'FLAG_WORK_PHONE',\n",
       " 'PREV_APP_INTEREST_SHARE_MIN',\n",
       " 'PREV_APP_AMT_DECLINED_SUM',\n",
       " 'CCB_CNT_DRAWINGS_CURRENT_SUM',\n",
       " 'PREV_APP_CODE_REJECT_REASON_XAP_MEAN',\n",
       " 'BUREAU_CREDIT_TYPE_MICROLOAN_MEAN',\n",
       " 'PREV_APP_NAME_TYPE_SUITE_UNACCOMPANIED_MEAN',\n",
       " 'FLOORSMAX_AVG',\n",
       " 'BUREAU_CREDIT_ACTIVE_ACTIVE_COUNT',\n",
       " 'INST_PAY_AMT_INSTALMENT_MEAN',\n",
       " 'APARTMENTS_AVG',\n",
       " 'PREV_APP_HOUR_APPR_PROCESS_START_MEAN',\n",
       " 'INCOME_GOODS_DIFF',\n",
       " 'PREV_APP_INTEREST_RATE_MAX',\n",
       " 'CREDIT_INCOME_RATIO',\n",
       " 'PREV_APP_DAYS_DECISION_MAX',\n",
       " 'PREV_APP_DAYS_DECISION_MEAN',\n",
       " 'PREV_APP_AMT_INTEREST_MEAN',\n",
       " 'PREV_APP_LOAN_RATE_MEAN',\n",
       " 'PREV_APP_AMT_ANNUITY_SUM',\n",
       " 'INST_PAY_NUM_INSTALMENT_NUMBER_MAX',\n",
       " 'INCOME_EXT_RATIO',\n",
       " 'INST_PAY_DAYS_PAYMENT_DIFF_MEAN',\n",
       " 'BUREAU_DAYS_CREDIT_LAST',\n",
       " 'INST_PAY_NUM_INSTALMENT_VERSION_MEAN',\n",
       " 'PREV_APP_AMT_APPLICATION_TO_SELLERPLACE_AREA_MEAN',\n",
       " 'INST_PAY_DAYS_PAYMENT_DIFF_MAX',\n",
       " 'AMT_INCOME_TOTAL',\n",
       " 'NAME_FAMILY_STATUS',\n",
       " 'AMT_GOODS_PRICE',\n",
       " 'CNT_CHILDREN',\n",
       " 'NAME_CONTRACT_TYPE',\n",
       " 'NAME_EDUCATION_TYPE',\n",
       " 'NAME_HOUSING_TYPE',\n",
       " 'NAME_INCOME_TYPE',\n",
       " 'YEAR_BIRTH',\n",
       " 'YEAR_EMPLOYED',\n",
       " 'SEXE',\n",
       " 'SCORE_10_VOISINS_MEAN',\n",
       " 'NB_10_VOISINS_DEFAILLANT',\n",
       " '%_NB_10_VOISINS_DEFAILLANT',\n",
       " 'SCORE_20_VOISINS_MEAN',\n",
       " 'NB_20_VOISINS_DEFAILLANT',\n",
       " '%_NB_20_VOISINS_DEFAILLANT']"
      ]
     },
     "execution_count": 136,
     "metadata": {},
     "output_type": "execute_result"
    }
   ],
   "source": [
    "df_dashboard.columns.to_list()"
   ]
  },
  {
   "cell_type": "code",
   "execution_count": 135,
   "id": "33149ef4",
   "metadata": {},
   "outputs": [
    {
     "data": {
      "application/vnd.plotly.v1+json": {
       "config": {
        "plotlyServerURL": "https://plot.ly"
       },
       "data": [
        {
         "delta": {
          "increasing": {
           "color": "RebeccaPurple"
          },
          "reference": 400
         },
         "domain": {
          "x": [
           0,
           1
          ],
          "y": [
           0,
           1
          ]
         },
         "gauge": {
          "axis": {
           "range": [
            null,
            500
           ],
           "tickcolor": "darkblue",
           "tickwidth": 1
          },
          "bar": {
           "color": "darkblue"
          },
          "bgcolor": "white",
          "bordercolor": "gray",
          "borderwidth": 2,
          "steps": [
           {
            "color": "cyan",
            "range": [
             0,
             250
            ]
           },
           {
            "color": "royalblue",
            "range": [
             250,
             400
            ]
           }
          ],
          "threshold": {
           "line": {
            "color": "red",
            "width": 4
           },
           "thickness": 0.75,
           "value": 490
          }
         },
         "mode": "gauge+number+delta",
         "title": {
          "font": {
           "size": 24
          },
          "text": "Crédit score du client"
         },
         "type": "indicator",
         "value": 71
        }
       ],
       "layout": {
        "font": {
         "color": "darkblue",
         "family": "Arial"
        },
        "paper_bgcolor": "white",
        "template": {
         "data": {
          "bar": [
           {
            "error_x": {
             "color": "#2a3f5f"
            },
            "error_y": {
             "color": "#2a3f5f"
            },
            "marker": {
             "line": {
              "color": "#E5ECF6",
              "width": 0.5
             }
            },
            "type": "bar"
           }
          ],
          "barpolar": [
           {
            "marker": {
             "line": {
              "color": "#E5ECF6",
              "width": 0.5
             }
            },
            "type": "barpolar"
           }
          ],
          "carpet": [
           {
            "aaxis": {
             "endlinecolor": "#2a3f5f",
             "gridcolor": "white",
             "linecolor": "white",
             "minorgridcolor": "white",
             "startlinecolor": "#2a3f5f"
            },
            "baxis": {
             "endlinecolor": "#2a3f5f",
             "gridcolor": "white",
             "linecolor": "white",
             "minorgridcolor": "white",
             "startlinecolor": "#2a3f5f"
            },
            "type": "carpet"
           }
          ],
          "choropleth": [
           {
            "colorbar": {
             "outlinewidth": 0,
             "ticks": ""
            },
            "type": "choropleth"
           }
          ],
          "contour": [
           {
            "colorbar": {
             "outlinewidth": 0,
             "ticks": ""
            },
            "colorscale": [
             [
              0,
              "#0d0887"
             ],
             [
              0.1111111111111111,
              "#46039f"
             ],
             [
              0.2222222222222222,
              "#7201a8"
             ],
             [
              0.3333333333333333,
              "#9c179e"
             ],
             [
              0.4444444444444444,
              "#bd3786"
             ],
             [
              0.5555555555555556,
              "#d8576b"
             ],
             [
              0.6666666666666666,
              "#ed7953"
             ],
             [
              0.7777777777777778,
              "#fb9f3a"
             ],
             [
              0.8888888888888888,
              "#fdca26"
             ],
             [
              1,
              "#f0f921"
             ]
            ],
            "type": "contour"
           }
          ],
          "contourcarpet": [
           {
            "colorbar": {
             "outlinewidth": 0,
             "ticks": ""
            },
            "type": "contourcarpet"
           }
          ],
          "heatmap": [
           {
            "colorbar": {
             "outlinewidth": 0,
             "ticks": ""
            },
            "colorscale": [
             [
              0,
              "#0d0887"
             ],
             [
              0.1111111111111111,
              "#46039f"
             ],
             [
              0.2222222222222222,
              "#7201a8"
             ],
             [
              0.3333333333333333,
              "#9c179e"
             ],
             [
              0.4444444444444444,
              "#bd3786"
             ],
             [
              0.5555555555555556,
              "#d8576b"
             ],
             [
              0.6666666666666666,
              "#ed7953"
             ],
             [
              0.7777777777777778,
              "#fb9f3a"
             ],
             [
              0.8888888888888888,
              "#fdca26"
             ],
             [
              1,
              "#f0f921"
             ]
            ],
            "type": "heatmap"
           }
          ],
          "heatmapgl": [
           {
            "colorbar": {
             "outlinewidth": 0,
             "ticks": ""
            },
            "colorscale": [
             [
              0,
              "#0d0887"
             ],
             [
              0.1111111111111111,
              "#46039f"
             ],
             [
              0.2222222222222222,
              "#7201a8"
             ],
             [
              0.3333333333333333,
              "#9c179e"
             ],
             [
              0.4444444444444444,
              "#bd3786"
             ],
             [
              0.5555555555555556,
              "#d8576b"
             ],
             [
              0.6666666666666666,
              "#ed7953"
             ],
             [
              0.7777777777777778,
              "#fb9f3a"
             ],
             [
              0.8888888888888888,
              "#fdca26"
             ],
             [
              1,
              "#f0f921"
             ]
            ],
            "type": "heatmapgl"
           }
          ],
          "histogram": [
           {
            "marker": {
             "colorbar": {
              "outlinewidth": 0,
              "ticks": ""
             }
            },
            "type": "histogram"
           }
          ],
          "histogram2d": [
           {
            "colorbar": {
             "outlinewidth": 0,
             "ticks": ""
            },
            "colorscale": [
             [
              0,
              "#0d0887"
             ],
             [
              0.1111111111111111,
              "#46039f"
             ],
             [
              0.2222222222222222,
              "#7201a8"
             ],
             [
              0.3333333333333333,
              "#9c179e"
             ],
             [
              0.4444444444444444,
              "#bd3786"
             ],
             [
              0.5555555555555556,
              "#d8576b"
             ],
             [
              0.6666666666666666,
              "#ed7953"
             ],
             [
              0.7777777777777778,
              "#fb9f3a"
             ],
             [
              0.8888888888888888,
              "#fdca26"
             ],
             [
              1,
              "#f0f921"
             ]
            ],
            "type": "histogram2d"
           }
          ],
          "histogram2dcontour": [
           {
            "colorbar": {
             "outlinewidth": 0,
             "ticks": ""
            },
            "colorscale": [
             [
              0,
              "#0d0887"
             ],
             [
              0.1111111111111111,
              "#46039f"
             ],
             [
              0.2222222222222222,
              "#7201a8"
             ],
             [
              0.3333333333333333,
              "#9c179e"
             ],
             [
              0.4444444444444444,
              "#bd3786"
             ],
             [
              0.5555555555555556,
              "#d8576b"
             ],
             [
              0.6666666666666666,
              "#ed7953"
             ],
             [
              0.7777777777777778,
              "#fb9f3a"
             ],
             [
              0.8888888888888888,
              "#fdca26"
             ],
             [
              1,
              "#f0f921"
             ]
            ],
            "type": "histogram2dcontour"
           }
          ],
          "mesh3d": [
           {
            "colorbar": {
             "outlinewidth": 0,
             "ticks": ""
            },
            "type": "mesh3d"
           }
          ],
          "parcoords": [
           {
            "line": {
             "colorbar": {
              "outlinewidth": 0,
              "ticks": ""
             }
            },
            "type": "parcoords"
           }
          ],
          "pie": [
           {
            "automargin": true,
            "type": "pie"
           }
          ],
          "scatter": [
           {
            "marker": {
             "colorbar": {
              "outlinewidth": 0,
              "ticks": ""
             }
            },
            "type": "scatter"
           }
          ],
          "scatter3d": [
           {
            "line": {
             "colorbar": {
              "outlinewidth": 0,
              "ticks": ""
             }
            },
            "marker": {
             "colorbar": {
              "outlinewidth": 0,
              "ticks": ""
             }
            },
            "type": "scatter3d"
           }
          ],
          "scattercarpet": [
           {
            "marker": {
             "colorbar": {
              "outlinewidth": 0,
              "ticks": ""
             }
            },
            "type": "scattercarpet"
           }
          ],
          "scattergeo": [
           {
            "marker": {
             "colorbar": {
              "outlinewidth": 0,
              "ticks": ""
             }
            },
            "type": "scattergeo"
           }
          ],
          "scattergl": [
           {
            "marker": {
             "colorbar": {
              "outlinewidth": 0,
              "ticks": ""
             }
            },
            "type": "scattergl"
           }
          ],
          "scattermapbox": [
           {
            "marker": {
             "colorbar": {
              "outlinewidth": 0,
              "ticks": ""
             }
            },
            "type": "scattermapbox"
           }
          ],
          "scatterpolar": [
           {
            "marker": {
             "colorbar": {
              "outlinewidth": 0,
              "ticks": ""
             }
            },
            "type": "scatterpolar"
           }
          ],
          "scatterpolargl": [
           {
            "marker": {
             "colorbar": {
              "outlinewidth": 0,
              "ticks": ""
             }
            },
            "type": "scatterpolargl"
           }
          ],
          "scatterternary": [
           {
            "marker": {
             "colorbar": {
              "outlinewidth": 0,
              "ticks": ""
             }
            },
            "type": "scatterternary"
           }
          ],
          "surface": [
           {
            "colorbar": {
             "outlinewidth": 0,
             "ticks": ""
            },
            "colorscale": [
             [
              0,
              "#0d0887"
             ],
             [
              0.1111111111111111,
              "#46039f"
             ],
             [
              0.2222222222222222,
              "#7201a8"
             ],
             [
              0.3333333333333333,
              "#9c179e"
             ],
             [
              0.4444444444444444,
              "#bd3786"
             ],
             [
              0.5555555555555556,
              "#d8576b"
             ],
             [
              0.6666666666666666,
              "#ed7953"
             ],
             [
              0.7777777777777778,
              "#fb9f3a"
             ],
             [
              0.8888888888888888,
              "#fdca26"
             ],
             [
              1,
              "#f0f921"
             ]
            ],
            "type": "surface"
           }
          ],
          "table": [
           {
            "cells": {
             "fill": {
              "color": "#EBF0F8"
             },
             "line": {
              "color": "white"
             }
            },
            "header": {
             "fill": {
              "color": "#C8D4E3"
             },
             "line": {
              "color": "white"
             }
            },
            "type": "table"
           }
          ]
         },
         "layout": {
          "annotationdefaults": {
           "arrowcolor": "#2a3f5f",
           "arrowhead": 0,
           "arrowwidth": 1
          },
          "autotypenumbers": "strict",
          "coloraxis": {
           "colorbar": {
            "outlinewidth": 0,
            "ticks": ""
           }
          },
          "colorscale": {
           "diverging": [
            [
             0,
             "#8e0152"
            ],
            [
             0.1,
             "#c51b7d"
            ],
            [
             0.2,
             "#de77ae"
            ],
            [
             0.3,
             "#f1b6da"
            ],
            [
             0.4,
             "#fde0ef"
            ],
            [
             0.5,
             "#f7f7f7"
            ],
            [
             0.6,
             "#e6f5d0"
            ],
            [
             0.7,
             "#b8e186"
            ],
            [
             0.8,
             "#7fbc41"
            ],
            [
             0.9,
             "#4d9221"
            ],
            [
             1,
             "#276419"
            ]
           ],
           "sequential": [
            [
             0,
             "#0d0887"
            ],
            [
             0.1111111111111111,
             "#46039f"
            ],
            [
             0.2222222222222222,
             "#7201a8"
            ],
            [
             0.3333333333333333,
             "#9c179e"
            ],
            [
             0.4444444444444444,
             "#bd3786"
            ],
            [
             0.5555555555555556,
             "#d8576b"
            ],
            [
             0.6666666666666666,
             "#ed7953"
            ],
            [
             0.7777777777777778,
             "#fb9f3a"
            ],
            [
             0.8888888888888888,
             "#fdca26"
            ],
            [
             1,
             "#f0f921"
            ]
           ],
           "sequentialminus": [
            [
             0,
             "#0d0887"
            ],
            [
             0.1111111111111111,
             "#46039f"
            ],
            [
             0.2222222222222222,
             "#7201a8"
            ],
            [
             0.3333333333333333,
             "#9c179e"
            ],
            [
             0.4444444444444444,
             "#bd3786"
            ],
            [
             0.5555555555555556,
             "#d8576b"
            ],
            [
             0.6666666666666666,
             "#ed7953"
            ],
            [
             0.7777777777777778,
             "#fb9f3a"
            ],
            [
             0.8888888888888888,
             "#fdca26"
            ],
            [
             1,
             "#f0f921"
            ]
           ]
          },
          "colorway": [
           "#636efa",
           "#EF553B",
           "#00cc96",
           "#ab63fa",
           "#FFA15A",
           "#19d3f3",
           "#FF6692",
           "#B6E880",
           "#FF97FF",
           "#FECB52"
          ],
          "font": {
           "color": "#2a3f5f"
          },
          "geo": {
           "bgcolor": "white",
           "lakecolor": "white",
           "landcolor": "#E5ECF6",
           "showlakes": true,
           "showland": true,
           "subunitcolor": "white"
          },
          "hoverlabel": {
           "align": "left"
          },
          "hovermode": "closest",
          "mapbox": {
           "style": "light"
          },
          "paper_bgcolor": "white",
          "plot_bgcolor": "#E5ECF6",
          "polar": {
           "angularaxis": {
            "gridcolor": "white",
            "linecolor": "white",
            "ticks": ""
           },
           "bgcolor": "#E5ECF6",
           "radialaxis": {
            "gridcolor": "white",
            "linecolor": "white",
            "ticks": ""
           }
          },
          "scene": {
           "xaxis": {
            "backgroundcolor": "#E5ECF6",
            "gridcolor": "white",
            "gridwidth": 2,
            "linecolor": "white",
            "showbackground": true,
            "ticks": "",
            "zerolinecolor": "white"
           },
           "yaxis": {
            "backgroundcolor": "#E5ECF6",
            "gridcolor": "white",
            "gridwidth": 2,
            "linecolor": "white",
            "showbackground": true,
            "ticks": "",
            "zerolinecolor": "white"
           },
           "zaxis": {
            "backgroundcolor": "#E5ECF6",
            "gridcolor": "white",
            "gridwidth": 2,
            "linecolor": "white",
            "showbackground": true,
            "ticks": "",
            "zerolinecolor": "white"
           }
          },
          "shapedefaults": {
           "line": {
            "color": "#2a3f5f"
           }
          },
          "ternary": {
           "aaxis": {
            "gridcolor": "white",
            "linecolor": "white",
            "ticks": ""
           },
           "baxis": {
            "gridcolor": "white",
            "linecolor": "white",
            "ticks": ""
           },
           "bgcolor": "#E5ECF6",
           "caxis": {
            "gridcolor": "white",
            "linecolor": "white",
            "ticks": ""
           }
          },
          "title": {
           "x": 0.05
          },
          "xaxis": {
           "automargin": true,
           "gridcolor": "white",
           "linecolor": "white",
           "ticks": "",
           "title": {
            "standoff": 15
           },
           "zerolinecolor": "white",
           "zerolinewidth": 2
          },
          "yaxis": {
           "automargin": true,
           "gridcolor": "white",
           "linecolor": "white",
           "ticks": "",
           "title": {
            "standoff": 15
           },
           "zerolinecolor": "white",
           "zerolinewidth": 2
          }
         }
        }
       }
      },
      "text/html": [
       "<div>                            <div id=\"396b28f1-0563-4e38-bc9d-77bbd7768351\" class=\"plotly-graph-div\" style=\"height:525px; width:100%;\"></div>            <script type=\"text/javascript\">                require([\"plotly\"], function(Plotly) {                    window.PLOTLYENV=window.PLOTLYENV || {};                                    if (document.getElementById(\"396b28f1-0563-4e38-bc9d-77bbd7768351\")) {                    Plotly.newPlot(                        \"396b28f1-0563-4e38-bc9d-77bbd7768351\",                        [{\"delta\": {\"increasing\": {\"color\": \"RebeccaPurple\"}, \"reference\": 400}, \"domain\": {\"x\": [0, 1], \"y\": [0, 1]}, \"gauge\": {\"axis\": {\"range\": [null, 500], \"tickcolor\": \"darkblue\", \"tickwidth\": 1}, \"bar\": {\"color\": \"darkblue\"}, \"bgcolor\": \"white\", \"bordercolor\": \"gray\", \"borderwidth\": 2, \"steps\": [{\"color\": \"cyan\", \"range\": [0, 250]}, {\"color\": \"royalblue\", \"range\": [250, 400]}], \"threshold\": {\"line\": {\"color\": \"red\", \"width\": 4}, \"thickness\": 0.75, \"value\": 490}}, \"mode\": \"gauge+number+delta\", \"title\": {\"font\": {\"size\": 24}, \"text\": \"Cr\\u00e9dit score du client\"}, \"type\": \"indicator\", \"value\": 71}],                        {\"font\": {\"color\": \"darkblue\", \"family\": \"Arial\"}, \"paper_bgcolor\": \"white\", \"template\": {\"data\": {\"bar\": [{\"error_x\": {\"color\": \"#2a3f5f\"}, \"error_y\": {\"color\": \"#2a3f5f\"}, \"marker\": {\"line\": {\"color\": \"#E5ECF6\", \"width\": 0.5}}, \"type\": \"bar\"}], \"barpolar\": [{\"marker\": {\"line\": {\"color\": \"#E5ECF6\", \"width\": 0.5}}, \"type\": \"barpolar\"}], \"carpet\": [{\"aaxis\": {\"endlinecolor\": \"#2a3f5f\", \"gridcolor\": \"white\", \"linecolor\": \"white\", \"minorgridcolor\": \"white\", \"startlinecolor\": \"#2a3f5f\"}, \"baxis\": {\"endlinecolor\": \"#2a3f5f\", \"gridcolor\": \"white\", \"linecolor\": \"white\", \"minorgridcolor\": \"white\", \"startlinecolor\": \"#2a3f5f\"}, \"type\": \"carpet\"}], \"choropleth\": [{\"colorbar\": {\"outlinewidth\": 0, \"ticks\": \"\"}, \"type\": \"choropleth\"}], \"contour\": [{\"colorbar\": {\"outlinewidth\": 0, \"ticks\": \"\"}, \"colorscale\": [[0.0, \"#0d0887\"], [0.1111111111111111, \"#46039f\"], [0.2222222222222222, \"#7201a8\"], [0.3333333333333333, \"#9c179e\"], [0.4444444444444444, \"#bd3786\"], [0.5555555555555556, \"#d8576b\"], [0.6666666666666666, \"#ed7953\"], [0.7777777777777778, \"#fb9f3a\"], [0.8888888888888888, \"#fdca26\"], [1.0, \"#f0f921\"]], \"type\": \"contour\"}], \"contourcarpet\": [{\"colorbar\": {\"outlinewidth\": 0, \"ticks\": \"\"}, \"type\": \"contourcarpet\"}], \"heatmap\": [{\"colorbar\": {\"outlinewidth\": 0, \"ticks\": \"\"}, \"colorscale\": [[0.0, \"#0d0887\"], [0.1111111111111111, \"#46039f\"], [0.2222222222222222, \"#7201a8\"], [0.3333333333333333, \"#9c179e\"], [0.4444444444444444, \"#bd3786\"], [0.5555555555555556, \"#d8576b\"], [0.6666666666666666, \"#ed7953\"], [0.7777777777777778, \"#fb9f3a\"], [0.8888888888888888, \"#fdca26\"], [1.0, \"#f0f921\"]], \"type\": \"heatmap\"}], \"heatmapgl\": [{\"colorbar\": {\"outlinewidth\": 0, \"ticks\": \"\"}, \"colorscale\": [[0.0, \"#0d0887\"], [0.1111111111111111, \"#46039f\"], [0.2222222222222222, \"#7201a8\"], [0.3333333333333333, \"#9c179e\"], [0.4444444444444444, \"#bd3786\"], [0.5555555555555556, \"#d8576b\"], [0.6666666666666666, \"#ed7953\"], [0.7777777777777778, \"#fb9f3a\"], [0.8888888888888888, \"#fdca26\"], [1.0, \"#f0f921\"]], \"type\": \"heatmapgl\"}], \"histogram\": [{\"marker\": {\"colorbar\": {\"outlinewidth\": 0, \"ticks\": \"\"}}, \"type\": \"histogram\"}], \"histogram2d\": [{\"colorbar\": {\"outlinewidth\": 0, \"ticks\": \"\"}, \"colorscale\": [[0.0, \"#0d0887\"], [0.1111111111111111, \"#46039f\"], [0.2222222222222222, \"#7201a8\"], [0.3333333333333333, \"#9c179e\"], [0.4444444444444444, \"#bd3786\"], [0.5555555555555556, \"#d8576b\"], [0.6666666666666666, \"#ed7953\"], [0.7777777777777778, \"#fb9f3a\"], [0.8888888888888888, \"#fdca26\"], [1.0, \"#f0f921\"]], \"type\": \"histogram2d\"}], \"histogram2dcontour\": [{\"colorbar\": {\"outlinewidth\": 0, \"ticks\": \"\"}, \"colorscale\": [[0.0, \"#0d0887\"], [0.1111111111111111, \"#46039f\"], [0.2222222222222222, \"#7201a8\"], [0.3333333333333333, \"#9c179e\"], [0.4444444444444444, \"#bd3786\"], [0.5555555555555556, \"#d8576b\"], [0.6666666666666666, \"#ed7953\"], [0.7777777777777778, \"#fb9f3a\"], [0.8888888888888888, \"#fdca26\"], [1.0, \"#f0f921\"]], \"type\": \"histogram2dcontour\"}], \"mesh3d\": [{\"colorbar\": {\"outlinewidth\": 0, \"ticks\": \"\"}, \"type\": \"mesh3d\"}], \"parcoords\": [{\"line\": {\"colorbar\": {\"outlinewidth\": 0, \"ticks\": \"\"}}, \"type\": \"parcoords\"}], \"pie\": [{\"automargin\": true, \"type\": \"pie\"}], \"scatter\": [{\"marker\": {\"colorbar\": {\"outlinewidth\": 0, \"ticks\": \"\"}}, \"type\": \"scatter\"}], \"scatter3d\": [{\"line\": {\"colorbar\": {\"outlinewidth\": 0, \"ticks\": \"\"}}, \"marker\": {\"colorbar\": {\"outlinewidth\": 0, \"ticks\": \"\"}}, \"type\": \"scatter3d\"}], \"scattercarpet\": [{\"marker\": {\"colorbar\": {\"outlinewidth\": 0, \"ticks\": \"\"}}, \"type\": \"scattercarpet\"}], \"scattergeo\": [{\"marker\": {\"colorbar\": {\"outlinewidth\": 0, \"ticks\": \"\"}}, \"type\": \"scattergeo\"}], \"scattergl\": [{\"marker\": {\"colorbar\": {\"outlinewidth\": 0, \"ticks\": \"\"}}, \"type\": \"scattergl\"}], \"scattermapbox\": [{\"marker\": {\"colorbar\": {\"outlinewidth\": 0, \"ticks\": \"\"}}, \"type\": \"scattermapbox\"}], \"scatterpolar\": [{\"marker\": {\"colorbar\": {\"outlinewidth\": 0, \"ticks\": \"\"}}, \"type\": \"scatterpolar\"}], \"scatterpolargl\": [{\"marker\": {\"colorbar\": {\"outlinewidth\": 0, \"ticks\": \"\"}}, \"type\": \"scatterpolargl\"}], \"scatterternary\": [{\"marker\": {\"colorbar\": {\"outlinewidth\": 0, \"ticks\": \"\"}}, \"type\": \"scatterternary\"}], \"surface\": [{\"colorbar\": {\"outlinewidth\": 0, \"ticks\": \"\"}, \"colorscale\": [[0.0, \"#0d0887\"], [0.1111111111111111, \"#46039f\"], [0.2222222222222222, \"#7201a8\"], [0.3333333333333333, \"#9c179e\"], [0.4444444444444444, \"#bd3786\"], [0.5555555555555556, \"#d8576b\"], [0.6666666666666666, \"#ed7953\"], [0.7777777777777778, \"#fb9f3a\"], [0.8888888888888888, \"#fdca26\"], [1.0, \"#f0f921\"]], \"type\": \"surface\"}], \"table\": [{\"cells\": {\"fill\": {\"color\": \"#EBF0F8\"}, \"line\": {\"color\": \"white\"}}, \"header\": {\"fill\": {\"color\": \"#C8D4E3\"}, \"line\": {\"color\": \"white\"}}, \"type\": \"table\"}]}, \"layout\": {\"annotationdefaults\": {\"arrowcolor\": \"#2a3f5f\", \"arrowhead\": 0, \"arrowwidth\": 1}, \"autotypenumbers\": \"strict\", \"coloraxis\": {\"colorbar\": {\"outlinewidth\": 0, \"ticks\": \"\"}}, \"colorscale\": {\"diverging\": [[0, \"#8e0152\"], [0.1, \"#c51b7d\"], [0.2, \"#de77ae\"], [0.3, \"#f1b6da\"], [0.4, \"#fde0ef\"], [0.5, \"#f7f7f7\"], [0.6, \"#e6f5d0\"], [0.7, \"#b8e186\"], [0.8, \"#7fbc41\"], [0.9, \"#4d9221\"], [1, \"#276419\"]], \"sequential\": [[0.0, \"#0d0887\"], [0.1111111111111111, \"#46039f\"], [0.2222222222222222, \"#7201a8\"], [0.3333333333333333, \"#9c179e\"], [0.4444444444444444, \"#bd3786\"], [0.5555555555555556, \"#d8576b\"], [0.6666666666666666, \"#ed7953\"], [0.7777777777777778, \"#fb9f3a\"], [0.8888888888888888, \"#fdca26\"], [1.0, \"#f0f921\"]], \"sequentialminus\": [[0.0, \"#0d0887\"], [0.1111111111111111, \"#46039f\"], [0.2222222222222222, \"#7201a8\"], [0.3333333333333333, \"#9c179e\"], [0.4444444444444444, \"#bd3786\"], [0.5555555555555556, \"#d8576b\"], [0.6666666666666666, \"#ed7953\"], [0.7777777777777778, \"#fb9f3a\"], [0.8888888888888888, \"#fdca26\"], [1.0, \"#f0f921\"]]}, \"colorway\": [\"#636efa\", \"#EF553B\", \"#00cc96\", \"#ab63fa\", \"#FFA15A\", \"#19d3f3\", \"#FF6692\", \"#B6E880\", \"#FF97FF\", \"#FECB52\"], \"font\": {\"color\": \"#2a3f5f\"}, \"geo\": {\"bgcolor\": \"white\", \"lakecolor\": \"white\", \"landcolor\": \"#E5ECF6\", \"showlakes\": true, \"showland\": true, \"subunitcolor\": \"white\"}, \"hoverlabel\": {\"align\": \"left\"}, \"hovermode\": \"closest\", \"mapbox\": {\"style\": \"light\"}, \"paper_bgcolor\": \"white\", \"plot_bgcolor\": \"#E5ECF6\", \"polar\": {\"angularaxis\": {\"gridcolor\": \"white\", \"linecolor\": \"white\", \"ticks\": \"\"}, \"bgcolor\": \"#E5ECF6\", \"radialaxis\": {\"gridcolor\": \"white\", \"linecolor\": \"white\", \"ticks\": \"\"}}, \"scene\": {\"xaxis\": {\"backgroundcolor\": \"#E5ECF6\", \"gridcolor\": \"white\", \"gridwidth\": 2, \"linecolor\": \"white\", \"showbackground\": true, \"ticks\": \"\", \"zerolinecolor\": \"white\"}, \"yaxis\": {\"backgroundcolor\": \"#E5ECF6\", \"gridcolor\": \"white\", \"gridwidth\": 2, \"linecolor\": \"white\", \"showbackground\": true, \"ticks\": \"\", \"zerolinecolor\": \"white\"}, \"zaxis\": {\"backgroundcolor\": \"#E5ECF6\", \"gridcolor\": \"white\", \"gridwidth\": 2, \"linecolor\": \"white\", \"showbackground\": true, \"ticks\": \"\", \"zerolinecolor\": \"white\"}}, \"shapedefaults\": {\"line\": {\"color\": \"#2a3f5f\"}}, \"ternary\": {\"aaxis\": {\"gridcolor\": \"white\", \"linecolor\": \"white\", \"ticks\": \"\"}, \"baxis\": {\"gridcolor\": \"white\", \"linecolor\": \"white\", \"ticks\": \"\"}, \"bgcolor\": \"#E5ECF6\", \"caxis\": {\"gridcolor\": \"white\", \"linecolor\": \"white\", \"ticks\": \"\"}}, \"title\": {\"x\": 0.05}, \"xaxis\": {\"automargin\": true, \"gridcolor\": \"white\", \"linecolor\": \"white\", \"ticks\": \"\", \"title\": {\"standoff\": 15}, \"zerolinecolor\": \"white\", \"zerolinewidth\": 2}, \"yaxis\": {\"automargin\": true, \"gridcolor\": \"white\", \"linecolor\": \"white\", \"ticks\": \"\", \"title\": {\"standoff\": 15}, \"zerolinecolor\": \"white\", \"zerolinewidth\": 2}}}},                        {\"responsive\": true}                    ).then(function(){\n",
       "                            \n",
       "var gd = document.getElementById('396b28f1-0563-4e38-bc9d-77bbd7768351');\n",
       "var x = new MutationObserver(function (mutations, observer) {{\n",
       "        var display = window.getComputedStyle(gd).display;\n",
       "        if (!display || display === 'none') {{\n",
       "            console.log([gd, 'removed!']);\n",
       "            Plotly.purge(gd);\n",
       "            observer.disconnect();\n",
       "        }}\n",
       "}});\n",
       "\n",
       "// Listen for the removal of the full notebook cells\n",
       "var notebookContainer = gd.closest('#notebook-container');\n",
       "if (notebookContainer) {{\n",
       "    x.observe(notebookContainer, {childList: true});\n",
       "}}\n",
       "\n",
       "// Listen for the clearing of the current output cell\n",
       "var outputEl = gd.closest('.output');\n",
       "if (outputEl) {{\n",
       "    x.observe(outputEl, {childList: true});\n",
       "}}\n",
       "\n",
       "                        })                };                });            </script>        </div>"
      ]
     },
     "metadata": {},
     "output_type": "display_data"
    }
   ],
   "source": [
    "fig = go.Figure(go.Indicator(\n",
    "    mode = \"gauge+number+delta\",\n",
    "    # Score du client df_dashboard['SCORE_CLIENT']\n",
    "    value = 71,  \n",
    "    domain = {'x': [0, 1], 'y': [0, 1]},\n",
    "    title = {'text': \"Crédit score du client\", 'font': {'size': 24}},\n",
    "    # Score des 20 voisins df_dashboard['SCORE_20_VOISINS_MEAN']\n",
    "    delta = {'reference': 76,\n",
    "             'increasing': {'color': \"RebeccaPurple\"}},\n",
    "    gauge = {\n",
    "        'axis': {'range': [None, 500], 'tickwidth': 1, 'tickcolor': \"darkblue\"},\n",
    "        'bar': {'color': \"darkblue\"},\n",
    "        'bgcolor': \"white\",\n",
    "        'borderwidth': 2,\n",
    "        'bordercolor': \"gray\",\n",
    "        'steps': [\n",
    "            {'range': [0, 250], 'color': 'cyan'},\n",
    "            {'range': [250, 400], 'color': 'royalblue'}],\n",
    "        'threshold': {\n",
    "            'line': {'color': \"red\", 'width': 4},\n",
    "            'thickness': 0.75,\n",
    "            'value': 490}}))\n",
    "\n",
    "fig.update_layout(paper_bgcolor = \"white\", font = {'color': \"darkblue\", 'family': \"Arial\"})\n",
    "\n",
    "fig.show()"
   ]
  },
  {
   "cell_type": "code",
   "execution_count": null,
   "id": "6cc65575",
   "metadata": {},
   "outputs": [],
   "source": [
    "109458"
   ]
  },
  {
   "cell_type": "code",
   "execution_count": null,
   "id": "e59c6344",
   "metadata": {},
   "outputs": [],
   "source": [
    "77677"
   ]
  },
  {
   "cell_type": "code",
   "execution_count": 106,
   "id": "f279edf5",
   "metadata": {},
   "outputs": [
    {
     "data": {
      "text/plain": [
       "-5452.0"
      ]
     },
     "execution_count": 106,
     "metadata": {},
     "output_type": "execute_result"
    }
   ],
   "source": [
    "train_set.iloc[109458]['DAYS_EMPLOYED']"
   ]
  },
  {
   "cell_type": "code",
   "execution_count": 107,
   "id": "8e757d0e",
   "metadata": {},
   "outputs": [
    {
     "data": {
      "text/plain": [
       "-5108.0"
      ]
     },
     "execution_count": 107,
     "metadata": {},
     "output_type": "execute_result"
    }
   ],
   "source": [
    "train_set.iloc[77677]['DAYS_EMPLOYED']"
   ]
  },
  {
   "cell_type": "code",
   "execution_count": null,
   "id": "fe25b7a9",
   "metadata": {},
   "outputs": [],
   "source": [
    "df_voisin_train['YEAR_EMPLOYED'] = \\\n",
    "    np.trunc(np.abs(df_voisin_train['DAYS_EMPLOYED'] / 365)).astype('int8')"
   ]
  },
  {
   "cell_type": "code",
   "execution_count": 109,
   "id": "ead0f27c",
   "metadata": {},
   "outputs": [
    {
     "data": {
      "text/plain": [
       "14.0"
      ]
     },
     "execution_count": 109,
     "metadata": {},
     "output_type": "execute_result"
    }
   ],
   "source": [
    "np.trunc(np.abs(-5452.0/ 365))"
   ]
  },
  {
   "cell_type": "code",
   "execution_count": null,
   "id": "5550b324",
   "metadata": {},
   "outputs": [],
   "source": []
  },
  {
   "cell_type": "markdown",
   "id": "9945ecea",
   "metadata": {},
   "source": [
    "### <span style='background:PowderBlue'>5.4. </span>"
   ]
  },
  {
   "cell_type": "code",
   "execution_count": null,
   "id": "f7643ed5",
   "metadata": {},
   "outputs": [],
   "source": []
  },
  {
   "cell_type": "code",
   "execution_count": null,
   "id": "a4191679",
   "metadata": {},
   "outputs": [],
   "source": []
  },
  {
   "cell_type": "code",
   "execution_count": null,
   "id": "b28f82ca",
   "metadata": {},
   "outputs": [],
   "source": []
  }
 ],
 "metadata": {
  "kernelspec": {
   "display_name": "Python 3",
   "language": "python",
   "name": "python3"
  },
  "language_info": {
   "codemirror_mode": {
    "name": "ipython",
    "version": 3
   },
   "file_extension": ".py",
   "mimetype": "text/x-python",
   "name": "python",
   "nbconvert_exporter": "python",
   "pygments_lexer": "ipython3",
   "version": "3.8.8"
  }
 },
 "nbformat": 4,
 "nbformat_minor": 5
}
