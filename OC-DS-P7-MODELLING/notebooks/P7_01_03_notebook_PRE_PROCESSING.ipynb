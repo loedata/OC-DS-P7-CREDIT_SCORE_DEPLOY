{
 "cells": [
  {
   "cell_type": "markdown",
   "id": "8918f187",
   "metadata": {},
   "source": [
    "# <span style='color:SteelBlue'>P7 - Implémentez un modèle de scoring</span>"
   ]
  },
  {
   "attachments": {
    "image.png": {
     "image/png": "[encoded data removed]"
    }
   },
   "cell_type": "markdown",
   "id": "7dc22cfe",
   "metadata": {},
   "source": [
    "![image.png](attachment:image.png)"
   ]
  },
  {
   "cell_type": "markdown",
   "id": "a3d2b43d",
   "metadata": {},
   "source": [
    " # <span class='bg-primary'>P7_01_03 - PRE PROCESSING</span>"
   ]
  },
  {
   "cell_type": "markdown",
   "id": "d7932ba7",
   "metadata": {},
   "source": [
    "Ce notebook traite du pré processing des jeux de données :\n",
    "\n",
    "- **bureau.csv**,\n",
    "- **bureau_balance.csv**,\n",
    "- **credit_card_balance.csv**,\n",
    "- **installments_payments.csv**,\n",
    "- **POS_CASH_balance.csv**,\n",
    "- **previous_application.csv**\n",
    "\n",
    "En particulier :\n",
    "\n",
    "- **Nettoyage** :\n",
    "    - **optimisation de la mémoire** en modifiant le type des données. \n",
    "    - correction des **valeurs aberrantes**.\n",
    "    - **imputation** des valeurs manquantes\n",
    "- **Feature engineering** : dans cette section, nous allons commencer par utiliser les connaissances et les connaissances acquises lors de l'analyse exploratoire des données pour obtenir de bons ensembles de variables en utilisant le feature engineering. Il convient de noter que la plupart des varaibles générées sont basées sur la connaissance du domaine et les expérimentations. Sans de bons ensembles de variibles, les algorithmes d'apprentissage automatique ne peuvent pas produire de résultats efficaces. Nous devrons donc trouver des moyens ingénieux de faire de l'ingénierie des caractéristiques pour que le modèle prenne de meilleures décisions. \n",
    "- **Feature selection** : outre la génération de caractéristiques importantes/utiles, il est également essentiel de supprimer les caractéristiques redondantes et bruyantes. Si nous introduisons des déchets/bruits dans notre modèle d'apprentissage automatique, il retournera des déchets/bruits. Nous devons donc trouver de bonnes techniques de sélection des caractéristiques.\n",
    "- **Aggregation** : avec les données principales de Home Crédit Group.\n",
    "\n",
    "***\n",
    "Sources\n",
    "***\n",
    "Les fonctions d'aggrégation ont été reprises du notebook : [Source](https://www.kaggle.com/willkoehrsen/introduction-to-manual-feature-engineering/output) en adaptant la signature pour transmettre le prefix du nom des colonnes et pouvoir passer un dictionnaire des statistiques qu'on souhaite ajouter."
   ]
  },
  {
   "cell_type": "markdown",
   "id": "238ee5c7",
   "metadata": {},
   "source": [
    "## <span style='background:Thistle'>Sommaire du notebook</span> "
   ]
  },
  {
   "cell_type": "code",
   "execution_count": 1,
   "id": "6a41c6b1",
   "metadata": {
    "run_control": {
     "marked": true
    }
   },
   "outputs": [
    {
     "data": {
      "text/html": [
       "<div id=\"my_id_menu_nb\">run previous cell, wait for 2 seconds</div>\n",
       "<script>\n",
       "function repeat_indent_string(n){\n",
       "    var a = \"\" ;\n",
       "    for ( ; n > 0 ; --n)\n",
       "        a += \"    \";\n",
       "    return a;\n",
       "}\n",
       "// look up into all sections and builds an automated menu //\n",
       "var update_menu_string = function(begin, lfirst, llast, sformat, send, keep_item, begin_format, end_format) {\n",
       "    var anchors = document.getElementsByClassName(\"section\");\n",
       "    if (anchors.length == 0) {\n",
       "        anchors = document.getElementsByClassName(\"text_cell_render rendered_html\");\n",
       "    }\n",
       "    var i,t;\n",
       "    var text_menu = begin;\n",
       "    var text_memo = \"<pre>\\nlength:\" + anchors.length + \"\\n\";\n",
       "    var ind = \"\";\n",
       "    var memo_level = 1;\n",
       "    var href;\n",
       "    var tags = [];\n",
       "    var main_item = 0;\n",
       "    var format_open = 0;\n",
       "    for (i = 0; i <= llast; i++)\n",
       "        tags.push(\"h\" + i);\n",
       "\n",
       "    for (i = 0; i < anchors.length; i++) {\n",
       "        text_memo += \"**\" + anchors[i].id + \"--\\n\";\n",
       "\n",
       "        var child = null;\n",
       "        for(t = 0; t < tags.length; t++) {\n",
       "            var r = anchors[i].getElementsByTagName(tags[t]);\n",
       "            if (r.length > 0) {\n",
       "child = r[0];\n",
       "break;\n",
       "            }\n",
       "        }\n",
       "        if (child == null) {\n",
       "            text_memo += \"null\\n\";\n",
       "            continue;\n",
       "        }\n",
       "        if (anchors[i].hasAttribute(\"id\")) {\n",
       "            // when converted in RST\n",
       "            href = anchors[i].id;\n",
       "            text_memo += \"#1-\" + href;\n",
       "            // passer à child suivant (le chercher)\n",
       "        }\n",
       "        else if (child.hasAttribute(\"id\")) {\n",
       "            // in a notebook\n",
       "            href = child.id;\n",
       "            text_memo += \"#2-\" + href;\n",
       "        }\n",
       "        else {\n",
       "            text_memo += \"#3-\" + \"*\" + \"\\n\";\n",
       "            continue;\n",
       "        }\n",
       "        var title = child.textContent;\n",
       "        var level = parseInt(child.tagName.substring(1,2));\n",
       "\n",
       "        text_memo += \"--\" + level + \"?\" + lfirst + \"--\" + title + \"\\n\";\n",
       "\n",
       "        if ((level < lfirst) || (level > llast)) {\n",
       "            continue ;\n",
       "        }\n",
       "        if (title.endsWith('¶')) {\n",
       "            title = title.substring(0,title.length-1).replace(\"<\", \"&lt;\")\n",
       "         .replace(\">\", \"&gt;\").replace(\"&\", \"&amp;\");\n",
       "        }\n",
       "        if (title.length == 0) {\n",
       "            continue;\n",
       "        }\n",
       "\n",
       "        while (level < memo_level) {\n",
       "            text_menu += end_format + \"</ul>\\n\";\n",
       "            format_open -= 1;\n",
       "            memo_level -= 1;\n",
       "        }\n",
       "        if (level == lfirst) {\n",
       "            main_item += 1;\n",
       "        }\n",
       "        if (keep_item != -1 && main_item != keep_item + 1) {\n",
       "            // alert(main_item + \" - \" + level + \" - \" + keep_item);\n",
       "            continue;\n",
       "        }\n",
       "        while (level > memo_level) {\n",
       "            text_menu += \"<ul>\\n\";\n",
       "            memo_level += 1;\n",
       "        }\n",
       "        text_menu += repeat_indent_string(level-2);\n",
       "        text_menu += begin_format + sformat.replace(\"__HREF__\", href).replace(\"__TITLE__\", title);\n",
       "        format_open += 1;\n",
       "    }\n",
       "    while (1 < memo_level) {\n",
       "        text_menu += end_format + \"</ul>\\n\";\n",
       "        memo_level -= 1;\n",
       "        format_open -= 1;\n",
       "    }\n",
       "    text_menu += send;\n",
       "    //text_menu += \"\\n\" + text_memo;\n",
       "\n",
       "    while (format_open > 0) {\n",
       "        text_menu += end_format;\n",
       "        format_open -= 1;\n",
       "    }\n",
       "    return text_menu;\n",
       "};\n",
       "var update_menu = function() {\n",
       "    var sbegin = \"\";\n",
       "    var sformat = '<a href=\"#__HREF__\">__TITLE__</a>';\n",
       "    var send = \"\";\n",
       "    var begin_format = '<li>';\n",
       "    var end_format = '</li>';\n",
       "    var keep_item = -1;\n",
       "    var text_menu = update_menu_string(sbegin, 2, 4, sformat, send, keep_item,\n",
       "       begin_format, end_format);\n",
       "    var menu = document.getElementById(\"my_id_menu_nb\");\n",
       "    menu.innerHTML=text_menu;\n",
       "};\n",
       "window.setTimeout(update_menu,2000);\n",
       "            </script>"
      ],
      "text/plain": [
       "<IPython.core.display.HTML object>"
      ]
     },
     "execution_count": 1,
     "metadata": {},
     "output_type": "execute_result"
    }
   ],
   "source": [
    "from jyquickhelper import add_notebook_menu\n",
    "add_notebook_menu()"
   ]
  },
  {
   "cell_type": "markdown",
   "id": "5240bde1",
   "metadata": {},
   "source": [
    "## <span style='background:Thistle'>1. Introduction</span>\n",
    "\n",
    "*****\n",
    "**Mission**\n",
    "*****\n",
    "**Développer un modèle de scoring de la probabilité de défaut de paiement du client** pour étayer la décision d'accorder ou non un prêt à un client potentiel en s’appuyant sur des sources de données variées (données comportementales, données provenant d'autres institutions financières...).\n",
    "\n",
    "*****\n",
    "**Objectifs**\n",
    "*****\n",
    "- analyser le jeu de données,\n",
    "- Construire **un modèle de scoring** qui donnera une prédiction sur la probabilité de faillite d'un client de façon automatique,\n",
    "- réaliser un **dashboard interactif** permettant aux chargés de clientèles d'expliquer de manière transparente la décision d'octroi ou non de crédit\n",
    "\n",
    "*****\n",
    "**Sources**\n",
    "*****\n",
    "- [Jeu de données](https://www.kaggle.com/c/home-credit-default-risk/data)\n",
    "\n",
    "Le **Kernel Kaggle** utilisé pour l'analyse exploratoire ayant l'EDA le plus de commentaires et effectuant une analyse exploratoire complète sur toutes les fichiers csv mis à notre disposition a été livré par **Rishabh Rao** (Student at -Jaipur, Rajasthan, India).\n",
    "- [Kernel Kaggle Rishabh Rao](https://www.kaggle.com/rishabhrao/home-credit-default-risk-extensive-eda)\n",
    "\n",
    "Ce travail est complété par l'auteur par une présentation sur le site medium.com :\n",
    "[Explications](https://medium.com/thecyphy/home-credit-default-risk-part-1-3bfe3c7ddd7a)\n",
    "\n",
    "Les fonctions python utilisées pour l'EDA sont extraites du [github](https://github.com/rishabhrao1997/Home-Credit-Default-Risk) et stockées dans la librairie *EDA_KERNEL_FONCTIONS.py*."
   ]
  },
  {
   "cell_type": "code",
   "execution_count": 2,
   "id": "b8980f02",
   "metadata": {
    "run_control": {
     "marked": true
    }
   },
   "outputs": [
    {
     "data": {
      "text/html": [
       "        <script type=\"text/javascript\">\n",
       "        window.PlotlyConfig = {MathJaxConfig: 'local'};\n",
       "        if (window.MathJax) {MathJax.Hub.Config({SVG: {font: \"STIX-Web\"}});}\n",
       "        if (typeof require !== 'undefined') {\n",
       "        require.undef(\"plotly\");\n",
       "        requirejs.config({\n",
       "            paths: {\n",
       "                'plotly': ['https://cdn.plot.ly/plotly-latest.min']\n",
       "            }\n",
       "        });\n",
       "        require(['plotly'], function(Plotly) {\n",
       "            window._Plotly = Plotly;\n",
       "        });\n",
       "        }\n",
       "        </script>\n",
       "        "
      ]
     },
     "metadata": {},
     "output_type": "display_data"
    },
    {
     "name": "stdout",
     "output_type": "stream",
     "text": [
      "Version des librairies utilisées :\n",
      "jyquickhelper         : 0.4.220\n",
      "Python                : 3.8.8 (default, Feb 24 2021, 15:54:32) [MSC v.1928 64 bit (AMD64)]\n",
      "NumPy                 : 1.19.5\n",
      "Pandas                : 1.2.4\n",
      "Matplotlib            : 3.3.4\n",
      "Verstack              : 0.3.1\n",
      "Outils dataframe      : 0.0.4\n",
      "Outils visualisation  : 0.0.2\n",
      "Outils pré-processing : 0.0.0\n",
      "EDA KERNEL KAGGLE     : 0.0.0\n",
      "Lancé le           : 2021-07-21T07:56:50.077706\n"
     ]
    }
   ],
   "source": [
    "# Chargement des librairies\n",
    "import datetime\n",
    "import sys\n",
    "import time\n",
    "from datetime import datetime\n",
    "import warnings\n",
    "import jyquickhelper\n",
    "import numpy as np\n",
    "import pandas as pd\n",
    "import os\n",
    "import matplotlib\n",
    "import matplotlib.pyplot as plt\n",
    "# import seaborn as sns\n",
    "import outils_data\n",
    "import outils_visu\n",
    "import outils_preprocessing\n",
    "import eda_kernel_fonctions\n",
    "import verstack\n",
    "from verstack import NaNImputer\n",
    "import pickle\n",
    "# Encodage variables catégorielles\n",
    "from sklearn.preprocessing import LabelEncoder\n",
    "# import phik\n",
    "# Plotly\n",
    "# import plotly\n",
    "# import plotly.express as px\n",
    "# import plotly.graph_objects as go\n",
    "# from plotly.subplots import make_subplots\n",
    "\n",
    "# Warnings\n",
    "warnings.filterwarnings('ignore')\n",
    "# plotly.offline.init_notebook_mode(connected=True)\n",
    "\n",
    "%matplotlib inline\n",
    "# Chargement à chaud des librairies personnelles\n",
    "%load_ext autoreload\n",
    "%autoreload 2\n",
    "# Valide code pep8\n",
    "%load_ext pycodestyle_magic\n",
    "%pycodestyle_on\n",
    "# %pycodestyle_off\n",
    "\n",
    "# Versions\n",
    "print('Version des librairies utilisées :')\n",
    "print('jyquickhelper         : ' + jyquickhelper.__version__)\n",
    "print('Python                : ' + sys.version)\n",
    "print('NumPy                 : ' + np.version.full_version)\n",
    "print('Pandas                : ' + pd.__version__)\n",
    "print('Matplotlib            : ' + matplotlib.__version__)\n",
    "print('Verstack              : ' + verstack.__version__)\n",
    "print('Outils dataframe      : ' + outils_data.__version__)\n",
    "print('Outils visualisation  : ' + outils_visu.__version__)\n",
    "print('Outils pré-processing : ' + outils_preprocessing.__version__)\n",
    "print('EDA KERNEL KAGGLE     : ' + eda_kernel_fonctions.__version__)\n",
    "now = datetime.now().isoformat()\n",
    "print('Lancé le           : ' + now)"
   ]
  },
  {
   "cell_type": "code",
   "execution_count": 3,
   "id": "48b0d62e",
   "metadata": {
    "run_control": {
     "marked": true
    }
   },
   "outputs": [],
   "source": [
    "dico_pd_option = {\n",
    "    'display.max_rows': 400,\n",
    "    'display.max_column': 200,\n",
    "    'display.width': 300,\n",
    "    'display.precision': 4,\n",
    "    'display.max_colwidth': 1000,\n",
    "    'mode.chained_assignment': None\n",
    "}\n",
    "for cle, val in dico_pd_option.items():\n",
    "    pd.set_option(cle, val)"
   ]
  },
  {
   "cell_type": "markdown",
   "id": "09ce152c",
   "metadata": {},
   "source": [
    "## <span style='background:Thistle'>2. Chargement des jeux de données</span>"
   ]
  },
  {
   "cell_type": "code",
   "execution_count": 4,
   "id": "31365cef",
   "metadata": {
    "run_control": {
     "marked": true
    }
   },
   "outputs": [],
   "source": [
    "# Répertoire de stockages des fichiers mis à notre disposition\n",
    "path = '../data/'"
   ]
  },
  {
   "cell_type": "markdown",
   "id": "1d46232a",
   "metadata": {},
   "source": [
    "**Chargement des fichiers**"
   ]
  },
  {
   "cell_type": "code",
   "execution_count": 5,
   "id": "599a905d",
   "metadata": {
    "run_control": {
     "marked": true
    }
   },
   "outputs": [
    {
     "name": "stdout",
     "output_type": "stream",
     "text": [
      "Chargement des jeux de donnees...\n",
      "--------------------------------------------------------------------\n",
      "Fichier application_train.csv chargé -> dataframe : application_train\n",
      "Fichier application_test.csv chargé -> dataframe : application_test\n",
      "Fichier bureau.csv chargé -> dataframe : bureau\n",
      "Fichier bureau_balance.csv chargé -> dataframe : bureau_balance\n",
      "Fichier credit_card_balance.csv chargé -> dataframe : cc_balance\n",
      "Fichier installments_payments.csv chargé -> dataframe : installments_payments\n",
      "Fichier POS_CASH_balance.csv chargé -> dataframe : POS_CASH_balance\n",
      "Fichier HomeCredit_columns_description.csv chargé -> dataframe : HomeCredit_columns_description\n",
      "Fichier previous_application.csv chargé -> dataframe : previous_application\n",
      "--------------------------------------------------------------------\n",
      "Chargement des 9 jeux de donnees terminée en 0:00:28.768848 secondes\n"
     ]
    }
   ],
   "source": [
    "application_train, application_test, bureau, bureau_balance, cc_balance, \\\n",
    "    installments_payments, POS_CASH_balance, previous_application, \\\n",
    "    HomeCredit_columns_description = \\\n",
    "    eda_kernel_fonctions.load_all_tables(path)"
   ]
  },
  {
   "cell_type": "code",
   "execution_count": 6,
   "id": "61386be8",
   "metadata": {
    "run_control": {
     "marked": true
    }
   },
   "outputs": [],
   "source": [
    "# Sauvegarde des dataframes\n",
    "application_train_sav = application_train.copy()\n",
    "application_test_sav = application_test.copy()\n",
    "bureau_sav = bureau.copy()\n",
    "bureau_balance_sav = bureau_balance.copy()\n",
    "cc_balance_sav = cc_balance.copy()\n",
    "installments_payments_sav = installments_payments.copy()\n",
    "POS_CASH_balance_sav = POS_CASH_balance.copy()\n",
    "previous_application_sav = previous_application.copy()"
   ]
  },
  {
   "cell_type": "markdown",
   "id": "c6ad9296",
   "metadata": {},
   "source": [
    "## <span style='background:Thistle'>3. Données du train et du test set</span>"
   ]
  },
  {
   "cell_type": "markdown",
   "id": "5561e6b9",
   "metadata": {},
   "source": [
    "| Fichier | Description |\n",
    "| --- | --- |\n",
    "| <p style='text-align: justify;'>**application_train.csv** <br> **application_test.csv**</p> | <ul style='text-align: justify;'><li>Il s'agit du tableau principal, divisé en deux fichiers pour Train (avec TARGET) et Test (sans TARGET).</li> <li>Données statiques pour toutes les applications.</li><li>Une ligne représente un prêt dans notre échantillon de données.</li></ul> |"
   ]
  },
  {
   "cell_type": "markdown",
   "id": "84e5ff30",
   "metadata": {},
   "source": [
    "### <span style='background:PowderBlue'>3.1. Fichiers application_train.csv</span>"
   ]
  },
  {
   "cell_type": "code",
   "execution_count": 7,
   "id": "b8eba3ce",
   "metadata": {},
   "outputs": [
    {
     "name": "stdout",
     "output_type": "stream",
     "text": [
      "Le jeu de données contient 307511 lignes et 122 variables.\n"
     ]
    }
   ],
   "source": [
    "# Taille : nombre de lignes/colonnes\n",
    "nRow, nVar = application_train.shape\n",
    "print(f'Le jeu de données contient {nRow} lignes et {nVar} variables.')"
   ]
  },
  {
   "cell_type": "code",
   "execution_count": 8,
   "id": "6f59bca9",
   "metadata": {
    "run_control": {
     "marked": false
    }
   },
   "outputs": [],
   "source": [
    "# Variables quantitatives\n",
    "cols_num = application_train.select_dtypes(include=[np.number]).columns \\\n",
    "    .to_list()"
   ]
  },
  {
   "cell_type": "code",
   "execution_count": 9,
   "id": "bd04b1ca",
   "metadata": {
    "run_control": {
     "marked": false
    }
   },
   "outputs": [],
   "source": [
    "# Variables catégorielles\n",
    "cols_cat = application_train.select_dtypes(exclude=[np.number]).columns \\\n",
    "    .to_list()"
   ]
  },
  {
   "cell_type": "markdown",
   "id": "4f5b0ba7",
   "metadata": {},
   "source": [
    "#### <span style='background:Moccasin'>3.1.1. Types des objets</span>"
   ]
  },
  {
   "cell_type": "markdown",
   "id": "4a0310f4",
   "metadata": {},
   "source": [
    "Amélioration de la mémoire en réduisant la taille des objets."
   ]
  },
  {
   "cell_type": "code",
   "execution_count": 10,
   "id": "6bec6914",
   "metadata": {
    "scrolled": true
   },
   "outputs": [
    {
     "name": "stdout",
     "output_type": "stream",
     "text": [
      "-------------------------------------------------------------\n",
      "Type de variable pour chacune des variables\n",
      "\n"
     ]
    },
    {
     "data": {
      "text/plain": [
       "SK_ID_CURR                        int64\n",
       "TARGET                            int64\n",
       "NAME_CONTRACT_TYPE               object\n",
       "CODE_GENDER                      object\n",
       "FLAG_OWN_CAR                     object\n",
       "FLAG_OWN_REALTY                  object\n",
       "CNT_CHILDREN                      int64\n",
       "AMT_INCOME_TOTAL                float64\n",
       "AMT_CREDIT                      float64\n",
       "AMT_ANNUITY                     float64\n",
       "AMT_GOODS_PRICE                 float64\n",
       "NAME_TYPE_SUITE                  object\n",
       "NAME_INCOME_TYPE                 object\n",
       "NAME_EDUCATION_TYPE              object\n",
       "NAME_FAMILY_STATUS               object\n",
       "NAME_HOUSING_TYPE                object\n",
       "REGION_POPULATION_RELATIVE      float64\n",
       "DAYS_BIRTH                        int64\n",
       "DAYS_EMPLOYED                     int64\n",
       "DAYS_REGISTRATION               float64\n",
       "DAYS_ID_PUBLISH                   int64\n",
       "OWN_CAR_AGE                     float64\n",
       "FLAG_MOBIL                        int64\n",
       "FLAG_EMP_PHONE                    int64\n",
       "FLAG_WORK_PHONE                   int64\n",
       "FLAG_CONT_MOBILE                  int64\n",
       "FLAG_PHONE                        int64\n",
       "FLAG_EMAIL                        int64\n",
       "OCCUPATION_TYPE                  object\n",
       "CNT_FAM_MEMBERS                 float64\n",
       "REGION_RATING_CLIENT              int64\n",
       "REGION_RATING_CLIENT_W_CITY       int64\n",
       "WEEKDAY_APPR_PROCESS_START       object\n",
       "HOUR_APPR_PROCESS_START           int64\n",
       "REG_REGION_NOT_LIVE_REGION        int64\n",
       "REG_REGION_NOT_WORK_REGION        int64\n",
       "LIVE_REGION_NOT_WORK_REGION       int64\n",
       "REG_CITY_NOT_LIVE_CITY            int64\n",
       "REG_CITY_NOT_WORK_CITY            int64\n",
       "LIVE_CITY_NOT_WORK_CITY           int64\n",
       "ORGANIZATION_TYPE                object\n",
       "EXT_SOURCE_1                    float64\n",
       "EXT_SOURCE_2                    float64\n",
       "EXT_SOURCE_3                    float64\n",
       "APARTMENTS_AVG                  float64\n",
       "BASEMENTAREA_AVG                float64\n",
       "YEARS_BEGINEXPLUATATION_AVG     float64\n",
       "YEARS_BUILD_AVG                 float64\n",
       "COMMONAREA_AVG                  float64\n",
       "ELEVATORS_AVG                   float64\n",
       "ENTRANCES_AVG                   float64\n",
       "FLOORSMAX_AVG                   float64\n",
       "FLOORSMIN_AVG                   float64\n",
       "LANDAREA_AVG                    float64\n",
       "LIVINGAPARTMENTS_AVG            float64\n",
       "LIVINGAREA_AVG                  float64\n",
       "NONLIVINGAPARTMENTS_AVG         float64\n",
       "NONLIVINGAREA_AVG               float64\n",
       "APARTMENTS_MODE                 float64\n",
       "BASEMENTAREA_MODE               float64\n",
       "YEARS_BEGINEXPLUATATION_MODE    float64\n",
       "YEARS_BUILD_MODE                float64\n",
       "COMMONAREA_MODE                 float64\n",
       "ELEVATORS_MODE                  float64\n",
       "ENTRANCES_MODE                  float64\n",
       "FLOORSMAX_MODE                  float64\n",
       "FLOORSMIN_MODE                  float64\n",
       "LANDAREA_MODE                   float64\n",
       "LIVINGAPARTMENTS_MODE           float64\n",
       "LIVINGAREA_MODE                 float64\n",
       "NONLIVINGAPARTMENTS_MODE        float64\n",
       "NONLIVINGAREA_MODE              float64\n",
       "APARTMENTS_MEDI                 float64\n",
       "BASEMENTAREA_MEDI               float64\n",
       "YEARS_BEGINEXPLUATATION_MEDI    float64\n",
       "YEARS_BUILD_MEDI                float64\n",
       "COMMONAREA_MEDI                 float64\n",
       "ELEVATORS_MEDI                  float64\n",
       "ENTRANCES_MEDI                  float64\n",
       "FLOORSMAX_MEDI                  float64\n",
       "FLOORSMIN_MEDI                  float64\n",
       "LANDAREA_MEDI                   float64\n",
       "LIVINGAPARTMENTS_MEDI           float64\n",
       "LIVINGAREA_MEDI                 float64\n",
       "NONLIVINGAPARTMENTS_MEDI        float64\n",
       "NONLIVINGAREA_MEDI              float64\n",
       "FONDKAPREMONT_MODE               object\n",
       "HOUSETYPE_MODE                   object\n",
       "TOTALAREA_MODE                  float64\n",
       "WALLSMATERIAL_MODE               object\n",
       "EMERGENCYSTATE_MODE              object\n",
       "OBS_30_CNT_SOCIAL_CIRCLE        float64\n",
       "DEF_30_CNT_SOCIAL_CIRCLE        float64\n",
       "OBS_60_CNT_SOCIAL_CIRCLE        float64\n",
       "DEF_60_CNT_SOCIAL_CIRCLE        float64\n",
       "DAYS_LAST_PHONE_CHANGE          float64\n",
       "FLAG_DOCUMENT_2                   int64\n",
       "FLAG_DOCUMENT_3                   int64\n",
       "FLAG_DOCUMENT_4                   int64\n",
       "FLAG_DOCUMENT_5                   int64\n",
       "FLAG_DOCUMENT_6                   int64\n",
       "FLAG_DOCUMENT_7                   int64\n",
       "FLAG_DOCUMENT_8                   int64\n",
       "FLAG_DOCUMENT_9                   int64\n",
       "FLAG_DOCUMENT_10                  int64\n",
       "FLAG_DOCUMENT_11                  int64\n",
       "FLAG_DOCUMENT_12                  int64\n",
       "FLAG_DOCUMENT_13                  int64\n",
       "FLAG_DOCUMENT_14                  int64\n",
       "FLAG_DOCUMENT_15                  int64\n",
       "FLAG_DOCUMENT_16                  int64\n",
       "FLAG_DOCUMENT_17                  int64\n",
       "FLAG_DOCUMENT_18                  int64\n",
       "FLAG_DOCUMENT_19                  int64\n",
       "FLAG_DOCUMENT_20                  int64\n",
       "FLAG_DOCUMENT_21                  int64\n",
       "AMT_REQ_CREDIT_BUREAU_HOUR      float64\n",
       "AMT_REQ_CREDIT_BUREAU_DAY       float64\n",
       "AMT_REQ_CREDIT_BUREAU_WEEK      float64\n",
       "AMT_REQ_CREDIT_BUREAU_MON       float64\n",
       "AMT_REQ_CREDIT_BUREAU_QRT       float64\n",
       "AMT_REQ_CREDIT_BUREAU_YEAR      float64\n",
       "dtype: object"
      ]
     },
     "metadata": {},
     "output_type": "display_data"
    },
    {
     "data": {
      "image/png": "[encoded data removed]",
      "text/plain": [
       "<Figure size 432x288 with 1 Axes>"
      ]
     },
     "metadata": {},
     "output_type": "display_data"
    }
   ],
   "source": [
    "# Types des variables\n",
    "outils_data.get_types_variables(application_train, True, False, True)"
   ]
  },
  {
   "cell_type": "code",
   "execution_count": 11,
   "id": "3a9ee602",
   "metadata": {
    "run_control": {
     "marked": false
    }
   },
   "outputs": [
    {
     "name": "stdout",
     "output_type": "stream",
     "text": [
      "-------------------------------------------------------------------------------\n",
      "Memory usage du dataframe: 286.23 MB\n",
      "Memory usage après optimization: 92.38 MB\n",
      "Diminution de 67.7%\n",
      "-------------------------------------------------------------------------------\n"
     ]
    }
   ],
   "source": [
    "application_train =\\\n",
    "    outils_preprocessing.reduce_mem_usage(application_train, verbose=True)"
   ]
  },
  {
   "cell_type": "code",
   "execution_count": 12,
   "id": "efdc5b6b",
   "metadata": {
    "run_control": {
     "marked": false
    }
   },
   "outputs": [],
   "source": [
    "# Modification à la main : REGION_RATING_CLIENT contient 1, 2 ou 3\n",
    "# ==> object\n",
    "application_train['REGION_RATING_CLIENT'] = \\\n",
    "    application_train['REGION_RATING_CLIENT'].astype('object')\n",
    "# Modification à la main : REGION_RATING_CLIENT_W_CITY contient\n",
    "# ==> 1, 2 ou 3 object\n",
    "application_train['REGION_RATING_CLIENT_W_CITY'] = \\\n",
    "    application_train['REGION_RATING_CLIENT_W_CITY'].astype('object')"
   ]
  },
  {
   "cell_type": "code",
   "execution_count": 13,
   "id": "c51718e4",
   "metadata": {
    "run_control": {
     "marked": false
    }
   },
   "outputs": [],
   "source": [
    "# EMERGENCYSTATE_MODE contient Yes/No ==> transformer en 1/0\n",
    "%pycodestyle_off\n",
    "dico_emergency = {'Yes' : 0,\n",
    "                  'No' : 1,\n",
    "                  np.nan : 0}\n",
    "outils_data.traduire_valeurs_variable(application_train,\n",
    "                                      'EMERGENCYSTATE_MODE', dico_emergency)\n",
    "application_train['EMERGENCYSTATE_MODE'] = \\\n",
    "    application_train['EMERGENCYSTATE_MODE'].astype('int8')\n",
    "%pycodestyle_on"
   ]
  },
  {
   "cell_type": "code",
   "execution_count": 14,
   "id": "8eb71634",
   "metadata": {
    "run_control": {
     "marked": false
    }
   },
   "outputs": [],
   "source": [
    "# FLAG_OWN_CAR contient Y/N ==> transformer en 1/0\n",
    "%pycodestyle_off\n",
    "dico_owncar = {'Y' : 0,\n",
    "               'N' : 1,\n",
    "               np.nan : 0}\n",
    "outils_data.traduire_valeurs_variable(application_train, 'FLAG_OWN_CAR',\n",
    "                                      dico_owncar)\n",
    "application_train['FLAG_OWN_CAR'] = \\\n",
    "    application_train['FLAG_OWN_CAR'].astype('int8')\n",
    "application_train['FLAG_OWN_CAR'].unique()\n",
    "%pycodestyle_on"
   ]
  },
  {
   "cell_type": "code",
   "execution_count": 15,
   "id": "1e504f63",
   "metadata": {
    "run_control": {
     "marked": false
    }
   },
   "outputs": [],
   "source": [
    "# FLAG_OWN_REALTY contient Y/N ==> transformer en 1/0\n",
    "%pycodestyle_off\n",
    "dico_ownreal = {'Y' : 0,\n",
    "                'N' : 1,\n",
    "                np.nan : 0}\n",
    "outils_data.traduire_valeurs_variable(application_train, 'FLAG_OWN_REALTY',\n",
    "                                      dico_ownreal)\n",
    "application_train['FLAG_OWN_REALTY'] = \\\n",
    "    application_train['FLAG_OWN_REALTY'].astype('int8')\n",
    "application_train['FLAG_OWN_REALTY'].unique()\n",
    "%pycodestyle_on"
   ]
  },
  {
   "cell_type": "code",
   "execution_count": 16,
   "id": "f26366e1",
   "metadata": {},
   "outputs": [
    {
     "data": {
      "text/plain": [
       "array([0, 1], dtype=int8)"
      ]
     },
     "execution_count": 16,
     "metadata": {},
     "output_type": "execute_result"
    }
   ],
   "source": [
    "application_train['FLAG_OWN_REALTY'].unique()"
   ]
  },
  {
   "cell_type": "code",
   "execution_count": 17,
   "id": "47071846",
   "metadata": {},
   "outputs": [
    {
     "name": "stdout",
     "output_type": "stream",
     "text": [
      "-------------------------------------------------------------\n",
      "Type de variable pour chacune des variables\n",
      "\n"
     ]
    },
    {
     "data": {
      "text/plain": [
       "SK_ID_CURR                        int32\n",
       "TARGET                             int8\n",
       "NAME_CONTRACT_TYPE               object\n",
       "CODE_GENDER                      object\n",
       "FLAG_OWN_CAR                       int8\n",
       "FLAG_OWN_REALTY                    int8\n",
       "CNT_CHILDREN                       int8\n",
       "AMT_INCOME_TOTAL                float32\n",
       "AMT_CREDIT                      float32\n",
       "AMT_ANNUITY                     float32\n",
       "AMT_GOODS_PRICE                 float32\n",
       "NAME_TYPE_SUITE                  object\n",
       "NAME_INCOME_TYPE                 object\n",
       "NAME_EDUCATION_TYPE              object\n",
       "NAME_FAMILY_STATUS               object\n",
       "NAME_HOUSING_TYPE                object\n",
       "REGION_POPULATION_RELATIVE      float16\n",
       "DAYS_BIRTH                        int16\n",
       "DAYS_EMPLOYED                     int32\n",
       "DAYS_REGISTRATION               float16\n",
       "DAYS_ID_PUBLISH                   int16\n",
       "OWN_CAR_AGE                     float16\n",
       "FLAG_MOBIL                         int8\n",
       "FLAG_EMP_PHONE                     int8\n",
       "FLAG_WORK_PHONE                    int8\n",
       "FLAG_CONT_MOBILE                   int8\n",
       "FLAG_PHONE                         int8\n",
       "FLAG_EMAIL                         int8\n",
       "OCCUPATION_TYPE                  object\n",
       "CNT_FAM_MEMBERS                 float16\n",
       "REGION_RATING_CLIENT             object\n",
       "REGION_RATING_CLIENT_W_CITY      object\n",
       "WEEKDAY_APPR_PROCESS_START       object\n",
       "HOUR_APPR_PROCESS_START            int8\n",
       "REG_REGION_NOT_LIVE_REGION         int8\n",
       "REG_REGION_NOT_WORK_REGION         int8\n",
       "LIVE_REGION_NOT_WORK_REGION        int8\n",
       "REG_CITY_NOT_LIVE_CITY             int8\n",
       "REG_CITY_NOT_WORK_CITY             int8\n",
       "LIVE_CITY_NOT_WORK_CITY            int8\n",
       "ORGANIZATION_TYPE                object\n",
       "EXT_SOURCE_1                    float16\n",
       "EXT_SOURCE_2                    float16\n",
       "EXT_SOURCE_3                    float16\n",
       "APARTMENTS_AVG                  float16\n",
       "BASEMENTAREA_AVG                float16\n",
       "YEARS_BEGINEXPLUATATION_AVG     float16\n",
       "YEARS_BUILD_AVG                 float16\n",
       "COMMONAREA_AVG                  float16\n",
       "ELEVATORS_AVG                   float16\n",
       "ENTRANCES_AVG                   float16\n",
       "FLOORSMAX_AVG                   float16\n",
       "FLOORSMIN_AVG                   float16\n",
       "LANDAREA_AVG                    float16\n",
       "LIVINGAPARTMENTS_AVG            float16\n",
       "LIVINGAREA_AVG                  float16\n",
       "NONLIVINGAPARTMENTS_AVG         float16\n",
       "NONLIVINGAREA_AVG               float16\n",
       "APARTMENTS_MODE                 float16\n",
       "BASEMENTAREA_MODE               float16\n",
       "YEARS_BEGINEXPLUATATION_MODE    float16\n",
       "YEARS_BUILD_MODE                float16\n",
       "COMMONAREA_MODE                 float16\n",
       "ELEVATORS_MODE                  float16\n",
       "ENTRANCES_MODE                  float16\n",
       "FLOORSMAX_MODE                  float16\n",
       "FLOORSMIN_MODE                  float16\n",
       "LANDAREA_MODE                   float16\n",
       "LIVINGAPARTMENTS_MODE           float16\n",
       "LIVINGAREA_MODE                 float16\n",
       "NONLIVINGAPARTMENTS_MODE        float16\n",
       "NONLIVINGAREA_MODE              float16\n",
       "APARTMENTS_MEDI                 float16\n",
       "BASEMENTAREA_MEDI               float16\n",
       "YEARS_BEGINEXPLUATATION_MEDI    float16\n",
       "YEARS_BUILD_MEDI                float16\n",
       "COMMONAREA_MEDI                 float16\n",
       "ELEVATORS_MEDI                  float16\n",
       "ENTRANCES_MEDI                  float16\n",
       "FLOORSMAX_MEDI                  float16\n",
       "FLOORSMIN_MEDI                  float16\n",
       "LANDAREA_MEDI                   float16\n",
       "LIVINGAPARTMENTS_MEDI           float16\n",
       "LIVINGAREA_MEDI                 float16\n",
       "NONLIVINGAPARTMENTS_MEDI        float16\n",
       "NONLIVINGAREA_MEDI              float16\n",
       "FONDKAPREMONT_MODE               object\n",
       "HOUSETYPE_MODE                   object\n",
       "TOTALAREA_MODE                  float16\n",
       "WALLSMATERIAL_MODE               object\n",
       "EMERGENCYSTATE_MODE                int8\n",
       "OBS_30_CNT_SOCIAL_CIRCLE        float16\n",
       "DEF_30_CNT_SOCIAL_CIRCLE        float16\n",
       "OBS_60_CNT_SOCIAL_CIRCLE        float16\n",
       "DEF_60_CNT_SOCIAL_CIRCLE        float16\n",
       "DAYS_LAST_PHONE_CHANGE          float16\n",
       "FLAG_DOCUMENT_2                    int8\n",
       "FLAG_DOCUMENT_3                    int8\n",
       "FLAG_DOCUMENT_4                    int8\n",
       "FLAG_DOCUMENT_5                    int8\n",
       "FLAG_DOCUMENT_6                    int8\n",
       "FLAG_DOCUMENT_7                    int8\n",
       "FLAG_DOCUMENT_8                    int8\n",
       "FLAG_DOCUMENT_9                    int8\n",
       "FLAG_DOCUMENT_10                   int8\n",
       "FLAG_DOCUMENT_11                   int8\n",
       "FLAG_DOCUMENT_12                   int8\n",
       "FLAG_DOCUMENT_13                   int8\n",
       "FLAG_DOCUMENT_14                   int8\n",
       "FLAG_DOCUMENT_15                   int8\n",
       "FLAG_DOCUMENT_16                   int8\n",
       "FLAG_DOCUMENT_17                   int8\n",
       "FLAG_DOCUMENT_18                   int8\n",
       "FLAG_DOCUMENT_19                   int8\n",
       "FLAG_DOCUMENT_20                   int8\n",
       "FLAG_DOCUMENT_21                   int8\n",
       "AMT_REQ_CREDIT_BUREAU_HOUR      float16\n",
       "AMT_REQ_CREDIT_BUREAU_DAY       float16\n",
       "AMT_REQ_CREDIT_BUREAU_WEEK      float16\n",
       "AMT_REQ_CREDIT_BUREAU_MON       float16\n",
       "AMT_REQ_CREDIT_BUREAU_QRT       float16\n",
       "AMT_REQ_CREDIT_BUREAU_YEAR      float16\n",
       "dtype: object"
      ]
     },
     "metadata": {},
     "output_type": "display_data"
    },
    {
     "data": {
      "image/png": "[encoded data removed]",
      "text/plain": [
       "<Figure size 432x288 with 1 Axes>"
      ]
     },
     "metadata": {},
     "output_type": "display_data"
    }
   ],
   "source": [
    "# Types des variables\n",
    "outils_data.get_types_variables(application_train, True, False, True)"
   ]
  },
  {
   "cell_type": "markdown",
   "id": "8857e737",
   "metadata": {},
   "source": [
    "#### <span style='background:Moccasin'>3.1.2. Valeurs aberrantes</span>"
   ]
  },
  {
   "cell_type": "markdown",
   "id": "baa89c55",
   "metadata": {},
   "source": [
    "Correction des valeurs aberrantes détectées lors de l'EDA."
   ]
  },
  {
   "cell_type": "markdown",
   "id": "91ae95a0",
   "metadata": {},
   "source": [
    "**DAYS_EMPLOYED**"
   ]
  },
  {
   "cell_type": "markdown",
   "id": "babbca1f",
   "metadata": {},
   "source": [
    "A partir du percentile 90, la valeur est 365243 jours donc 1000 ans !"
   ]
  },
  {
   "cell_type": "code",
   "execution_count": 18,
   "id": "ac76a5e5",
   "metadata": {
    "run_control": {
     "marked": false
    }
   },
   "outputs": [
    {
     "name": "stdout",
     "output_type": "stream",
     "text": [
      "Nombre d'erreurs DAYS_EMPLOYED : 55374 (18.01%)\n"
     ]
    }
   ],
   "source": [
    "# Nombre de ligne erronées\n",
    "nb_err = \\\n",
    "    application_train['DAYS_EMPLOYED'][application_train['DAYS_EMPLOYED']\n",
    "                                       == 365243].count()\n",
    "pourc_err = round((nb_err*100)/application_train.shape[0], 2)\n",
    "print(f'Nombre d\\'erreurs DAYS_EMPLOYED : {nb_err} ({pourc_err}%)')"
   ]
  },
  {
   "cell_type": "code",
   "execution_count": 19,
   "id": "2740fdd3",
   "metadata": {
    "run_control": {
     "marked": false
    }
   },
   "outputs": [],
   "source": [
    "# Correction\n",
    "application_train['DAYS_EMPLOYED'][application_train['DAYS_EMPLOYED']\n",
    "                                   == 365243] = np.nan"
   ]
  },
  {
   "cell_type": "code",
   "execution_count": 20,
   "id": "412a3729",
   "metadata": {},
   "outputs": [],
   "source": [
    "# TODO : POURQUOI 30?\n",
    "# OBS Columns have an erroneous value, we'll remove those values\n",
    "# application_train['OBS_30_CNT_SOCIAL_CIRCLE']\n",
    "#  [application_train['OBS_30_CNT_SOCIAL_CIRCLE'] > 30] == np.nan\n",
    "# application_train['OBS_60_CNT_SOCIAL_CIRCLE']\n",
    "# [application_train['OBS_60_CNT_SOCIAL_CIRCLE'] > 30] == np.nan"
   ]
  },
  {
   "cell_type": "markdown",
   "id": "20366316",
   "metadata": {},
   "source": [
    "#### <span style='background:Moccasin'>3.1.3. Comparaison variables catégorielles du train set et du test set</span>"
   ]
  },
  {
   "cell_type": "code",
   "execution_count": 21,
   "id": "fc5141b6",
   "metadata": {
    "run_control": {
     "marked": false
    }
   },
   "outputs": [
    {
     "name": "stdout",
     "output_type": "stream",
     "text": [
      "Variable CODE_GENDER - catégories différentes : ['XNA']\n",
      "Variable FLAG_OWN_CAR - catégories différentes : [1, 0]\n",
      "Variable FLAG_OWN_REALTY - catégories différentes : [0, 1]\n",
      "Variable NAME_TYPE_SUITE - catégories différentes : [nan]\n",
      "Variable NAME_INCOME_TYPE - catégories différentes : ['Maternity leave']\n",
      "Variable NAME_FAMILY_STATUS - catégories différentes : ['Unknown']\n",
      "Variable OCCUPATION_TYPE - catégories différentes : [nan]\n",
      "Variable FONDKAPREMONT_MODE - catégories différentes : [nan]\n",
      "Variable HOUSETYPE_MODE - catégories différentes : [nan]\n",
      "Variable WALLSMATERIAL_MODE - catégories différentes : [nan]\n",
      "Variable EMERGENCYSTATE_MODE - catégories différentes : [1, 0]\n"
     ]
    }
   ],
   "source": [
    "%pycodestyle_off\n",
    "for var in cols_cat :\n",
    "    var_train = application_train[var].unique()\n",
    "    var_test = application_test[var].unique()\n",
    "    diff = [val for val in var_train if val not in var_test]\n",
    "    if len(diff) > 0 and diff != 'nan':\n",
    "        print(f'Variable {var} - catégories différentes : {diff}')\n",
    "%pycodestyle_on        "
   ]
  },
  {
   "cell_type": "markdown",
   "id": "513f39cb",
   "metadata": {},
   "source": [
    "**CODE_GENDER**"
   ]
  },
  {
   "cell_type": "code",
   "execution_count": 22,
   "id": "97ed4088",
   "metadata": {},
   "outputs": [
    {
     "data": {
      "text/plain": [
       "4"
      ]
     },
     "execution_count": 22,
     "metadata": {},
     "output_type": "execute_result"
    }
   ],
   "source": [
    "# Nombre de lignes ayant la valeur 'XNA' ?\n",
    "application_train[application_train['CODE_GENDER'] ==\n",
    "                  'XNA']['CODE_GENDER'].count()"
   ]
  },
  {
   "cell_type": "code",
   "execution_count": 23,
   "id": "57718d3a",
   "metadata": {
    "run_control": {
     "marked": false
    }
   },
   "outputs": [],
   "source": [
    "# Correction : difficile d'imputer le sexe par le mode de cette catégorie\n",
    "# Comme il n'y a que 4 clients avec un sexe non renseigné, on supprime ces\n",
    "# valeurs\n",
    "application_train = \\\n",
    "    application_train[application_train['CODE_GENDER'] != 'XNA']"
   ]
  },
  {
   "cell_type": "markdown",
   "id": "7638a82c",
   "metadata": {},
   "source": [
    "**NAME_INCOME_TYPE**"
   ]
  },
  {
   "cell_type": "code",
   "execution_count": 24,
   "id": "f4f1278f",
   "metadata": {},
   "outputs": [
    {
     "data": {
      "text/plain": [
       "5"
      ]
     },
     "execution_count": 24,
     "metadata": {},
     "output_type": "execute_result"
    }
   ],
   "source": [
    "# Nombre de lignes ayant la valeur 'XNA' ?\n",
    "application_train[application_train['NAME_INCOME_TYPE'] ==\n",
    "                  'Maternity leave']['NAME_INCOME_TYPE'].count()"
   ]
  },
  {
   "cell_type": "code",
   "execution_count": 25,
   "id": "d73f1b56",
   "metadata": {
    "run_control": {
     "marked": false
    }
   },
   "outputs": [
    {
     "data": {
      "text/plain": [
       "0"
      ]
     },
     "execution_count": 25,
     "metadata": {},
     "output_type": "execute_result"
    }
   ],
   "source": [
    "# Correction : remplacer 'Maternity leave' par np.nan\n",
    "application_train['NAME_INCOME_TYPE'] = \\\n",
    "    [row if row != 'Maternity leave' else np.nan for row in\n",
    "     application_train['NAME_INCOME_TYPE']]\n",
    "# Vérification\n",
    "application_train[application_train['NAME_INCOME_TYPE'] ==\n",
    "                  'Maternity leave']['NAME_INCOME_TYPE'].count()"
   ]
  },
  {
   "cell_type": "markdown",
   "id": "9f4cf364",
   "metadata": {},
   "source": [
    "**NAME_FAMILY_STATUS**"
   ]
  },
  {
   "cell_type": "code",
   "execution_count": 26,
   "id": "6a0556a4",
   "metadata": {},
   "outputs": [
    {
     "data": {
      "text/plain": [
       "2"
      ]
     },
     "execution_count": 26,
     "metadata": {},
     "output_type": "execute_result"
    }
   ],
   "source": [
    "# Nombre de lignes ayant la valeur 'Maternity leave' ?\n",
    "application_train[application_train['NAME_FAMILY_STATUS'] ==\n",
    "                  'Unknown']['NAME_FAMILY_STATUS'].count()"
   ]
  },
  {
   "cell_type": "code",
   "execution_count": 27,
   "id": "0abb2290",
   "metadata": {
    "run_control": {
     "marked": false
    }
   },
   "outputs": [
    {
     "data": {
      "text/plain": [
       "0"
      ]
     },
     "execution_count": 27,
     "metadata": {},
     "output_type": "execute_result"
    }
   ],
   "source": [
    "# Correction : remplacer 'Unknown' par np.nan\n",
    "application_train['NAME_FAMILY_STATUS'] = \\\n",
    "    [row if row != 'Unknown' else np.nan for row in\n",
    "     application_train['NAME_FAMILY_STATUS']]\n",
    "# Vérification\n",
    "application_train[application_train['NAME_FAMILY_STATUS'] ==\n",
    "                  'Unknown']['NAME_FAMILY_STATUS'].count()"
   ]
  },
  {
   "cell_type": "markdown",
   "id": "95b239bd",
   "metadata": {},
   "source": [
    "#### <span style='background:Moccasin'>3.1.4. Valeurs manquantes</span>"
   ]
  },
  {
   "cell_type": "code",
   "execution_count": 28,
   "id": "152ebf07",
   "metadata": {
    "run_control": {
     "marked": false
    },
    "scrolled": true
   },
   "outputs": [
    {
     "name": "stdout",
     "output_type": "stream",
     "text": [
      "Valeurs manquantes : 9062014 NaN pour 37515854 données (24.16 %)\n",
      "-------------------------------------------------------------\n",
      "Nombre et pourcentage de valeurs manquantes par variable\n",
      "\n"
     ]
    },
    {
     "data": {
      "text/html": [
       "<style  type=\"text/css\" >\n",
       "#T_0ab1f_row0_col0,#T_0ab1f_row0_col1,#T_0ab1f_row1_col0,#T_0ab1f_row1_col1,#T_0ab1f_row2_col0,#T_0ab1f_row2_col1{\n",
       "            background-color:  #800000;\n",
       "            color:  #f1f1f1;\n",
       "        }#T_0ab1f_row3_col0,#T_0ab1f_row3_col1,#T_0ab1f_row4_col0,#T_0ab1f_row4_col1,#T_0ab1f_row5_col0,#T_0ab1f_row5_col1{\n",
       "            background-color:  #820000;\n",
       "            color:  #f1f1f1;\n",
       "        }#T_0ab1f_row6_col0,#T_0ab1f_row6_col1,#T_0ab1f_row7_col0,#T_0ab1f_row7_col1,#T_0ab1f_row8_col0,#T_0ab1f_row8_col1,#T_0ab1f_row9_col0,#T_0ab1f_row9_col1{\n",
       "            background-color:  #8a0000;\n",
       "            color:  #f1f1f1;\n",
       "        }#T_0ab1f_row10_col0,#T_0ab1f_row10_col1,#T_0ab1f_row11_col0,#T_0ab1f_row11_col1,#T_0ab1f_row12_col0,#T_0ab1f_row12_col1{\n",
       "            background-color:  #8e0000;\n",
       "            color:  #f1f1f1;\n",
       "        }#T_0ab1f_row13_col0,#T_0ab1f_row13_col1,#T_0ab1f_row14_col0,#T_0ab1f_row14_col1,#T_0ab1f_row15_col0,#T_0ab1f_row15_col1{\n",
       "            background-color:  #980000;\n",
       "            color:  #f1f1f1;\n",
       "        }#T_0ab1f_row16_col0,#T_0ab1f_row16_col1{\n",
       "            background-color:  #9c0000;\n",
       "            color:  #f1f1f1;\n",
       "        }#T_0ab1f_row17_col0,#T_0ab1f_row17_col1,#T_0ab1f_row18_col0,#T_0ab1f_row18_col1,#T_0ab1f_row19_col0,#T_0ab1f_row19_col1{\n",
       "            background-color:  #cc0000;\n",
       "            color:  #f1f1f1;\n",
       "        }#T_0ab1f_row20_col0,#T_0ab1f_row20_col1,#T_0ab1f_row21_col0,#T_0ab1f_row21_col1,#T_0ab1f_row22_col0,#T_0ab1f_row22_col1{\n",
       "            background-color:  #d20000;\n",
       "            color:  #f1f1f1;\n",
       "        }#T_0ab1f_row23_col0,#T_0ab1f_row23_col1{\n",
       "            background-color:  #e20000;\n",
       "            color:  #f1f1f1;\n",
       "        }#T_0ab1f_row24_col0,#T_0ab1f_row24_col1,#T_0ab1f_row25_col0,#T_0ab1f_row25_col1,#T_0ab1f_row26_col0,#T_0ab1f_row26_col1{\n",
       "            background-color:  #ea0000;\n",
       "            color:  #f1f1f1;\n",
       "        }#T_0ab1f_row27_col0,#T_0ab1f_row27_col1,#T_0ab1f_row28_col0,#T_0ab1f_row28_col1,#T_0ab1f_row29_col0,#T_0ab1f_row29_col1{\n",
       "            background-color:  #f80000;\n",
       "            color:  #f1f1f1;\n",
       "        }#T_0ab1f_row30_col0,#T_0ab1f_row30_col1{\n",
       "            background-color:  #ff1515;\n",
       "            color:  #f1f1f1;\n",
       "        }#T_0ab1f_row31_col0,#T_0ab1f_row31_col1,#T_0ab1f_row32_col0,#T_0ab1f_row32_col1,#T_0ab1f_row33_col0,#T_0ab1f_row33_col1{\n",
       "            background-color:  #ff1919;\n",
       "            color:  #f1f1f1;\n",
       "        }#T_0ab1f_row34_col0,#T_0ab1f_row34_col1,#T_0ab1f_row35_col0,#T_0ab1f_row35_col1,#T_0ab1f_row36_col0,#T_0ab1f_row36_col1{\n",
       "            background-color:  #ff1d1d;\n",
       "            color:  #f1f1f1;\n",
       "        }#T_0ab1f_row37_col0,#T_0ab1f_row37_col1,#T_0ab1f_row38_col0,#T_0ab1f_row38_col1,#T_0ab1f_row39_col0,#T_0ab1f_row39_col1,#T_0ab1f_row40_col0,#T_0ab1f_row40_col1{\n",
       "            background-color:  #ff2121;\n",
       "            color:  #f1f1f1;\n",
       "        }#T_0ab1f_row41_col0,#T_0ab1f_row41_col1,#T_0ab1f_row42_col0,#T_0ab1f_row42_col1,#T_0ab1f_row43_col0,#T_0ab1f_row43_col1{\n",
       "            background-color:  #ff2525;\n",
       "            color:  #f1f1f1;\n",
       "        }#T_0ab1f_row44_col0,#T_0ab1f_row44_col1,#T_0ab1f_row45_col0,#T_0ab1f_row45_col1,#T_0ab1f_row46_col0,#T_0ab1f_row46_col1{\n",
       "            background-color:  #ff3535;\n",
       "            color:  #f1f1f1;\n",
       "        }#T_0ab1f_row47_col0,#T_0ab1f_row47_col1{\n",
       "            background-color:  #ff3d3d;\n",
       "            color:  #f1f1f1;\n",
       "        }#T_0ab1f_row48_col0,#T_0ab1f_row48_col1{\n",
       "            background-color:  #c9c9ff;\n",
       "            color:  #000000;\n",
       "        }#T_0ab1f_row49_col0,#T_0ab1f_row49_col1{\n",
       "            background-color:  #2121ff;\n",
       "            color:  #f1f1f1;\n",
       "        }#T_0ab1f_row50_col0,#T_0ab1f_row50_col1{\n",
       "            background-color:  #0505ff;\n",
       "            color:  #f1f1f1;\n",
       "        }#T_0ab1f_row51_col0,#T_0ab1f_row51_col1,#T_0ab1f_row52_col0,#T_0ab1f_row52_col1,#T_0ab1f_row53_col0,#T_0ab1f_row53_col1,#T_0ab1f_row54_col0,#T_0ab1f_row54_col1,#T_0ab1f_row55_col0,#T_0ab1f_row55_col1,#T_0ab1f_row56_col0,#T_0ab1f_row56_col1{\n",
       "            background-color:  #0000d6;\n",
       "            color:  #f1f1f1;\n",
       "        }#T_0ab1f_row57_col0,#T_0ab1f_row57_col1,#T_0ab1f_row58_col0,#T_0ab1f_row58_col1,#T_0ab1f_row59_col0,#T_0ab1f_row59_col1,#T_0ab1f_row60_col0,#T_0ab1f_row60_col1,#T_0ab1f_row61_col0,#T_0ab1f_row61_col1{\n",
       "            background-color:  #00004f;\n",
       "            color:  #f1f1f1;\n",
       "        }#T_0ab1f_row62_col0,#T_0ab1f_row62_col1,#T_0ab1f_row63_col0,#T_0ab1f_row63_col1,#T_0ab1f_row64_col0,#T_0ab1f_row64_col1,#T_0ab1f_row65_col0,#T_0ab1f_row65_col1,#T_0ab1f_row66_col0,#T_0ab1f_row66_col1,#T_0ab1f_row67_col0,#T_0ab1f_row67_col1,#T_0ab1f_row68_col0,#T_0ab1f_row68_col1{\n",
       "            background-color:  #00004c;\n",
       "            color:  #f1f1f1;\n",
       "        }</style><table id=\"T_0ab1f_\" ><thead>    <tr>        <th class=\"blank level0\" ></th>        <th class=\"col_heading level0 col0\" >Nombres de valeurs manquantes</th>        <th class=\"col_heading level0 col1\" >% de valeurs manquantes</th>    </tr></thead><tbody>\n",
       "                <tr>\n",
       "                        <th id=\"T_0ab1f_level0_row0\" class=\"row_heading level0 row0\" >COMMONAREA_AVG</th>\n",
       "                        <td id=\"T_0ab1f_row0_col0\" class=\"data row0 col0\" >214862</td>\n",
       "                        <td id=\"T_0ab1f_row0_col1\" class=\"data row0 col1\" >69.8700</td>\n",
       "            </tr>\n",
       "            <tr>\n",
       "                        <th id=\"T_0ab1f_level0_row1\" class=\"row_heading level0 row1\" >COMMONAREA_MODE</th>\n",
       "                        <td id=\"T_0ab1f_row1_col0\" class=\"data row1 col0\" >214862</td>\n",
       "                        <td id=\"T_0ab1f_row1_col1\" class=\"data row1 col1\" >69.8700</td>\n",
       "            </tr>\n",
       "            <tr>\n",
       "                        <th id=\"T_0ab1f_level0_row2\" class=\"row_heading level0 row2\" >COMMONAREA_MEDI</th>\n",
       "                        <td id=\"T_0ab1f_row2_col0\" class=\"data row2 col0\" >214862</td>\n",
       "                        <td id=\"T_0ab1f_row2_col1\" class=\"data row2 col1\" >69.8700</td>\n",
       "            </tr>\n",
       "            <tr>\n",
       "                        <th id=\"T_0ab1f_level0_row3\" class=\"row_heading level0 row3\" >NONLIVINGAPARTMENTS_MODE</th>\n",
       "                        <td id=\"T_0ab1f_row3_col0\" class=\"data row3 col0\" >213512</td>\n",
       "                        <td id=\"T_0ab1f_row3_col1\" class=\"data row3 col1\" >69.4300</td>\n",
       "            </tr>\n",
       "            <tr>\n",
       "                        <th id=\"T_0ab1f_level0_row4\" class=\"row_heading level0 row4\" >NONLIVINGAPARTMENTS_MEDI</th>\n",
       "                        <td id=\"T_0ab1f_row4_col0\" class=\"data row4 col0\" >213512</td>\n",
       "                        <td id=\"T_0ab1f_row4_col1\" class=\"data row4 col1\" >69.4300</td>\n",
       "            </tr>\n",
       "            <tr>\n",
       "                        <th id=\"T_0ab1f_level0_row5\" class=\"row_heading level0 row5\" >NONLIVINGAPARTMENTS_AVG</th>\n",
       "                        <td id=\"T_0ab1f_row5_col0\" class=\"data row5 col0\" >213512</td>\n",
       "                        <td id=\"T_0ab1f_row5_col1\" class=\"data row5 col1\" >69.4300</td>\n",
       "            </tr>\n",
       "            <tr>\n",
       "                        <th id=\"T_0ab1f_level0_row6\" class=\"row_heading level0 row6\" >FONDKAPREMONT_MODE</th>\n",
       "                        <td id=\"T_0ab1f_row6_col0\" class=\"data row6 col0\" >210293</td>\n",
       "                        <td id=\"T_0ab1f_row6_col1\" class=\"data row6 col1\" >68.3900</td>\n",
       "            </tr>\n",
       "            <tr>\n",
       "                        <th id=\"T_0ab1f_level0_row7\" class=\"row_heading level0 row7\" >LIVINGAPARTMENTS_MODE</th>\n",
       "                        <td id=\"T_0ab1f_row7_col0\" class=\"data row7 col0\" >210197</td>\n",
       "                        <td id=\"T_0ab1f_row7_col1\" class=\"data row7 col1\" >68.3600</td>\n",
       "            </tr>\n",
       "            <tr>\n",
       "                        <th id=\"T_0ab1f_level0_row8\" class=\"row_heading level0 row8\" >LIVINGAPARTMENTS_MEDI</th>\n",
       "                        <td id=\"T_0ab1f_row8_col0\" class=\"data row8 col0\" >210197</td>\n",
       "                        <td id=\"T_0ab1f_row8_col1\" class=\"data row8 col1\" >68.3600</td>\n",
       "            </tr>\n",
       "            <tr>\n",
       "                        <th id=\"T_0ab1f_level0_row9\" class=\"row_heading level0 row9\" >LIVINGAPARTMENTS_AVG</th>\n",
       "                        <td id=\"T_0ab1f_row9_col0\" class=\"data row9 col0\" >210197</td>\n",
       "                        <td id=\"T_0ab1f_row9_col1\" class=\"data row9 col1\" >68.3600</td>\n",
       "            </tr>\n",
       "            <tr>\n",
       "                        <th id=\"T_0ab1f_level0_row10\" class=\"row_heading level0 row10\" >FLOORSMIN_MODE</th>\n",
       "                        <td id=\"T_0ab1f_row10_col0\" class=\"data row10 col0\" >208640</td>\n",
       "                        <td id=\"T_0ab1f_row10_col1\" class=\"data row10 col1\" >67.8500</td>\n",
       "            </tr>\n",
       "            <tr>\n",
       "                        <th id=\"T_0ab1f_level0_row11\" class=\"row_heading level0 row11\" >FLOORSMIN_AVG</th>\n",
       "                        <td id=\"T_0ab1f_row11_col0\" class=\"data row11 col0\" >208640</td>\n",
       "                        <td id=\"T_0ab1f_row11_col1\" class=\"data row11 col1\" >67.8500</td>\n",
       "            </tr>\n",
       "            <tr>\n",
       "                        <th id=\"T_0ab1f_level0_row12\" class=\"row_heading level0 row12\" >FLOORSMIN_MEDI</th>\n",
       "                        <td id=\"T_0ab1f_row12_col0\" class=\"data row12 col0\" >208640</td>\n",
       "                        <td id=\"T_0ab1f_row12_col1\" class=\"data row12 col1\" >67.8500</td>\n",
       "            </tr>\n",
       "            <tr>\n",
       "                        <th id=\"T_0ab1f_level0_row13\" class=\"row_heading level0 row13\" >YEARS_BUILD_MODE</th>\n",
       "                        <td id=\"T_0ab1f_row13_col0\" class=\"data row13 col0\" >204486</td>\n",
       "                        <td id=\"T_0ab1f_row13_col1\" class=\"data row13 col1\" >66.5000</td>\n",
       "            </tr>\n",
       "            <tr>\n",
       "                        <th id=\"T_0ab1f_level0_row14\" class=\"row_heading level0 row14\" >YEARS_BUILD_AVG</th>\n",
       "                        <td id=\"T_0ab1f_row14_col0\" class=\"data row14 col0\" >204486</td>\n",
       "                        <td id=\"T_0ab1f_row14_col1\" class=\"data row14 col1\" >66.5000</td>\n",
       "            </tr>\n",
       "            <tr>\n",
       "                        <th id=\"T_0ab1f_level0_row15\" class=\"row_heading level0 row15\" >YEARS_BUILD_MEDI</th>\n",
       "                        <td id=\"T_0ab1f_row15_col0\" class=\"data row15 col0\" >204486</td>\n",
       "                        <td id=\"T_0ab1f_row15_col1\" class=\"data row15 col1\" >66.5000</td>\n",
       "            </tr>\n",
       "            <tr>\n",
       "                        <th id=\"T_0ab1f_level0_row16\" class=\"row_heading level0 row16\" >OWN_CAR_AGE</th>\n",
       "                        <td id=\"T_0ab1f_row16_col0\" class=\"data row16 col0\" >202927</td>\n",
       "                        <td id=\"T_0ab1f_row16_col1\" class=\"data row16 col1\" >65.9900</td>\n",
       "            </tr>\n",
       "            <tr>\n",
       "                        <th id=\"T_0ab1f_level0_row17\" class=\"row_heading level0 row17\" >LANDAREA_MEDI</th>\n",
       "                        <td id=\"T_0ab1f_row17_col0\" class=\"data row17 col0\" >182588</td>\n",
       "                        <td id=\"T_0ab1f_row17_col1\" class=\"data row17 col1\" >59.3800</td>\n",
       "            </tr>\n",
       "            <tr>\n",
       "                        <th id=\"T_0ab1f_level0_row18\" class=\"row_heading level0 row18\" >LANDAREA_AVG</th>\n",
       "                        <td id=\"T_0ab1f_row18_col0\" class=\"data row18 col0\" >182588</td>\n",
       "                        <td id=\"T_0ab1f_row18_col1\" class=\"data row18 col1\" >59.3800</td>\n",
       "            </tr>\n",
       "            <tr>\n",
       "                        <th id=\"T_0ab1f_level0_row19\" class=\"row_heading level0 row19\" >LANDAREA_MODE</th>\n",
       "                        <td id=\"T_0ab1f_row19_col0\" class=\"data row19 col0\" >182588</td>\n",
       "                        <td id=\"T_0ab1f_row19_col1\" class=\"data row19 col1\" >59.3800</td>\n",
       "            </tr>\n",
       "            <tr>\n",
       "                        <th id=\"T_0ab1f_level0_row20\" class=\"row_heading level0 row20\" >BASEMENTAREA_MEDI</th>\n",
       "                        <td id=\"T_0ab1f_row20_col0\" class=\"data row20 col0\" >179942</td>\n",
       "                        <td id=\"T_0ab1f_row20_col1\" class=\"data row20 col1\" >58.5200</td>\n",
       "            </tr>\n",
       "            <tr>\n",
       "                        <th id=\"T_0ab1f_level0_row21\" class=\"row_heading level0 row21\" >BASEMENTAREA_AVG</th>\n",
       "                        <td id=\"T_0ab1f_row21_col0\" class=\"data row21 col0\" >179942</td>\n",
       "                        <td id=\"T_0ab1f_row21_col1\" class=\"data row21 col1\" >58.5200</td>\n",
       "            </tr>\n",
       "            <tr>\n",
       "                        <th id=\"T_0ab1f_level0_row22\" class=\"row_heading level0 row22\" >BASEMENTAREA_MODE</th>\n",
       "                        <td id=\"T_0ab1f_row22_col0\" class=\"data row22 col0\" >179942</td>\n",
       "                        <td id=\"T_0ab1f_row22_col1\" class=\"data row22 col1\" >58.5200</td>\n",
       "            </tr>\n",
       "            <tr>\n",
       "                        <th id=\"T_0ab1f_level0_row23\" class=\"row_heading level0 row23\" >EXT_SOURCE_1</th>\n",
       "                        <td id=\"T_0ab1f_row23_col0\" class=\"data row23 col0\" >173376</td>\n",
       "                        <td id=\"T_0ab1f_row23_col1\" class=\"data row23 col1\" >56.3800</td>\n",
       "            </tr>\n",
       "            <tr>\n",
       "                        <th id=\"T_0ab1f_level0_row24\" class=\"row_heading level0 row24\" >NONLIVINGAREA_AVG</th>\n",
       "                        <td id=\"T_0ab1f_row24_col0\" class=\"data row24 col0\" >169680</td>\n",
       "                        <td id=\"T_0ab1f_row24_col1\" class=\"data row24 col1\" >55.1800</td>\n",
       "            </tr>\n",
       "            <tr>\n",
       "                        <th id=\"T_0ab1f_level0_row25\" class=\"row_heading level0 row25\" >NONLIVINGAREA_MEDI</th>\n",
       "                        <td id=\"T_0ab1f_row25_col0\" class=\"data row25 col0\" >169680</td>\n",
       "                        <td id=\"T_0ab1f_row25_col1\" class=\"data row25 col1\" >55.1800</td>\n",
       "            </tr>\n",
       "            <tr>\n",
       "                        <th id=\"T_0ab1f_level0_row26\" class=\"row_heading level0 row26\" >NONLIVINGAREA_MODE</th>\n",
       "                        <td id=\"T_0ab1f_row26_col0\" class=\"data row26 col0\" >169680</td>\n",
       "                        <td id=\"T_0ab1f_row26_col1\" class=\"data row26 col1\" >55.1800</td>\n",
       "            </tr>\n",
       "            <tr>\n",
       "                        <th id=\"T_0ab1f_level0_row27\" class=\"row_heading level0 row27\" >ELEVATORS_MODE</th>\n",
       "                        <td id=\"T_0ab1f_row27_col0\" class=\"data row27 col0\" >163890</td>\n",
       "                        <td id=\"T_0ab1f_row27_col1\" class=\"data row27 col1\" >53.3000</td>\n",
       "            </tr>\n",
       "            <tr>\n",
       "                        <th id=\"T_0ab1f_level0_row28\" class=\"row_heading level0 row28\" >ELEVATORS_AVG</th>\n",
       "                        <td id=\"T_0ab1f_row28_col0\" class=\"data row28 col0\" >163890</td>\n",
       "                        <td id=\"T_0ab1f_row28_col1\" class=\"data row28 col1\" >53.3000</td>\n",
       "            </tr>\n",
       "            <tr>\n",
       "                        <th id=\"T_0ab1f_level0_row29\" class=\"row_heading level0 row29\" >ELEVATORS_MEDI</th>\n",
       "                        <td id=\"T_0ab1f_row29_col0\" class=\"data row29 col0\" >163890</td>\n",
       "                        <td id=\"T_0ab1f_row29_col1\" class=\"data row29 col1\" >53.3000</td>\n",
       "            </tr>\n",
       "            <tr>\n",
       "                        <th id=\"T_0ab1f_level0_row30\" class=\"row_heading level0 row30\" >WALLSMATERIAL_MODE</th>\n",
       "                        <td id=\"T_0ab1f_row30_col0\" class=\"data row30 col0\" >156340</td>\n",
       "                        <td id=\"T_0ab1f_row30_col1\" class=\"data row30 col1\" >50.8400</td>\n",
       "            </tr>\n",
       "            <tr>\n",
       "                        <th id=\"T_0ab1f_level0_row31\" class=\"row_heading level0 row31\" >APARTMENTS_AVG</th>\n",
       "                        <td id=\"T_0ab1f_row31_col0\" class=\"data row31 col0\" >156060</td>\n",
       "                        <td id=\"T_0ab1f_row31_col1\" class=\"data row31 col1\" >50.7500</td>\n",
       "            </tr>\n",
       "            <tr>\n",
       "                        <th id=\"T_0ab1f_level0_row32\" class=\"row_heading level0 row32\" >APARTMENTS_MEDI</th>\n",
       "                        <td id=\"T_0ab1f_row32_col0\" class=\"data row32 col0\" >156060</td>\n",
       "                        <td id=\"T_0ab1f_row32_col1\" class=\"data row32 col1\" >50.7500</td>\n",
       "            </tr>\n",
       "            <tr>\n",
       "                        <th id=\"T_0ab1f_level0_row33\" class=\"row_heading level0 row33\" >APARTMENTS_MODE</th>\n",
       "                        <td id=\"T_0ab1f_row33_col0\" class=\"data row33 col0\" >156060</td>\n",
       "                        <td id=\"T_0ab1f_row33_col1\" class=\"data row33 col1\" >50.7500</td>\n",
       "            </tr>\n",
       "            <tr>\n",
       "                        <th id=\"T_0ab1f_level0_row34\" class=\"row_heading level0 row34\" >ENTRANCES_MODE</th>\n",
       "                        <td id=\"T_0ab1f_row34_col0\" class=\"data row34 col0\" >154827</td>\n",
       "                        <td id=\"T_0ab1f_row34_col1\" class=\"data row34 col1\" >50.3500</td>\n",
       "            </tr>\n",
       "            <tr>\n",
       "                        <th id=\"T_0ab1f_level0_row35\" class=\"row_heading level0 row35\" >ENTRANCES_AVG</th>\n",
       "                        <td id=\"T_0ab1f_row35_col0\" class=\"data row35 col0\" >154827</td>\n",
       "                        <td id=\"T_0ab1f_row35_col1\" class=\"data row35 col1\" >50.3500</td>\n",
       "            </tr>\n",
       "            <tr>\n",
       "                        <th id=\"T_0ab1f_level0_row36\" class=\"row_heading level0 row36\" >ENTRANCES_MEDI</th>\n",
       "                        <td id=\"T_0ab1f_row36_col0\" class=\"data row36 col0\" >154827</td>\n",
       "                        <td id=\"T_0ab1f_row36_col1\" class=\"data row36 col1\" >50.3500</td>\n",
       "            </tr>\n",
       "            <tr>\n",
       "                        <th id=\"T_0ab1f_level0_row37\" class=\"row_heading level0 row37\" >LIVINGAREA_AVG</th>\n",
       "                        <td id=\"T_0ab1f_row37_col0\" class=\"data row37 col0\" >154349</td>\n",
       "                        <td id=\"T_0ab1f_row37_col1\" class=\"data row37 col1\" >50.1900</td>\n",
       "            </tr>\n",
       "            <tr>\n",
       "                        <th id=\"T_0ab1f_level0_row38\" class=\"row_heading level0 row38\" >LIVINGAREA_MEDI</th>\n",
       "                        <td id=\"T_0ab1f_row38_col0\" class=\"data row38 col0\" >154349</td>\n",
       "                        <td id=\"T_0ab1f_row38_col1\" class=\"data row38 col1\" >50.1900</td>\n",
       "            </tr>\n",
       "            <tr>\n",
       "                        <th id=\"T_0ab1f_level0_row39\" class=\"row_heading level0 row39\" >LIVINGAREA_MODE</th>\n",
       "                        <td id=\"T_0ab1f_row39_col0\" class=\"data row39 col0\" >154349</td>\n",
       "                        <td id=\"T_0ab1f_row39_col1\" class=\"data row39 col1\" >50.1900</td>\n",
       "            </tr>\n",
       "            <tr>\n",
       "                        <th id=\"T_0ab1f_level0_row40\" class=\"row_heading level0 row40\" >HOUSETYPE_MODE</th>\n",
       "                        <td id=\"T_0ab1f_row40_col0\" class=\"data row40 col0\" >154296</td>\n",
       "                        <td id=\"T_0ab1f_row40_col1\" class=\"data row40 col1\" >50.1800</td>\n",
       "            </tr>\n",
       "            <tr>\n",
       "                        <th id=\"T_0ab1f_level0_row41\" class=\"row_heading level0 row41\" >FLOORSMAX_MODE</th>\n",
       "                        <td id=\"T_0ab1f_row41_col0\" class=\"data row41 col0\" >153019</td>\n",
       "                        <td id=\"T_0ab1f_row41_col1\" class=\"data row41 col1\" >49.7600</td>\n",
       "            </tr>\n",
       "            <tr>\n",
       "                        <th id=\"T_0ab1f_level0_row42\" class=\"row_heading level0 row42\" >FLOORSMAX_AVG</th>\n",
       "                        <td id=\"T_0ab1f_row42_col0\" class=\"data row42 col0\" >153019</td>\n",
       "                        <td id=\"T_0ab1f_row42_col1\" class=\"data row42 col1\" >49.7600</td>\n",
       "            </tr>\n",
       "            <tr>\n",
       "                        <th id=\"T_0ab1f_level0_row43\" class=\"row_heading level0 row43\" >FLOORSMAX_MEDI</th>\n",
       "                        <td id=\"T_0ab1f_row43_col0\" class=\"data row43 col0\" >153019</td>\n",
       "                        <td id=\"T_0ab1f_row43_col1\" class=\"data row43 col1\" >49.7600</td>\n",
       "            </tr>\n",
       "            <tr>\n",
       "                        <th id=\"T_0ab1f_level0_row44\" class=\"row_heading level0 row44\" >YEARS_BEGINEXPLUATATION_MEDI</th>\n",
       "                        <td id=\"T_0ab1f_row44_col0\" class=\"data row44 col0\" >150006</td>\n",
       "                        <td id=\"T_0ab1f_row44_col1\" class=\"data row44 col1\" >48.7800</td>\n",
       "            </tr>\n",
       "            <tr>\n",
       "                        <th id=\"T_0ab1f_level0_row45\" class=\"row_heading level0 row45\" >YEARS_BEGINEXPLUATATION_AVG</th>\n",
       "                        <td id=\"T_0ab1f_row45_col0\" class=\"data row45 col0\" >150006</td>\n",
       "                        <td id=\"T_0ab1f_row45_col1\" class=\"data row45 col1\" >48.7800</td>\n",
       "            </tr>\n",
       "            <tr>\n",
       "                        <th id=\"T_0ab1f_level0_row46\" class=\"row_heading level0 row46\" >YEARS_BEGINEXPLUATATION_MODE</th>\n",
       "                        <td id=\"T_0ab1f_row46_col0\" class=\"data row46 col0\" >150006</td>\n",
       "                        <td id=\"T_0ab1f_row46_col1\" class=\"data row46 col1\" >48.7800</td>\n",
       "            </tr>\n",
       "            <tr>\n",
       "                        <th id=\"T_0ab1f_level0_row47\" class=\"row_heading level0 row47\" >TOTALAREA_MODE</th>\n",
       "                        <td id=\"T_0ab1f_row47_col0\" class=\"data row47 col0\" >148430</td>\n",
       "                        <td id=\"T_0ab1f_row47_col1\" class=\"data row47 col1\" >48.2700</td>\n",
       "            </tr>\n",
       "            <tr>\n",
       "                        <th id=\"T_0ab1f_level0_row48\" class=\"row_heading level0 row48\" >OCCUPATION_TYPE</th>\n",
       "                        <td id=\"T_0ab1f_row48_col0\" class=\"data row48 col0\" >96389</td>\n",
       "                        <td id=\"T_0ab1f_row48_col1\" class=\"data row48 col1\" >31.3500</td>\n",
       "            </tr>\n",
       "            <tr>\n",
       "                        <th id=\"T_0ab1f_level0_row49\" class=\"row_heading level0 row49\" >EXT_SOURCE_3</th>\n",
       "                        <td id=\"T_0ab1f_row49_col0\" class=\"data row49 col0\" >60965</td>\n",
       "                        <td id=\"T_0ab1f_row49_col1\" class=\"data row49 col1\" >19.8300</td>\n",
       "            </tr>\n",
       "            <tr>\n",
       "                        <th id=\"T_0ab1f_level0_row50\" class=\"row_heading level0 row50\" >DAYS_EMPLOYED</th>\n",
       "                        <td id=\"T_0ab1f_row50_col0\" class=\"data row50 col0\" >55374</td>\n",
       "                        <td id=\"T_0ab1f_row50_col1\" class=\"data row50 col1\" >18.0100</td>\n",
       "            </tr>\n",
       "            <tr>\n",
       "                        <th id=\"T_0ab1f_level0_row51\" class=\"row_heading level0 row51\" >AMT_REQ_CREDIT_BUREAU_HOUR</th>\n",
       "                        <td id=\"T_0ab1f_row51_col0\" class=\"data row51 col0\" >41519</td>\n",
       "                        <td id=\"T_0ab1f_row51_col1\" class=\"data row51 col1\" >13.5000</td>\n",
       "            </tr>\n",
       "            <tr>\n",
       "                        <th id=\"T_0ab1f_level0_row52\" class=\"row_heading level0 row52\" >AMT_REQ_CREDIT_BUREAU_DAY</th>\n",
       "                        <td id=\"T_0ab1f_row52_col0\" class=\"data row52 col0\" >41519</td>\n",
       "                        <td id=\"T_0ab1f_row52_col1\" class=\"data row52 col1\" >13.5000</td>\n",
       "            </tr>\n",
       "            <tr>\n",
       "                        <th id=\"T_0ab1f_level0_row53\" class=\"row_heading level0 row53\" >AMT_REQ_CREDIT_BUREAU_WEEK</th>\n",
       "                        <td id=\"T_0ab1f_row53_col0\" class=\"data row53 col0\" >41519</td>\n",
       "                        <td id=\"T_0ab1f_row53_col1\" class=\"data row53 col1\" >13.5000</td>\n",
       "            </tr>\n",
       "            <tr>\n",
       "                        <th id=\"T_0ab1f_level0_row54\" class=\"row_heading level0 row54\" >AMT_REQ_CREDIT_BUREAU_MON</th>\n",
       "                        <td id=\"T_0ab1f_row54_col0\" class=\"data row54 col0\" >41519</td>\n",
       "                        <td id=\"T_0ab1f_row54_col1\" class=\"data row54 col1\" >13.5000</td>\n",
       "            </tr>\n",
       "            <tr>\n",
       "                        <th id=\"T_0ab1f_level0_row55\" class=\"row_heading level0 row55\" >AMT_REQ_CREDIT_BUREAU_QRT</th>\n",
       "                        <td id=\"T_0ab1f_row55_col0\" class=\"data row55 col0\" >41519</td>\n",
       "                        <td id=\"T_0ab1f_row55_col1\" class=\"data row55 col1\" >13.5000</td>\n",
       "            </tr>\n",
       "            <tr>\n",
       "                        <th id=\"T_0ab1f_level0_row56\" class=\"row_heading level0 row56\" >AMT_REQ_CREDIT_BUREAU_YEAR</th>\n",
       "                        <td id=\"T_0ab1f_row56_col0\" class=\"data row56 col0\" >41519</td>\n",
       "                        <td id=\"T_0ab1f_row56_col1\" class=\"data row56 col1\" >13.5000</td>\n",
       "            </tr>\n",
       "            <tr>\n",
       "                        <th id=\"T_0ab1f_level0_row57\" class=\"row_heading level0 row57\" >NAME_TYPE_SUITE</th>\n",
       "                        <td id=\"T_0ab1f_row57_col0\" class=\"data row57 col0\" >1292</td>\n",
       "                        <td id=\"T_0ab1f_row57_col1\" class=\"data row57 col1\" >0.4200</td>\n",
       "            </tr>\n",
       "            <tr>\n",
       "                        <th id=\"T_0ab1f_level0_row58\" class=\"row_heading level0 row58\" >OBS_30_CNT_SOCIAL_CIRCLE</th>\n",
       "                        <td id=\"T_0ab1f_row58_col0\" class=\"data row58 col0\" >1021</td>\n",
       "                        <td id=\"T_0ab1f_row58_col1\" class=\"data row58 col1\" >0.3300</td>\n",
       "            </tr>\n",
       "            <tr>\n",
       "                        <th id=\"T_0ab1f_level0_row59\" class=\"row_heading level0 row59\" >DEF_30_CNT_SOCIAL_CIRCLE</th>\n",
       "                        <td id=\"T_0ab1f_row59_col0\" class=\"data row59 col0\" >1021</td>\n",
       "                        <td id=\"T_0ab1f_row59_col1\" class=\"data row59 col1\" >0.3300</td>\n",
       "            </tr>\n",
       "            <tr>\n",
       "                        <th id=\"T_0ab1f_level0_row60\" class=\"row_heading level0 row60\" >OBS_60_CNT_SOCIAL_CIRCLE</th>\n",
       "                        <td id=\"T_0ab1f_row60_col0\" class=\"data row60 col0\" >1021</td>\n",
       "                        <td id=\"T_0ab1f_row60_col1\" class=\"data row60 col1\" >0.3300</td>\n",
       "            </tr>\n",
       "            <tr>\n",
       "                        <th id=\"T_0ab1f_level0_row61\" class=\"row_heading level0 row61\" >DEF_60_CNT_SOCIAL_CIRCLE</th>\n",
       "                        <td id=\"T_0ab1f_row61_col0\" class=\"data row61 col0\" >1021</td>\n",
       "                        <td id=\"T_0ab1f_row61_col1\" class=\"data row61 col1\" >0.3300</td>\n",
       "            </tr>\n",
       "            <tr>\n",
       "                        <th id=\"T_0ab1f_level0_row62\" class=\"row_heading level0 row62\" >EXT_SOURCE_2</th>\n",
       "                        <td id=\"T_0ab1f_row62_col0\" class=\"data row62 col0\" >660</td>\n",
       "                        <td id=\"T_0ab1f_row62_col1\" class=\"data row62 col1\" >0.2100</td>\n",
       "            </tr>\n",
       "            <tr>\n",
       "                        <th id=\"T_0ab1f_level0_row63\" class=\"row_heading level0 row63\" >AMT_GOODS_PRICE</th>\n",
       "                        <td id=\"T_0ab1f_row63_col0\" class=\"data row63 col0\" >278</td>\n",
       "                        <td id=\"T_0ab1f_row63_col1\" class=\"data row63 col1\" >0.0900</td>\n",
       "            </tr>\n",
       "            <tr>\n",
       "                        <th id=\"T_0ab1f_level0_row64\" class=\"row_heading level0 row64\" >DAYS_LAST_PHONE_CHANGE</th>\n",
       "                        <td id=\"T_0ab1f_row64_col0\" class=\"data row64 col0\" >1</td>\n",
       "                        <td id=\"T_0ab1f_row64_col1\" class=\"data row64 col1\" >0.0000</td>\n",
       "            </tr>\n",
       "            <tr>\n",
       "                        <th id=\"T_0ab1f_level0_row65\" class=\"row_heading level0 row65\" >CNT_FAM_MEMBERS</th>\n",
       "                        <td id=\"T_0ab1f_row65_col0\" class=\"data row65 col0\" >2</td>\n",
       "                        <td id=\"T_0ab1f_row65_col1\" class=\"data row65 col1\" >0.0000</td>\n",
       "            </tr>\n",
       "            <tr>\n",
       "                        <th id=\"T_0ab1f_level0_row66\" class=\"row_heading level0 row66\" >NAME_FAMILY_STATUS</th>\n",
       "                        <td id=\"T_0ab1f_row66_col0\" class=\"data row66 col0\" >2</td>\n",
       "                        <td id=\"T_0ab1f_row66_col1\" class=\"data row66 col1\" >0.0000</td>\n",
       "            </tr>\n",
       "            <tr>\n",
       "                        <th id=\"T_0ab1f_level0_row67\" class=\"row_heading level0 row67\" >NAME_INCOME_TYPE</th>\n",
       "                        <td id=\"T_0ab1f_row67_col0\" class=\"data row67 col0\" >5</td>\n",
       "                        <td id=\"T_0ab1f_row67_col1\" class=\"data row67 col1\" >0.0000</td>\n",
       "            </tr>\n",
       "            <tr>\n",
       "                        <th id=\"T_0ab1f_level0_row68\" class=\"row_heading level0 row68\" >AMT_ANNUITY</th>\n",
       "                        <td id=\"T_0ab1f_row68_col0\" class=\"data row68 col0\" >12</td>\n",
       "                        <td id=\"T_0ab1f_row68_col1\" class=\"data row68 col1\" >0.0000</td>\n",
       "            </tr>\n",
       "    </tbody></table>"
      ],
      "text/plain": [
       "<pandas.io.formats.style.Styler at 0x2198c59e6d0>"
      ]
     },
     "metadata": {},
     "output_type": "display_data"
    }
   ],
   "source": [
    "# Valeurs manquantes du dataframe\n",
    "df_nan_applitrain = outils_data.get_missing_values(application_train,\n",
    "                                                   True, False, True)"
   ]
  },
  {
   "cell_type": "markdown",
   "id": "13c2c15b",
   "metadata": {},
   "source": [
    "- Parmi les variables importantes repérées lors de l'analyse exploratoire pour départager les non-défaillants des défaillants, la variable FLOORSMIN_AVG est celle qui a le plus de valeurs manquantes (67.85%).\n",
    "- On fixera le seuil de suppression des variables ayant de nombreuses valeurs manquantes à 68%."
   ]
  },
  {
   "cell_type": "code",
   "execution_count": 29,
   "id": "5598dd27",
   "metadata": {
    "run_control": {
     "marked": false
    }
   },
   "outputs": [
    {
     "name": "stdout",
     "output_type": "stream",
     "text": [
      "Nombre de variables à supprimer : 10\n"
     ]
    },
    {
     "data": {
      "text/plain": [
       "['COMMONAREA_AVG',\n",
       " 'LIVINGAPARTMENTS_AVG',\n",
       " 'NONLIVINGAPARTMENTS_AVG',\n",
       " 'COMMONAREA_MODE',\n",
       " 'LIVINGAPARTMENTS_MODE',\n",
       " 'NONLIVINGAPARTMENTS_MODE',\n",
       " 'COMMONAREA_MEDI',\n",
       " 'LIVINGAPARTMENTS_MEDI',\n",
       " 'NONLIVINGAPARTMENTS_MEDI',\n",
       " 'FONDKAPREMONT_MODE']"
      ]
     },
     "execution_count": 29,
     "metadata": {},
     "output_type": "execute_result"
    }
   ],
   "source": [
    "# Liste des variables ayant plus de 68% de valeurs manquantes\n",
    "cols_nan_a_suppr = \\\n",
    "    df_nan_applitrain[df_nan_applitrain['% de valeurs manquantes'] > 68] \\\n",
    "    .index.to_list()\n",
    "print(f'Nombre de variables à supprimer : {len(cols_nan_a_suppr)}')\n",
    "cols_nan_a_suppr"
   ]
  },
  {
   "cell_type": "code",
   "execution_count": 30,
   "id": "6940f47b",
   "metadata": {
    "run_control": {
     "marked": false
    },
    "scrolled": true
   },
   "outputs": [
    {
     "name": "stdout",
     "output_type": "stream",
     "text": [
      "Le jeu de données contient 307507 lignes et 112 variables.\n"
     ]
    }
   ],
   "source": [
    "# Suppression des variables avec un seuil de nan > 68%\n",
    "application_train.drop(columns=cols_nan_a_suppr, inplace=True)\n",
    "# Variables catégorielles\n",
    "cols_cat = application_train.select_dtypes(exclude=[np.number]).columns \\\n",
    "    .to_list()\n",
    "# Variables quantitatives\n",
    "cols_num = application_train.select_dtypes(include=[np.number]).columns \\\n",
    "    .to_list()\n",
    "# Taille : nombre de lignes/colonnes\n",
    "nRow, nVar = application_train.shape\n",
    "print(f'Le jeu de données contient {nRow} lignes et {nVar} variables.')"
   ]
  },
  {
   "cell_type": "markdown",
   "id": "3ac8a68c",
   "metadata": {},
   "source": [
    "#### <span style='background:Moccasin'>3.1.5. Imputation</span>"
   ]
  },
  {
   "cell_type": "code",
   "execution_count": 31,
   "id": "3d245cc8",
   "metadata": {
    "run_control": {
     "marked": false
    }
   },
   "outputs": [],
   "source": [
    "# Variables quantitatives - imputation par 0\n",
    "appli_train_imp1 = application_train.copy()\n",
    "# Variables quantitatives - imputation en utilisant NaNImputer de Verstack\n",
    "appli_train_imp2 = application_train.copy()"
   ]
  },
  {
   "cell_type": "markdown",
   "id": "56a9ca5d",
   "metadata": {},
   "source": [
    "**Variables quantitatives**"
   ]
  },
  {
   "cell_type": "markdown",
   "id": "101b82ac",
   "metadata": {},
   "source": [
    "- Lors de l'analyse exploratoire, nous avons pu observer que les valeurs non renseignées peuvent donner des indications. Le demandeur a pu ne pas donner le renseignement pour éviter d'avoir un refus à sa demande.\n",
    "- Nous **imputerons** donc les valeurs manquantes des **variables quantitatives** par la valeur **médiane** de chacune de ces variables puisque nous avons découvert lors de l'analyse exploratoire qu'il y avait de nombreux outliers."
   ]
  },
  {
   "cell_type": "code",
   "execution_count": 32,
   "id": "7249bede",
   "metadata": {},
   "outputs": [],
   "source": [
    "# TODO :\n",
    "# Imputation :  toutes les variables par 0? ou le mode? ou NaNImputer?\n",
    "# Est-ce que je fais plusieurs tests?"
   ]
  },
  {
   "cell_type": "markdown",
   "id": "4534278c",
   "metadata": {},
   "source": [
    "**Imputation par median** "
   ]
  },
  {
   "cell_type": "code",
   "execution_count": 33,
   "id": "e7917324",
   "metadata": {
    "run_control": {
     "marked": false
    }
   },
   "outputs": [
    {
     "name": "stdout",
     "output_type": "stream",
     "text": [
      "Nombre de nan avant imputation par median : 6527684\n",
      "Nombre de nan après imputation par median : 0\n"
     ]
    }
   ],
   "source": [
    "# Variables quantitatives - imputation par médiane\n",
    "nb_nan_median = application_train[cols_num].isna().sum().sum()\n",
    "print(f'Nombre de nan avant imputation par median : {nb_nan_median}')\n",
    "application_train.fillna(application_train[cols_num].median(), inplace=True)\n",
    "# Vérification\n",
    "nb_nan_median = application_train[cols_num].isna().sum().sum()\n",
    "print(f'Nombre de nan après imputation par median : {nb_nan_median}')"
   ]
  },
  {
   "cell_type": "markdown",
   "id": "8770f716",
   "metadata": {},
   "source": [
    "**Imputation par une constante 0** "
   ]
  },
  {
   "cell_type": "code",
   "execution_count": 34,
   "id": "49fc4a24",
   "metadata": {
    "run_control": {
     "marked": false
    }
   },
   "outputs": [
    {
     "name": "stdout",
     "output_type": "stream",
     "text": [
      "Nombre de nan avant imputation par 0 : 6527684\n",
      "Nombre de nan après imputation par 0 : 0\n"
     ]
    }
   ],
   "source": [
    "# Variables quantitatives - imputation par 0\n",
    "nb_nan_zero = appli_train_imp1[cols_num].isna().sum().sum()\n",
    "print(f'Nombre de nan avant imputation par 0 : {nb_nan_zero}')\n",
    "appli_train_imp1[cols_num] = appli_train_imp1[cols_num].fillna(0)\n",
    "# Vérification\n",
    "nb_nan_zero = appli_train_imp1[cols_num].isna().sum().sum()\n",
    "print(f'Nombre de nan après imputation par 0 : {nb_nan_zero}')"
   ]
  },
  {
   "cell_type": "markdown",
   "id": "efbff405",
   "metadata": {},
   "source": [
    "**Imputation avec NaNIMputer (Verstack)**"
   ]
  },
  {
   "cell_type": "markdown",
   "id": "373a0782",
   "metadata": {},
   "source": [
    "*Note*: [Source](https://medium.com/swlh/impute-missing-values-the-right-way-c63735fccccd)"
   ]
  },
  {
   "cell_type": "code",
   "execution_count": 35,
   "id": "6523bc3c",
   "metadata": {},
   "outputs": [],
   "source": [
    "# Variables quantitatives - imputation en utilisant NaNImputer de Verstack\n",
    "nb_nan_nanimput = appli_train_imp2[cols_num].isna().sum().sum()"
   ]
  },
  {
   "cell_type": "code",
   "execution_count": 36,
   "id": "ad083b93",
   "metadata": {},
   "outputs": [],
   "source": [
    "# Copie du jeu de données\n",
    "df_nan = appli_train_imp2.copy()\n",
    "X_nan = df_nan[cols_num]"
   ]
  },
  {
   "cell_type": "code",
   "execution_count": 37,
   "id": "9de59689",
   "metadata": {},
   "outputs": [
    {
     "name": "stdout",
     "output_type": "stream",
     "text": [
      "\n",
      "Dataset dimensions:\n",
      " - rows:         307507\n",
      " - columns:      98\n",
      " - mb in memory: 53.37\n",
      " - NaN cols num: 53\n",
      "--------------------------\n",
      "\n",
      "Deploy multiprocessing with 12 parallel proceses\n",
      "\n",
      "\n",
      "NaNs imputation time: 6.74 minutes\n",
      "--------------------------------------------------\n"
     ]
    }
   ],
   "source": [
    "# !pip install verstack pour l'installation\n",
    "imputer = NaNImputer()\n",
    "X_nan_imputed = imputer.impute(X_nan)"
   ]
  },
  {
   "cell_type": "code",
   "execution_count": 38,
   "id": "f8741e59",
   "metadata": {},
   "outputs": [
    {
     "name": "stdout",
     "output_type": "stream",
     "text": [
      "Nombre de nan avant imputation par NaNImputer : 6527684\n",
      "Nombre de nan après imputation par NaNImputer : 0\n"
     ]
    }
   ],
   "source": [
    "print(f'Nombre de nan avant imputation par NaNImputer : {nb_nan_nanimput}')\n",
    "df_tmp_nan = pd.DataFrame(X_nan_imputed, columns=X_nan.columns)\n",
    "appli_train_imp2[cols_num] = df_tmp_nan[cols_num]\n",
    "# Variables quantitatives - imputation en utilisant NaNImputer de Verstack\n",
    "nb_nan_nanimput = appli_train_imp2[cols_num].isna().sum().sum()\n",
    "print(f'Nombre de nan après imputation par NaNImputer : {nb_nan_nanimput}')"
   ]
  },
  {
   "cell_type": "code",
   "execution_count": 39,
   "id": "4e8a5f23",
   "metadata": {
    "run_control": {
     "marked": false
    }
   },
   "outputs": [],
   "source": [
    "fic_sav_appl2 = '../sauvegarde/pre-processing/appli_train_imp2.pickle'"
   ]
  },
  {
   "cell_type": "code",
   "execution_count": 40,
   "id": "84fb875a",
   "metadata": {},
   "outputs": [],
   "source": [
    "# Sauvegarde de appli_train_imp2\n",
    "with open(fic_sav_appl2, 'wb') as f:\n",
    "    pickle.dump(appli_train_imp2, f, pickle.HIGHEST_PROTOCOL)"
   ]
  },
  {
   "cell_type": "markdown",
   "id": "19f7217a",
   "metadata": {},
   "source": [
    "**Variable qualitatives**"
   ]
  },
  {
   "cell_type": "markdown",
   "id": "aa8951eb",
   "metadata": {},
   "source": [
    "- Lors de l'analyse exploratoire, nous avons pu observer que les valeurs non renseignées peuvent donner des indications. Le demandeur a pu ne pas donner le renseignement pour éviter d'avoir un refus à sa demande.\n",
    "- Nous imputerons donc les valeurs manquantes des variables qualitatives par la valeur mode de chacune de ces variables."
   ]
  },
  {
   "cell_type": "code",
   "execution_count": 41,
   "id": "d0d90cfc",
   "metadata": {},
   "outputs": [],
   "source": [
    "# TODO :\n",
    "# Imputation :  toutes les variables par XNA? par mode?\n",
    "# Est-ce que je fais plusieurs tests?"
   ]
  },
  {
   "cell_type": "markdown",
   "id": "48631e1b",
   "metadata": {},
   "source": [
    "**Imputation par le mode de la catégorie**"
   ]
  },
  {
   "cell_type": "code",
   "execution_count": 42,
   "id": "4ed5b3fe",
   "metadata": {
    "run_control": {
     "marked": false
    }
   },
   "outputs": [
    {
     "name": "stdout",
     "output_type": "stream",
     "text": [
      "Nombre de nan avant imputation par mode : 408324\n",
      "Nombre de nan après imputation par mode : 0\n"
     ]
    }
   ],
   "source": [
    "# Variables qualitatives - imputation par mode de la variable\n",
    "nb_nan_cat = application_train[cols_cat].isna().sum().sum()\n",
    "print(f'Nombre de nan avant imputation par mode : {nb_nan_cat}')\n",
    "for var in cols_cat:\n",
    "    mode = application_train[var].mode()[0]\n",
    "    application_train[var].fillna(mode, inplace=True)\n",
    "nb_nan_cat = application_train[cols_cat].isna().sum().sum()\n",
    "print(f'Nombre de nan après imputation par mode : {nb_nan_cat}')"
   ]
  },
  {
   "cell_type": "markdown",
   "id": "678e3501",
   "metadata": {},
   "source": [
    "**Imputation par une constante XNA**"
   ]
  },
  {
   "cell_type": "code",
   "execution_count": 43,
   "id": "a94c12d9",
   "metadata": {
    "run_control": {
     "marked": false
    }
   },
   "outputs": [
    {
     "name": "stdout",
     "output_type": "stream",
     "text": [
      "Nombre de nan avant imputation par XNA : 408324\n",
      "Nombre de nan après imputation par XNA : 0\n"
     ]
    }
   ],
   "source": [
    "# Variables quantitatives - imputation par XNA\n",
    "%pycodestyle_off\n",
    "nb_nan_xna = appli_train_imp1[cols_cat].isna().sum().sum()\n",
    "print(f'Nombre de nan avant imputation par XNA : {nb_nan_xna}')\n",
    "for var in cols_cat :\n",
    "    appli_train_imp1[var] = appli_train_imp1[var].fillna('XNA')\n",
    "# Vérification\n",
    "nb_nan_xna = appli_train_imp1[cols_cat].isna().sum().sum()\n",
    "print(f'Nombre de nan après imputation par XNA : {nb_nan_xna}')\n",
    "%pycodestyle_on"
   ]
  },
  {
   "cell_type": "code",
   "execution_count": 44,
   "id": "970bde3d",
   "metadata": {
    "run_control": {
     "marked": false
    }
   },
   "outputs": [
    {
     "name": "stdout",
     "output_type": "stream",
     "text": [
      "Nombre de nan avant imputation par median : 408324\n",
      "Nombre de nan avant imputation par median : 0\n"
     ]
    }
   ],
   "source": [
    "# Variables quantitatives - imputation par XNA\n",
    "%pycodestyle_off\n",
    "nb_nan_xna2 = appli_train_imp2[cols_cat].isna().sum().sum()\n",
    "print(f'Nombre de nan avant imputation par median : {nb_nan_xna2}')\n",
    "for var in cols_cat :\n",
    "    appli_train_imp2[var] = appli_train_imp2[var].fillna('XNA')\n",
    "# Vérification\n",
    "nb_nan_xna2 = appli_train_imp2[cols_cat].isna().sum().sum()\n",
    "print(f'Nombre de nan avant imputation par median : {nb_nan_xna2}')\n",
    "%pycodestyle_on"
   ]
  },
  {
   "cell_type": "markdown",
   "id": "a65e2da2",
   "metadata": {},
   "source": [
    "**Bilan**:\n",
    "- application_train : \n",
    "    - variables quantitatives imputées par median.\n",
    "    - variables qualitatives imputées par mode.\n",
    "- appli_train_imp1 :\n",
    "    - variables quantitatives imputées par la constante 0.\n",
    "    - variables qualitatives imputées par la constante XNA.\n",
    "- appli_train_imp2 :\n",
    "    - variables quantitatives imputées par NaNImputer.\n",
    "    - variables qualitatives imputées par la constante XNA."
   ]
  },
  {
   "cell_type": "code",
   "execution_count": 45,
   "id": "8b393bf9",
   "metadata": {
    "run_control": {
     "marked": false
    }
   },
   "outputs": [
    {
     "name": "stdout",
     "output_type": "stream",
     "text": [
      "Nombre nan application_train : 0\n",
      "Nombre nan appli_train_imp1 : 0\n",
      "Nombre nan appli_train_imp2 : 0\n"
     ]
    }
   ],
   "source": [
    "# Vérification : plus de nan\n",
    "# Valeurs manquantes du dataframe application_train\n",
    "print(f'Nombre nan application_train : {application_train.isna().sum().sum()}')\n",
    "# Sauvegarde de application_train\n",
    "fic_sav_appltrain_sansnan = \\\n",
    "    '../sauvegarde/pre-processing/application_train_sans_nan.pickle'\n",
    "with open(fic_sav_appltrain_sansnan, 'wb') as f:\n",
    "    pickle.dump(application_train, f, pickle.HIGHEST_PROTOCOL)\n",
    "# Valeurs manquantes du dataframe appli_train_imp1\n",
    "print(f'Nombre nan appli_train_imp1 : {appli_train_imp1.isna().sum().sum()}')\n",
    "# Sauvegarde de appli_train_imp1\n",
    "fic_sav_appltrainimp1_sansnan = \\\n",
    "    '../sauvegarde/pre-processing/appli_train_imp1_sans_nan.pickle'\n",
    "with open(fic_sav_appltrainimp1_sansnan, 'wb') as f:\n",
    "    pickle.dump(appli_train_imp1, f, pickle.HIGHEST_PROTOCOL)\n",
    "# Valeurs manquantes du dataframe appli_train_imp2\n",
    "print(f'Nombre nan appli_train_imp2 : {appli_train_imp2.isna().sum().sum()}')\n",
    "# Sauvegarde de appli_train_imp2\n",
    "fic_sav_appltrainimp2_sansnan = \\\n",
    "    '../sauvegarde/pre-processing/appli_train_imp2_sans_nan.pickle'\n",
    "with open(fic_sav_appltrainimp2_sansnan, 'wb') as f:\n",
    "    pickle.dump(appli_train_imp2, f, pickle.HIGHEST_PROTOCOL)"
   ]
  },
  {
   "cell_type": "markdown",
   "id": "1a3a21e6",
   "metadata": {},
   "source": [
    "#### <span style='background:Moccasin'>3.1.6. Feature engineering</span>"
   ]
  },
  {
   "cell_type": "markdown",
   "id": "4019131e",
   "metadata": {},
   "source": [
    "**Variables métiers & automatiques (mean, max...)**"
   ]
  },
  {
   "cell_type": "code",
   "execution_count": 46,
   "id": "035725e9",
   "metadata": {
    "run_control": {
     "marked": false
    }
   },
   "outputs": [
    {
     "data": {
      "text/plain": [
       "(307507, 170)"
      ]
     },
     "execution_count": 46,
     "metadata": {},
     "output_type": "execute_result"
    }
   ],
   "source": [
    "# Feature engineering pour le dataframe application_train\n",
    "application_train = \\\n",
    "    outils_preprocessing.feature_engineering_application(application_train)\n",
    "application_train.shape"
   ]
  },
  {
   "cell_type": "code",
   "execution_count": 47,
   "id": "f5cd3204",
   "metadata": {
    "run_control": {
     "marked": false
    }
   },
   "outputs": [
    {
     "data": {
      "text/plain": [
       "(307507, 170)"
      ]
     },
     "execution_count": 47,
     "metadata": {},
     "output_type": "execute_result"
    }
   ],
   "source": [
    "# Feature engineering pour le dataframe appli_train_imp1\n",
    "appli_train_imp1 = \\\n",
    "    outils_preprocessing.feature_engineering_application(appli_train_imp1)\n",
    "appli_train_imp1.shape"
   ]
  },
  {
   "cell_type": "code",
   "execution_count": 48,
   "id": "8e8fb806",
   "metadata": {
    "run_control": {
     "marked": false
    }
   },
   "outputs": [
    {
     "data": {
      "text/plain": [
       "(307507, 170)"
      ]
     },
     "execution_count": 48,
     "metadata": {},
     "output_type": "execute_result"
    }
   ],
   "source": [
    "# Feature engineering pour le dataframe appli_train_imp2\n",
    "appli_train_imp2 = \\\n",
    "    outils_preprocessing.feature_engineering_application(appli_train_imp2)\n",
    "appli_train_imp2.shape"
   ]
  },
  {
   "cell_type": "markdown",
   "id": "cd69138a",
   "metadata": {},
   "source": [
    "**Super variable du gagnant du concours Kaggle**"
   ]
  },
  {
   "cell_type": "code",
   "execution_count": 49,
   "id": "b0899adb",
   "metadata": {},
   "outputs": [],
   "source": [
    "# TODO : voir si on utilise car d'après soutenance pas explicable?"
   ]
  },
  {
   "cell_type": "markdown",
   "id": "84d9196f",
   "metadata": {},
   "source": [
    "- Imputation de la moyenne des 500 valeurs cibles des voisins les plus proches pour chaque application du train set ou test set.\n",
    "- Les voisins sont calculés en utilisant :\n",
    "    - les variables très importantes :\n",
    "        - EXT_SOURCE-1, \n",
    "        - EXT_SOURCE_2 \n",
    "        - et EXT_SOURCE_3,\n",
    "    - et CREDIT_ANNUITY_RATIO (ratio du Montant du crédit du prêt / Annuité de prêt).\n",
    "[Source](https://www.kaggle.com/c/home-credit-default-risk/discussion/64821)    "
   ]
  },
  {
   "cell_type": "code",
   "execution_count": 50,
   "id": "dfc4ff1d",
   "metadata": {
    "run_control": {
     "marked": false
    }
   },
   "outputs": [
    {
     "data": {
      "text/plain": [
       "(307507, 171)"
      ]
     },
     "execution_count": 50,
     "metadata": {},
     "output_type": "execute_result"
    }
   ],
   "source": [
    "# Feature engineering super variable pour le dataframe application_train\n",
    "outils_preprocessing. \\\n",
    "    feature_engineering_neighbors_EXT_SOURCE(application_train)\n",
    "application_train.shape"
   ]
  },
  {
   "cell_type": "code",
   "execution_count": 51,
   "id": "7e70e608",
   "metadata": {
    "run_control": {
     "marked": false
    }
   },
   "outputs": [
    {
     "data": {
      "text/plain": [
       "(307507, 171)"
      ]
     },
     "execution_count": 51,
     "metadata": {},
     "output_type": "execute_result"
    }
   ],
   "source": [
    "# Feature engineering super variable pour le dataframe appli_train_imp1\n",
    "outils_preprocessing. \\\n",
    "    feature_engineering_neighbors_EXT_SOURCE(appli_train_imp1)\n",
    "appli_train_imp1.shape"
   ]
  },
  {
   "cell_type": "code",
   "execution_count": 52,
   "id": "27b07265",
   "metadata": {
    "run_control": {
     "marked": false
    }
   },
   "outputs": [
    {
     "data": {
      "text/plain": [
       "(307507, 171)"
      ]
     },
     "execution_count": 52,
     "metadata": {},
     "output_type": "execute_result"
    }
   ],
   "source": [
    "# Feature engineering super variable pour le dataframe appli_train_imp2\n",
    "outils_preprocessing. \\\n",
    "    feature_engineering_neighbors_EXT_SOURCE(appli_train_imp2)\n",
    "appli_train_imp2.shape"
   ]
  },
  {
   "cell_type": "markdown",
   "id": "ed8a3606",
   "metadata": {},
   "source": [
    "#### <span style='background:Moccasin'>3.1.7. Encodage des variables qualitatives</span>"
   ]
  },
  {
   "attachments": {
    "image.png": {
     "image/png": "[encoded data removed]"
    }
   },
   "cell_type": "markdown",
   "id": "07af5875",
   "metadata": {},
   "source": [
    "![image.png](attachment:image.png)"
   ]
  },
  {
   "cell_type": "code",
   "execution_count": 53,
   "id": "4ec3ff51",
   "metadata": {},
   "outputs": [
    {
     "data": {
      "text/plain": [
       "['NAME_CONTRACT_TYPE',\n",
       " 'CODE_GENDER',\n",
       " 'NAME_TYPE_SUITE',\n",
       " 'NAME_INCOME_TYPE',\n",
       " 'NAME_EDUCATION_TYPE',\n",
       " 'NAME_FAMILY_STATUS',\n",
       " 'NAME_HOUSING_TYPE',\n",
       " 'OCCUPATION_TYPE',\n",
       " 'REGION_RATING_CLIENT',\n",
       " 'REGION_RATING_CLIENT_W_CITY',\n",
       " 'WEEKDAY_APPR_PROCESS_START',\n",
       " 'ORGANIZATION_TYPE',\n",
       " 'HOUSETYPE_MODE',\n",
       " 'WALLSMATERIAL_MODE']"
      ]
     },
     "execution_count": 53,
     "metadata": {},
     "output_type": "execute_result"
    }
   ],
   "source": [
    "# Liste des variables catégorielles\n",
    "cols_cat"
   ]
  },
  {
   "cell_type": "code",
   "execution_count": 54,
   "id": "caa14973",
   "metadata": {
    "run_control": {
     "marked": false
    }
   },
   "outputs": [
    {
     "data": {
      "text/html": [
       "<div>\n",
       "<style scoped>\n",
       "    .dataframe tbody tr th:only-of-type {\n",
       "        vertical-align: middle;\n",
       "    }\n",
       "\n",
       "    .dataframe tbody tr th {\n",
       "        vertical-align: top;\n",
       "    }\n",
       "\n",
       "    .dataframe thead th {\n",
       "        text-align: right;\n",
       "    }\n",
       "</style>\n",
       "<table border=\"1\" class=\"dataframe\">\n",
       "  <thead>\n",
       "    <tr style=\"text-align: right;\">\n",
       "      <th></th>\n",
       "      <th>NAME_CONTRACT_TYPE</th>\n",
       "      <th>CODE_GENDER</th>\n",
       "      <th>NAME_TYPE_SUITE</th>\n",
       "      <th>NAME_INCOME_TYPE</th>\n",
       "      <th>NAME_EDUCATION_TYPE</th>\n",
       "      <th>NAME_FAMILY_STATUS</th>\n",
       "      <th>NAME_HOUSING_TYPE</th>\n",
       "      <th>OCCUPATION_TYPE</th>\n",
       "      <th>WEEKDAY_APPR_PROCESS_START</th>\n",
       "      <th>ORGANIZATION_TYPE</th>\n",
       "      <th>HOUSETYPE_MODE</th>\n",
       "      <th>WALLSMATERIAL_MODE</th>\n",
       "    </tr>\n",
       "  </thead>\n",
       "  <tbody>\n",
       "    <tr>\n",
       "      <th>type</th>\n",
       "      <td>object</td>\n",
       "      <td>object</td>\n",
       "      <td>object</td>\n",
       "      <td>object</td>\n",
       "      <td>object</td>\n",
       "      <td>object</td>\n",
       "      <td>object</td>\n",
       "      <td>object</td>\n",
       "      <td>object</td>\n",
       "      <td>object</td>\n",
       "      <td>object</td>\n",
       "      <td>object</td>\n",
       "    </tr>\n",
       "    <tr>\n",
       "      <th>nb_nan</th>\n",
       "      <td>0.0</td>\n",
       "      <td>0.0</td>\n",
       "      <td>0.0</td>\n",
       "      <td>0.0</td>\n",
       "      <td>0.0</td>\n",
       "      <td>0.0</td>\n",
       "      <td>0.0</td>\n",
       "      <td>0.0</td>\n",
       "      <td>0.0</td>\n",
       "      <td>0.0</td>\n",
       "      <td>0.0</td>\n",
       "      <td>0.0</td>\n",
       "    </tr>\n",
       "    <tr>\n",
       "      <th>%_nan</th>\n",
       "      <td>0.0</td>\n",
       "      <td>0.0</td>\n",
       "      <td>0.0</td>\n",
       "      <td>0.0</td>\n",
       "      <td>0.0</td>\n",
       "      <td>0.0</td>\n",
       "      <td>0.0</td>\n",
       "      <td>0.0</td>\n",
       "      <td>0.0</td>\n",
       "      <td>0.0</td>\n",
       "      <td>0.0</td>\n",
       "      <td>0.0</td>\n",
       "    </tr>\n",
       "    <tr>\n",
       "      <th>count</th>\n",
       "      <td>307507</td>\n",
       "      <td>307507</td>\n",
       "      <td>307507</td>\n",
       "      <td>307507</td>\n",
       "      <td>307507</td>\n",
       "      <td>307507</td>\n",
       "      <td>307507</td>\n",
       "      <td>307507</td>\n",
       "      <td>307507</td>\n",
       "      <td>307507</td>\n",
       "      <td>307507</td>\n",
       "      <td>307507</td>\n",
       "    </tr>\n",
       "    <tr>\n",
       "      <th>unique</th>\n",
       "      <td>2</td>\n",
       "      <td>2</td>\n",
       "      <td>7</td>\n",
       "      <td>7</td>\n",
       "      <td>5</td>\n",
       "      <td>5</td>\n",
       "      <td>6</td>\n",
       "      <td>18</td>\n",
       "      <td>7</td>\n",
       "      <td>58</td>\n",
       "      <td>3</td>\n",
       "      <td>7</td>\n",
       "    </tr>\n",
       "    <tr>\n",
       "      <th>top</th>\n",
       "      <td>Cash loans</td>\n",
       "      <td>F</td>\n",
       "      <td>Unaccompanied</td>\n",
       "      <td>Working</td>\n",
       "      <td>Secondary / secondary special</td>\n",
       "      <td>Married</td>\n",
       "      <td>House / apartment</td>\n",
       "      <td>Laborers</td>\n",
       "      <td>TUESDAY</td>\n",
       "      <td>Business Entity Type 3</td>\n",
       "      <td>block of flats</td>\n",
       "      <td>Panel</td>\n",
       "    </tr>\n",
       "    <tr>\n",
       "      <th>freq</th>\n",
       "      <td>278232</td>\n",
       "      <td>202448</td>\n",
       "      <td>249815</td>\n",
       "      <td>158776</td>\n",
       "      <td>218389</td>\n",
       "      <td>196431</td>\n",
       "      <td>272865</td>\n",
       "      <td>151575</td>\n",
       "      <td>53900</td>\n",
       "      <td>67992</td>\n",
       "      <td>304796</td>\n",
       "      <td>222379</td>\n",
       "    </tr>\n",
       "  </tbody>\n",
       "</table>\n",
       "</div>"
      ],
      "text/plain": [
       "       NAME_CONTRACT_TYPE CODE_GENDER NAME_TYPE_SUITE NAME_INCOME_TYPE            NAME_EDUCATION_TYPE NAME_FAMILY_STATUS  NAME_HOUSING_TYPE OCCUPATION_TYPE WEEKDAY_APPR_PROCESS_START       ORGANIZATION_TYPE  HOUSETYPE_MODE WALLSMATERIAL_MODE\n",
       "type               object      object          object           object                         object             object             object          object                     object                  object          object             object\n",
       "nb_nan                0.0         0.0             0.0              0.0                            0.0                0.0                0.0             0.0                        0.0                     0.0             0.0                0.0\n",
       "%_nan                 0.0         0.0             0.0              0.0                            0.0                0.0                0.0             0.0                        0.0                     0.0             0.0                0.0\n",
       "count              307507      307507          307507           307507                         307507             307507             307507          307507                     307507                  307507          307507             307507\n",
       "unique                  2           2               7                7                              5                  5                  6              18                          7                      58               3                  7\n",
       "top            Cash loans           F   Unaccompanied          Working  Secondary / secondary special            Married  House / apartment        Laborers                    TUESDAY  Business Entity Type 3  block of flats              Panel\n",
       "freq               278232      202448          249815           158776                         218389             196431             272865          151575                      53900                   67992          304796             222379"
      ]
     },
     "execution_count": 54,
     "metadata": {},
     "output_type": "execute_result"
    }
   ],
   "source": [
    "# Résumé des variables qualitatives\n",
    "desc_cat = outils_data.description_variables(application_train, 'cat')\n",
    "desc_cat"
   ]
  },
  {
   "cell_type": "code",
   "execution_count": 55,
   "id": "23999447",
   "metadata": {
    "run_control": {
     "marked": false
    }
   },
   "outputs": [
    {
     "data": {
      "text/plain": [
       "['NAME_CONTRACT_TYPE', 'CODE_GENDER']"
      ]
     },
     "execution_count": 55,
     "metadata": {},
     "output_type": "execute_result"
    }
   ],
   "source": [
    "# Variables avec 2 catégories uniques\n",
    "%pycodestyle_off\n",
    "df_tmp = pd.DataFrame(desc_cat.loc['unique', :] <= 2)\n",
    "liste_2cat = df_tmp[df_tmp['unique'] == True].index.to_list()\n",
    "%pycodestyle_on\n",
    "liste_2cat"
   ]
  },
  {
   "cell_type": "code",
   "execution_count": 56,
   "id": "4b89314e",
   "metadata": {},
   "outputs": [
    {
     "data": {
      "text/plain": [
       "['OCCUPATION_TYPE', 'ORGANIZATION_TYPE']"
      ]
     },
     "execution_count": 56,
     "metadata": {},
     "output_type": "execute_result"
    }
   ],
   "source": [
    "# Variables avec plus de 15 catégories uniques\n",
    "%pycodestyle_off\n",
    "df_tmp2 = pd.DataFrame(desc_cat.loc['unique', :] > 15)\n",
    "liste_catsup15 = df_tmp2[df_tmp2['unique'] == True].index.to_list()\n",
    "%pycodestyle_on\n",
    "liste_catsup15"
   ]
  },
  {
   "cell_type": "markdown",
   "id": "7ea0d43a",
   "metadata": {},
   "source": [
    "**Bilan** :\n",
    "- 2 variables ne contiennent que 2 catégories, on encodera ces varaibles avec LabelEncoder :\n",
    "    - 'NAME_CONTRACT_TYPE',\n",
    "    - et 'CODE_GENDER'.\n",
    "- 2 variables avec plus de 15 catégories, on tentera d'encoder avec OneHotEncoder dans un premier temps et si on a des problèmes mémoires avec TargetEncoder :\n",
    "    - 'OCCUPATION_TYPE', \n",
    "    - et 'ORGANIZATION_TYPE'."
   ]
  },
  {
   "cell_type": "markdown",
   "id": "4d8ce3a8",
   "metadata": {},
   "source": [
    "**LabelEncoder**"
   ]
  },
  {
   "cell_type": "markdown",
   "id": "1101816b",
   "metadata": {},
   "source": [
    "Les 2 variables qualitatives avec seulement 2 types de catégories seront imputées avec LabelEncoder."
   ]
  },
  {
   "cell_type": "code",
   "execution_count": 57,
   "id": "6eec0b2f",
   "metadata": {
    "run_control": {
     "marked": false
    }
   },
   "outputs": [],
   "source": [
    "%pycodestyle_off\n",
    "le = LabelEncoder()\n",
    "for var in liste_2cat:\n",
    "    # Dataframe application_train\n",
    "    le.fit(application_train[var])\n",
    "    application_train[var] = le.transform(application_train[var])\n",
    "    # Dataframe appli_train_imp1\n",
    "    le.fit(appli_train_imp1[var])\n",
    "    appli_train_imp1[var] = le.transform(appli_train_imp1[var])\n",
    "    # Dataframe appli_train_imp2\n",
    "    le.fit(appli_train_imp2[var])\n",
    "    appli_train_imp2[var] = le.transform(appli_train_imp2[var])\n",
    "%pycodestyle_on"
   ]
  },
  {
   "cell_type": "markdown",
   "id": "45220642",
   "metadata": {},
   "source": [
    "**Bilan** :\n",
    "- Variable CODE_GENDER :\n",
    "    - 0 : Feminin\n",
    "    - 1 : Masculin\n",
    "- Variable CODE_GENDER :\n",
    "    - 0 : Cash loans\n",
    "    - 1 : Revolving loans "
   ]
  },
  {
   "cell_type": "markdown",
   "id": "9de7e126",
   "metadata": {},
   "source": [
    "**OneHotEncoder**"
   ]
  },
  {
   "cell_type": "markdown",
   "id": "540cd74b",
   "metadata": {},
   "source": [
    "Les variables qualitatives avec plus de 2 catégories seront encodées avec OneHotEncoder."
   ]
  },
  {
   "cell_type": "code",
   "execution_count": 58,
   "id": "b655606a",
   "metadata": {
    "run_control": {
     "marked": false
    }
   },
   "outputs": [
    {
     "name": "stdout",
     "output_type": "stream",
     "text": [
      "application_train : (307507, 284)\n",
      "appli_train_imp1 : (307507, 290)\n",
      "application_appli_train_imp2train : (307507, 290)\n"
     ]
    }
   ],
   "source": [
    "# Onehot encoding pour le reste des variables\n",
    "# Dataframe application_train\n",
    "application_train = pd.get_dummies(application_train)\n",
    "print(f'application_train : {application_train.shape}')\n",
    "# Dataframe appli_train_imp1\n",
    "appli_train_imp1 = pd.get_dummies(appli_train_imp1)\n",
    "print(f'appli_train_imp1 : {appli_train_imp1.shape}')\n",
    "# Dataframe appli_train_imp2\n",
    "appli_train_imp2 = pd.get_dummies(appli_train_imp2)\n",
    "print(f'appli_train_imp2 : {appli_train_imp2.shape}')"
   ]
  },
  {
   "cell_type": "code",
   "execution_count": 59,
   "id": "d1580656",
   "metadata": {},
   "outputs": [
    {
     "data": {
      "text/plain": [
       "{'HOUSETYPE_MODE_XNA',\n",
       " 'NAME_FAMILY_STATUS_XNA',\n",
       " 'NAME_INCOME_TYPE_XNA',\n",
       " 'NAME_TYPE_SUITE_XNA',\n",
       " 'OCCUPATION_TYPE_XNA',\n",
       " 'WALLSMATERIAL_MODE_XNA'}"
      ]
     },
     "execution_count": 59,
     "metadata": {},
     "output_type": "execute_result"
    }
   ],
   "source": [
    "# Variables en plus?\n",
    "list1 = set(application_train.columns.to_list())\n",
    "list2 = set(appli_train_imp1 .columns.to_list())\n",
    "list2 ^ list1"
   ]
  },
  {
   "cell_type": "markdown",
   "id": "ae29a7a1",
   "metadata": {},
   "source": [
    "#### <span style='background:Moccasin'>3.1.8. Gestion des fortes corrélations</span>"
   ]
  },
  {
   "cell_type": "markdown",
   "id": "e77899ef",
   "metadata": {},
   "source": [
    "**application_train**"
   ]
  },
  {
   "cell_type": "code",
   "execution_count": 60,
   "id": "8c598f0e",
   "metadata": {
    "run_control": {
     "marked": false
    }
   },
   "outputs": [
    {
     "name": "stdout",
     "output_type": "stream",
     "text": [
      "-------------------------------------------------------------------------------\n",
      "Memory usage du dataframe: 187.39 MB\n",
      "Memory usage après optimization: 166.87 MB\n",
      "Diminution de 11.0%\n",
      "-------------------------------------------------------------------------------\n"
     ]
    }
   ],
   "source": [
    "# Réduction de la mémoire pour les nouvelles variables\n",
    "application_train =\\\n",
    "    outils_preprocessing.reduce_mem_usage(application_train, verbose=True)"
   ]
  },
  {
   "cell_type": "code",
   "execution_count": 61,
   "id": "54fe5cd1",
   "metadata": {},
   "outputs": [
    {
     "name": "stdout",
     "output_type": "stream",
     "text": [
      "-------------------------------------------------------------\n",
      "Type de variable pour chacune des variables\n",
      "\n"
     ]
    },
    {
     "data": {
      "text/plain": [
       "SK_ID_CURR                                             int32\n",
       "TARGET                                                  int8\n",
       "NAME_CONTRACT_TYPE                                      int8\n",
       "CODE_GENDER                                             int8\n",
       "FLAG_OWN_CAR                                            int8\n",
       "FLAG_OWN_REALTY                                         int8\n",
       "CNT_CHILDREN                                            int8\n",
       "AMT_INCOME_TOTAL                                     float32\n",
       "AMT_CREDIT                                           float32\n",
       "AMT_ANNUITY                                          float32\n",
       "AMT_GOODS_PRICE                                      float32\n",
       "REGION_POPULATION_RELATIVE                           float16\n",
       "DAYS_BIRTH                                             int16\n",
       "DAYS_EMPLOYED                                        float16\n",
       "DAYS_REGISTRATION                                    float16\n",
       "DAYS_ID_PUBLISH                                        int16\n",
       "OWN_CAR_AGE                                          float16\n",
       "FLAG_MOBIL                                              int8\n",
       "FLAG_EMP_PHONE                                          int8\n",
       "FLAG_WORK_PHONE                                         int8\n",
       "FLAG_CONT_MOBILE                                        int8\n",
       "FLAG_PHONE                                              int8\n",
       "FLAG_EMAIL                                              int8\n",
       "CNT_FAM_MEMBERS                                      float16\n",
       "REGION_RATING_CLIENT                                    int8\n",
       "REGION_RATING_CLIENT_W_CITY                             int8\n",
       "HOUR_APPR_PROCESS_START                                 int8\n",
       "REG_REGION_NOT_LIVE_REGION                              int8\n",
       "REG_REGION_NOT_WORK_REGION                              int8\n",
       "LIVE_REGION_NOT_WORK_REGION                             int8\n",
       "REG_CITY_NOT_LIVE_CITY                                  int8\n",
       "REG_CITY_NOT_WORK_CITY                                  int8\n",
       "LIVE_CITY_NOT_WORK_CITY                                 int8\n",
       "EXT_SOURCE_1                                         float16\n",
       "EXT_SOURCE_2                                         float16\n",
       "EXT_SOURCE_3                                         float16\n",
       "APARTMENTS_AVG                                       float16\n",
       "BASEMENTAREA_AVG                                     float16\n",
       "YEARS_BEGINEXPLUATATION_AVG                          float16\n",
       "YEARS_BUILD_AVG                                      float16\n",
       "ELEVATORS_AVG                                        float16\n",
       "ENTRANCES_AVG                                        float16\n",
       "FLOORSMAX_AVG                                        float16\n",
       "FLOORSMIN_AVG                                        float16\n",
       "LANDAREA_AVG                                         float16\n",
       "LIVINGAREA_AVG                                       float16\n",
       "NONLIVINGAREA_AVG                                    float16\n",
       "APARTMENTS_MODE                                      float16\n",
       "BASEMENTAREA_MODE                                    float16\n",
       "YEARS_BEGINEXPLUATATION_MODE                         float16\n",
       "YEARS_BUILD_MODE                                     float16\n",
       "ELEVATORS_MODE                                       float16\n",
       "ENTRANCES_MODE                                       float16\n",
       "FLOORSMAX_MODE                                       float16\n",
       "FLOORSMIN_MODE                                       float16\n",
       "LANDAREA_MODE                                        float16\n",
       "LIVINGAREA_MODE                                      float16\n",
       "NONLIVINGAREA_MODE                                   float16\n",
       "APARTMENTS_MEDI                                      float16\n",
       "BASEMENTAREA_MEDI                                    float16\n",
       "YEARS_BEGINEXPLUATATION_MEDI                         float16\n",
       "YEARS_BUILD_MEDI                                     float16\n",
       "ELEVATORS_MEDI                                       float16\n",
       "ENTRANCES_MEDI                                       float16\n",
       "FLOORSMAX_MEDI                                       float16\n",
       "FLOORSMIN_MEDI                                       float16\n",
       "LANDAREA_MEDI                                        float16\n",
       "LIVINGAREA_MEDI                                      float16\n",
       "NONLIVINGAREA_MEDI                                   float16\n",
       "TOTALAREA_MODE                                       float16\n",
       "EMERGENCYSTATE_MODE                                     int8\n",
       "OBS_30_CNT_SOCIAL_CIRCLE                             float16\n",
       "DEF_30_CNT_SOCIAL_CIRCLE                             float16\n",
       "OBS_60_CNT_SOCIAL_CIRCLE                             float16\n",
       "DEF_60_CNT_SOCIAL_CIRCLE                             float16\n",
       "DAYS_LAST_PHONE_CHANGE                               float16\n",
       "FLAG_DOCUMENT_2                                         int8\n",
       "FLAG_DOCUMENT_3                                         int8\n",
       "FLAG_DOCUMENT_4                                         int8\n",
       "FLAG_DOCUMENT_5                                         int8\n",
       "FLAG_DOCUMENT_6                                         int8\n",
       "FLAG_DOCUMENT_7                                         int8\n",
       "FLAG_DOCUMENT_8                                         int8\n",
       "FLAG_DOCUMENT_9                                         int8\n",
       "FLAG_DOCUMENT_10                                        int8\n",
       "FLAG_DOCUMENT_11                                        int8\n",
       "FLAG_DOCUMENT_12                                        int8\n",
       "FLAG_DOCUMENT_13                                        int8\n",
       "FLAG_DOCUMENT_14                                        int8\n",
       "FLAG_DOCUMENT_15                                        int8\n",
       "FLAG_DOCUMENT_16                                        int8\n",
       "FLAG_DOCUMENT_17                                        int8\n",
       "FLAG_DOCUMENT_18                                        int8\n",
       "FLAG_DOCUMENT_19                                        int8\n",
       "FLAG_DOCUMENT_20                                        int8\n",
       "FLAG_DOCUMENT_21                                        int8\n",
       "AMT_REQ_CREDIT_BUREAU_HOUR                           float16\n",
       "AMT_REQ_CREDIT_BUREAU_DAY                            float16\n",
       "AMT_REQ_CREDIT_BUREAU_WEEK                           float16\n",
       "AMT_REQ_CREDIT_BUREAU_MON                            float16\n",
       "AMT_REQ_CREDIT_BUREAU_QRT                            float16\n",
       "AMT_REQ_CREDIT_BUREAU_YEAR                           float16\n",
       "CREDIT_INCOME_RATIO                                  float16\n",
       "CREDIT_ANNUITY_RATIO                                 float16\n",
       "ANNUITY_INCOME_RATIO                                 float16\n",
       "INCOME_ANNUITY_DIFF                                  float32\n",
       "CREDIT_GOODS_RATIO                                   float16\n",
       "INCOME_GOODS_DIFF                                    float16\n",
       "INCOME_AGE_RATIO                                     float16\n",
       "CREDIT_AGE_RATIO                                     float16\n",
       "INCOME_EXT_RATIO                                     float32\n",
       "CREDIT_EXT_RATIO                                     float32\n",
       "HOUR_PROCESS_CREDIT_MUL                              float32\n",
       "YEARS_BIRTH                                          float16\n",
       "AGE_EMPLOYED_DIFF                                    float16\n",
       "EMPLOYED_AGE_RATIO                                   float16\n",
       "LAST_PHONE_BIRTH_RATIO                               float16\n",
       "LAST_PHONE_EMPLOYED_RATIO                            float32\n",
       "CAR_EMPLOYED_DIFF                                    float16\n",
       "CAR_EMPLOYED_RATIO                                   float32\n",
       "CAR_AGE_DIFF                                         float16\n",
       "CAR_AGE_RATIO                                        float16\n",
       "FLAG_CONTACTS_SUM                                       int8\n",
       "CNT_NON_CHILDREN                                     float16\n",
       "CHILDREN_INCOME_RATIO                                float16\n",
       "PER_CAPITA_INCOME                                    float32\n",
       "REGIONS_INCOME_MOY                                   float32\n",
       "REGION_RATING_MAX                                       int8\n",
       "REGION_RATING_MEAN                                   float16\n",
       "REGION_RATING_MUL                                       int8\n",
       "FLAG_REGIONS_SUM                                        int8\n",
       "EXT_SOURCE_SUM                                       float16\n",
       "EXT_SOURCE_MEAN                                      float16\n",
       "EXT_SOURCE_MUL                                       float16\n",
       "EXT_SOURCE_MAX                                       float16\n",
       "EXT_SOURCE_MIN                                       float16\n",
       "EXT_SOURCE_VAR                                       float16\n",
       "WEIGHTED_EXT_SOURCE                                  float16\n",
       "APARTMENTS_SUM_AVG                                   float16\n",
       "APARTMENTS_SUM_MODE                                  float16\n",
       "APARTMENTS_SUM_MEDI                                  float16\n",
       "INCOME_APARTMENT_AVG_MUL                             float32\n",
       "INCOME_APARTMENT_MODE_MUL                            float32\n",
       "INCOME_APARTMENT_MEDI_MUL                            float32\n",
       "OBS_30_60_SUM                                        float16\n",
       "DEF_30_60_SUM                                        float16\n",
       "OBS_DEF_30_MUL                                       float16\n",
       "OBS_DEF_60_MUL                                       float16\n",
       "SUM_OBS_DEF_ALL                                      float16\n",
       "OBS_30_CREDIT_RATIO                                  float32\n",
       "OBS_60_CREDIT_RATIO                                  float32\n",
       "DEF_30_CREDIT_RATIO                                  float32\n",
       "DEF_60_CREDIT_RATIO                                  float32\n",
       "FLAGS_DOCUMENTS_SUM                                     int8\n",
       "FLAGS_DOCUMENTS_AVG                                  float16\n",
       "FLAGS_DOCUMENTS_VAR                                  float16\n",
       "FLAGS_DOCUMENTS_STD                                  float16\n",
       "DAYS_DETAILS_CHANGE_SUM                              float16\n",
       "AMT_ENQ_SUM                                          float16\n",
       "ENQ_CREDIT_RATIO                                     float16\n",
       "TARGET_NEIGHBORS_500_MEAN                            float16\n",
       "NAME_TYPE_SUITE_Children                             float16\n",
       "NAME_TYPE_SUITE_Family                               float16\n",
       "NAME_TYPE_SUITE_Group of people                      float16\n",
       "NAME_TYPE_SUITE_Other_A                              float16\n",
       "NAME_TYPE_SUITE_Other_B                              float16\n",
       "NAME_TYPE_SUITE_Spouse, partner                      float16\n",
       "NAME_TYPE_SUITE_Unaccompanied                        float16\n",
       "NAME_INCOME_TYPE_Businessman                         float16\n",
       "NAME_INCOME_TYPE_Commercial associate                float16\n",
       "NAME_INCOME_TYPE_Pensioner                           float16\n",
       "NAME_INCOME_TYPE_State servant                       float16\n",
       "NAME_INCOME_TYPE_Student                             float16\n",
       "NAME_INCOME_TYPE_Unemployed                          float16\n",
       "NAME_INCOME_TYPE_Working                             float16\n",
       "NAME_EDUCATION_TYPE_Academic degree                  float16\n",
       "NAME_EDUCATION_TYPE_Higher education                 float16\n",
       "NAME_EDUCATION_TYPE_Incomplete higher                float16\n",
       "NAME_EDUCATION_TYPE_Lower secondary                  float16\n",
       "NAME_EDUCATION_TYPE_Secondary / secondary special    float16\n",
       "NAME_FAMILY_STATUS_Civil marriage                    float16\n",
       "NAME_FAMILY_STATUS_Married                           float16\n",
       "NAME_FAMILY_STATUS_Separated                         float16\n",
       "NAME_FAMILY_STATUS_Single / not married              float16\n",
       "NAME_FAMILY_STATUS_Widow                             float16\n",
       "NAME_HOUSING_TYPE_Co-op apartment                    float16\n",
       "NAME_HOUSING_TYPE_House / apartment                  float16\n",
       "NAME_HOUSING_TYPE_Municipal apartment                float16\n",
       "NAME_HOUSING_TYPE_Office apartment                   float16\n",
       "NAME_HOUSING_TYPE_Rented apartment                   float16\n",
       "NAME_HOUSING_TYPE_With parents                       float16\n",
       "OCCUPATION_TYPE_Accountants                          float16\n",
       "OCCUPATION_TYPE_Cleaning staff                       float16\n",
       "OCCUPATION_TYPE_Cooking staff                        float16\n",
       "OCCUPATION_TYPE_Core staff                           float16\n",
       "OCCUPATION_TYPE_Drivers                              float16\n",
       "OCCUPATION_TYPE_HR staff                             float16\n",
       "OCCUPATION_TYPE_High skill tech staff                float16\n",
       "OCCUPATION_TYPE_IT staff                             float16\n",
       "OCCUPATION_TYPE_Laborers                             float16\n",
       "OCCUPATION_TYPE_Low-skill Laborers                   float16\n",
       "OCCUPATION_TYPE_Managers                             float16\n",
       "OCCUPATION_TYPE_Medicine staff                       float16\n",
       "OCCUPATION_TYPE_Private service staff                float16\n",
       "OCCUPATION_TYPE_Realty agents                        float16\n",
       "OCCUPATION_TYPE_Sales staff                          float16\n",
       "OCCUPATION_TYPE_Secretaries                          float16\n",
       "OCCUPATION_TYPE_Security staff                       float16\n",
       "OCCUPATION_TYPE_Waiters/barmen staff                 float16\n",
       "WEEKDAY_APPR_PROCESS_START_FRIDAY                    float16\n",
       "WEEKDAY_APPR_PROCESS_START_MONDAY                    float16\n",
       "WEEKDAY_APPR_PROCESS_START_SATURDAY                  float16\n",
       "WEEKDAY_APPR_PROCESS_START_SUNDAY                    float16\n",
       "WEEKDAY_APPR_PROCESS_START_THURSDAY                  float16\n",
       "WEEKDAY_APPR_PROCESS_START_TUESDAY                   float16\n",
       "WEEKDAY_APPR_PROCESS_START_WEDNESDAY                 float16\n",
       "ORGANIZATION_TYPE_Advertising                        float16\n",
       "ORGANIZATION_TYPE_Agriculture                        float16\n",
       "ORGANIZATION_TYPE_Bank                               float16\n",
       "ORGANIZATION_TYPE_Business Entity Type 1             float16\n",
       "ORGANIZATION_TYPE_Business Entity Type 2             float16\n",
       "ORGANIZATION_TYPE_Business Entity Type 3             float16\n",
       "ORGANIZATION_TYPE_Cleaning                           float16\n",
       "ORGANIZATION_TYPE_Construction                       float16\n",
       "ORGANIZATION_TYPE_Culture                            float16\n",
       "ORGANIZATION_TYPE_Electricity                        float16\n",
       "ORGANIZATION_TYPE_Emergency                          float16\n",
       "ORGANIZATION_TYPE_Government                         float16\n",
       "ORGANIZATION_TYPE_Hotel                              float16\n",
       "ORGANIZATION_TYPE_Housing                            float16\n",
       "ORGANIZATION_TYPE_Industry: type 1                   float16\n",
       "ORGANIZATION_TYPE_Industry: type 10                  float16\n",
       "ORGANIZATION_TYPE_Industry: type 11                  float16\n",
       "ORGANIZATION_TYPE_Industry: type 12                  float16\n",
       "ORGANIZATION_TYPE_Industry: type 13                  float16\n",
       "ORGANIZATION_TYPE_Industry: type 2                   float16\n",
       "ORGANIZATION_TYPE_Industry: type 3                   float16\n",
       "ORGANIZATION_TYPE_Industry: type 4                   float16\n",
       "ORGANIZATION_TYPE_Industry: type 5                   float16\n",
       "ORGANIZATION_TYPE_Industry: type 6                   float16\n",
       "ORGANIZATION_TYPE_Industry: type 7                   float16\n",
       "ORGANIZATION_TYPE_Industry: type 8                   float16\n",
       "ORGANIZATION_TYPE_Industry: type 9                   float16\n",
       "ORGANIZATION_TYPE_Insurance                          float16\n",
       "ORGANIZATION_TYPE_Kindergarten                       float16\n",
       "ORGANIZATION_TYPE_Legal Services                     float16\n",
       "ORGANIZATION_TYPE_Medicine                           float16\n",
       "ORGANIZATION_TYPE_Military                           float16\n",
       "ORGANIZATION_TYPE_Mobile                             float16\n",
       "ORGANIZATION_TYPE_Other                              float16\n",
       "ORGANIZATION_TYPE_Police                             float16\n",
       "ORGANIZATION_TYPE_Postal                             float16\n",
       "ORGANIZATION_TYPE_Realtor                            float16\n",
       "ORGANIZATION_TYPE_Religion                           float16\n",
       "ORGANIZATION_TYPE_Restaurant                         float16\n",
       "ORGANIZATION_TYPE_School                             float16\n",
       "ORGANIZATION_TYPE_Security                           float16\n",
       "ORGANIZATION_TYPE_Security Ministries                float16\n",
       "ORGANIZATION_TYPE_Self-employed                      float16\n",
       "ORGANIZATION_TYPE_Services                           float16\n",
       "ORGANIZATION_TYPE_Telecom                            float16\n",
       "ORGANIZATION_TYPE_Trade: type 1                      float16\n",
       "ORGANIZATION_TYPE_Trade: type 2                      float16\n",
       "ORGANIZATION_TYPE_Trade: type 3                      float16\n",
       "ORGANIZATION_TYPE_Trade: type 4                      float16\n",
       "ORGANIZATION_TYPE_Trade: type 5                      float16\n",
       "ORGANIZATION_TYPE_Trade: type 6                      float16\n",
       "ORGANIZATION_TYPE_Trade: type 7                      float16\n",
       "ORGANIZATION_TYPE_Transport: type 1                  float16\n",
       "ORGANIZATION_TYPE_Transport: type 2                  float16\n",
       "ORGANIZATION_TYPE_Transport: type 3                  float16\n",
       "ORGANIZATION_TYPE_Transport: type 4                  float16\n",
       "ORGANIZATION_TYPE_University                         float16\n",
       "ORGANIZATION_TYPE_XNA                                float16\n",
       "HOUSETYPE_MODE_block of flats                        float16\n",
       "HOUSETYPE_MODE_specific housing                      float16\n",
       "HOUSETYPE_MODE_terraced house                        float16\n",
       "WALLSMATERIAL_MODE_Block                             float16\n",
       "WALLSMATERIAL_MODE_Mixed                             float16\n",
       "WALLSMATERIAL_MODE_Monolithic                        float16\n",
       "WALLSMATERIAL_MODE_Others                            float16\n",
       "WALLSMATERIAL_MODE_Panel                             float16\n",
       "WALLSMATERIAL_MODE_Stone, brick                      float16\n",
       "WALLSMATERIAL_MODE_Wooden                            float16\n",
       "dtype: object"
      ]
     },
     "metadata": {},
     "output_type": "display_data"
    },
    {
     "data": {
      "text/html": [
       "<style  type=\"text/css\" >\n",
       "#T_a9eab_row0_col0,#T_a9eab_row0_col1{\n",
       "            background-color:  #800000;\n",
       "            color:  #f1f1f1;\n",
       "        }#T_a9eab_row1_col0,#T_a9eab_row1_col1{\n",
       "            background-color:  #0000e6;\n",
       "            color:  #f1f1f1;\n",
       "        }#T_a9eab_row2_col0,#T_a9eab_row2_col1{\n",
       "            background-color:  #000087;\n",
       "            color:  #f1f1f1;\n",
       "        }#T_a9eab_row3_col0,#T_a9eab_row3_col1{\n",
       "            background-color:  #00004f;\n",
       "            color:  #f1f1f1;\n",
       "        }#T_a9eab_row4_col0,#T_a9eab_row4_col1{\n",
       "            background-color:  #00004c;\n",
       "            color:  #f1f1f1;\n",
       "        }</style><table id=\"T_a9eab_\" ><thead>    <tr>        <th class=\"blank level0\" ></th>        <th class=\"col_heading level0 col0\" >Nombre par type de variable</th>        <th class=\"col_heading level0 col1\" >% des types de variable</th>    </tr></thead><tbody>\n",
       "                <tr>\n",
       "                        <th id=\"T_a9eab_level0_row0\" class=\"row_heading level0 row0\" >float16</th>\n",
       "                        <td id=\"T_a9eab_row0_col0\" class=\"data row0 col0\" >215</td>\n",
       "                        <td id=\"T_a9eab_row0_col1\" class=\"data row0 col1\" >75.7000</td>\n",
       "            </tr>\n",
       "            <tr>\n",
       "                        <th id=\"T_a9eab_level0_row1\" class=\"row_heading level0 row1\" >int8</th>\n",
       "                        <td id=\"T_a9eab_row1_col0\" class=\"data row1 col0\" >47</td>\n",
       "                        <td id=\"T_a9eab_row1_col1\" class=\"data row1 col1\" >16.5500</td>\n",
       "            </tr>\n",
       "            <tr>\n",
       "                        <th id=\"T_a9eab_level0_row2\" class=\"row_heading level0 row2\" >float32</th>\n",
       "                        <td id=\"T_a9eab_row2_col0\" class=\"data row2 col0\" >19</td>\n",
       "                        <td id=\"T_a9eab_row2_col1\" class=\"data row2 col1\" >6.6900</td>\n",
       "            </tr>\n",
       "            <tr>\n",
       "                        <th id=\"T_a9eab_level0_row3\" class=\"row_heading level0 row3\" >int16</th>\n",
       "                        <td id=\"T_a9eab_row3_col0\" class=\"data row3 col0\" >2</td>\n",
       "                        <td id=\"T_a9eab_row3_col1\" class=\"data row3 col1\" >0.7000</td>\n",
       "            </tr>\n",
       "            <tr>\n",
       "                        <th id=\"T_a9eab_level0_row4\" class=\"row_heading level0 row4\" >int32</th>\n",
       "                        <td id=\"T_a9eab_row4_col0\" class=\"data row4 col0\" >1</td>\n",
       "                        <td id=\"T_a9eab_row4_col1\" class=\"data row4 col1\" >0.3500</td>\n",
       "            </tr>\n",
       "    </tbody></table>"
      ],
      "text/plain": [
       "<pandas.io.formats.style.Styler at 0x21a19017940>"
      ]
     },
     "metadata": {},
     "output_type": "display_data"
    }
   ],
   "source": [
    "# Types des variables\n",
    "outils_data.get_types_variables(application_train, True, True, False)"
   ]
  },
  {
   "cell_type": "code",
   "execution_count": 62,
   "id": "8bd717a7",
   "metadata": {
    "run_control": {
     "marked": false
    }
   },
   "outputs": [],
   "source": [
    "# Préparation de la matrice de corrélation\n",
    "# ---------------------------------------------------------------------\n",
    "# Variables fortement corrélées : si le coef de Pearson est :\n",
    "# > 0.8 ou < -0.8\n",
    "# et inférieur à 1 ou > -1 (corrélée avec elle-même)\n",
    "seuil = 0.8\n",
    "# Matrice de corrélation avec valeur absolue pour ne pas avoir à gérer\n",
    "# les corrélations positives et négatives séparément\n",
    "corr = application_train.corr().abs()\n",
    "# On ne conserve que la partie supérieur à la diagonale pour n'avoir\n",
    "# qu'une seule fois les corrélations prisent en compte (symétrie axiale)\n",
    "corr_triangle = corr.where(np.triu(np.ones(corr.shape), k=1)\n",
    "                           .astype(np.bool))"
   ]
  },
  {
   "cell_type": "code",
   "execution_count": 63,
   "id": "7715a499",
   "metadata": {
    "run_control": {
     "marked": false
    }
   },
   "outputs": [
    {
     "name": "stdout",
     "output_type": "stream",
     "text": [
      "78 variables fortement corrélées à supprimer :\n",
      "\n",
      "AMT_GOODS_PRICE\n",
      "CNT_FAM_MEMBERS\n",
      "REGION_RATING_CLIENT_W_CITY\n",
      "LIVE_REGION_NOT_WORK_REGION\n",
      "LIVE_CITY_NOT_WORK_CITY\n",
      "ELEVATORS_AVG\n",
      "LIVINGAREA_AVG\n",
      "APARTMENTS_MODE\n",
      "BASEMENTAREA_MODE\n",
      "YEARS_BEGINEXPLUATATION_MODE\n",
      "YEARS_BUILD_MODE\n",
      "ELEVATORS_MODE\n",
      "ENTRANCES_MODE\n",
      "FLOORSMAX_MODE\n",
      "FLOORSMIN_MODE\n",
      "LANDAREA_MODE\n",
      "LIVINGAREA_MODE\n",
      "NONLIVINGAREA_MODE\n",
      "APARTMENTS_MEDI\n",
      "BASEMENTAREA_MEDI\n",
      "YEARS_BEGINEXPLUATATION_MEDI\n",
      "YEARS_BUILD_MEDI\n",
      "ELEVATORS_MEDI\n",
      "ENTRANCES_MEDI\n",
      "FLOORSMAX_MEDI\n",
      "FLOORSMIN_MEDI\n",
      "LANDAREA_MEDI\n",
      "LIVINGAREA_MEDI\n",
      "NONLIVINGAREA_MEDI\n",
      "TOTALAREA_MODE\n",
      "OBS_60_CNT_SOCIAL_CIRCLE\n",
      "DEF_60_CNT_SOCIAL_CIRCLE\n",
      "INCOME_ANNUITY_DIFF\n",
      "INCOME_AGE_RATIO\n",
      "CREDIT_AGE_RATIO\n",
      "CREDIT_EXT_RATIO\n",
      "HOUR_PROCESS_CREDIT_MUL\n",
      "YEARS_BIRTH\n",
      "AGE_EMPLOYED_DIFF\n",
      "EMPLOYED_AGE_RATIO\n",
      "LAST_PHONE_BIRTH_RATIO\n",
      "CAR_EMPLOYED_DIFF\n",
      "CAR_AGE_DIFF\n",
      "CAR_AGE_RATIO\n",
      "CHILDREN_INCOME_RATIO\n",
      "PER_CAPITA_INCOME\n",
      "REGIONS_INCOME_MOY\n",
      "REGION_RATING_MAX\n",
      "REGION_RATING_MEAN\n",
      "REGION_RATING_MUL\n",
      "FLAG_REGIONS_SUM\n",
      "EXT_SOURCE_MEAN\n",
      "EXT_SOURCE_MUL\n",
      "EXT_SOURCE_MIN\n",
      "WEIGHTED_EXT_SOURCE\n",
      "APARTMENTS_SUM_AVG\n",
      "APARTMENTS_SUM_MODE\n",
      "APARTMENTS_SUM_MEDI\n",
      "INCOME_APARTMENT_AVG_MUL\n",
      "INCOME_APARTMENT_MODE_MUL\n",
      "INCOME_APARTMENT_MEDI_MUL\n",
      "OBS_30_60_SUM\n",
      "DEF_30_60_SUM\n",
      "OBS_DEF_60_MUL\n",
      "SUM_OBS_DEF_ALL\n",
      "OBS_60_CREDIT_RATIO\n",
      "DEF_30_CREDIT_RATIO\n",
      "DEF_60_CREDIT_RATIO\n",
      "FLAGS_DOCUMENTS_AVG\n",
      "FLAGS_DOCUMENTS_VAR\n",
      "FLAGS_DOCUMENTS_STD\n",
      "DAYS_DETAILS_CHANGE_SUM\n",
      "AMT_ENQ_SUM\n",
      "NAME_TYPE_SUITE_Unaccompanied\n",
      "NAME_INCOME_TYPE_Pensioner\n",
      "NAME_EDUCATION_TYPE_Secondary / secondary special\n",
      "ORGANIZATION_TYPE_XNA\n",
      "WALLSMATERIAL_MODE_Stone, brick\n"
     ]
    }
   ],
   "source": [
    "# Variables avec un coef de Pearson > 0.8?\n",
    "cols_corr_a_supp = [var for var in corr_triangle.columns\n",
    "                    if any(corr_triangle[var] > seuil)]\n",
    "print(f'{len(cols_corr_a_supp)} variables fortement corrélées à supprimer :\\n')\n",
    "for var in cols_corr_a_supp:\n",
    "    print(var)"
   ]
  },
  {
   "cell_type": "code",
   "execution_count": 64,
   "id": "ad26cdb4",
   "metadata": {
    "run_control": {
     "marked": false
    }
   },
   "outputs": [
    {
     "name": "stdout",
     "output_type": "stream",
     "text": [
      "application_train : (307507, 284)\n",
      "application_train : (307507, 206)\n"
     ]
    }
   ],
   "source": [
    "# Suppression des variables fortement corrélées\n",
    "print(f'application_train : {application_train.shape}')\n",
    "application_train.drop(columns=cols_corr_a_supp,  inplace=True)\n",
    "print(f'application_train : {application_train.shape}')"
   ]
  },
  {
   "cell_type": "code",
   "execution_count": 65,
   "id": "adf82173",
   "metadata": {
    "run_control": {
     "marked": false
    }
   },
   "outputs": [],
   "source": [
    "# Sauvegarde de application_train nettoyée, encodée, prête pour ML\n",
    "fic_sav_application_train = \\\n",
    "    '../sauvegarde/pre-processing/application_train_clean.pickle'\n",
    "with open(fic_sav_application_train, 'wb') as f:\n",
    "    pickle.dump(application_train, f, pickle.HIGHEST_PROTOCOL)"
   ]
  },
  {
   "cell_type": "markdown",
   "id": "91f651d7",
   "metadata": {},
   "source": [
    "**appli_train_imp1**"
   ]
  },
  {
   "cell_type": "code",
   "execution_count": 66,
   "id": "96c41382",
   "metadata": {
    "run_control": {
     "marked": false
    }
   },
   "outputs": [
    {
     "name": "stdout",
     "output_type": "stream",
     "text": [
      "-------------------------------------------------------------------------------\n",
      "Memory usage du dataframe: 189.15 MB\n",
      "Memory usage après optimization: 173.32 MB\n",
      "Diminution de 8.4%\n",
      "-------------------------------------------------------------------------------\n"
     ]
    }
   ],
   "source": [
    "# Réduction de la mémoire pour les nouvelles variables\n",
    "appli_train_imp1 =\\\n",
    "    outils_preprocessing.reduce_mem_usage(appli_train_imp1, verbose=True)"
   ]
  },
  {
   "cell_type": "code",
   "execution_count": 67,
   "id": "8834421b",
   "metadata": {},
   "outputs": [
    {
     "name": "stdout",
     "output_type": "stream",
     "text": [
      "-------------------------------------------------------------\n",
      "Type de variable pour chacune des variables\n",
      "\n"
     ]
    },
    {
     "data": {
      "text/plain": [
       "SK_ID_CURR                                             int32\n",
       "TARGET                                                  int8\n",
       "NAME_CONTRACT_TYPE                                      int8\n",
       "CODE_GENDER                                             int8\n",
       "FLAG_OWN_CAR                                            int8\n",
       "FLAG_OWN_REALTY                                         int8\n",
       "CNT_CHILDREN                                            int8\n",
       "AMT_INCOME_TOTAL                                     float32\n",
       "AMT_CREDIT                                           float32\n",
       "AMT_ANNUITY                                          float32\n",
       "AMT_GOODS_PRICE                                      float32\n",
       "REGION_POPULATION_RELATIVE                           float16\n",
       "DAYS_BIRTH                                             int16\n",
       "DAYS_EMPLOYED                                        float16\n",
       "DAYS_REGISTRATION                                    float16\n",
       "DAYS_ID_PUBLISH                                        int16\n",
       "OWN_CAR_AGE                                          float16\n",
       "FLAG_MOBIL                                              int8\n",
       "FLAG_EMP_PHONE                                          int8\n",
       "FLAG_WORK_PHONE                                         int8\n",
       "FLAG_CONT_MOBILE                                        int8\n",
       "FLAG_PHONE                                              int8\n",
       "FLAG_EMAIL                                              int8\n",
       "CNT_FAM_MEMBERS                                      float16\n",
       "REGION_RATING_CLIENT                                    int8\n",
       "REGION_RATING_CLIENT_W_CITY                             int8\n",
       "HOUR_APPR_PROCESS_START                                 int8\n",
       "REG_REGION_NOT_LIVE_REGION                              int8\n",
       "REG_REGION_NOT_WORK_REGION                              int8\n",
       "LIVE_REGION_NOT_WORK_REGION                             int8\n",
       "REG_CITY_NOT_LIVE_CITY                                  int8\n",
       "REG_CITY_NOT_WORK_CITY                                  int8\n",
       "LIVE_CITY_NOT_WORK_CITY                                 int8\n",
       "EXT_SOURCE_1                                         float16\n",
       "EXT_SOURCE_2                                         float16\n",
       "EXT_SOURCE_3                                         float16\n",
       "APARTMENTS_AVG                                       float16\n",
       "BASEMENTAREA_AVG                                     float16\n",
       "YEARS_BEGINEXPLUATATION_AVG                          float16\n",
       "YEARS_BUILD_AVG                                      float16\n",
       "ELEVATORS_AVG                                        float16\n",
       "ENTRANCES_AVG                                        float16\n",
       "FLOORSMAX_AVG                                        float16\n",
       "FLOORSMIN_AVG                                        float16\n",
       "LANDAREA_AVG                                         float16\n",
       "LIVINGAREA_AVG                                       float16\n",
       "NONLIVINGAREA_AVG                                    float16\n",
       "APARTMENTS_MODE                                      float16\n",
       "BASEMENTAREA_MODE                                    float16\n",
       "YEARS_BEGINEXPLUATATION_MODE                         float16\n",
       "YEARS_BUILD_MODE                                     float16\n",
       "ELEVATORS_MODE                                       float16\n",
       "ENTRANCES_MODE                                       float16\n",
       "FLOORSMAX_MODE                                       float16\n",
       "FLOORSMIN_MODE                                       float16\n",
       "LANDAREA_MODE                                        float16\n",
       "LIVINGAREA_MODE                                      float16\n",
       "NONLIVINGAREA_MODE                                   float16\n",
       "APARTMENTS_MEDI                                      float16\n",
       "BASEMENTAREA_MEDI                                    float16\n",
       "YEARS_BEGINEXPLUATATION_MEDI                         float16\n",
       "YEARS_BUILD_MEDI                                     float16\n",
       "ELEVATORS_MEDI                                       float16\n",
       "ENTRANCES_MEDI                                       float16\n",
       "FLOORSMAX_MEDI                                       float16\n",
       "FLOORSMIN_MEDI                                       float16\n",
       "LANDAREA_MEDI                                        float16\n",
       "LIVINGAREA_MEDI                                      float16\n",
       "NONLIVINGAREA_MEDI                                   float16\n",
       "TOTALAREA_MODE                                       float16\n",
       "EMERGENCYSTATE_MODE                                     int8\n",
       "OBS_30_CNT_SOCIAL_CIRCLE                             float16\n",
       "DEF_30_CNT_SOCIAL_CIRCLE                             float16\n",
       "OBS_60_CNT_SOCIAL_CIRCLE                             float16\n",
       "DEF_60_CNT_SOCIAL_CIRCLE                             float16\n",
       "DAYS_LAST_PHONE_CHANGE                               float16\n",
       "FLAG_DOCUMENT_2                                         int8\n",
       "FLAG_DOCUMENT_3                                         int8\n",
       "FLAG_DOCUMENT_4                                         int8\n",
       "FLAG_DOCUMENT_5                                         int8\n",
       "FLAG_DOCUMENT_6                                         int8\n",
       "FLAG_DOCUMENT_7                                         int8\n",
       "FLAG_DOCUMENT_8                                         int8\n",
       "FLAG_DOCUMENT_9                                         int8\n",
       "FLAG_DOCUMENT_10                                        int8\n",
       "FLAG_DOCUMENT_11                                        int8\n",
       "FLAG_DOCUMENT_12                                        int8\n",
       "FLAG_DOCUMENT_13                                        int8\n",
       "FLAG_DOCUMENT_14                                        int8\n",
       "FLAG_DOCUMENT_15                                        int8\n",
       "FLAG_DOCUMENT_16                                        int8\n",
       "FLAG_DOCUMENT_17                                        int8\n",
       "FLAG_DOCUMENT_18                                        int8\n",
       "FLAG_DOCUMENT_19                                        int8\n",
       "FLAG_DOCUMENT_20                                        int8\n",
       "FLAG_DOCUMENT_21                                        int8\n",
       "AMT_REQ_CREDIT_BUREAU_HOUR                           float16\n",
       "AMT_REQ_CREDIT_BUREAU_DAY                            float16\n",
       "AMT_REQ_CREDIT_BUREAU_WEEK                           float16\n",
       "AMT_REQ_CREDIT_BUREAU_MON                            float16\n",
       "AMT_REQ_CREDIT_BUREAU_QRT                            float16\n",
       "AMT_REQ_CREDIT_BUREAU_YEAR                           float16\n",
       "CREDIT_INCOME_RATIO                                  float16\n",
       "CREDIT_ANNUITY_RATIO                                 float32\n",
       "ANNUITY_INCOME_RATIO                                 float16\n",
       "INCOME_ANNUITY_DIFF                                  float32\n",
       "CREDIT_GOODS_RATIO                                   float32\n",
       "INCOME_GOODS_DIFF                                    float64\n",
       "INCOME_AGE_RATIO                                     float16\n",
       "CREDIT_AGE_RATIO                                     float16\n",
       "INCOME_EXT_RATIO                                     float32\n",
       "CREDIT_EXT_RATIO                                     float32\n",
       "HOUR_PROCESS_CREDIT_MUL                              float32\n",
       "YEARS_BIRTH                                          float16\n",
       "AGE_EMPLOYED_DIFF                                    float16\n",
       "EMPLOYED_AGE_RATIO                                   float16\n",
       "LAST_PHONE_BIRTH_RATIO                               float16\n",
       "LAST_PHONE_EMPLOYED_RATIO                            float32\n",
       "CAR_EMPLOYED_DIFF                                    float16\n",
       "CAR_EMPLOYED_RATIO                                   float32\n",
       "CAR_AGE_DIFF                                         float16\n",
       "CAR_AGE_RATIO                                        float16\n",
       "FLAG_CONTACTS_SUM                                       int8\n",
       "CNT_NON_CHILDREN                                     float16\n",
       "CHILDREN_INCOME_RATIO                                float16\n",
       "PER_CAPITA_INCOME                                    float32\n",
       "REGIONS_INCOME_MOY                                   float32\n",
       "REGION_RATING_MAX                                       int8\n",
       "REGION_RATING_MEAN                                   float16\n",
       "REGION_RATING_MUL                                       int8\n",
       "FLAG_REGIONS_SUM                                        int8\n",
       "EXT_SOURCE_SUM                                       float16\n",
       "EXT_SOURCE_MEAN                                      float16\n",
       "EXT_SOURCE_MUL                                       float16\n",
       "EXT_SOURCE_MAX                                       float16\n",
       "EXT_SOURCE_MIN                                       float16\n",
       "EXT_SOURCE_VAR                                       float16\n",
       "WEIGHTED_EXT_SOURCE                                  float16\n",
       "APARTMENTS_SUM_AVG                                   float16\n",
       "APARTMENTS_SUM_MODE                                  float16\n",
       "APARTMENTS_SUM_MEDI                                  float16\n",
       "INCOME_APARTMENT_AVG_MUL                             float32\n",
       "INCOME_APARTMENT_MODE_MUL                            float32\n",
       "INCOME_APARTMENT_MEDI_MUL                            float32\n",
       "OBS_30_60_SUM                                        float16\n",
       "DEF_30_60_SUM                                        float16\n",
       "OBS_DEF_30_MUL                                       float16\n",
       "OBS_DEF_60_MUL                                       float16\n",
       "SUM_OBS_DEF_ALL                                      float16\n",
       "OBS_30_CREDIT_RATIO                                  float32\n",
       "OBS_60_CREDIT_RATIO                                  float32\n",
       "DEF_30_CREDIT_RATIO                                  float32\n",
       "DEF_60_CREDIT_RATIO                                  float32\n",
       "FLAGS_DOCUMENTS_SUM                                     int8\n",
       "FLAGS_DOCUMENTS_AVG                                  float16\n",
       "FLAGS_DOCUMENTS_VAR                                  float16\n",
       "FLAGS_DOCUMENTS_STD                                  float16\n",
       "DAYS_DETAILS_CHANGE_SUM                              float16\n",
       "AMT_ENQ_SUM                                          float16\n",
       "ENQ_CREDIT_RATIO                                     float16\n",
       "TARGET_NEIGHBORS_500_MEAN                            float16\n",
       "NAME_TYPE_SUITE_Children                             float16\n",
       "NAME_TYPE_SUITE_Family                               float16\n",
       "NAME_TYPE_SUITE_Group of people                      float16\n",
       "NAME_TYPE_SUITE_Other_A                              float16\n",
       "NAME_TYPE_SUITE_Other_B                              float16\n",
       "NAME_TYPE_SUITE_Spouse, partner                      float16\n",
       "NAME_TYPE_SUITE_Unaccompanied                        float16\n",
       "NAME_TYPE_SUITE_XNA                                  float16\n",
       "NAME_INCOME_TYPE_Businessman                         float16\n",
       "NAME_INCOME_TYPE_Commercial associate                float16\n",
       "NAME_INCOME_TYPE_Pensioner                           float16\n",
       "NAME_INCOME_TYPE_State servant                       float16\n",
       "NAME_INCOME_TYPE_Student                             float16\n",
       "NAME_INCOME_TYPE_Unemployed                          float16\n",
       "NAME_INCOME_TYPE_Working                             float16\n",
       "NAME_INCOME_TYPE_XNA                                 float16\n",
       "NAME_EDUCATION_TYPE_Academic degree                  float16\n",
       "NAME_EDUCATION_TYPE_Higher education                 float16\n",
       "NAME_EDUCATION_TYPE_Incomplete higher                float16\n",
       "NAME_EDUCATION_TYPE_Lower secondary                  float16\n",
       "NAME_EDUCATION_TYPE_Secondary / secondary special    float16\n",
       "NAME_FAMILY_STATUS_Civil marriage                    float16\n",
       "NAME_FAMILY_STATUS_Married                           float16\n",
       "NAME_FAMILY_STATUS_Separated                         float16\n",
       "NAME_FAMILY_STATUS_Single / not married              float16\n",
       "NAME_FAMILY_STATUS_Widow                             float16\n",
       "NAME_FAMILY_STATUS_XNA                               float16\n",
       "NAME_HOUSING_TYPE_Co-op apartment                    float16\n",
       "NAME_HOUSING_TYPE_House / apartment                  float16\n",
       "NAME_HOUSING_TYPE_Municipal apartment                float16\n",
       "NAME_HOUSING_TYPE_Office apartment                   float16\n",
       "NAME_HOUSING_TYPE_Rented apartment                   float16\n",
       "NAME_HOUSING_TYPE_With parents                       float16\n",
       "OCCUPATION_TYPE_Accountants                          float16\n",
       "OCCUPATION_TYPE_Cleaning staff                       float16\n",
       "OCCUPATION_TYPE_Cooking staff                        float16\n",
       "OCCUPATION_TYPE_Core staff                           float16\n",
       "OCCUPATION_TYPE_Drivers                              float16\n",
       "OCCUPATION_TYPE_HR staff                             float16\n",
       "OCCUPATION_TYPE_High skill tech staff                float16\n",
       "OCCUPATION_TYPE_IT staff                             float16\n",
       "OCCUPATION_TYPE_Laborers                             float16\n",
       "OCCUPATION_TYPE_Low-skill Laborers                   float16\n",
       "OCCUPATION_TYPE_Managers                             float16\n",
       "OCCUPATION_TYPE_Medicine staff                       float16\n",
       "OCCUPATION_TYPE_Private service staff                float16\n",
       "OCCUPATION_TYPE_Realty agents                        float16\n",
       "OCCUPATION_TYPE_Sales staff                          float16\n",
       "OCCUPATION_TYPE_Secretaries                          float16\n",
       "OCCUPATION_TYPE_Security staff                       float16\n",
       "OCCUPATION_TYPE_Waiters/barmen staff                 float16\n",
       "OCCUPATION_TYPE_XNA                                  float16\n",
       "WEEKDAY_APPR_PROCESS_START_FRIDAY                    float16\n",
       "WEEKDAY_APPR_PROCESS_START_MONDAY                    float16\n",
       "WEEKDAY_APPR_PROCESS_START_SATURDAY                  float16\n",
       "WEEKDAY_APPR_PROCESS_START_SUNDAY                    float16\n",
       "WEEKDAY_APPR_PROCESS_START_THURSDAY                  float16\n",
       "WEEKDAY_APPR_PROCESS_START_TUESDAY                   float16\n",
       "WEEKDAY_APPR_PROCESS_START_WEDNESDAY                 float16\n",
       "ORGANIZATION_TYPE_Advertising                        float16\n",
       "ORGANIZATION_TYPE_Agriculture                        float16\n",
       "ORGANIZATION_TYPE_Bank                               float16\n",
       "ORGANIZATION_TYPE_Business Entity Type 1             float16\n",
       "ORGANIZATION_TYPE_Business Entity Type 2             float16\n",
       "ORGANIZATION_TYPE_Business Entity Type 3             float16\n",
       "ORGANIZATION_TYPE_Cleaning                           float16\n",
       "ORGANIZATION_TYPE_Construction                       float16\n",
       "ORGANIZATION_TYPE_Culture                            float16\n",
       "ORGANIZATION_TYPE_Electricity                        float16\n",
       "ORGANIZATION_TYPE_Emergency                          float16\n",
       "ORGANIZATION_TYPE_Government                         float16\n",
       "ORGANIZATION_TYPE_Hotel                              float16\n",
       "ORGANIZATION_TYPE_Housing                            float16\n",
       "ORGANIZATION_TYPE_Industry: type 1                   float16\n",
       "ORGANIZATION_TYPE_Industry: type 10                  float16\n",
       "ORGANIZATION_TYPE_Industry: type 11                  float16\n",
       "ORGANIZATION_TYPE_Industry: type 12                  float16\n",
       "ORGANIZATION_TYPE_Industry: type 13                  float16\n",
       "ORGANIZATION_TYPE_Industry: type 2                   float16\n",
       "ORGANIZATION_TYPE_Industry: type 3                   float16\n",
       "ORGANIZATION_TYPE_Industry: type 4                   float16\n",
       "ORGANIZATION_TYPE_Industry: type 5                   float16\n",
       "ORGANIZATION_TYPE_Industry: type 6                   float16\n",
       "ORGANIZATION_TYPE_Industry: type 7                   float16\n",
       "ORGANIZATION_TYPE_Industry: type 8                   float16\n",
       "ORGANIZATION_TYPE_Industry: type 9                   float16\n",
       "ORGANIZATION_TYPE_Insurance                          float16\n",
       "ORGANIZATION_TYPE_Kindergarten                       float16\n",
       "ORGANIZATION_TYPE_Legal Services                     float16\n",
       "ORGANIZATION_TYPE_Medicine                           float16\n",
       "ORGANIZATION_TYPE_Military                           float16\n",
       "ORGANIZATION_TYPE_Mobile                             float16\n",
       "ORGANIZATION_TYPE_Other                              float16\n",
       "ORGANIZATION_TYPE_Police                             float16\n",
       "ORGANIZATION_TYPE_Postal                             float16\n",
       "ORGANIZATION_TYPE_Realtor                            float16\n",
       "ORGANIZATION_TYPE_Religion                           float16\n",
       "ORGANIZATION_TYPE_Restaurant                         float16\n",
       "ORGANIZATION_TYPE_School                             float16\n",
       "ORGANIZATION_TYPE_Security                           float16\n",
       "ORGANIZATION_TYPE_Security Ministries                float16\n",
       "ORGANIZATION_TYPE_Self-employed                      float16\n",
       "ORGANIZATION_TYPE_Services                           float16\n",
       "ORGANIZATION_TYPE_Telecom                            float16\n",
       "ORGANIZATION_TYPE_Trade: type 1                      float16\n",
       "ORGANIZATION_TYPE_Trade: type 2                      float16\n",
       "ORGANIZATION_TYPE_Trade: type 3                      float16\n",
       "ORGANIZATION_TYPE_Trade: type 4                      float16\n",
       "ORGANIZATION_TYPE_Trade: type 5                      float16\n",
       "ORGANIZATION_TYPE_Trade: type 6                      float16\n",
       "ORGANIZATION_TYPE_Trade: type 7                      float16\n",
       "ORGANIZATION_TYPE_Transport: type 1                  float16\n",
       "ORGANIZATION_TYPE_Transport: type 2                  float16\n",
       "ORGANIZATION_TYPE_Transport: type 3                  float16\n",
       "ORGANIZATION_TYPE_Transport: type 4                  float16\n",
       "ORGANIZATION_TYPE_University                         float16\n",
       "ORGANIZATION_TYPE_XNA                                float16\n",
       "HOUSETYPE_MODE_XNA                                   float16\n",
       "HOUSETYPE_MODE_block of flats                        float16\n",
       "HOUSETYPE_MODE_specific housing                      float16\n",
       "HOUSETYPE_MODE_terraced house                        float16\n",
       "WALLSMATERIAL_MODE_Block                             float16\n",
       "WALLSMATERIAL_MODE_Mixed                             float16\n",
       "WALLSMATERIAL_MODE_Monolithic                        float16\n",
       "WALLSMATERIAL_MODE_Others                            float16\n",
       "WALLSMATERIAL_MODE_Panel                             float16\n",
       "WALLSMATERIAL_MODE_Stone, brick                      float16\n",
       "WALLSMATERIAL_MODE_Wooden                            float16\n",
       "WALLSMATERIAL_MODE_XNA                               float16\n",
       "dtype: object"
      ]
     },
     "metadata": {},
     "output_type": "display_data"
    },
    {
     "data": {
      "text/html": [
       "<style  type=\"text/css\" >\n",
       "#T_b2310_row0_col0,#T_b2310_row0_col1{\n",
       "            background-color:  #800000;\n",
       "            color:  #f1f1f1;\n",
       "        }#T_b2310_row1_col0,#T_b2310_row1_col1{\n",
       "            background-color:  #0000e4;\n",
       "            color:  #f1f1f1;\n",
       "        }#T_b2310_row2_col0,#T_b2310_row2_col1{\n",
       "            background-color:  #00008d;\n",
       "            color:  #f1f1f1;\n",
       "        }#T_b2310_row3_col0,#T_b2310_row3_col1{\n",
       "            background-color:  #00004f;\n",
       "            color:  #f1f1f1;\n",
       "        }#T_b2310_row4_col0,#T_b2310_row4_col1,#T_b2310_row5_col0,#T_b2310_row5_col1{\n",
       "            background-color:  #00004c;\n",
       "            color:  #f1f1f1;\n",
       "        }</style><table id=\"T_b2310_\" ><thead>    <tr>        <th class=\"blank level0\" ></th>        <th class=\"col_heading level0 col0\" >Nombre par type de variable</th>        <th class=\"col_heading level0 col1\" >% des types de variable</th>    </tr></thead><tbody>\n",
       "                <tr>\n",
       "                        <th id=\"T_b2310_level0_row0\" class=\"row_heading level0 row0\" >float16</th>\n",
       "                        <td id=\"T_b2310_row0_col0\" class=\"data row0 col0\" >218</td>\n",
       "                        <td id=\"T_b2310_row0_col1\" class=\"data row0 col1\" >75.1700</td>\n",
       "            </tr>\n",
       "            <tr>\n",
       "                        <th id=\"T_b2310_level0_row1\" class=\"row_heading level0 row1\" >int8</th>\n",
       "                        <td id=\"T_b2310_row1_col0\" class=\"data row1 col0\" >47</td>\n",
       "                        <td id=\"T_b2310_row1_col1\" class=\"data row1 col1\" >16.2100</td>\n",
       "            </tr>\n",
       "            <tr>\n",
       "                        <th id=\"T_b2310_level0_row2\" class=\"row_heading level0 row2\" >float32</th>\n",
       "                        <td id=\"T_b2310_row2_col0\" class=\"data row2 col0\" >21</td>\n",
       "                        <td id=\"T_b2310_row2_col1\" class=\"data row2 col1\" >7.2400</td>\n",
       "            </tr>\n",
       "            <tr>\n",
       "                        <th id=\"T_b2310_level0_row3\" class=\"row_heading level0 row3\" >int16</th>\n",
       "                        <td id=\"T_b2310_row3_col0\" class=\"data row3 col0\" >2</td>\n",
       "                        <td id=\"T_b2310_row3_col1\" class=\"data row3 col1\" >0.6900</td>\n",
       "            </tr>\n",
       "            <tr>\n",
       "                        <th id=\"T_b2310_level0_row4\" class=\"row_heading level0 row4\" >float64</th>\n",
       "                        <td id=\"T_b2310_row4_col0\" class=\"data row4 col0\" >1</td>\n",
       "                        <td id=\"T_b2310_row4_col1\" class=\"data row4 col1\" >0.3400</td>\n",
       "            </tr>\n",
       "            <tr>\n",
       "                        <th id=\"T_b2310_level0_row5\" class=\"row_heading level0 row5\" >int32</th>\n",
       "                        <td id=\"T_b2310_row5_col0\" class=\"data row5 col0\" >1</td>\n",
       "                        <td id=\"T_b2310_row5_col1\" class=\"data row5 col1\" >0.3400</td>\n",
       "            </tr>\n",
       "    </tbody></table>"
      ],
      "text/plain": [
       "<pandas.io.formats.style.Styler at 0x219966175b0>"
      ]
     },
     "metadata": {},
     "output_type": "display_data"
    }
   ],
   "source": [
    "# Types des variables\n",
    "outils_data.get_types_variables(appli_train_imp1, True, True, False)"
   ]
  },
  {
   "cell_type": "code",
   "execution_count": 68,
   "id": "8edf17f7",
   "metadata": {
    "run_control": {
     "marked": false
    }
   },
   "outputs": [],
   "source": [
    "# Préparation de la matrice de corrélation\n",
    "# ---------------------------------------------------------------------\n",
    "# Variables fortement corrélées : si le coef de Pearson est :\n",
    "# > 0.8 ou < -0.8\n",
    "# et inférieur à 1 ou > -1 (corrélée avec elle-même)\n",
    "seuil = 0.8\n",
    "# Matrice de corrélation avec valeur absolue pour ne pas avoir à gérer\n",
    "# les corrélations positives et négatives séparément\n",
    "corr_imp1 = appli_train_imp1.corr().abs()\n",
    "# On ne conserve que la partie supérieur à la diagonale pour n'avoir\n",
    "# qu'une seule fois les corrélations prisent en compte (symétrie axiale)\n",
    "corr_triangle_1 = corr_imp1.where(np.triu(np.ones(corr_imp1.shape), k=1)\n",
    "                                  .astype(np.bool))"
   ]
  },
  {
   "cell_type": "code",
   "execution_count": 69,
   "id": "f38738ad",
   "metadata": {
    "run_control": {
     "marked": false
    }
   },
   "outputs": [
    {
     "name": "stdout",
     "output_type": "stream",
     "text": [
      "77 variables fortement corrélées à supprimer:\n",
      "\n",
      "AMT_GOODS_PRICE\n",
      "CNT_FAM_MEMBERS\n",
      "REGION_RATING_CLIENT_W_CITY\n",
      "LIVE_REGION_NOT_WORK_REGION\n",
      "LIVE_CITY_NOT_WORK_CITY\n",
      "ELEVATORS_AVG\n",
      "LIVINGAREA_AVG\n",
      "APARTMENTS_MODE\n",
      "BASEMENTAREA_MODE\n",
      "YEARS_BEGINEXPLUATATION_MODE\n",
      "YEARS_BUILD_MODE\n",
      "ELEVATORS_MODE\n",
      "ENTRANCES_MODE\n",
      "FLOORSMAX_MODE\n",
      "FLOORSMIN_MODE\n",
      "LANDAREA_MODE\n",
      "LIVINGAREA_MODE\n",
      "NONLIVINGAREA_MODE\n",
      "APARTMENTS_MEDI\n",
      "BASEMENTAREA_MEDI\n",
      "YEARS_BEGINEXPLUATATION_MEDI\n",
      "YEARS_BUILD_MEDI\n",
      "ELEVATORS_MEDI\n",
      "ENTRANCES_MEDI\n",
      "FLOORSMAX_MEDI\n",
      "FLOORSMIN_MEDI\n",
      "LANDAREA_MEDI\n",
      "LIVINGAREA_MEDI\n",
      "NONLIVINGAREA_MEDI\n",
      "TOTALAREA_MODE\n",
      "EMERGENCYSTATE_MODE\n",
      "OBS_60_CNT_SOCIAL_CIRCLE\n",
      "DEF_60_CNT_SOCIAL_CIRCLE\n",
      "INCOME_ANNUITY_DIFF\n",
      "INCOME_AGE_RATIO\n",
      "CREDIT_AGE_RATIO\n",
      "HOUR_PROCESS_CREDIT_MUL\n",
      "YEARS_BIRTH\n",
      "AGE_EMPLOYED_DIFF\n",
      "EMPLOYED_AGE_RATIO\n",
      "LAST_PHONE_BIRTH_RATIO\n",
      "CAR_EMPLOYED_DIFF\n",
      "CAR_AGE_DIFF\n",
      "CAR_AGE_RATIO\n",
      "CHILDREN_INCOME_RATIO\n",
      "PER_CAPITA_INCOME\n",
      "REGIONS_INCOME_MOY\n",
      "REGION_RATING_MAX\n",
      "REGION_RATING_MEAN\n",
      "REGION_RATING_MUL\n",
      "FLAG_REGIONS_SUM\n",
      "EXT_SOURCE_MEAN\n",
      "EXT_SOURCE_MIN\n",
      "WEIGHTED_EXT_SOURCE\n",
      "APARTMENTS_SUM_AVG\n",
      "APARTMENTS_SUM_MODE\n",
      "APARTMENTS_SUM_MEDI\n",
      "INCOME_APARTMENT_MODE_MUL\n",
      "INCOME_APARTMENT_MEDI_MUL\n",
      "OBS_30_60_SUM\n",
      "DEF_30_60_SUM\n",
      "OBS_DEF_60_MUL\n",
      "SUM_OBS_DEF_ALL\n",
      "OBS_60_CREDIT_RATIO\n",
      "DEF_30_CREDIT_RATIO\n",
      "DEF_60_CREDIT_RATIO\n",
      "FLAGS_DOCUMENTS_AVG\n",
      "FLAGS_DOCUMENTS_VAR\n",
      "FLAGS_DOCUMENTS_STD\n",
      "DAYS_DETAILS_CHANGE_SUM\n",
      "AMT_ENQ_SUM\n",
      "NAME_INCOME_TYPE_Pensioner\n",
      "NAME_EDUCATION_TYPE_Secondary / secondary special\n",
      "ORGANIZATION_TYPE_XNA\n",
      "HOUSETYPE_MODE_XNA\n",
      "HOUSETYPE_MODE_block of flats\n",
      "WALLSMATERIAL_MODE_XNA\n"
     ]
    }
   ],
   "source": [
    "# Variables avec un coef de Pearson > 0.8?\n",
    "cols_corr1_a_supp = [var for var in corr_triangle_1.columns\n",
    "                     if any(corr_triangle_1[var] > seuil)]\n",
    "print(f'{len(cols_corr1_a_supp)} variables fortement corrélées à supprimer:\\n')\n",
    "for var in cols_corr1_a_supp:\n",
    "    print(var)"
   ]
  },
  {
   "cell_type": "code",
   "execution_count": 70,
   "id": "0e98c54b",
   "metadata": {
    "run_control": {
     "marked": false
    }
   },
   "outputs": [
    {
     "name": "stdout",
     "output_type": "stream",
     "text": [
      "appli_train_imp1 : (307507, 290)\n",
      "appli_train_imp1 : (307507, 213)\n"
     ]
    }
   ],
   "source": [
    "# Suppression des variables fortement corrélées\n",
    "print(f'appli_train_imp1 : {appli_train_imp1.shape}')\n",
    "appli_train_imp1.drop(columns=cols_corr1_a_supp,  inplace=True)\n",
    "print(f'appli_train_imp1 : {appli_train_imp1.shape}')"
   ]
  },
  {
   "cell_type": "code",
   "execution_count": 71,
   "id": "4c780b6c",
   "metadata": {
    "run_control": {
     "marked": false
    }
   },
   "outputs": [],
   "source": [
    "# Sauvegarde de appli_train_imp1 nettoyée, encodée, prête pour ML\n",
    "fic_sav_appli_train_imp1 = \\\n",
    "    '../sauvegarde/pre-processing/appli_train_imp1_clean.pickle'\n",
    "with open(fic_sav_appli_train_imp1, 'wb') as f:\n",
    "    pickle.dump(appli_train_imp1, f, pickle.HIGHEST_PROTOCOL)"
   ]
  },
  {
   "cell_type": "markdown",
   "id": "61f6e612",
   "metadata": {},
   "source": [
    "**appli_train_imp2**"
   ]
  },
  {
   "cell_type": "code",
   "execution_count": 72,
   "id": "eafbb2f6",
   "metadata": {
    "run_control": {
     "marked": false
    }
   },
   "outputs": [
    {
     "name": "stdout",
     "output_type": "stream",
     "text": [
      "-------------------------------------------------------------------------------\n",
      "Memory usage du dataframe: 189.15 MB\n",
      "Memory usage après optimization: 171.56 MB\n",
      "Diminution de 9.3%\n",
      "-------------------------------------------------------------------------------\n"
     ]
    }
   ],
   "source": [
    "# Réduction de la mémoire pour les nouvelles variables\n",
    "appli_train_imp2 =\\\n",
    "    outils_preprocessing.reduce_mem_usage(appli_train_imp2, verbose=True)"
   ]
  },
  {
   "cell_type": "code",
   "execution_count": 73,
   "id": "34368854",
   "metadata": {},
   "outputs": [
    {
     "name": "stdout",
     "output_type": "stream",
     "text": [
      "-------------------------------------------------------------\n",
      "Type de variable pour chacune des variables\n",
      "\n"
     ]
    },
    {
     "data": {
      "text/plain": [
       "SK_ID_CURR                                             int32\n",
       "TARGET                                                  int8\n",
       "NAME_CONTRACT_TYPE                                      int8\n",
       "CODE_GENDER                                             int8\n",
       "FLAG_OWN_CAR                                            int8\n",
       "FLAG_OWN_REALTY                                         int8\n",
       "CNT_CHILDREN                                            int8\n",
       "AMT_INCOME_TOTAL                                     float32\n",
       "AMT_CREDIT                                           float32\n",
       "AMT_ANNUITY                                          float32\n",
       "AMT_GOODS_PRICE                                      float32\n",
       "REGION_POPULATION_RELATIVE                           float16\n",
       "DAYS_BIRTH                                             int16\n",
       "DAYS_EMPLOYED                                        float16\n",
       "DAYS_REGISTRATION                                    float16\n",
       "DAYS_ID_PUBLISH                                        int16\n",
       "OWN_CAR_AGE                                          float16\n",
       "FLAG_MOBIL                                              int8\n",
       "FLAG_EMP_PHONE                                          int8\n",
       "FLAG_WORK_PHONE                                         int8\n",
       "FLAG_CONT_MOBILE                                        int8\n",
       "FLAG_PHONE                                              int8\n",
       "FLAG_EMAIL                                              int8\n",
       "CNT_FAM_MEMBERS                                      float16\n",
       "REGION_RATING_CLIENT                                    int8\n",
       "REGION_RATING_CLIENT_W_CITY                             int8\n",
       "HOUR_APPR_PROCESS_START                                 int8\n",
       "REG_REGION_NOT_LIVE_REGION                              int8\n",
       "REG_REGION_NOT_WORK_REGION                              int8\n",
       "LIVE_REGION_NOT_WORK_REGION                             int8\n",
       "REG_CITY_NOT_LIVE_CITY                                  int8\n",
       "REG_CITY_NOT_WORK_CITY                                  int8\n",
       "LIVE_CITY_NOT_WORK_CITY                                 int8\n",
       "EXT_SOURCE_1                                         float16\n",
       "EXT_SOURCE_2                                         float16\n",
       "EXT_SOURCE_3                                         float16\n",
       "APARTMENTS_AVG                                       float16\n",
       "BASEMENTAREA_AVG                                     float16\n",
       "YEARS_BEGINEXPLUATATION_AVG                          float16\n",
       "YEARS_BUILD_AVG                                      float16\n",
       "ELEVATORS_AVG                                        float16\n",
       "ENTRANCES_AVG                                        float16\n",
       "FLOORSMAX_AVG                                        float16\n",
       "FLOORSMIN_AVG                                        float16\n",
       "LANDAREA_AVG                                         float16\n",
       "LIVINGAREA_AVG                                       float16\n",
       "NONLIVINGAREA_AVG                                    float16\n",
       "APARTMENTS_MODE                                      float16\n",
       "BASEMENTAREA_MODE                                    float16\n",
       "YEARS_BEGINEXPLUATATION_MODE                         float16\n",
       "YEARS_BUILD_MODE                                     float16\n",
       "ELEVATORS_MODE                                       float16\n",
       "ENTRANCES_MODE                                       float16\n",
       "FLOORSMAX_MODE                                       float16\n",
       "FLOORSMIN_MODE                                       float16\n",
       "LANDAREA_MODE                                        float16\n",
       "LIVINGAREA_MODE                                      float16\n",
       "NONLIVINGAREA_MODE                                   float16\n",
       "APARTMENTS_MEDI                                      float16\n",
       "BASEMENTAREA_MEDI                                    float16\n",
       "YEARS_BEGINEXPLUATATION_MEDI                         float16\n",
       "YEARS_BUILD_MEDI                                     float16\n",
       "ELEVATORS_MEDI                                       float16\n",
       "ENTRANCES_MEDI                                       float16\n",
       "FLOORSMAX_MEDI                                       float16\n",
       "FLOORSMIN_MEDI                                       float16\n",
       "LANDAREA_MEDI                                        float16\n",
       "LIVINGAREA_MEDI                                      float16\n",
       "NONLIVINGAREA_MEDI                                   float16\n",
       "TOTALAREA_MODE                                       float16\n",
       "EMERGENCYSTATE_MODE                                     int8\n",
       "OBS_30_CNT_SOCIAL_CIRCLE                             float16\n",
       "DEF_30_CNT_SOCIAL_CIRCLE                             float16\n",
       "OBS_60_CNT_SOCIAL_CIRCLE                             float16\n",
       "DEF_60_CNT_SOCIAL_CIRCLE                             float16\n",
       "DAYS_LAST_PHONE_CHANGE                               float16\n",
       "FLAG_DOCUMENT_2                                         int8\n",
       "FLAG_DOCUMENT_3                                         int8\n",
       "FLAG_DOCUMENT_4                                         int8\n",
       "FLAG_DOCUMENT_5                                         int8\n",
       "FLAG_DOCUMENT_6                                         int8\n",
       "FLAG_DOCUMENT_7                                         int8\n",
       "FLAG_DOCUMENT_8                                         int8\n",
       "FLAG_DOCUMENT_9                                         int8\n",
       "FLAG_DOCUMENT_10                                        int8\n",
       "FLAG_DOCUMENT_11                                        int8\n",
       "FLAG_DOCUMENT_12                                        int8\n",
       "FLAG_DOCUMENT_13                                        int8\n",
       "FLAG_DOCUMENT_14                                        int8\n",
       "FLAG_DOCUMENT_15                                        int8\n",
       "FLAG_DOCUMENT_16                                        int8\n",
       "FLAG_DOCUMENT_17                                        int8\n",
       "FLAG_DOCUMENT_18                                        int8\n",
       "FLAG_DOCUMENT_19                                        int8\n",
       "FLAG_DOCUMENT_20                                        int8\n",
       "FLAG_DOCUMENT_21                                        int8\n",
       "AMT_REQ_CREDIT_BUREAU_HOUR                           float16\n",
       "AMT_REQ_CREDIT_BUREAU_DAY                            float16\n",
       "AMT_REQ_CREDIT_BUREAU_WEEK                           float16\n",
       "AMT_REQ_CREDIT_BUREAU_MON                            float16\n",
       "AMT_REQ_CREDIT_BUREAU_QRT                            float16\n",
       "AMT_REQ_CREDIT_BUREAU_YEAR                           float16\n",
       "CREDIT_INCOME_RATIO                                  float16\n",
       "CREDIT_ANNUITY_RATIO                                 float16\n",
       "ANNUITY_INCOME_RATIO                                 float16\n",
       "INCOME_ANNUITY_DIFF                                  float32\n",
       "CREDIT_GOODS_RATIO                                   float32\n",
       "INCOME_GOODS_DIFF                                    float32\n",
       "INCOME_AGE_RATIO                                     float16\n",
       "CREDIT_AGE_RATIO                                     float16\n",
       "INCOME_EXT_RATIO                                     float32\n",
       "CREDIT_EXT_RATIO                                     float32\n",
       "HOUR_PROCESS_CREDIT_MUL                              float32\n",
       "YEARS_BIRTH                                          float16\n",
       "AGE_EMPLOYED_DIFF                                    float16\n",
       "EMPLOYED_AGE_RATIO                                   float16\n",
       "LAST_PHONE_BIRTH_RATIO                               float16\n",
       "LAST_PHONE_EMPLOYED_RATIO                            float32\n",
       "CAR_EMPLOYED_DIFF                                    float16\n",
       "CAR_EMPLOYED_RATIO                                   float32\n",
       "CAR_AGE_DIFF                                         float16\n",
       "CAR_AGE_RATIO                                        float16\n",
       "FLAG_CONTACTS_SUM                                       int8\n",
       "CNT_NON_CHILDREN                                     float16\n",
       "CHILDREN_INCOME_RATIO                                float16\n",
       "PER_CAPITA_INCOME                                    float32\n",
       "REGIONS_INCOME_MOY                                   float32\n",
       "REGION_RATING_MAX                                       int8\n",
       "REGION_RATING_MEAN                                   float16\n",
       "REGION_RATING_MUL                                       int8\n",
       "FLAG_REGIONS_SUM                                        int8\n",
       "EXT_SOURCE_SUM                                       float16\n",
       "EXT_SOURCE_MEAN                                      float16\n",
       "EXT_SOURCE_MUL                                       float16\n",
       "EXT_SOURCE_MAX                                       float16\n",
       "EXT_SOURCE_MIN                                       float16\n",
       "EXT_SOURCE_VAR                                       float16\n",
       "WEIGHTED_EXT_SOURCE                                  float16\n",
       "APARTMENTS_SUM_AVG                                   float16\n",
       "APARTMENTS_SUM_MODE                                  float16\n",
       "APARTMENTS_SUM_MEDI                                  float16\n",
       "INCOME_APARTMENT_AVG_MUL                             float32\n",
       "INCOME_APARTMENT_MODE_MUL                            float32\n",
       "INCOME_APARTMENT_MEDI_MUL                            float32\n",
       "OBS_30_60_SUM                                        float16\n",
       "DEF_30_60_SUM                                        float16\n",
       "OBS_DEF_30_MUL                                       float16\n",
       "OBS_DEF_60_MUL                                       float16\n",
       "SUM_OBS_DEF_ALL                                      float16\n",
       "OBS_30_CREDIT_RATIO                                  float32\n",
       "OBS_60_CREDIT_RATIO                                  float32\n",
       "DEF_30_CREDIT_RATIO                                  float32\n",
       "DEF_60_CREDIT_RATIO                                  float32\n",
       "FLAGS_DOCUMENTS_SUM                                     int8\n",
       "FLAGS_DOCUMENTS_AVG                                  float16\n",
       "FLAGS_DOCUMENTS_VAR                                  float16\n",
       "FLAGS_DOCUMENTS_STD                                  float16\n",
       "DAYS_DETAILS_CHANGE_SUM                              float16\n",
       "AMT_ENQ_SUM                                          float16\n",
       "ENQ_CREDIT_RATIO                                     float16\n",
       "TARGET_NEIGHBORS_500_MEAN                            float16\n",
       "NAME_TYPE_SUITE_Children                             float16\n",
       "NAME_TYPE_SUITE_Family                               float16\n",
       "NAME_TYPE_SUITE_Group of people                      float16\n",
       "NAME_TYPE_SUITE_Other_A                              float16\n",
       "NAME_TYPE_SUITE_Other_B                              float16\n",
       "NAME_TYPE_SUITE_Spouse, partner                      float16\n",
       "NAME_TYPE_SUITE_Unaccompanied                        float16\n",
       "NAME_TYPE_SUITE_XNA                                  float16\n",
       "NAME_INCOME_TYPE_Businessman                         float16\n",
       "NAME_INCOME_TYPE_Commercial associate                float16\n",
       "NAME_INCOME_TYPE_Pensioner                           float16\n",
       "NAME_INCOME_TYPE_State servant                       float16\n",
       "NAME_INCOME_TYPE_Student                             float16\n",
       "NAME_INCOME_TYPE_Unemployed                          float16\n",
       "NAME_INCOME_TYPE_Working                             float16\n",
       "NAME_INCOME_TYPE_XNA                                 float16\n",
       "NAME_EDUCATION_TYPE_Academic degree                  float16\n",
       "NAME_EDUCATION_TYPE_Higher education                 float16\n",
       "NAME_EDUCATION_TYPE_Incomplete higher                float16\n",
       "NAME_EDUCATION_TYPE_Lower secondary                  float16\n",
       "NAME_EDUCATION_TYPE_Secondary / secondary special    float16\n",
       "NAME_FAMILY_STATUS_Civil marriage                    float16\n",
       "NAME_FAMILY_STATUS_Married                           float16\n",
       "NAME_FAMILY_STATUS_Separated                         float16\n",
       "NAME_FAMILY_STATUS_Single / not married              float16\n",
       "NAME_FAMILY_STATUS_Widow                             float16\n",
       "NAME_FAMILY_STATUS_XNA                               float16\n",
       "NAME_HOUSING_TYPE_Co-op apartment                    float16\n",
       "NAME_HOUSING_TYPE_House / apartment                  float16\n",
       "NAME_HOUSING_TYPE_Municipal apartment                float16\n",
       "NAME_HOUSING_TYPE_Office apartment                   float16\n",
       "NAME_HOUSING_TYPE_Rented apartment                   float16\n",
       "NAME_HOUSING_TYPE_With parents                       float16\n",
       "OCCUPATION_TYPE_Accountants                          float16\n",
       "OCCUPATION_TYPE_Cleaning staff                       float16\n",
       "OCCUPATION_TYPE_Cooking staff                        float16\n",
       "OCCUPATION_TYPE_Core staff                           float16\n",
       "OCCUPATION_TYPE_Drivers                              float16\n",
       "OCCUPATION_TYPE_HR staff                             float16\n",
       "OCCUPATION_TYPE_High skill tech staff                float16\n",
       "OCCUPATION_TYPE_IT staff                             float16\n",
       "OCCUPATION_TYPE_Laborers                             float16\n",
       "OCCUPATION_TYPE_Low-skill Laborers                   float16\n",
       "OCCUPATION_TYPE_Managers                             float16\n",
       "OCCUPATION_TYPE_Medicine staff                       float16\n",
       "OCCUPATION_TYPE_Private service staff                float16\n",
       "OCCUPATION_TYPE_Realty agents                        float16\n",
       "OCCUPATION_TYPE_Sales staff                          float16\n",
       "OCCUPATION_TYPE_Secretaries                          float16\n",
       "OCCUPATION_TYPE_Security staff                       float16\n",
       "OCCUPATION_TYPE_Waiters/barmen staff                 float16\n",
       "OCCUPATION_TYPE_XNA                                  float16\n",
       "WEEKDAY_APPR_PROCESS_START_FRIDAY                    float16\n",
       "WEEKDAY_APPR_PROCESS_START_MONDAY                    float16\n",
       "WEEKDAY_APPR_PROCESS_START_SATURDAY                  float16\n",
       "WEEKDAY_APPR_PROCESS_START_SUNDAY                    float16\n",
       "WEEKDAY_APPR_PROCESS_START_THURSDAY                  float16\n",
       "WEEKDAY_APPR_PROCESS_START_TUESDAY                   float16\n",
       "WEEKDAY_APPR_PROCESS_START_WEDNESDAY                 float16\n",
       "ORGANIZATION_TYPE_Advertising                        float16\n",
       "ORGANIZATION_TYPE_Agriculture                        float16\n",
       "ORGANIZATION_TYPE_Bank                               float16\n",
       "ORGANIZATION_TYPE_Business Entity Type 1             float16\n",
       "ORGANIZATION_TYPE_Business Entity Type 2             float16\n",
       "ORGANIZATION_TYPE_Business Entity Type 3             float16\n",
       "ORGANIZATION_TYPE_Cleaning                           float16\n",
       "ORGANIZATION_TYPE_Construction                       float16\n",
       "ORGANIZATION_TYPE_Culture                            float16\n",
       "ORGANIZATION_TYPE_Electricity                        float16\n",
       "ORGANIZATION_TYPE_Emergency                          float16\n",
       "ORGANIZATION_TYPE_Government                         float16\n",
       "ORGANIZATION_TYPE_Hotel                              float16\n",
       "ORGANIZATION_TYPE_Housing                            float16\n",
       "ORGANIZATION_TYPE_Industry: type 1                   float16\n",
       "ORGANIZATION_TYPE_Industry: type 10                  float16\n",
       "ORGANIZATION_TYPE_Industry: type 11                  float16\n",
       "ORGANIZATION_TYPE_Industry: type 12                  float16\n",
       "ORGANIZATION_TYPE_Industry: type 13                  float16\n",
       "ORGANIZATION_TYPE_Industry: type 2                   float16\n",
       "ORGANIZATION_TYPE_Industry: type 3                   float16\n",
       "ORGANIZATION_TYPE_Industry: type 4                   float16\n",
       "ORGANIZATION_TYPE_Industry: type 5                   float16\n",
       "ORGANIZATION_TYPE_Industry: type 6                   float16\n",
       "ORGANIZATION_TYPE_Industry: type 7                   float16\n",
       "ORGANIZATION_TYPE_Industry: type 8                   float16\n",
       "ORGANIZATION_TYPE_Industry: type 9                   float16\n",
       "ORGANIZATION_TYPE_Insurance                          float16\n",
       "ORGANIZATION_TYPE_Kindergarten                       float16\n",
       "ORGANIZATION_TYPE_Legal Services                     float16\n",
       "ORGANIZATION_TYPE_Medicine                           float16\n",
       "ORGANIZATION_TYPE_Military                           float16\n",
       "ORGANIZATION_TYPE_Mobile                             float16\n",
       "ORGANIZATION_TYPE_Other                              float16\n",
       "ORGANIZATION_TYPE_Police                             float16\n",
       "ORGANIZATION_TYPE_Postal                             float16\n",
       "ORGANIZATION_TYPE_Realtor                            float16\n",
       "ORGANIZATION_TYPE_Religion                           float16\n",
       "ORGANIZATION_TYPE_Restaurant                         float16\n",
       "ORGANIZATION_TYPE_School                             float16\n",
       "ORGANIZATION_TYPE_Security                           float16\n",
       "ORGANIZATION_TYPE_Security Ministries                float16\n",
       "ORGANIZATION_TYPE_Self-employed                      float16\n",
       "ORGANIZATION_TYPE_Services                           float16\n",
       "ORGANIZATION_TYPE_Telecom                            float16\n",
       "ORGANIZATION_TYPE_Trade: type 1                      float16\n",
       "ORGANIZATION_TYPE_Trade: type 2                      float16\n",
       "ORGANIZATION_TYPE_Trade: type 3                      float16\n",
       "ORGANIZATION_TYPE_Trade: type 4                      float16\n",
       "ORGANIZATION_TYPE_Trade: type 5                      float16\n",
       "ORGANIZATION_TYPE_Trade: type 6                      float16\n",
       "ORGANIZATION_TYPE_Trade: type 7                      float16\n",
       "ORGANIZATION_TYPE_Transport: type 1                  float16\n",
       "ORGANIZATION_TYPE_Transport: type 2                  float16\n",
       "ORGANIZATION_TYPE_Transport: type 3                  float16\n",
       "ORGANIZATION_TYPE_Transport: type 4                  float16\n",
       "ORGANIZATION_TYPE_University                         float16\n",
       "ORGANIZATION_TYPE_XNA                                float16\n",
       "HOUSETYPE_MODE_XNA                                   float16\n",
       "HOUSETYPE_MODE_block of flats                        float16\n",
       "HOUSETYPE_MODE_specific housing                      float16\n",
       "HOUSETYPE_MODE_terraced house                        float16\n",
       "WALLSMATERIAL_MODE_Block                             float16\n",
       "WALLSMATERIAL_MODE_Mixed                             float16\n",
       "WALLSMATERIAL_MODE_Monolithic                        float16\n",
       "WALLSMATERIAL_MODE_Others                            float16\n",
       "WALLSMATERIAL_MODE_Panel                             float16\n",
       "WALLSMATERIAL_MODE_Stone, brick                      float16\n",
       "WALLSMATERIAL_MODE_Wooden                            float16\n",
       "WALLSMATERIAL_MODE_XNA                               float16\n",
       "dtype: object"
      ]
     },
     "metadata": {},
     "output_type": "display_data"
    },
    {
     "data": {
      "text/html": [
       "<style  type=\"text/css\" >\n",
       "#T_78275_row0_col0,#T_78275_row0_col1{\n",
       "            background-color:  #800000;\n",
       "            color:  #f1f1f1;\n",
       "        }#T_78275_row1_col0,#T_78275_row1_col1{\n",
       "            background-color:  #0000e4;\n",
       "            color:  #f1f1f1;\n",
       "        }#T_78275_row2_col0,#T_78275_row2_col1{\n",
       "            background-color:  #00008d;\n",
       "            color:  #f1f1f1;\n",
       "        }#T_78275_row3_col0,#T_78275_row3_col1{\n",
       "            background-color:  #00004f;\n",
       "            color:  #f1f1f1;\n",
       "        }#T_78275_row4_col0,#T_78275_row4_col1{\n",
       "            background-color:  #00004c;\n",
       "            color:  #f1f1f1;\n",
       "        }</style><table id=\"T_78275_\" ><thead>    <tr>        <th class=\"blank level0\" ></th>        <th class=\"col_heading level0 col0\" >Nombre par type de variable</th>        <th class=\"col_heading level0 col1\" >% des types de variable</th>    </tr></thead><tbody>\n",
       "                <tr>\n",
       "                        <th id=\"T_78275_level0_row0\" class=\"row_heading level0 row0\" >float16</th>\n",
       "                        <td id=\"T_78275_row0_col0\" class=\"data row0 col0\" >219</td>\n",
       "                        <td id=\"T_78275_row0_col1\" class=\"data row0 col1\" >75.5200</td>\n",
       "            </tr>\n",
       "            <tr>\n",
       "                        <th id=\"T_78275_level0_row1\" class=\"row_heading level0 row1\" >int8</th>\n",
       "                        <td id=\"T_78275_row1_col0\" class=\"data row1 col0\" >47</td>\n",
       "                        <td id=\"T_78275_row1_col1\" class=\"data row1 col1\" >16.2100</td>\n",
       "            </tr>\n",
       "            <tr>\n",
       "                        <th id=\"T_78275_level0_row2\" class=\"row_heading level0 row2\" >float32</th>\n",
       "                        <td id=\"T_78275_row2_col0\" class=\"data row2 col0\" >21</td>\n",
       "                        <td id=\"T_78275_row2_col1\" class=\"data row2 col1\" >7.2400</td>\n",
       "            </tr>\n",
       "            <tr>\n",
       "                        <th id=\"T_78275_level0_row3\" class=\"row_heading level0 row3\" >int16</th>\n",
       "                        <td id=\"T_78275_row3_col0\" class=\"data row3 col0\" >2</td>\n",
       "                        <td id=\"T_78275_row3_col1\" class=\"data row3 col1\" >0.6900</td>\n",
       "            </tr>\n",
       "            <tr>\n",
       "                        <th id=\"T_78275_level0_row4\" class=\"row_heading level0 row4\" >int32</th>\n",
       "                        <td id=\"T_78275_row4_col0\" class=\"data row4 col0\" >1</td>\n",
       "                        <td id=\"T_78275_row4_col1\" class=\"data row4 col1\" >0.3400</td>\n",
       "            </tr>\n",
       "    </tbody></table>"
      ],
      "text/plain": [
       "<pandas.io.formats.style.Styler at 0x2198c580df0>"
      ]
     },
     "metadata": {},
     "output_type": "display_data"
    }
   ],
   "source": [
    "# Types des variables\n",
    "outils_data.get_types_variables(appli_train_imp2, True, True, False)"
   ]
  },
  {
   "cell_type": "code",
   "execution_count": 74,
   "id": "2c199c04",
   "metadata": {
    "run_control": {
     "marked": false
    }
   },
   "outputs": [],
   "source": [
    "# Préparation de la matrice de corrélation\n",
    "# ---------------------------------------------------------------------\n",
    "# Variables fortement corrélées : si le coef de Pearson est :\n",
    "# > 0.8 ou < -0.8\n",
    "# et inférieur à 1 ou > -1 (corrélée avec elle-même)\n",
    "seuil = 0.8\n",
    "# Matrice de corrélation avec valeur absolue pour ne pas avoir à gérer\n",
    "# les corrélations positives et négatives séparément\n",
    "corr_imp2 = appli_train_imp2.corr().abs()\n",
    "# On ne conserve que la partie supérieur à la diagonale pour n'avoir\n",
    "# qu'une seule fois les corrélations prisent en compte (symétrie axiale)\n",
    "corr_triangle_2 = corr_imp2.where(np.triu(np.ones(corr_imp2.shape), k=1)\n",
    "                                  .astype(np.bool))"
   ]
  },
  {
   "cell_type": "code",
   "execution_count": 75,
   "id": "3f5d50f8",
   "metadata": {
    "run_control": {
     "marked": false
    }
   },
   "outputs": [
    {
     "name": "stdout",
     "output_type": "stream",
     "text": [
      "83 variables fortement corrélées à supprimer:\n",
      "\n",
      "AMT_GOODS_PRICE\n",
      "CNT_FAM_MEMBERS\n",
      "REGION_RATING_CLIENT_W_CITY\n",
      "LIVE_REGION_NOT_WORK_REGION\n",
      "LIVE_CITY_NOT_WORK_CITY\n",
      "YEARS_BEGINEXPLUATATION_AVG\n",
      "ELEVATORS_AVG\n",
      "ENTRANCES_AVG\n",
      "FLOORSMAX_AVG\n",
      "LANDAREA_AVG\n",
      "LIVINGAREA_AVG\n",
      "NONLIVINGAREA_AVG\n",
      "APARTMENTS_MODE\n",
      "BASEMENTAREA_MODE\n",
      "YEARS_BEGINEXPLUATATION_MODE\n",
      "YEARS_BUILD_MODE\n",
      "LANDAREA_MODE\n",
      "LIVINGAREA_MODE\n",
      "NONLIVINGAREA_MODE\n",
      "APARTMENTS_MEDI\n",
      "BASEMENTAREA_MEDI\n",
      "YEARS_BEGINEXPLUATATION_MEDI\n",
      "YEARS_BUILD_MEDI\n",
      "ELEVATORS_MEDI\n",
      "ENTRANCES_MEDI\n",
      "FLOORSMAX_MEDI\n",
      "FLOORSMIN_MEDI\n",
      "LANDAREA_MEDI\n",
      "LIVINGAREA_MEDI\n",
      "NONLIVINGAREA_MEDI\n",
      "TOTALAREA_MODE\n",
      "EMERGENCYSTATE_MODE\n",
      "OBS_60_CNT_SOCIAL_CIRCLE\n",
      "DEF_60_CNT_SOCIAL_CIRCLE\n",
      "INCOME_ANNUITY_DIFF\n",
      "INCOME_GOODS_DIFF\n",
      "INCOME_AGE_RATIO\n",
      "CREDIT_AGE_RATIO\n",
      "CREDIT_EXT_RATIO\n",
      "HOUR_PROCESS_CREDIT_MUL\n",
      "YEARS_BIRTH\n",
      "AGE_EMPLOYED_DIFF\n",
      "EMPLOYED_AGE_RATIO\n",
      "LAST_PHONE_BIRTH_RATIO\n",
      "CAR_EMPLOYED_DIFF\n",
      "CAR_EMPLOYED_RATIO\n",
      "CAR_AGE_DIFF\n",
      "CAR_AGE_RATIO\n",
      "CHILDREN_INCOME_RATIO\n",
      "PER_CAPITA_INCOME\n",
      "REGIONS_INCOME_MOY\n",
      "REGION_RATING_MAX\n",
      "REGION_RATING_MEAN\n",
      "REGION_RATING_MUL\n",
      "FLAG_REGIONS_SUM\n",
      "EXT_SOURCE_MEAN\n",
      "EXT_SOURCE_MUL\n",
      "EXT_SOURCE_MIN\n",
      "WEIGHTED_EXT_SOURCE\n",
      "APARTMENTS_SUM_AVG\n",
      "APARTMENTS_SUM_MODE\n",
      "APARTMENTS_SUM_MEDI\n",
      "INCOME_APARTMENT_AVG_MUL\n",
      "INCOME_APARTMENT_MODE_MUL\n",
      "INCOME_APARTMENT_MEDI_MUL\n",
      "OBS_30_60_SUM\n",
      "DEF_30_60_SUM\n",
      "OBS_DEF_60_MUL\n",
      "SUM_OBS_DEF_ALL\n",
      "OBS_60_CREDIT_RATIO\n",
      "DEF_30_CREDIT_RATIO\n",
      "DEF_60_CREDIT_RATIO\n",
      "FLAGS_DOCUMENTS_AVG\n",
      "FLAGS_DOCUMENTS_VAR\n",
      "FLAGS_DOCUMENTS_STD\n",
      "DAYS_DETAILS_CHANGE_SUM\n",
      "AMT_ENQ_SUM\n",
      "NAME_INCOME_TYPE_Pensioner\n",
      "NAME_EDUCATION_TYPE_Secondary / secondary special\n",
      "ORGANIZATION_TYPE_XNA\n",
      "HOUSETYPE_MODE_XNA\n",
      "HOUSETYPE_MODE_block of flats\n",
      "WALLSMATERIAL_MODE_XNA\n"
     ]
    }
   ],
   "source": [
    "# Variables avec un coef de Pearson > 0.8?\n",
    "cols_corr2_a_supp = [var for var in corr_triangle_2.columns\n",
    "                     if any(corr_triangle_2[var] > seuil)]\n",
    "print(f'{len(cols_corr2_a_supp)} variables fortement corrélées à supprimer:\\n')\n",
    "for var in cols_corr2_a_supp:\n",
    "    print(var)"
   ]
  },
  {
   "cell_type": "code",
   "execution_count": 76,
   "id": "16c9868d",
   "metadata": {
    "run_control": {
     "marked": false
    }
   },
   "outputs": [
    {
     "name": "stdout",
     "output_type": "stream",
     "text": [
      "appli_train_imp2 : (307507, 290)\n",
      "appli_train_imp2 : (307507, 207)\n"
     ]
    }
   ],
   "source": [
    "# Suppression des variables fortement corrélées\n",
    "print(f'appli_train_imp2 : {appli_train_imp2.shape}')\n",
    "appli_train_imp2.drop(columns=cols_corr2_a_supp,  inplace=True)\n",
    "print(f'appli_train_imp2 : {appli_train_imp2.shape}')"
   ]
  },
  {
   "cell_type": "code",
   "execution_count": 77,
   "id": "0674a258",
   "metadata": {
    "run_control": {
     "marked": false
    }
   },
   "outputs": [],
   "source": [
    "# Sauvegarde de appli_train_imp2 nettoyée, encodée, prête pour ML\n",
    "fic_sav_appli_train_imp2 = \\\n",
    "    '../sauvegarde/pre-processing/appli_train_imp2_clean.pickle'\n",
    "with open(fic_sav_appli_train_imp2, 'wb') as f:\n",
    "    pickle.dump(appli_train_imp2, f, pickle.HIGHEST_PROTOCOL)"
   ]
  },
  {
   "cell_type": "markdown",
   "id": "6b5f248b",
   "metadata": {},
   "source": [
    "**Chargement des dataframes nettoyés**"
   ]
  },
  {
   "cell_type": "code",
   "execution_count": 7,
   "id": "4341109a",
   "metadata": {
    "run_control": {
     "marked": true
    }
   },
   "outputs": [
    {
     "data": {
      "text/plain": [
       "(307507, 206)"
      ]
     },
     "execution_count": 7,
     "metadata": {},
     "output_type": "execute_result"
    }
   ],
   "source": [
    "fic_sav_application_train = \\\n",
    "    '../sauvegarde/pre-processing/application_train_clean.pickle'\n",
    "# Chargement de application_train\n",
    "with open(fic_sav_application_train, 'rb') as df_appli_train_clean:\n",
    "    application_train = pickle.load(df_appli_train_clean)\n",
    "application_train.shape"
   ]
  },
  {
   "cell_type": "code",
   "execution_count": 8,
   "id": "9ad4e576",
   "metadata": {
    "run_control": {
     "marked": true
    }
   },
   "outputs": [
    {
     "data": {
      "text/plain": [
       "(307507, 213)"
      ]
     },
     "execution_count": 8,
     "metadata": {},
     "output_type": "execute_result"
    }
   ],
   "source": [
    "fic_sav_appli_train_imp1 = \\\n",
    "    '../sauvegarde/pre-processing/appli_train_imp1_clean.pickle'\n",
    "# Chargement de appli_train_imp1\n",
    "with open(fic_sav_appli_train_imp1, 'rb') as df_appli_train_1_clean:\n",
    "    appli_train_imp1 = pickle.load(df_appli_train_1_clean)\n",
    "appli_train_imp1.shape"
   ]
  },
  {
   "cell_type": "code",
   "execution_count": 9,
   "id": "0683fbfc",
   "metadata": {
    "run_control": {
     "marked": true
    }
   },
   "outputs": [
    {
     "data": {
      "text/plain": [
       "(307507, 207)"
      ]
     },
     "execution_count": 9,
     "metadata": {},
     "output_type": "execute_result"
    }
   ],
   "source": [
    "fic_sav_appli_train_imp2 = \\\n",
    "    '../sauvegarde/pre-processing/appli_train_imp2_clean.pickle'\n",
    "# Chargement de appli_train_imp2\n",
    "with open(fic_sav_appli_train_imp2, 'rb') as df_appli_train_2_clean:\n",
    "    appli_train_imp2 = pickle.load(df_appli_train_2_clean)\n",
    "appli_train_imp2.shape"
   ]
  },
  {
   "cell_type": "markdown",
   "id": "5f910321",
   "metadata": {},
   "source": [
    "### <span style='background:PowderBlue'>3.2. Fichier application_test.csv</span>"
   ]
  },
  {
   "cell_type": "code",
   "execution_count": 94,
   "id": "9e4ef661",
   "metadata": {},
   "outputs": [
    {
     "name": "stdout",
     "output_type": "stream",
     "text": [
      "Le jeu de données contient 48744 lignes et 121 variables.\n"
     ]
    }
   ],
   "source": [
    "# Taille : nombre de lignes/colonnes\n",
    "nRow, nVar = application_test.shape\n",
    "print(f'Le jeu de données contient {nRow} lignes et {nVar} variables.')"
   ]
  },
  {
   "cell_type": "code",
   "execution_count": 95,
   "id": "be33feb6",
   "metadata": {
    "run_control": {
     "marked": false
    }
   },
   "outputs": [],
   "source": [
    "# Variables quantitatives\n",
    "cols_num = application_test.select_dtypes(include=[np.number]).columns \\\n",
    "    .to_list()"
   ]
  },
  {
   "cell_type": "code",
   "execution_count": 96,
   "id": "d7f46805",
   "metadata": {
    "run_control": {
     "marked": false
    }
   },
   "outputs": [],
   "source": [
    "# Variables catégorielles\n",
    "cols_cat = application_test.select_dtypes(exclude=[np.number]).columns \\\n",
    "    .to_list()"
   ]
  },
  {
   "cell_type": "markdown",
   "id": "da0ba4f7",
   "metadata": {},
   "source": [
    "#### <span style='background:Moccasin'>3.2.1. Types des objets</span>"
   ]
  },
  {
   "cell_type": "markdown",
   "id": "ddc5ee84",
   "metadata": {},
   "source": [
    "Amélioration de la mémoire en réduisant la taille des objets."
   ]
  },
  {
   "cell_type": "code",
   "execution_count": 97,
   "id": "2fea637b",
   "metadata": {
    "scrolled": true
   },
   "outputs": [
    {
     "name": "stdout",
     "output_type": "stream",
     "text": [
      "-------------------------------------------------------------\n",
      "Type de variable pour chacune des variables\n",
      "\n"
     ]
    },
    {
     "data": {
      "text/plain": [
       "SK_ID_CURR                        int64\n",
       "NAME_CONTRACT_TYPE               object\n",
       "CODE_GENDER                      object\n",
       "FLAG_OWN_CAR                     object\n",
       "FLAG_OWN_REALTY                  object\n",
       "CNT_CHILDREN                      int64\n",
       "AMT_INCOME_TOTAL                float64\n",
       "AMT_CREDIT                      float64\n",
       "AMT_ANNUITY                     float64\n",
       "AMT_GOODS_PRICE                 float64\n",
       "NAME_TYPE_SUITE                  object\n",
       "NAME_INCOME_TYPE                 object\n",
       "NAME_EDUCATION_TYPE              object\n",
       "NAME_FAMILY_STATUS               object\n",
       "NAME_HOUSING_TYPE                object\n",
       "REGION_POPULATION_RELATIVE      float64\n",
       "DAYS_BIRTH                        int64\n",
       "DAYS_EMPLOYED                     int64\n",
       "DAYS_REGISTRATION               float64\n",
       "DAYS_ID_PUBLISH                   int64\n",
       "OWN_CAR_AGE                     float64\n",
       "FLAG_MOBIL                        int64\n",
       "FLAG_EMP_PHONE                    int64\n",
       "FLAG_WORK_PHONE                   int64\n",
       "FLAG_CONT_MOBILE                  int64\n",
       "FLAG_PHONE                        int64\n",
       "FLAG_EMAIL                        int64\n",
       "OCCUPATION_TYPE                  object\n",
       "CNT_FAM_MEMBERS                 float64\n",
       "REGION_RATING_CLIENT              int64\n",
       "REGION_RATING_CLIENT_W_CITY       int64\n",
       "WEEKDAY_APPR_PROCESS_START       object\n",
       "HOUR_APPR_PROCESS_START           int64\n",
       "REG_REGION_NOT_LIVE_REGION        int64\n",
       "REG_REGION_NOT_WORK_REGION        int64\n",
       "LIVE_REGION_NOT_WORK_REGION       int64\n",
       "REG_CITY_NOT_LIVE_CITY            int64\n",
       "REG_CITY_NOT_WORK_CITY            int64\n",
       "LIVE_CITY_NOT_WORK_CITY           int64\n",
       "ORGANIZATION_TYPE                object\n",
       "EXT_SOURCE_1                    float64\n",
       "EXT_SOURCE_2                    float64\n",
       "EXT_SOURCE_3                    float64\n",
       "APARTMENTS_AVG                  float64\n",
       "BASEMENTAREA_AVG                float64\n",
       "YEARS_BEGINEXPLUATATION_AVG     float64\n",
       "YEARS_BUILD_AVG                 float64\n",
       "COMMONAREA_AVG                  float64\n",
       "ELEVATORS_AVG                   float64\n",
       "ENTRANCES_AVG                   float64\n",
       "FLOORSMAX_AVG                   float64\n",
       "FLOORSMIN_AVG                   float64\n",
       "LANDAREA_AVG                    float64\n",
       "LIVINGAPARTMENTS_AVG            float64\n",
       "LIVINGAREA_AVG                  float64\n",
       "NONLIVINGAPARTMENTS_AVG         float64\n",
       "NONLIVINGAREA_AVG               float64\n",
       "APARTMENTS_MODE                 float64\n",
       "BASEMENTAREA_MODE               float64\n",
       "YEARS_BEGINEXPLUATATION_MODE    float64\n",
       "YEARS_BUILD_MODE                float64\n",
       "COMMONAREA_MODE                 float64\n",
       "ELEVATORS_MODE                  float64\n",
       "ENTRANCES_MODE                  float64\n",
       "FLOORSMAX_MODE                  float64\n",
       "FLOORSMIN_MODE                  float64\n",
       "LANDAREA_MODE                   float64\n",
       "LIVINGAPARTMENTS_MODE           float64\n",
       "LIVINGAREA_MODE                 float64\n",
       "NONLIVINGAPARTMENTS_MODE        float64\n",
       "NONLIVINGAREA_MODE              float64\n",
       "APARTMENTS_MEDI                 float64\n",
       "BASEMENTAREA_MEDI               float64\n",
       "YEARS_BEGINEXPLUATATION_MEDI    float64\n",
       "YEARS_BUILD_MEDI                float64\n",
       "COMMONAREA_MEDI                 float64\n",
       "ELEVATORS_MEDI                  float64\n",
       "ENTRANCES_MEDI                  float64\n",
       "FLOORSMAX_MEDI                  float64\n",
       "FLOORSMIN_MEDI                  float64\n",
       "LANDAREA_MEDI                   float64\n",
       "LIVINGAPARTMENTS_MEDI           float64\n",
       "LIVINGAREA_MEDI                 float64\n",
       "NONLIVINGAPARTMENTS_MEDI        float64\n",
       "NONLIVINGAREA_MEDI              float64\n",
       "FONDKAPREMONT_MODE               object\n",
       "HOUSETYPE_MODE                   object\n",
       "TOTALAREA_MODE                  float64\n",
       "WALLSMATERIAL_MODE               object\n",
       "EMERGENCYSTATE_MODE              object\n",
       "OBS_30_CNT_SOCIAL_CIRCLE        float64\n",
       "DEF_30_CNT_SOCIAL_CIRCLE        float64\n",
       "OBS_60_CNT_SOCIAL_CIRCLE        float64\n",
       "DEF_60_CNT_SOCIAL_CIRCLE        float64\n",
       "DAYS_LAST_PHONE_CHANGE          float64\n",
       "FLAG_DOCUMENT_2                   int64\n",
       "FLAG_DOCUMENT_3                   int64\n",
       "FLAG_DOCUMENT_4                   int64\n",
       "FLAG_DOCUMENT_5                   int64\n",
       "FLAG_DOCUMENT_6                   int64\n",
       "FLAG_DOCUMENT_7                   int64\n",
       "FLAG_DOCUMENT_8                   int64\n",
       "FLAG_DOCUMENT_9                   int64\n",
       "FLAG_DOCUMENT_10                  int64\n",
       "FLAG_DOCUMENT_11                  int64\n",
       "FLAG_DOCUMENT_12                  int64\n",
       "FLAG_DOCUMENT_13                  int64\n",
       "FLAG_DOCUMENT_14                  int64\n",
       "FLAG_DOCUMENT_15                  int64\n",
       "FLAG_DOCUMENT_16                  int64\n",
       "FLAG_DOCUMENT_17                  int64\n",
       "FLAG_DOCUMENT_18                  int64\n",
       "FLAG_DOCUMENT_19                  int64\n",
       "FLAG_DOCUMENT_20                  int64\n",
       "FLAG_DOCUMENT_21                  int64\n",
       "AMT_REQ_CREDIT_BUREAU_HOUR      float64\n",
       "AMT_REQ_CREDIT_BUREAU_DAY       float64\n",
       "AMT_REQ_CREDIT_BUREAU_WEEK      float64\n",
       "AMT_REQ_CREDIT_BUREAU_MON       float64\n",
       "AMT_REQ_CREDIT_BUREAU_QRT       float64\n",
       "AMT_REQ_CREDIT_BUREAU_YEAR      float64\n",
       "dtype: object"
      ]
     },
     "metadata": {},
     "output_type": "display_data"
    },
    {
     "data": {
      "image/png": "[encoded data removed]",
      "text/plain": [
       "<Figure size 432x288 with 1 Axes>"
      ]
     },
     "metadata": {},
     "output_type": "display_data"
    }
   ],
   "source": [
    "# Types des variables\n",
    "outils_data.get_types_variables(application_test, True, False, True)"
   ]
  },
  {
   "cell_type": "code",
   "execution_count": 98,
   "id": "14dd90c7",
   "metadata": {
    "run_control": {
     "marked": false
    }
   },
   "outputs": [
    {
     "name": "stdout",
     "output_type": "stream",
     "text": [
      "-------------------------------------------------------------------------------\n",
      "Memory usage du dataframe: 45.00 MB\n",
      "Memory usage après optimization: 14.60 MB\n",
      "Diminution de 67.6%\n",
      "-------------------------------------------------------------------------------\n"
     ]
    }
   ],
   "source": [
    "application_test =\\\n",
    "    outils_preprocessing.reduce_mem_usage(application_test, verbose=True)"
   ]
  },
  {
   "cell_type": "code",
   "execution_count": 99,
   "id": "60296a07",
   "metadata": {
    "run_control": {
     "marked": false
    }
   },
   "outputs": [],
   "source": [
    "# Modification à la main : REGION_RATING_CLIENT contient 1, 2 ou 3\n",
    "# ==> object\n",
    "application_test['REGION_RATING_CLIENT'] = \\\n",
    "    application_test['REGION_RATING_CLIENT'].astype('object')\n",
    "# Modification à la main : REGION_RATING_CLIENT_W_CITY contient\n",
    "# ==> 1, 2 ou 3 object\n",
    "application_test['REGION_RATING_CLIENT_W_CITY'] = \\\n",
    "    application_test['REGION_RATING_CLIENT_W_CITY'].astype('object')"
   ]
  },
  {
   "cell_type": "code",
   "execution_count": 100,
   "id": "30aff541",
   "metadata": {
    "run_control": {
     "marked": false
    }
   },
   "outputs": [],
   "source": [
    "# EMERGENCYSTATE_MODE contient Yes/No ==> transformer en 1/0\n",
    "%pycodestyle_off\n",
    "dico_emergency = {'Yes' : 0,\n",
    "                  'No' : 1,\n",
    "                  np.nan : 0}\n",
    "outils_data.traduire_valeurs_variable(application_test,\n",
    "                                      'EMERGENCYSTATE_MODE', dico_emergency)\n",
    "application_test['EMERGENCYSTATE_MODE'] = \\\n",
    "    application_test['EMERGENCYSTATE_MODE'].astype('int8')\n",
    "%pycodestyle_on"
   ]
  },
  {
   "cell_type": "code",
   "execution_count": 105,
   "id": "c1a2ff20",
   "metadata": {},
   "outputs": [
    {
     "data": {
      "text/plain": [
       "array([1, 0], dtype=int8)"
      ]
     },
     "execution_count": 105,
     "metadata": {},
     "output_type": "execute_result"
    }
   ],
   "source": [
    "application_test['EMERGENCYSTATE_MODE'].unique()"
   ]
  },
  {
   "cell_type": "code",
   "execution_count": 101,
   "id": "a0cb36de",
   "metadata": {
    "run_control": {
     "marked": false
    }
   },
   "outputs": [],
   "source": [
    "# FLAG_OWN_CAR contient Y/N ==> transformer en 1/0\n",
    "%pycodestyle_off\n",
    "dico_owncar = {'Y' : 0,\n",
    "               'N' : 1,\n",
    "               np.nan : 0}\n",
    "outils_data.traduire_valeurs_variable(application_test, 'FLAG_OWN_CAR',\n",
    "                                      dico_owncar)\n",
    "application_test['FLAG_OWN_CAR'] = \\\n",
    "    application_test['FLAG_OWN_CAR'].astype('int8')\n",
    "%pycodestyle_on"
   ]
  },
  {
   "cell_type": "code",
   "execution_count": 104,
   "id": "a1d00308",
   "metadata": {},
   "outputs": [
    {
     "data": {
      "text/plain": [
       "array([1, 0], dtype=int8)"
      ]
     },
     "execution_count": 104,
     "metadata": {},
     "output_type": "execute_result"
    }
   ],
   "source": [
    "application_test['FLAG_OWN_CAR'].unique()"
   ]
  },
  {
   "cell_type": "code",
   "execution_count": 102,
   "id": "ff37d808",
   "metadata": {
    "run_control": {
     "marked": false
    }
   },
   "outputs": [],
   "source": [
    "# FLAG_OWN_REALTY contient Y/N ==> transformer en 1/0\n",
    "%pycodestyle_off\n",
    "dico_ownreal = {'Y' : 0,\n",
    "                'N' : 1,\n",
    "                np.nan : 0}\n",
    "outils_data.traduire_valeurs_variable(application_test, 'FLAG_OWN_REALTY',\n",
    "                                      dico_ownreal)\n",
    "application_test['FLAG_OWN_REALTY'] = \\\n",
    "    application_test['FLAG_OWN_REALTY'].astype('int8')\n",
    "%pycodestyle_on"
   ]
  },
  {
   "cell_type": "code",
   "execution_count": 103,
   "id": "ac5e2d47",
   "metadata": {},
   "outputs": [
    {
     "data": {
      "text/plain": [
       "array([0, 1], dtype=int8)"
      ]
     },
     "execution_count": 103,
     "metadata": {},
     "output_type": "execute_result"
    }
   ],
   "source": [
    "application_test['FLAG_OWN_REALTY'].unique()"
   ]
  },
  {
   "cell_type": "markdown",
   "id": "ffcc344f",
   "metadata": {},
   "source": [
    "#### <span style='background:Moccasin'>3.2.2. Valeurs aberrantes</span>"
   ]
  },
  {
   "cell_type": "markdown",
   "id": "1965069b",
   "metadata": {},
   "source": [
    "Correction des valeurs aberrantes détectées lors de l'EDA."
   ]
  },
  {
   "cell_type": "markdown",
   "id": "5a8f0749",
   "metadata": {},
   "source": [
    "**DAYS_EMPLOYED**"
   ]
  },
  {
   "cell_type": "markdown",
   "id": "6716ca87",
   "metadata": {},
   "source": [
    "A partir du percentile 90, la valeur est 365243 jours donc 1000 ans !"
   ]
  },
  {
   "cell_type": "code",
   "execution_count": 106,
   "id": "dc62da6c",
   "metadata": {
    "run_control": {
     "marked": false
    }
   },
   "outputs": [
    {
     "name": "stdout",
     "output_type": "stream",
     "text": [
      "Nombre d'erreurs DAYS_EMPLOYED : 9274 (19.03%)\n"
     ]
    }
   ],
   "source": [
    "# Nombre de ligne erronées\n",
    "nb_err = \\\n",
    "    application_test['DAYS_EMPLOYED'][application_test['DAYS_EMPLOYED']\n",
    "                                      == 365243].count()\n",
    "pourc_err = round((nb_err*100)/application_test.shape[0], 2)\n",
    "print(f'Nombre d\\'erreurs DAYS_EMPLOYED : {nb_err} ({pourc_err}%)')"
   ]
  },
  {
   "cell_type": "code",
   "execution_count": 107,
   "id": "3187dd6f",
   "metadata": {
    "run_control": {
     "marked": false
    }
   },
   "outputs": [],
   "source": [
    "# Correction\n",
    "application_test['DAYS_EMPLOYED'][application_test['DAYS_EMPLOYED']\n",
    "                                  == 365243] = np.nan"
   ]
  },
  {
   "cell_type": "code",
   "execution_count": 108,
   "id": "ab4991ed",
   "metadata": {},
   "outputs": [],
   "source": [
    "# TODO : POURQUOI 30?\n",
    "# OBS Columns have an erroneous value, we'll remove those values\n",
    "# application_test['OBS_30_CNT_SOCIAL_CIRCLE']\n",
    "#  [application_test['OBS_30_CNT_SOCIAL_CIRCLE'] > 30] == np.nan\n",
    "# application_test['OBS_60_CNT_SOCIAL_CIRCLE']\n",
    "# [application_test['OBS_60_CNT_SOCIAL_CIRCLE'] > 30] == np.nan"
   ]
  },
  {
   "cell_type": "markdown",
   "id": "2267c91f",
   "metadata": {},
   "source": [
    "#### <span style='background:Moccasin'>3.2.3. Valeurs manquantes</span>"
   ]
  },
  {
   "cell_type": "code",
   "execution_count": 109,
   "id": "bf76aec4",
   "metadata": {
    "run_control": {
     "marked": false
    },
    "scrolled": true
   },
   "outputs": [
    {
     "name": "stdout",
     "output_type": "stream",
     "text": [
      "Valeurs manquantes : 1391484 NaN pour 5898024 données (23.59 %)\n",
      "-------------------------------------------------------------\n",
      "Nombre et pourcentage de valeurs manquantes par variable\n",
      "\n"
     ]
    },
    {
     "data": {
      "text/html": [
       "<style  type=\"text/css\" >\n",
       "#T_1e726_row0_col0,#T_1e726_row0_col1,#T_1e726_row1_col0,#T_1e726_row1_col1,#T_1e726_row2_col0,#T_1e726_row2_col1{\n",
       "            background-color:  #800000;\n",
       "            color:  #f1f1f1;\n",
       "        }#T_1e726_row3_col0,#T_1e726_row3_col1,#T_1e726_row4_col0,#T_1e726_row4_col1,#T_1e726_row5_col0,#T_1e726_row5_col1{\n",
       "            background-color:  #820000;\n",
       "            color:  #f1f1f1;\n",
       "        }#T_1e726_row6_col0,#T_1e726_row6_col1,#T_1e726_row7_col0,#T_1e726_row7_col1,#T_1e726_row8_col0,#T_1e726_row8_col1,#T_1e726_row9_col0,#T_1e726_row9_col1{\n",
       "            background-color:  #8a0000;\n",
       "            color:  #f1f1f1;\n",
       "        }#T_1e726_row10_col0,#T_1e726_row10_col1,#T_1e726_row11_col0,#T_1e726_row11_col1,#T_1e726_row12_col0,#T_1e726_row12_col1{\n",
       "            background-color:  #8e0000;\n",
       "            color:  #f1f1f1;\n",
       "        }#T_1e726_row13_col0,#T_1e726_row13_col1{\n",
       "            background-color:  #920000;\n",
       "            color:  #f1f1f1;\n",
       "        }#T_1e726_row14_col0,#T_1e726_row14_col1,#T_1e726_row15_col0,#T_1e726_row15_col1,#T_1e726_row16_col0,#T_1e726_row16_col1{\n",
       "            background-color:  #980000;\n",
       "            color:  #f1f1f1;\n",
       "        }#T_1e726_row17_col0,#T_1e726_row17_col1,#T_1e726_row18_col0,#T_1e726_row18_col1,#T_1e726_row19_col0,#T_1e726_row19_col1{\n",
       "            background-color:  #d00000;\n",
       "            color:  #f1f1f1;\n",
       "        }#T_1e726_row20_col0,#T_1e726_row20_col1,#T_1e726_row21_col0,#T_1e726_row21_col1,#T_1e726_row22_col0,#T_1e726_row22_col1{\n",
       "            background-color:  #d80000;\n",
       "            color:  #f1f1f1;\n",
       "        }#T_1e726_row23_col0,#T_1e726_row23_col1,#T_1e726_row24_col0,#T_1e726_row24_col1,#T_1e726_row25_col0,#T_1e726_row25_col1{\n",
       "            background-color:  #f00000;\n",
       "            color:  #f1f1f1;\n",
       "        }#T_1e726_row26_col0,#T_1e726_row26_col1,#T_1e726_row27_col0,#T_1e726_row27_col1,#T_1e726_row28_col0,#T_1e726_row28_col1{\n",
       "            background-color:  #fe0000;\n",
       "            color:  #f1f1f1;\n",
       "        }#T_1e726_row29_col0,#T_1e726_row29_col1,#T_1e726_row30_col0,#T_1e726_row30_col1,#T_1e726_row31_col0,#T_1e726_row31_col1,#T_1e726_row32_col0,#T_1e726_row32_col1{\n",
       "            background-color:  #ff2525;\n",
       "            color:  #f1f1f1;\n",
       "        }#T_1e726_row33_col0,#T_1e726_row33_col1,#T_1e726_row34_col0,#T_1e726_row34_col1,#T_1e726_row35_col0,#T_1e726_row35_col1,#T_1e726_row36_col0,#T_1e726_row36_col1{\n",
       "            background-color:  #ff2d2d;\n",
       "            color:  #f1f1f1;\n",
       "        }#T_1e726_row37_col0,#T_1e726_row37_col1,#T_1e726_row38_col0,#T_1e726_row38_col1,#T_1e726_row39_col0,#T_1e726_row39_col1{\n",
       "            background-color:  #ff3131;\n",
       "            color:  #f1f1f1;\n",
       "        }#T_1e726_row40_col0,#T_1e726_row40_col1,#T_1e726_row41_col0,#T_1e726_row41_col1,#T_1e726_row42_col0,#T_1e726_row42_col1{\n",
       "            background-color:  #ff3535;\n",
       "            color:  #f1f1f1;\n",
       "        }#T_1e726_row43_col0,#T_1e726_row43_col1,#T_1e726_row44_col0,#T_1e726_row44_col1,#T_1e726_row45_col0,#T_1e726_row45_col1{\n",
       "            background-color:  #ff4545;\n",
       "            color:  #000000;\n",
       "        }#T_1e726_row46_col0,#T_1e726_row46_col1{\n",
       "            background-color:  #ff4d4d;\n",
       "            color:  #000000;\n",
       "        }#T_1e726_row47_col0,#T_1e726_row47_col1{\n",
       "            background-color:  #ff8d8d;\n",
       "            color:  #000000;\n",
       "        }#T_1e726_row48_col0,#T_1e726_row48_col1{\n",
       "            background-color:  #ddddff;\n",
       "            color:  #000000;\n",
       "        }#T_1e726_row49_col0,#T_1e726_row49_col1{\n",
       "            background-color:  #1919ff;\n",
       "            color:  #f1f1f1;\n",
       "        }#T_1e726_row50_col0,#T_1e726_row50_col1{\n",
       "            background-color:  #0909ff;\n",
       "            color:  #f1f1f1;\n",
       "        }#T_1e726_row51_col0,#T_1e726_row51_col1,#T_1e726_row52_col0,#T_1e726_row52_col1,#T_1e726_row53_col0,#T_1e726_row53_col1,#T_1e726_row54_col0,#T_1e726_row54_col1,#T_1e726_row55_col0,#T_1e726_row55_col1,#T_1e726_row56_col0,#T_1e726_row56_col1{\n",
       "            background-color:  #0000cd;\n",
       "            color:  #f1f1f1;\n",
       "        }#T_1e726_row57_col0,#T_1e726_row57_col1{\n",
       "            background-color:  #00005d;\n",
       "            color:  #f1f1f1;\n",
       "        }#T_1e726_row58_col0,#T_1e726_row58_col1,#T_1e726_row59_col0,#T_1e726_row59_col1,#T_1e726_row60_col0,#T_1e726_row60_col1,#T_1e726_row61_col0,#T_1e726_row61_col1,#T_1e726_row62_col0,#T_1e726_row62_col1,#T_1e726_row63_col0,#T_1e726_row63_col1{\n",
       "            background-color:  #00004c;\n",
       "            color:  #f1f1f1;\n",
       "        }</style><table id=\"T_1e726_\" ><thead>    <tr>        <th class=\"blank level0\" ></th>        <th class=\"col_heading level0 col0\" >Nombres de valeurs manquantes</th>        <th class=\"col_heading level0 col1\" >% de valeurs manquantes</th>    </tr></thead><tbody>\n",
       "                <tr>\n",
       "                        <th id=\"T_1e726_level0_row0\" class=\"row_heading level0 row0\" >COMMONAREA_MEDI</th>\n",
       "                        <td id=\"T_1e726_row0_col0\" class=\"data row0 col0\" >33495</td>\n",
       "                        <td id=\"T_1e726_row0_col1\" class=\"data row0 col1\" >68.7200</td>\n",
       "            </tr>\n",
       "            <tr>\n",
       "                        <th id=\"T_1e726_level0_row1\" class=\"row_heading level0 row1\" >COMMONAREA_MODE</th>\n",
       "                        <td id=\"T_1e726_row1_col0\" class=\"data row1 col0\" >33495</td>\n",
       "                        <td id=\"T_1e726_row1_col1\" class=\"data row1 col1\" >68.7200</td>\n",
       "            </tr>\n",
       "            <tr>\n",
       "                        <th id=\"T_1e726_level0_row2\" class=\"row_heading level0 row2\" >COMMONAREA_AVG</th>\n",
       "                        <td id=\"T_1e726_row2_col0\" class=\"data row2 col0\" >33495</td>\n",
       "                        <td id=\"T_1e726_row2_col1\" class=\"data row2 col1\" >68.7200</td>\n",
       "            </tr>\n",
       "            <tr>\n",
       "                        <th id=\"T_1e726_level0_row3\" class=\"row_heading level0 row3\" >NONLIVINGAPARTMENTS_MODE</th>\n",
       "                        <td id=\"T_1e726_row3_col0\" class=\"data row3 col0\" >33347</td>\n",
       "                        <td id=\"T_1e726_row3_col1\" class=\"data row3 col1\" >68.4100</td>\n",
       "            </tr>\n",
       "            <tr>\n",
       "                        <th id=\"T_1e726_level0_row4\" class=\"row_heading level0 row4\" >NONLIVINGAPARTMENTS_AVG</th>\n",
       "                        <td id=\"T_1e726_row4_col0\" class=\"data row4 col0\" >33347</td>\n",
       "                        <td id=\"T_1e726_row4_col1\" class=\"data row4 col1\" >68.4100</td>\n",
       "            </tr>\n",
       "            <tr>\n",
       "                        <th id=\"T_1e726_level0_row5\" class=\"row_heading level0 row5\" >NONLIVINGAPARTMENTS_MEDI</th>\n",
       "                        <td id=\"T_1e726_row5_col0\" class=\"data row5 col0\" >33347</td>\n",
       "                        <td id=\"T_1e726_row5_col1\" class=\"data row5 col1\" >68.4100</td>\n",
       "            </tr>\n",
       "            <tr>\n",
       "                        <th id=\"T_1e726_level0_row6\" class=\"row_heading level0 row6\" >FONDKAPREMONT_MODE</th>\n",
       "                        <td id=\"T_1e726_row6_col0\" class=\"data row6 col0\" >32797</td>\n",
       "                        <td id=\"T_1e726_row6_col1\" class=\"data row6 col1\" >67.2800</td>\n",
       "            </tr>\n",
       "            <tr>\n",
       "                        <th id=\"T_1e726_level0_row7\" class=\"row_heading level0 row7\" >LIVINGAPARTMENTS_MEDI</th>\n",
       "                        <td id=\"T_1e726_row7_col0\" class=\"data row7 col0\" >32780</td>\n",
       "                        <td id=\"T_1e726_row7_col1\" class=\"data row7 col1\" >67.2500</td>\n",
       "            </tr>\n",
       "            <tr>\n",
       "                        <th id=\"T_1e726_level0_row8\" class=\"row_heading level0 row8\" >LIVINGAPARTMENTS_AVG</th>\n",
       "                        <td id=\"T_1e726_row8_col0\" class=\"data row8 col0\" >32780</td>\n",
       "                        <td id=\"T_1e726_row8_col1\" class=\"data row8 col1\" >67.2500</td>\n",
       "            </tr>\n",
       "            <tr>\n",
       "                        <th id=\"T_1e726_level0_row9\" class=\"row_heading level0 row9\" >LIVINGAPARTMENTS_MODE</th>\n",
       "                        <td id=\"T_1e726_row9_col0\" class=\"data row9 col0\" >32780</td>\n",
       "                        <td id=\"T_1e726_row9_col1\" class=\"data row9 col1\" >67.2500</td>\n",
       "            </tr>\n",
       "            <tr>\n",
       "                        <th id=\"T_1e726_level0_row10\" class=\"row_heading level0 row10\" >FLOORSMIN_MEDI</th>\n",
       "                        <td id=\"T_1e726_row10_col0\" class=\"data row10 col0\" >32466</td>\n",
       "                        <td id=\"T_1e726_row10_col1\" class=\"data row10 col1\" >66.6100</td>\n",
       "            </tr>\n",
       "            <tr>\n",
       "                        <th id=\"T_1e726_level0_row11\" class=\"row_heading level0 row11\" >FLOORSMIN_AVG</th>\n",
       "                        <td id=\"T_1e726_row11_col0\" class=\"data row11 col0\" >32466</td>\n",
       "                        <td id=\"T_1e726_row11_col1\" class=\"data row11 col1\" >66.6100</td>\n",
       "            </tr>\n",
       "            <tr>\n",
       "                        <th id=\"T_1e726_level0_row12\" class=\"row_heading level0 row12\" >FLOORSMIN_MODE</th>\n",
       "                        <td id=\"T_1e726_row12_col0\" class=\"data row12 col0\" >32466</td>\n",
       "                        <td id=\"T_1e726_row12_col1\" class=\"data row12 col1\" >66.6100</td>\n",
       "            </tr>\n",
       "            <tr>\n",
       "                        <th id=\"T_1e726_level0_row13\" class=\"row_heading level0 row13\" >OWN_CAR_AGE</th>\n",
       "                        <td id=\"T_1e726_row13_col0\" class=\"data row13 col0\" >32312</td>\n",
       "                        <td id=\"T_1e726_row13_col1\" class=\"data row13 col1\" >66.2900</td>\n",
       "            </tr>\n",
       "            <tr>\n",
       "                        <th id=\"T_1e726_level0_row14\" class=\"row_heading level0 row14\" >YEARS_BUILD_AVG</th>\n",
       "                        <td id=\"T_1e726_row14_col0\" class=\"data row14 col0\" >31818</td>\n",
       "                        <td id=\"T_1e726_row14_col1\" class=\"data row14 col1\" >65.2800</td>\n",
       "            </tr>\n",
       "            <tr>\n",
       "                        <th id=\"T_1e726_level0_row15\" class=\"row_heading level0 row15\" >YEARS_BUILD_MEDI</th>\n",
       "                        <td id=\"T_1e726_row15_col0\" class=\"data row15 col0\" >31818</td>\n",
       "                        <td id=\"T_1e726_row15_col1\" class=\"data row15 col1\" >65.2800</td>\n",
       "            </tr>\n",
       "            <tr>\n",
       "                        <th id=\"T_1e726_level0_row16\" class=\"row_heading level0 row16\" >YEARS_BUILD_MODE</th>\n",
       "                        <td id=\"T_1e726_row16_col0\" class=\"data row16 col0\" >31818</td>\n",
       "                        <td id=\"T_1e726_row16_col1\" class=\"data row16 col1\" >65.2800</td>\n",
       "            </tr>\n",
       "            <tr>\n",
       "                        <th id=\"T_1e726_level0_row17\" class=\"row_heading level0 row17\" >LANDAREA_AVG</th>\n",
       "                        <td id=\"T_1e726_row17_col0\" class=\"data row17 col0\" >28254</td>\n",
       "                        <td id=\"T_1e726_row17_col1\" class=\"data row17 col1\" >57.9600</td>\n",
       "            </tr>\n",
       "            <tr>\n",
       "                        <th id=\"T_1e726_level0_row18\" class=\"row_heading level0 row18\" >LANDAREA_MODE</th>\n",
       "                        <td id=\"T_1e726_row18_col0\" class=\"data row18 col0\" >28254</td>\n",
       "                        <td id=\"T_1e726_row18_col1\" class=\"data row18 col1\" >57.9600</td>\n",
       "            </tr>\n",
       "            <tr>\n",
       "                        <th id=\"T_1e726_level0_row19\" class=\"row_heading level0 row19\" >LANDAREA_MEDI</th>\n",
       "                        <td id=\"T_1e726_row19_col0\" class=\"data row19 col0\" >28254</td>\n",
       "                        <td id=\"T_1e726_row19_col1\" class=\"data row19 col1\" >57.9600</td>\n",
       "            </tr>\n",
       "            <tr>\n",
       "                        <th id=\"T_1e726_level0_row20\" class=\"row_heading level0 row20\" >BASEMENTAREA_MEDI</th>\n",
       "                        <td id=\"T_1e726_row20_col0\" class=\"data row20 col0\" >27641</td>\n",
       "                        <td id=\"T_1e726_row20_col1\" class=\"data row20 col1\" >56.7100</td>\n",
       "            </tr>\n",
       "            <tr>\n",
       "                        <th id=\"T_1e726_level0_row21\" class=\"row_heading level0 row21\" >BASEMENTAREA_MODE</th>\n",
       "                        <td id=\"T_1e726_row21_col0\" class=\"data row21 col0\" >27641</td>\n",
       "                        <td id=\"T_1e726_row21_col1\" class=\"data row21 col1\" >56.7100</td>\n",
       "            </tr>\n",
       "            <tr>\n",
       "                        <th id=\"T_1e726_level0_row22\" class=\"row_heading level0 row22\" >BASEMENTAREA_AVG</th>\n",
       "                        <td id=\"T_1e726_row22_col0\" class=\"data row22 col0\" >27641</td>\n",
       "                        <td id=\"T_1e726_row22_col1\" class=\"data row22 col1\" >56.7100</td>\n",
       "            </tr>\n",
       "            <tr>\n",
       "                        <th id=\"T_1e726_level0_row23\" class=\"row_heading level0 row23\" >NONLIVINGAREA_AVG</th>\n",
       "                        <td id=\"T_1e726_row23_col0\" class=\"data row23 col0\" >26084</td>\n",
       "                        <td id=\"T_1e726_row23_col1\" class=\"data row23 col1\" >53.5100</td>\n",
       "            </tr>\n",
       "            <tr>\n",
       "                        <th id=\"T_1e726_level0_row24\" class=\"row_heading level0 row24\" >NONLIVINGAREA_MEDI</th>\n",
       "                        <td id=\"T_1e726_row24_col0\" class=\"data row24 col0\" >26084</td>\n",
       "                        <td id=\"T_1e726_row24_col1\" class=\"data row24 col1\" >53.5100</td>\n",
       "            </tr>\n",
       "            <tr>\n",
       "                        <th id=\"T_1e726_level0_row25\" class=\"row_heading level0 row25\" >NONLIVINGAREA_MODE</th>\n",
       "                        <td id=\"T_1e726_row25_col0\" class=\"data row25 col0\" >26084</td>\n",
       "                        <td id=\"T_1e726_row25_col1\" class=\"data row25 col1\" >53.5100</td>\n",
       "            </tr>\n",
       "            <tr>\n",
       "                        <th id=\"T_1e726_level0_row26\" class=\"row_heading level0 row26\" >ELEVATORS_MEDI</th>\n",
       "                        <td id=\"T_1e726_row26_col0\" class=\"data row26 col0\" >25189</td>\n",
       "                        <td id=\"T_1e726_row26_col1\" class=\"data row26 col1\" >51.6800</td>\n",
       "            </tr>\n",
       "            <tr>\n",
       "                        <th id=\"T_1e726_level0_row27\" class=\"row_heading level0 row27\" >ELEVATORS_MODE</th>\n",
       "                        <td id=\"T_1e726_row27_col0\" class=\"data row27 col0\" >25189</td>\n",
       "                        <td id=\"T_1e726_row27_col1\" class=\"data row27 col1\" >51.6800</td>\n",
       "            </tr>\n",
       "            <tr>\n",
       "                        <th id=\"T_1e726_level0_row28\" class=\"row_heading level0 row28\" >ELEVATORS_AVG</th>\n",
       "                        <td id=\"T_1e726_row28_col0\" class=\"data row28 col0\" >25189</td>\n",
       "                        <td id=\"T_1e726_row28_col1\" class=\"data row28 col1\" >51.6800</td>\n",
       "            </tr>\n",
       "            <tr>\n",
       "                        <th id=\"T_1e726_level0_row29\" class=\"row_heading level0 row29\" >WALLSMATERIAL_MODE</th>\n",
       "                        <td id=\"T_1e726_row29_col0\" class=\"data row29 col0\" >23893</td>\n",
       "                        <td id=\"T_1e726_row29_col1\" class=\"data row29 col1\" >49.0200</td>\n",
       "            </tr>\n",
       "            <tr>\n",
       "                        <th id=\"T_1e726_level0_row30\" class=\"row_heading level0 row30\" >APARTMENTS_AVG</th>\n",
       "                        <td id=\"T_1e726_row30_col0\" class=\"data row30 col0\" >23887</td>\n",
       "                        <td id=\"T_1e726_row30_col1\" class=\"data row30 col1\" >49.0100</td>\n",
       "            </tr>\n",
       "            <tr>\n",
       "                        <th id=\"T_1e726_level0_row31\" class=\"row_heading level0 row31\" >APARTMENTS_MEDI</th>\n",
       "                        <td id=\"T_1e726_row31_col0\" class=\"data row31 col0\" >23887</td>\n",
       "                        <td id=\"T_1e726_row31_col1\" class=\"data row31 col1\" >49.0100</td>\n",
       "            </tr>\n",
       "            <tr>\n",
       "                        <th id=\"T_1e726_level0_row32\" class=\"row_heading level0 row32\" >APARTMENTS_MODE</th>\n",
       "                        <td id=\"T_1e726_row32_col0\" class=\"data row32 col0\" >23887</td>\n",
       "                        <td id=\"T_1e726_row32_col1\" class=\"data row32 col1\" >49.0100</td>\n",
       "            </tr>\n",
       "            <tr>\n",
       "                        <th id=\"T_1e726_level0_row33\" class=\"row_heading level0 row33\" >HOUSETYPE_MODE</th>\n",
       "                        <td id=\"T_1e726_row33_col0\" class=\"data row33 col0\" >23619</td>\n",
       "                        <td id=\"T_1e726_row33_col1\" class=\"data row33 col1\" >48.4600</td>\n",
       "            </tr>\n",
       "            <tr>\n",
       "                        <th id=\"T_1e726_level0_row34\" class=\"row_heading level0 row34\" >ENTRANCES_MEDI</th>\n",
       "                        <td id=\"T_1e726_row34_col0\" class=\"data row34 col0\" >23579</td>\n",
       "                        <td id=\"T_1e726_row34_col1\" class=\"data row34 col1\" >48.3700</td>\n",
       "            </tr>\n",
       "            <tr>\n",
       "                        <th id=\"T_1e726_level0_row35\" class=\"row_heading level0 row35\" >ENTRANCES_MODE</th>\n",
       "                        <td id=\"T_1e726_row35_col0\" class=\"data row35 col0\" >23579</td>\n",
       "                        <td id=\"T_1e726_row35_col1\" class=\"data row35 col1\" >48.3700</td>\n",
       "            </tr>\n",
       "            <tr>\n",
       "                        <th id=\"T_1e726_level0_row36\" class=\"row_heading level0 row36\" >ENTRANCES_AVG</th>\n",
       "                        <td id=\"T_1e726_row36_col0\" class=\"data row36 col0\" >23579</td>\n",
       "                        <td id=\"T_1e726_row36_col1\" class=\"data row36 col1\" >48.3700</td>\n",
       "            </tr>\n",
       "            <tr>\n",
       "                        <th id=\"T_1e726_level0_row37\" class=\"row_heading level0 row37\" >LIVINGAREA_MODE</th>\n",
       "                        <td id=\"T_1e726_row37_col0\" class=\"data row37 col0\" >23552</td>\n",
       "                        <td id=\"T_1e726_row37_col1\" class=\"data row37 col1\" >48.3200</td>\n",
       "            </tr>\n",
       "            <tr>\n",
       "                        <th id=\"T_1e726_level0_row38\" class=\"row_heading level0 row38\" >LIVINGAREA_MEDI</th>\n",
       "                        <td id=\"T_1e726_row38_col0\" class=\"data row38 col0\" >23552</td>\n",
       "                        <td id=\"T_1e726_row38_col1\" class=\"data row38 col1\" >48.3200</td>\n",
       "            </tr>\n",
       "            <tr>\n",
       "                        <th id=\"T_1e726_level0_row39\" class=\"row_heading level0 row39\" >LIVINGAREA_AVG</th>\n",
       "                        <td id=\"T_1e726_row39_col0\" class=\"data row39 col0\" >23552</td>\n",
       "                        <td id=\"T_1e726_row39_col1\" class=\"data row39 col1\" >48.3200</td>\n",
       "            </tr>\n",
       "            <tr>\n",
       "                        <th id=\"T_1e726_level0_row40\" class=\"row_heading level0 row40\" >FLOORSMAX_MEDI</th>\n",
       "                        <td id=\"T_1e726_row40_col0\" class=\"data row40 col0\" >23321</td>\n",
       "                        <td id=\"T_1e726_row40_col1\" class=\"data row40 col1\" >47.8400</td>\n",
       "            </tr>\n",
       "            <tr>\n",
       "                        <th id=\"T_1e726_level0_row41\" class=\"row_heading level0 row41\" >FLOORSMAX_MODE</th>\n",
       "                        <td id=\"T_1e726_row41_col0\" class=\"data row41 col0\" >23321</td>\n",
       "                        <td id=\"T_1e726_row41_col1\" class=\"data row41 col1\" >47.8400</td>\n",
       "            </tr>\n",
       "            <tr>\n",
       "                        <th id=\"T_1e726_level0_row42\" class=\"row_heading level0 row42\" >FLOORSMAX_AVG</th>\n",
       "                        <td id=\"T_1e726_row42_col0\" class=\"data row42 col0\" >23321</td>\n",
       "                        <td id=\"T_1e726_row42_col1\" class=\"data row42 col1\" >47.8400</td>\n",
       "            </tr>\n",
       "            <tr>\n",
       "                        <th id=\"T_1e726_level0_row43\" class=\"row_heading level0 row43\" >YEARS_BEGINEXPLUATATION_AVG</th>\n",
       "                        <td id=\"T_1e726_row43_col0\" class=\"data row43 col0\" >22856</td>\n",
       "                        <td id=\"T_1e726_row43_col1\" class=\"data row43 col1\" >46.8900</td>\n",
       "            </tr>\n",
       "            <tr>\n",
       "                        <th id=\"T_1e726_level0_row44\" class=\"row_heading level0 row44\" >YEARS_BEGINEXPLUATATION_MODE</th>\n",
       "                        <td id=\"T_1e726_row44_col0\" class=\"data row44 col0\" >22856</td>\n",
       "                        <td id=\"T_1e726_row44_col1\" class=\"data row44 col1\" >46.8900</td>\n",
       "            </tr>\n",
       "            <tr>\n",
       "                        <th id=\"T_1e726_level0_row45\" class=\"row_heading level0 row45\" >YEARS_BEGINEXPLUATATION_MEDI</th>\n",
       "                        <td id=\"T_1e726_row45_col0\" class=\"data row45 col0\" >22856</td>\n",
       "                        <td id=\"T_1e726_row45_col1\" class=\"data row45 col1\" >46.8900</td>\n",
       "            </tr>\n",
       "            <tr>\n",
       "                        <th id=\"T_1e726_level0_row46\" class=\"row_heading level0 row46\" >TOTALAREA_MODE</th>\n",
       "                        <td id=\"T_1e726_row46_col0\" class=\"data row46 col0\" >22624</td>\n",
       "                        <td id=\"T_1e726_row46_col1\" class=\"data row46 col1\" >46.4100</td>\n",
       "            </tr>\n",
       "            <tr>\n",
       "                        <th id=\"T_1e726_level0_row47\" class=\"row_heading level0 row47\" >EXT_SOURCE_1</th>\n",
       "                        <td id=\"T_1e726_row47_col0\" class=\"data row47 col0\" >20532</td>\n",
       "                        <td id=\"T_1e726_row47_col1\" class=\"data row47 col1\" >42.1200</td>\n",
       "            </tr>\n",
       "            <tr>\n",
       "                        <th id=\"T_1e726_level0_row48\" class=\"row_heading level0 row48\" >OCCUPATION_TYPE</th>\n",
       "                        <td id=\"T_1e726_row48_col0\" class=\"data row48 col0\" >15605</td>\n",
       "                        <td id=\"T_1e726_row48_col1\" class=\"data row48 col1\" >32.0100</td>\n",
       "            </tr>\n",
       "            <tr>\n",
       "                        <th id=\"T_1e726_level0_row49\" class=\"row_heading level0 row49\" >DAYS_EMPLOYED</th>\n",
       "                        <td id=\"T_1e726_row49_col0\" class=\"data row49 col0\" >9274</td>\n",
       "                        <td id=\"T_1e726_row49_col1\" class=\"data row49 col1\" >19.0300</td>\n",
       "            </tr>\n",
       "            <tr>\n",
       "                        <th id=\"T_1e726_level0_row50\" class=\"row_heading level0 row50\" >EXT_SOURCE_3</th>\n",
       "                        <td id=\"T_1e726_row50_col0\" class=\"data row50 col0\" >8668</td>\n",
       "                        <td id=\"T_1e726_row50_col1\" class=\"data row50 col1\" >17.7800</td>\n",
       "            </tr>\n",
       "            <tr>\n",
       "                        <th id=\"T_1e726_level0_row51\" class=\"row_heading level0 row51\" >AMT_REQ_CREDIT_BUREAU_HOUR</th>\n",
       "                        <td id=\"T_1e726_row51_col0\" class=\"data row51 col0\" >6049</td>\n",
       "                        <td id=\"T_1e726_row51_col1\" class=\"data row51 col1\" >12.4100</td>\n",
       "            </tr>\n",
       "            <tr>\n",
       "                        <th id=\"T_1e726_level0_row52\" class=\"row_heading level0 row52\" >AMT_REQ_CREDIT_BUREAU_MON</th>\n",
       "                        <td id=\"T_1e726_row52_col0\" class=\"data row52 col0\" >6049</td>\n",
       "                        <td id=\"T_1e726_row52_col1\" class=\"data row52 col1\" >12.4100</td>\n",
       "            </tr>\n",
       "            <tr>\n",
       "                        <th id=\"T_1e726_level0_row53\" class=\"row_heading level0 row53\" >AMT_REQ_CREDIT_BUREAU_QRT</th>\n",
       "                        <td id=\"T_1e726_row53_col0\" class=\"data row53 col0\" >6049</td>\n",
       "                        <td id=\"T_1e726_row53_col1\" class=\"data row53 col1\" >12.4100</td>\n",
       "            </tr>\n",
       "            <tr>\n",
       "                        <th id=\"T_1e726_level0_row54\" class=\"row_heading level0 row54\" >AMT_REQ_CREDIT_BUREAU_WEEK</th>\n",
       "                        <td id=\"T_1e726_row54_col0\" class=\"data row54 col0\" >6049</td>\n",
       "                        <td id=\"T_1e726_row54_col1\" class=\"data row54 col1\" >12.4100</td>\n",
       "            </tr>\n",
       "            <tr>\n",
       "                        <th id=\"T_1e726_level0_row55\" class=\"row_heading level0 row55\" >AMT_REQ_CREDIT_BUREAU_DAY</th>\n",
       "                        <td id=\"T_1e726_row55_col0\" class=\"data row55 col0\" >6049</td>\n",
       "                        <td id=\"T_1e726_row55_col1\" class=\"data row55 col1\" >12.4100</td>\n",
       "            </tr>\n",
       "            <tr>\n",
       "                        <th id=\"T_1e726_level0_row56\" class=\"row_heading level0 row56\" >AMT_REQ_CREDIT_BUREAU_YEAR</th>\n",
       "                        <td id=\"T_1e726_row56_col0\" class=\"data row56 col0\" >6049</td>\n",
       "                        <td id=\"T_1e726_row56_col1\" class=\"data row56 col1\" >12.4100</td>\n",
       "            </tr>\n",
       "            <tr>\n",
       "                        <th id=\"T_1e726_level0_row57\" class=\"row_heading level0 row57\" >NAME_TYPE_SUITE</th>\n",
       "                        <td id=\"T_1e726_row57_col0\" class=\"data row57 col0\" >911</td>\n",
       "                        <td id=\"T_1e726_row57_col1\" class=\"data row57 col1\" >1.8700</td>\n",
       "            </tr>\n",
       "            <tr>\n",
       "                        <th id=\"T_1e726_level0_row58\" class=\"row_heading level0 row58\" >DEF_60_CNT_SOCIAL_CIRCLE</th>\n",
       "                        <td id=\"T_1e726_row58_col0\" class=\"data row58 col0\" >29</td>\n",
       "                        <td id=\"T_1e726_row58_col1\" class=\"data row58 col1\" >0.0600</td>\n",
       "            </tr>\n",
       "            <tr>\n",
       "                        <th id=\"T_1e726_level0_row59\" class=\"row_heading level0 row59\" >OBS_60_CNT_SOCIAL_CIRCLE</th>\n",
       "                        <td id=\"T_1e726_row59_col0\" class=\"data row59 col0\" >29</td>\n",
       "                        <td id=\"T_1e726_row59_col1\" class=\"data row59 col1\" >0.0600</td>\n",
       "            </tr>\n",
       "            <tr>\n",
       "                        <th id=\"T_1e726_level0_row60\" class=\"row_heading level0 row60\" >DEF_30_CNT_SOCIAL_CIRCLE</th>\n",
       "                        <td id=\"T_1e726_row60_col0\" class=\"data row60 col0\" >29</td>\n",
       "                        <td id=\"T_1e726_row60_col1\" class=\"data row60 col1\" >0.0600</td>\n",
       "            </tr>\n",
       "            <tr>\n",
       "                        <th id=\"T_1e726_level0_row61\" class=\"row_heading level0 row61\" >OBS_30_CNT_SOCIAL_CIRCLE</th>\n",
       "                        <td id=\"T_1e726_row61_col0\" class=\"data row61 col0\" >29</td>\n",
       "                        <td id=\"T_1e726_row61_col1\" class=\"data row61 col1\" >0.0600</td>\n",
       "            </tr>\n",
       "            <tr>\n",
       "                        <th id=\"T_1e726_level0_row62\" class=\"row_heading level0 row62\" >AMT_ANNUITY</th>\n",
       "                        <td id=\"T_1e726_row62_col0\" class=\"data row62 col0\" >24</td>\n",
       "                        <td id=\"T_1e726_row62_col1\" class=\"data row62 col1\" >0.0500</td>\n",
       "            </tr>\n",
       "            <tr>\n",
       "                        <th id=\"T_1e726_level0_row63\" class=\"row_heading level0 row63\" >EXT_SOURCE_2</th>\n",
       "                        <td id=\"T_1e726_row63_col0\" class=\"data row63 col0\" >8</td>\n",
       "                        <td id=\"T_1e726_row63_col1\" class=\"data row63 col1\" >0.0200</td>\n",
       "            </tr>\n",
       "    </tbody></table>"
      ],
      "text/plain": [
       "<pandas.io.formats.style.Styler at 0x2198d6acc10>"
      ]
     },
     "metadata": {},
     "output_type": "display_data"
    },
    {
     "name": "stderr",
     "output_type": "stream",
     "text": [
      "3:52: E127 50\n"
     ]
    }
   ],
   "source": [
    "# Valeurs manquantes du dataframe\n",
    "df_nan_applitest = outils_data.get_missing_values(application_test,\n",
    "                                                   True, False, True)"
   ]
  },
  {
   "cell_type": "markdown",
   "id": "34172166",
   "metadata": {},
   "source": [
    "- Parmi les variables importantes repérées lors de l'analyse exploratoire pour départager les non-défaillants des défaillants, la variable FLOORSMIN_AVG est celle qui a le plus de valeurs manquantes (66.61%).\n",
    "- On fixera le seuil de suppression des variables ayant de nombreuses valeurs manquantes à 67%."
   ]
  },
  {
   "cell_type": "code",
   "execution_count": 110,
   "id": "7ced85fe",
   "metadata": {
    "run_control": {
     "marked": false
    }
   },
   "outputs": [
    {
     "name": "stdout",
     "output_type": "stream",
     "text": [
      "Nombre de variables à supprimer : 10\n"
     ]
    },
    {
     "data": {
      "text/plain": [
       "['COMMONAREA_AVG',\n",
       " 'LIVINGAPARTMENTS_AVG',\n",
       " 'NONLIVINGAPARTMENTS_AVG',\n",
       " 'COMMONAREA_MODE',\n",
       " 'LIVINGAPARTMENTS_MODE',\n",
       " 'NONLIVINGAPARTMENTS_MODE',\n",
       " 'COMMONAREA_MEDI',\n",
       " 'LIVINGAPARTMENTS_MEDI',\n",
       " 'NONLIVINGAPARTMENTS_MEDI',\n",
       " 'FONDKAPREMONT_MODE']"
      ]
     },
     "execution_count": 110,
     "metadata": {},
     "output_type": "execute_result"
    }
   ],
   "source": [
    "# Liste des variables ayant plus de 68% de valeurs manquantes\n",
    "cols_nan_a_suppr_test = \\\n",
    "    df_nan_applitest[df_nan_applitest['% de valeurs manquantes'] > 67] \\\n",
    "    .index.to_list()\n",
    "print(f'Nombre de variables à supprimer : {len(cols_nan_a_suppr_test)}')\n",
    "cols_nan_a_suppr_test"
   ]
  },
  {
   "cell_type": "markdown",
   "id": "2a4d8f41",
   "metadata": {},
   "source": [
    "**Bilan** :\n",
    "***\n",
    "Les variables à supprimer sont identiques à celles de application_train, ce qui est mieux puisque les jeux d'entraînement et de test doivent contenir les mêmes variables."
   ]
  },
  {
   "cell_type": "code",
   "execution_count": 111,
   "id": "053ffdfd",
   "metadata": {
    "run_control": {
     "marked": false
    }
   },
   "outputs": [
    {
     "name": "stdout",
     "output_type": "stream",
     "text": [
      "Le jeu de données contient 48744 lignes et 111 variables.\n"
     ]
    }
   ],
   "source": [
    "# Suppression des variables avec un seuil de nan > 67%\n",
    "application_test.drop(columns=cols_nan_a_suppr_test, inplace=True)\n",
    "# Variables catégorielles\n",
    "cols_cat_test = application_test.select_dtypes(exclude=[np.number]).columns \\\n",
    "    .to_list()\n",
    "# Variables quantitatives\n",
    "cols_num_test = application_test.select_dtypes(include=[np.number]).columns \\\n",
    "    .to_list()\n",
    "# Taille : nombre de lignes/colonnes\n",
    "nRow, nVar = application_test.shape\n",
    "print(f'Le jeu de données contient {nRow} lignes et {nVar} variables.')"
   ]
  },
  {
   "cell_type": "markdown",
   "id": "880ebfce",
   "metadata": {},
   "source": [
    "#### <span style='background:Moccasin'>3.2.4. Imputation</span>"
   ]
  },
  {
   "cell_type": "markdown",
   "id": "8ef0fa6e",
   "metadata": {},
   "source": [
    "**Variables quantitatives**"
   ]
  },
  {
   "cell_type": "markdown",
   "id": "d8728c0a",
   "metadata": {},
   "source": [
    "- Lors de l'analyse exploratoire, nous avons pu observer que les valeurs non renseignées peuvent donner des indications. Le demandeur a pu ne pas donner le renseignement pour éviter d'avoir un refus à sa demande.\n",
    "- Nous **imputerons** donc les valeurs manquantes des **variables quantitatives** par la valeur **médiane** de chacune de ces variables puisque nous avons découvert lors de l'analyse exploratoire qu'il y avait de nombreux outliers."
   ]
  },
  {
   "cell_type": "code",
   "execution_count": 112,
   "id": "6ac7d84e",
   "metadata": {
    "run_control": {
     "marked": false
    }
   },
   "outputs": [],
   "source": [
    "# Variables quantitatives - imputation par 0\n",
    "appli_test_imp1 = application_test.copy()\n",
    "# Variables quantitatives - imputation en utilisant NaNImputer de Verstack\n",
    "appli_test_imp2 = application_test.copy()"
   ]
  },
  {
   "cell_type": "markdown",
   "id": "b1cabb99",
   "metadata": {},
   "source": [
    "**Imputation par median** "
   ]
  },
  {
   "cell_type": "code",
   "execution_count": 113,
   "id": "51c38df7",
   "metadata": {
    "run_control": {
     "marked": false
    }
   },
   "outputs": [
    {
     "name": "stdout",
     "output_type": "stream",
     "text": [
      "Nombre de nan avant imputation par median : 995793\n",
      "Nombre de nan après imputation par median : 0\n"
     ]
    }
   ],
   "source": [
    "# Variables quantitatives - imputation par médiane\n",
    "nb_nan_median_test = application_test[cols_num_test].isna().sum().sum()\n",
    "print(f'Nombre de nan avant imputation par median : {nb_nan_median_test}')\n",
    "application_test.fillna(application_test[cols_num_test].median(), inplace=True)\n",
    "# Vérification\n",
    "nb_nan_median_test = application_test[cols_num_test].isna().sum().sum()\n",
    "print(f'Nombre de nan après imputation par median : {nb_nan_median_test}')"
   ]
  },
  {
   "cell_type": "markdown",
   "id": "1956b24a",
   "metadata": {},
   "source": [
    "**Imputation par une constante 0** "
   ]
  },
  {
   "cell_type": "code",
   "execution_count": 115,
   "id": "0feaed86",
   "metadata": {
    "run_control": {
     "marked": false
    }
   },
   "outputs": [
    {
     "name": "stdout",
     "output_type": "stream",
     "text": [
      "Nombre de nan avant imputation par 0 : 995793\n",
      "Nombre de nan après imputation par 0 : 0\n"
     ]
    }
   ],
   "source": [
    "# Variables quantitatives - imputation par 0\n",
    "nb_nan_zero_test = appli_test_imp1[cols_num_test].isna().sum().sum()\n",
    "print(f'Nombre de nan avant imputation par 0 : {nb_nan_zero_test}')\n",
    "appli_test_imp1[cols_num_test] = appli_test_imp1[cols_num_test].fillna(0)\n",
    "# Vérification\n",
    "nb_nan_zero_test = appli_test_imp1[cols_num_test].isna().sum().sum()\n",
    "print(f'Nombre de nan après imputation par 0 : {nb_nan_zero_test}')"
   ]
  },
  {
   "cell_type": "markdown",
   "id": "d8341c35",
   "metadata": {},
   "source": [
    "**Imputation avec NaNIMputer (Verstack)**"
   ]
  },
  {
   "cell_type": "markdown",
   "id": "c90179d9",
   "metadata": {},
   "source": [
    "*Note*: [Source](https://medium.com/swlh/impute-missing-values-the-right-way-c63735fccccd)"
   ]
  },
  {
   "cell_type": "code",
   "execution_count": 116,
   "id": "249f98fa",
   "metadata": {},
   "outputs": [],
   "source": [
    "# Variables quantitatives - imputation en utilisant NaNImputer de Verstack\n",
    "nb_nan_nanimput_test = appli_test_imp2[cols_num_test].isna().sum().sum()"
   ]
  },
  {
   "cell_type": "code",
   "execution_count": 118,
   "id": "9a97baa5",
   "metadata": {},
   "outputs": [],
   "source": [
    "# Copie du jeu de données\n",
    "df_nan_test = appli_test_imp2.copy()\n",
    "X_nan_test = df_nan_test[cols_num_test]"
   ]
  },
  {
   "cell_type": "code",
   "execution_count": 119,
   "id": "8cada763",
   "metadata": {},
   "outputs": [
    {
     "name": "stdout",
     "output_type": "stream",
     "text": [
      "\n",
      "Dataset dimensions:\n",
      " - rows:         48744\n",
      " - columns:      97\n",
      " - mb in memory: 8.04\n",
      " - NaN cols num: 50\n",
      "--------------------------\n",
      "\n",
      "Deploy multiprocessing with 12 parallel proceses\n",
      "\n",
      "\n",
      "NaNs imputation time: 1.51 minutes\n",
      "--------------------------------------------------\n"
     ]
    }
   ],
   "source": [
    "# !pip install verstack pour l'installation\n",
    "imputer = NaNImputer()\n",
    "X_nan_imputed_test = imputer.impute(X_nan_test)"
   ]
  },
  {
   "cell_type": "code",
   "execution_count": 123,
   "id": "d3d57fed",
   "metadata": {
    "run_control": {
     "marked": false
    }
   },
   "outputs": [
    {
     "name": "stdout",
     "output_type": "stream",
     "text": [
      "Nombre de nan après imputation par NaNImputer : 995793\n",
      "Nombre de nan après imputation par NaNImputer : 0\n"
     ]
    }
   ],
   "source": [
    "var = 'Nombre de nan après imputation par NaNImputer'\n",
    "print(f'{var} : {nb_nan_nanimput_test}')\n",
    "df_tmp_nan_test = pd.DataFrame(X_nan_imputed_test,\n",
    "                               columns=X_nan_test.columns)\n",
    "appli_test_imp2[cols_num_test] = df_tmp_nan_test[cols_num_test]\n",
    "# Variables quantitatives - imputation en utilisant NaNImputer de Verstack\n",
    "nb_nan_nanimput_test = appli_test_imp2[cols_num_test].isna().sum().sum()\n",
    "print(f'{var} : {nb_nan_nanimput_test}')"
   ]
  },
  {
   "cell_type": "code",
   "execution_count": 124,
   "id": "1b087758",
   "metadata": {
    "run_control": {
     "marked": false
    }
   },
   "outputs": [],
   "source": [
    "fic_sav_appl2_test = '../sauvegarde/pre-processing/appli_test_imp2.pickle'"
   ]
  },
  {
   "cell_type": "code",
   "execution_count": 125,
   "id": "ce2ea8cd",
   "metadata": {
    "run_control": {
     "marked": false
    }
   },
   "outputs": [],
   "source": [
    "# Sauvegarde de appli_train_imp2\n",
    "with open(fic_sav_appl2_test, 'wb') as f:\n",
    "    pickle.dump(appli_test_imp2, f, pickle.HIGHEST_PROTOCOL)"
   ]
  },
  {
   "cell_type": "code",
   "execution_count": null,
   "id": "1265eb73",
   "metadata": {
    "run_control": {
     "marked": false
    }
   },
   "outputs": [],
   "source": [
    "# Chargement de appli_train_imp2\n",
    "with open(fic_sav_appl2_test, 'rb') as df_appli_test_2:\n",
    "    appli_test_imp2 = pickle.load(df_appli_train_2)\n",
    "appli_train_imp2.shape"
   ]
  },
  {
   "cell_type": "markdown",
   "id": "b27e236b",
   "metadata": {},
   "source": [
    "**Variable qualitatives**"
   ]
  },
  {
   "cell_type": "markdown",
   "id": "a3fd08ac",
   "metadata": {},
   "source": [
    "- Lors de l'analyse exploratoire, nous avons pu observer que les valeurs non renseignées peuvent donner des indications. Le demandeur a pu ne pas donner le renseignement pour éviter d'avoir un refus à sa demande.\n",
    "- Nous imputerons donc les valeurs manquantes des variables qualitatives par la valeur mode de chacune de ces variables."
   ]
  },
  {
   "cell_type": "code",
   "execution_count": 126,
   "id": "48a6bcb6",
   "metadata": {},
   "outputs": [],
   "source": [
    "# TODO :\n",
    "# Imputation :  toutes les variables par XNA? par mode?\n",
    "# Est-ce que je fais plusieurs tests?"
   ]
  },
  {
   "cell_type": "markdown",
   "id": "b48a8bcf",
   "metadata": {},
   "source": [
    "**Imputation par le mode de la catégorie**"
   ]
  },
  {
   "cell_type": "code",
   "execution_count": 127,
   "id": "2666be78",
   "metadata": {
    "run_control": {
     "marked": false
    }
   },
   "outputs": [
    {
     "name": "stdout",
     "output_type": "stream",
     "text": [
      "Nombre de nan avant imputation par mode : 64028\n",
      "Nombre de nan après imputation par mode : 0\n"
     ]
    }
   ],
   "source": [
    "# Variables qualitatives - imputation par mode de la variable\n",
    "nb_nan_cat_test = application_test[cols_cat_test].isna().sum().sum()\n",
    "print(f'Nombre de nan avant imputation par mode : {nb_nan_cat_test}')\n",
    "for var in cols_cat_test:\n",
    "    mode = application_test[var].mode()[0]\n",
    "    application_test[var].fillna(mode, inplace=True)\n",
    "nb_nan_cat_test = application_test[cols_cat_test].isna().sum().sum()\n",
    "print(f'Nombre de nan après imputation par mode : {nb_nan_cat_test}')"
   ]
  },
  {
   "cell_type": "markdown",
   "id": "74677b92",
   "metadata": {},
   "source": [
    "**Imputation par une constante XNA**"
   ]
  },
  {
   "cell_type": "code",
   "execution_count": 129,
   "id": "127f9fb8",
   "metadata": {},
   "outputs": [
    {
     "data": {
      "text/plain": [
       "['NAME_CONTRACT_TYPE',\n",
       " 'CODE_GENDER',\n",
       " 'NAME_TYPE_SUITE',\n",
       " 'NAME_INCOME_TYPE',\n",
       " 'NAME_EDUCATION_TYPE',\n",
       " 'NAME_FAMILY_STATUS',\n",
       " 'NAME_HOUSING_TYPE',\n",
       " 'OCCUPATION_TYPE',\n",
       " 'REGION_RATING_CLIENT',\n",
       " 'REGION_RATING_CLIENT_W_CITY',\n",
       " 'WEEKDAY_APPR_PROCESS_START',\n",
       " 'ORGANIZATION_TYPE',\n",
       " 'HOUSETYPE_MODE',\n",
       " 'WALLSMATERIAL_MODE']"
      ]
     },
     "execution_count": 129,
     "metadata": {},
     "output_type": "execute_result"
    }
   ],
   "source": [
    "cols_cat_test"
   ]
  },
  {
   "cell_type": "code",
   "execution_count": 133,
   "id": "eafa8fc6",
   "metadata": {
    "run_control": {
     "marked": false
    }
   },
   "outputs": [
    {
     "name": "stdout",
     "output_type": "stream",
     "text": [
      "Nombre de nan avant imputation par XNA : 64028\n",
      "Nombre de nan après imputation par XNA : 0\n"
     ]
    }
   ],
   "source": [
    "# Variables quantitatives - imputation par XNA\n",
    "%pycodestyle_off\n",
    "nb_nan_xna_test = appli_test_imp1[cols_cat_test].isna().sum().sum()\n",
    "print(f'Nombre de nan avant imputation par XNA : {nb_nan_xna_test}')\n",
    "for var in cols_cat_test :\n",
    "    appli_test_imp1[var] = appli_test_imp1[var].fillna('XNA')\n",
    "# Vérification\n",
    "nb_nan_xna_test = appli_test_imp1[cols_cat_test].isna().sum().sum()\n",
    "print(f'Nombre de nan après imputation par XNA : {nb_nan_xna_test}')\n",
    "%pycodestyle_on"
   ]
  },
  {
   "cell_type": "code",
   "execution_count": 137,
   "id": "36d126ee",
   "metadata": {
    "run_control": {
     "marked": false
    }
   },
   "outputs": [
    {
     "name": "stdout",
     "output_type": "stream",
     "text": [
      "Nombre de nan avant imputation par median : 64028\n",
      "Nombre de nan avant imputation par median : 0\n"
     ]
    }
   ],
   "source": [
    "# Variables quantitatives - imputation par XNA\n",
    "%pycodestyle_off\n",
    "nb_nan_xna2_test = appli_test_imp2[cols_cat_test].isna().sum().sum()\n",
    "print(f'Nombre de nan avant imputation par median : {nb_nan_xna2_test}')\n",
    "for var in cols_cat_test :\n",
    "    appli_test_imp2[var] = appli_test_imp2[var].fillna('XNA')\n",
    "# Vérification\n",
    "nb_nan_xna2_test = appli_test_imp2[cols_cat_test].isna().sum().sum()\n",
    "print(f'Nombre de nan avant imputation par median : {nb_nan_xna2_test}')\n",
    "%pycodestyle_on"
   ]
  },
  {
   "cell_type": "markdown",
   "id": "e16c272c",
   "metadata": {},
   "source": [
    "**Bilan**:\n",
    "- application_test : \n",
    "    - variables quantitatives imputées par median.\n",
    "    - variables qualitatives imputées par mode.\n",
    "- appli_test_imp1 :\n",
    "    - variables quantitatives imputées par la constante 0.\n",
    "    - variables qualitatives imputées par la constante XNA.\n",
    "- appli_test_imp2 :\n",
    "    - variables quantitatives imputées par NaNImputer.\n",
    "    - variables qualitatives imputées par la constante XNA."
   ]
  },
  {
   "cell_type": "code",
   "execution_count": 138,
   "id": "c2a81390",
   "metadata": {
    "run_control": {
     "marked": false
    }
   },
   "outputs": [
    {
     "name": "stdout",
     "output_type": "stream",
     "text": [
      "Nombre nan application_test : 0\n",
      "Nombre nan appli_test_imp1 : 0\n",
      "Nombre nan appli_test_imp2 : 0\n"
     ]
    }
   ],
   "source": [
    "# Vérification : plus de nan\n",
    "# Valeurs manquantes du dataframe application_test\n",
    "print(f'Nombre nan application_test : {application_test.isna().sum().sum()}')\n",
    "# Sauvegarde de application_test\n",
    "fic_sav_appltest_sansnan = \\\n",
    "    '../sauvegarde/pre-processing/application_test_sans_nan.pickle'\n",
    "with open(fic_sav_appltest_sansnan, 'wb') as f:\n",
    "    pickle.dump(application_test, f, pickle.HIGHEST_PROTOCOL)\n",
    "# Valeurs manquantes du dataframe appli_test_imp1\n",
    "print(f'Nombre nan appli_test_imp1 : {appli_test_imp1.isna().sum().sum()}')\n",
    "# Sauvegarde de appli_test_imp1\n",
    "fic_sav_appltestimp1_sansnan = \\\n",
    "    '../sauvegarde/pre-processing/appli_test_imp1_sans_nan.pickle'\n",
    "with open(fic_sav_appltestimp1_sansnan, 'wb') as f:\n",
    "    pickle.dump(appli_test_imp1, f, pickle.HIGHEST_PROTOCOL)\n",
    "# Valeurs manquantes du dataframe appli_test_imp2\n",
    "print(f'Nombre nan appli_test_imp2 : {appli_test_imp2.isna().sum().sum()}')\n",
    "# Sauvegarde de appli_test_imp2\n",
    "fic_sav_appltestimp2_sansnan = \\\n",
    "    '../sauvegarde/pre-processing/appli_test_imp2_sans_nan.pickle'\n",
    "with open(fic_sav_appltestimp2_sansnan, 'wb') as f:\n",
    "    pickle.dump(appli_test_imp2, f, pickle.HIGHEST_PROTOCOL)"
   ]
  },
  {
   "cell_type": "markdown",
   "id": "c9a905c0",
   "metadata": {},
   "source": [
    "#### <span style='background:Moccasin'>3.2.5. Feature engineering</span>"
   ]
  },
  {
   "cell_type": "markdown",
   "id": "f9ac7d41",
   "metadata": {},
   "source": [
    "**Variables métiers & automatiques (mean, max...)**"
   ]
  },
  {
   "cell_type": "code",
   "execution_count": 139,
   "id": "dcfa8621",
   "metadata": {
    "run_control": {
     "marked": false
    }
   },
   "outputs": [
    {
     "data": {
      "text/plain": [
       "(48744, 169)"
      ]
     },
     "execution_count": 139,
     "metadata": {},
     "output_type": "execute_result"
    }
   ],
   "source": [
    "# Feature engineering pour le dataframe application_test\n",
    "application_test = \\\n",
    "    outils_preprocessing.feature_engineering_application(application_test)\n",
    "application_test.shape"
   ]
  },
  {
   "cell_type": "code",
   "execution_count": 140,
   "id": "d525e760",
   "metadata": {
    "run_control": {
     "marked": false
    }
   },
   "outputs": [
    {
     "data": {
      "text/plain": [
       "(48744, 169)"
      ]
     },
     "execution_count": 140,
     "metadata": {},
     "output_type": "execute_result"
    }
   ],
   "source": [
    "# Feature engineering pour le dataframe appli_test_imp1\n",
    "appli_test_imp1 = \\\n",
    "    outils_preprocessing.feature_engineering_application(appli_test_imp1)\n",
    "appli_test_imp1.shape"
   ]
  },
  {
   "cell_type": "code",
   "execution_count": 141,
   "id": "1f3d26f5",
   "metadata": {
    "run_control": {
     "marked": false
    }
   },
   "outputs": [
    {
     "data": {
      "text/plain": [
       "(48744, 169)"
      ]
     },
     "execution_count": 141,
     "metadata": {},
     "output_type": "execute_result"
    }
   ],
   "source": [
    "# Feature engineering pour le dataframe appli_test_imp2\n",
    "appli_test_imp2 = \\\n",
    "    outils_preprocessing.feature_engineering_application(appli_test_imp2)\n",
    "appli_test_imp2.shape"
   ]
  },
  {
   "cell_type": "markdown",
   "id": "3001d8b2",
   "metadata": {},
   "source": [
    "**Super variable du gagnant du concours Kaggle**"
   ]
  },
  {
   "cell_type": "code",
   "execution_count": 142,
   "id": "1d2ab577",
   "metadata": {},
   "outputs": [],
   "source": [
    "# TODO : voir si on utilise car d'après soutenance pas explicable?"
   ]
  },
  {
   "cell_type": "markdown",
   "id": "f82e83fd",
   "metadata": {},
   "source": [
    "- Imputation de la moyenne des 500 valeurs cibles des voisins les plus proches pour chaque application du train set ou test set.\n",
    "- Les voisins sont calculés en utilisant :\n",
    "    - les variables très importantes :\n",
    "        - EXT_SOURCE-1, \n",
    "        - EXT_SOURCE_2 \n",
    "        - et EXT_SOURCE_3,\n",
    "    - et CREDIT_ANNUITY_RATIO (ratio du Montant du crédit du prêt / Annuité de prêt).\n",
    "[Source](https://www.kaggle.com/c/home-credit-default-risk/discussion/64821)    "
   ]
  },
  {
   "cell_type": "code",
   "execution_count": 145,
   "id": "6f8bed61",
   "metadata": {
    "run_control": {
     "marked": false
    }
   },
   "outputs": [
    {
     "data": {
      "text/plain": [
       "(48744, 170)"
      ]
     },
     "execution_count": 145,
     "metadata": {},
     "output_type": "execute_result"
    }
   ],
   "source": [
    "# Feature engineering super variable pour le dataframe application_test\n",
    "outils_preprocessing. \\\n",
    "    feature_engineering_neighbors_EXT_SOURCE_test(application_train,\n",
    "                                                  application_test)\n",
    "application_test.shape"
   ]
  },
  {
   "cell_type": "code",
   "execution_count": 146,
   "id": "5c4360b5",
   "metadata": {
    "run_control": {
     "marked": false
    }
   },
   "outputs": [
    {
     "data": {
      "text/plain": [
       "(48744, 170)"
      ]
     },
     "execution_count": 146,
     "metadata": {},
     "output_type": "execute_result"
    }
   ],
   "source": [
    "# Feature engineering super variable pour le dataframe appli_test_imp1\n",
    "outils_preprocessing. \\\n",
    "    feature_engineering_neighbors_EXT_SOURCE_test(appli_train_imp1,\n",
    "                                                  appli_test_imp1)\n",
    "appli_test_imp1.shape"
   ]
  },
  {
   "cell_type": "code",
   "execution_count": 148,
   "id": "eee2be66",
   "metadata": {
    "run_control": {
     "marked": false
    }
   },
   "outputs": [
    {
     "data": {
      "text/plain": [
       "(48744, 170)"
      ]
     },
     "execution_count": 148,
     "metadata": {},
     "output_type": "execute_result"
    }
   ],
   "source": [
    "# Feature engineering super variable pour le dataframe appli_test_imp2\n",
    "outils_preprocessing. \\\n",
    "    feature_engineering_neighbors_EXT_SOURCE_test(appli_train_imp2,\n",
    "                                                  appli_test_imp2)\n",
    "appli_test_imp2.shape"
   ]
  },
  {
   "cell_type": "markdown",
   "id": "7e1d4f14",
   "metadata": {},
   "source": [
    "#### <span style='background:Moccasin'>3.2.6. Encodage des variables qualitatives</span>"
   ]
  },
  {
   "cell_type": "code",
   "execution_count": 149,
   "id": "34314e64",
   "metadata": {},
   "outputs": [
    {
     "data": {
      "text/plain": [
       "['NAME_CONTRACT_TYPE',\n",
       " 'CODE_GENDER',\n",
       " 'NAME_TYPE_SUITE',\n",
       " 'NAME_INCOME_TYPE',\n",
       " 'NAME_EDUCATION_TYPE',\n",
       " 'NAME_FAMILY_STATUS',\n",
       " 'NAME_HOUSING_TYPE',\n",
       " 'OCCUPATION_TYPE',\n",
       " 'REGION_RATING_CLIENT',\n",
       " 'REGION_RATING_CLIENT_W_CITY',\n",
       " 'WEEKDAY_APPR_PROCESS_START',\n",
       " 'ORGANIZATION_TYPE',\n",
       " 'HOUSETYPE_MODE',\n",
       " 'WALLSMATERIAL_MODE']"
      ]
     },
     "execution_count": 149,
     "metadata": {},
     "output_type": "execute_result"
    }
   ],
   "source": [
    "# Liste des variables catégorielles\n",
    "cols_cat_test"
   ]
  },
  {
   "cell_type": "code",
   "execution_count": 150,
   "id": "71fa1aa3",
   "metadata": {
    "run_control": {
     "marked": false
    }
   },
   "outputs": [
    {
     "data": {
      "text/html": [
       "<div>\n",
       "<style scoped>\n",
       "    .dataframe tbody tr th:only-of-type {\n",
       "        vertical-align: middle;\n",
       "    }\n",
       "\n",
       "    .dataframe tbody tr th {\n",
       "        vertical-align: top;\n",
       "    }\n",
       "\n",
       "    .dataframe thead th {\n",
       "        text-align: right;\n",
       "    }\n",
       "</style>\n",
       "<table border=\"1\" class=\"dataframe\">\n",
       "  <thead>\n",
       "    <tr style=\"text-align: right;\">\n",
       "      <th></th>\n",
       "      <th>NAME_CONTRACT_TYPE</th>\n",
       "      <th>CODE_GENDER</th>\n",
       "      <th>NAME_TYPE_SUITE</th>\n",
       "      <th>NAME_INCOME_TYPE</th>\n",
       "      <th>NAME_EDUCATION_TYPE</th>\n",
       "      <th>NAME_FAMILY_STATUS</th>\n",
       "      <th>NAME_HOUSING_TYPE</th>\n",
       "      <th>OCCUPATION_TYPE</th>\n",
       "      <th>WEEKDAY_APPR_PROCESS_START</th>\n",
       "      <th>ORGANIZATION_TYPE</th>\n",
       "      <th>HOUSETYPE_MODE</th>\n",
       "      <th>WALLSMATERIAL_MODE</th>\n",
       "    </tr>\n",
       "  </thead>\n",
       "  <tbody>\n",
       "    <tr>\n",
       "      <th>type</th>\n",
       "      <td>object</td>\n",
       "      <td>object</td>\n",
       "      <td>object</td>\n",
       "      <td>object</td>\n",
       "      <td>object</td>\n",
       "      <td>object</td>\n",
       "      <td>object</td>\n",
       "      <td>object</td>\n",
       "      <td>object</td>\n",
       "      <td>object</td>\n",
       "      <td>object</td>\n",
       "      <td>object</td>\n",
       "    </tr>\n",
       "    <tr>\n",
       "      <th>nb_nan</th>\n",
       "      <td>0.0</td>\n",
       "      <td>0.0</td>\n",
       "      <td>0.0</td>\n",
       "      <td>0.0</td>\n",
       "      <td>0.0</td>\n",
       "      <td>0.0</td>\n",
       "      <td>0.0</td>\n",
       "      <td>0.0</td>\n",
       "      <td>0.0</td>\n",
       "      <td>0.0</td>\n",
       "      <td>0.0</td>\n",
       "      <td>0.0</td>\n",
       "    </tr>\n",
       "    <tr>\n",
       "      <th>%_nan</th>\n",
       "      <td>0.0</td>\n",
       "      <td>0.0</td>\n",
       "      <td>0.0</td>\n",
       "      <td>0.0</td>\n",
       "      <td>0.0</td>\n",
       "      <td>0.0</td>\n",
       "      <td>0.0</td>\n",
       "      <td>0.0</td>\n",
       "      <td>0.0</td>\n",
       "      <td>0.0</td>\n",
       "      <td>0.0</td>\n",
       "      <td>0.0</td>\n",
       "    </tr>\n",
       "    <tr>\n",
       "      <th>count</th>\n",
       "      <td>48744</td>\n",
       "      <td>48744</td>\n",
       "      <td>48744</td>\n",
       "      <td>48744</td>\n",
       "      <td>48744</td>\n",
       "      <td>48744</td>\n",
       "      <td>48744</td>\n",
       "      <td>48744</td>\n",
       "      <td>48744</td>\n",
       "      <td>48744</td>\n",
       "      <td>48744</td>\n",
       "      <td>48744</td>\n",
       "    </tr>\n",
       "    <tr>\n",
       "      <th>unique</th>\n",
       "      <td>2</td>\n",
       "      <td>2</td>\n",
       "      <td>7</td>\n",
       "      <td>7</td>\n",
       "      <td>5</td>\n",
       "      <td>5</td>\n",
       "      <td>6</td>\n",
       "      <td>18</td>\n",
       "      <td>7</td>\n",
       "      <td>58</td>\n",
       "      <td>3</td>\n",
       "      <td>7</td>\n",
       "    </tr>\n",
       "    <tr>\n",
       "      <th>top</th>\n",
       "      <td>Cash loans</td>\n",
       "      <td>F</td>\n",
       "      <td>Unaccompanied</td>\n",
       "      <td>Working</td>\n",
       "      <td>Secondary / secondary special</td>\n",
       "      <td>Married</td>\n",
       "      <td>House / apartment</td>\n",
       "      <td>Laborers</td>\n",
       "      <td>TUESDAY</td>\n",
       "      <td>Business Entity Type 3</td>\n",
       "      <td>block of flats</td>\n",
       "      <td>Panel</td>\n",
       "    </tr>\n",
       "    <tr>\n",
       "      <th>freq</th>\n",
       "      <td>48305</td>\n",
       "      <td>32678</td>\n",
       "      <td>40638</td>\n",
       "      <td>24533</td>\n",
       "      <td>33988</td>\n",
       "      <td>32283</td>\n",
       "      <td>43645</td>\n",
       "      <td>24260</td>\n",
       "      <td>9751</td>\n",
       "      <td>10840</td>\n",
       "      <td>48278</td>\n",
       "      <td>35162</td>\n",
       "    </tr>\n",
       "  </tbody>\n",
       "</table>\n",
       "</div>"
      ],
      "text/plain": [
       "       NAME_CONTRACT_TYPE CODE_GENDER NAME_TYPE_SUITE NAME_INCOME_TYPE            NAME_EDUCATION_TYPE NAME_FAMILY_STATUS  NAME_HOUSING_TYPE OCCUPATION_TYPE WEEKDAY_APPR_PROCESS_START       ORGANIZATION_TYPE  HOUSETYPE_MODE WALLSMATERIAL_MODE\n",
       "type               object      object          object           object                         object             object             object          object                     object                  object          object             object\n",
       "nb_nan                0.0         0.0             0.0              0.0                            0.0                0.0                0.0             0.0                        0.0                     0.0             0.0                0.0\n",
       "%_nan                 0.0         0.0             0.0              0.0                            0.0                0.0                0.0             0.0                        0.0                     0.0             0.0                0.0\n",
       "count               48744       48744           48744            48744                          48744              48744              48744           48744                      48744                   48744           48744              48744\n",
       "unique                  2           2               7                7                              5                  5                  6              18                          7                      58               3                  7\n",
       "top            Cash loans           F   Unaccompanied          Working  Secondary / secondary special            Married  House / apartment        Laborers                    TUESDAY  Business Entity Type 3  block of flats              Panel\n",
       "freq                48305       32678           40638            24533                          33988              32283              43645           24260                       9751                   10840           48278              35162"
      ]
     },
     "execution_count": 150,
     "metadata": {},
     "output_type": "execute_result"
    }
   ],
   "source": [
    "# Résumé des variables qualitatives\n",
    "desc_cat_test = outils_data.description_variables(application_test, 'cat')\n",
    "desc_cat_test"
   ]
  },
  {
   "cell_type": "code",
   "execution_count": 151,
   "id": "ceea6200",
   "metadata": {
    "run_control": {
     "marked": false
    }
   },
   "outputs": [
    {
     "data": {
      "text/plain": [
       "['NAME_CONTRACT_TYPE', 'CODE_GENDER']"
      ]
     },
     "execution_count": 151,
     "metadata": {},
     "output_type": "execute_result"
    }
   ],
   "source": [
    "# Variables avec 2 catégories uniques\n",
    "%pycodestyle_off\n",
    "df_tmp_test = pd.DataFrame(desc_cat_test.loc['unique', :] <= 2)\n",
    "liste_2cat_test = df_tmp_test[df_tmp_test['unique'] == True].index.to_list()\n",
    "%pycodestyle_on\n",
    "liste_2cat_test"
   ]
  },
  {
   "cell_type": "code",
   "execution_count": 152,
   "id": "0ee4b6c8",
   "metadata": {},
   "outputs": [
    {
     "data": {
      "text/plain": [
       "['OCCUPATION_TYPE', 'ORGANIZATION_TYPE']"
      ]
     },
     "execution_count": 152,
     "metadata": {},
     "output_type": "execute_result"
    }
   ],
   "source": [
    "# Variables avec plus de 15 catégories uniques\n",
    "%pycodestyle_off\n",
    "df_tmp2_test = pd.DataFrame(desc_cat_test.loc['unique', :] > 15)\n",
    "liste_catsup15_test = df_tmp2_test[df_tmp2_test['unique'] == True].index.to_list()\n",
    "%pycodestyle_on\n",
    "liste_catsup15_test"
   ]
  },
  {
   "cell_type": "markdown",
   "id": "283798f3",
   "metadata": {},
   "source": [
    "**Bilan** :\n",
    "***\n",
    "Même constat que pour le dataframe application_train :\n",
    "- 2 variables ne contiennent que 2 catégories, on encodera ces varaibles avec LabelEncoder :\n",
    "    - 'NAME_CONTRACT_TYPE',\n",
    "    - et 'CODE_GENDER'.\n",
    "- 2 variables avec plus de 15 catégories, on tentera d'encoder avec OneHotEncoder dans un premier temps et si on a des problèmes mémoires avec TargetEncoder :\n",
    "    - 'OCCUPATION_TYPE', \n",
    "    - et 'ORGANIZATION_TYPE'."
   ]
  },
  {
   "cell_type": "markdown",
   "id": "5ea7cba6",
   "metadata": {},
   "source": [
    "**LabelEncoder**"
   ]
  },
  {
   "cell_type": "markdown",
   "id": "e70d9258",
   "metadata": {},
   "source": [
    "Les 2 variables qualitatives avec seulement 2 types de catégories seront imputées avec LabelEncoder."
   ]
  },
  {
   "cell_type": "code",
   "execution_count": 153,
   "id": "f86c6027",
   "metadata": {
    "run_control": {
     "marked": false
    }
   },
   "outputs": [],
   "source": [
    "%pycodestyle_off\n",
    "le = LabelEncoder()\n",
    "for var in liste_2cat_test:\n",
    "    # Dataframe application_test\n",
    "    le.fit(application_test[var])\n",
    "    application_test[var] = le.transform(application_test[var])\n",
    "    # Dataframe appli_test_imp1\n",
    "    le.fit(appli_test_imp1[var])\n",
    "    appli_test_imp1[var] = le.transform(appli_test_imp1[var])\n",
    "    # Dataframe appli_test_imp2\n",
    "    le.fit(appli_test_imp2[var])\n",
    "    appli_test_imp2[var] = le.transform(appli_test_imp2[var])\n",
    "%pycodestyle_on"
   ]
  },
  {
   "cell_type": "markdown",
   "id": "998fa7fb",
   "metadata": {},
   "source": [
    "**Bilan** :\n",
    "- Variable CODE_GENDER :\n",
    "    - 0 : Feminin\n",
    "    - 1 : Masculin\n",
    "- Variable CODE_GENDER :\n",
    "    - 0 : Cash loans\n",
    "    - 1 : Revolving loans "
   ]
  },
  {
   "cell_type": "markdown",
   "id": "1820aebd",
   "metadata": {},
   "source": [
    "**OneHotEncoder**"
   ]
  },
  {
   "cell_type": "markdown",
   "id": "be9c6143",
   "metadata": {},
   "source": [
    "Les variables qualitatives avec plus de 2 catégories seront encodées avec OneHotEncoder."
   ]
  },
  {
   "cell_type": "code",
   "execution_count": 157,
   "id": "f596d58f",
   "metadata": {
    "run_control": {
     "marked": false
    }
   },
   "outputs": [
    {
     "name": "stdout",
     "output_type": "stream",
     "text": [
      "application_test : (48744, 283)\n",
      "appli_test_imp1 : (48744, 287)\n",
      "appli_test_imp2 : (48744, 287)\n"
     ]
    }
   ],
   "source": [
    "# Onehot encoding pour le reste des variables\n",
    "# Dataframe application_test\n",
    "application_test = pd.get_dummies(application_test)\n",
    "print(f'application_test : {application_test.shape}')\n",
    "# Dataframe appli_test_imp1\n",
    "appli_test_imp1 = pd.get_dummies(appli_test_imp1)\n",
    "print(f'appli_test_imp1 : {appli_test_imp1.shape}')\n",
    "# Dataframe appli_test_imp2\n",
    "appli_test_imp2 = pd.get_dummies(appli_test_imp2)\n",
    "print(f'appli_test_imp2 : {appli_test_imp2.shape}')"
   ]
  },
  {
   "cell_type": "code",
   "execution_count": null,
   "id": "7afbb96b",
   "metadata": {},
   "outputs": [],
   "source": [
    "# Variables en plus?\n",
    "list1 = set(application_train.columns.to_list())\n",
    "list2 = set(appli_train_imp1 .columns.to_list())\n",
    "list2 ^ list1"
   ]
  },
  {
   "cell_type": "markdown",
   "id": "e1f70d20",
   "metadata": {},
   "source": [
    "#### <span style='background:Moccasin'>3.2.7. Gestion des fortes corrélations</span>"
   ]
  },
  {
   "cell_type": "markdown",
   "id": "3849c663",
   "metadata": {},
   "source": [
    "Suppression des variables fortement corrélées pour le dataframe application_train."
   ]
  },
  {
   "cell_type": "markdown",
   "id": "1d204c13",
   "metadata": {},
   "source": [
    "**application_test**"
   ]
  },
  {
   "cell_type": "code",
   "execution_count": 158,
   "id": "294ed87e",
   "metadata": {
    "run_control": {
     "marked": false
    }
   },
   "outputs": [
    {
     "name": "stdout",
     "output_type": "stream",
     "text": [
      "-------------------------------------------------------------------------------\n",
      "Memory usage du dataframe: 29.29 MB\n",
      "Memory usage après optimization: 25.85 MB\n",
      "Diminution de 11.7%\n",
      "-------------------------------------------------------------------------------\n"
     ]
    }
   ],
   "source": [
    "# Réduction de la mémoire pour les nouvelles variables\n",
    "application_test =\\\n",
    "    outils_preprocessing.reduce_mem_usage(application_test, verbose=True)"
   ]
  },
  {
   "cell_type": "code",
   "execution_count": 159,
   "id": "8a30a61c",
   "metadata": {},
   "outputs": [
    {
     "name": "stdout",
     "output_type": "stream",
     "text": [
      "-------------------------------------------------------------\n",
      "Type de variable pour chacune des variables\n",
      "\n"
     ]
    },
    {
     "data": {
      "text/plain": [
       "SK_ID_CURR                                             int32\n",
       "NAME_CONTRACT_TYPE                                      int8\n",
       "CODE_GENDER                                             int8\n",
       "FLAG_OWN_CAR                                            int8\n",
       "FLAG_OWN_REALTY                                         int8\n",
       "CNT_CHILDREN                                            int8\n",
       "AMT_INCOME_TOTAL                                     float32\n",
       "AMT_CREDIT                                           float32\n",
       "AMT_ANNUITY                                          float32\n",
       "AMT_GOODS_PRICE                                      float32\n",
       "REGION_POPULATION_RELATIVE                           float16\n",
       "DAYS_BIRTH                                             int16\n",
       "DAYS_EMPLOYED                                        float16\n",
       "DAYS_REGISTRATION                                    float16\n",
       "DAYS_ID_PUBLISH                                        int16\n",
       "OWN_CAR_AGE                                          float16\n",
       "FLAG_MOBIL                                              int8\n",
       "FLAG_EMP_PHONE                                          int8\n",
       "FLAG_WORK_PHONE                                         int8\n",
       "FLAG_CONT_MOBILE                                        int8\n",
       "FLAG_PHONE                                              int8\n",
       "FLAG_EMAIL                                              int8\n",
       "CNT_FAM_MEMBERS                                      float16\n",
       "REGION_RATING_CLIENT                                    int8\n",
       "REGION_RATING_CLIENT_W_CITY                             int8\n",
       "HOUR_APPR_PROCESS_START                                 int8\n",
       "REG_REGION_NOT_LIVE_REGION                              int8\n",
       "REG_REGION_NOT_WORK_REGION                              int8\n",
       "LIVE_REGION_NOT_WORK_REGION                             int8\n",
       "REG_CITY_NOT_LIVE_CITY                                  int8\n",
       "REG_CITY_NOT_WORK_CITY                                  int8\n",
       "LIVE_CITY_NOT_WORK_CITY                                 int8\n",
       "EXT_SOURCE_1                                         float16\n",
       "EXT_SOURCE_2                                         float16\n",
       "EXT_SOURCE_3                                         float16\n",
       "APARTMENTS_AVG                                       float16\n",
       "BASEMENTAREA_AVG                                     float16\n",
       "YEARS_BEGINEXPLUATATION_AVG                          float16\n",
       "YEARS_BUILD_AVG                                      float16\n",
       "ELEVATORS_AVG                                        float16\n",
       "ENTRANCES_AVG                                        float16\n",
       "FLOORSMAX_AVG                                        float16\n",
       "FLOORSMIN_AVG                                        float16\n",
       "LANDAREA_AVG                                         float16\n",
       "LIVINGAREA_AVG                                       float16\n",
       "NONLIVINGAREA_AVG                                    float16\n",
       "APARTMENTS_MODE                                      float16\n",
       "BASEMENTAREA_MODE                                    float16\n",
       "YEARS_BEGINEXPLUATATION_MODE                         float16\n",
       "YEARS_BUILD_MODE                                     float16\n",
       "ELEVATORS_MODE                                       float16\n",
       "ENTRANCES_MODE                                       float16\n",
       "FLOORSMAX_MODE                                       float16\n",
       "FLOORSMIN_MODE                                       float16\n",
       "LANDAREA_MODE                                        float16\n",
       "LIVINGAREA_MODE                                      float16\n",
       "NONLIVINGAREA_MODE                                   float16\n",
       "APARTMENTS_MEDI                                      float16\n",
       "BASEMENTAREA_MEDI                                    float16\n",
       "YEARS_BEGINEXPLUATATION_MEDI                         float16\n",
       "YEARS_BUILD_MEDI                                     float16\n",
       "ELEVATORS_MEDI                                       float16\n",
       "ENTRANCES_MEDI                                       float16\n",
       "FLOORSMAX_MEDI                                       float16\n",
       "FLOORSMIN_MEDI                                       float16\n",
       "LANDAREA_MEDI                                        float16\n",
       "LIVINGAREA_MEDI                                      float16\n",
       "NONLIVINGAREA_MEDI                                   float16\n",
       "TOTALAREA_MODE                                       float16\n",
       "EMERGENCYSTATE_MODE                                     int8\n",
       "OBS_30_CNT_SOCIAL_CIRCLE                             float16\n",
       "DEF_30_CNT_SOCIAL_CIRCLE                             float16\n",
       "OBS_60_CNT_SOCIAL_CIRCLE                             float16\n",
       "DEF_60_CNT_SOCIAL_CIRCLE                             float16\n",
       "DAYS_LAST_PHONE_CHANGE                               float16\n",
       "FLAG_DOCUMENT_2                                         int8\n",
       "FLAG_DOCUMENT_3                                         int8\n",
       "FLAG_DOCUMENT_4                                         int8\n",
       "FLAG_DOCUMENT_5                                         int8\n",
       "FLAG_DOCUMENT_6                                         int8\n",
       "FLAG_DOCUMENT_7                                         int8\n",
       "FLAG_DOCUMENT_8                                         int8\n",
       "FLAG_DOCUMENT_9                                         int8\n",
       "FLAG_DOCUMENT_10                                        int8\n",
       "FLAG_DOCUMENT_11                                        int8\n",
       "FLAG_DOCUMENT_12                                        int8\n",
       "FLAG_DOCUMENT_13                                        int8\n",
       "FLAG_DOCUMENT_14                                        int8\n",
       "FLAG_DOCUMENT_15                                        int8\n",
       "FLAG_DOCUMENT_16                                        int8\n",
       "FLAG_DOCUMENT_17                                        int8\n",
       "FLAG_DOCUMENT_18                                        int8\n",
       "FLAG_DOCUMENT_19                                        int8\n",
       "FLAG_DOCUMENT_20                                        int8\n",
       "FLAG_DOCUMENT_21                                        int8\n",
       "AMT_REQ_CREDIT_BUREAU_HOUR                           float16\n",
       "AMT_REQ_CREDIT_BUREAU_DAY                            float16\n",
       "AMT_REQ_CREDIT_BUREAU_WEEK                           float16\n",
       "AMT_REQ_CREDIT_BUREAU_MON                            float16\n",
       "AMT_REQ_CREDIT_BUREAU_QRT                            float16\n",
       "AMT_REQ_CREDIT_BUREAU_YEAR                           float16\n",
       "CREDIT_INCOME_RATIO                                  float16\n",
       "CREDIT_ANNUITY_RATIO                                 float16\n",
       "ANNUITY_INCOME_RATIO                                 float16\n",
       "INCOME_ANNUITY_DIFF                                  float32\n",
       "CREDIT_GOODS_RATIO                                   float16\n",
       "INCOME_GOODS_DIFF                                    float16\n",
       "INCOME_AGE_RATIO                                     float16\n",
       "CREDIT_AGE_RATIO                                     float16\n",
       "INCOME_EXT_RATIO                                     float32\n",
       "CREDIT_EXT_RATIO                                     float32\n",
       "HOUR_PROCESS_CREDIT_MUL                              float32\n",
       "YEARS_BIRTH                                          float16\n",
       "AGE_EMPLOYED_DIFF                                    float16\n",
       "EMPLOYED_AGE_RATIO                                   float16\n",
       "LAST_PHONE_BIRTH_RATIO                               float16\n",
       "LAST_PHONE_EMPLOYED_RATIO                            float16\n",
       "CAR_EMPLOYED_DIFF                                    float16\n",
       "CAR_EMPLOYED_RATIO                                   float16\n",
       "CAR_AGE_DIFF                                         float16\n",
       "CAR_AGE_RATIO                                        float16\n",
       "FLAG_CONTACTS_SUM                                       int8\n",
       "CNT_NON_CHILDREN                                     float16\n",
       "CHILDREN_INCOME_RATIO                                float16\n",
       "PER_CAPITA_INCOME                                    float32\n",
       "REGIONS_INCOME_MOY                                   float32\n",
       "REGION_RATING_MAX                                       int8\n",
       "REGION_RATING_MEAN                                   float16\n",
       "REGION_RATING_MUL                                       int8\n",
       "FLAG_REGIONS_SUM                                        int8\n",
       "EXT_SOURCE_SUM                                       float16\n",
       "EXT_SOURCE_MEAN                                      float16\n",
       "EXT_SOURCE_MUL                                       float16\n",
       "EXT_SOURCE_MAX                                       float16\n",
       "EXT_SOURCE_MIN                                       float16\n",
       "EXT_SOURCE_VAR                                       float16\n",
       "WEIGHTED_EXT_SOURCE                                  float16\n",
       "APARTMENTS_SUM_AVG                                   float16\n",
       "APARTMENTS_SUM_MODE                                  float16\n",
       "APARTMENTS_SUM_MEDI                                  float16\n",
       "INCOME_APARTMENT_AVG_MUL                             float32\n",
       "INCOME_APARTMENT_MODE_MUL                            float32\n",
       "INCOME_APARTMENT_MEDI_MUL                            float32\n",
       "OBS_30_60_SUM                                        float16\n",
       "DEF_30_60_SUM                                        float16\n",
       "OBS_DEF_30_MUL                                       float16\n",
       "OBS_DEF_60_MUL                                       float16\n",
       "SUM_OBS_DEF_ALL                                      float16\n",
       "OBS_30_CREDIT_RATIO                                  float32\n",
       "OBS_60_CREDIT_RATIO                                  float32\n",
       "DEF_30_CREDIT_RATIO                                  float32\n",
       "DEF_60_CREDIT_RATIO                                  float32\n",
       "FLAGS_DOCUMENTS_SUM                                     int8\n",
       "FLAGS_DOCUMENTS_AVG                                  float16\n",
       "FLAGS_DOCUMENTS_VAR                                  float16\n",
       "FLAGS_DOCUMENTS_STD                                  float16\n",
       "DAYS_DETAILS_CHANGE_SUM                              float16\n",
       "AMT_ENQ_SUM                                          float16\n",
       "ENQ_CREDIT_RATIO                                     float16\n",
       "TARGET_NEIGHBORS_500_MEAN                            float16\n",
       "NAME_TYPE_SUITE_Children                             float16\n",
       "NAME_TYPE_SUITE_Family                               float16\n",
       "NAME_TYPE_SUITE_Group of people                      float16\n",
       "NAME_TYPE_SUITE_Other_A                              float16\n",
       "NAME_TYPE_SUITE_Other_B                              float16\n",
       "NAME_TYPE_SUITE_Spouse, partner                      float16\n",
       "NAME_TYPE_SUITE_Unaccompanied                        float16\n",
       "NAME_INCOME_TYPE_Businessman                         float16\n",
       "NAME_INCOME_TYPE_Commercial associate                float16\n",
       "NAME_INCOME_TYPE_Pensioner                           float16\n",
       "NAME_INCOME_TYPE_State servant                       float16\n",
       "NAME_INCOME_TYPE_Student                             float16\n",
       "NAME_INCOME_TYPE_Unemployed                          float16\n",
       "NAME_INCOME_TYPE_Working                             float16\n",
       "NAME_EDUCATION_TYPE_Academic degree                  float16\n",
       "NAME_EDUCATION_TYPE_Higher education                 float16\n",
       "NAME_EDUCATION_TYPE_Incomplete higher                float16\n",
       "NAME_EDUCATION_TYPE_Lower secondary                  float16\n",
       "NAME_EDUCATION_TYPE_Secondary / secondary special    float16\n",
       "NAME_FAMILY_STATUS_Civil marriage                    float16\n",
       "NAME_FAMILY_STATUS_Married                           float16\n",
       "NAME_FAMILY_STATUS_Separated                         float16\n",
       "NAME_FAMILY_STATUS_Single / not married              float16\n",
       "NAME_FAMILY_STATUS_Widow                             float16\n",
       "NAME_HOUSING_TYPE_Co-op apartment                    float16\n",
       "NAME_HOUSING_TYPE_House / apartment                  float16\n",
       "NAME_HOUSING_TYPE_Municipal apartment                float16\n",
       "NAME_HOUSING_TYPE_Office apartment                   float16\n",
       "NAME_HOUSING_TYPE_Rented apartment                   float16\n",
       "NAME_HOUSING_TYPE_With parents                       float16\n",
       "OCCUPATION_TYPE_Accountants                          float16\n",
       "OCCUPATION_TYPE_Cleaning staff                       float16\n",
       "OCCUPATION_TYPE_Cooking staff                        float16\n",
       "OCCUPATION_TYPE_Core staff                           float16\n",
       "OCCUPATION_TYPE_Drivers                              float16\n",
       "OCCUPATION_TYPE_HR staff                             float16\n",
       "OCCUPATION_TYPE_High skill tech staff                float16\n",
       "OCCUPATION_TYPE_IT staff                             float16\n",
       "OCCUPATION_TYPE_Laborers                             float16\n",
       "OCCUPATION_TYPE_Low-skill Laborers                   float16\n",
       "OCCUPATION_TYPE_Managers                             float16\n",
       "OCCUPATION_TYPE_Medicine staff                       float16\n",
       "OCCUPATION_TYPE_Private service staff                float16\n",
       "OCCUPATION_TYPE_Realty agents                        float16\n",
       "OCCUPATION_TYPE_Sales staff                          float16\n",
       "OCCUPATION_TYPE_Secretaries                          float16\n",
       "OCCUPATION_TYPE_Security staff                       float16\n",
       "OCCUPATION_TYPE_Waiters/barmen staff                 float16\n",
       "WEEKDAY_APPR_PROCESS_START_FRIDAY                    float16\n",
       "WEEKDAY_APPR_PROCESS_START_MONDAY                    float16\n",
       "WEEKDAY_APPR_PROCESS_START_SATURDAY                  float16\n",
       "WEEKDAY_APPR_PROCESS_START_SUNDAY                    float16\n",
       "WEEKDAY_APPR_PROCESS_START_THURSDAY                  float16\n",
       "WEEKDAY_APPR_PROCESS_START_TUESDAY                   float16\n",
       "WEEKDAY_APPR_PROCESS_START_WEDNESDAY                 float16\n",
       "ORGANIZATION_TYPE_Advertising                        float16\n",
       "ORGANIZATION_TYPE_Agriculture                        float16\n",
       "ORGANIZATION_TYPE_Bank                               float16\n",
       "ORGANIZATION_TYPE_Business Entity Type 1             float16\n",
       "ORGANIZATION_TYPE_Business Entity Type 2             float16\n",
       "ORGANIZATION_TYPE_Business Entity Type 3             float16\n",
       "ORGANIZATION_TYPE_Cleaning                           float16\n",
       "ORGANIZATION_TYPE_Construction                       float16\n",
       "ORGANIZATION_TYPE_Culture                            float16\n",
       "ORGANIZATION_TYPE_Electricity                        float16\n",
       "ORGANIZATION_TYPE_Emergency                          float16\n",
       "ORGANIZATION_TYPE_Government                         float16\n",
       "ORGANIZATION_TYPE_Hotel                              float16\n",
       "ORGANIZATION_TYPE_Housing                            float16\n",
       "ORGANIZATION_TYPE_Industry: type 1                   float16\n",
       "ORGANIZATION_TYPE_Industry: type 10                  float16\n",
       "ORGANIZATION_TYPE_Industry: type 11                  float16\n",
       "ORGANIZATION_TYPE_Industry: type 12                  float16\n",
       "ORGANIZATION_TYPE_Industry: type 13                  float16\n",
       "ORGANIZATION_TYPE_Industry: type 2                   float16\n",
       "ORGANIZATION_TYPE_Industry: type 3                   float16\n",
       "ORGANIZATION_TYPE_Industry: type 4                   float16\n",
       "ORGANIZATION_TYPE_Industry: type 5                   float16\n",
       "ORGANIZATION_TYPE_Industry: type 6                   float16\n",
       "ORGANIZATION_TYPE_Industry: type 7                   float16\n",
       "ORGANIZATION_TYPE_Industry: type 8                   float16\n",
       "ORGANIZATION_TYPE_Industry: type 9                   float16\n",
       "ORGANIZATION_TYPE_Insurance                          float16\n",
       "ORGANIZATION_TYPE_Kindergarten                       float16\n",
       "ORGANIZATION_TYPE_Legal Services                     float16\n",
       "ORGANIZATION_TYPE_Medicine                           float16\n",
       "ORGANIZATION_TYPE_Military                           float16\n",
       "ORGANIZATION_TYPE_Mobile                             float16\n",
       "ORGANIZATION_TYPE_Other                              float16\n",
       "ORGANIZATION_TYPE_Police                             float16\n",
       "ORGANIZATION_TYPE_Postal                             float16\n",
       "ORGANIZATION_TYPE_Realtor                            float16\n",
       "ORGANIZATION_TYPE_Religion                           float16\n",
       "ORGANIZATION_TYPE_Restaurant                         float16\n",
       "ORGANIZATION_TYPE_School                             float16\n",
       "ORGANIZATION_TYPE_Security                           float16\n",
       "ORGANIZATION_TYPE_Security Ministries                float16\n",
       "ORGANIZATION_TYPE_Self-employed                      float16\n",
       "ORGANIZATION_TYPE_Services                           float16\n",
       "ORGANIZATION_TYPE_Telecom                            float16\n",
       "ORGANIZATION_TYPE_Trade: type 1                      float16\n",
       "ORGANIZATION_TYPE_Trade: type 2                      float16\n",
       "ORGANIZATION_TYPE_Trade: type 3                      float16\n",
       "ORGANIZATION_TYPE_Trade: type 4                      float16\n",
       "ORGANIZATION_TYPE_Trade: type 5                      float16\n",
       "ORGANIZATION_TYPE_Trade: type 6                      float16\n",
       "ORGANIZATION_TYPE_Trade: type 7                      float16\n",
       "ORGANIZATION_TYPE_Transport: type 1                  float16\n",
       "ORGANIZATION_TYPE_Transport: type 2                  float16\n",
       "ORGANIZATION_TYPE_Transport: type 3                  float16\n",
       "ORGANIZATION_TYPE_Transport: type 4                  float16\n",
       "ORGANIZATION_TYPE_University                         float16\n",
       "ORGANIZATION_TYPE_XNA                                float16\n",
       "HOUSETYPE_MODE_block of flats                        float16\n",
       "HOUSETYPE_MODE_specific housing                      float16\n",
       "HOUSETYPE_MODE_terraced house                        float16\n",
       "WALLSMATERIAL_MODE_Block                             float16\n",
       "WALLSMATERIAL_MODE_Mixed                             float16\n",
       "WALLSMATERIAL_MODE_Monolithic                        float16\n",
       "WALLSMATERIAL_MODE_Others                            float16\n",
       "WALLSMATERIAL_MODE_Panel                             float16\n",
       "WALLSMATERIAL_MODE_Stone, brick                      float16\n",
       "WALLSMATERIAL_MODE_Wooden                            float16\n",
       "dtype: object"
      ]
     },
     "metadata": {},
     "output_type": "display_data"
    },
    {
     "data": {
      "text/html": [
       "<style  type=\"text/css\" >\n",
       "#T_4104c_row0_col0,#T_4104c_row0_col1{\n",
       "            background-color:  #800000;\n",
       "            color:  #f1f1f1;\n",
       "        }#T_4104c_row1_col0,#T_4104c_row1_col1{\n",
       "            background-color:  #0000e1;\n",
       "            color:  #f1f1f1;\n",
       "        }#T_4104c_row2_col0,#T_4104c_row2_col1{\n",
       "            background-color:  #00007f;\n",
       "            color:  #f1f1f1;\n",
       "        }#T_4104c_row3_col0,#T_4104c_row3_col1{\n",
       "            background-color:  #00004f;\n",
       "            color:  #f1f1f1;\n",
       "        }#T_4104c_row4_col0,#T_4104c_row4_col1{\n",
       "            background-color:  #00004c;\n",
       "            color:  #f1f1f1;\n",
       "        }</style><table id=\"T_4104c_\" ><thead>    <tr>        <th class=\"blank level0\" ></th>        <th class=\"col_heading level0 col0\" >Nombre par type de variable</th>        <th class=\"col_heading level0 col1\" >% des types de variable</th>    </tr></thead><tbody>\n",
       "                <tr>\n",
       "                        <th id=\"T_4104c_level0_row0\" class=\"row_heading level0 row0\" >float16</th>\n",
       "                        <td id=\"T_4104c_row0_col0\" class=\"data row0 col0\" >217</td>\n",
       "                        <td id=\"T_4104c_row0_col1\" class=\"data row0 col1\" >76.6800</td>\n",
       "            </tr>\n",
       "            <tr>\n",
       "                        <th id=\"T_4104c_level0_row1\" class=\"row_heading level0 row1\" >int8</th>\n",
       "                        <td id=\"T_4104c_row1_col0\" class=\"data row1 col0\" >46</td>\n",
       "                        <td id=\"T_4104c_row1_col1\" class=\"data row1 col1\" >16.2500</td>\n",
       "            </tr>\n",
       "            <tr>\n",
       "                        <th id=\"T_4104c_level0_row2\" class=\"row_heading level0 row2\" >float32</th>\n",
       "                        <td id=\"T_4104c_row2_col0\" class=\"data row2 col0\" >17</td>\n",
       "                        <td id=\"T_4104c_row2_col1\" class=\"data row2 col1\" >6.0100</td>\n",
       "            </tr>\n",
       "            <tr>\n",
       "                        <th id=\"T_4104c_level0_row3\" class=\"row_heading level0 row3\" >int16</th>\n",
       "                        <td id=\"T_4104c_row3_col0\" class=\"data row3 col0\" >2</td>\n",
       "                        <td id=\"T_4104c_row3_col1\" class=\"data row3 col1\" >0.7100</td>\n",
       "            </tr>\n",
       "            <tr>\n",
       "                        <th id=\"T_4104c_level0_row4\" class=\"row_heading level0 row4\" >int32</th>\n",
       "                        <td id=\"T_4104c_row4_col0\" class=\"data row4 col0\" >1</td>\n",
       "                        <td id=\"T_4104c_row4_col1\" class=\"data row4 col1\" >0.3500</td>\n",
       "            </tr>\n",
       "    </tbody></table>"
      ],
      "text/plain": [
       "<pandas.io.formats.style.Styler at 0x219ffeae2b0>"
      ]
     },
     "metadata": {},
     "output_type": "display_data"
    }
   ],
   "source": [
    "# Types des variables\n",
    "outils_data.get_types_variables(application_test, True, True, False)"
   ]
  },
  {
   "cell_type": "code",
   "execution_count": 160,
   "id": "2e14622a",
   "metadata": {
    "run_control": {
     "marked": false
    }
   },
   "outputs": [
    {
     "name": "stdout",
     "output_type": "stream",
     "text": [
      "application_test : (48744, 283)\n",
      "application_test : (48744, 205)\n"
     ]
    }
   ],
   "source": [
    "# Suppression des variables fortement corrélées\n",
    "print(f'application_test : {application_test.shape}')\n",
    "application_test.drop(columns=cols_corr_a_supp,  inplace=True)\n",
    "print(f'application_test : {application_test.shape}')"
   ]
  },
  {
   "cell_type": "code",
   "execution_count": 163,
   "id": "b495ad73",
   "metadata": {},
   "outputs": [
    {
     "data": {
      "text/plain": [
       "(307507, 206)"
      ]
     },
     "execution_count": 163,
     "metadata": {},
     "output_type": "execute_result"
    }
   ],
   "source": [
    "application_train.shape"
   ]
  },
  {
   "cell_type": "code",
   "execution_count": 164,
   "id": "fbc489e6",
   "metadata": {
    "run_control": {
     "marked": false
    }
   },
   "outputs": [],
   "source": [
    "# Sauvegarde de application_test nettoyée, encodée, prête pour ML\n",
    "fic_sav_application_test = \\\n",
    "    '../sauvegarde/pre-processing/application_test_clean.pickle'\n",
    "with open(fic_sav_application_test, 'wb') as f:\n",
    "    pickle.dump(application_test, f, pickle.HIGHEST_PROTOCOL)"
   ]
  },
  {
   "cell_type": "markdown",
   "id": "6b2a380d",
   "metadata": {},
   "source": [
    "**appli_test_imp1**"
   ]
  },
  {
   "cell_type": "code",
   "execution_count": 165,
   "id": "e2182b33",
   "metadata": {
    "run_control": {
     "marked": false
    }
   },
   "outputs": [
    {
     "name": "stdout",
     "output_type": "stream",
     "text": [
      "-------------------------------------------------------------------------------\n",
      "Memory usage du dataframe: 29.47 MB\n",
      "Memory usage après optimization: 26.50 MB\n",
      "Diminution de 10.1%\n",
      "-------------------------------------------------------------------------------\n"
     ]
    }
   ],
   "source": [
    "# Réduction de la mémoire pour les nouvelles variables\n",
    "appli_test_imp1 =\\\n",
    "    outils_preprocessing.reduce_mem_usage(appli_test_imp1, verbose=True)"
   ]
  },
  {
   "cell_type": "code",
   "execution_count": 166,
   "id": "fa3bf0e8",
   "metadata": {},
   "outputs": [
    {
     "name": "stdout",
     "output_type": "stream",
     "text": [
      "-------------------------------------------------------------\n",
      "Type de variable pour chacune des variables\n",
      "\n"
     ]
    },
    {
     "data": {
      "text/plain": [
       "SK_ID_CURR                                             int32\n",
       "NAME_CONTRACT_TYPE                                      int8\n",
       "CODE_GENDER                                             int8\n",
       "FLAG_OWN_CAR                                            int8\n",
       "FLAG_OWN_REALTY                                         int8\n",
       "CNT_CHILDREN                                            int8\n",
       "AMT_INCOME_TOTAL                                     float32\n",
       "AMT_CREDIT                                           float32\n",
       "AMT_ANNUITY                                          float32\n",
       "AMT_GOODS_PRICE                                      float32\n",
       "REGION_POPULATION_RELATIVE                           float16\n",
       "DAYS_BIRTH                                             int16\n",
       "DAYS_EMPLOYED                                        float16\n",
       "DAYS_REGISTRATION                                    float16\n",
       "DAYS_ID_PUBLISH                                        int16\n",
       "OWN_CAR_AGE                                          float16\n",
       "FLAG_MOBIL                                              int8\n",
       "FLAG_EMP_PHONE                                          int8\n",
       "FLAG_WORK_PHONE                                         int8\n",
       "FLAG_CONT_MOBILE                                        int8\n",
       "FLAG_PHONE                                              int8\n",
       "FLAG_EMAIL                                              int8\n",
       "CNT_FAM_MEMBERS                                      float16\n",
       "REGION_RATING_CLIENT                                    int8\n",
       "REGION_RATING_CLIENT_W_CITY                             int8\n",
       "HOUR_APPR_PROCESS_START                                 int8\n",
       "REG_REGION_NOT_LIVE_REGION                              int8\n",
       "REG_REGION_NOT_WORK_REGION                              int8\n",
       "LIVE_REGION_NOT_WORK_REGION                             int8\n",
       "REG_CITY_NOT_LIVE_CITY                                  int8\n",
       "REG_CITY_NOT_WORK_CITY                                  int8\n",
       "LIVE_CITY_NOT_WORK_CITY                                 int8\n",
       "EXT_SOURCE_1                                         float16\n",
       "EXT_SOURCE_2                                         float16\n",
       "EXT_SOURCE_3                                         float16\n",
       "APARTMENTS_AVG                                       float16\n",
       "BASEMENTAREA_AVG                                     float16\n",
       "YEARS_BEGINEXPLUATATION_AVG                          float16\n",
       "YEARS_BUILD_AVG                                      float16\n",
       "ELEVATORS_AVG                                        float16\n",
       "ENTRANCES_AVG                                        float16\n",
       "FLOORSMAX_AVG                                        float16\n",
       "FLOORSMIN_AVG                                        float16\n",
       "LANDAREA_AVG                                         float16\n",
       "LIVINGAREA_AVG                                       float16\n",
       "NONLIVINGAREA_AVG                                    float16\n",
       "APARTMENTS_MODE                                      float16\n",
       "BASEMENTAREA_MODE                                    float16\n",
       "YEARS_BEGINEXPLUATATION_MODE                         float16\n",
       "YEARS_BUILD_MODE                                     float16\n",
       "ELEVATORS_MODE                                       float16\n",
       "ENTRANCES_MODE                                       float16\n",
       "FLOORSMAX_MODE                                       float16\n",
       "FLOORSMIN_MODE                                       float16\n",
       "LANDAREA_MODE                                        float16\n",
       "LIVINGAREA_MODE                                      float16\n",
       "NONLIVINGAREA_MODE                                   float16\n",
       "APARTMENTS_MEDI                                      float16\n",
       "BASEMENTAREA_MEDI                                    float16\n",
       "YEARS_BEGINEXPLUATATION_MEDI                         float16\n",
       "YEARS_BUILD_MEDI                                     float16\n",
       "ELEVATORS_MEDI                                       float16\n",
       "ENTRANCES_MEDI                                       float16\n",
       "FLOORSMAX_MEDI                                       float16\n",
       "FLOORSMIN_MEDI                                       float16\n",
       "LANDAREA_MEDI                                        float16\n",
       "LIVINGAREA_MEDI                                      float16\n",
       "NONLIVINGAREA_MEDI                                   float16\n",
       "TOTALAREA_MODE                                       float16\n",
       "EMERGENCYSTATE_MODE                                     int8\n",
       "OBS_30_CNT_SOCIAL_CIRCLE                             float16\n",
       "DEF_30_CNT_SOCIAL_CIRCLE                             float16\n",
       "OBS_60_CNT_SOCIAL_CIRCLE                             float16\n",
       "DEF_60_CNT_SOCIAL_CIRCLE                             float16\n",
       "DAYS_LAST_PHONE_CHANGE                               float16\n",
       "FLAG_DOCUMENT_2                                         int8\n",
       "FLAG_DOCUMENT_3                                         int8\n",
       "FLAG_DOCUMENT_4                                         int8\n",
       "FLAG_DOCUMENT_5                                         int8\n",
       "FLAG_DOCUMENT_6                                         int8\n",
       "FLAG_DOCUMENT_7                                         int8\n",
       "FLAG_DOCUMENT_8                                         int8\n",
       "FLAG_DOCUMENT_9                                         int8\n",
       "FLAG_DOCUMENT_10                                        int8\n",
       "FLAG_DOCUMENT_11                                        int8\n",
       "FLAG_DOCUMENT_12                                        int8\n",
       "FLAG_DOCUMENT_13                                        int8\n",
       "FLAG_DOCUMENT_14                                        int8\n",
       "FLAG_DOCUMENT_15                                        int8\n",
       "FLAG_DOCUMENT_16                                        int8\n",
       "FLAG_DOCUMENT_17                                        int8\n",
       "FLAG_DOCUMENT_18                                        int8\n",
       "FLAG_DOCUMENT_19                                        int8\n",
       "FLAG_DOCUMENT_20                                        int8\n",
       "FLAG_DOCUMENT_21                                        int8\n",
       "AMT_REQ_CREDIT_BUREAU_HOUR                           float16\n",
       "AMT_REQ_CREDIT_BUREAU_DAY                            float16\n",
       "AMT_REQ_CREDIT_BUREAU_WEEK                           float16\n",
       "AMT_REQ_CREDIT_BUREAU_MON                            float16\n",
       "AMT_REQ_CREDIT_BUREAU_QRT                            float16\n",
       "AMT_REQ_CREDIT_BUREAU_YEAR                           float16\n",
       "CREDIT_INCOME_RATIO                                  float16\n",
       "CREDIT_ANNUITY_RATIO                                 float32\n",
       "ANNUITY_INCOME_RATIO                                 float16\n",
       "INCOME_ANNUITY_DIFF                                  float32\n",
       "CREDIT_GOODS_RATIO                                   float16\n",
       "INCOME_GOODS_DIFF                                    float16\n",
       "INCOME_AGE_RATIO                                     float16\n",
       "CREDIT_AGE_RATIO                                     float16\n",
       "INCOME_EXT_RATIO                                     float32\n",
       "CREDIT_EXT_RATIO                                     float32\n",
       "HOUR_PROCESS_CREDIT_MUL                              float32\n",
       "YEARS_BIRTH                                          float16\n",
       "AGE_EMPLOYED_DIFF                                    float16\n",
       "EMPLOYED_AGE_RATIO                                   float16\n",
       "LAST_PHONE_BIRTH_RATIO                               float16\n",
       "LAST_PHONE_EMPLOYED_RATIO                            float32\n",
       "CAR_EMPLOYED_DIFF                                    float16\n",
       "CAR_EMPLOYED_RATIO                                   float32\n",
       "CAR_AGE_DIFF                                         float16\n",
       "CAR_AGE_RATIO                                        float16\n",
       "FLAG_CONTACTS_SUM                                       int8\n",
       "CNT_NON_CHILDREN                                     float16\n",
       "CHILDREN_INCOME_RATIO                                float16\n",
       "PER_CAPITA_INCOME                                    float32\n",
       "REGIONS_INCOME_MOY                                   float32\n",
       "REGION_RATING_MAX                                       int8\n",
       "REGION_RATING_MEAN                                   float16\n",
       "REGION_RATING_MUL                                       int8\n",
       "FLAG_REGIONS_SUM                                        int8\n",
       "EXT_SOURCE_SUM                                       float16\n",
       "EXT_SOURCE_MEAN                                      float16\n",
       "EXT_SOURCE_MUL                                       float16\n",
       "EXT_SOURCE_MAX                                       float16\n",
       "EXT_SOURCE_MIN                                       float16\n",
       "EXT_SOURCE_VAR                                       float16\n",
       "WEIGHTED_EXT_SOURCE                                  float16\n",
       "APARTMENTS_SUM_AVG                                   float16\n",
       "APARTMENTS_SUM_MODE                                  float16\n",
       "APARTMENTS_SUM_MEDI                                  float16\n",
       "INCOME_APARTMENT_AVG_MUL                             float32\n",
       "INCOME_APARTMENT_MODE_MUL                            float32\n",
       "INCOME_APARTMENT_MEDI_MUL                            float32\n",
       "OBS_30_60_SUM                                        float16\n",
       "DEF_30_60_SUM                                        float16\n",
       "OBS_DEF_30_MUL                                       float16\n",
       "OBS_DEF_60_MUL                                       float16\n",
       "SUM_OBS_DEF_ALL                                      float16\n",
       "OBS_30_CREDIT_RATIO                                  float32\n",
       "OBS_60_CREDIT_RATIO                                  float32\n",
       "DEF_30_CREDIT_RATIO                                  float32\n",
       "DEF_60_CREDIT_RATIO                                  float32\n",
       "FLAGS_DOCUMENTS_SUM                                     int8\n",
       "FLAGS_DOCUMENTS_AVG                                  float16\n",
       "FLAGS_DOCUMENTS_VAR                                  float16\n",
       "FLAGS_DOCUMENTS_STD                                  float16\n",
       "DAYS_DETAILS_CHANGE_SUM                              float16\n",
       "AMT_ENQ_SUM                                          float16\n",
       "ENQ_CREDIT_RATIO                                     float16\n",
       "TARGET_NEIGHBORS_500_MEAN                            float16\n",
       "NAME_TYPE_SUITE_Children                             float16\n",
       "NAME_TYPE_SUITE_Family                               float16\n",
       "NAME_TYPE_SUITE_Group of people                      float16\n",
       "NAME_TYPE_SUITE_Other_A                              float16\n",
       "NAME_TYPE_SUITE_Other_B                              float16\n",
       "NAME_TYPE_SUITE_Spouse, partner                      float16\n",
       "NAME_TYPE_SUITE_Unaccompanied                        float16\n",
       "NAME_TYPE_SUITE_XNA                                  float16\n",
       "NAME_INCOME_TYPE_Businessman                         float16\n",
       "NAME_INCOME_TYPE_Commercial associate                float16\n",
       "NAME_INCOME_TYPE_Pensioner                           float16\n",
       "NAME_INCOME_TYPE_State servant                       float16\n",
       "NAME_INCOME_TYPE_Student                             float16\n",
       "NAME_INCOME_TYPE_Unemployed                          float16\n",
       "NAME_INCOME_TYPE_Working                             float16\n",
       "NAME_EDUCATION_TYPE_Academic degree                  float16\n",
       "NAME_EDUCATION_TYPE_Higher education                 float16\n",
       "NAME_EDUCATION_TYPE_Incomplete higher                float16\n",
       "NAME_EDUCATION_TYPE_Lower secondary                  float16\n",
       "NAME_EDUCATION_TYPE_Secondary / secondary special    float16\n",
       "NAME_FAMILY_STATUS_Civil marriage                    float16\n",
       "NAME_FAMILY_STATUS_Married                           float16\n",
       "NAME_FAMILY_STATUS_Separated                         float16\n",
       "NAME_FAMILY_STATUS_Single / not married              float16\n",
       "NAME_FAMILY_STATUS_Widow                             float16\n",
       "NAME_HOUSING_TYPE_Co-op apartment                    float16\n",
       "NAME_HOUSING_TYPE_House / apartment                  float16\n",
       "NAME_HOUSING_TYPE_Municipal apartment                float16\n",
       "NAME_HOUSING_TYPE_Office apartment                   float16\n",
       "NAME_HOUSING_TYPE_Rented apartment                   float16\n",
       "NAME_HOUSING_TYPE_With parents                       float16\n",
       "OCCUPATION_TYPE_Accountants                          float16\n",
       "OCCUPATION_TYPE_Cleaning staff                       float16\n",
       "OCCUPATION_TYPE_Cooking staff                        float16\n",
       "OCCUPATION_TYPE_Core staff                           float16\n",
       "OCCUPATION_TYPE_Drivers                              float16\n",
       "OCCUPATION_TYPE_HR staff                             float16\n",
       "OCCUPATION_TYPE_High skill tech staff                float16\n",
       "OCCUPATION_TYPE_IT staff                             float16\n",
       "OCCUPATION_TYPE_Laborers                             float16\n",
       "OCCUPATION_TYPE_Low-skill Laborers                   float16\n",
       "OCCUPATION_TYPE_Managers                             float16\n",
       "OCCUPATION_TYPE_Medicine staff                       float16\n",
       "OCCUPATION_TYPE_Private service staff                float16\n",
       "OCCUPATION_TYPE_Realty agents                        float16\n",
       "OCCUPATION_TYPE_Sales staff                          float16\n",
       "OCCUPATION_TYPE_Secretaries                          float16\n",
       "OCCUPATION_TYPE_Security staff                       float16\n",
       "OCCUPATION_TYPE_Waiters/barmen staff                 float16\n",
       "OCCUPATION_TYPE_XNA                                  float16\n",
       "WEEKDAY_APPR_PROCESS_START_FRIDAY                    float16\n",
       "WEEKDAY_APPR_PROCESS_START_MONDAY                    float16\n",
       "WEEKDAY_APPR_PROCESS_START_SATURDAY                  float16\n",
       "WEEKDAY_APPR_PROCESS_START_SUNDAY                    float16\n",
       "WEEKDAY_APPR_PROCESS_START_THURSDAY                  float16\n",
       "WEEKDAY_APPR_PROCESS_START_TUESDAY                   float16\n",
       "WEEKDAY_APPR_PROCESS_START_WEDNESDAY                 float16\n",
       "ORGANIZATION_TYPE_Advertising                        float16\n",
       "ORGANIZATION_TYPE_Agriculture                        float16\n",
       "ORGANIZATION_TYPE_Bank                               float16\n",
       "ORGANIZATION_TYPE_Business Entity Type 1             float16\n",
       "ORGANIZATION_TYPE_Business Entity Type 2             float16\n",
       "ORGANIZATION_TYPE_Business Entity Type 3             float16\n",
       "ORGANIZATION_TYPE_Cleaning                           float16\n",
       "ORGANIZATION_TYPE_Construction                       float16\n",
       "ORGANIZATION_TYPE_Culture                            float16\n",
       "ORGANIZATION_TYPE_Electricity                        float16\n",
       "ORGANIZATION_TYPE_Emergency                          float16\n",
       "ORGANIZATION_TYPE_Government                         float16\n",
       "ORGANIZATION_TYPE_Hotel                              float16\n",
       "ORGANIZATION_TYPE_Housing                            float16\n",
       "ORGANIZATION_TYPE_Industry: type 1                   float16\n",
       "ORGANIZATION_TYPE_Industry: type 10                  float16\n",
       "ORGANIZATION_TYPE_Industry: type 11                  float16\n",
       "ORGANIZATION_TYPE_Industry: type 12                  float16\n",
       "ORGANIZATION_TYPE_Industry: type 13                  float16\n",
       "ORGANIZATION_TYPE_Industry: type 2                   float16\n",
       "ORGANIZATION_TYPE_Industry: type 3                   float16\n",
       "ORGANIZATION_TYPE_Industry: type 4                   float16\n",
       "ORGANIZATION_TYPE_Industry: type 5                   float16\n",
       "ORGANIZATION_TYPE_Industry: type 6                   float16\n",
       "ORGANIZATION_TYPE_Industry: type 7                   float16\n",
       "ORGANIZATION_TYPE_Industry: type 8                   float16\n",
       "ORGANIZATION_TYPE_Industry: type 9                   float16\n",
       "ORGANIZATION_TYPE_Insurance                          float16\n",
       "ORGANIZATION_TYPE_Kindergarten                       float16\n",
       "ORGANIZATION_TYPE_Legal Services                     float16\n",
       "ORGANIZATION_TYPE_Medicine                           float16\n",
       "ORGANIZATION_TYPE_Military                           float16\n",
       "ORGANIZATION_TYPE_Mobile                             float16\n",
       "ORGANIZATION_TYPE_Other                              float16\n",
       "ORGANIZATION_TYPE_Police                             float16\n",
       "ORGANIZATION_TYPE_Postal                             float16\n",
       "ORGANIZATION_TYPE_Realtor                            float16\n",
       "ORGANIZATION_TYPE_Religion                           float16\n",
       "ORGANIZATION_TYPE_Restaurant                         float16\n",
       "ORGANIZATION_TYPE_School                             float16\n",
       "ORGANIZATION_TYPE_Security                           float16\n",
       "ORGANIZATION_TYPE_Security Ministries                float16\n",
       "ORGANIZATION_TYPE_Self-employed                      float16\n",
       "ORGANIZATION_TYPE_Services                           float16\n",
       "ORGANIZATION_TYPE_Telecom                            float16\n",
       "ORGANIZATION_TYPE_Trade: type 1                      float16\n",
       "ORGANIZATION_TYPE_Trade: type 2                      float16\n",
       "ORGANIZATION_TYPE_Trade: type 3                      float16\n",
       "ORGANIZATION_TYPE_Trade: type 4                      float16\n",
       "ORGANIZATION_TYPE_Trade: type 5                      float16\n",
       "ORGANIZATION_TYPE_Trade: type 6                      float16\n",
       "ORGANIZATION_TYPE_Trade: type 7                      float16\n",
       "ORGANIZATION_TYPE_Transport: type 1                  float16\n",
       "ORGANIZATION_TYPE_Transport: type 2                  float16\n",
       "ORGANIZATION_TYPE_Transport: type 3                  float16\n",
       "ORGANIZATION_TYPE_Transport: type 4                  float16\n",
       "ORGANIZATION_TYPE_University                         float16\n",
       "ORGANIZATION_TYPE_XNA                                float16\n",
       "HOUSETYPE_MODE_XNA                                   float16\n",
       "HOUSETYPE_MODE_block of flats                        float16\n",
       "HOUSETYPE_MODE_specific housing                      float16\n",
       "HOUSETYPE_MODE_terraced house                        float16\n",
       "WALLSMATERIAL_MODE_Block                             float16\n",
       "WALLSMATERIAL_MODE_Mixed                             float16\n",
       "WALLSMATERIAL_MODE_Monolithic                        float16\n",
       "WALLSMATERIAL_MODE_Others                            float16\n",
       "WALLSMATERIAL_MODE_Panel                             float16\n",
       "WALLSMATERIAL_MODE_Stone, brick                      float16\n",
       "WALLSMATERIAL_MODE_Wooden                            float16\n",
       "WALLSMATERIAL_MODE_XNA                               float16\n",
       "dtype: object"
      ]
     },
     "metadata": {},
     "output_type": "display_data"
    },
    {
     "data": {
      "text/html": [
       "<style  type=\"text/css\" >\n",
       "#T_8d963_row0_col0,#T_8d963_row0_col1{\n",
       "            background-color:  #800000;\n",
       "            color:  #f1f1f1;\n",
       "        }#T_8d963_row1_col0,#T_8d963_row1_col1{\n",
       "            background-color:  #0000e1;\n",
       "            color:  #f1f1f1;\n",
       "        }#T_8d963_row2_col0,#T_8d963_row2_col1{\n",
       "            background-color:  #00008a;\n",
       "            color:  #f1f1f1;\n",
       "        }#T_8d963_row3_col0,#T_8d963_row3_col1{\n",
       "            background-color:  #00004f;\n",
       "            color:  #f1f1f1;\n",
       "        }#T_8d963_row4_col0,#T_8d963_row4_col1{\n",
       "            background-color:  #00004c;\n",
       "            color:  #f1f1f1;\n",
       "        }</style><table id=\"T_8d963_\" ><thead>    <tr>        <th class=\"blank level0\" ></th>        <th class=\"col_heading level0 col0\" >Nombre par type de variable</th>        <th class=\"col_heading level0 col1\" >% des types de variable</th>    </tr></thead><tbody>\n",
       "                <tr>\n",
       "                        <th id=\"T_8d963_level0_row0\" class=\"row_heading level0 row0\" >float16</th>\n",
       "                        <td id=\"T_8d963_row0_col0\" class=\"data row0 col0\" >218</td>\n",
       "                        <td id=\"T_8d963_row0_col1\" class=\"data row0 col1\" >75.9600</td>\n",
       "            </tr>\n",
       "            <tr>\n",
       "                        <th id=\"T_8d963_level0_row1\" class=\"row_heading level0 row1\" >int8</th>\n",
       "                        <td id=\"T_8d963_row1_col0\" class=\"data row1 col0\" >46</td>\n",
       "                        <td id=\"T_8d963_row1_col1\" class=\"data row1 col1\" >16.0300</td>\n",
       "            </tr>\n",
       "            <tr>\n",
       "                        <th id=\"T_8d963_level0_row2\" class=\"row_heading level0 row2\" >float32</th>\n",
       "                        <td id=\"T_8d963_row2_col0\" class=\"data row2 col0\" >20</td>\n",
       "                        <td id=\"T_8d963_row2_col1\" class=\"data row2 col1\" >6.9700</td>\n",
       "            </tr>\n",
       "            <tr>\n",
       "                        <th id=\"T_8d963_level0_row3\" class=\"row_heading level0 row3\" >int16</th>\n",
       "                        <td id=\"T_8d963_row3_col0\" class=\"data row3 col0\" >2</td>\n",
       "                        <td id=\"T_8d963_row3_col1\" class=\"data row3 col1\" >0.7000</td>\n",
       "            </tr>\n",
       "            <tr>\n",
       "                        <th id=\"T_8d963_level0_row4\" class=\"row_heading level0 row4\" >int32</th>\n",
       "                        <td id=\"T_8d963_row4_col0\" class=\"data row4 col0\" >1</td>\n",
       "                        <td id=\"T_8d963_row4_col1\" class=\"data row4 col1\" >0.3500</td>\n",
       "            </tr>\n",
       "    </tbody></table>"
      ],
      "text/plain": [
       "<pandas.io.formats.style.Styler at 0x21a08649610>"
      ]
     },
     "metadata": {},
     "output_type": "display_data"
    }
   ],
   "source": [
    "# Types des variables\n",
    "outils_data.get_types_variables(appli_test_imp1, True, True, False)"
   ]
  },
  {
   "cell_type": "code",
   "execution_count": 167,
   "id": "936ac9c0",
   "metadata": {
    "run_control": {
     "marked": false
    }
   },
   "outputs": [
    {
     "name": "stdout",
     "output_type": "stream",
     "text": [
      "appli_test_imp1 : (48744, 287)\n",
      "appli_test_imp1 : (48744, 210)\n"
     ]
    }
   ],
   "source": [
    "# Suppression des variables fortement corrélées\n",
    "print(f'appli_test_imp1 : {appli_test_imp1.shape}')\n",
    "appli_test_imp1.drop(columns=cols_corr1_a_supp,  inplace=True)\n",
    "print(f'appli_test_imp1 : {appli_test_imp1.shape}')"
   ]
  },
  {
   "cell_type": "code",
   "execution_count": 173,
   "id": "9f2fe17a",
   "metadata": {},
   "outputs": [
    {
     "data": {
      "text/plain": [
       "(307507, 213)"
      ]
     },
     "execution_count": 173,
     "metadata": {},
     "output_type": "execute_result"
    }
   ],
   "source": [
    "appli_train_imp1.shape"
   ]
  },
  {
   "cell_type": "code",
   "execution_count": 184,
   "id": "738f5d43",
   "metadata": {
    "run_control": {
     "marked": false
    }
   },
   "outputs": [
    {
     "data": {
      "text/plain": [
       "(48744, 212)"
      ]
     },
     "execution_count": 184,
     "metadata": {},
     "output_type": "execute_result"
    }
   ],
   "source": [
    "# Manque 2 variables : Valeurs np.nan remplacées par XNA en plus dans\n",
    "# appli_train_imp1 mais pas de np.nan dans appli_test_imp1 :\n",
    "# 'NAME_INCOME_TYPE_XNA'\n",
    "# et 'NAME_FAMILY_STATUS_XNA'\n",
    "# Ajout d'une variable 'NAME_INCOME_TYPE_XNA' avec 0.0 float16\n",
    "appli_test_imp1['NAME_INCOME_TYPE_XNA'] = 0.0\n",
    "appli_test_imp1['NAME_INCOME_TYPE_XNA'].astype('float16')\n",
    "# Ajout d'une variable 'NAME_FAMILY_STATUS_XNA' avec 0.0 float16\n",
    "appli_test_imp1['NAME_FAMILY_STATUS_XNA'] = 0.0\n",
    "appli_test_imp1['NAME_FAMILY_STATUS_XNA'].astype('float16')\n",
    "appli_test_imp1.shape"
   ]
  },
  {
   "cell_type": "code",
   "execution_count": 185,
   "id": "fd2a8a7a",
   "metadata": {
    "run_control": {
     "marked": false
    }
   },
   "outputs": [],
   "source": [
    "# Sauvegarde de appli_test_imp1 nettoyée, encodée, prête pour ML\n",
    "fic_sav_appli_test_imp1 = \\\n",
    "    '../sauvegarde/pre-processing/appli_test_imp1_clean.pickle'\n",
    "with open(fic_sav_appli_test_imp1, 'wb') as f:\n",
    "    pickle.dump(appli_test_imp1, f, pickle.HIGHEST_PROTOCOL)"
   ]
  },
  {
   "cell_type": "markdown",
   "id": "ba53104d",
   "metadata": {},
   "source": [
    "**appli_test_imp2**"
   ]
  },
  {
   "cell_type": "code",
   "execution_count": 186,
   "id": "392dcc22",
   "metadata": {
    "run_control": {
     "marked": false
    }
   },
   "outputs": [
    {
     "name": "stdout",
     "output_type": "stream",
     "text": [
      "-------------------------------------------------------------------------------\n",
      "Memory usage du dataframe: 29.47 MB\n",
      "Memory usage après optimization: 26.22 MB\n",
      "Diminution de 11.0%\n",
      "-------------------------------------------------------------------------------\n"
     ]
    }
   ],
   "source": [
    "# Réduction de la mémoire pour les nouvelles variables\n",
    "appli_test_imp2 =\\\n",
    "    outils_preprocessing.reduce_mem_usage(appli_test_imp2, verbose=True)"
   ]
  },
  {
   "cell_type": "code",
   "execution_count": 187,
   "id": "eb10e108",
   "metadata": {},
   "outputs": [
    {
     "name": "stdout",
     "output_type": "stream",
     "text": [
      "-------------------------------------------------------------\n",
      "Type de variable pour chacune des variables\n",
      "\n"
     ]
    },
    {
     "data": {
      "text/plain": [
       "SK_ID_CURR                                             int32\n",
       "NAME_CONTRACT_TYPE                                      int8\n",
       "CODE_GENDER                                             int8\n",
       "FLAG_OWN_CAR                                            int8\n",
       "FLAG_OWN_REALTY                                         int8\n",
       "CNT_CHILDREN                                            int8\n",
       "AMT_INCOME_TOTAL                                     float32\n",
       "AMT_CREDIT                                           float32\n",
       "AMT_ANNUITY                                          float32\n",
       "AMT_GOODS_PRICE                                      float32\n",
       "REGION_POPULATION_RELATIVE                           float16\n",
       "DAYS_BIRTH                                             int16\n",
       "DAYS_EMPLOYED                                        float16\n",
       "DAYS_REGISTRATION                                    float16\n",
       "DAYS_ID_PUBLISH                                        int16\n",
       "OWN_CAR_AGE                                          float16\n",
       "FLAG_MOBIL                                              int8\n",
       "FLAG_EMP_PHONE                                          int8\n",
       "FLAG_WORK_PHONE                                         int8\n",
       "FLAG_CONT_MOBILE                                        int8\n",
       "FLAG_PHONE                                              int8\n",
       "FLAG_EMAIL                                              int8\n",
       "CNT_FAM_MEMBERS                                      float16\n",
       "REGION_RATING_CLIENT                                    int8\n",
       "REGION_RATING_CLIENT_W_CITY                             int8\n",
       "HOUR_APPR_PROCESS_START                                 int8\n",
       "REG_REGION_NOT_LIVE_REGION                              int8\n",
       "REG_REGION_NOT_WORK_REGION                              int8\n",
       "LIVE_REGION_NOT_WORK_REGION                             int8\n",
       "REG_CITY_NOT_LIVE_CITY                                  int8\n",
       "REG_CITY_NOT_WORK_CITY                                  int8\n",
       "LIVE_CITY_NOT_WORK_CITY                                 int8\n",
       "EXT_SOURCE_1                                         float16\n",
       "EXT_SOURCE_2                                         float16\n",
       "EXT_SOURCE_3                                         float16\n",
       "APARTMENTS_AVG                                       float16\n",
       "BASEMENTAREA_AVG                                     float16\n",
       "YEARS_BEGINEXPLUATATION_AVG                          float16\n",
       "YEARS_BUILD_AVG                                      float16\n",
       "ELEVATORS_AVG                                        float16\n",
       "ENTRANCES_AVG                                        float16\n",
       "FLOORSMAX_AVG                                        float16\n",
       "FLOORSMIN_AVG                                        float16\n",
       "LANDAREA_AVG                                         float16\n",
       "LIVINGAREA_AVG                                       float16\n",
       "NONLIVINGAREA_AVG                                    float16\n",
       "APARTMENTS_MODE                                      float16\n",
       "BASEMENTAREA_MODE                                    float16\n",
       "YEARS_BEGINEXPLUATATION_MODE                         float16\n",
       "YEARS_BUILD_MODE                                     float16\n",
       "ELEVATORS_MODE                                       float16\n",
       "ENTRANCES_MODE                                       float16\n",
       "FLOORSMAX_MODE                                       float16\n",
       "FLOORSMIN_MODE                                       float16\n",
       "LANDAREA_MODE                                        float16\n",
       "LIVINGAREA_MODE                                      float16\n",
       "NONLIVINGAREA_MODE                                   float16\n",
       "APARTMENTS_MEDI                                      float16\n",
       "BASEMENTAREA_MEDI                                    float16\n",
       "YEARS_BEGINEXPLUATATION_MEDI                         float16\n",
       "YEARS_BUILD_MEDI                                     float16\n",
       "ELEVATORS_MEDI                                       float16\n",
       "ENTRANCES_MEDI                                       float16\n",
       "FLOORSMAX_MEDI                                       float16\n",
       "FLOORSMIN_MEDI                                       float16\n",
       "LANDAREA_MEDI                                        float16\n",
       "LIVINGAREA_MEDI                                      float16\n",
       "NONLIVINGAREA_MEDI                                   float16\n",
       "TOTALAREA_MODE                                       float16\n",
       "EMERGENCYSTATE_MODE                                     int8\n",
       "OBS_30_CNT_SOCIAL_CIRCLE                             float16\n",
       "DEF_30_CNT_SOCIAL_CIRCLE                             float16\n",
       "OBS_60_CNT_SOCIAL_CIRCLE                             float16\n",
       "DEF_60_CNT_SOCIAL_CIRCLE                             float16\n",
       "DAYS_LAST_PHONE_CHANGE                               float16\n",
       "FLAG_DOCUMENT_2                                         int8\n",
       "FLAG_DOCUMENT_3                                         int8\n",
       "FLAG_DOCUMENT_4                                         int8\n",
       "FLAG_DOCUMENT_5                                         int8\n",
       "FLAG_DOCUMENT_6                                         int8\n",
       "FLAG_DOCUMENT_7                                         int8\n",
       "FLAG_DOCUMENT_8                                         int8\n",
       "FLAG_DOCUMENT_9                                         int8\n",
       "FLAG_DOCUMENT_10                                        int8\n",
       "FLAG_DOCUMENT_11                                        int8\n",
       "FLAG_DOCUMENT_12                                        int8\n",
       "FLAG_DOCUMENT_13                                        int8\n",
       "FLAG_DOCUMENT_14                                        int8\n",
       "FLAG_DOCUMENT_15                                        int8\n",
       "FLAG_DOCUMENT_16                                        int8\n",
       "FLAG_DOCUMENT_17                                        int8\n",
       "FLAG_DOCUMENT_18                                        int8\n",
       "FLAG_DOCUMENT_19                                        int8\n",
       "FLAG_DOCUMENT_20                                        int8\n",
       "FLAG_DOCUMENT_21                                        int8\n",
       "AMT_REQ_CREDIT_BUREAU_HOUR                           float16\n",
       "AMT_REQ_CREDIT_BUREAU_DAY                            float16\n",
       "AMT_REQ_CREDIT_BUREAU_WEEK                           float16\n",
       "AMT_REQ_CREDIT_BUREAU_MON                            float16\n",
       "AMT_REQ_CREDIT_BUREAU_QRT                            float16\n",
       "AMT_REQ_CREDIT_BUREAU_YEAR                           float16\n",
       "CREDIT_INCOME_RATIO                                  float16\n",
       "CREDIT_ANNUITY_RATIO                                 float16\n",
       "ANNUITY_INCOME_RATIO                                 float16\n",
       "INCOME_ANNUITY_DIFF                                  float32\n",
       "CREDIT_GOODS_RATIO                                   float16\n",
       "INCOME_GOODS_DIFF                                    float16\n",
       "INCOME_AGE_RATIO                                     float16\n",
       "CREDIT_AGE_RATIO                                     float16\n",
       "INCOME_EXT_RATIO                                     float32\n",
       "CREDIT_EXT_RATIO                                     float32\n",
       "HOUR_PROCESS_CREDIT_MUL                              float32\n",
       "YEARS_BIRTH                                          float16\n",
       "AGE_EMPLOYED_DIFF                                    float16\n",
       "EMPLOYED_AGE_RATIO                                   float16\n",
       "LAST_PHONE_BIRTH_RATIO                               float16\n",
       "LAST_PHONE_EMPLOYED_RATIO                            float16\n",
       "CAR_EMPLOYED_DIFF                                    float16\n",
       "CAR_EMPLOYED_RATIO                                   float16\n",
       "CAR_AGE_DIFF                                         float16\n",
       "CAR_AGE_RATIO                                        float16\n",
       "FLAG_CONTACTS_SUM                                       int8\n",
       "CNT_NON_CHILDREN                                     float16\n",
       "CHILDREN_INCOME_RATIO                                float16\n",
       "PER_CAPITA_INCOME                                    float32\n",
       "REGIONS_INCOME_MOY                                   float32\n",
       "REGION_RATING_MAX                                       int8\n",
       "REGION_RATING_MEAN                                   float16\n",
       "REGION_RATING_MUL                                       int8\n",
       "FLAG_REGIONS_SUM                                        int8\n",
       "EXT_SOURCE_SUM                                       float16\n",
       "EXT_SOURCE_MEAN                                      float16\n",
       "EXT_SOURCE_MUL                                       float16\n",
       "EXT_SOURCE_MAX                                       float16\n",
       "EXT_SOURCE_MIN                                       float16\n",
       "EXT_SOURCE_VAR                                       float16\n",
       "WEIGHTED_EXT_SOURCE                                  float16\n",
       "APARTMENTS_SUM_AVG                                   float16\n",
       "APARTMENTS_SUM_MODE                                  float16\n",
       "APARTMENTS_SUM_MEDI                                  float16\n",
       "INCOME_APARTMENT_AVG_MUL                             float32\n",
       "INCOME_APARTMENT_MODE_MUL                            float32\n",
       "INCOME_APARTMENT_MEDI_MUL                            float32\n",
       "OBS_30_60_SUM                                        float16\n",
       "DEF_30_60_SUM                                        float16\n",
       "OBS_DEF_30_MUL                                       float16\n",
       "OBS_DEF_60_MUL                                       float16\n",
       "SUM_OBS_DEF_ALL                                      float16\n",
       "OBS_30_CREDIT_RATIO                                  float32\n",
       "OBS_60_CREDIT_RATIO                                  float32\n",
       "DEF_30_CREDIT_RATIO                                  float32\n",
       "DEF_60_CREDIT_RATIO                                  float32\n",
       "FLAGS_DOCUMENTS_SUM                                     int8\n",
       "FLAGS_DOCUMENTS_AVG                                  float16\n",
       "FLAGS_DOCUMENTS_VAR                                  float16\n",
       "FLAGS_DOCUMENTS_STD                                  float16\n",
       "DAYS_DETAILS_CHANGE_SUM                              float16\n",
       "AMT_ENQ_SUM                                          float16\n",
       "ENQ_CREDIT_RATIO                                     float16\n",
       "TARGET_NEIGHBORS_500_MEAN                            float16\n",
       "NAME_TYPE_SUITE_Children                             float16\n",
       "NAME_TYPE_SUITE_Family                               float16\n",
       "NAME_TYPE_SUITE_Group of people                      float16\n",
       "NAME_TYPE_SUITE_Other_A                              float16\n",
       "NAME_TYPE_SUITE_Other_B                              float16\n",
       "NAME_TYPE_SUITE_Spouse, partner                      float16\n",
       "NAME_TYPE_SUITE_Unaccompanied                        float16\n",
       "NAME_TYPE_SUITE_XNA                                  float16\n",
       "NAME_INCOME_TYPE_Businessman                         float16\n",
       "NAME_INCOME_TYPE_Commercial associate                float16\n",
       "NAME_INCOME_TYPE_Pensioner                           float16\n",
       "NAME_INCOME_TYPE_State servant                       float16\n",
       "NAME_INCOME_TYPE_Student                             float16\n",
       "NAME_INCOME_TYPE_Unemployed                          float16\n",
       "NAME_INCOME_TYPE_Working                             float16\n",
       "NAME_EDUCATION_TYPE_Academic degree                  float16\n",
       "NAME_EDUCATION_TYPE_Higher education                 float16\n",
       "NAME_EDUCATION_TYPE_Incomplete higher                float16\n",
       "NAME_EDUCATION_TYPE_Lower secondary                  float16\n",
       "NAME_EDUCATION_TYPE_Secondary / secondary special    float16\n",
       "NAME_FAMILY_STATUS_Civil marriage                    float16\n",
       "NAME_FAMILY_STATUS_Married                           float16\n",
       "NAME_FAMILY_STATUS_Separated                         float16\n",
       "NAME_FAMILY_STATUS_Single / not married              float16\n",
       "NAME_FAMILY_STATUS_Widow                             float16\n",
       "NAME_HOUSING_TYPE_Co-op apartment                    float16\n",
       "NAME_HOUSING_TYPE_House / apartment                  float16\n",
       "NAME_HOUSING_TYPE_Municipal apartment                float16\n",
       "NAME_HOUSING_TYPE_Office apartment                   float16\n",
       "NAME_HOUSING_TYPE_Rented apartment                   float16\n",
       "NAME_HOUSING_TYPE_With parents                       float16\n",
       "OCCUPATION_TYPE_Accountants                          float16\n",
       "OCCUPATION_TYPE_Cleaning staff                       float16\n",
       "OCCUPATION_TYPE_Cooking staff                        float16\n",
       "OCCUPATION_TYPE_Core staff                           float16\n",
       "OCCUPATION_TYPE_Drivers                              float16\n",
       "OCCUPATION_TYPE_HR staff                             float16\n",
       "OCCUPATION_TYPE_High skill tech staff                float16\n",
       "OCCUPATION_TYPE_IT staff                             float16\n",
       "OCCUPATION_TYPE_Laborers                             float16\n",
       "OCCUPATION_TYPE_Low-skill Laborers                   float16\n",
       "OCCUPATION_TYPE_Managers                             float16\n",
       "OCCUPATION_TYPE_Medicine staff                       float16\n",
       "OCCUPATION_TYPE_Private service staff                float16\n",
       "OCCUPATION_TYPE_Realty agents                        float16\n",
       "OCCUPATION_TYPE_Sales staff                          float16\n",
       "OCCUPATION_TYPE_Secretaries                          float16\n",
       "OCCUPATION_TYPE_Security staff                       float16\n",
       "OCCUPATION_TYPE_Waiters/barmen staff                 float16\n",
       "OCCUPATION_TYPE_XNA                                  float16\n",
       "WEEKDAY_APPR_PROCESS_START_FRIDAY                    float16\n",
       "WEEKDAY_APPR_PROCESS_START_MONDAY                    float16\n",
       "WEEKDAY_APPR_PROCESS_START_SATURDAY                  float16\n",
       "WEEKDAY_APPR_PROCESS_START_SUNDAY                    float16\n",
       "WEEKDAY_APPR_PROCESS_START_THURSDAY                  float16\n",
       "WEEKDAY_APPR_PROCESS_START_TUESDAY                   float16\n",
       "WEEKDAY_APPR_PROCESS_START_WEDNESDAY                 float16\n",
       "ORGANIZATION_TYPE_Advertising                        float16\n",
       "ORGANIZATION_TYPE_Agriculture                        float16\n",
       "ORGANIZATION_TYPE_Bank                               float16\n",
       "ORGANIZATION_TYPE_Business Entity Type 1             float16\n",
       "ORGANIZATION_TYPE_Business Entity Type 2             float16\n",
       "ORGANIZATION_TYPE_Business Entity Type 3             float16\n",
       "ORGANIZATION_TYPE_Cleaning                           float16\n",
       "ORGANIZATION_TYPE_Construction                       float16\n",
       "ORGANIZATION_TYPE_Culture                            float16\n",
       "ORGANIZATION_TYPE_Electricity                        float16\n",
       "ORGANIZATION_TYPE_Emergency                          float16\n",
       "ORGANIZATION_TYPE_Government                         float16\n",
       "ORGANIZATION_TYPE_Hotel                              float16\n",
       "ORGANIZATION_TYPE_Housing                            float16\n",
       "ORGANIZATION_TYPE_Industry: type 1                   float16\n",
       "ORGANIZATION_TYPE_Industry: type 10                  float16\n",
       "ORGANIZATION_TYPE_Industry: type 11                  float16\n",
       "ORGANIZATION_TYPE_Industry: type 12                  float16\n",
       "ORGANIZATION_TYPE_Industry: type 13                  float16\n",
       "ORGANIZATION_TYPE_Industry: type 2                   float16\n",
       "ORGANIZATION_TYPE_Industry: type 3                   float16\n",
       "ORGANIZATION_TYPE_Industry: type 4                   float16\n",
       "ORGANIZATION_TYPE_Industry: type 5                   float16\n",
       "ORGANIZATION_TYPE_Industry: type 6                   float16\n",
       "ORGANIZATION_TYPE_Industry: type 7                   float16\n",
       "ORGANIZATION_TYPE_Industry: type 8                   float16\n",
       "ORGANIZATION_TYPE_Industry: type 9                   float16\n",
       "ORGANIZATION_TYPE_Insurance                          float16\n",
       "ORGANIZATION_TYPE_Kindergarten                       float16\n",
       "ORGANIZATION_TYPE_Legal Services                     float16\n",
       "ORGANIZATION_TYPE_Medicine                           float16\n",
       "ORGANIZATION_TYPE_Military                           float16\n",
       "ORGANIZATION_TYPE_Mobile                             float16\n",
       "ORGANIZATION_TYPE_Other                              float16\n",
       "ORGANIZATION_TYPE_Police                             float16\n",
       "ORGANIZATION_TYPE_Postal                             float16\n",
       "ORGANIZATION_TYPE_Realtor                            float16\n",
       "ORGANIZATION_TYPE_Religion                           float16\n",
       "ORGANIZATION_TYPE_Restaurant                         float16\n",
       "ORGANIZATION_TYPE_School                             float16\n",
       "ORGANIZATION_TYPE_Security                           float16\n",
       "ORGANIZATION_TYPE_Security Ministries                float16\n",
       "ORGANIZATION_TYPE_Self-employed                      float16\n",
       "ORGANIZATION_TYPE_Services                           float16\n",
       "ORGANIZATION_TYPE_Telecom                            float16\n",
       "ORGANIZATION_TYPE_Trade: type 1                      float16\n",
       "ORGANIZATION_TYPE_Trade: type 2                      float16\n",
       "ORGANIZATION_TYPE_Trade: type 3                      float16\n",
       "ORGANIZATION_TYPE_Trade: type 4                      float16\n",
       "ORGANIZATION_TYPE_Trade: type 5                      float16\n",
       "ORGANIZATION_TYPE_Trade: type 6                      float16\n",
       "ORGANIZATION_TYPE_Trade: type 7                      float16\n",
       "ORGANIZATION_TYPE_Transport: type 1                  float16\n",
       "ORGANIZATION_TYPE_Transport: type 2                  float16\n",
       "ORGANIZATION_TYPE_Transport: type 3                  float16\n",
       "ORGANIZATION_TYPE_Transport: type 4                  float16\n",
       "ORGANIZATION_TYPE_University                         float16\n",
       "ORGANIZATION_TYPE_XNA                                float16\n",
       "HOUSETYPE_MODE_XNA                                   float16\n",
       "HOUSETYPE_MODE_block of flats                        float16\n",
       "HOUSETYPE_MODE_specific housing                      float16\n",
       "HOUSETYPE_MODE_terraced house                        float16\n",
       "WALLSMATERIAL_MODE_Block                             float16\n",
       "WALLSMATERIAL_MODE_Mixed                             float16\n",
       "WALLSMATERIAL_MODE_Monolithic                        float16\n",
       "WALLSMATERIAL_MODE_Others                            float16\n",
       "WALLSMATERIAL_MODE_Panel                             float16\n",
       "WALLSMATERIAL_MODE_Stone, brick                      float16\n",
       "WALLSMATERIAL_MODE_Wooden                            float16\n",
       "WALLSMATERIAL_MODE_XNA                               float16\n",
       "dtype: object"
      ]
     },
     "metadata": {},
     "output_type": "display_data"
    },
    {
     "data": {
      "text/html": [
       "<style  type=\"text/css\" >\n",
       "#T_63543_row0_col0,#T_63543_row0_col1{\n",
       "            background-color:  #800000;\n",
       "            color:  #f1f1f1;\n",
       "        }#T_63543_row1_col0,#T_63543_row1_col1{\n",
       "            background-color:  #0000de;\n",
       "            color:  #f1f1f1;\n",
       "        }#T_63543_row2_col0,#T_63543_row2_col1{\n",
       "            background-color:  #00007f;\n",
       "            color:  #f1f1f1;\n",
       "        }#T_63543_row3_col0,#T_63543_row3_col1{\n",
       "            background-color:  #00004f;\n",
       "            color:  #f1f1f1;\n",
       "        }#T_63543_row4_col0,#T_63543_row4_col1{\n",
       "            background-color:  #00004c;\n",
       "            color:  #f1f1f1;\n",
       "        }</style><table id=\"T_63543_\" ><thead>    <tr>        <th class=\"blank level0\" ></th>        <th class=\"col_heading level0 col0\" >Nombre par type de variable</th>        <th class=\"col_heading level0 col1\" >% des types de variable</th>    </tr></thead><tbody>\n",
       "                <tr>\n",
       "                        <th id=\"T_63543_level0_row0\" class=\"row_heading level0 row0\" >float16</th>\n",
       "                        <td id=\"T_63543_row0_col0\" class=\"data row0 col0\" >221</td>\n",
       "                        <td id=\"T_63543_row0_col1\" class=\"data row0 col1\" >77.0000</td>\n",
       "            </tr>\n",
       "            <tr>\n",
       "                        <th id=\"T_63543_level0_row1\" class=\"row_heading level0 row1\" >int8</th>\n",
       "                        <td id=\"T_63543_row1_col0\" class=\"data row1 col0\" >46</td>\n",
       "                        <td id=\"T_63543_row1_col1\" class=\"data row1 col1\" >16.0300</td>\n",
       "            </tr>\n",
       "            <tr>\n",
       "                        <th id=\"T_63543_level0_row2\" class=\"row_heading level0 row2\" >float32</th>\n",
       "                        <td id=\"T_63543_row2_col0\" class=\"data row2 col0\" >17</td>\n",
       "                        <td id=\"T_63543_row2_col1\" class=\"data row2 col1\" >5.9200</td>\n",
       "            </tr>\n",
       "            <tr>\n",
       "                        <th id=\"T_63543_level0_row3\" class=\"row_heading level0 row3\" >int16</th>\n",
       "                        <td id=\"T_63543_row3_col0\" class=\"data row3 col0\" >2</td>\n",
       "                        <td id=\"T_63543_row3_col1\" class=\"data row3 col1\" >0.7000</td>\n",
       "            </tr>\n",
       "            <tr>\n",
       "                        <th id=\"T_63543_level0_row4\" class=\"row_heading level0 row4\" >int32</th>\n",
       "                        <td id=\"T_63543_row4_col0\" class=\"data row4 col0\" >1</td>\n",
       "                        <td id=\"T_63543_row4_col1\" class=\"data row4 col1\" >0.3500</td>\n",
       "            </tr>\n",
       "    </tbody></table>"
      ],
      "text/plain": [
       "<pandas.io.formats.style.Styler at 0x2198a3ffc10>"
      ]
     },
     "metadata": {},
     "output_type": "display_data"
    }
   ],
   "source": [
    "# Types des variables\n",
    "outils_data.get_types_variables(appli_test_imp2, True, True, False)"
   ]
  },
  {
   "cell_type": "code",
   "execution_count": 188,
   "id": "b8fc208a",
   "metadata": {
    "run_control": {
     "marked": false
    }
   },
   "outputs": [
    {
     "name": "stdout",
     "output_type": "stream",
     "text": [
      "appli_test_imp2 : (48744, 287)\n",
      "appli_test_imp2 : (48744, 204)\n"
     ]
    }
   ],
   "source": [
    "# Suppression des variables fortement corrélées\n",
    "print(f'appli_test_imp2 : {appli_test_imp2.shape}')\n",
    "appli_test_imp2.drop(columns=cols_corr2_a_supp,  inplace=True)\n",
    "print(f'appli_test_imp2 : {appli_test_imp2.shape}')"
   ]
  },
  {
   "cell_type": "code",
   "execution_count": 189,
   "id": "c7086609",
   "metadata": {},
   "outputs": [
    {
     "data": {
      "text/plain": [
       "(307507, 207)"
      ]
     },
     "execution_count": 189,
     "metadata": {},
     "output_type": "execute_result"
    }
   ],
   "source": [
    "appli_train_imp2.shape"
   ]
  },
  {
   "cell_type": "code",
   "execution_count": 192,
   "id": "ddf8567e",
   "metadata": {
    "run_control": {
     "marked": false
    }
   },
   "outputs": [
    {
     "data": {
      "text/plain": [
       "(48744, 206)"
      ]
     },
     "execution_count": 192,
     "metadata": {},
     "output_type": "execute_result"
    }
   ],
   "source": [
    "# Manque 2 variables : Valeurs np.nan remplacées par XNA en plus dans\n",
    "# appli_train_imp2 mais pas de np.nan dans appli_test_imp1 :\n",
    "# 'NAME_INCOME_TYPE_XNA'\n",
    "# et 'NAME_FAMILY_STATUS_XNA'\n",
    "# Ajout d'une variable 'NAME_INCOME_TYPE_XNA' avec 0.0 float16\n",
    "appli_test_imp2['NAME_INCOME_TYPE_XNA'] = 0.0\n",
    "appli_test_imp2['NAME_INCOME_TYPE_XNA'].astype('float16')\n",
    "# Ajout d'une variable 'NAME_FAMILY_STATUS_XNA' avec 0.0 float16\n",
    "appli_test_imp2['NAME_FAMILY_STATUS_XNA'] = 0.0\n",
    "appli_test_imp2['NAME_FAMILY_STATUS_XNA'].astype('float16')\n",
    "appli_test_imp2.shape"
   ]
  },
  {
   "cell_type": "code",
   "execution_count": 193,
   "id": "1cac7073",
   "metadata": {
    "run_control": {
     "marked": false
    }
   },
   "outputs": [],
   "source": [
    "# Sauvegarde de appli_test_imp2 nettoyée, encodée, prête pour ML\n",
    "fic_sav_appli_test_imp2 = \\\n",
    "    '../sauvegarde/pre-processing/appli_test_imp2_clean.pickle'\n",
    "with open(fic_sav_appli_test_imp2, 'wb') as f:\n",
    "    pickle.dump(appli_test_imp2, f, pickle.HIGHEST_PROTOCOL)"
   ]
  },
  {
   "cell_type": "markdown",
   "id": "d07eceeb",
   "metadata": {},
   "source": [
    "**Chargement des dataframes nettoyés**"
   ]
  },
  {
   "cell_type": "code",
   "execution_count": 10,
   "id": "b5b4a61d",
   "metadata": {
    "run_control": {
     "marked": true
    }
   },
   "outputs": [
    {
     "data": {
      "text/plain": [
       "(48744, 205)"
      ]
     },
     "execution_count": 10,
     "metadata": {},
     "output_type": "execute_result"
    }
   ],
   "source": [
    "fic_sav_application_test = \\\n",
    "    '../sauvegarde/pre-processing/application_test_clean.pickle'\n",
    "# Chargement de application_test\n",
    "with open(fic_sav_application_test, 'rb') as df_appli_test_clean:\n",
    "    application_test = pickle.load(df_appli_test_clean)\n",
    "application_test.shape"
   ]
  },
  {
   "cell_type": "code",
   "execution_count": 11,
   "id": "1732f119",
   "metadata": {
    "run_control": {
     "marked": true
    }
   },
   "outputs": [
    {
     "data": {
      "text/plain": [
       "(48744, 212)"
      ]
     },
     "execution_count": 11,
     "metadata": {},
     "output_type": "execute_result"
    }
   ],
   "source": [
    "fic_sav_appli_test_imp1 = \\\n",
    "    '../sauvegarde/pre-processing/appli_test_imp1_clean.pickle'\n",
    "# Chargement de appli_test_imp1\n",
    "with open(fic_sav_appli_test_imp1, 'rb') as df_appli_test_1_clean:\n",
    "    appli_test_imp1 = pickle.load(df_appli_test_1_clean)\n",
    "appli_test_imp1.shape"
   ]
  },
  {
   "cell_type": "code",
   "execution_count": 12,
   "id": "2006c834",
   "metadata": {
    "run_control": {
     "marked": true
    }
   },
   "outputs": [
    {
     "data": {
      "text/plain": [
       "(48744, 206)"
      ]
     },
     "execution_count": 12,
     "metadata": {},
     "output_type": "execute_result"
    }
   ],
   "source": [
    "fic_sav_appli_test_imp2 = \\\n",
    "    '../sauvegarde/pre-processing/appli_test_imp2_clean.pickle'\n",
    "# Chargement de appli_test_imp2\n",
    "with open(fic_sav_appli_test_imp2, 'rb') as df_appli_test_2_clean:\n",
    "    appli_test_imp2 = pickle.load(df_appli_test_2_clean)\n",
    "appli_test_imp2.shape"
   ]
  },
  {
   "cell_type": "markdown",
   "id": "6cf25fda",
   "metadata": {},
   "source": [
    "## <span style='background:Thistle'>4. Données des prêts antérieurs chez Home Crédit Group</span>"
   ]
  },
  {
   "cell_type": "code",
   "execution_count": null,
   "id": "666bbaf6",
   "metadata": {},
   "outputs": [],
   "source": []
  },
  {
   "cell_type": "code",
   "execution_count": null,
   "id": "e0e8d296",
   "metadata": {},
   "outputs": [],
   "source": [
    "  "
   ]
  },
  {
   "cell_type": "code",
   "execution_count": null,
   "id": "6a57119d",
   "metadata": {},
   "outputs": [],
   "source": []
  },
  {
   "cell_type": "code",
   "execution_count": null,
   "id": "42716dce",
   "metadata": {},
   "outputs": [],
   "source": []
  },
  {
   "cell_type": "code",
   "execution_count": null,
   "id": "b2f55d14",
   "metadata": {},
   "outputs": [],
   "source": []
  },
  {
   "cell_type": "code",
   "execution_count": null,
   "id": "69f88665",
   "metadata": {},
   "outputs": [],
   "source": []
  },
  {
   "cell_type": "markdown",
   "id": "619f21aa",
   "metadata": {},
   "source": [
    "## <span style='background:Thistle'>5. Données des prêts antérieurs ailleurs que Home Crédit Group</span>"
   ]
  },
  {
   "cell_type": "markdown",
   "id": "40ee0766",
   "metadata": {},
   "source": [
    "Les 2 fichiers concernés par les prêts antérieurs dans d'autres organismes financiers autres que Home Crédit Group sont :\n",
    "    - bureau.csv,\n",
    "    - et bureau_balance.csv."
   ]
  },
  {
   "cell_type": "markdown",
   "id": "e6c2abb1",
   "metadata": {},
   "source": [
    "### <span style='background:PowderBlue'>5.1. Fichiers bureau_balance.csv</span>"
   ]
  },
  {
   "cell_type": "markdown",
   "id": "a4b8bd13",
   "metadata": {},
   "source": [
    "**Présentation**"
   ]
  },
  {
   "cell_type": "markdown",
   "id": "0ad24c3d",
   "metadata": {},
   "source": [
    "| Fichier | Description |\n",
    "| --- | --- |\n",
    "| <p style='text-align: justify;'>**bureau_balance.csv** | <ul style='text-align: justify;'><li>Soldes mensuels des crédits précédents dans Credit Bureau. </li> <li> Ce tableau a une ligne pour chaque mois d'historique de chaque crédit précédent rapporté au Credit Bureau - c'est-à-dire que le tableau a (#prêts dans l'échantillon * # de crédits précédents relatifs * # de mois où nous avons un historique observable pour les crédits précédents) des lignes.</li></ul> |"
   ]
  },
  {
   "cell_type": "markdown",
   "id": "87fd67a7",
   "metadata": {},
   "source": [
    "**Description des variables**"
   ]
  },
  {
   "cell_type": "markdown",
   "id": "c3602d46",
   "metadata": {},
   "source": [
    "| Variable | Description | Liste valeurs |\n",
    "| --- | --- | --- |\n",
    "| <p style='text-align: justify;'>**SK_BUREAU_ID**</p> | <p style='text-align: justify;'>ID recodé du crédit du Credit Bureau (codage unique pour chaque demande) => à utiliser pour rejoindre la table CREDIT_BUREAU.</p> |  |\n",
    "| <p style='text-align: justify;'>**MONTHS_BALANCE**</p> | <p style='text-align: justify;'>Mois du solde par rapport à la date d'application.</p> | <ul style='text-align: justify;'><li>-1 signifie la date de solde la plus récente</li>  <li>Le solde du mois le plus ancien est 96 mois en arrière (8 ans d'historique pour les prêts pour lesquels ils existent</li></ul>|\n",
    "| <p style='text-align: justify;'>**STATUS**</p> | <p style='text-align: justify;'>Statut du prêt du Credit Bureau durant le mois (actif ou fermé ou DPD0-30...)</p> | <ul style='text-align: justify;'><li>C = fermé</li> <li>X = statut inconnu</li> <li>0 = pas de DPD</li> <li>1 = DPD maximal durant le mois entre 1-30</li> <li>2 = DPD 31-60</li> <li>...</li> <li>5 = DPD 120+ ou vendu ou amorti</li></ul> |"
   ]
  },
  {
   "cell_type": "code",
   "execution_count": 13,
   "id": "711c4a01",
   "metadata": {},
   "outputs": [
    {
     "name": "stdout",
     "output_type": "stream",
     "text": [
      "Le jeu de données contient 27299925 lignes et 3 variables.\n"
     ]
    }
   ],
   "source": [
    "# Taille : nombre de lignes/colonnes\n",
    "nRow, nVar = bureau_balance.shape\n",
    "print(f'Le jeu de données contient {nRow} lignes et {nVar} variables.')"
   ]
  },
  {
   "cell_type": "code",
   "execution_count": 14,
   "id": "48c27c01",
   "metadata": {},
   "outputs": [
    {
     "data": {
      "text/plain": [
       "['SK_ID_BUREAU', 'MONTHS_BALANCE']"
      ]
     },
     "execution_count": 14,
     "metadata": {},
     "output_type": "execute_result"
    }
   ],
   "source": [
    "# Variables quantitatives\n",
    "cols_num_bal = bureau_balance.select_dtypes(include=[np.number]).columns \\\n",
    "    .to_list()\n",
    "cols_num_bal"
   ]
  },
  {
   "cell_type": "code",
   "execution_count": 15,
   "id": "4d04a6d5",
   "metadata": {},
   "outputs": [
    {
     "data": {
      "text/plain": [
       "['STATUS']"
      ]
     },
     "execution_count": 15,
     "metadata": {},
     "output_type": "execute_result"
    }
   ],
   "source": [
    "# Variables catégorielles\n",
    "cols_cat_bal = bureau_balance.select_dtypes(exclude=[np.number]).columns \\\n",
    "    .to_list()\n",
    "cols_cat_bal"
   ]
  },
  {
   "cell_type": "code",
   "execution_count": 16,
   "id": "6362911c",
   "metadata": {},
   "outputs": [
    {
     "data": {
      "text/html": [
       "<div>\n",
       "<style scoped>\n",
       "    .dataframe tbody tr th:only-of-type {\n",
       "        vertical-align: middle;\n",
       "    }\n",
       "\n",
       "    .dataframe tbody tr th {\n",
       "        vertical-align: top;\n",
       "    }\n",
       "\n",
       "    .dataframe thead th {\n",
       "        text-align: right;\n",
       "    }\n",
       "</style>\n",
       "<table border=\"1\" class=\"dataframe\">\n",
       "  <thead>\n",
       "    <tr style=\"text-align: right;\">\n",
       "      <th></th>\n",
       "      <th>SK_ID_BUREAU</th>\n",
       "      <th>MONTHS_BALANCE</th>\n",
       "      <th>STATUS</th>\n",
       "    </tr>\n",
       "  </thead>\n",
       "  <tbody>\n",
       "    <tr>\n",
       "      <th>type</th>\n",
       "      <td>int64</td>\n",
       "      <td>int64</td>\n",
       "      <td>object</td>\n",
       "    </tr>\n",
       "    <tr>\n",
       "      <th>nb_nan</th>\n",
       "      <td>0.0</td>\n",
       "      <td>0.0</td>\n",
       "      <td>0.0</td>\n",
       "    </tr>\n",
       "    <tr>\n",
       "      <th>%_nan</th>\n",
       "      <td>0.0</td>\n",
       "      <td>0.0</td>\n",
       "      <td>0.0</td>\n",
       "    </tr>\n",
       "    <tr>\n",
       "      <th>count</th>\n",
       "      <td>27299925.0</td>\n",
       "      <td>27299925.0</td>\n",
       "      <td>27299925</td>\n",
       "    </tr>\n",
       "    <tr>\n",
       "      <th>unique</th>\n",
       "      <td>NaN</td>\n",
       "      <td>NaN</td>\n",
       "      <td>8</td>\n",
       "    </tr>\n",
       "    <tr>\n",
       "      <th>top</th>\n",
       "      <td>NaN</td>\n",
       "      <td>NaN</td>\n",
       "      <td>C</td>\n",
       "    </tr>\n",
       "    <tr>\n",
       "      <th>freq</th>\n",
       "      <td>NaN</td>\n",
       "      <td>NaN</td>\n",
       "      <td>13646993</td>\n",
       "    </tr>\n",
       "    <tr>\n",
       "      <th>mean</th>\n",
       "      <td>6036297.333</td>\n",
       "      <td>-30.7417</td>\n",
       "      <td>NaN</td>\n",
       "    </tr>\n",
       "    <tr>\n",
       "      <th>std</th>\n",
       "      <td>492348.8569</td>\n",
       "      <td>23.8645</td>\n",
       "      <td>NaN</td>\n",
       "    </tr>\n",
       "    <tr>\n",
       "      <th>min</th>\n",
       "      <td>5001709.0</td>\n",
       "      <td>-96.0</td>\n",
       "      <td>NaN</td>\n",
       "    </tr>\n",
       "    <tr>\n",
       "      <th>25%</th>\n",
       "      <td>5730933.0</td>\n",
       "      <td>-46.0</td>\n",
       "      <td>NaN</td>\n",
       "    </tr>\n",
       "    <tr>\n",
       "      <th>50%</th>\n",
       "      <td>6070821.0</td>\n",
       "      <td>-25.0</td>\n",
       "      <td>NaN</td>\n",
       "    </tr>\n",
       "    <tr>\n",
       "      <th>75%</th>\n",
       "      <td>6431951.0</td>\n",
       "      <td>-11.0</td>\n",
       "      <td>NaN</td>\n",
       "    </tr>\n",
       "    <tr>\n",
       "      <th>max</th>\n",
       "      <td>6842888.0</td>\n",
       "      <td>0.0</td>\n",
       "      <td>NaN</td>\n",
       "    </tr>\n",
       "  </tbody>\n",
       "</table>\n",
       "</div>"
      ],
      "text/plain": [
       "       SK_ID_BUREAU MONTHS_BALANCE    STATUS\n",
       "type          int64          int64    object\n",
       "nb_nan          0.0            0.0       0.0\n",
       "%_nan           0.0            0.0       0.0\n",
       "count    27299925.0     27299925.0  27299925\n",
       "unique          NaN            NaN         8\n",
       "top             NaN            NaN         C\n",
       "freq            NaN            NaN  13646993\n",
       "mean    6036297.333       -30.7417       NaN\n",
       "std     492348.8569        23.8645       NaN\n",
       "min       5001709.0          -96.0       NaN\n",
       "25%       5730933.0          -46.0       NaN\n",
       "50%       6070821.0          -25.0       NaN\n",
       "75%       6431951.0          -11.0       NaN\n",
       "max       6842888.0            0.0       NaN"
      ]
     },
     "execution_count": 16,
     "metadata": {},
     "output_type": "execute_result"
    }
   ],
   "source": [
    "# Résumé des variables\n",
    "desc_bureau_bal = outils_data.description_variables(bureau_balance)\n",
    "desc_bureau_bal"
   ]
  },
  {
   "cell_type": "markdown",
   "id": "18efef2f",
   "metadata": {},
   "source": [
    "Pas de valeurs aberrantes dans le tableau des statistiques ni par l'analyse exploratoire."
   ]
  },
  {
   "cell_type": "markdown",
   "id": "17697ff6",
   "metadata": {},
   "source": [
    "#### <span style='background:Moccasin'>5.1.1. Types des objets</span>"
   ]
  },
  {
   "cell_type": "code",
   "execution_count": 17,
   "id": "fc77b482",
   "metadata": {},
   "outputs": [
    {
     "name": "stdout",
     "output_type": "stream",
     "text": [
      "-------------------------------------------------------------\n",
      "Type de variable pour chacune des variables\n",
      "\n"
     ]
    },
    {
     "data": {
      "text/plain": [
       "SK_ID_BUREAU       int64\n",
       "MONTHS_BALANCE     int64\n",
       "STATUS            object\n",
       "dtype: object"
      ]
     },
     "metadata": {},
     "output_type": "display_data"
    },
    {
     "data": {
      "image/png": "[encoded data removed]",
      "text/plain": [
       "<Figure size 432x288 with 1 Axes>"
      ]
     },
     "metadata": {},
     "output_type": "display_data"
    }
   ],
   "source": [
    "# Types des variables\n",
    "outils_data.get_types_variables(bureau_balance, True, False, True)"
   ]
  },
  {
   "cell_type": "code",
   "execution_count": 18,
   "id": "9c99c7cd",
   "metadata": {},
   "outputs": [
    {
     "name": "stdout",
     "output_type": "stream",
     "text": [
      "-------------------------------------------------------------------------------\n",
      "Memory usage du dataframe: 624.85 MB\n",
      "Memory usage après optimization: 338.46 MB\n",
      "Diminution de 45.8%\n",
      "-------------------------------------------------------------------------------\n"
     ]
    }
   ],
   "source": [
    "bureau_balance =\\\n",
    "    outils_preprocessing.reduce_mem_usage(bureau_balance, verbose=True)"
   ]
  },
  {
   "cell_type": "markdown",
   "id": "303c5dbf",
   "metadata": {},
   "source": [
    "#### <span style='background:Moccasin'>5.1.2. Valeurs manquantes</span>"
   ]
  },
  {
   "cell_type": "code",
   "execution_count": 19,
   "id": "ec2e4264",
   "metadata": {},
   "outputs": [
    {
     "name": "stdout",
     "output_type": "stream",
     "text": [
      "Valeurs manquantes : 0 NaN pour 81899775 données (0.0 %)\n",
      "-------------------------------------------------------------\n",
      "Nombre et pourcentage de valeurs manquantes par variable\n",
      "\n"
     ]
    },
    {
     "data": {
      "text/html": [
       "<style  type=\"text/css\" >\n",
       "</style><table id=\"T_78b86_\" ><thead>    <tr>        <th class=\"blank level0\" ></th>        <th class=\"col_heading level0 col0\" >Nombres de valeurs manquantes</th>        <th class=\"col_heading level0 col1\" >% de valeurs manquantes</th>    </tr></thead><tbody>\n",
       "        </tbody></table>"
      ],
      "text/plain": [
       "<pandas.io.formats.style.Styler at 0x2a65c6c56a0>"
      ]
     },
     "metadata": {},
     "output_type": "display_data"
    }
   ],
   "source": [
    "# Valeurs manquantes du dataframe\n",
    "df_nan_bal = outils_data.get_missing_values(bureau_balance,\n",
    "                                            True, False, True)"
   ]
  },
  {
   "cell_type": "markdown",
   "id": "f2995c79",
   "metadata": {},
   "source": [
    "Aucune valeurs manquantes ==> aucune imputation a effectuer."
   ]
  },
  {
   "cell_type": "markdown",
   "id": "4f24c040",
   "metadata": {},
   "source": [
    "#### <span style='background:Moccasin'>5.1.3. Feature engineering</span>"
   ]
  },
  {
   "cell_type": "markdown",
   "id": "517bcd88",
   "metadata": {},
   "source": [
    "[Source](https://github.com/rishabhrao1997/Home-Credit-Default-Risk)"
   ]
  },
  {
   "cell_type": "markdown",
   "id": "06d3d2a2",
   "metadata": {},
   "source": [
    " <span style='background:Plum'>**Variables métiers**</span>"
   ]
  },
  {
   "cell_type": "markdown",
   "id": "fa9203dd",
   "metadata": {},
   "source": [
    "**MONTHS_BALANCE**"
   ]
  },
  {
   "cell_type": "markdown",
   "id": "c25cf715",
   "metadata": {},
   "source": [
    "D'après les statistiques, les valeurs sont négatives (-x mois), elles seront converties positivement."
   ]
  },
  {
   "cell_type": "code",
   "execution_count": 20,
   "id": "736a6042",
   "metadata": {},
   "outputs": [],
   "source": [
    "# Rendre le nombre de mois positif\n",
    "bureau_balance['MONTHS_BALANCE'] = \\\n",
    "       np.abs(bureau_balance['MONTHS_BALANCE'])"
   ]
  },
  {
   "cell_type": "markdown",
   "id": "aced7e66",
   "metadata": {},
   "source": [
    "**STATUS**"
   ]
  },
  {
   "cell_type": "markdown",
   "id": "9687cffb",
   "metadata": {},
   "source": [
    "Statut du prêt du Credit Bureau durant le mois (actif ou fermé ou DPD0-30...) :\n",
    "- C => fermé\n",
    "- X => statut inconnu\n",
    "- 0 => pas de DPD\n",
    "- 1 => DPD maximal durant le mois entre 1-30\n",
    "- 2 signifie DPD 31-60\n",
    "- ../.\n",
    "- 5 ==> DPD 120+ ou vendu ou amorti ]\n",
    "\n",
    "L'encodage consistera à donner à la valeur 0 puis d'incrémenter les valeurs, en plaçant X, la valeur inconnue au milieu du tableau des valeurs en lui donnant le bénéfice du doute et 0 pour 0 pas de défaillance."
   ]
  },
  {
   "cell_type": "code",
   "execution_count": 21,
   "id": "b4fd0a8e",
   "metadata": {},
   "outputs": [],
   "source": [
    "# Encodage status\n",
    "dict_status = {'C': 0, '0': 0, '1': 1, '2': 2, 'X': 3, '3': 4,\n",
    "               '4': 5, '5': 6}\n",
    "bureau_balance['STATUS'] = bureau_balance['STATUS'].map(dict_status)"
   ]
  },
  {
   "cell_type": "markdown",
   "id": "c7062998",
   "metadata": {},
   "source": [
    "**Ratio STATUS/MONTHS_BALANCE**"
   ]
  },
  {
   "cell_type": "code",
   "execution_count": 22,
   "id": "1a899a1e",
   "metadata": {},
   "outputs": [],
   "source": [
    "# Ajout d'une variable du ratio du status par mois\n",
    "bureau_balance['STATUS_MONTHS_RATIO'] = bureau_balance.STATUS / \\\n",
    "    (bureau_balance.MONTHS_BALANCE + 1)"
   ]
  },
  {
   "cell_type": "markdown",
   "id": "c1645bfd",
   "metadata": {},
   "source": [
    " <span style='background:Plum'>**Variables statistiques automatiques**</span>"
   ]
  },
  {
   "cell_type": "markdown",
   "id": "6d37aa34",
   "metadata": {},
   "source": [
    "Création des variables statistiques mean, max, min, last, first..."
   ]
  },
  {
   "cell_type": "code",
   "execution_count": 23,
   "id": "bd75d7aa",
   "metadata": {},
   "outputs": [],
   "source": [
    "%pycodestyle_off"
   ]
  },
  {
   "cell_type": "code",
   "execution_count": 38,
   "id": "e54f4a42",
   "metadata": {},
   "outputs": [
    {
     "name": "stdout",
     "output_type": "stream",
     "text": [
      "(817395, 12)\n"
     ]
    },
    {
     "data": {
      "text/html": [
       "<div>\n",
       "<style scoped>\n",
       "    .dataframe tbody tr th:only-of-type {\n",
       "        vertical-align: middle;\n",
       "    }\n",
       "\n",
       "    .dataframe tbody tr th {\n",
       "        vertical-align: top;\n",
       "    }\n",
       "\n",
       "    .dataframe thead th {\n",
       "        text-align: right;\n",
       "    }\n",
       "</style>\n",
       "<table border=\"1\" class=\"dataframe\">\n",
       "  <thead>\n",
       "    <tr style=\"text-align: right;\">\n",
       "      <th></th>\n",
       "      <th>SK_ID_BUREAU</th>\n",
       "      <th>BUREAU_BALANCE_MONTHS_BALANCE_MIN</th>\n",
       "      <th>BUREAU_BALANCE_MONTHS_BALANCE_MAX</th>\n",
       "      <th>BUREAU_BALANCE_MONTHS_BALANCE_MEAN</th>\n",
       "      <th>BUREAU_BALANCE_MONTHS_BALANCE_SUM</th>\n",
       "      <th>BUREAU_BALANCE_STATUS_MAX</th>\n",
       "      <th>BUREAU_BALANCE_STATUS_MEAN</th>\n",
       "      <th>BUREAU_BALANCE_STATUS_LAST</th>\n",
       "      <th>BUREAU_BALANCE_STATUS_SUM</th>\n",
       "      <th>BUREAU_BALANCE_STATUS_MONTHS_RATIO_MEAN</th>\n",
       "      <th>BUREAU_BALANCE_STATUS_MONTHS_RATIO_SUM</th>\n",
       "      <th>BUREAU_BALANCE_STATUS_MONTHS_RATIO_LAST</th>\n",
       "    </tr>\n",
       "  </thead>\n",
       "  <tbody>\n",
       "    <tr>\n",
       "      <th>0</th>\n",
       "      <td>5001709</td>\n",
       "      <td>0</td>\n",
       "      <td>96</td>\n",
       "      <td>48.0</td>\n",
       "      <td>4656.0</td>\n",
       "      <td>3</td>\n",
       "      <td>0.3402</td>\n",
       "      <td>3</td>\n",
       "      <td>33</td>\n",
       "      <td>0.0037</td>\n",
       "      <td>0.3591</td>\n",
       "      <td>0.0309</td>\n",
       "    </tr>\n",
       "    <tr>\n",
       "      <th>1</th>\n",
       "      <td>5001710</td>\n",
       "      <td>0</td>\n",
       "      <td>82</td>\n",
       "      <td>41.0</td>\n",
       "      <td>3403.0</td>\n",
       "      <td>3</td>\n",
       "      <td>1.0843</td>\n",
       "      <td>3</td>\n",
       "      <td>90</td>\n",
       "      <td>0.0161</td>\n",
       "      <td>1.3399</td>\n",
       "      <td>0.0361</td>\n",
       "    </tr>\n",
       "    <tr>\n",
       "      <th>2</th>\n",
       "      <td>5001711</td>\n",
       "      <td>0</td>\n",
       "      <td>3</td>\n",
       "      <td>1.5</td>\n",
       "      <td>6.0</td>\n",
       "      <td>3</td>\n",
       "      <td>0.7500</td>\n",
       "      <td>0</td>\n",
       "      <td>3</td>\n",
       "      <td>0.7500</td>\n",
       "      <td>3.0000</td>\n",
       "      <td>0.0000</td>\n",
       "    </tr>\n",
       "    <tr>\n",
       "      <th>3</th>\n",
       "      <td>5001712</td>\n",
       "      <td>0</td>\n",
       "      <td>18</td>\n",
       "      <td>9.0</td>\n",
       "      <td>171.0</td>\n",
       "      <td>0</td>\n",
       "      <td>0.0000</td>\n",
       "      <td>0</td>\n",
       "      <td>0</td>\n",
       "      <td>0.0000</td>\n",
       "      <td>0.0000</td>\n",
       "      <td>0.0000</td>\n",
       "    </tr>\n",
       "    <tr>\n",
       "      <th>4</th>\n",
       "      <td>5001713</td>\n",
       "      <td>0</td>\n",
       "      <td>21</td>\n",
       "      <td>10.5</td>\n",
       "      <td>231.0</td>\n",
       "      <td>3</td>\n",
       "      <td>3.0000</td>\n",
       "      <td>3</td>\n",
       "      <td>66</td>\n",
       "      <td>0.5033</td>\n",
       "      <td>11.0724</td>\n",
       "      <td>0.1364</td>\n",
       "    </tr>\n",
       "  </tbody>\n",
       "</table>\n",
       "</div>"
      ],
      "text/plain": [
       "   SK_ID_BUREAU  BUREAU_BALANCE_MONTHS_BALANCE_MIN  BUREAU_BALANCE_MONTHS_BALANCE_MAX  BUREAU_BALANCE_MONTHS_BALANCE_MEAN  BUREAU_BALANCE_MONTHS_BALANCE_SUM  BUREAU_BALANCE_STATUS_MAX  BUREAU_BALANCE_STATUS_MEAN  BUREAU_BALANCE_STATUS_LAST  BUREAU_BALANCE_STATUS_SUM  \\\n",
       "0       5001709                                  0                                 96                                48.0                             4656.0                          3                      0.3402                           3                         33   \n",
       "1       5001710                                  0                                 82                                41.0                             3403.0                          3                      1.0843                           3                         90   \n",
       "2       5001711                                  0                                  3                                 1.5                                6.0                          3                      0.7500                           0                          3   \n",
       "3       5001712                                  0                                 18                                 9.0                              171.0                          0                      0.0000                           0                          0   \n",
       "4       5001713                                  0                                 21                                10.5                              231.0                          3                      3.0000                           3                         66   \n",
       "\n",
       "   BUREAU_BALANCE_STATUS_MONTHS_RATIO_MEAN  BUREAU_BALANCE_STATUS_MONTHS_RATIO_SUM  BUREAU_BALANCE_STATUS_MONTHS_RATIO_LAST  \n",
       "0                                   0.0037                                  0.3591                                   0.0309  \n",
       "1                                   0.0161                                  1.3399                                   0.0361  \n",
       "2                                   0.7500                                  3.0000                                   0.0000  \n",
       "3                                   0.0000                                  0.0000                                   0.0000  \n",
       "4                                   0.5033                                 11.0724                                   0.1364  "
      ]
     },
     "execution_count": 38,
     "metadata": {},
     "output_type": "execute_result"
    }
   ],
   "source": [
    "# Ajout des variables de statistiques\n",
    "dico_agg_bal = {'MONTHS_BALANCE': ['min', 'max', 'mean', 'sum'],\n",
    "                'STATUS': ['max', 'mean', 'last','sum'],\n",
    "                'STATUS_MONTHS_RATIO' : ['mean', 'sum', 'last']\n",
    "}\n",
    "\n",
    "agg_bureau_balance = \\\n",
    "    outils_preprocessing.agg_var_num(bureau_balance, 'SK_ID_BUREAU',\n",
    "                                     dico_agg_bal, 'BUREAU_BALANCE')\n",
    "print(f'{agg_bureau_balance.shape}')\n",
    "agg_bureau_balance.head()"
   ]
  },
  {
   "cell_type": "code",
   "execution_count": 44,
   "id": "461306fd",
   "metadata": {},
   "outputs": [
    {
     "name": "stdout",
     "output_type": "stream",
     "text": [
      "Valeurs manquantes : 0 NaN pour 9808740 données (0.0 %)\n"
     ]
    }
   ],
   "source": [
    "# Valeurs manquantes ?\n",
    "outils_data.get_missing_values(agg_bureau_balance, False, False, False)"
   ]
  },
  {
   "cell_type": "code",
   "execution_count": 40,
   "id": "83a41511",
   "metadata": {
    "run_control": {
     "marked": false
    }
   },
   "outputs": [
    {
     "name": "stdout",
     "output_type": "stream",
     "text": [
      "-------------------------------------------------------------------------------\n",
      "Memory usage du dataframe: 63.92 MB\n",
      "Memory usage après optimization: 17.15 MB\n",
      "Diminution de 73.2%\n",
      "-------------------------------------------------------------------------------\n"
     ]
    }
   ],
   "source": [
    "# Réduction de l'utilisation de la mémoire\n",
    "agg_bureau_balance =\\\n",
    "    outils_preprocessing.reduce_mem_usage(agg_bureau_balance,\n",
    "                                          verbose=True)"
   ]
  },
  {
   "cell_type": "markdown",
   "id": "23ad6af5",
   "metadata": {},
   "source": [
    "### <span style='background:PowderBlue'>5.2. Fichiers bureau.csv</span>"
   ]
  },
  {
   "cell_type": "markdown",
   "id": "00df9e50",
   "metadata": {},
   "source": [
    "| Fichier | Description |\n",
    "| --- | --- |\n",
    "|  <p style='text-align: justify;'>**bureau.csv** |  <ul style='text-align: justify;'><li>Tous les crédits précédents du client fournis par d'autres institutions financières qui ont été rapportés au Credit Bureau (pour les clients qui ont un prêt dans notre échantillon). </li> <li> Pour chaque prêt de notre échantillon, il y a autant de lignes que le nombre de crédits que le client avait dans le Credit Bureau avant la date de la demande.</li> |"
   ]
  },
  {
   "cell_type": "markdown",
   "id": "6bfc4914",
   "metadata": {},
   "source": [
    "**Description des variables**"
   ]
  },
  {
   "cell_type": "markdown",
   "id": "173f70fe",
   "metadata": {},
   "source": [
    "| Variable | Description | Liste valeurs |\n",
    "| --- | --- | --- |\n",
    "| <p style='text-align: justify;'>**SK_ID_CURR**</p> | <ul style='text-align: left;'><li>ID du prêt dans notre échantillon</li> <li>Un prêt dans notre échantillon peut avoir 0, 1, 2 ou plus de crédits précédents liés dans le bureau de crédit.</li></ul> |  |\n",
    "| <p style='text-align: justify;'>**SK_BUREAU_ID**</p> | <p style='text-align: justify;'>ID recodé du crédit précédent du Credit Bureau lié à notre prêt (codage unique pour chaque demande de prêt)</p> |  |\n",
    "| <p style='text-align: justify;'>**CREDIT_ACTIVE**</p> | <p style='text-align: justify;'>Statut des crédits déclarés par le Credit Bureau (CB)</p> | <ul style='text-align: justify;'><li>Closed</li> <li>Active</li> <li>Sold</li> <li>Bad debt</li></ul> |\n",
    "| <p style='text-align: justify;'>**CREDIT_CURRENCY**</p> | <p style='text-align: justify;'>Devise recodée du crédit du Credit Bureau</p> | <ul style='text-align: justify;'><li>currency 1</li> <li>currency 2</li> <li>currency 3</li> <li>currency 4</li></ul>  |\n",
    "| <p style='text-align: justify;'>**DAYS_CREDIT**</p> | <p style='text-align: justify;'>Combien de jours avant la demande actuelle le client a-t-il demandé un crédit au Credit Bureau ?</p> |  |\n",
    "| <p style='text-align: justify;'>**CREDIT_DAY_OVERDUE**</p> | <p style='text-align: justify;'>Nombre de jours de retard sur le crédit CB au moment de la demande de prêt liée à notre échantillon.</p> |  |\n",
    "| <p style='text-align: justify;'>**DAYS_CREDIT_ENDDATE**</p> | <p style='text-align: justify;'>Durée restante du crédit CB (en jours) au moment de la demande dans Crédit immobilier</p> |  |\n",
    "| <p style='text-align: justify;'>**DAYS_ENDDATE_FACT**</p> | <p style='text-align: justify;'>Jours depuis la fin du crédit CB au moment de la demande dans le crédit domestique (uniquement pour les crédits fermés).</p> |  |\n",
    "| <p style='text-align: justify;'>**AMT_CREDIT_MAX_OVERDUE**</p> | <p style='text-align: justify;'>Montant maximal des impayés sur le crédit du Credit Bureau jusqu'à présent (à la date de demande du prêt dans notre échantillon).</p> |  |\n",
    "| <p style='text-align: justify;'>**CNT_CREDIT_PROLONG**</p> | <p style='text-align: justify;'>Combien de fois le crédit du Bureau de crédit a-t-il été prolongé ?</p> |  |\n",
    "| <p style='text-align: justify;'>**AMT_CREDIT_SUM**</p> | <p style='text-align: justify;'>Montant actuel du crédit du Credit Bureau.</p> |  |\n",
    "| <p style='text-align: justify;'>**AMT_CREDIT_SUM_DEBT**</p> | <p style='text-align: justify;'>Dette actuelle sur le crédit du Credit Bureau.</p> |  |\n",
    "| <p style='text-align: justify;'>**AMT_CREDIT_SUM_LIMIT**</p> | <p style='text-align: justify;'>Limite de crédit actuelle de la carte de crédit déclarée dans le Bureau de crédit.</p> |  |\n",
    "| <p style='text-align: justify;'>**AMT_CREDIT_SUM_OVERDUE**</p> | <p style='text-align: justify;'>Montant actuel en retard sur le crédit du Bureau de crédit.</p> |  |\n",
    "| <p style='text-align: justify;'>**CREDIT_TYPE**</p> | <p style='text-align: justify;'>Type de crédit du Bureau de crédit (voiture ou argent liquide...)</p> | <ul style='text-align: justify;'><li>Credit card</li> <li>Consumer credit</li> <li>Loan for business development</li> <li>Microloan</li> <li>Mortgage</li> <li>Car loan</li> <li>Loan for working capital replenishment</li> <li>Another type of loan</li> <li>Unknown type of loan</li> <li>Loan for the purchase of equipment</li> <li>Cash loan (non-earmarked)</li> <li>Real estate loan</li> <li>Interbank credit</li> <li>Loan for purchase of shares (margin lending)</li> <li>Mobile operator loan</li></ul> |\n",
    "| <p style='text-align: justify;'>**DAYS_CREDIT_UPDATE**</p> | <p style='text-align: justify;'>Combien de jours avant la demande de prêt la dernière information sur la solvabilité du Credit Bureau a-t-elle été fournie ?</p> |  |\n",
    "| <p style='text-align: justify;'>**AMT_ANNUITY**</p> | <p style='text-align: justify;'>Annuité du crédit du Credit Bureau\t</p> |  |"
   ]
  },
  {
   "cell_type": "code",
   "execution_count": 13,
   "id": "229fbf35",
   "metadata": {},
   "outputs": [
    {
     "name": "stdout",
     "output_type": "stream",
     "text": [
      "Le jeu de données contient 27299925 lignes et 3 variables.\n"
     ]
    }
   ],
   "source": [
    "# Taille : nombre de lignes/colonnes\n",
    "nRow, nVar = bureau_balance.shape\n",
    "print(f'Le jeu de données contient {nRow} lignes et {nVar} variables.')"
   ]
  },
  {
   "cell_type": "code",
   "execution_count": 14,
   "id": "65da6be5",
   "metadata": {},
   "outputs": [
    {
     "data": {
      "text/plain": [
       "['SK_ID_BUREAU', 'MONTHS_BALANCE']"
      ]
     },
     "execution_count": 14,
     "metadata": {},
     "output_type": "execute_result"
    }
   ],
   "source": [
    "# Variables quantitatives\n",
    "cols_num_bal = bureau_balance.select_dtypes(include=[np.number]).columns \\\n",
    "    .to_list()\n",
    "cols_num_bal"
   ]
  },
  {
   "cell_type": "code",
   "execution_count": 15,
   "id": "b63927a4",
   "metadata": {},
   "outputs": [
    {
     "data": {
      "text/plain": [
       "['STATUS']"
      ]
     },
     "execution_count": 15,
     "metadata": {},
     "output_type": "execute_result"
    }
   ],
   "source": [
    "# Variables catégorielles\n",
    "cols_cat_bal = bureau_balance.select_dtypes(exclude=[np.number]).columns \\\n",
    "    .to_list()\n",
    "cols_cat_bal"
   ]
  },
  {
   "cell_type": "code",
   "execution_count": 16,
   "id": "9ab8efe4",
   "metadata": {},
   "outputs": [
    {
     "data": {
      "text/html": [
       "<div>\n",
       "<style scoped>\n",
       "    .dataframe tbody tr th:only-of-type {\n",
       "        vertical-align: middle;\n",
       "    }\n",
       "\n",
       "    .dataframe tbody tr th {\n",
       "        vertical-align: top;\n",
       "    }\n",
       "\n",
       "    .dataframe thead th {\n",
       "        text-align: right;\n",
       "    }\n",
       "</style>\n",
       "<table border=\"1\" class=\"dataframe\">\n",
       "  <thead>\n",
       "    <tr style=\"text-align: right;\">\n",
       "      <th></th>\n",
       "      <th>SK_ID_BUREAU</th>\n",
       "      <th>MONTHS_BALANCE</th>\n",
       "      <th>STATUS</th>\n",
       "    </tr>\n",
       "  </thead>\n",
       "  <tbody>\n",
       "    <tr>\n",
       "      <th>type</th>\n",
       "      <td>int64</td>\n",
       "      <td>int64</td>\n",
       "      <td>object</td>\n",
       "    </tr>\n",
       "    <tr>\n",
       "      <th>nb_nan</th>\n",
       "      <td>0.0</td>\n",
       "      <td>0.0</td>\n",
       "      <td>0.0</td>\n",
       "    </tr>\n",
       "    <tr>\n",
       "      <th>%_nan</th>\n",
       "      <td>0.0</td>\n",
       "      <td>0.0</td>\n",
       "      <td>0.0</td>\n",
       "    </tr>\n",
       "    <tr>\n",
       "      <th>count</th>\n",
       "      <td>27299925.0</td>\n",
       "      <td>27299925.0</td>\n",
       "      <td>27299925</td>\n",
       "    </tr>\n",
       "    <tr>\n",
       "      <th>unique</th>\n",
       "      <td>NaN</td>\n",
       "      <td>NaN</td>\n",
       "      <td>8</td>\n",
       "    </tr>\n",
       "    <tr>\n",
       "      <th>top</th>\n",
       "      <td>NaN</td>\n",
       "      <td>NaN</td>\n",
       "      <td>C</td>\n",
       "    </tr>\n",
       "    <tr>\n",
       "      <th>freq</th>\n",
       "      <td>NaN</td>\n",
       "      <td>NaN</td>\n",
       "      <td>13646993</td>\n",
       "    </tr>\n",
       "    <tr>\n",
       "      <th>mean</th>\n",
       "      <td>6036297.333</td>\n",
       "      <td>-30.7417</td>\n",
       "      <td>NaN</td>\n",
       "    </tr>\n",
       "    <tr>\n",
       "      <th>std</th>\n",
       "      <td>492348.8569</td>\n",
       "      <td>23.8645</td>\n",
       "      <td>NaN</td>\n",
       "    </tr>\n",
       "    <tr>\n",
       "      <th>min</th>\n",
       "      <td>5001709.0</td>\n",
       "      <td>-96.0</td>\n",
       "      <td>NaN</td>\n",
       "    </tr>\n",
       "    <tr>\n",
       "      <th>25%</th>\n",
       "      <td>5730933.0</td>\n",
       "      <td>-46.0</td>\n",
       "      <td>NaN</td>\n",
       "    </tr>\n",
       "    <tr>\n",
       "      <th>50%</th>\n",
       "      <td>6070821.0</td>\n",
       "      <td>-25.0</td>\n",
       "      <td>NaN</td>\n",
       "    </tr>\n",
       "    <tr>\n",
       "      <th>75%</th>\n",
       "      <td>6431951.0</td>\n",
       "      <td>-11.0</td>\n",
       "      <td>NaN</td>\n",
       "    </tr>\n",
       "    <tr>\n",
       "      <th>max</th>\n",
       "      <td>6842888.0</td>\n",
       "      <td>0.0</td>\n",
       "      <td>NaN</td>\n",
       "    </tr>\n",
       "  </tbody>\n",
       "</table>\n",
       "</div>"
      ],
      "text/plain": [
       "       SK_ID_BUREAU MONTHS_BALANCE    STATUS\n",
       "type          int64          int64    object\n",
       "nb_nan          0.0            0.0       0.0\n",
       "%_nan           0.0            0.0       0.0\n",
       "count    27299925.0     27299925.0  27299925\n",
       "unique          NaN            NaN         8\n",
       "top             NaN            NaN         C\n",
       "freq            NaN            NaN  13646993\n",
       "mean    6036297.333       -30.7417       NaN\n",
       "std     492348.8569        23.8645       NaN\n",
       "min       5001709.0          -96.0       NaN\n",
       "25%       5730933.0          -46.0       NaN\n",
       "50%       6070821.0          -25.0       NaN\n",
       "75%       6431951.0          -11.0       NaN\n",
       "max       6842888.0            0.0       NaN"
      ]
     },
     "execution_count": 16,
     "metadata": {},
     "output_type": "execute_result"
    }
   ],
   "source": [
    "# Résumé des variables\n",
    "desc_bureau_bal = outils_data.description_variables(bureau_balance)\n",
    "desc_bureau_bal"
   ]
  },
  {
   "cell_type": "markdown",
   "id": "46c7d047",
   "metadata": {},
   "source": [
    "Pas de valeurs aberrantes dans le tableau des statistiques ni par l'analyse exploratoire."
   ]
  },
  {
   "cell_type": "markdown",
   "id": "9be9ddc7",
   "metadata": {},
   "source": [
    "#### <span style='background:Moccasin'>5.1.1. Types des objets</span>"
   ]
  },
  {
   "cell_type": "code",
   "execution_count": 17,
   "id": "38123b1c",
   "metadata": {},
   "outputs": [
    {
     "name": "stdout",
     "output_type": "stream",
     "text": [
      "-------------------------------------------------------------\n",
      "Type de variable pour chacune des variables\n",
      "\n"
     ]
    },
    {
     "data": {
      "text/plain": [
       "SK_ID_BUREAU       int64\n",
       "MONTHS_BALANCE     int64\n",
       "STATUS            object\n",
       "dtype: object"
      ]
     },
     "metadata": {},
     "output_type": "display_data"
    },
    {
     "data": {
      "image/png": "[encoded data removed]",
      "text/plain": [
       "<Figure size 432x288 with 1 Axes>"
      ]
     },
     "metadata": {},
     "output_type": "display_data"
    }
   ],
   "source": [
    "# Types des variables\n",
    "outils_data.get_types_variables(bureau_balance, True, False, True)"
   ]
  },
  {
   "cell_type": "code",
   "execution_count": 18,
   "id": "0191585f",
   "metadata": {},
   "outputs": [
    {
     "name": "stdout",
     "output_type": "stream",
     "text": [
      "-------------------------------------------------------------------------------\n",
      "Memory usage du dataframe: 624.85 MB\n",
      "Memory usage après optimization: 338.46 MB\n",
      "Diminution de 45.8%\n",
      "-------------------------------------------------------------------------------\n"
     ]
    }
   ],
   "source": [
    "bureau_balance =\\\n",
    "    outils_preprocessing.reduce_mem_usage(bureau_balance, verbose=True)"
   ]
  },
  {
   "cell_type": "markdown",
   "id": "b4cbbebf",
   "metadata": {},
   "source": [
    "#### <span style='background:Moccasin'>5.1.2. Valeurs manquantes</span>"
   ]
  },
  {
   "cell_type": "code",
   "execution_count": 19,
   "id": "ddc05c1b",
   "metadata": {},
   "outputs": [
    {
     "name": "stdout",
     "output_type": "stream",
     "text": [
      "Valeurs manquantes : 0 NaN pour 81899775 données (0.0 %)\n",
      "-------------------------------------------------------------\n",
      "Nombre et pourcentage de valeurs manquantes par variable\n",
      "\n"
     ]
    },
    {
     "data": {
      "text/html": [
       "<style  type=\"text/css\" >\n",
       "</style><table id=\"T_78b86_\" ><thead>    <tr>        <th class=\"blank level0\" ></th>        <th class=\"col_heading level0 col0\" >Nombres de valeurs manquantes</th>        <th class=\"col_heading level0 col1\" >% de valeurs manquantes</th>    </tr></thead><tbody>\n",
       "        </tbody></table>"
      ],
      "text/plain": [
       "<pandas.io.formats.style.Styler at 0x2a65c6c56a0>"
      ]
     },
     "metadata": {},
     "output_type": "display_data"
    }
   ],
   "source": [
    "# Valeurs manquantes du dataframe\n",
    "df_nan_bal = outils_data.get_missing_values(bureau_balance,\n",
    "                                            True, False, True)"
   ]
  },
  {
   "cell_type": "markdown",
   "id": "a6d3783e",
   "metadata": {},
   "source": [
    "Aucune valeurs manquantes ==> aucune imputation a effectuer."
   ]
  },
  {
   "cell_type": "markdown",
   "id": "39329962",
   "metadata": {},
   "source": [
    "#### <span style='background:Moccasin'>5.1.3. Feature engineering</span>"
   ]
  },
  {
   "cell_type": "markdown",
   "id": "8e577a10",
   "metadata": {},
   "source": [
    "[Source](https://github.com/rishabhrao1997/Home-Credit-Default-Risk)"
   ]
  },
  {
   "cell_type": "markdown",
   "id": "894e0dd9",
   "metadata": {},
   "source": [
    " <span style='background:Plum'>**Variables métiers**</span>"
   ]
  },
  {
   "cell_type": "markdown",
   "id": "01c8bc58",
   "metadata": {},
   "source": [
    "**MONTHS_BALANCE**"
   ]
  },
  {
   "cell_type": "markdown",
   "id": "fcbcbfa7",
   "metadata": {},
   "source": [
    "D'après les statistiques, les valeurs sont négatives (-x mois), elles seront converties positivement."
   ]
  },
  {
   "cell_type": "code",
   "execution_count": 20,
   "id": "2d23517e",
   "metadata": {},
   "outputs": [],
   "source": [
    "# Rendre le nombre de mois positif\n",
    "bureau_balance['MONTHS_BALANCE'] = \\\n",
    "       np.abs(bureau_balance['MONTHS_BALANCE'])"
   ]
  },
  {
   "cell_type": "markdown",
   "id": "75329f53",
   "metadata": {},
   "source": [
    "**STATUS**"
   ]
  },
  {
   "cell_type": "markdown",
   "id": "fe479c5a",
   "metadata": {},
   "source": [
    "Statut du prêt du Credit Bureau durant le mois (actif ou fermé ou DPD0-30...) :\n",
    "- C => fermé\n",
    "- X => statut inconnu\n",
    "- 0 => pas de DPD\n",
    "- 1 => DPD maximal durant le mois entre 1-30\n",
    "- 2 signifie DPD 31-60\n",
    "- ../.\n",
    "- 5 ==> DPD 120+ ou vendu ou amorti ]\n",
    "\n",
    "L'encodage consistera à donner à la valeur 0 puis d'incrémenter les valeurs, en plaçant X, la valeur inconnue au milieu du tableau des valeurs en lui donnant le bénéfice du doute et 0 pour 0 pas de défaillance."
   ]
  },
  {
   "cell_type": "code",
   "execution_count": 21,
   "id": "1abf0727",
   "metadata": {},
   "outputs": [],
   "source": [
    "# Encodage status\n",
    "dict_status = {'C': 0, '0': 0, '1': 1, '2': 2, 'X': 3, '3': 4,\n",
    "               '4': 5, '5': 6}\n",
    "bureau_balance['STATUS'] = bureau_balance['STATUS'].map(dict_status)"
   ]
  },
  {
   "cell_type": "markdown",
   "id": "d5d0ef49",
   "metadata": {},
   "source": [
    "**Ratio STATUS/MONTHS_BALANCE**"
   ]
  },
  {
   "cell_type": "code",
   "execution_count": 22,
   "id": "075e2446",
   "metadata": {},
   "outputs": [],
   "source": [
    "# Ajout d'une variable du ratio du status par mois\n",
    "bureau_balance['STATUS_MONTHS_RATIO'] = bureau_balance.STATUS / \\\n",
    "    (bureau_balance.MONTHS_BALANCE + 1)"
   ]
  },
  {
   "cell_type": "markdown",
   "id": "63ecb541",
   "metadata": {},
   "source": [
    " <span style='background:Plum'>**Variables statistiques automatiques**</span>"
   ]
  },
  {
   "cell_type": "markdown",
   "id": "f929ceef",
   "metadata": {},
   "source": [
    "Création des variables statistiques mean, max, min, last, first..."
   ]
  },
  {
   "cell_type": "code",
   "execution_count": 23,
   "id": "f558fcd0",
   "metadata": {},
   "outputs": [],
   "source": [
    "%pycodestyle_off"
   ]
  },
  {
   "cell_type": "code",
   "execution_count": 38,
   "id": "dfda4a33",
   "metadata": {},
   "outputs": [
    {
     "name": "stdout",
     "output_type": "stream",
     "text": [
      "(817395, 12)\n"
     ]
    },
    {
     "data": {
      "text/html": [
       "<div>\n",
       "<style scoped>\n",
       "    .dataframe tbody tr th:only-of-type {\n",
       "        vertical-align: middle;\n",
       "    }\n",
       "\n",
       "    .dataframe tbody tr th {\n",
       "        vertical-align: top;\n",
       "    }\n",
       "\n",
       "    .dataframe thead th {\n",
       "        text-align: right;\n",
       "    }\n",
       "</style>\n",
       "<table border=\"1\" class=\"dataframe\">\n",
       "  <thead>\n",
       "    <tr style=\"text-align: right;\">\n",
       "      <th></th>\n",
       "      <th>SK_ID_BUREAU</th>\n",
       "      <th>BUREAU_BALANCE_MONTHS_BALANCE_MIN</th>\n",
       "      <th>BUREAU_BALANCE_MONTHS_BALANCE_MAX</th>\n",
       "      <th>BUREAU_BALANCE_MONTHS_BALANCE_MEAN</th>\n",
       "      <th>BUREAU_BALANCE_MONTHS_BALANCE_SUM</th>\n",
       "      <th>BUREAU_BALANCE_STATUS_MAX</th>\n",
       "      <th>BUREAU_BALANCE_STATUS_MEAN</th>\n",
       "      <th>BUREAU_BALANCE_STATUS_LAST</th>\n",
       "      <th>BUREAU_BALANCE_STATUS_SUM</th>\n",
       "      <th>BUREAU_BALANCE_STATUS_MONTHS_RATIO_MEAN</th>\n",
       "      <th>BUREAU_BALANCE_STATUS_MONTHS_RATIO_SUM</th>\n",
       "      <th>BUREAU_BALANCE_STATUS_MONTHS_RATIO_LAST</th>\n",
       "    </tr>\n",
       "  </thead>\n",
       "  <tbody>\n",
       "    <tr>\n",
       "      <th>0</th>\n",
       "      <td>5001709</td>\n",
       "      <td>0</td>\n",
       "      <td>96</td>\n",
       "      <td>48.0</td>\n",
       "      <td>4656.0</td>\n",
       "      <td>3</td>\n",
       "      <td>0.3402</td>\n",
       "      <td>3</td>\n",
       "      <td>33</td>\n",
       "      <td>0.0037</td>\n",
       "      <td>0.3591</td>\n",
       "      <td>0.0309</td>\n",
       "    </tr>\n",
       "    <tr>\n",
       "      <th>1</th>\n",
       "      <td>5001710</td>\n",
       "      <td>0</td>\n",
       "      <td>82</td>\n",
       "      <td>41.0</td>\n",
       "      <td>3403.0</td>\n",
       "      <td>3</td>\n",
       "      <td>1.0843</td>\n",
       "      <td>3</td>\n",
       "      <td>90</td>\n",
       "      <td>0.0161</td>\n",
       "      <td>1.3399</td>\n",
       "      <td>0.0361</td>\n",
       "    </tr>\n",
       "    <tr>\n",
       "      <th>2</th>\n",
       "      <td>5001711</td>\n",
       "      <td>0</td>\n",
       "      <td>3</td>\n",
       "      <td>1.5</td>\n",
       "      <td>6.0</td>\n",
       "      <td>3</td>\n",
       "      <td>0.7500</td>\n",
       "      <td>0</td>\n",
       "      <td>3</td>\n",
       "      <td>0.7500</td>\n",
       "      <td>3.0000</td>\n",
       "      <td>0.0000</td>\n",
       "    </tr>\n",
       "    <tr>\n",
       "      <th>3</th>\n",
       "      <td>5001712</td>\n",
       "      <td>0</td>\n",
       "      <td>18</td>\n",
       "      <td>9.0</td>\n",
       "      <td>171.0</td>\n",
       "      <td>0</td>\n",
       "      <td>0.0000</td>\n",
       "      <td>0</td>\n",
       "      <td>0</td>\n",
       "      <td>0.0000</td>\n",
       "      <td>0.0000</td>\n",
       "      <td>0.0000</td>\n",
       "    </tr>\n",
       "    <tr>\n",
       "      <th>4</th>\n",
       "      <td>5001713</td>\n",
       "      <td>0</td>\n",
       "      <td>21</td>\n",
       "      <td>10.5</td>\n",
       "      <td>231.0</td>\n",
       "      <td>3</td>\n",
       "      <td>3.0000</td>\n",
       "      <td>3</td>\n",
       "      <td>66</td>\n",
       "      <td>0.5033</td>\n",
       "      <td>11.0724</td>\n",
       "      <td>0.1364</td>\n",
       "    </tr>\n",
       "  </tbody>\n",
       "</table>\n",
       "</div>"
      ],
      "text/plain": [
       "   SK_ID_BUREAU  BUREAU_BALANCE_MONTHS_BALANCE_MIN  BUREAU_BALANCE_MONTHS_BALANCE_MAX  BUREAU_BALANCE_MONTHS_BALANCE_MEAN  BUREAU_BALANCE_MONTHS_BALANCE_SUM  BUREAU_BALANCE_STATUS_MAX  BUREAU_BALANCE_STATUS_MEAN  BUREAU_BALANCE_STATUS_LAST  BUREAU_BALANCE_STATUS_SUM  \\\n",
       "0       5001709                                  0                                 96                                48.0                             4656.0                          3                      0.3402                           3                         33   \n",
       "1       5001710                                  0                                 82                                41.0                             3403.0                          3                      1.0843                           3                         90   \n",
       "2       5001711                                  0                                  3                                 1.5                                6.0                          3                      0.7500                           0                          3   \n",
       "3       5001712                                  0                                 18                                 9.0                              171.0                          0                      0.0000                           0                          0   \n",
       "4       5001713                                  0                                 21                                10.5                              231.0                          3                      3.0000                           3                         66   \n",
       "\n",
       "   BUREAU_BALANCE_STATUS_MONTHS_RATIO_MEAN  BUREAU_BALANCE_STATUS_MONTHS_RATIO_SUM  BUREAU_BALANCE_STATUS_MONTHS_RATIO_LAST  \n",
       "0                                   0.0037                                  0.3591                                   0.0309  \n",
       "1                                   0.0161                                  1.3399                                   0.0361  \n",
       "2                                   0.7500                                  3.0000                                   0.0000  \n",
       "3                                   0.0000                                  0.0000                                   0.0000  \n",
       "4                                   0.5033                                 11.0724                                   0.1364  "
      ]
     },
     "execution_count": 38,
     "metadata": {},
     "output_type": "execute_result"
    }
   ],
   "source": [
    "# Ajout des variables de statistiques\n",
    "dico_agg_bal = {'MONTHS_BALANCE': ['min', 'max', 'mean', 'sum'],\n",
    "                'STATUS': ['max', 'mean', 'last','sum'],\n",
    "                'STATUS_MONTHS_RATIO' : ['mean', 'sum', 'last']\n",
    "}\n",
    "\n",
    "agg_bureau_balance = \\\n",
    "    outils_preprocessing.agg_var_num(bureau_balance, 'SK_ID_BUREAU',\n",
    "                                     dico_agg_bal, 'BUREAU_BALANCE')\n",
    "print(f'{agg_bureau_balance.shape}')\n",
    "agg_bureau_balance.head()"
   ]
  },
  {
   "cell_type": "code",
   "execution_count": 44,
   "id": "a4d3bcce",
   "metadata": {},
   "outputs": [
    {
     "name": "stdout",
     "output_type": "stream",
     "text": [
      "Valeurs manquantes : 0 NaN pour 9808740 données (0.0 %)\n"
     ]
    }
   ],
   "source": [
    "# Valeurs manquantes ?\n",
    "outils_data.get_missing_values(agg_bureau_balance, False, False, False)"
   ]
  },
  {
   "cell_type": "code",
   "execution_count": 40,
   "id": "da990de4",
   "metadata": {
    "run_control": {
     "marked": false
    }
   },
   "outputs": [
    {
     "name": "stdout",
     "output_type": "stream",
     "text": [
      "-------------------------------------------------------------------------------\n",
      "Memory usage du dataframe: 63.92 MB\n",
      "Memory usage après optimization: 17.15 MB\n",
      "Diminution de 73.2%\n",
      "-------------------------------------------------------------------------------\n"
     ]
    }
   ],
   "source": [
    "# Réduction de l'utilisation de la mémoire\n",
    "agg_bureau_balance =\\\n",
    "    outils_preprocessing.reduce_mem_usage(agg_bureau_balance,\n",
    "                                          verbose=True)"
   ]
  },
  {
   "cell_type": "code",
   "execution_count": null,
   "id": "217244dd",
   "metadata": {},
   "outputs": [],
   "source": []
  },
  {
   "cell_type": "code",
   "execution_count": null,
   "id": "bf1deffb",
   "metadata": {},
   "outputs": [],
   "source": []
  },
  {
   "cell_type": "code",
   "execution_count": null,
   "id": "022f785b",
   "metadata": {},
   "outputs": [],
   "source": []
  },
  {
   "cell_type": "code",
   "execution_count": null,
   "id": "0ba16ff3",
   "metadata": {},
   "outputs": [],
   "source": []
  },
  {
   "cell_type": "code",
   "execution_count": null,
   "id": "7992147c",
   "metadata": {},
   "outputs": [],
   "source": []
  },
  {
   "cell_type": "code",
   "execution_count": null,
   "id": "d6e2df8f",
   "metadata": {},
   "outputs": [],
   "source": []
  },
  {
   "cell_type": "code",
   "execution_count": null,
   "id": "80c3d216",
   "metadata": {},
   "outputs": [],
   "source": []
  },
  {
   "cell_type": "code",
   "execution_count": null,
   "id": "baabc9db",
   "metadata": {},
   "outputs": [],
   "source": []
  }
 ],
 "metadata": {
  "kernelspec": {
   "display_name": "Python 3",
   "language": "python",
   "name": "python3"
  },
  "language_info": {
   "codemirror_mode": {
    "name": "ipython",
    "version": 3
   },
   "file_extension": ".py",
   "mimetype": "text/x-python",
   "name": "python",
   "nbconvert_exporter": "python",
   "pygments_lexer": "ipython3",
   "version": "3.8.8"
  }
 },
 "nbformat": 4,
 "nbformat_minor": 5
}
